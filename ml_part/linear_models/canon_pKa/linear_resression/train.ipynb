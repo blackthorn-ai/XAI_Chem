{
 "cells": [
  {
   "cell_type": "code",
   "execution_count": 1,
   "metadata": {},
   "outputs": [],
   "source": [
    "from sklearn.metrics import mean_absolute_error\n",
    "from sklearn.metrics import mean_squared_error\n",
    "from sklearn.metrics import r2_score\n",
    "\n",
    "def calculate_metrics(true_values, pred_values):\n",
    "    mse = round(mean_squared_error(true_values, pred_values),3)\n",
    "    mae = round(mean_absolute_error(true_values, pred_values),3)\n",
    "    r_score = round(r2_score(true_values, pred_values),3)\n",
    "\n",
    "    return {\"mse\": mse,\n",
    "            \"mae\": mae,\n",
    "            \"r^2\": r_score,}"
   ]
  },
  {
   "cell_type": "code",
   "execution_count": 2,
   "metadata": {},
   "outputs": [],
   "source": [
    "PKA_FEATURES = ['RPCS', 'angle_R1X1R2', 'angle_X2X1R1', 'angle_X1X2R2', 'angle_R2X2R1', \n",
    "                'distance_between_atoms_in_cycle_and_f_group', \n",
    "                'distance_between_atoms_in_f_group_centers', 'PBF', 'mol_weight', 'dipole_moment', 'PPSA5',\n",
    "                'avg_atoms_in_cycle', 'nHRing', 'cis/trans', 'FPSA3', 'nF', 'chirality',\n",
    "                'sasa', 'PNSA5', 'GeomShapeIndex', 'TASA', 'mol_num_cycles',\n",
    "                'f_freedom', 'nFRing', 'identificator', 'nO', 'nARing', 'nC', 'nFHRing',\n",
    "                'f_to_fg']"
   ]
  },
  {
   "cell_type": "code",
   "execution_count": 5,
   "metadata": {},
   "outputs": [],
   "source": [
    "import pandas as pd\n",
    "\n",
    "train = pd.read_csv(r'C:\\work\\DrugDiscovery\\main_git\\XAI_Chem\\data\\pKA_logP_minmaxscaler_canon_smiles\\pKa\\train_pka_minmax_only_non_categorizal_features_scaled.csv', index_col=0)\n",
    "\n",
    "y = train['pKa']\n",
    "X=train[PKA_FEATURES]\n",
    "\n",
    "test = pd.read_csv(r'C:\\work\\DrugDiscovery\\main_git\\XAI_Chem\\data\\pKA_logP_minmaxscaler_canon_smiles\\pKa\\test_pka_minmax_only_non_categorizal_features_scaled.csv', index_col=0)\n",
    "y_test = test['pKa']\n",
    "X_test = test[PKA_FEATURES]"
   ]
  },
  {
   "cell_type": "code",
   "execution_count": 7,
   "metadata": {},
   "outputs": [],
   "source": [
    "cv_indices_dict = {0: [], 1: []}\n",
    "index = 0\n",
    "for _, row in train.iterrows():\n",
    "    cv_indices_dict[row['fold_id']].append(index)\n",
    "    index += 1\n",
    "cv_indices = [[cv_indices_dict[0], cv_indices_dict[1]], [cv_indices_dict[1], cv_indices_dict[0]]]"
   ]
  },
  {
   "cell_type": "code",
   "execution_count": 8,
   "metadata": {},
   "outputs": [
    {
     "name": "stdout",
     "output_type": "stream",
     "text": [
      "OOS: {'mse': 0.785, 'mae': 0.719, 'r^2': 0.879}\n",
      "Train: {'mse': 0.288, 'mae': 0.438, 'r^2': 0.956}\n",
      "OOS: {'mse': 0.797, 'mae': 0.718, 'r^2': 0.856}\n",
      "Train: {'mse': 0.235, 'mae': 0.36, 'r^2': 0.962}\n"
     ]
    }
   ],
   "source": [
    "from sklearn import linear_model\n",
    "\n",
    "amount_of_cv = 2\n",
    "for cv_number in range(amount_of_cv):\n",
    "    cv_X_train = X.iloc[cv_indices[cv_number][0]]\n",
    "    cv_y_train = y.iloc[cv_indices[cv_number][0]]\n",
    "\n",
    "    cv_X_test = X.iloc[cv_indices[cv_number][1]]\n",
    "    cv_y_test = y.iloc[cv_indices[cv_number][1]]\n",
    "\n",
    "    regr = linear_model.LinearRegression()\n",
    "\n",
    "    regr.fit(cv_X_train, cv_y_train)\n",
    "\n",
    "    y_pred = regr.predict(cv_X_test)\n",
    "    print(\"OOS:\", calculate_metrics(y_pred, cv_y_test))\n",
    "\n",
    "    y_pred = regr.predict(cv_X_train)\n",
    "    print(\"Train:\", calculate_metrics(y_pred, cv_y_train))"
   ]
  },
  {
   "cell_type": "code",
   "execution_count": 9,
   "metadata": {},
   "outputs": [
    {
     "name": "stdout",
     "output_type": "stream",
     "text": [
      "Test: {'mse': 0.527, 'mae': 0.608, 'r^2': 0.891}\n",
      "Train: {'mse': 0.342, 'mae': 0.475, 'r^2': 0.945}\n"
     ]
    }
   ],
   "source": [
    "from sklearn import linear_model\n",
    "\n",
    "regr = linear_model.LinearRegression()\n",
    "\n",
    "regr.fit(X, y)\n",
    "\n",
    "y_pred = regr.predict(X_test)\n",
    "\n",
    "print(\"Test:\", calculate_metrics(y_pred, y_test))\n",
    "\n",
    "y_pred = regr.predict(X)\n",
    "print(\"Train:\", calculate_metrics(y_pred, y))"
   ]
  }
 ],
 "metadata": {
  "kernelspec": {
   "display_name": "drug-discovery-venv",
   "language": "python",
   "name": "python3"
  },
  "language_info": {
   "codemirror_mode": {
    "name": "ipython",
    "version": 3
   },
   "file_extension": ".py",
   "mimetype": "text/x-python",
   "name": "python",
   "nbconvert_exporter": "python",
   "pygments_lexer": "ipython3",
   "version": "3.11.9"
  }
 },
 "nbformat": 4,
 "nbformat_minor": 2
}
