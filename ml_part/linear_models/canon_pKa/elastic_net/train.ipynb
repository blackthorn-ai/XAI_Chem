{
 "cells": [
  {
   "cell_type": "markdown",
   "metadata": {},
   "source": [
    "**PKA**"
   ]
  },
  {
   "cell_type": "markdown",
   "metadata": {},
   "source": [
    "**NORMAL**"
   ]
  },
  {
   "cell_type": "code",
   "execution_count": 38,
   "metadata": {},
   "outputs": [],
   "source": [
    "PKA_FEATURES = ['RPCS', 'angle_R1X1R2', 'angle_X2X1R1', 'angle_X1X2R2', 'angle_R2X2R1', \n",
    "                'distance_between_atoms_in_cycle_and_f_group', \n",
    "                'distance_between_atoms_in_f_group_centers', 'PBF', 'mol_weight', 'dipole_moment', 'PPSA5',\n",
    "                'avg_atoms_in_cycle', 'nHRing', 'cis/trans', 'FPSA3', 'nF', 'chirality',\n",
    "                'sasa', 'PNSA5', 'GeomShapeIndex', 'TASA', 'mol_num_cycles',\n",
    "                'f_freedom', 'nFRing', 'identificator', 'nO', 'nARing', 'nC', 'nFHRing',\n",
    "                'f_to_fg']"
   ]
  },
  {
   "cell_type": "code",
   "execution_count": 39,
   "metadata": {},
   "outputs": [],
   "source": [
    "import pandas as pd\n",
    "\n",
    "train = pd.read_csv(r'C:\\work\\DrugDiscovery\\main_git\\XAI_Chem\\data\\updated_features\\csv_for_rulefit\\train_pKa_v5_features_canon_smiles.csv', index_col=0)\n",
    "\n",
    "y = train['pKa']\n",
    "X=train[PKA_FEATURES]\n",
    "\n",
    "test = pd.read_csv(r'C:\\work\\DrugDiscovery\\main_git\\XAI_Chem\\data\\updated_features\\csv_for_rulefit\\test_pKa_v5_features_canon_smiles.csv', index_col=0)"
   ]
  },
  {
   "cell_type": "code",
   "execution_count": 40,
   "metadata": {},
   "outputs": [],
   "source": [
    "cv_indices_dict = {0: [], 1: []}\n",
    "index = 0\n",
    "for _, row in train.iterrows():\n",
    "    cv_indices_dict[row['fold_id']].append(index)\n",
    "    index += 1\n",
    "cv_indices = [[cv_indices_dict[0], cv_indices_dict[1]], [cv_indices_dict[1], cv_indices_dict[0]]]"
   ]
  },
  {
   "cell_type": "code",
   "execution_count": 42,
   "metadata": {},
   "outputs": [
    {
     "name": "stdout",
     "output_type": "stream",
     "text": [
      "=========pKa=========\n",
      "R^2 = 0.878\n",
      "MAE =  0.691\n",
      "MSE =  0.7\n",
      "=========pKa=========\n",
      "R^2 = 0.896\n",
      "MAE =  0.68\n",
      "MSE =  0.686\n"
     ]
    }
   ],
   "source": [
    "from sklearn.linear_model import ElasticNetCV\n",
    "from sklearn.metrics import r2_score\n",
    "import pandas as pd\n",
    "from sklearn.metrics import mean_absolute_error as mae\n",
    "from sklearn.metrics import mean_squared_error as mse\n",
    "\n",
    "train = pd.read_csv(r'C:\\work\\DrugDiscovery\\main_git\\XAI_Chem\\data\\updated_features\\csv_for_rulefit\\train_pKa_v5_features_canon_smiles.csv', index_col=0)\n",
    "y = train['pKa']\n",
    "X=train.drop(['pKa', 'fold_id'], axis=1)\n",
    "\n",
    "regr = ElasticNetCV(cv=cv_indices, random_state=0, max_iter=20000, n_alphas=1000)\n",
    "regr.fit(X, y)\n",
    "test = pd.read_csv(r'C:\\work\\DrugDiscovery\\main_git\\XAI_Chem\\data\\updated_features\\csv_for_rulefit\\test_pKa_v5_features_canon_smiles.csv', index_col=0)\n",
    "def metrics(test, feature):\n",
    "    y_pred = regr.predict(test.drop([feature], axis=1))\n",
    "    r2 = r2_score(y_pred=y_pred, y_true = test[feature])\n",
    "    print(f'=========%s========='%(feature))\n",
    "    print('R^2 = '+str(round(r2, 3)))\n",
    "    print('MAE = ', round(mae(y_true = test[feature], y_pred=y_pred), 3))\n",
    "    print('MSE = ', round(mse(y_true = test[feature], y_pred=y_pred), 3))\n",
    "metrics(test, 'pKa')\n",
    "regr.score(X, y)\n",
    "metrics(train.drop('fold_id', axis=1), 'pKa')"
   ]
  },
  {
   "cell_type": "code",
   "execution_count": 43,
   "metadata": {},
   "outputs": [
    {
     "name": "stdout",
     "output_type": "stream",
     "text": [
      "{'mse': 0.868, 'mae': 0.757, 'r^2': 0.868}\n",
      "=========pKa=========\n",
      "R^2 = 0.878\n",
      "MAE =  0.691\n",
      "MSE =  0.7\n",
      "Train\n",
      "=========pKa=========\n",
      "R^2 = 0.896\n",
      "MAE =  0.68\n",
      "MSE =  0.686\n"
     ]
    }
   ],
   "source": [
    "from sklearn.datasets import make_regression\n",
    "from sklearn.linear_model import ElasticNetCV\n",
    "from sklearn.model_selection import cross_val_predict\n",
    "from sklearn.metrics import r2_score, mean_absolute_error\n",
    "\n",
    "from sklearn.metrics import mean_absolute_error\n",
    "from sklearn.metrics import mean_squared_error\n",
    "from sklearn.metrics import r2_score\n",
    "from math import sqrt\n",
    "\n",
    "def calculate_metrics(true_values, pred_values):\n",
    "    mse = round(mean_squared_error(true_values, pred_values),3)\n",
    "    mae = round(mean_absolute_error(true_values, pred_values),3)\n",
    "    r_score = round(r2_score(true_values, pred_values),3)\n",
    "\n",
    "    return {\"mse\": mse,\n",
    "            \"mae\": mae,\n",
    "            \"r^2\": r_score,}\n",
    "\n",
    "# Initialize ElasticNetCV\n",
    "model = ElasticNetCV(cv=2, random_state=0, max_iter=20000, n_alphas=1000)\n",
    "\n",
    "# Fit the model\n",
    "model.fit(X, y)\n",
    "\n",
    "# Get cross-validated predictions\n",
    "y_pred_cv = cross_val_predict(model, X, y, cv=cv_indices)\n",
    "\n",
    "print(calculate_metrics(true_values=y, pred_values=y_pred_cv))\n",
    "\n",
    "def metrics(test, feature):\n",
    "    y_pred = model.predict(test.drop([feature], axis=1))\n",
    "    r2 = r2_score(y_pred=y_pred, y_true = test[feature])\n",
    "    print(f'=========%s========='%(feature))\n",
    "    print('R^2 = '+str(round(r2, 3)))\n",
    "    print('MAE = ', round(mae(y_true = test[feature], y_pred=y_pred), 3))\n",
    "    print('MSE = ', round(mse(y_true = test[feature], y_pred=y_pred), 3))\n",
    "metrics(test, 'pKa')\n",
    "model.score(X, y)\n",
    "print(\"Train\")\n",
    "metrics(train.drop('fold_id', axis=1), 'pKa')"
   ]
  },
  {
   "cell_type": "markdown",
   "metadata": {},
   "source": [
    "**MINMAX scaler**"
   ]
  },
  {
   "cell_type": "code",
   "execution_count": 25,
   "metadata": {},
   "outputs": [],
   "source": [
    "PKA_FEATURES = ['RPCS', 'angle_R1X1R2', 'angle_X2X1R1', 'angle_X1X2R2', 'angle_R2X2R1', \n",
    "                'distance_between_atoms_in_cycle_and_f_group', \n",
    "                'distance_between_atoms_in_f_group_centers', 'PBF', 'mol_weight', 'dipole_moment', 'PPSA5',\n",
    "                'avg_atoms_in_cycle', 'nHRing', 'cis/trans', 'FPSA3', 'nF', 'chirality',\n",
    "                'sasa', 'PNSA5', 'GeomShapeIndex', 'TASA', 'mol_num_cycles',\n",
    "                'f_freedom', 'nFRing', 'identificator', 'nO', 'nARing', 'nC', 'nFHRing',\n",
    "                'f_to_fg']"
   ]
  },
  {
   "cell_type": "code",
   "execution_count": 26,
   "metadata": {},
   "outputs": [],
   "source": [
    "import pandas as pd\n",
    "\n",
    "train = pd.read_csv(r'C:\\work\\DrugDiscovery\\main_git\\XAI_Chem\\data\\pKA_logP_minmaxscaler_canon_smiles\\pKa\\train_pka_minmax_only_non_categorizal_features_scaled.csv', index_col=0)\n",
    "\n",
    "y = train['pKa']\n",
    "X=train[PKA_FEATURES]\n",
    "\n",
    "test = pd.read_csv(r'C:\\work\\DrugDiscovery\\main_git\\XAI_Chem\\data\\pKA_logP_minmaxscaler_canon_smiles\\pKa\\test_pka_minmax_only_non_categorizal_features_scaled.csv', index_col=0)"
   ]
  },
  {
   "cell_type": "code",
   "execution_count": 27,
   "metadata": {},
   "outputs": [],
   "source": [
    "cv_indices_dict = {0: [], 1: []}\n",
    "index = 0\n",
    "for _, row in train.iterrows():\n",
    "    cv_indices_dict[row['fold_id']].append(index)\n",
    "    index += 1\n",
    "cv_indices = [[cv_indices_dict[0], cv_indices_dict[1]], [cv_indices_dict[1], cv_indices_dict[0]]]"
   ]
  },
  {
   "cell_type": "code",
   "execution_count": 28,
   "metadata": {},
   "outputs": [
    {
     "name": "stdout",
     "output_type": "stream",
     "text": [
      "=========pKa=========\n",
      "R^2 = 0.903\n",
      "MAE =  0.619\n",
      "MSE =  0.558\n",
      "=========pKa=========\n",
      "R^2 = 0.939\n",
      "MAE =  0.516\n",
      "MSE =  0.404\n"
     ]
    }
   ],
   "source": [
    "from sklearn.linear_model import ElasticNetCV\n",
    "from sklearn.metrics import r2_score\n",
    "import pandas as pd\n",
    "from sklearn.metrics import mean_absolute_error as mae\n",
    "from sklearn.metrics import mean_squared_error as mse\n",
    "\n",
    "train = pd.read_csv(r'C:\\work\\DrugDiscovery\\main_git\\XAI_Chem\\data\\pKA_logP_minmaxscaler_canon_smiles\\pKa\\train_pka_minmax_only_non_categorizal_features_scaled.csv', index_col=0)\n",
    "y = train['pKa']\n",
    "X=train.drop(['pKa', 'fold_id'], axis=1)\n",
    "\n",
    "regr = ElasticNetCV(cv=cv_indices, random_state=0, max_iter=20000, n_alphas=1000)\n",
    "regr.fit(X, y)\n",
    "test = pd.read_csv(r'C:\\work\\DrugDiscovery\\main_git\\XAI_Chem\\data\\pKA_logP_minmaxscaler_canon_smiles\\pKa\\test_pka_minmax_only_non_categorizal_features_scaled.csv', index_col=0)\n",
    "\n",
    "def metrics(test, feature):\n",
    "    y_pred = regr.predict(test.drop([feature], axis=1))\n",
    "    r2 = r2_score(y_pred=y_pred, y_true = test[feature])\n",
    "    print(f'=========%s========='%(feature))\n",
    "    print('R^2 = '+str(round(r2, 3)))\n",
    "    print('MAE = ', round(mae(y_true = test[feature], y_pred=y_pred), 3))\n",
    "    print('MSE = ', round(mse(y_true = test[feature], y_pred=y_pred), 3))\n",
    "metrics(test, 'pKa')\n",
    "regr.score(X, y)\n",
    "metrics(train.drop('fold_id', axis=1), 'pKa')"
   ]
  },
  {
   "cell_type": "code",
   "execution_count": 29,
   "metadata": {},
   "outputs": [
    {
     "name": "stdout",
     "output_type": "stream",
     "text": [
      "{'mse': 1.472, 'mae': 1.099, 'r^2': 0.777}\n",
      "=========pKa=========\n",
      "R^2 = 0.85\n",
      "MAE =  0.801\n",
      "MSE =  0.86\n",
      "Train\n",
      "=========pKa=========\n",
      "R^2 = 0.852\n",
      "MAE =  0.847\n",
      "MSE =  0.978\n"
     ]
    }
   ],
   "source": [
    "from sklearn.datasets import make_regression\n",
    "from sklearn.linear_model import ElasticNetCV\n",
    "from sklearn.model_selection import cross_val_predict\n",
    "from sklearn.metrics import r2_score, mean_absolute_error\n",
    "\n",
    "from sklearn.metrics import mean_absolute_error\n",
    "from sklearn.metrics import mean_squared_error\n",
    "from sklearn.metrics import r2_score\n",
    "from math import sqrt\n",
    "\n",
    "def calculate_metrics(true_values, pred_values):\n",
    "    mse = round(mean_squared_error(true_values, pred_values),3)\n",
    "    mae = round(mean_absolute_error(true_values, pred_values),3)\n",
    "    r_score = round(r2_score(true_values, pred_values),3)\n",
    "\n",
    "    return {\"mse\": mse,\n",
    "            \"mae\": mae,\n",
    "            \"r^2\": r_score,}\n",
    "\n",
    "# Initialize ElasticNetCV\n",
    "model = ElasticNetCV(cv=2, random_state=0, max_iter=20000, n_alphas=1000)\n",
    "\n",
    "# Fit the model\n",
    "model.fit(X, y)\n",
    "\n",
    "# Get cross-validated predictions\n",
    "y_pred_cv = cross_val_predict(model, X, y, cv=cv_indices)\n",
    "\n",
    "print(calculate_metrics(true_values=y, pred_values=y_pred_cv))\n",
    "\n",
    "def metrics(test, feature):\n",
    "    y_pred = model.predict(test.drop([feature], axis=1))\n",
    "    r2 = r2_score(y_pred=y_pred, y_true = test[feature])\n",
    "    print(f'=========%s========='%(feature))\n",
    "    print('R^2 = '+str(round(r2, 3)))\n",
    "    print('MAE = ', round(mae(y_true = test[feature], y_pred=y_pred), 3))\n",
    "    print('MSE = ', round(mse(y_true = test[feature], y_pred=y_pred), 3))\n",
    "metrics(test, 'pKa')\n",
    "model.score(X, y)\n",
    "print(\"Train\")\n",
    "metrics(train.drop('fold_id', axis=1), 'pKa')"
   ]
  },
  {
   "cell_type": "markdown",
   "metadata": {},
   "source": [
    "**MINMAX scaler**"
   ]
  },
  {
   "cell_type": "code",
   "execution_count": 30,
   "metadata": {},
   "outputs": [],
   "source": [
    "import pandas as pd\n",
    "\n",
    "train = pd.read_csv(r'C:\\work\\DrugDiscovery\\main_git\\XAI_Chem\\data\\pKA_logP_minmaxscaler_canon_smiles\\pKa\\train_pka_standart_scaler_non_categorizal_features_scaled.csv', index_col=0)\n",
    "\n",
    "y = train['pKa']\n",
    "X=train[PKA_FEATURES]\n",
    "\n",
    "test = pd.read_csv(r'C:\\work\\DrugDiscovery\\main_git\\XAI_Chem\\data\\pKA_logP_minmaxscaler_canon_smiles\\pKa\\test_pka_standart_scaler_non_categorizal_features_scaled.csv', index_col=0)"
   ]
  },
  {
   "cell_type": "code",
   "execution_count": 31,
   "metadata": {},
   "outputs": [],
   "source": [
    "cv_indices_dict = {0: [], 1: []}\n",
    "index = 0\n",
    "for _, row in train.iterrows():\n",
    "    cv_indices_dict[row['fold_id']].append(index)\n",
    "    index += 1\n",
    "cv_indices = [[cv_indices_dict[0], cv_indices_dict[1]], [cv_indices_dict[1], cv_indices_dict[0]]]"
   ]
  },
  {
   "cell_type": "code",
   "execution_count": 32,
   "metadata": {},
   "outputs": [
    {
     "name": "stdout",
     "output_type": "stream",
     "text": [
      "{'mse': 0.674, 'mae': 0.66, 'r^2': 0.898}\n",
      "=========pKa=========\n",
      "R^2 = 0.85\n",
      "MAE =  0.8\n",
      "MSE =  0.86\n",
      "Train\n",
      "=========pKa=========\n",
      "R^2 = 0.852\n",
      "MAE =  0.847\n",
      "MSE =  0.978\n"
     ]
    }
   ],
   "source": [
    "from sklearn.datasets import make_regression\n",
    "from sklearn.linear_model import ElasticNetCV\n",
    "from sklearn.model_selection import cross_val_predict\n",
    "from sklearn.metrics import r2_score, mean_absolute_error\n",
    "\n",
    "from sklearn.metrics import mean_absolute_error\n",
    "from sklearn.metrics import mean_squared_error\n",
    "from sklearn.metrics import r2_score\n",
    "from math import sqrt\n",
    "\n",
    "def calculate_metrics(true_values, pred_values):\n",
    "    mse = round(mean_squared_error(true_values, pred_values),3)\n",
    "    mae = round(mean_absolute_error(true_values, pred_values),3)\n",
    "    r_score = round(r2_score(true_values, pred_values),3)\n",
    "\n",
    "    return {\"mse\": mse,\n",
    "            \"mae\": mae,\n",
    "            \"r^2\": r_score,}\n",
    "\n",
    "train = pd.read_csv(r'C:\\work\\DrugDiscovery\\main_git\\XAI_Chem\\data\\pKA_logP_minmaxscaler_canon_smiles\\pKa\\train_pka_standart_scaler_non_categorizal_features_scaled.csv', index_col=0)\n",
    "y = train['pKa']\n",
    "X=train.drop(['pKa', 'fold_id'], axis=1)\n",
    "\n",
    "regr = ElasticNetCV(cv=cv_indices, random_state=0, max_iter=20000, n_alphas=1000)\n",
    "regr.fit(X, y)\n",
    "test = pd.read_csv(r'C:\\work\\DrugDiscovery\\main_git\\XAI_Chem\\data\\pKA_logP_minmaxscaler_canon_smiles\\pKa\\test_pka_standart_scaler_non_categorizal_features_scaled.csv', index_col=0)\n",
    "\n",
    "# Get cross-validated predictions\n",
    "y_pred_cv = cross_val_predict(model, X, y, cv=cv_indices)\n",
    "\n",
    "print(calculate_metrics(true_values=y, pred_values=y_pred_cv))\n",
    "\n",
    "def metrics(test, feature):\n",
    "    y_pred = model.predict(test.drop([feature], axis=1))\n",
    "    r2 = r2_score(y_pred=y_pred, y_true = test[feature])\n",
    "    print(f'=========%s========='%(feature))\n",
    "    print('R^2 = '+str(round(r2, 3)))\n",
    "    print('MAE = ', round(mean_absolute_error(y_true = test[feature], y_pred=y_pred), 3))\n",
    "    print('MSE = ', round(mean_squared_error(y_true = test[feature], y_pred=y_pred), 3))\n",
    "\n",
    "metrics(test, 'pKa')\n",
    "model.score(X, y)\n",
    "\n",
    "print(\"Train\")\n",
    "metrics(train.drop('fold_id', axis=1), 'pKa')"
   ]
  },
  {
   "cell_type": "code",
   "execution_count": 33,
   "metadata": {},
   "outputs": [
    {
     "name": "stdout",
     "output_type": "stream",
     "text": [
      "CV:\n",
      "Train: {'mse': 0.351, 'mae': 0.481, 'r^2': 0.948}\n",
      "OOS: {'mse': 0.462, 'mae': 0.561, 'r^2': 0.928}\n",
      "Train: {'mse': 0.457, 'mae': 0.56, 'r^2': 0.928}\n",
      "OOS: {'mse': 0.889, 'mae': 0.759, 'r^2': 0.869}\n"
     ]
    }
   ],
   "source": [
    "from sklearn.datasets import make_regression\n",
    "from sklearn.linear_model import ElasticNetCV\n",
    "from sklearn.model_selection import cross_val_predict\n",
    "from sklearn.metrics import r2_score, mean_absolute_error\n",
    "\n",
    "from sklearn.metrics import mean_absolute_error\n",
    "from sklearn.metrics import mean_squared_error\n",
    "from sklearn.metrics import r2_score\n",
    "from math import sqrt\n",
    "\n",
    "def calculate_metrics(true_values, pred_values):\n",
    "    mse = round(mean_squared_error(true_values, pred_values),3)\n",
    "    mae = round(mean_absolute_error(true_values, pred_values),3)\n",
    "    r_score = round(r2_score(true_values, pred_values),3)\n",
    "\n",
    "    return {\"mse\": mse,\n",
    "            \"mae\": mae,\n",
    "            \"r^2\": r_score,}\n",
    "\n",
    "# Initialize ElasticNetCV\n",
    "model = ElasticNetCV(cv=2, random_state=0, max_iter=20000, n_alphas=1000)\n",
    "\n",
    "print(\"CV:\")\n",
    "amount_of_cv = 2\n",
    "for cv_index in range(amount_of_cv):\n",
    "    X_train_cv = X.iloc[cv_indices[cv_index][0]]\n",
    "    y_train_cv = y.iloc[cv_indices[cv_index][0]]\n",
    "\n",
    "    model.fit(X_train_cv, y_train_cv)\n",
    "    y_pred_train = model.predict(X_train_cv)\n",
    "\n",
    "    X_test_cv = X.iloc[cv_indices[cv_index][1]]\n",
    "    y_test_cv = y.iloc[cv_indices[cv_index][1]]\n",
    "\n",
    "    y_pred = model.predict(X_test_cv)\n",
    "\n",
    "    print(\"Train:\", calculate_metrics(true_values=y_train_cv, pred_values=y_pred_train))\n",
    "    print(\"OOS:\", calculate_metrics(true_values=y_test_cv, pred_values=y_pred))"
   ]
  },
  {
   "cell_type": "code",
   "execution_count": 34,
   "metadata": {},
   "outputs": [
    {
     "data": {
      "text/html": [
       "<style>#sk-container-id-1 {color: black;}#sk-container-id-1 pre{padding: 0;}#sk-container-id-1 div.sk-toggleable {background-color: white;}#sk-container-id-1 label.sk-toggleable__label {cursor: pointer;display: block;width: 100%;margin-bottom: 0;padding: 0.3em;box-sizing: border-box;text-align: center;}#sk-container-id-1 label.sk-toggleable__label-arrow:before {content: \"▸\";float: left;margin-right: 0.25em;color: #696969;}#sk-container-id-1 label.sk-toggleable__label-arrow:hover:before {color: black;}#sk-container-id-1 div.sk-estimator:hover label.sk-toggleable__label-arrow:before {color: black;}#sk-container-id-1 div.sk-toggleable__content {max-height: 0;max-width: 0;overflow: hidden;text-align: left;background-color: #f0f8ff;}#sk-container-id-1 div.sk-toggleable__content pre {margin: 0.2em;color: black;border-radius: 0.25em;background-color: #f0f8ff;}#sk-container-id-1 input.sk-toggleable__control:checked~div.sk-toggleable__content {max-height: 200px;max-width: 100%;overflow: auto;}#sk-container-id-1 input.sk-toggleable__control:checked~label.sk-toggleable__label-arrow:before {content: \"▾\";}#sk-container-id-1 div.sk-estimator input.sk-toggleable__control:checked~label.sk-toggleable__label {background-color: #d4ebff;}#sk-container-id-1 div.sk-label input.sk-toggleable__control:checked~label.sk-toggleable__label {background-color: #d4ebff;}#sk-container-id-1 input.sk-hidden--visually {border: 0;clip: rect(1px 1px 1px 1px);clip: rect(1px, 1px, 1px, 1px);height: 1px;margin: -1px;overflow: hidden;padding: 0;position: absolute;width: 1px;}#sk-container-id-1 div.sk-estimator {font-family: monospace;background-color: #f0f8ff;border: 1px dotted black;border-radius: 0.25em;box-sizing: border-box;margin-bottom: 0.5em;}#sk-container-id-1 div.sk-estimator:hover {background-color: #d4ebff;}#sk-container-id-1 div.sk-parallel-item::after {content: \"\";width: 100%;border-bottom: 1px solid gray;flex-grow: 1;}#sk-container-id-1 div.sk-label:hover label.sk-toggleable__label {background-color: #d4ebff;}#sk-container-id-1 div.sk-serial::before {content: \"\";position: absolute;border-left: 1px solid gray;box-sizing: border-box;top: 0;bottom: 0;left: 50%;z-index: 0;}#sk-container-id-1 div.sk-serial {display: flex;flex-direction: column;align-items: center;background-color: white;padding-right: 0.2em;padding-left: 0.2em;position: relative;}#sk-container-id-1 div.sk-item {position: relative;z-index: 1;}#sk-container-id-1 div.sk-parallel {display: flex;align-items: stretch;justify-content: center;background-color: white;position: relative;}#sk-container-id-1 div.sk-item::before, #sk-container-id-1 div.sk-parallel-item::before {content: \"\";position: absolute;border-left: 1px solid gray;box-sizing: border-box;top: 0;bottom: 0;left: 50%;z-index: -1;}#sk-container-id-1 div.sk-parallel-item {display: flex;flex-direction: column;z-index: 1;position: relative;background-color: white;}#sk-container-id-1 div.sk-parallel-item:first-child::after {align-self: flex-end;width: 50%;}#sk-container-id-1 div.sk-parallel-item:last-child::after {align-self: flex-start;width: 50%;}#sk-container-id-1 div.sk-parallel-item:only-child::after {width: 0;}#sk-container-id-1 div.sk-dashed-wrapped {border: 1px dashed gray;margin: 0 0.4em 0.5em 0.4em;box-sizing: border-box;padding-bottom: 0.4em;background-color: white;}#sk-container-id-1 div.sk-label label {font-family: monospace;font-weight: bold;display: inline-block;line-height: 1.2em;}#sk-container-id-1 div.sk-label-container {text-align: center;}#sk-container-id-1 div.sk-container {/* jupyter's `normalize.less` sets `[hidden] { display: none; }` but bootstrap.min.css set `[hidden] { display: none !important; }` so we also need the `!important` here to be able to override the default hidden behavior on the sphinx rendered scikit-learn.org. See: https://github.com/scikit-learn/scikit-learn/issues/21755 */display: inline-block !important;position: relative;}#sk-container-id-1 div.sk-text-repr-fallback {display: none;}</style><div id=\"sk-container-id-1\" class=\"sk-top-container\"><div class=\"sk-text-repr-fallback\"><pre>ElasticNetCV(cv=2, max_iter=20000, n_alphas=1000, random_state=0)</pre><b>In a Jupyter environment, please rerun this cell to show the HTML representation or trust the notebook. <br />On GitHub, the HTML representation is unable to render, please try loading this page with nbviewer.org.</b></div><div class=\"sk-container\" hidden><div class=\"sk-item\"><div class=\"sk-estimator sk-toggleable\"><input class=\"sk-toggleable__control sk-hidden--visually\" id=\"sk-estimator-id-1\" type=\"checkbox\" checked><label for=\"sk-estimator-id-1\" class=\"sk-toggleable__label sk-toggleable__label-arrow\">ElasticNetCV</label><div class=\"sk-toggleable__content\"><pre>ElasticNetCV(cv=2, max_iter=20000, n_alphas=1000, random_state=0)</pre></div></div></div></div></div>"
      ],
      "text/plain": [
       "ElasticNetCV(cv=2, max_iter=20000, n_alphas=1000, random_state=0)"
      ]
     },
     "execution_count": 34,
     "metadata": {},
     "output_type": "execute_result"
    }
   ],
   "source": [
    "model"
   ]
  },
  {
   "cell_type": "markdown",
   "metadata": {},
   "source": [
    "NORMAL:\n",
    "{'mse': 0.868, 'mae': 0.757, 'r^2': 0.868}\n",
    "=========pKa=========\n",
    "R^2 = 0.878\n",
    "MAE =  0.691\n",
    "MSE =  0.7\n",
    "Train\n",
    "=========pKa=========\n",
    "R^2 = 0.896\n",
    "MAE =  0.68\n",
    "MSE =  0.686\n",
    "\n",
    "\n",
    "\n",
    "MINMAX:\n",
    "{'mse': 1.472, 'mae': 1.099, 'r^2': 0.777}\n",
    "=========pKa=========\n",
    "R^2 = 0.85\n",
    "MAE =  0.801\n",
    "MSE =  0.86\n",
    "Train\n",
    "=========pKa=========\n",
    "R^2 = 0.852\n",
    "MAE =  0.847\n",
    "MSE =  0.978\n",
    "\n",
    "\n",
    "\n",
    "\n",
    "STANDART SCALER:\n",
    "{'mse': 0.674, 'mae': 0.66, 'r^2': 0.898}\n",
    "=========pKa=========\n",
    "R^2 = 0.85\n",
    "MAE =  0.8\n",
    "MSE =  0.86\n",
    "Train\n",
    "=========pKa=========\n",
    "R^2 = 0.852\n",
    "MAE =  0.847\n",
    "MSE =  0.978"
   ]
  }
 ],
 "metadata": {
  "kernelspec": {
   "display_name": "dgl-cuda-env",
   "language": "python",
   "name": "python3"
  },
  "language_info": {
   "codemirror_mode": {
    "name": "ipython",
    "version": 3
   },
   "file_extension": ".py",
   "mimetype": "text/x-python",
   "name": "python",
   "nbconvert_exporter": "python",
   "pygments_lexer": "ipython3",
   "version": "3.11.7"
  }
 },
 "nbformat": 4,
 "nbformat_minor": 2
}
