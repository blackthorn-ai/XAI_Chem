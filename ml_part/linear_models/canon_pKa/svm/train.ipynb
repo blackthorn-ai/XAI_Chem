{
 "cells": [
  {
   "cell_type": "markdown",
   "metadata": {},
   "source": [
    "pKa"
   ]
  },
  {
   "cell_type": "markdown",
   "metadata": {},
   "source": [
    "MINMAX scaler"
   ]
  },
  {
   "cell_type": "code",
   "execution_count": 54,
   "metadata": {},
   "outputs": [],
   "source": [
    "import pandas as pd\n",
    "\n",
    "train = pd.read_csv(r'C:\\work\\DrugDiscovery\\main_git\\XAI_Chem\\data\\pKA_logP_minmaxscaler_canon_smiles\\pKa\\train_pka_minmax_only_non_categorizal_features_scaled.csv', index_col=0)\n",
    "\n",
    "y = train['pKa']\n",
    "X = train.drop(['fold_id', 'pKa'], axis=1)\n",
    "\n",
    "test = pd.read_csv(r'C:\\work\\DrugDiscovery\\main_git\\XAI_Chem\\data\\pKA_logP_minmaxscaler_canon_smiles\\pKa\\test_pka_minmax_only_non_categorizal_features_scaled.csv', index_col=0)\n",
    "\n",
    "cv_indices_dict = {0: [], 1: []}\n",
    "index = 0\n",
    "for _, row in train.iterrows():\n",
    "    cv_indices_dict[row['fold_id']].append(index)\n",
    "    index += 1\n",
    "cv_indices = [[cv_indices_dict[0], cv_indices_dict[1]], [cv_indices_dict[1], cv_indices_dict[0]]]"
   ]
  },
  {
   "cell_type": "code",
   "execution_count": 55,
   "metadata": {},
   "outputs": [
    {
     "name": "stdout",
     "output_type": "stream",
     "text": [
      "=========pKa=========\n",
      "R^2 = 0.317\n",
      "MAE =  1.647\n",
      "MSE =  3.914\n",
      "=========pKa=========\n",
      "R^2 = 0.387\n",
      "MAE =  1.534\n",
      "MSE =  4.042\n"
     ]
    }
   ],
   "source": [
    "import numpy as np\n",
    "from sklearn.model_selection import cross_validate, cross_val_predict\n",
    "from sklearn import datasets\n",
    "from sklearn import svm\n",
    "\n",
    "from sklearn.metrics import mean_absolute_error\n",
    "from sklearn.metrics import mean_squared_error\n",
    "from sklearn.metrics import r2_score\n",
    "from math import sqrt\n",
    "\n",
    "def metrics(test, feature):\n",
    "    y_pred = regr.predict(test.drop([feature], axis=1))\n",
    "    r2 = r2_score(y_pred=y_pred, y_true = test[feature])\n",
    "    print(f'=========%s========='%(feature))\n",
    "    print('R^2 = '+str(round(r2, 3)))\n",
    "    print('MAE = ', round(mean_absolute_error(y_true = test[feature], y_pred=y_pred), 3))\n",
    "    print('MSE = ', round(mean_squared_error(y_true = test[feature], y_pred=y_pred), 3))\n",
    "\n",
    "regr = svm.SVR(kernel='rbf')\n",
    "scores = cross_validate(regr, X, y, cv=2, groups=train['fold_id'], scoring='r2', return_train_score=True, return_estimator=True)\n",
    "\n",
    "#metrics(test, 'logP')\n",
    "regr = scores['estimator'][1]\n",
    "metrics(test, 'pKa')\n",
    "metrics(train.drop('fold_id', axis=1), 'pKa')"
   ]
  },
  {
   "cell_type": "markdown",
   "metadata": {},
   "source": [
    "STANDART scaler"
   ]
  },
  {
   "cell_type": "code",
   "execution_count": 56,
   "metadata": {},
   "outputs": [],
   "source": [
    "import pandas as pd\n",
    "\n",
    "train = pd.read_csv(r'C:\\work\\DrugDiscovery\\main_git\\XAI_Chem\\data\\pKA_logP_minmaxscaler_canon_smiles\\pKa\\train_pka_standart_scaler_non_categorizal_features_scaled.csv', index_col=0)\n",
    "\n",
    "y = train['pKa']\n",
    "X = train.drop(['fold_id', 'pKa'], axis=1)\n",
    "\n",
    "test = pd.read_csv(r'C:\\work\\DrugDiscovery\\main_git\\XAI_Chem\\data\\pKA_logP_minmaxscaler_canon_smiles\\pKa\\test_pka_standart_scaler_non_categorizal_features_scaled.csv', index_col=0)\n",
    "\n",
    "cv_indices_dict = {0: [], 1: []}\n",
    "index = 0\n",
    "for _, row in train.iterrows():\n",
    "    cv_indices_dict[row['fold_id']].append(index)\n",
    "    index += 1\n",
    "cv_indices = [[cv_indices_dict[0], cv_indices_dict[1]], [cv_indices_dict[1], cv_indices_dict[0]]]"
   ]
  },
  {
   "cell_type": "code",
   "execution_count": 57,
   "metadata": {},
   "outputs": [
    {
     "name": "stdout",
     "output_type": "stream",
     "text": [
      "=========pKa=========\n",
      "R^2 = 0.662\n",
      "MAE =  1.094\n",
      "MSE =  1.938\n",
      "=========pKa=========\n",
      "R^2 = 0.637\n",
      "MAE =  1.094\n",
      "MSE =  2.39\n"
     ]
    }
   ],
   "source": [
    "import numpy as np\n",
    "from sklearn.model_selection import cross_validate, cross_val_predict\n",
    "from sklearn import datasets\n",
    "from sklearn import svm\n",
    "\n",
    "from sklearn.metrics import mean_absolute_error\n",
    "from sklearn.metrics import mean_squared_error\n",
    "from sklearn.metrics import r2_score\n",
    "from math import sqrt\n",
    "\n",
    "def metrics(test, feature):\n",
    "    y_pred = regr.predict(test.drop([feature], axis=1))\n",
    "    r2 = r2_score(y_pred=y_pred, y_true = test[feature])\n",
    "    print(f'=========%s========='%(feature))\n",
    "    print('R^2 = '+str(round(r2, 3)))\n",
    "    print('MAE = ', round(mean_absolute_error(y_true = test[feature], y_pred=y_pred), 3))\n",
    "    print('MSE = ', round(mean_squared_error(y_true = test[feature], y_pred=y_pred), 3))\n",
    "\n",
    "regr = svm.SVR(kernel='rbf')\n",
    "scores = cross_validate(regr, X, y, cv=2, groups=train['fold_id'], scoring='r2', return_train_score=True, return_estimator=True)\n",
    "\n",
    "#metrics(test, 'logP')\n",
    "regr = scores['estimator'][1]\n",
    "metrics(test, 'pKa')\n",
    "metrics(train.drop('fold_id', axis=1), 'pKa')"
   ]
  },
  {
   "cell_type": "markdown",
   "metadata": {},
   "source": [
    "-------------------"
   ]
  },
  {
   "cell_type": "markdown",
   "metadata": {},
   "source": [
    "---------------"
   ]
  },
  {
   "cell_type": "markdown",
   "metadata": {},
   "source": [
    "-----------------"
   ]
  },
  {
   "cell_type": "markdown",
   "metadata": {},
   "source": [
    "PKA CORRECT CV"
   ]
  },
  {
   "cell_type": "code",
   "execution_count": 58,
   "metadata": {},
   "outputs": [
    {
     "name": "stdout",
     "output_type": "stream",
     "text": [
      "  0%|          | 0/1000 [00:00<?, ?trial/s, best loss=?]"
     ]
    },
    {
     "name": "stdout",
     "output_type": "stream",
     "text": [
      "100%|██████████| 1000/1000 [00:42<00:00, 23.38trial/s, best loss: 2.265623889457191]\n",
      "Найкращі гіперпараметри: {'C': 3, 'degree': 6, 'epsilon': 0.36774550650687715}\n",
      "CV TRAIN R^2: 0.9661229878136655, MAE: -0.2907932431347109, MSE: -0.09863543357356083\n",
      "CV TEST R^2: -0.4957604433643936, MAE: -2.327562248176942, MSE: -8.373547778030488\n",
      "{'mse': 0.096, 'mae': 0.289, 'r^2': 0.985}\n"
     ]
    },
    {
     "data": {
      "text/plain": [
       "<__main__.Trainer at 0x1f12ef0a6d0>"
      ]
     },
     "execution_count": 58,
     "metadata": {},
     "output_type": "execute_result"
    }
   ],
   "source": [
    "from functools import partial\n",
    "from sklearn import svm\n",
    "from hyperopt import fmin, tpe, hp\n",
    "\n",
    "crossvals_list = []\n",
    "\n",
    "class Trainer:\n",
    "    def __init__(self) -> None:\n",
    "        self.c_space = [1, 10, 100, 1000]\n",
    "        self.space = {\n",
    "            # 'lr': hp.loguniform('lr', -10, -3),\n",
    "            'degree': hp.randint(\"degree\", 1, 10),\n",
    "            'epsilon': hp.loguniform(\"epsilon\", -15, -1),\n",
    "            'C': hp.choice(\"C\", self.c_space)\n",
    "        }\n",
    "\n",
    "        self.PKA_FEATURES = ['RPCS', 'PBF', 'mol_weight', 'dipole_moment', 'PPSA5',\n",
    "                'avg_atoms_in_cycle', 'nHRing', 'cis/trans', 'FPSA3', 'nF', 'chirality',\n",
    "                'sasa', 'PNSA5', 'GeomShapeIndex', 'TASA', 'mol_num_cycles',\n",
    "                'f_freedom', 'nFRing', 'identificator', 'nO', 'nARing', 'nC', 'nFHRing',\n",
    "                'f_to_fg']\n",
    "\n",
    "        self.train_df = pd.read_csv(r'C:\\work\\DrugDiscovery\\main_git\\XAI_Chem\\data\\pKA_logP_minmaxscaler_canon_smiles\\pKa\\train_pka_standart_scaler.csv', index_col=0)\n",
    "        self.test_df = pd.read_csv(r'C:\\work\\DrugDiscovery\\main_git\\XAI_Chem\\data\\pKA_logP_minmaxscaler_canon_smiles\\pKa\\test_pka_standart_scaler.csv', index_col=0)\n",
    "\n",
    "        self.find_best_params_with_hyperopt()\n",
    "\n",
    "    def find_best_params_with_hyperopt(self, ):\n",
    "        algo = tpe.suggest\n",
    "\n",
    "        objective_partial = partial(Trainer.optimization_function, X_train=self.train_df)\n",
    "\n",
    "        best_hyperparams = fmin(fn=objective_partial, space=self.space, algo=algo, max_evals=1000, verbose=1)\n",
    "\n",
    "        print(\"Найкращі гіперпараметри:\", best_hyperparams)\n",
    "\n",
    "        X = self.train_df.drop(['pKa', 'fold_id'], axis=1)\n",
    "        X = X[self.PKA_FEATURES]\n",
    "        y = self.train_df['pKa']\n",
    "\n",
    "        regr = svm.SVR(kernel='rbf', degree=best_hyperparams['degree'], epsilon=best_hyperparams['epsilon'], C=self.c_space[best_hyperparams['C']])\n",
    "        scores_r2 = cross_validate(regr, X, y, cv=2, groups=self.train_df['fold_id'], scoring='r2', return_train_score=True, return_estimator=True)\n",
    "        scores_mae = cross_validate(regr, X, y, cv=2, groups=self.train_df['fold_id'], scoring='neg_mean_absolute_error', return_train_score=True, return_estimator=True)\n",
    "        scores_mse = cross_validate(regr, X, y, cv=2, groups=self.train_df['fold_id'], scoring='neg_mean_squared_error', return_train_score=True, return_estimator=True)\n",
    "        \n",
    "        train_r2 = scores_r2['train_score'].mean()\n",
    "        train_mae = scores_mae['train_score'].mean()\n",
    "        train_mse = scores_mse['train_score'].mean()\n",
    "\n",
    "        test_r2 = scores_r2['test_score'].mean()\n",
    "        test_mae = scores_mae['test_score'].mean()\n",
    "        test_mse = scores_mse['test_score'].mean()\n",
    "\n",
    "        print(f\"CV TRAIN R^2: {train_r2}, MAE: {train_mae}, MSE: {train_mse}\")\n",
    "        print(f\"CV TEST R^2: {test_r2}, MAE: {test_mae}, MSE: {test_mse}\")\n",
    "\n",
    "        regr.fit(X, y)\n",
    "        y_pred_train = regr.predict(X)\n",
    "        print(Trainer.calculate_metrics(true_values=y, pred_values=y_pred_train))\n",
    "\n",
    "        return best_hyperparams\n",
    "    \n",
    "    @staticmethod\n",
    "    def calculate_metrics(true_values, pred_values):\n",
    "        mse = round(mean_squared_error(true_values, pred_values),3)\n",
    "        mae = round(mean_absolute_error(true_values, pred_values),3)\n",
    "        r_score = round(r2_score(true_values, pred_values),3)\n",
    "\n",
    "        return {\"mse\": mse,\n",
    "                \"mae\": mae,\n",
    "                \"r^2\": r_score,}\n",
    "\n",
    "    @staticmethod\n",
    "    def optimization_function(params, X_train):\n",
    "        global crossvals_list\n",
    "\n",
    "        amount_of_cross_vals = 2\n",
    "\n",
    "        PKA_FEATURES = ['RPCS', 'angle_R1X1R2', 'angle_X2X1R1', 'angle_X1X2R2', 'angle_R2X2R1', \n",
    "            'distance_between_atoms_in_cycle_and_f_group', \n",
    "            'distance_between_atoms_in_f_group_centers', 'PBF', 'mol_weight', 'dipole_moment', 'PPSA5',\n",
    "            'avg_atoms_in_cycle', 'nHRing', 'cis/trans', 'FPSA3', 'nF', 'chirality',\n",
    "            'sasa', 'PNSA5', 'GeomShapeIndex', 'TASA', 'mol_num_cycles',\n",
    "            'f_freedom', 'nFRing', 'identificator', 'nO', 'nARing', 'nC', 'nFHRing',\n",
    "            'f_to_fg'\n",
    "        ]\n",
    "\n",
    "        X = X_train.drop(['pKa', 'fold_id'], axis=1)\n",
    "        X = X[PKA_FEATURES]\n",
    "        y = X_train['pKa']\n",
    "        \n",
    "        regr = svm.SVR(kernel='rbf', degree=params['degree'], epsilon=params['epsilon'], C=params['C'])\n",
    "        scores = cross_validate(regr, X, y, cv=amount_of_cross_vals, groups=X_train['fold_id'], scoring='neg_mean_absolute_error', return_train_score=True, return_estimator=True)\n",
    "        scores = scores['test_score'].mean()\n",
    "\n",
    "        # print(params, scores)\n",
    "        return -scores\n",
    "\n",
    "\n",
    "Trainer()"
   ]
  },
  {
   "cell_type": "code",
   "execution_count": 59,
   "metadata": {},
   "outputs": [],
   "source": [
    "PKA_FEATURES = ['RPCS', 'angle_R1X1R2', 'angle_X2X1R1', 'angle_X1X2R2', 'angle_R2X2R1', \n",
    "            'distance_between_atoms_in_cycle_and_f_group', \n",
    "            'distance_between_atoms_in_f_group_centers', 'PBF', 'mol_weight', 'dipole_moment', 'PPSA5',\n",
    "            'avg_atoms_in_cycle', 'nHRing', 'cis/trans', 'FPSA3', 'nF', 'chirality',\n",
    "            'sasa', 'PNSA5', 'GeomShapeIndex', 'TASA', 'mol_num_cycles',\n",
    "            'f_freedom', 'nFRing', 'identificator', 'nO', 'nARing', 'nC', 'nFHRing',\n",
    "            'f_to_fg'\n",
    "        ]\n",
    "\n",
    "train_df = pd.read_csv(r'C:\\work\\DrugDiscovery\\main_git\\XAI_Chem\\data\\pKA_logP_minmaxscaler_canon_smiles\\pKa\\train_pka_standart_scaler.csv', index_col=0)\n",
    "test_df = pd.read_csv(r'C:\\work\\DrugDiscovery\\main_git\\XAI_Chem\\data\\pKA_logP_minmaxscaler_canon_smiles\\pKa\\test_pka_standart_scaler.csv', index_col=0)"
   ]
  },
  {
   "cell_type": "code",
   "execution_count": 60,
   "metadata": {},
   "outputs": [],
   "source": [
    "X = train_df.drop(['pKa', 'fold_id'], axis=1)\n",
    "X = X[PKA_FEATURES]\n",
    "y = train_df['pKa']\n",
    "\n",
    "X_test = test_df.drop(['pKa'], axis=1)\n",
    "X_test = X_test[PKA_FEATURES]\n",
    "y_test = test_df['pKa']"
   ]
  },
  {
   "cell_type": "code",
   "execution_count": 61,
   "metadata": {},
   "outputs": [
    {
     "name": "stdout",
     "output_type": "stream",
     "text": [
      "{'fit_time': array([0.00797582, 0.00819016]), 'score_time': array([0., 0.]), 'estimator': [SVR(C=1000, degree=6, epsilon=0.36774550650687715), SVR(C=1000, degree=6, epsilon=0.36774550650687715)], 'test_score': array([-3.38370963, -1.14753815]), 'train_score': array([-0.29940579, -0.27971159])}\n"
     ]
    }
   ],
   "source": [
    "regr = svm.SVR(kernel='rbf', degree=6, epsilon=0.36774550650687715, C=1000)\n",
    "scores = cross_validate(regr, X, y, cv=2, groups=train_df['fold_id'], scoring='neg_mean_absolute_error', return_train_score=True, return_estimator=True)\n",
    "# scores = scores['test_score'].mean()\n",
    "\n",
    "print(scores)"
   ]
  },
  {
   "cell_type": "code",
   "execution_count": 62,
   "metadata": {},
   "outputs": [
    {
     "name": "stdout",
     "output_type": "stream",
     "text": [
      "Train: {'mse': 0.098, 'mae': 0.291, 'r^2': 0.985}\n",
      "OOS: {'mse': 0.722, 'mae': 0.63, 'r^2': 0.874}\n",
      "--------------------\n",
      "CV: 0 Train: {'mse': 0.106, 'mae': 0.31, 'r^2': 0.984}\n",
      "CV: 0 OOS: {'mse': 0.882, 'mae': 0.744, 'r^2': 0.862}\n",
      "CV: 1 Train: {'mse': 0.103, 'mae': 0.301, 'r^2': 0.984}\n",
      "CV: 1 OOS: {'mse': 1.321, 'mae': 0.922, 'r^2': 0.805}\n"
     ]
    }
   ],
   "source": [
    "# Train, test\n",
    "regr.fit(X, y)\n",
    "y_pred_train = regr.predict(X)\n",
    "y_pred_test = regr.predict(X_test)\n",
    "\n",
    "print(\"Train:\", Trainer.calculate_metrics(true_values=y, pred_values=y_pred_train))\n",
    "print(\"OOS:\", Trainer.calculate_metrics(true_values=y_test, pred_values=y_pred_test))\n",
    "\n",
    "print(\"-\"*20)\n",
    "# cross-validation\n",
    "cv_indices_dict = {0: [], 1: []}\n",
    "index = 0\n",
    "for _, row in train.iterrows():\n",
    "    cv_indices_dict[row['fold_id']].append(index)\n",
    "    index += 1\n",
    "cv_indices = [[cv_indices_dict[0], cv_indices_dict[1]], [cv_indices_dict[1], cv_indices_dict[0]]]\n",
    "\n",
    "amount_of_cv = 2\n",
    "for cv_index in range(amount_of_cv):\n",
    "    X_train_cv = X.iloc[cv_indices[cv_index][0]]\n",
    "    y_train_cv = y.iloc[cv_indices[cv_index][0]]\n",
    "\n",
    "    regr.fit(X_train_cv, y_train_cv)\n",
    "    y_pred_train = regr.predict(X_train_cv)\n",
    "\n",
    "    X_test_cv = X.iloc[cv_indices[cv_index][1]]\n",
    "    y_test_cv = y.iloc[cv_indices[cv_index][1]]\n",
    "\n",
    "    y_pred = regr.predict(X_test_cv)\n",
    "\n",
    "    print(f\"CV: {cv_index} Train:\", Trainer.calculate_metrics(true_values=y_train_cv, pred_values=y_pred_train))\n",
    "    print(f\"CV: {cv_index} OOS:\", Trainer.calculate_metrics(true_values=y_test_cv, pred_values=y_pred))\n",
    "\n"
   ]
  },
  {
   "cell_type": "markdown",
   "metadata": {},
   "source": [
    "PLAIN:\n",
    "Train: {'mse': 0.518, 'mae': 0.442, 'r^2': 0.921}\n",
    "OOS: {'mse': 0.816, 'mae': 0.67, 'r^2': 0.858}\n",
    "--------------------\n",
    "CV: 0 Train: {'mse': 0.645, 'mae': 0.524, 'r^2': 0.905}\n",
    "CV: 0 OOS: {'mse': 1.098, 'mae': 0.759, 'r^2': 0.828}\n",
    "CV: 1 Train: {'mse': 0.248, 'mae': 0.285, 'r^2': 0.961}\n",
    "CV: 1 OOS: {'mse': 1.167, 'mae': 0.799, 'r^2': 0.828}\n",
    "\n",
    "\n",
    "\n",
    "\n",
    "MINMAX:\n",
    "Train: {'mse': 0.195, 'mae': 0.231, 'r^2': 0.97}\n",
    "OOS: {'mse': 0.545, 'mae': 0.536, 'r^2': 0.905}\n",
    "--------------------\n",
    "CV: 0 Train: {'mse': 0.246, 'mae': 0.25, 'r^2': 0.964}\n",
    "CV: 0 OOS: {'mse': 0.841, 'mae': 0.718, 'r^2': 0.868}\n",
    "CV: 1 Train: {'mse': 0.097, 'mae': 0.143, 'r^2': 0.985}\n",
    "CV: 1 OOS: {'mse': 0.815, 'mae': 0.659, 'r^2': 0.88}\n",
    "\n",
    "\n",
    "\n",
    "STANDART SCALER:\n",
    "Train: {'mse': 0.077, 'mae': 0.122, 'r^2': 0.988}\n",
    "OOS: {'mse': 0.483, 'mae': 0.554, 'r^2': 0.916}\n",
    "--------------------\n",
    "CV: 0 Train: {'mse': 0.075, 'mae': 0.111, 'r^2': 0.989}\n",
    "CV: 0 OOS: {'mse': 0.655, 'mae': 0.642, 'r^2': 0.897}\n",
    "CV: 1 Train: {'mse': 0.012, 'mae': 0.039, 'r^2': 0.998}\n",
    "CV: 1 OOS: {'mse': 1.003, 'mae': 0.752, 'r^2': 0.852}\n",
    "\n",
    "\n",
    "\n",
    "\n",
    "SCALE EVERYTHING STANDART SCALER\n",
    "Train: {'mse': 0.098, 'mae': 0.291, 'r^2': 0.985}\n",
    "OOS: {'mse': 0.722, 'mae': 0.63, 'r^2': 0.874}\n",
    "--------------------\n",
    "CV: 0 Train: {'mse': 0.106, 'mae': 0.31, 'r^2': 0.984}\n",
    "CV: 0 OOS: {'mse': 0.882, 'mae': 0.744, 'r^2': 0.862}\n",
    "CV: 1 Train: {'mse': 0.103, 'mae': 0.301, 'r^2': 0.984}\n",
    "CV: 1 OOS: {'mse': 1.321, 'mae': 0.922, 'r^2': 0.805}"
   ]
  }
 ],
 "metadata": {
  "kernelspec": {
   "display_name": "dgl-cuda-env",
   "language": "python",
   "name": "python3"
  },
  "language_info": {
   "codemirror_mode": {
    "name": "ipython",
    "version": 3
   },
   "file_extension": ".py",
   "mimetype": "text/x-python",
   "name": "python",
   "nbconvert_exporter": "python",
   "pygments_lexer": "ipython3",
   "version": "3.11.9"
  }
 },
 "nbformat": 4,
 "nbformat_minor": 2
}
