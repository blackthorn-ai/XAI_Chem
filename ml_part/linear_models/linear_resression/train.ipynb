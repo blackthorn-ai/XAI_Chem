{
 "cells": [
  {
   "cell_type": "code",
   "execution_count": 8,
   "metadata": {},
   "outputs": [],
   "source": [
    "from sklearn.metrics import mean_absolute_error\n",
    "from sklearn.metrics import mean_squared_error\n",
    "from sklearn.metrics import r2_score\n",
    "\n",
    "def calculate_metrics(true_values, pred_values):\n",
    "    mse = round(mean_squared_error(true_values, pred_values),3)\n",
    "    mae = round(mean_absolute_error(true_values, pred_values),3)\n",
    "    r_score = round(r2_score(true_values, pred_values),3)\n",
    "\n",
    "    return {\"mse\": mse,\n",
    "            \"mae\": mae,\n",
    "            \"r^2\": r_score,}"
   ]
  },
  {
   "cell_type": "code",
   "execution_count": 1,
   "metadata": {},
   "outputs": [],
   "source": [
    "PKA_FEATURES = ['RPCS', 'PBF', 'mol_weight', 'dipole_moment', 'PPSA5',\n",
    "                'avg_atoms_in_cycle', 'nHRing', 'cis/trans', 'FPSA3', 'nF', 'chirality',\n",
    "                'sasa', 'PNSA5', 'GeomShapeIndex', 'TASA', 'mol_num_cycles',\n",
    "                'f_freedom', 'nFRing', 'identificator', 'nO', 'nARing', 'nC', 'nFHRing',\n",
    "                'f_to_fg']"
   ]
  },
  {
   "cell_type": "code",
   "execution_count": 10,
   "metadata": {},
   "outputs": [],
   "source": [
    "import pandas as pd\n",
    "\n",
    "train = pd.read_csv(r'C:\\work\\DrugDiscovery\\main_git\\XAI_Chem\\data\\pKA_logP_minmaxscaler\\pKa\\train_pka_minmax.csv', index_col=0)\n",
    "\n",
    "y = train['pKa']\n",
    "X=train[PKA_FEATURES]\n",
    "\n",
    "test = pd.read_csv(r'C:\\work\\DrugDiscovery\\main_git\\XAI_Chem\\data\\pKA_logP_minmaxscaler\\pKa\\test_pka_minmax.csv', index_col=0)\n",
    "y_test = test['pKa']\n",
    "X_test = test[PKA_FEATURES]"
   ]
  },
  {
   "cell_type": "code",
   "execution_count": 3,
   "metadata": {},
   "outputs": [],
   "source": [
    "cv_indices_dict = {0: [], 1: []}\n",
    "index = 0\n",
    "for _, row in train.iterrows():\n",
    "    cv_indices_dict[row['fold_id']].append(index)\n",
    "    index += 1\n",
    "cv_indices = [[cv_indices_dict[0], cv_indices_dict[1]], [cv_indices_dict[1], cv_indices_dict[0]]]"
   ]
  },
  {
   "cell_type": "code",
   "execution_count": 22,
   "metadata": {},
   "outputs": [
    {
     "name": "stdout",
     "output_type": "stream",
     "text": [
      "OOS: {'mse': 0.712, 'mae': 0.628, 'r^2': 0.875}\n",
      "Train: {'mse': 0.295, 'mae': 0.441, 'r^2': 0.953}\n",
      "OOS: {'mse': 0.644, 'mae': 0.601, 'r^2': 0.911}\n",
      "Train: {'mse': 0.261, 'mae': 0.379, 'r^2': 0.958}\n"
     ]
    }
   ],
   "source": [
    "from sklearn import linear_model\n",
    "\n",
    "amount_of_cv = 2\n",
    "for cv_number in range(amount_of_cv):\n",
    "    cv_X_train = X.iloc[cv_indices[cv_number][0]]\n",
    "    cv_y_train = y.iloc[cv_indices[cv_number][0]]\n",
    "\n",
    "    cv_X_test = X.iloc[cv_indices[cv_number][1]]\n",
    "    cv_y_test = y.iloc[cv_indices[cv_number][1]]\n",
    "\n",
    "    regr = linear_model.LinearRegression()\n",
    "\n",
    "    regr.fit(cv_X_train, cv_y_train)\n",
    "\n",
    "    y_pred = regr.predict(cv_X_test)\n",
    "    print(\"OOS:\", calculate_metrics(y_pred, cv_y_test))\n",
    "\n",
    "    y_pred = regr.predict(cv_X_train)\n",
    "    print(\"Train:\", calculate_metrics(y_pred, cv_y_train))"
   ]
  },
  {
   "cell_type": "code",
   "execution_count": 20,
   "metadata": {},
   "outputs": [
    {
     "name": "stdout",
     "output_type": "stream",
     "text": [
      "Test: {'mse': 0.728, 'mae': 0.698, 'r^2': 0.887}\n",
      "Train: {'mse': 0.342, 'mae': 0.464, 'r^2': 0.944}\n"
     ]
    }
   ],
   "source": [
    "from sklearn import linear_model\n",
    "\n",
    "regr = linear_model.LinearRegression()\n",
    "\n",
    "regr.fit(X, y)\n",
    "\n",
    "y_pred = regr.predict(X_test)\n",
    "\n",
    "print(\"Test:\", calculate_metrics(y_pred, y_test))\n",
    "\n",
    "y_pred = regr.predict(X)\n",
    "print(\"Train:\", calculate_metrics(y_pred, y))"
   ]
  },
  {
   "cell_type": "markdown",
   "metadata": {},
   "source": [
    "logP"
   ]
  },
  {
   "cell_type": "code",
   "execution_count": 31,
   "metadata": {},
   "outputs": [],
   "source": [
    "import pandas as pd\n",
    "\n",
    "train = pd.read_csv(r'C:\\work\\DrugDiscovery\\main_git\\XAI_Chem\\data\\pKA_logP_minmaxscaler\\logP\\train_logp_minmax.csv', index_col=0)\n",
    "\n",
    "y = train['logP']\n",
    "X=train.copy()\n",
    "X = X.drop(['fold_id', 'logP'], axis=1)\n",
    "\n",
    "test = pd.read_csv(r'C:\\work\\DrugDiscovery\\main_git\\XAI_Chem\\data\\pKA_logP_minmaxscaler\\logP\\test_logp_minmax.csv', index_col=0)\n",
    "y_test = test['logP']\n",
    "X_test = test.copy()\n",
    "X_test = X_test.drop(['logP'], axis=1)"
   ]
  },
  {
   "cell_type": "code",
   "execution_count": 33,
   "metadata": {},
   "outputs": [],
   "source": [
    "cv_indices_dict = {0: [], 1: []}\n",
    "index = 0\n",
    "for _, row in train.iterrows():\n",
    "    cv_indices_dict[row['fold_id']].append(index)\n",
    "    index += 1\n",
    "cv_indices = [[cv_indices_dict[0], cv_indices_dict[1]], [cv_indices_dict[1], cv_indices_dict[0]]]"
   ]
  },
  {
   "cell_type": "code",
   "execution_count": 39,
   "metadata": {},
   "outputs": [
    {
     "name": "stdout",
     "output_type": "stream",
     "text": [
      "OOS: {'mse': 0.061, 'mae': 0.189, 'r^2': 0.812}\n",
      "Train: {'mse': 0.045, 'mae': 0.16, 'r^2': 0.846}\n",
      "OOS: {'mse': 0.078, 'mae': 0.214, 'r^2': 0.742}\n",
      "Train: {'mse': 0.017, 'mae': 0.103, 'r^2': 0.939}\n",
      "cv r^2: 0.777\n",
      "cv mse: 0.0695\n",
      "cv mae: 0.2015\n"
     ]
    }
   ],
   "source": [
    "from sklearn import linear_model\n",
    "\n",
    "amount_of_cv = 2\n",
    "r_score, mse, mae = 0, 0, 0\n",
    "for cv_number in range(amount_of_cv):\n",
    "    cv_X_train = X.iloc[cv_indices[cv_number][0]]\n",
    "    cv_y_train = y.iloc[cv_indices[cv_number][0]]\n",
    "\n",
    "    cv_X_test = X.iloc[cv_indices[cv_number][1]]\n",
    "    cv_y_test = y.iloc[cv_indices[cv_number][1]]\n",
    "\n",
    "    regr = linear_model.LinearRegression()\n",
    "\n",
    "    regr.fit(cv_X_train, cv_y_train)\n",
    "\n",
    "    y_pred = regr.predict(cv_X_test)\n",
    "    print(\"OOS:\", calculate_metrics(y_pred, cv_y_test))\n",
    "\n",
    "    r_score += calculate_metrics(y_pred, cv_y_test)['r^2']\n",
    "    mse += calculate_metrics(y_pred, cv_y_test)['mse']\n",
    "    mae += calculate_metrics(y_pred, cv_y_test)['mae']\n",
    "\n",
    "    y_pred = regr.predict(cv_X_train)\n",
    "    print(\"Train:\", calculate_metrics(y_pred, cv_y_train))\n",
    "\n",
    "print(f\"cv r^2: {r_score / 2}\") \n",
    "print(f\"cv mse: {mse / 2}\") \n",
    "print(f\"cv mae: {mae / 2}\") "
   ]
  },
  {
   "cell_type": "code",
   "execution_count": 36,
   "metadata": {},
   "outputs": [
    {
     "name": "stdout",
     "output_type": "stream",
     "text": [
      "Test: {'mse': 0.025, 'mae': 0.119, 'r^2': 0.908}\n",
      "Train: {'mse': 0.038, 'mae': 0.148, 'r^2': 0.865}\n"
     ]
    }
   ],
   "source": [
    "from sklearn import linear_model\n",
    "\n",
    "regr = linear_model.LinearRegression()\n",
    "\n",
    "regr.fit(X, y)\n",
    "\n",
    "y_pred = regr.predict(X_test)\n",
    "\n",
    "print(\"Test:\", calculate_metrics(y_pred, y_test))\n",
    "\n",
    "y_pred = regr.predict(X)\n",
    "print(\"Train:\", calculate_metrics(y_pred, y))"
   ]
  }
 ],
 "metadata": {
  "kernelspec": {
   "display_name": "drug-discovery-venv",
   "language": "python",
   "name": "python3"
  },
  "language_info": {
   "codemirror_mode": {
    "name": "ipython",
    "version": 3
   },
   "file_extension": ".py",
   "mimetype": "text/x-python",
   "name": "python",
   "nbconvert_exporter": "python",
   "pygments_lexer": "ipython3",
   "version": "3.11.9"
  }
 },
 "nbformat": 4,
 "nbformat_minor": 2
}
