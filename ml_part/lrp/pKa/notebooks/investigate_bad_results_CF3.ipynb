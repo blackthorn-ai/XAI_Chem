{
 "cells": [
  {
   "cell_type": "code",
   "execution_count": 53,
   "metadata": {},
   "outputs": [],
   "source": [
    "import pandas as pd\n",
    "\n",
    "csv_path = r'C:\\work\\DrugDiscovery\\main_git\\XAI_Chem\\data\\init_data\\pKa_Prediction_Starting data_2024.05.07.csv'\n",
    "\n",
    "df = pd.read_csv(csv_path)"
   ]
  },
  {
   "cell_type": "code",
   "execution_count": 73,
   "metadata": {},
   "outputs": [
    {
     "name": "stdout",
     "output_type": "stream",
     "text": [
      "134 Unnamed: 0                                                  134\n",
      "Reference                                10.1002/chem.202201601\n",
      "Smiles                                         FC(F)(F)C1CCNCC1\n",
      "LogP                                                        2.2\n",
      "pKa                                                         9.6\n",
      "Structure                                                   NaN\n",
      "MW                                                      153.148\n",
      "Amine or acid                                             Amine\n",
      "Bemis-Murcko                                                NaN\n",
      "Framework                                           cyclohexane\n",
      "F group                                                     CF3\n",
      "Stereo, F to FG                                             NaN\n",
      "Linear path(s) F to FG                                      2.0\n",
      "Length of linear path, bonds                                  0\n",
      "Unnamed: 13                                                   0\n",
      "Unnamed: 14                                                   2\n",
      "Unnamed: 15                                                   0\n",
      "Unnamed: 16                                                   0\n",
      "Atoms in ring                                               6.0\n",
      "Amides for LogP                 O=C(c1ccccc1)N1CCC(C(F)(F)F)CC1\n",
      "Unnamed: 19                                                 NaN\n",
      "F atom fraction                                             0.5\n",
      "identificator                                   Secondary amine\n",
      "Name: 134, dtype: object\n",
      "100 Unnamed: 0                                                 100\n",
      "Reference                             10.24959/ophcj.23.274017\n",
      "Smiles                                       NC1(C(F)(F)F)CCC1\n",
      "LogP                                                      2.51\n",
      "pKa                                                        5.0\n",
      "Structure                                                  NaN\n",
      "MW                                                     139.121\n",
      "Amine or acid                                            Amine\n",
      "Bemis-Murcko                                               NaN\n",
      "Framework                                          cyclobutane\n",
      "F group                                                    CF3\n",
      "Stereo, F to FG                                            NaN\n",
      "Linear path(s) F to FG                                     1.0\n",
      "Length of linear path, bonds                                 1\n",
      "Unnamed: 13                                                  0\n",
      "Unnamed: 14                                                  0\n",
      "Unnamed: 15                                                  0\n",
      "Unnamed: 16                                                  0\n",
      "Atoms in ring                                              4.0\n",
      "Amides for LogP                 O=C(NC1(C(F)(F)F)CCC1)c1ccccc1\n",
      "Unnamed: 19                                                NaN\n",
      "F atom fraction                                            0.6\n",
      "identificator                                    Primary amine\n",
      "Name: 100, dtype: object\n",
      "40 Unnamed: 0                                                         40\n",
      "Reference                                      10.1002/ejoc.202001345\n",
      "Smiles                                  O=C(O)[C@@H]1CC[C@H]1C(F)(F)F\n",
      "LogP                                                             2.88\n",
      "pKa                                                              3.87\n",
      "Structure                                                         NaN\n",
      "MW                                                            168.115\n",
      "Amine or acid                                                    Acid\n",
      "Bemis-Murcko                                                      NaN\n",
      "Framework                                                 cyclobutane\n",
      "F group                                                           CF3\n",
      "Stereo, F to FG                                                   cis\n",
      "Linear path(s) F to FG                                            2.0\n",
      "Length of linear path, bonds                                        0\n",
      "Unnamed: 13                                                         1\n",
      "Unnamed: 14                                                         0\n",
      "Unnamed: 15                                                         1\n",
      "Unnamed: 16                                                         0\n",
      "Atoms in ring                                                     4.0\n",
      "Amides for LogP                 O=C(Nc1ccccc1)[C@@H]1CC[C@H]1C(F)(F)F\n",
      "Unnamed: 19                                                       NaN\n",
      "F atom fraction                                                   0.5\n",
      "identificator                                         Carboxylic acid\n",
      "Name: 40, dtype: object\n",
      "44 Unnamed: 0                                                       44\n",
      "Reference                                   10.1021/acs.joc.0c01848\n",
      "Smiles                                  O=C(O)[C@H]1C[C@H]1C(F)(F)F\n",
      "LogP                                                           2.12\n",
      "pKa                                                            3.76\n",
      "Structure                                                       NaN\n",
      "MW                                                          154.088\n",
      "Amine or acid                                                  Acid\n",
      "Bemis-Murcko                                                    NaN\n",
      "Framework                                              cyclopropane\n",
      "F group                                                         CF3\n",
      "Stereo, F to FG                                                 cis\n",
      "Linear path(s) F to FG                                          2.0\n",
      "Length of linear path, bonds                                      0\n",
      "Unnamed: 13                                                       1\n",
      "Unnamed: 14                                                       1\n",
      "Unnamed: 15                                                       0\n",
      "Unnamed: 16                                                       0\n",
      "Atoms in ring                                                   3.0\n",
      "Amides for LogP                 O=C(Nc1ccccc1)[C@H]1C[C@H]1C(F)(F)F\n",
      "Unnamed: 19                                                     NaN\n",
      "F atom fraction                                                 0.6\n",
      "identificator                                       Carboxylic acid\n",
      "Name: 44, dtype: object\n"
     ]
    }
   ],
   "source": [
    "problem_smiles = [\"FC(F)(F)C1CCNCC1\", \"NC1(C(F)(F)F)CCC1\", \"O=C(O)[C@@H]1CC[C@H]1C(F)(F)F\", \"O=C(O)[C@H]1C[C@H]1C(F)(F)F\"]\n",
    "\n",
    "for smiles in problem_smiles:\n",
    "    for index, row in df.iterrows():\n",
    "        if row['Smiles'] == smiles:\n",
    "            print(index, row)"
   ]
  },
  {
   "cell_type": "code",
   "execution_count": 69,
   "metadata": {},
   "outputs": [
    {
     "name": "stdout",
     "output_type": "stream",
     "text": [
      "<rdkit.Chem.rdchem.Mol object at 0x000001F71C072A40>\n",
      "<rdkit.Chem.rdchem.Mol object at 0x000001F71C090200>\n",
      "<rdkit.Chem.rdchem.Mol object at 0x000001F71C090270>\n",
      "<rdkit.Chem.rdchem.Mol object at 0x000001F71C0902E0>\n"
     ]
    }
   ],
   "source": [
    "from rdkit import Chem\n",
    "\n",
    "for smiles in problem_smiles:\n",
    "    \n",
    "    mol = Chem.MolFromSmiles(\"FC(F)(F)C1CCNCC1\")\n",
    "\n",
    "    print(mol)"
   ]
  },
  {
   "cell_type": "code",
   "execution_count": 70,
   "metadata": {},
   "outputs": [
    {
     "data": {
      "image/png": "[encoded data removed]",
      "text/plain": [
       "<rdkit.Chem.rdchem.Mol at 0x1f71c072ff0>"
      ]
     },
     "execution_count": 70,
     "metadata": {},
     "output_type": "execute_result"
    }
   ],
   "source": [
    "from rdkit import Chem\n",
    "\n",
    "mol = Chem.MolFromSmiles(\"FC(F)(F)C1CCNCC1\")\n",
    "\n",
    "mol"
   ]
  },
  {
   "cell_type": "code",
   "execution_count": 71,
   "metadata": {},
   "outputs": [
    {
     "data": {
      "image/png": "[encoded data removed]",
      "text/plain": [
       "<rdkit.Chem.rdchem.Mol at 0x1f71c073060>"
      ]
     },
     "execution_count": 71,
     "metadata": {},
     "output_type": "execute_result"
    }
   ],
   "source": [
    "from rdkit import Chem\n",
    "\n",
    "mol = Chem.MolFromSmiles(\"FC(F)(F)C1CCCNC1\")\n",
    "\n",
    "mol"
   ]
  },
  {
   "cell_type": "code",
   "execution_count": 72,
   "metadata": {},
   "outputs": [
    {
     "data": {
      "image/png": "[encoded data removed]",
      "text/plain": [
       "<rdkit.Chem.rdchem.Mol at 0x1f71c073220>"
      ]
     },
     "execution_count": 72,
     "metadata": {},
     "output_type": "execute_result"
    }
   ],
   "source": [
    "from rdkit import Chem\n",
    "\n",
    "mol = Chem.MolFromSmiles(\"NC1(C(F)(F)F)CCC1\")\n",
    "\n",
    "mol"
   ]
  },
  {
   "cell_type": "code",
   "execution_count": 59,
   "metadata": {},
   "outputs": [
    {
     "data": {
      "image/png": "[encoded data removed]",
      "text/plain": [
       "<rdkit.Chem.rdchem.Mol at 0x1f71ad149e0>"
      ]
     },
     "execution_count": 59,
     "metadata": {},
     "output_type": "execute_result"
    }
   ],
   "source": [
    "from rdkit import Chem\n",
    "\n",
    "mol = Chem.MolFromSmiles(\"O=C(O)[C@@H]1CC[C@H]1C(F)(F)F\")\n",
    "\n",
    "mol"
   ]
  },
  {
   "cell_type": "code",
   "execution_count": 60,
   "metadata": {},
   "outputs": [
    {
     "data": {
      "image/png": "[encoded data removed]",
      "text/plain": [
       "<rdkit.Chem.rdchem.Mol at 0x1f71ad14f90>"
      ]
     },
     "execution_count": 60,
     "metadata": {},
     "output_type": "execute_result"
    }
   ],
   "source": [
    "from rdkit import Chem\n",
    "\n",
    "mol = Chem.MolFromSmiles(\"O=C(O)[C@H]1C[C@H]1C(F)(F)F\")\n",
    "\n",
    "mol"
   ]
  },
  {
   "cell_type": "code",
   "execution_count": 61,
   "metadata": {},
   "outputs": [],
   "source": [
    "df_features = pd.read_csv(r'C:\\work\\DrugDiscovery\\main_git\\XAI_Chem\\data\\updated_features\\remained_features_pKa_07.05_v5_canonical_smiles.csv')"
   ]
  },
  {
   "cell_type": "code",
   "execution_count": 62,
   "metadata": {},
   "outputs": [],
   "source": [
    "PKA_FEATURES = ['RPCS', 'PBF', 'mol_weight', 'dipole_moment', 'PPSA5',\n",
    "                'avg_atoms_in_cycle', 'nHRing', 'cis/trans', 'FPSA3', 'nF', 'chirality',\n",
    "                'sasa', 'PNSA5', 'GeomShapeIndex', 'TASA', 'mol_num_cycles',\n",
    "                'f_freedom', 'nFRing', 'identificator', 'nO', 'nARing', 'nC', 'nFHRing',\n",
    "                'f_to_fg']\n",
    "\n",
    "PKA_FEATURES = ['RPCS', 'PBF', 'dipole_moment', 'PPSA5',\n",
    "                'FPSA3', 'nF', 'chirality',\n",
    "                'sasa', 'PNSA5', 'GeomShapeIndex', 'TASA', ]"
   ]
  },
  {
   "cell_type": "code",
   "execution_count": 74,
   "metadata": {},
   "outputs": [
    {
     "data": {
      "text/html": [
       "<div>\n",
       "<style scoped>\n",
       "    .dataframe tbody tr th:only-of-type {\n",
       "        vertical-align: middle;\n",
       "    }\n",
       "\n",
       "    .dataframe tbody tr th {\n",
       "        vertical-align: top;\n",
       "    }\n",
       "\n",
       "    .dataframe thead th {\n",
       "        text-align: right;\n",
       "    }\n",
       "</style>\n",
       "<table border=\"1\" class=\"dataframe\">\n",
       "  <thead>\n",
       "    <tr style=\"text-align: right;\">\n",
       "      <th></th>\n",
       "      <th>RPCS</th>\n",
       "      <th>PBF</th>\n",
       "      <th>dipole_moment</th>\n",
       "      <th>PPSA5</th>\n",
       "      <th>FPSA3</th>\n",
       "      <th>nF</th>\n",
       "      <th>chirality</th>\n",
       "      <th>sasa</th>\n",
       "      <th>PNSA5</th>\n",
       "      <th>GeomShapeIndex</th>\n",
       "      <th>TASA</th>\n",
       "    </tr>\n",
       "  </thead>\n",
       "  <tbody>\n",
       "    <tr>\n",
       "      <th>134</th>\n",
       "      <td>0.324476</td>\n",
       "      <td>0.637612</td>\n",
       "      <td>0.326013</td>\n",
       "      <td>12.298357</td>\n",
       "      <td>0.027277</td>\n",
       "      <td>3</td>\n",
       "      <td>0</td>\n",
       "      <td>189.033942</td>\n",
       "      <td>-15.008822</td>\n",
       "      <td>0.615841</td>\n",
       "      <td>291.311707</td>\n",
       "    </tr>\n",
       "    <tr>\n",
       "      <th>100</th>\n",
       "      <td>0.215547</td>\n",
       "      <td>0.802176</td>\n",
       "      <td>0.365677</td>\n",
       "      <td>12.608326</td>\n",
       "      <td>0.026306</td>\n",
       "      <td>3</td>\n",
       "      <td>0</td>\n",
       "      <td>177.532343</td>\n",
       "      <td>-18.683610</td>\n",
       "      <td>0.644062</td>\n",
       "      <td>267.239946</td>\n",
       "    </tr>\n",
       "  </tbody>\n",
       "</table>\n",
       "</div>"
      ],
      "text/plain": [
       "         RPCS       PBF  dipole_moment      PPSA5     FPSA3  nF  chirality  \\\n",
       "134  0.324476  0.637612       0.326013  12.298357  0.027277   3          0   \n",
       "100  0.215547  0.802176       0.365677  12.608326  0.026306   3          0   \n",
       "\n",
       "           sasa      PNSA5  GeomShapeIndex        TASA  \n",
       "134  189.033942 -15.008822        0.615841  291.311707  \n",
       "100  177.532343 -18.683610        0.644062  267.239946  "
      ]
     },
     "execution_count": 74,
     "metadata": {},
     "output_type": "execute_result"
    }
   ],
   "source": [
    "df_features.iloc[[134, 100]][PKA_FEATURES]"
   ]
  },
  {
   "cell_type": "code",
   "execution_count": 64,
   "metadata": {},
   "outputs": [
    {
     "data": {
      "text/plain": [
       "[11.119999885559082, 9.600000381469727]"
      ]
     },
     "execution_count": 64,
     "metadata": {},
     "output_type": "execute_result"
    }
   ],
   "source": [
    "[11.119999885559082, 9.600000381469727]"
   ]
  },
  {
   "cell_type": "code",
   "execution_count": 65,
   "metadata": {},
   "outputs": [
    {
     "data": {
      "text/plain": [
       "[10.674836158752441, 10.408605575561523]"
      ]
     },
     "execution_count": 65,
     "metadata": {},
     "output_type": "execute_result"
    }
   ],
   "source": [
    "[10.674836158752441, 10.408605575561523]"
   ]
  },
  {
   "cell_type": "code",
   "execution_count": 66,
   "metadata": {},
   "outputs": [],
   "source": [
    "csv_models_results = r'C:\\work\\DrugDiscovery\\main_git\\XAI_Chem\\ml_part\\weights\\pKa\\separate_model_for_each_molecule\\separate_models_for_each_molecule.csv'\n",
    "\n",
    "df_results = pd.read_csv(csv_models_results, index_col=0)"
   ]
  },
  {
   "cell_type": "code",
   "execution_count": 75,
   "metadata": {},
   "outputs": [
    {
     "name": "stdout",
     "output_type": "stream",
     "text": [
      "model_name                               134_FC(F)(F)C1CCNCC1_C1CCNCC1\n",
      "loss                                                          0.426007\n",
      "r^2                                                              0.262\n",
      "mse                                                              0.426\n",
      "mae                                                              0.627\n",
      "true_values                    [11.119999885559082, 9.600000381469727]\n",
      "pred_values                   [10.674836158752441, 10.408605575561523]\n",
      "train_r^2                                                        0.991\n",
      "train_mse                                                        0.054\n",
      "train_mae                                                         0.19\n",
      "train_true_values    [4.349999904632568, 4.789999961853027, 4.82999...\n",
      "train_pred_values    [4.047946929931641, 4.423041343688965, 4.42304...\n",
      "Name: 148, dtype: object\n",
      "--------------------\n",
      "model_name                               100_NC1(C(F)(F)F)CCC1_NC1CCC1\n",
      "loss                                                          1.402061\n",
      "r^2                                                              0.763\n",
      "mse                                                              1.402\n",
      "mae                                                              0.936\n",
      "true_values                                   [5.0, 9.859999656677246]\n",
      "pred_values                     [6.661200046539307, 10.07103443145752]\n",
      "train_r^2                                                        0.973\n",
      "train_mse                                                        0.163\n",
      "train_mae                                                        0.291\n",
      "train_true_values    [4.789999961853027, 4.829999923706055, 3.50999...\n",
      "train_pred_values    [4.17988395690918, 4.17988395690918, 3.4378638...\n",
      "Name: 36, dtype: object\n",
      "--------------------\n",
      "--------------------\n",
      "--------------------\n"
     ]
    }
   ],
   "source": [
    "for smiles in problem_smiles:\n",
    "\n",
    "    for index, row in df_results.iterrows():\n",
    "        if pd.isnull(row['r^2']):\n",
    "            continue\n",
    "\n",
    "        if Chem.CanonSmiles(smiles) in row['model_name']:\n",
    "            print(row)\n",
    "    \n",
    "    print(\"-\" * 20)"
   ]
  }
 ],
 "metadata": {
  "kernelspec": {
   "display_name": "dgl-cuda-env",
   "language": "python",
   "name": "python3"
  },
  "language_info": {
   "codemirror_mode": {
    "name": "ipython",
    "version": 3
   },
   "file_extension": ".py",
   "mimetype": "text/x-python",
   "name": "python",
   "nbconvert_exporter": "python",
   "pygments_lexer": "ipython3",
   "version": "3.11.9"
  }
 },
 "nbformat": 4,
 "nbformat_minor": 2
}
