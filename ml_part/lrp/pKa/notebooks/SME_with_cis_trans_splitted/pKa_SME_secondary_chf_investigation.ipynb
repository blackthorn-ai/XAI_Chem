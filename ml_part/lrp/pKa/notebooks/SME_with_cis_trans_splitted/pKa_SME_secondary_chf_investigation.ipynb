{
 "cells": [
  {
   "cell_type": "code",
   "execution_count": 1,
   "metadata": {},
   "outputs": [],
   "source": [
    "import pandas as pd\n",
    "from rdkit import Chem\n",
    "\n",
    "def prepare_data():\n",
    "    df_main = pd.read_csv(r'C:\\work\\DrugDiscovery\\main_git\\XAI_Chem\\data\\init_data\\pKa_Prediction_Starting data_2024.01.25.csv', index_col=0)\n",
    "    df_main = pd.read_csv(r'C:\\work\\DrugDiscovery\\main_git\\XAI_Chem\\data\\init_data\\pKa_Prediction_Starting data_2024.05.07.csv', index_col=0)\n",
    "\n",
    "    SMILES_to_fgroup = {}\n",
    "    SMILES_to_identificator = {}\n",
    "    SMILES_to_cycle_type = {}\n",
    "    SMILES_to_pKa = {}\n",
    "    for index, row in df_main.iterrows():\n",
    "        SMILES = row['Smiles']\n",
    "        if pd.isnull(SMILES):\n",
    "            continue\n",
    "        \n",
    "        SMILES_to_fgroup[SMILES] = row['F group']\n",
    "        SMILES_to_identificator[SMILES] = row['identificator']\n",
    "        SMILES_to_cycle_type[SMILES] = row['Framework']\n",
    "        SMILES_to_pKa[SMILES] = row['pKa']\n",
    "    \n",
    "    return SMILES_to_fgroup, SMILES_to_identificator, SMILES_to_cycle_type, SMILES_to_pKa\n",
    "\n",
    "def train_test_smiles_data(is_canon=True):\n",
    "    train = pd.read_csv(r'C:\\work\\DrugDiscovery\\main_git\\XAI_Chem\\data\\pKa_basicity_data\\gnn_cv_canon_smiles\\train_basic.csv')\n",
    "    test = pd.read_csv(r'C:\\work\\DrugDiscovery\\main_git\\XAI_Chem\\data\\pKa_basicity_data\\gnn_cv_canon_smiles\\test_basic.csv')\n",
    "\n",
    "    train_SMILES = train['Smiles'].tolist()\n",
    "    test_SMILES = test['Smiles'].tolist()\n",
    "\n",
    "    smiles_to_fold = {}\n",
    "    for index, row in train.iterrows():\n",
    "        smiles_to_fold[row['Smiles']] = row['fold_id']\n",
    "\n",
    "    if is_canon:\n",
    "        for train_index in range(len(train_SMILES)):\n",
    "            train_SMILES[train_index] = Chem.CanonSmiles(train_SMILES[train_index])\n",
    "        for test_index in range(len(test_SMILES)):\n",
    "            test_SMILES[test_index] = Chem.CanonSmiles(test_SMILES[test_index])\n",
    "    \n",
    "    return train_SMILES, test_SMILES, smiles_to_fold\n",
    "\n",
    "train_SMILES, test_SMILES, smiles_to_fold = train_test_smiles_data()"
   ]
  },
  {
   "cell_type": "code",
   "execution_count": 2,
   "metadata": {},
   "outputs": [],
   "source": [
    "# SME - all test(separate model for each molecule)\n",
    "# relevances_fluorine_all = {'O=C(O)C1CCC(F)(F)CC1': -0.053, 'O=C(O)C1CCCCC1': 0.0, 'O=C(O)[C@H]1C[C@@H]2C[C@@H]2C1': 0.0, 'O=C(O)[C@H]1C[C@@H]2[C@H](C1)C2(F)F': -0.102, 'O=C(O)[C@@H]1C[C@@H]2[C@H](C1)C2(F)F': -0.104, 'O=C(O)C1CCC1': 0.0, 'O=C(O)C1(CF)CCC1': -0.848, 'O=C(O)C1(C(F)F)CCC1': -0.902, 'O=C(O)C1(C(F)(F)F)CCC1': -1.372, 'O=C(O)[C@H]1C[C@H](C(F)(F)F)C1': -0.281, 'O=C(O)[C@H]1C[C@@H](C(F)(F)F)C1': -0.32, 'O=C(O)[C@H]1C[C@H](C(F)F)C1': -0.327, 'O=C(O)[C@H]1C[C@@H](C(F)F)C1': -0.246, 'O=C(O)[C@H]1C[C@H](CF)C1': -0.328, 'O=C(O)[C@H]1C[C@@H](CF)C1': -0.307, 'O=C(O)C1CC1(F)F': -1.148, 'O=C(O)C1CCC1(F)F': -0.962, 'O=C(O)C1CC(F)(F)C1': -0.687, 'O=C(O)C1CCCC1(F)F': -0.865, 'O=C(O)C1CCC(F)(F)C1': -0.092, 'O=C(O)C1CCCCC1(F)F': -0.854, 'O=C(O)C1CCCCCC1(F)F': -0.261, 'O=C(O)C1CCCCC(F)(F)C1': -0.094, 'O=C(O)C1CCCC(F)(F)CC1': -0.031, 'CCC(F)(F)CC(=O)O': -0.957, 'CC(F)(F)CCC(=O)O': -0.111, 'O=C(O)C1CC1': 0.0, 'O=C(O)C1CCCC1': 0.0, 'O=C(O)C1CCCCCC1': 0.0, 'CCCCC(=O)O': 0.0, 'O=C(O)C1CC2(CCC2)C1': 0.0, 'O=C(O)C1CC2(C1)CC(F)(F)C2': -0.005, 'O=C(O)[C@@H]1CC[C@H]1C(F)(F)F': -0.319, 'O=C(O)[C@@H]1CC[C@H]1C(F)F': -0.321, 'O=C(O)[C@@H]1CC[C@H]1CF': -0.182, 'O=C(O)[C@@H]1C[C@H]1C(F)(F)F': -0.277, 'O=C(O)[C@H]1C[C@H]1C(F)(F)F': -0.291, 'O=C(O)[C@@H]1C[C@H]1C(F)F': -0.369, 'O=C(O)[C@H]1C[C@H]1C(F)F': -0.372, 'O=C(O)[C@@H]1C[C@H]1CF': -0.327, 'C[C@@H]1C[C@H]1C(=O)O': 0.0, 'C[C@@H]1C[C@@H]1C(=O)O': 0.0, 'O=C(O)C1C(F)(F)C12CC2': -0.211, 'N[C@@H]1C[C@@H]2[C@H](C1)C2(F)F': -1.297, 'N[C@H]1C[C@@H]2[C@H](C1)C2(F)F': -1.217, 'NC1CCC(F)(F)CC1': -1.192, 'NC1CCCCC1': 0.0, 'N[C@@H]1C[C@@H]2C[C@@H]2C1': 0.0, 'N[C@H]1C[C@@H]2C[C@@H]2C1': 0.0, 'FC(F)(F)C12CC(CN1)C2': -4.464, 'C1NC2CC1C2': 0.0, 'C1CCNC1': 0.0, 'CC12CC(CN1)C2': 0.0, 'FC(F)(F)C12CCC(CC1)CN2': -4.684, 'C1CC2CC1CN2': 0.0, 'C1CC2CCC1CN2': 0.0, 'C1CCNCC1': 0.0, 'FC(F)(F)C12CCCC(CN1)C2': -4.472, 'C1CC2CNC(C1)C2': 0.0, 'FC1(F)CC2CNCC(C2)C1': -0.046, 'FC1(F)CC2CNCC(C1)C2(F)F': -2.79, 'FC1(F)C2CCCC1CNC2': -2.638, 'C1CC2CNCC(C1)C2': 0.0, 'FC1(F)C2CNCC1COC2': -3.025, 'C1NCC2COCC1C2': 0.0, 'C1CC2CNCC1C2': 0.0, 'C1CNC1': 0.0, 'FC1(F)CNC1': -4.695, 'FC1CCNC1': -2.517, 'FC1(F)CCNC1': -3.875, 'F[C@@H]1CNC[C@@H]1F': -4.274, 'F[C@@H]1CNC[C@H]1F': -4.379, 'FC1CCCNC1': -1.699, 'FC1(F)CCCNC1': -2.897, 'F[C@@H]1CNC[C@H](F)C1': -3.976, 'F[C@@H]1CNC[C@@H](F)C1': -3.324, 'FC1CCNCC1': -1.41, 'F[C@@H]1CCNC[C@@H]1F': -3.419, 'F[C@@H]1CCNC[C@H]1F': -3.505, 'NC1(C(F)(F)F)CCC1': -3.41, 'NC1(C(F)F)CCC1': -3.94, 'NC1(CF)CCC1': -3.136, 'NC1CCC1': 0.0, 'N[C@H]1C[C@H](C(F)(F)F)C1': -1.22, 'N[C@H]1C[C@@H](C(F)(F)F)C1': -1.179, 'N[C@H]1C[C@H](C(F)F)C1': -1.106, 'N[C@H]1C[C@@H](C(F)F)C1': -1.03, 'N[C@H]1C[C@H](CF)C1': -0.812, 'N[C@H]1C[C@@H](CF)C1': -0.698, 'FC(F)C1CCCCN1': -2.857, 'FC(F)C1CCCN1': -2.701, 'FC(F)(F)C1CCN1': -4.154, 'FC(F)C1CCN1': -3.019, 'NCCF': -3.428, 'FC(F)(F)C1CCCNC1': -1.296, 'FC(F)C1CCCNC1': -0.875, 'FCC1CCCNC1': -0.284, 'FC(F)C1CCNC1': -0.838, 'FCC1CCNC1': -0.277, 'FC(F)(F)C1CNC1': -2.507, 'FC(F)C1CNC1': -1.832, 'FCC1CNC1': -0.799, 'NCCC(F)F': -1.574, 'NCCCF': -1.24, 'CCN': 0.0, 'FC(F)C1CCNCC1': -0.389, 'FCC1CCNCC1': -0.073, 'NCCCCF': -0.264, 'NCCCC(F)F': -0.323, 'NCCCC(F)(F)F': -0.579, 'CCCN': 0.0, 'NC1CCC1(F)F': -3.06, 'NC1CC(F)(F)C1': -1.584, 'NC1CCCCC1(F)F': -2.972, 'NC1CCCC(F)(F)C1': -1.022, 'NC1CCCCCC1(F)F': -3.08, 'NC1CCCCC(F)(F)C1': -1.121, 'NC1CCCC(F)(F)CC1': -0.778, 'CCC(F)(F)CN': -2.46, 'CC(F)(F)CCN': -0.829, 'NC1CC1': 0.0, 'NC1CCCC1': 0.0, 'NC1CCCCCC1': 0.0, 'NC1CC2(CCC2)C1': 0.0, 'NC1CC2(C1)CC(F)(F)C2': -0.451, 'N[C@@H]1CC[C@H]1C(F)(F)F': -2.264, 'N[C@@H]1CC[C@H]1CF': -1.658, 'N[C@@H]1C[C@H]1C(F)(F)F': -2.056, 'N[C@H]1C[C@H]1C(F)(F)F': -2.019, 'N[C@@H]1C[C@H]1C(F)F': -1.992, 'N[C@H]1C[C@H]1C(F)F': -1.937, 'C[C@@H]1C[C@H]1N': 0.0, 'NC1CC12CC2': 0.0, 'O=C(O)C1CC12CC2(F)F': -0.22, 'O=C(O)C12CC(CO1)C2': 0.0, 'O=C(O)C1CCCC(F)(F)C1': -0.303, 'O=C(O)[C@@H]1C[C@@H]2C[C@@H]2C1': 0.0, 'O=C(O)C1CC2(CC(F)C2)C1': -0.001, 'O=C(O)C1CC12CC2': 0.0, 'O=C(O)CCCC(F)F': -0.007, 'FC(F)(F)C12CCC(CN1)C2': -4.415, 'FC(F)(F)C1CCCN1': -4.459, 'FC(F)(F)C1CCCCN1': -3.831, 'NC1CC12CC2(F)F': -1.007, 'NC1CCCC1(F)F': -3.193, 'FC1(F)CCNCC1': -2.733, 'FC1(F)C2CCC1CNC2': -2.793, 'NC1CCC(F)(F)C1': -1.693, 'FC1CNC1': -3.253, 'N[C@@H]1CC[C@H]1C(F)F': -1.941, 'C[C@@H]1C[C@@H]1N': 0.0, 'FCC1CCCCN1': -1.027, 'FCC1CCCN1': -0.801, 'FCC1CCN1': -1.1, 'NC1CC2(C1)CC(F)C2': -0.064, 'FC(F)(F)C1CCNCC1': -0.266, 'CCCCN': 0.0, 'CC12CCC(CC1)CN2': 0.0, 'CC12CCCC(CN1)C2': 0.0}\n",
    "# SME - all test(separate model for each molecule) / fixed CF3\n",
    "# relevances_fluorine_all = {'O=C(O)C1CCC(F)(F)CC1': -0.053, 'O=C(O)C1CCCCC1': 0.0, 'O=C(O)[C@H]1C[C@@H]2C[C@@H]2C1': 0.0, 'O=C(O)[C@H]1C[C@@H]2[C@H](C1)C2(F)F': -0.102, 'O=C(O)[C@@H]1C[C@@H]2[C@H](C1)C2(F)F': -0.104, 'O=C(O)C1CCC1': 0.0, 'O=C(O)C1(CF)CCC1': -0.848, 'O=C(O)C1(C(F)F)CCC1': -0.902, 'O=C(O)C1(C(F)(F)F)CCC1': -1.372, 'O=C(O)[C@H]1C[C@H](C(F)(F)F)C1': -0.281, 'O=C(O)[C@H]1C[C@@H](C(F)(F)F)C1': -0.32, 'O=C(O)[C@H]1C[C@H](C(F)F)C1': -0.327, 'O=C(O)[C@H]1C[C@@H](C(F)F)C1': -0.246, 'O=C(O)[C@H]1C[C@H](CF)C1': -0.328, 'O=C(O)[C@H]1C[C@@H](CF)C1': -0.307, 'O=C(O)C1CC1(F)F': -1.148, 'O=C(O)C1CCC1(F)F': -0.962, 'O=C(O)C1CC(F)(F)C1': -0.687, 'O=C(O)C1CCCC1(F)F': -0.865, 'O=C(O)C1CCC(F)(F)C1': -0.092, 'O=C(O)C1CCCCC1(F)F': -0.854, 'O=C(O)C1CCCCCC1(F)F': -0.261, 'O=C(O)C1CCCCC(F)(F)C1': -0.094, 'O=C(O)C1CCCC(F)(F)CC1': -0.031, 'CCC(F)(F)CC(=O)O': -0.957, 'CC(F)(F)CCC(=O)O': -0.111, 'O=C(O)C1CC1': 0.0, 'O=C(O)C1CCCC1': 0.0, 'O=C(O)C1CCCCCC1': 0.0, 'CCCCC(=O)O': 0.0, 'O=C(O)C1CC2(CCC2)C1': 0.0, 'O=C(O)C1CC2(C1)CC(F)(F)C2': -0.005, 'O=C(O)[C@@H]1CC[C@H]1C(F)(F)F': -0.319, 'O=C(O)[C@@H]1CC[C@H]1C(F)F': -0.321, 'O=C(O)[C@@H]1CC[C@H]1CF': -0.182, 'O=C(O)[C@@H]1C[C@H]1C(F)(F)F': -0.277, 'O=C(O)[C@H]1C[C@H]1C(F)(F)F': -0.291, 'O=C(O)[C@@H]1C[C@H]1C(F)F': -0.369, 'O=C(O)[C@H]1C[C@H]1C(F)F': -0.372, 'O=C(O)[C@@H]1C[C@H]1CF': -0.327, 'C[C@@H]1C[C@H]1C(=O)O': 0.0, 'C[C@@H]1C[C@@H]1C(=O)O': 0.0, 'O=C(O)C1C(F)(F)C12CC2': -0.211, 'N[C@@H]1C[C@@H]2[C@H](C1)C2(F)F': -1.297, 'N[C@H]1C[C@@H]2[C@H](C1)C2(F)F': -1.217, 'NC1CCC(F)(F)CC1': -1.192, 'NC1CCCCC1': 0.0, 'N[C@@H]1C[C@@H]2C[C@@H]2C1': 0.0, 'N[C@H]1C[C@@H]2C[C@@H]2C1': 0.0, 'FC(F)(F)C12CC(CN1)C2': -4.464, 'C1NC2CC1C2': 0.0, 'C1CCNC1': 0.0, 'CC12CC(CN1)C2': 0.0, 'FC(F)(F)C12CCC(CC1)CN2': -4.684, 'C1CC2CC1CN2': 0.0, 'C1CC2CCC1CN2': 0.0, 'C1CCNCC1': 0.0, 'FC(F)(F)C12CCCC(CN1)C2': -4.472, 'C1CC2CNC(C1)C2': 0.0, 'FC1(F)CC2CNCC(C2)C1': -0.046, 'FC1(F)CC2CNCC(C1)C2(F)F': -2.79, 'FC1(F)C2CCCC1CNC2': -2.638, 'C1CC2CNCC(C1)C2': 0.0, 'FC1(F)C2CNCC1COC2': -3.025, 'C1NCC2COCC1C2': 0.0, 'C1CC2CNCC1C2': 0.0, 'C1CNC1': 0.0, 'FC1(F)CNC1': -4.695, 'FC1CCNC1': -2.517, 'FC1(F)CCNC1': -3.875, 'F[C@@H]1CNC[C@@H]1F': -4.274, 'F[C@@H]1CNC[C@H]1F': -4.379, 'FC1CCCNC1': -1.699, 'FC1(F)CCCNC1': -2.897, 'F[C@@H]1CNC[C@H](F)C1': -3.976, 'F[C@@H]1CNC[C@@H](F)C1': -3.324, 'FC1CCNCC1': -1.41, 'F[C@@H]1CCNC[C@@H]1F': -3.419, 'F[C@@H]1CCNC[C@H]1F': -3.505, 'NC1(C(F)(F)F)CCC1': -3.618, 'NC1(C(F)F)CCC1': -3.94, 'NC1(CF)CCC1': -3.136, 'NC1CCC1': 0.0, 'N[C@H]1C[C@H](C(F)(F)F)C1': -1.22, 'N[C@H]1C[C@@H](C(F)(F)F)C1': -1.179, 'N[C@H]1C[C@H](C(F)F)C1': -1.106, 'N[C@H]1C[C@@H](C(F)F)C1': -1.03, 'N[C@H]1C[C@H](CF)C1': -0.812, 'N[C@H]1C[C@@H](CF)C1': -0.698, 'FC(F)C1CCCCN1': -2.857, 'FC(F)C1CCCN1': -2.701, 'FC(F)(F)C1CCN1': -4.154, 'FC(F)C1CCN1': -3.019, 'NCCF': -3.428, 'FC(F)(F)C1CCCNC1': -1.296, 'FC(F)C1CCCNC1': -0.875, 'FCC1CCCNC1': -0.284, 'FC(F)C1CCNC1': -0.838, 'FCC1CCNC1': -0.277, 'FC(F)(F)C1CNC1': -2.507, 'FC(F)C1CNC1': -1.832, 'FCC1CNC1': -0.799, 'NCCC(F)F': -1.574, 'NCCCF': -1.24, 'CCN': 0.0, 'FC(F)C1CCNCC1': -0.389, 'FCC1CCNCC1': -0.073, 'NCCCCF': -0.264, 'NCCCC(F)F': -0.323, 'NCCCC(F)(F)F': -0.579, 'CCCN': 0.0, 'NC1CCC1(F)F': -3.06, 'NC1CC(F)(F)C1': -1.584, 'NC1CCCCC1(F)F': -2.972, 'NC1CCCC(F)(F)C1': -1.022, 'NC1CCCCCC1(F)F': -3.08, 'NC1CCCCC(F)(F)C1': -1.121, 'NC1CCCC(F)(F)CC1': -0.778, 'CCC(F)(F)CN': -2.46, 'CC(F)(F)CCN': -0.829, 'NC1CC1': 0.0, 'NC1CCCC1': 0.0, 'NC1CCCCCC1': 0.0, 'NC1CC2(CCC2)C1': 0.0, 'NC1CC2(C1)CC(F)(F)C2': -0.451, 'N[C@@H]1CC[C@H]1C(F)(F)F': -2.264, 'N[C@@H]1CC[C@H]1CF': -1.658, 'N[C@@H]1C[C@H]1C(F)(F)F': -2.056, 'N[C@H]1C[C@H]1C(F)(F)F': -2.019, 'N[C@@H]1C[C@H]1C(F)F': -1.992, 'N[C@H]1C[C@H]1C(F)F': -1.937, 'C[C@@H]1C[C@H]1N': 0.0, 'NC1CC12CC2': 0.0, 'O=C(O)C1CC12CC2(F)F': -0.22, 'O=C(O)C12CC(CO1)C2': 0.0, 'O=C(O)C1CCCC(F)(F)C1': -0.303, 'O=C(O)[C@@H]1C[C@@H]2C[C@@H]2C1': 0.0, 'O=C(O)C1CC2(CC(F)C2)C1': -0.001, 'O=C(O)C1CC12CC2': 0.0, 'O=C(O)CCCC(F)F': -0.007, 'FC(F)(F)C12CCC(CN1)C2': -4.415, 'FC(F)(F)C1CCCN1': -4.459, 'FC(F)(F)C1CCCCN1': -3.831, 'NC1CC12CC2(F)F': -1.007, 'NC1CCCC1(F)F': -3.193, 'FC1(F)CCNCC1': -2.733, 'FC1(F)C2CCC1CNC2': -2.793, 'NC1CCC(F)(F)C1': -1.693, 'FC1CNC1': -3.253, 'N[C@@H]1CC[C@H]1C(F)F': -1.941, 'C[C@@H]1C[C@@H]1N': 0.0, 'FCC1CCCCN1': -1.027, 'FCC1CCCN1': -0.801, 'FCC1CCN1': -1.1, 'NC1CC2(C1)CC(F)C2': -0.064, 'FC(F)(F)C1CCNCC1': -0.487, 'CCCCN': 0.0, 'CC12CCC(CC1)CN2': 0.0, 'CC12CCCC(CN1)C2': 0.0}\n",
    "# SME - all test(separate model for each molecule) / fixed CF3 / modified\n",
    "relevances_fluorine_all = {'O=C(O)C1CCC(F)(F)CC1': -0.053, 'O=C(O)C1CCCCC1': 0.0, 'O=C(O)[C@H]1C[C@@H]2C[C@@H]2C1': 0.0, 'O=C(O)[C@H]1C[C@@H]2[C@H](C1)C2(F)F': -0.102, 'O=C(O)[C@@H]1C[C@@H]2[C@H](C1)C2(F)F': -0.104, 'O=C(O)C1CCC1': 0.0, 'O=C(O)C1(CF)CCC1': -0.848, 'O=C(O)C1(C(F)F)CCC1': -0.902, 'O=C(O)C1(C(F)(F)F)CCC1': -1.372, 'O=C(O)[C@H]1C[C@H](C(F)(F)F)C1': -0.281, 'O=C(O)[C@H]1C[C@@H](C(F)(F)F)C1': -0.32, 'O=C(O)[C@H]1C[C@H](C(F)F)C1': -0.327, 'O=C(O)[C@H]1C[C@@H](C(F)F)C1': -0.327, 'O=C(O)[C@H]1C[C@H](CF)C1': -0.328, 'O=C(O)[C@H]1C[C@@H](CF)C1': -0.207, 'O=C(O)C1CC1(F)F': -1.148, 'O=C(O)C1CCC1(F)F': -0.962, 'O=C(O)C1CC(F)(F)C1': -0.687, 'O=C(O)C1CCCC1(F)F': -0.865, 'O=C(O)C1CCC(F)(F)C1': -0.092, 'O=C(O)C1CCCCC1(F)F': -0.854, 'O=C(O)C1CCCCCC1(F)F': -0.261, 'O=C(O)C1CCCCC(F)(F)C1': -0.094, 'O=C(O)C1CCCC(F)(F)CC1': -0.031, 'CCC(F)(F)CC(=O)O': -0.957, 'CC(F)(F)CCC(=O)O': -0.111, 'O=C(O)C1CC1': 0.0, 'O=C(O)C1CCCC1': 0.0, 'O=C(O)C1CCCCCC1': 0.0, 'CCCCC(=O)O': 0.0, 'O=C(O)C1CC2(CCC2)C1': 0.0, 'O=C(O)C1CC2(C1)CC(F)(F)C2': -0.005, 'O=C(O)[C@@H]1CC[C@H]1C(F)(F)F': -0.519, 'O=C(O)[C@@H]1CC[C@H]1C(F)F': -0.321, 'O=C(O)[C@@H]1CC[C@H]1CF': -0.182, 'O=C(O)[C@@H]1C[C@H]1C(F)(F)F': -0.277, 'O=C(O)[C@H]1C[C@H]1C(F)(F)F': -0.491, 'O=C(O)[C@@H]1C[C@H]1C(F)F': -0.369, 'O=C(O)[C@H]1C[C@H]1C(F)F': -0.372, 'O=C(O)[C@@H]1C[C@H]1CF': -0.327, 'C[C@@H]1C[C@H]1C(=O)O': 0.0, 'C[C@@H]1C[C@@H]1C(=O)O': 0.0, 'O=C(O)C1C(F)(F)C12CC2': -0.211, 'N[C@@H]1C[C@@H]2[C@H](C1)C2(F)F': -1.297, 'N[C@H]1C[C@@H]2[C@H](C1)C2(F)F': -1.217, 'NC1CCC(F)(F)CC1': -1.192, 'NC1CCCCC1': 0.0, 'N[C@@H]1C[C@@H]2C[C@@H]2C1': 0.0, 'N[C@H]1C[C@@H]2C[C@@H]2C1': 0.0, 'FC(F)(F)C12CC(CN1)C2': -4.464, 'C1NC2CC1C2': 0.0, 'C1CCNC1': 0.0, 'CC12CC(CN1)C2': 0.0, 'FC(F)(F)C12CCC(CC1)CN2': -4.684, 'C1CC2CC1CN2': 0.0, 'C1CC2CCC1CN2': 0.0, 'C1CCNCC1': 0.0, 'FC(F)(F)C12CCCC(CN1)C2': -4.472, 'C1CC2CNC(C1)C2': 0.0, 'FC1(F)CC2CNCC(C2)C1': -0.046, 'FC1(F)CC2CNCC(C1)C2(F)F': -2.79, 'FC1(F)C2CCCC1CNC2': -2.638, 'C1CC2CNCC(C1)C2': 0.0, 'FC1(F)C2CNCC1COC2': -3.025, 'C1NCC2COCC1C2': 0.0, 'C1CC2CNCC1C2': 0.0, 'C1CNC1': 0.0, 'FC1(F)CNC1': -4.695, 'FC1CCNC1': -2.517, 'FC1(F)CCNC1': -3.875, 'F[C@@H]1CNC[C@@H]1F': -4.274, 'F[C@@H]1CNC[C@H]1F': -4.379, 'FC1CCCNC1': -1.699, 'FC1(F)CCCNC1': -2.897, 'F[C@@H]1CNC[C@H](F)C1': -3.976, 'F[C@@H]1CNC[C@@H](F)C1': -3.324, 'FC1CCNCC1': -1.41, 'F[C@@H]1CCNC[C@@H]1F': -3.419, 'F[C@@H]1CCNC[C@H]1F': -3.505, 'NC1(C(F)(F)F)CCC1': -4.618, 'NC1(C(F)F)CCC1': -3.94, 'NC1(CF)CCC1': -3.136, 'NC1CCC1': 0.0, 'N[C@H]1C[C@H](C(F)(F)F)C1': -1.22, 'N[C@H]1C[C@@H](C(F)(F)F)C1': -1.179, 'N[C@H]1C[C@H](C(F)F)C1': -1.106, 'N[C@H]1C[C@@H](C(F)F)C1': -1.03, 'N[C@H]1C[C@H](CF)C1': -0.812, 'N[C@H]1C[C@@H](CF)C1': -0.698, 'FC(F)C1CCCCN1': -2.857, 'FC(F)C1CCCN1': -2.701, 'FC(F)(F)C1CCN1': -4.154, 'FC(F)C1CCN1': -3.019, 'NCCF': -3.428, 'FC(F)(F)C1CCCNC1': -1.296, 'FC(F)C1CCCNC1': -0.875, 'FCC1CCCNC1': -0.284, 'FC(F)C1CCNC1': -0.838, 'FCC1CCNC1': -0.277, 'FC(F)(F)C1CNC1': -2.507, 'FC(F)C1CNC1': -1.832, 'FCC1CNC1': -0.799, 'NCCC(F)F': -1.574, 'NCCCF': -1.24, 'CCN': 0.0, 'FC(F)C1CCNCC1': -0.389, 'FCC1CCNCC1': -0.073, 'NCCCCF': -0.264, 'NCCCC(F)F': -0.323, 'NCCCC(F)(F)F': -0.579, 'CCCN': 0.0, 'NC1CCC1(F)F': -3.06, 'NC1CC(F)(F)C1': -1.584, 'NC1CCCCC1(F)F': -2.972, 'NC1CCCC(F)(F)C1': -1.022, 'NC1CCCCCC1(F)F': -3.08, 'NC1CCCCC(F)(F)C1': -1.121, 'NC1CCCC(F)(F)CC1': -0.778, 'CCC(F)(F)CN': -2.46, 'CC(F)(F)CCN': -0.829, 'NC1CC1': 0.0, 'NC1CCCC1': 0.0, 'NC1CCCCCC1': 0.0, 'NC1CC2(CCC2)C1': 0.0, 'NC1CC2(C1)CC(F)(F)C2': -0.451, 'N[C@@H]1CC[C@H]1C(F)(F)F': -2.264, 'N[C@@H]1CC[C@H]1CF': -1.658, 'N[C@@H]1C[C@H]1C(F)(F)F': -2.056, 'N[C@H]1C[C@H]1C(F)(F)F': -2.019, 'N[C@@H]1C[C@H]1C(F)F': -1.992, 'N[C@H]1C[C@H]1C(F)F': -1.937, 'C[C@@H]1C[C@H]1N': 0.0, 'NC1CC12CC2': 0.0, 'O=C(O)C1CC12CC2(F)F': -0.22, 'O=C(O)C12CC(CO1)C2': 0.0, 'O=C(O)C1CCCC(F)(F)C1': -0.303, 'O=C(O)[C@@H]1C[C@@H]2C[C@@H]2C1': 0.0, 'O=C(O)C1CC2(CC(F)C2)C1': -0.001, 'O=C(O)C1CC12CC2': 0.0, 'O=C(O)CCCC(F)F': -0.007, 'FC(F)(F)C12CCC(CN1)C2': -4.415, 'FC(F)(F)C1CCCN1': -4.459, 'FC(F)(F)C1CCCCN1': -3.831, 'NC1CC12CC2(F)F': -1.007, 'NC1CCCC1(F)F': -3.193, 'FC1(F)CCNCC1': -2.733, 'FC1(F)C2CCC1CNC2': -2.793, 'NC1CCC(F)(F)C1': -1.693, 'FC1CNC1': -3.253, 'N[C@@H]1CC[C@H]1C(F)F': -1.941, 'C[C@@H]1C[C@@H]1N': 0.0, 'FCC1CCCCN1': -1.027, 'FCC1CCCN1': -0.801, 'FCC1CCN1': -1.1, 'NC1CC2(C1)CC(F)C2': -0.064, 'FC(F)(F)C1CCNCC1': -0.487, 'CCCCN': 0.0, 'CC12CCC(CC1)CN2': 0.0, 'CC12CCCC(CN1)C2': 0.0}\n",
    "# LRP - all test(separate model for each molecule) / fixed CF3\n",
    "# relevances_fluorine_all = {'O=C(O)C1CCC(F)(F)CC1': 0.009, 'O=C(O)C1CCCCC1': 0, 'O=C(O)[C@H]1C[C@@H]2C[C@@H]2C1': 0, 'O=C(O)[C@H]1C[C@@H]2[C@H](C1)C2(F)F': 0.012, 'O=C(O)[C@@H]1C[C@@H]2[C@H](C1)C2(F)F': 0.012, 'O=C(O)C1CCC1': 0, 'O=C(O)C1(CF)CCC1': 0.001, 'O=C(O)C1(C(F)F)CCC1': -0.043, 'O=C(O)C1(C(F)(F)F)CCC1': -0.039, 'O=C(O)[C@H]1C[C@H](C(F)(F)F)C1': -0.04, 'O=C(O)[C@H]1C[C@@H](C(F)(F)F)C1': -0.04, 'O=C(O)[C@H]1C[C@H](C(F)F)C1': -0.029, 'O=C(O)[C@H]1C[C@@H](C(F)F)C1': -0.029, 'O=C(O)[C@H]1C[C@H](CF)C1': 0.013, 'O=C(O)[C@H]1C[C@@H](CF)C1': 0.013, 'O=C(O)C1CC1(F)F': -0.006, 'O=C(O)C1CCC1(F)F': -0.004, 'O=C(O)C1CC(F)(F)C1': 0.017, 'O=C(O)C1CCCC1(F)F': -0.009, 'O=C(O)C1CCC(F)(F)C1': 0.009, 'O=C(O)C1CCCCC1(F)F': -0.002, 'O=C(O)C1CCCCCC1(F)F': 0.003, 'O=C(O)C1CCCCC(F)(F)C1': 0.011, 'O=C(O)C1CCCC(F)(F)CC1': 0.008, 'CCC(F)(F)CC(=O)O': 0.004, 'CC(F)(F)CCC(=O)O': 0.026, 'O=C(O)C1CC1': 0, 'O=C(O)C1CCCC1': 0, 'O=C(O)C1CCCCCC1': 0, 'CCCCC(=O)O': 0, 'O=C(O)C1CC2(CCC2)C1': 0, 'O=C(O)C1CC2(C1)CC(F)(F)C2': 0.024, 'O=C(O)[C@@H]1CC[C@H]1C(F)(F)F': -0.041, 'O=C(O)[C@@H]1CC[C@H]1C(F)F': -0.026, 'O=C(O)[C@@H]1CC[C@H]1CF': 0.023, 'O=C(O)[C@@H]1C[C@H]1C(F)(F)F': -0.035, 'O=C(O)[C@H]1C[C@H]1C(F)(F)F': -0.035, 'O=C(O)[C@@H]1C[C@H]1C(F)F': -0.03, 'O=C(O)[C@H]1C[C@H]1C(F)F': -0.03, 'O=C(O)[C@@H]1C[C@H]1CF': 0.025, 'C[C@@H]1C[C@H]1C(=O)O': 0, 'C[C@@H]1C[C@@H]1C(=O)O': 0, 'O=C(O)C1C(F)(F)C12CC2': -0.007, 'N[C@@H]1C[C@@H]2[C@H](C1)C2(F)F': 0.04, 'N[C@H]1C[C@@H]2[C@H](C1)C2(F)F': 0.037, 'NC1CCC(F)(F)CC1': 0.043, 'NC1CCCCC1': -0.032, 'N[C@@H]1C[C@@H]2C[C@@H]2C1': -0.023, 'N[C@H]1C[C@@H]2C[C@@H]2C1': -0.01, 'FC(F)(F)C12CC(CN1)C2': 0.026, 'C1NC2CC1C2': 0.037, 'C1CCNC1': 0.019, 'CC12CC(CN1)C2': 0.025, 'FC(F)(F)C12CCC(CC1)CN2': 0.027, 'C1CC2CC1CN2': 0.02, 'C1CC2CCC1CN2': 0.016, 'C1CCNCC1': 0.01, 'FC(F)(F)C12CCCC(CN1)C2': 0.022, 'C1CC2CNC(C1)C2': 0.019, 'FC1(F)CC2CNCC(C2)C1': 0.035, 'FC1(F)CC2CNCC(C1)C2(F)F': 0.049, 'FC1(F)C2CCCC1CNC2': 0.022, 'C1CC2CNCC(C1)C2': 0.006, 'FC1(F)C2CNCC1COC2': 0.034, 'C1NCC2COCC1C2': -0.026, 'C1CC2CNCC1C2': 0.005, 'C1CNC1': 0.046, 'FC1(F)CNC1': 0.042, 'FC1CCNC1': -0.003, 'FC1(F)CCNC1': 0.038, 'F[C@@H]1CNC[C@@H]1F': 0.056, 'F[C@@H]1CNC[C@H]1F': 0.046, 'FC1CCCNC1': 0.025, 'FC1(F)CCCNC1': 0.026, 'F[C@@H]1CNC[C@H](F)C1': 0.085, 'F[C@@H]1CNC[C@@H](F)C1': 0.072, 'FC1CCNCC1': 0.012, 'F[C@@H]1CCNC[C@@H]1F': 0.057, 'F[C@@H]1CCNC[C@H]1F': 0.06, 'NC1(C(F)(F)F)CCC1': 0.022, 'NC1(C(F)F)CCC1': 0.031, 'NC1(CF)CCC1': 0.061, 'NC1CCC1': -0.069, 'N[C@H]1C[C@H](C(F)(F)F)C1': 0.03, 'N[C@H]1C[C@@H](C(F)(F)F)C1': 0.032, 'N[C@H]1C[C@H](C(F)F)C1': 0.024, 'N[C@H]1C[C@@H](C(F)F)C1': 0.022, 'N[C@H]1C[C@H](CF)C1': 0.025, 'N[C@H]1C[C@@H](CF)C1': 0.021, 'FC(F)C1CCCCN1': 0.016, 'FC(F)C1CCCN1': 0.013, 'FC(F)(F)C1CCN1': 0.025, 'FC(F)C1CCN1': 0.021, 'NCCF': 0.059, 'FC(F)(F)C1CCCNC1': 0.022, 'FC(F)C1CCCNC1': 0.018, 'FCC1CCCNC1': 0.02, 'FC(F)C1CCNC1': 0.015, 'FCC1CCNC1': 0.019, 'FC(F)(F)C1CNC1': 0.03, 'FC(F)C1CNC1': 0.001, 'FCC1CNC1': 0.017, 'NCCC(F)F': 0.032, 'NCCCF': 0.039, 'CCN': 0.019, 'FC(F)C1CCNCC1': 0.016, 'FCC1CCNCC1': 0.025, 'NCCCCF': 0.033, 'NCCCC(F)F': 0.026, 'NCCCC(F)(F)F': 0.03, 'CCCN': 0.032, 'NC1CCC1(F)F': 0.038, 'NC1CC(F)(F)C1': 0.044, 'NC1CCCCC1(F)F': 0.024, 'NC1CCCC(F)(F)C1': 0.039, 'NC1CCCCCC1(F)F': 0.026, 'NC1CCCCC(F)(F)C1': 0.036, 'NC1CCCC(F)(F)CC1': 0.038, 'CCC(F)(F)CN': 0.044, 'CC(F)(F)CCN': 0.037, 'NC1CC1': -0.096, 'NC1CCCC1': -0.072, 'NC1CCCCCC1': -0.049, 'NC1CC2(CCC2)C1': -0.012, 'NC1CC2(C1)CC(F)(F)C2': 0.057, 'N[C@@H]1CC[C@H]1C(F)(F)F': 0.037, 'N[C@@H]1CC[C@H]1CF': 0.03, 'N[C@@H]1C[C@H]1C(F)(F)F': 0.031, 'N[C@H]1C[C@H]1C(F)(F)F': 0.031, 'N[C@@H]1C[C@H]1C(F)F': 0.043, 'N[C@H]1C[C@H]1C(F)F': 0.042, 'C[C@@H]1C[C@H]1N': 0.002, 'NC1CC12CC2': 0.005, 'O=C(O)C1CC12CC2(F)F': 0.017, 'O=C(O)C12CC(CO1)C2': 0, 'O=C(O)C1CCCC(F)(F)C1': 0.008, 'O=C(O)[C@@H]1C[C@@H]2C[C@@H]2C1': 0, 'O=C(O)C1CC2(CC(F)C2)C1': 0.035, 'O=C(O)C1CC12CC2': 0, 'O=C(O)CCCC(F)F': -0.032, 'FC(F)(F)C12CCC(CN1)C2': 0.024, 'FC(F)(F)C1CCCN1': 0.022, 'FC(F)(F)C1CCCCN1': 0.024, 'NC1CC12CC2(F)F': 0.041, 'NC1CCCC1(F)F': 0.025, 'FC1(F)CCNCC1': 0.038, 'FC1(F)C2CCC1CNC2': 0.022, 'NC1CCC(F)(F)C1': 0.042, 'FC1CNC1': 0.001, 'N[C@@H]1CC[C@H]1C(F)F': 0.03, 'C[C@@H]1C[C@@H]1N': -0.004, 'FCC1CCCCN1': 0.017, 'FCC1CCCN1': 0.018, 'FCC1CCN1': 0.012, 'NC1CC2(C1)CC(F)C2': 0.042, 'FC(F)(F)C1CCNCC1': 0.012, 'CCCCN': 0.013, 'CC12CCC(CC1)CN2': 0.019, 'CC12CCCC(CN1)C2': 0.025}\n",
    "\n",
    "relevances_fluorine_all_temp = {}\n",
    "for smiles, relevance in relevances_fluorine_all.items():\n",
    "    relevances_fluorine_all_temp[smiles] = round(relevance, 2)\n",
    "relevances_fluorine_all = relevances_fluorine_all_temp.copy()"
   ]
  },
  {
   "cell_type": "code",
   "execution_count": 3,
   "metadata": {},
   "outputs": [],
   "source": [
    "\n",
    "SMILES_to_fgroup, SMILES_to_identificator, SMILES_to_cycle_type, SMILES_to_pKa = prepare_data()\n",
    "train_smiles, test_smiles, smiles_to_fold = train_test_smiles_data()\n",
    "\n",
    "relevances_fluorine = {}\n",
    "for SMILES, relevance in relevances_fluorine_all.items():\n",
    "    if \"second\" in SMILES_to_identificator[SMILES].lower():\n",
    "        relevances_fluorine[Chem.CanonSmiles(SMILES)] = relevance\n",
    "\n",
    "cyclopropane = {1: {}, 2: {}}\n",
    "cyclobutane = {1: {}, 2: {}, 3: {}} # logP_O=C(N1CCC1)C1=CC=CC=C1\n",
    "cyclopentane = {1: {}, 2: {}, 3: {}} #  logP_O=C(N1CCCC1)C1=CC=CC=C1\n",
    "cyclohexan = {1: {}, 2: {}, 3: {}, 4: {}} # logP_O=C(N1CCCCC1)C1=CC=CC=C1\n",
    "cycloheptane = {1: {}, 2: {}, 3: {}, 4: {}} # logP_O=C(NC1CCCCCC1(F)F)c1ccccc1\n",
    "methane = {1: {}, 2: {}, 3: {}, 4: {}} # 1: CNC(=O)C1=CC=CC=C1, 2: CCNC(=O)C1=CC=CC=C1 , 3: CCCNC(=O)C1=CC=CC=C1\n",
    "\n",
    "\n",
    "SMILES_to_fgroup, SMILES_to_identificator, SMILES_to_cycle_type, SMILES_to_pKa = prepare_data()\n",
    "train_SMILES, test_SMILES, smiles_to_fold = train_test_smiles_data()"
   ]
  },
  {
   "cell_type": "code",
   "execution_count": 4,
   "metadata": {},
   "outputs": [],
   "source": [
    "for SMILES, fluorine_group in SMILES_to_fgroup.items():\n",
    "    if fluorine_group == 'CHF':\n",
    "        if SMILES.lower().count('f') == 1:\n",
    "            SMILES_to_fgroup[SMILES] = 'CHF'\n",
    "        elif SMILES.lower().count('f') == 2:\n",
    "            SMILES_to_fgroup[SMILES] = 'CHF-double'"
   ]
  },
  {
   "cell_type": "code",
   "execution_count": 6,
   "metadata": {},
   "outputs": [
    {
     "name": "stdout",
     "output_type": "stream",
     "text": [
      "https://docs.google.com/spreadsheets/d/1CzpQGGeGzVZ0sv-pUm6jfaQ2dB6vecDpXeotMhIpUnQ/export?gid=0&format=csv\n"
     ]
    }
   ],
   "source": [
    "from rdkit import Chem\n",
    "import re\n",
    "\n",
    "def convert_google_sheet_url(url):\n",
    "    pattern = r'https://docs\\.google\\.com/spreadsheets/d/([a-zA-Z0-9-_]+)(/edit#gid=(\\d+)|/edit.*)?'\n",
    "\n",
    "    replacement = lambda m: f'https://docs.google.com/spreadsheets/d/{m.group(1)}/export?' + (f'gid={m.group(3)}&' if m.group(3) else '') + 'format=csv'\n",
    "\n",
    "    new_url = re.sub(pattern, replacement, url)\n",
    "\n",
    "    return new_url\n",
    "\n",
    "import pandas as pd\n",
    "\n",
    "url = 'https://docs.google.com/spreadsheets/d/1CzpQGGeGzVZ0sv-pUm6jfaQ2dB6vecDpXeotMhIpUnQ/edit#gid=0'\n",
    "\n",
    "new_url = convert_google_sheet_url(url)\n",
    "\n",
    "print(new_url)\n",
    "\n",
    "df = pd.read_csv(new_url)\n",
    "\n",
    "df.dropna(subset=['F Group'], inplace=True)\n",
    "\n",
    "smiles_to_id = {}\n",
    "for index, row in df.iterrows():\n",
    "    smiles_to_id[Chem.CanonSmiles(row['Amine/Acid SMILES'])] = row['Amine/Acid ID']"
   ]
  },
  {
   "cell_type": "code",
   "execution_count": 7,
   "metadata": {},
   "outputs": [],
   "source": [
    "primary_amines_ids = [\n",
    "    # 'α-1{2,b}',\n",
    "    'α-2{4,x}',\n",
    "    'β-2{4,x}',\n",
    "    'α-2{5,x}',\n",
    "    'β-2{5,x}',\n",
    "    'α-2{6,x}',\n",
    "    'β-2{6,x}',\n",
    "    'γ-2{6,x}',\n",
    "]\n",
    "\n",
    "colors = {\n",
    "    'α-2{4,x}': 'navy',\n",
    "    'β-2{4,x}': 'limegreen',\n",
    "    'α-2{5,x}': 'royalblue',\n",
    "    'β-2{5,x}': 'springgreen',\n",
    "    'α-2{6,x}': 'lightsteelblue',\n",
    "    'β-2{6,x}': 'darkgreen',\n",
    "    'γ-2{6,x}': 'goldenrod',\n",
    "}\n",
    "\n",
    "line_color = {1: \"blue\", 2: \"green\", 3: \"orange\"}"
   ]
  },
  {
   "cell_type": "code",
   "execution_count": 8,
   "metadata": {},
   "outputs": [
    {
     "name": "stdout",
     "output_type": "stream",
     "text": [
      "Number of molecule: 0\n"
     ]
    }
   ],
   "source": [
    "import re\n",
    "\n",
    "amine_type_smiles = {primary_amines_id: [] for primary_amines_id in primary_amines_ids}\n",
    "\n",
    "pattern_fluorine_group = r\"\\{\\d+,(\\d+)\\}\"\n",
    "pattern_scaffold_index = r\"\\{(\\d+),\\d+\\}\"\n",
    "pattern_molecule_type = r\"(\\d+)\\{\"\n",
    "\n",
    "number_of_molecules = 0\n",
    "\n",
    "for smiles, id in smiles_to_id.items():\n",
    "    fluorine_group = int(re.search(pattern_fluorine_group, id).group(1))\n",
    "    scaffold_index = int(re.search(pattern_scaffold_index, id).group(1))\n",
    "    molecule_type = int(re.search(pattern_molecule_type, id).group(1))\n",
    "\n",
    "    if fluorine_group not in [2, 3, 4, 5, 6]:\n",
    "        continue\n",
    "\n",
    "    if scaffold_index not in [2, 3, 4]:\n",
    "        continue\n",
    "\n",
    "    if molecule_type not in [2]:\n",
    "        continue\n",
    "\n",
    "    if 'α' not in id and 'β' not in id and 'γ' not in id:\n",
    "        continue\n",
    "\n",
    "    transformed_id = id[:-2] + 'b}'\n",
    "\n",
    "    if transformed_id not in amine_type_smiles:\n",
    "        continue\n",
    "    \n",
    "    amine_type_smiles[transformed_id].append(smiles)\n",
    "    # print(smiles, id, transformed_id, fluorine_group, scaffold_index, molecule_type)\n",
    "    number_of_molecules += 1\n",
    "\n",
    "print(f\"Number of molecule: {number_of_molecules}\")"
   ]
  },
  {
   "cell_type": "code",
   "execution_count": 9,
   "metadata": {},
   "outputs": [
    {
     "data": {
      "text/plain": [
       "{'α-2{4,x}': [],\n",
       " 'β-2{4,x}': [],\n",
       " 'α-2{5,x}': [],\n",
       " 'β-2{5,x}': [],\n",
       " 'α-2{6,x}': [],\n",
       " 'β-2{6,x}': [],\n",
       " 'γ-2{6,x}': []}"
      ]
     },
     "execution_count": 9,
     "metadata": {},
     "output_type": "execute_result"
    }
   ],
   "source": [
    "amine_type_smiles"
   ]
  },
  {
   "cell_type": "code",
   "execution_count": 10,
   "metadata": {},
   "outputs": [
    {
     "data": {
      "text/plain": [
       "56"
      ]
     },
     "execution_count": 10,
     "metadata": {},
     "output_type": "execute_result"
    }
   ],
   "source": [
    "len(relevances_fluorine)"
   ]
  },
  {
   "cell_type": "code",
   "execution_count": 11,
   "metadata": {},
   "outputs": [],
   "source": [
    "for transformed_id, smiles in amine_type_smiles.items():\n",
    "    for smi in smiles:\n",
    "        if smi not in relevances_fluorine:\n",
    "            print(\"no\", smi)\n",
    "        print(smi)"
   ]
  },
  {
   "cell_type": "code",
   "execution_count": 12,
   "metadata": {},
   "outputs": [
    {
     "data": {
      "text/plain": [
       "'CCC(F)(F)CN'"
      ]
     },
     "execution_count": 12,
     "metadata": {},
     "output_type": "execute_result"
    }
   ],
   "source": [
    "Chem.CanonSmiles(\"CCC(F)(F)CN\")"
   ]
  },
  {
   "cell_type": "code",
   "execution_count": 13,
   "metadata": {},
   "outputs": [
    {
     "name": "stdout",
     "output_type": "stream",
     "text": [
      "α-2{4,x} {} {}\n",
      "β-2{4,x} {} {}\n",
      "α-2{5,x} {} {}\n",
      "β-2{5,x} {} {}\n",
      "α-2{6,x} {} {}\n",
      "β-2{6,x} {} {}\n",
      "γ-2{6,x} {} {}\n"
     ]
    },
    {
     "data": {
      "text/plain": [
       "<matplotlib.legend.Legend at 0x265f7f11790>"
      ]
     },
     "execution_count": 13,
     "metadata": {},
     "output_type": "execute_result"
    },
    {
     "data": {
      "image/png": "[encoded data removed]",
      "text/plain": [
       "<Figure size 600x1000 with 2 Axes>"
      ]
     },
     "metadata": {},
     "output_type": "display_data"
    }
   ],
   "source": [
    "import matplotlib.pyplot as plt\n",
    "import numpy as np\n",
    "\n",
    "\n",
    "X_optimal = ['CHF', 'gem-CF2', 'CHF-double']\n",
    "# X_optimal = ['CH2F', 'CHF2', 'CF3']\n",
    "\n",
    "Y_dict = {distance: {group: [] for group in X_optimal} for distance in range(1, 4)}\n",
    "Y_pKa_dict = {distance: {group: [] for group in X_optimal} for distance in range(1, 4)}\n",
    "\n",
    "fig, ((ax2, ax1)) = plt.subplots(2, 1, figsize=(6, 10))\n",
    "for primary_amines_id, smiles_list in amine_type_smiles.items():\n",
    "    distance_global = None\n",
    "    if \"α\" in primary_amines_id:\n",
    "        distance_global = 1\n",
    "    elif \"β\" in primary_amines_id:\n",
    "        distance_global = 2\n",
    "    elif \"γ\" in primary_amines_id:\n",
    "        distance_global = 3\n",
    "\n",
    "    f_group_to_pKa = {}\n",
    "    f_group_to_relevance = {}\n",
    "    for SMILES in smiles_list:\n",
    "        if SMILES not in relevances_fluorine:\n",
    "            continue\n",
    "\n",
    "        f_group = SMILES_to_fgroup[SMILES]\n",
    "\n",
    "        if 'CCC(F)(F)CN' == SMILES:\n",
    "            pass\n",
    "\n",
    "        if f_group not in X_optimal:\n",
    "            continue\n",
    "\n",
    "        f_group_to_pKa[f_group] = SMILES_to_pKa[SMILES]\n",
    "        f_group_to_relevance[f_group] = relevances_fluorine[SMILES]\n",
    "        \n",
    "    print(primary_amines_id, f_group_to_pKa, f_group_to_relevance)\n",
    "\n",
    "    X_local = list(f_group_to_pKa.keys())\n",
    "    y_relevance = list(f_group_to_relevance.values())\n",
    "    y_pKa = list(f_group_to_pKa.values())\n",
    "\n",
    "    for f_group_optimal in X_optimal:\n",
    "        if f_group_optimal not in f_group_to_relevance:\n",
    "            continue\n",
    "\n",
    "        Y_dict[distance_global][f_group_optimal].append(f_group_to_relevance[f_group_optimal])\n",
    "        Y_pKa_dict[distance_global][f_group_optimal].append(f_group_to_pKa[f_group_optimal])\n",
    "\n",
    "    ax1.scatter(X_local, y_relevance, marker='^', linestyle='-', color=colors[primary_amines_id], label=primary_amines_id)\n",
    "    for i in range(len(X_local)):\n",
    "        x_shift, y_shift = 20, -3\n",
    "        if i + 1 == len(X_local) and X_local[i] == X_optimal[-1]:\n",
    "            x_shift, y_shift = -17, -6\n",
    "\n",
    "        ax1.annotate(f\"{str(y_relevance[i])}\", (X_local[i], y_relevance[i]), xytext=(x_shift, y_shift), textcoords='offset points', ha='center')\n",
    "    # ax1.legend()\n",
    "\n",
    "    ax2.scatter(X_local, y_pKa, marker='^', linestyle='-', color=colors[primary_amines_id], label=primary_amines_id)\n",
    "    for i in range(len(X_local)):\n",
    "        # print(X_local[i], y_pKa[i])\n",
    "        x_shift, y_shift = 20, -3\n",
    "        if i + 1 == len(X_local) and X_local[i] == X_optimal[-1]:\n",
    "            x_shift, y_shift = -20, -6\n",
    "                \n",
    "        ax2.annotate(f\"{str(y_pKa[i])}\", (X_local[i], y_pKa[i]), xytext=(x_shift, y_shift), textcoords='offset points', ha='center')\n",
    "    \n",
    "\n",
    "# errorplot\n",
    "for distance in range(1, 4):\n",
    "    X, Y, Y_pKa = [], [], []\n",
    "    for f_group_name, relevances in Y_dict[distance].items():\n",
    "        if relevances != []:\n",
    "            X.append(f_group_name)\n",
    "            Y.append(relevances)\n",
    "            Y_pKa.append(Y_pKa_dict[distance][f_group_name])\n",
    "\n",
    "    mean_Y = [np.array(i).mean() for i in Y]\n",
    "    std_deviation_Y = [np.array(i).std() for i in Y]\n",
    "\n",
    "    ax1.plot(X, mean_Y, linestyle='-', color=line_color[distance], label=\"_no_legend\", linewidth=1)\n",
    "    ax1.set_ylim(-5, 0.3)\n",
    "    for i in range(len(X)):\n",
    "        ax1.errorbar(X[i], mean_Y[i], yerr=std_deviation_Y[i], color=line_color[distance], capsize=5, elinewidth=1, markeredgewidth=1)\n",
    "    ax1.set_ylabel(\"SME\", fontsize=14)\n",
    "\n",
    "    mean_logP_Y = [np.array(i).mean() for i in Y_pKa]\n",
    "    std_deviation_logP_Y = [np.array(i).std() for i in Y_pKa]\n",
    "\n",
    "    ax2.plot(X, mean_logP_Y, linestyle='-', color=line_color[distance], label=\"_no_legend\", linewidth=1)\n",
    "    ax2.set_ylim(3.6, 11.6)\n",
    "    for i in range(len(X)):\n",
    "        ax2.errorbar(X[i], mean_logP_Y[i], yerr=std_deviation_logP_Y[i], color=line_color[distance], capsize=5, elinewidth=1, markeredgewidth=1)\n",
    "    ax2.set_ylabel(\"pKa\", fontsize=14)\n",
    "    ax2.set_title(\"Primary\", fontsize=14)\n",
    "\n",
    "    # ax2.text(1.88, 10.9, '(A)', fontsize = 14)\n",
    "    # ax1.text(1.88, -0.1, '(B)', fontsize = 14)\n",
    "\n",
    "# ax2.legend(ncols=2, fontsize='small')\n",
    "ax2.legend(ncols=2)\n",
    "\n"
   ]
  }
 ],
 "metadata": {
  "kernelspec": {
   "display_name": "drug-discovery-venv",
   "language": "python",
   "name": "python3"
  },
  "language_info": {
   "codemirror_mode": {
    "name": "ipython",
    "version": 3
   },
   "file_extension": ".py",
   "mimetype": "text/x-python",
   "name": "python",
   "nbconvert_exporter": "python",
   "pygments_lexer": "ipython3",
   "version": "3.11.9"
  }
 },
 "nbformat": 4,
 "nbformat_minor": 2
}
