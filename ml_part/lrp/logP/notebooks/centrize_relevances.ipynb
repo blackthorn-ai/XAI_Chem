{
 "cells": [
  {
   "cell_type": "code",
   "execution_count": 1,
   "metadata": {},
   "outputs": [],
   "source": [
    "node_relevances = {0: 0.08052830398082733, 1: 0.05326171591877937, 2: 0.049634240567684174, 3: 0.16069763898849487, 4: 0.040752556174993515, 5: 0.08198888599872589, 6: 0.11601735651493073, 7: 0.03360256925225258, 8: -0.10588468611240387, 9: -0.2617509961128235, 10: 0.038181133568286896, 11: 0.16069763898849487, 12: 0.019173381850123405, 13: -0.46305030584335327, 14: 0.08634817600250244, 15: -0.02381012588739395, 16: 0.03557051718235016, 17: 0.026137806475162506}"
   ]
  },
  {
   "cell_type": "code",
   "execution_count": 2,
   "metadata": {},
   "outputs": [],
   "source": [
    "min_relevance = min(node_relevances.values())\n",
    "max_relevance = max(node_relevances.values())"
   ]
  },
  {
   "cell_type": "code",
   "execution_count": 5,
   "metadata": {},
   "outputs": [
    {
     "name": "stdout",
     "output_type": "stream",
     "text": [
      "[0.7429431690415274, 0.6555149433039706, 0.643883721490252, 1.0, 0.6154052809077022, 0.7476264133872617, 0.8567360971887155, 0.5924793955978325, 0.1452241973389914, -0.3545491848160024, 0.6071602113150485, 1.0, 0.5462133116077073, -1.0, 0.7616041428207485, 0.408389986998261, 0.5987894698719147, 0.5685442056258561]\n"
     ]
    }
   ],
   "source": [
    "def normalize_to_minus_one_to_one(data):\n",
    "    min_val = min(data)\n",
    "    max_val = max(data)\n",
    "    diff = max_val - min_val\n",
    "    normalized_data = [(x - min_val) / diff * 2 - 1 for x in data]\n",
    "    return normalized_data\n",
    "\n",
    "normalized_data = normalize_to_minus_one_to_one(node_relevances.values())\n",
    "print(normalized_data)\n"
   ]
  },
  {
   "cell_type": "code",
   "execution_count": 8,
   "metadata": {},
   "outputs": [
    {
     "data": {
      "text/plain": [
       "{0: 0.7429431690415274,\n",
       " 1: 0.6555149433039706,\n",
       " 2: 0.643883721490252,\n",
       " 3: 1.0,\n",
       " 4: 0.6154052809077022,\n",
       " 5: 0.7476264133872617,\n",
       " 6: 0.8567360971887155,\n",
       " 7: 0.5924793955978325,\n",
       " 8: 0.1452241973389914,\n",
       " 9: -0.3545491848160024,\n",
       " 10: 0.6071602113150485,\n",
       " 11: 1.0,\n",
       " 12: 0.5462133116077073,\n",
       " 13: -1.0,\n",
       " 14: 0.7616041428207485,\n",
       " 15: 0.408389986998261,\n",
       " 16: 0.5987894698719147,\n",
       " 17: 0.5685442056258561}"
      ]
     },
     "execution_count": 8,
     "metadata": {},
     "output_type": "execute_result"
    }
   ],
   "source": [
    "def normalize_to_minus_one_to_one(data: dict):\n",
    "    min_val = min(data.values())\n",
    "    max_val = max(data.values())\n",
    "    difference = max_val - min_val\n",
    "\n",
    "    for key, value in data.items():\n",
    "        data[key] = ((value - min_val) / difference) * 2 - 1\n",
    "    \n",
    "    return data  \n",
    "\n",
    "normalized_data = normalize_to_minus_one_to_one(node_relevances)\n",
    "normalized_data"
   ]
  }
 ],
 "metadata": {
  "kernelspec": {
   "display_name": "drug-discovery-venv",
   "language": "python",
   "name": "python3"
  },
  "language_info": {
   "codemirror_mode": {
    "name": "ipython",
    "version": 3
   },
   "file_extension": ".py",
   "mimetype": "text/x-python",
   "name": "python",
   "nbconvert_exporter": "python",
   "pygments_lexer": "ipython3",
   "version": "3.11.9"
  }
 },
 "nbformat": 4,
 "nbformat_minor": 2
}
