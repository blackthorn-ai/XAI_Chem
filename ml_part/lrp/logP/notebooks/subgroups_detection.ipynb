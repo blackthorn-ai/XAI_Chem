{
 "cells": [
  {
   "cell_type": "code",
   "execution_count": 13,
   "metadata": {},
   "outputs": [],
   "source": [
    "import pandas as pd\n",
    "\n",
    "df_main = pd.read_csv(r'C:\\work\\DrugDiscovery\\main_git\\XAI_Chem\\data\\init_data\\pKa_Prediction_Starting data_2024.01.25.csv', index_col=0)\n",
    "\n",
    "df_oos = pd.read_csv(r'C:\\work\\DrugDiscovery\\main_git\\XAI_Chem\\data\\logP_lipophilicity_data\\gnn_cv\\test.csv', index_col=0)"
   ]
  },
  {
   "cell_type": "code",
   "execution_count": 14,
   "metadata": {},
   "outputs": [],
   "source": [
    "SMILES_to_fgroup = {}\n",
    "SMILES_to_identificator = {}\n",
    "for index, row in df_main.iterrows():\n",
    "    SMILES = row['Amides for LogP']\n",
    "    if pd.isnull(SMILES):\n",
    "        continue\n",
    "    \n",
    "    SMILES_to_fgroup[SMILES] = row['F group']\n",
    "    SMILES_to_identificator[SMILES] = row['identificator']\n"
   ]
  },
  {
   "cell_type": "code",
   "execution_count": 75,
   "metadata": {},
   "outputs": [
    {
     "name": "stdout",
     "output_type": "stream",
     "text": [
      "Primary amine O=C(NC1CCC1)C1=CC=CC=C1 ((7, 8, 9, 10, 11, 12),) ((2, 1, 0),) () non-F\n",
      "[[7, 8, 9, 10, 11, 12], [2, 1, 0], [3, 4, 5, 6]]\n",
      "Carboxylic acid FC1(F)CC1C(=O)NC1=CC=CC=C1 ((8, 9, 10, 11, 12, 13),) ((7, 5, 6),) ((0,), (2,)) gem-CF2\n",
      "[[8, 9, 10, 11, 12, 13], [7, 5, 6], [0], [2], [1, 3, 4]]\n",
      "Carboxylic acid FC1(F)CC2(CC(C2)C(=O)NC2=CC=CC=C2)C1 ((11, 12, 13, 14, 15, 16),) ((10, 8, 9),) ((0,), (2,)) gem-CF2\n",
      "[[11, 12, 13, 14, 15, 16], [10, 8, 9], [0], [2], [1, 3, 4, 5, 6, 7, 17]]\n",
      "Secondary amine FC1CCN(CC1)C(=O)C1=CC=CC=C1 ((9, 10, 11, 12, 13, 14),) ((7, 8),) ((1, 0),) CHF\n",
      "[[9, 10, 11, 12, 13, 14], [7, 8], [1, 0], [2, 3, 4, 5, 6]]\n",
      "Carboxylic acid FC1(F)CCC(CC1)C(=O)NC1=CC=CC=C1 ((11, 12, 13, 14, 15, 16),) ((10, 8, 9),) ((0,), (2,)) gem-CF2\n",
      "[[11, 12, 13, 14, 15, 16], [10, 8, 9], [0], [2], [1, 3, 4, 5, 6, 7]]\n",
      "Primary amine [H]C(F)(F)[C@@H]1CC[C@H]1NC(=O)C1=CC=CC=C1 ((10, 11, 12, 13, 14, 15),) ((7, 8, 9),) ((0, 1, 2),) CHF2\n",
      "[[10, 11, 12, 13, 14, 15], [7, 8, 9], [0, 1, 2], [3, 4, 5, 6]]\n",
      "Carboxylic acid O=C(NC1=CC=CC=C1)C1CC2(CCC2)C1 ((3, 4, 5, 6, 7, 8),) ((2, 1, 0),) () non-F\n",
      "[[3, 4, 5, 6, 7, 8], [2, 1, 0], [9, 10, 11, 12, 13, 14, 15]]\n",
      "Secondary amine O=C(N1CC2CCCC(C2)C1)C1=CC=CC=C1 ((11, 12, 13, 14, 15, 16),) ((1, 0),) () non-F\n",
      "[[11, 12, 13, 14, 15, 16], [1, 0], [2, 3, 4, 5, 6, 7, 8, 9, 10]]\n",
      "Secondary amine FC1(F)CCN(CC1)C(=O)C1=CC=CC=C1 ((10, 11, 12, 13, 14, 15),) ((8, 9),) ((0,), (2,)) gem-CF2\n",
      "[[10, 11, 12, 13, 14, 15], [8, 9], [0], [2], [1, 3, 4, 5, 6, 7]]\n",
      "Secondary amine [H]C(F)(F)C1CCN(CC1)C(=O)C1=CC=CC=C1 ((11, 12, 13, 14, 15, 16),) ((9, 10),) ((0, 1, 2),) CHF2\n",
      "[[11, 12, 13, 14, 15, 16], [9, 10], [0, 1, 2], [3, 4, 5, 6, 7, 8]]\n",
      "Carboxylic acid C[C@@H]1C[C@@H]1C(=O)NC1=CC=CC=C1 ((7, 8, 9, 10, 11, 12),) ((6, 4, 5),) () non-F\n",
      "[[7, 8, 9, 10, 11, 12], [6, 4, 5], [0, 1, 2, 3]]\n",
      "Primary amine FC(F)(F)CCNC(=O)C1=CC=CC=C1 ((9, 10, 11, 12, 13, 14),) ((6, 7, 8),) ((1, 0, 2, 3),) CF3\n",
      "[[9, 10, 11, 12, 13, 14], [6, 7, 8], [1, 0, 2, 3], [4, 5]]\n",
      "Carboxylic acid [H]C(F)(F)C12CC(C1)(OC2)C(=O)NC1=CC=CC=C1 ((12, 13, 14, 15, 16, 17),) ((11, 9, 10),) ((0, 1, 2),) CHF2\n",
      "[[12, 13, 14, 15, 16, 17], [11, 9, 10], [0, 1, 2], [3, 4, 5, 6, 7, 8]]\n",
      "Primary amine FC1(F)CCC1NC(=O)C1=CC=CC=C1 ((9, 10, 11, 12, 13, 14),) ((6, 7, 8),) ((0,), (2,)) gem-CF2\n",
      "[[9, 10, 11, 12, 13, 14], [6, 7, 8], [0], [2], [1, 3, 4, 5]]\n",
      "Secondary amine [H]C([H])(F)C1CCN(C1)C(=O)C1=CC=CC=C1 ((9, 10, 11, 12, 13, 14),) ((7, 8),) ((2, 0, 1),) CH2F\n",
      "[[9, 10, 11, 12, 13, 14], [7, 8], [2, 0, 1], [3, 4, 5, 6]]\n",
      "Secondary amine FC1(F)CN(C1)C(=O)C1=CC=CC=C1 ((8, 9, 10, 11, 12, 13),) ((6, 7),) ((0,), (2,)) gem-CF2\n",
      "[[8, 9, 10, 11, 12, 13], [6, 7], [0], [2], [1, 3, 4, 5]]\n",
      "Primary amine FC1(F)CCC(C1)NC(=O)C1=CC=CC=C1 ((10, 11, 12, 13, 14, 15),) ((7, 8, 9),) ((0,), (2,)) gem-CF2\n",
      "[[10, 11, 12, 13, 14, 15], [7, 8, 9], [0], [2], [1, 3, 4, 5, 6]]\n",
      "Primary amine [H]C([H])(F)[C@@H]1CC[C@H]1NC(=O)C1=CC=CC=C1 ((9, 10, 11, 12, 13, 14),) ((6, 7, 8),) ((2, 0, 1),) CH2F\n",
      "[[9, 10, 11, 12, 13, 14], [6, 7, 8], [2, 0, 1], [3, 4, 5]]\n",
      "Carboxylic acid FC1(F)CCC1C(=O)NC1=CC=CC=C1 ((9, 10, 11, 12, 13, 14),) ((8, 6, 7),) ((0,), (2,)) gem-CF2\n",
      "[[9, 10, 11, 12, 13, 14], [8, 6, 7], [0], [2], [1, 3, 4, 5]]\n",
      "Primary amine FC1(F)[C@H]2C[C@@H](C[C@@H]12)NC(=O)C1=CC=CC=C1 ((11, 12, 13, 14, 15, 16),) ((8, 9, 10),) ((0,), (2,)) gem-CF2\n",
      "[[11, 12, 13, 14, 15, 16], [8, 9, 10], [0], [2], [1, 3, 4, 5, 6, 7]]\n",
      "Primary amine [H]C([H])(F)CNC(=O)C1=CC=CC=C1 ((6, 7, 8, 9, 10, 11),) ((3, 4, 5),) ((2, 0, 1),) CH2F\n",
      "[[6, 7, 8, 9, 10, 11], [3, 4, 5], [2, 0, 1], []]\n",
      "Primary amine FC(F)C1(CCC1)NC(=O)C1=CC=CC=C1 ((10, 11, 12, 13, 14, 15),) ((7, 8, 9),) ((1, 0, 2),) CHF2\n",
      "[[10, 11, 12, 13, 14, 15], [7, 8, 9], [1, 0, 2], [3, 4, 5, 6]]\n",
      "Carboxylic acid C[C@@H]1C[C@H]1C(=O)NC1=CC=CC=C1 ((7, 8, 9, 10, 11, 12),) ((6, 4, 5),) () non-F\n",
      "[[7, 8, 9, 10, 11, 12], [6, 4, 5], [0, 1, 2, 3]]\n",
      "Carboxylic acid FC1(F)CCCC(C1)C(=O)NC1=CC=CC=C1 ((11, 12, 13, 14, 15, 16),) ((10, 8, 9),) ((0,), (2,)) gem-CF2\n",
      "[[11, 12, 13, 14, 15, 16], [10, 8, 9], [0], [2], [1, 3, 4, 5, 6, 7]]\n",
      "Carboxylic acid CC(F)(F)CCC(=O)NC1=CC=CC=C1 ((9, 10, 11, 12, 13, 14),) ((8, 6, 7),) ((2,), (3,)) gem-CF2\n",
      "[[9, 10, 11, 12, 13, 14], [8, 6, 7], [2], [3], [0, 1, 4, 5]]\n"
     ]
    }
   ],
   "source": [
    "from rdkit import Chem\n",
    "\n",
    "functional_group_to_smiles = {\n",
    "    \"CF3\": \"C(F)(F)F\", \n",
    "    \"CH2F\": \"CCF\", \n",
    "    \"gem-CF2\": \"F\", \n",
    "    \"CHF2\": \"C(F)(F)\",\n",
    "    \"CHF\": \"CF\",\n",
    "    \"non-F\": \"\"\n",
    "}\n",
    "\n",
    "logP_ring = 'C1=CC=CC=C1'\n",
    "mol_ring = Chem.MolFromSmiles(logP_ring)\n",
    "\n",
    "for index, row in df_oos.iterrows():\n",
    "    logP_SMILES = row['Smiles']\n",
    "\n",
    "    # if logP_SMILES != \"[H]C(F)(F)C1CCN(CC1)C(=O)C1=CC=CC=C1\": continue\n",
    "    \n",
    "    identificator = SMILES_to_identificator[logP_SMILES]\n",
    "    f_group = SMILES_to_fgroup[logP_SMILES]\n",
    "\n",
    "    molecule = Chem.MolFromSmiles(logP_SMILES)\n",
    "    # ADDITIONAL LOGP RING MATCHES\n",
    "    mol_ring_matches = molecule.GetSubstructMatches(mol_ring)\n",
    "    if not molecule.HasSubstructMatch(mol_ring):\n",
    "        print(logP_SMILES)\n",
    "\n",
    "    for match in mol_ring_matches:\n",
    "        for atom_idx in match:\n",
    "            atom = molecule.GetAtomWithIdx(atom_idx)\n",
    "            atom.SetProp('atomNote', 'logP_ring')\n",
    "\n",
    "    # COOH MATCHES\n",
    "    NCOOH_SMILE = 'NC(=O)'\n",
    "    if \"secondary\" in identificator.lower():\n",
    "        NCOOH_SMILE = 'C(=O)'\n",
    "    ncooh_mol = Chem.MolFromSmiles(NCOOH_SMILE)\n",
    "    ncooh_matches = molecule.GetSubstructMatches(ncooh_mol)\n",
    "    if not molecule.HasSubstructMatch(ncooh_mol):\n",
    "        print(logP_SMILES)\n",
    "\n",
    "    for match in ncooh_matches:\n",
    "        for atom_idx in match:\n",
    "            atom = molecule.GetAtomWithIdx(atom_idx)\n",
    "            atom.SetProp('atomNote', 'COOH')\n",
    "\n",
    "    # FLUORIC GROUP MATCHES\n",
    "    f_group_smiles = functional_group_to_smiles[f_group]\n",
    "    f_group_mol = Chem.MolFromSmiles(f_group_smiles)\n",
    "    f_group_matches = molecule.GetSubstructMatches(f_group_mol)\n",
    "    if not molecule.HasSubstructMatch(f_group_mol) and f_group != \"non-F\":\n",
    "        print(f_group, logP_SMILES)\n",
    "\n",
    "    for match in f_group_matches:\n",
    "        for atom_idx in match:\n",
    "            atom = molecule.GetAtomWithIdx(atom_idx)\n",
    "            atom.SetProp('atomNote', 'F group')\n",
    "\n",
    "    matches = [list(match) for match in mol_ring_matches] + [list(match) for match in ncooh_matches] + [list(match) for match in f_group_matches]\n",
    "    all_indices = set()\n",
    "    for indices in matches:\n",
    "        all_indices.update(indices)\n",
    "\n",
    "    # MAIN MOLECULE PART ATOMS\n",
    "    main_molecule_atoms = []\n",
    "    for atom in molecule.GetAtoms():\n",
    "        atom_index = atom.GetIdx()\n",
    "        if atom_index not in all_indices:\n",
    "            main_molecule_atoms.append(atom_index)\n",
    "    all_indices.update(main_molecule_atoms)\n",
    "    for atom_idx in main_molecule_atoms:\n",
    "        atom = molecule.GetAtomWithIdx(atom_idx)\n",
    "        atom.SetProp('atomNote', 'MM')\n",
    "    matches += [main_molecule_atoms]\n",
    "    \n",
    "    print(identificator, logP_SMILES, mol_ring_matches, ncooh_matches, f_group_matches, f_group)\n",
    "    print(matches)"
   ]
  },
  {
   "cell_type": "code",
   "execution_count": 38,
   "metadata": {},
   "outputs": [
    {
     "data": {
      "text/plain": [
       "<rdkit.Chem.rdchem.Mol at 0x1fedab1c7b0>"
      ]
     },
     "execution_count": 38,
     "metadata": {},
     "output_type": "execute_result"
    }
   ],
   "source": [
    "molecule"
   ]
  },
  {
   "cell_type": "code",
   "execution_count": 74,
   "metadata": {},
   "outputs": [
    {
     "data": {
      "image/png": "[encoded data removed]",
      "text/plain": [
       "<PIL.PngImagePlugin.PngImageFile image mode=RGB size=300x300>"
      ]
     },
     "execution_count": 74,
     "metadata": {},
     "output_type": "execute_result"
    }
   ],
   "source": [
    "from rdkit.Chem import Draw\n",
    "\n",
    "img = Draw.MolToImage(molecule)\n",
    "\n",
    "img"
   ]
  }
 ],
 "metadata": {
  "kernelspec": {
   "display_name": "drug-discovery-venv",
   "language": "python",
   "name": "python3"
  },
  "language_info": {
   "codemirror_mode": {
    "name": "ipython",
    "version": 3
   },
   "file_extension": ".py",
   "mimetype": "text/x-python",
   "name": "python",
   "nbconvert_exporter": "python",
   "pygments_lexer": "ipython3",
   "version": "3.11.9"
  }
 },
 "nbformat": 4,
 "nbformat_minor": 2
}
