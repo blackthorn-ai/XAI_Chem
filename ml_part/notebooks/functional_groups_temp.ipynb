{
 "cells": [
  {
   "cell_type": "code",
   "execution_count": 22,
   "metadata": {},
   "outputs": [
    {
     "name": "stdout",
     "output_type": "stream",
     "text": [
      "False\n",
      "()\n"
     ]
    }
   ],
   "source": [
    "from rdkit import Chem\n",
    "from rdkit.Chem.Draw import IPythonConsole\n",
    "\n",
    "main = \"FC(F)(F)C12CCC(CC2)CN1\"\n",
    "main_mol = Chem.MolFromSmiles(main)\n",
    "functional_group = Chem.MolFromSmarts(\"[CF3]\")\n",
    "\n",
    "print(main_mol.HasSubstructMatch(functional_group))\n",
    "print(main_mol.GetSubstructMatches(functional_group))"
   ]
  },
  {
   "cell_type": "code",
   "execution_count": 26,
   "metadata": {},
   "outputs": [
    {
     "data": {
      "image/png": "[encoded data removed]",
      "text/plain": [
       "<rdkit.Chem.rdchem.Mol at 0x18467fee260>"
      ]
     },
     "execution_count": 26,
     "metadata": {},
     "output_type": "execute_result"
    }
   ],
   "source": [
    "from rdkit import Chem\n",
    "from rdkit.Chem.Draw import IPythonConsole\n",
    "from rdkit.Chem import Draw\n",
    "erythromycin = Chem.MolFromSmiles(\"NCC([H])(F)F\")\n",
    "erythromycin"
   ]
  },
  {
   "cell_type": "code",
   "execution_count": 9,
   "metadata": {},
   "outputs": [
    {
     "name": "stderr",
     "output_type": "stream",
     "text": [
      "[16:53:44] SMILES Parse Error: unclosed ring for input: 'CF3'\n"
     ]
    },
    {
     "ename": "ArgumentError",
     "evalue": "Python argument types in\n    Mol.GetSubstructMatches(Mol, NoneType)\ndid not match C++ signature:\n    GetSubstructMatches(class RDKit::ROMol self, class RDKit::MolBundle query, struct RDKit::SubstructMatchParameters params)\n    GetSubstructMatches(class RDKit::ROMol self, class RDKit::ROMol query, struct RDKit::SubstructMatchParameters params)\n    GetSubstructMatches(class RDKit::ROMol self, class RDKit::MolBundle query, bool uniquify=True, bool useChirality=False, bool useQueryQueryMatches=False, unsigned int maxMatches=1000)\n    GetSubstructMatches(class RDKit::ROMol self, class RDKit::ROMol query, bool uniquify=True, bool useChirality=False, bool useQueryQueryMatches=False, unsigned int maxMatches=1000)",
     "output_type": "error",
     "traceback": [
      "\u001b[1;31m---------------------------------------------------------------------------\u001b[0m",
      "\u001b[1;31mArgumentError\u001b[0m                             Traceback (most recent call last)",
      "Cell \u001b[1;32mIn[9], line 2\u001b[0m\n\u001b[0;32m      1\u001b[0m macro \u001b[38;5;241m=\u001b[39m Chem\u001b[38;5;241m.\u001b[39mMolFromSmiles(\u001b[38;5;124m\"\u001b[39m\u001b[38;5;124mCF3\u001b[39m\u001b[38;5;124m\"\u001b[39m)\n\u001b[1;32m----> 2\u001b[0m \u001b[38;5;28mprint\u001b[39m(\u001b[43merythromycin\u001b[49m\u001b[38;5;241;43m.\u001b[39;49m\u001b[43mGetSubstructMatches\u001b[49m\u001b[43m(\u001b[49m\u001b[43mmacro\u001b[49m\u001b[43m)\u001b[49m)\n",
      "File \u001b[1;32mc:\\work\\DrugDiscovery\\drug-discovery-venv\\Lib\\site-packages\\rdkit\\Chem\\Draw\\IPythonConsole.py:216\u001b[0m, in \u001b[0;36m_GetSubstructMatches\u001b[1;34m(mol, query, *args, **kwargs)\u001b[0m\n\u001b[0;32m    215\u001b[0m \u001b[38;5;28;01mdef\u001b[39;00m \u001b[38;5;21m_GetSubstructMatches\u001b[39m(mol, query, \u001b[38;5;241m*\u001b[39margs, \u001b[38;5;241m*\u001b[39m\u001b[38;5;241m*\u001b[39mkwargs):\n\u001b[1;32m--> 216\u001b[0m   res \u001b[38;5;241m=\u001b[39m \u001b[43mmol\u001b[49m\u001b[38;5;241;43m.\u001b[39;49m\u001b[43m__GetSubstructMatches\u001b[49m\u001b[43m(\u001b[49m\u001b[43mquery\u001b[49m\u001b[43m,\u001b[49m\u001b[43m \u001b[49m\u001b[38;5;241;43m*\u001b[39;49m\u001b[43margs\u001b[49m\u001b[43m,\u001b[49m\u001b[43m \u001b[49m\u001b[38;5;241;43m*\u001b[39;49m\u001b[38;5;241;43m*\u001b[39;49m\u001b[43mkwargs\u001b[49m\u001b[43m)\u001b[49m\n\u001b[0;32m    217\u001b[0m   mol\u001b[38;5;241m.\u001b[39m__sssAtoms \u001b[38;5;241m=\u001b[39m []\n\u001b[0;32m    218\u001b[0m   \u001b[38;5;28;01mif\u001b[39;00m highlightSubstructs:\n",
      "\u001b[1;31mArgumentError\u001b[0m: Python argument types in\n    Mol.GetSubstructMatches(Mol, NoneType)\ndid not match C++ signature:\n    GetSubstructMatches(class RDKit::ROMol self, class RDKit::MolBundle query, struct RDKit::SubstructMatchParameters params)\n    GetSubstructMatches(class RDKit::ROMol self, class RDKit::ROMol query, struct RDKit::SubstructMatchParameters params)\n    GetSubstructMatches(class RDKit::ROMol self, class RDKit::MolBundle query, bool uniquify=True, bool useChirality=False, bool useQueryQueryMatches=False, unsigned int maxMatches=1000)\n    GetSubstructMatches(class RDKit::ROMol self, class RDKit::ROMol query, bool uniquify=True, bool useChirality=False, bool useQueryQueryMatches=False, unsigned int maxMatches=1000)"
     ]
    }
   ],
   "source": [
    "macro = Chem.MolFromSmarts(\"CF3\")\n",
    "print(erythromycin.GetSubstructMatches(macro))"
   ]
  },
  {
   "cell_type": "code",
   "execution_count": 15,
   "metadata": {},
   "outputs": [
    {
     "name": "stdout",
     "output_type": "stream",
     "text": [
      "Original SMILES: FC(F)(F)C1CCCCN1\n",
      "Substructure SMILES: C(F)(F)F\n",
      "Result SMILES after subtraction: C1CCNCC1\n"
     ]
    }
   ],
   "source": [
    "from rdkit import Chem\n",
    "\n",
    "# Define a SMILES string with a molecule\n",
    "original_smiles = \"FC(F)(F)C1CCCCN1\"  # Example: isobutyl acetate\n",
    "\n",
    "# Create an RDKit molecule object\n",
    "original_molecule = Chem.MolFromSmiles(original_smiles)\n",
    "\n",
    "# Define a SMILES string with a substructure to subtract\n",
    "substructure_smiles = \"C(F)(F)F\"  # Example: isopropyl group\n",
    "\n",
    "# Create an RDKit molecule object for the substructure\n",
    "substructure = Chem.MolFromSmiles(substructure_smiles)\n",
    "\n",
    "# Subtract the substructure from the original molecule\n",
    "result_molecule = Chem.DeleteSubstructs(original_molecule, substructure)\n",
    "\n",
    "# Convert the result molecule to SMILES\n",
    "result_smiles = Chem.MolToSmiles(result_molecule)\n",
    "\n",
    "# Print the result\n",
    "print(\"Original SMILES:\", original_smiles)\n",
    "print(\"Substructure SMILES:\", substructure_smiles)\n",
    "print(\"Result SMILES after subtraction:\", result_smiles)\n"
   ]
  },
  {
   "cell_type": "code",
   "execution_count": 41,
   "metadata": {},
   "outputs": [
    {
     "data": {
      "image/png": "[encoded data removed]",
      "text/plain": [
       "<rdkit.Chem.rdchem.Mol at 0x26d305b43c0>"
      ]
     },
     "execution_count": 41,
     "metadata": {},
     "output_type": "execute_result"
    }
   ],
   "source": [
    "from rdkit import Chem\n",
    "from rdkit.Chem.Draw import IPythonConsole\n",
    "\n",
    "def show_atom_number(mol, label):\n",
    "    for atom in mol.GetAtoms():\n",
    "        atom.SetProp(\"atomNote\", \"4\")\n",
    "    return mol\n",
    "\n",
    "mol = Chem.MolFromSmiles('N[C@@H]1CC[C@H]1C([H])([H])F')\n",
    "subgroup = \"CF3\"\n",
    "show_atom_number(mol, 'molAtomMapNumber')"
   ]
  },
  {
   "cell_type": "code",
   "execution_count": 10,
   "metadata": {},
   "outputs": [
    {
     "data": {
      "image/png": "[encoded data removed]",
      "text/plain": [
       "<PIL.PngImagePlugin.PngImageFile image mode=RGB size=400x200>"
      ]
     },
     "execution_count": 10,
     "metadata": {},
     "output_type": "execute_result"
    }
   ],
   "source": [
    "from rdkit import Chem\n",
    "from rdkit.Chem import Draw, Descriptors, rdqueries\n",
    "\n",
    "m = Chem.MolFromSmiles('C(F)(F)F')\n",
    "Draw.MolToImage(m, size=(400,200))"
   ]
  },
  {
   "cell_type": "code",
   "execution_count": 14,
   "metadata": {},
   "outputs": [
    {
     "name": "stdout",
     "output_type": "stream",
     "text": [
      "Aromatic ring count = 0\n",
      "Non-aromatic ring count = 0\n",
      "Functional group: 0 -CONH2\n"
     ]
    }
   ],
   "source": [
    "print('Aromatic ring count =', Descriptors.NumAromaticRings(m))\n",
    "\n",
    "print('Non-aromatic ring count =', Descriptors.NumAliphaticRings(m))\n",
    "\n",
    "fg = Chem.MolFromSmarts('C(=O)[NX3;H2]') # SMARTS for -CONH2\n",
    "print('Functional group:', len(m.GetSubstructMatches(fg)), '-CONH2')"
   ]
  },
  {
   "cell_type": "code",
   "execution_count": 13,
   "metadata": {},
   "outputs": [
    {
     "name": "stdout",
     "output_type": "stream",
     "text": [
      "Abbrev     SMILES\n",
      "--------   --------\n",
      "CO2Et      *C(=O)OCC\n",
      "COOEt      *C(=O)OCC\n",
      "OiBu       *OCC(C)C\n",
      "nDec       *CCCCCCCCCC\n",
      "nNon       *CCCCCCCCC\n",
      "nOct       *CCCCCCCC\n",
      "nHept      *CCCCCCC\n",
      "nHex       *CCCCCC\n",
      "nPent      *CCCCC\n",
      "iPent      *C(C)CCC\n",
      "tBu        *C(C)(C)C\n",
      "iBu        *C(C)CC\n",
      "nBu        *CCCC\n",
      "iPr        *C(C)C\n",
      "nPr        *CCC\n",
      "Et         *CC\n",
      "NCF3       *NC(F)(F)F\n",
      "CF3        *C(F)(F)F\n",
      "CCl3       *C(Cl)(Cl)Cl\n",
      "CN         *C#N\n",
      "NC         *[N+]#[C-]\n",
      "N(OH)CH3   *N(C)[OH]\n",
      "NO2        *[N+](=O)[O-]\n",
      "NO         *N=O\n",
      "SO3H       *S(=O)(=O)[OH]\n",
      "CO2H       *C(=O)[OH]\n",
      "COOH       *C(=O)[OH]\n",
      "OEt        *OCC\n",
      "OAc        *OC(C)=O\n",
      "NHAc       *NC(C)=O\n",
      "Ac         *C(C)=O\n",
      "CHO        *C=O\n",
      "NMe        *NC\n",
      "SMe        *SC\n",
      "OMe        *OC\n",
      "CO2-       *C(=O)[O-]\n",
      "COO-       *C(=O)[O-]\n"
     ]
    }
   ],
   "source": [
    "from rdkit import Chem\n",
    "from rdkit.Chem.Draw import IPythonConsole\n",
    "from rdkit.Chem import Draw\n",
    "from rdkit.Chem import rdAbbreviations\n",
    "\n",
    "# See available abbreviations and their SMILES\n",
    "# where * is the dummy atom that the group would attach to\n",
    "abbrevs = rdAbbreviations.GetDefaultAbbreviations()\n",
    "labels = [\"Abbrev\", \"SMILES\"]\n",
    "line = '--------'\n",
    "\n",
    "print(f\"{labels[0]:<10} {labels[1]}\")\n",
    "print(f\"{line:<10} {line}\")\n",
    "for a in abbrevs:\n",
    "   print(f\"{a.label:<10} {Chem.MolToSmiles(a.mol)}\")"
   ]
  },
  {
   "cell_type": "code",
   "execution_count": 31,
   "metadata": {},
   "outputs": [
    {
     "name": "stdout",
     "output_type": "stream",
     "text": [
      "((1, 0, 2, 3),)\n"
     ]
    },
    {
     "data": {
      "image/png": "[encoded data removed]",
      "text/plain": [
       "<rdkit.Chem.rdchem.Mol at 0x1ae5884dd20>"
      ]
     },
     "execution_count": 31,
     "metadata": {},
     "output_type": "execute_result"
    }
   ],
   "source": [
    "from rdkit import Chem\n",
    "from rdkit.Chem.Draw import IPythonConsole\n",
    "\n",
    "m = Chem.MolFromSmiles('FC(F)(F)C1CCCCN1')\n",
    "substructure = Chem.MolFromSmarts('C(F)(F)F')\n",
    "print(m.GetSubstructMatches(substructure))\n",
    "\n",
    "m"
   ]
  },
  {
   "cell_type": "code",
   "execution_count": 30,
   "metadata": {},
   "outputs": [
    {
     "data": {
      "image/png": "[encoded data removed]",
      "text/plain": [
       "<PIL.PngImagePlugin.PngImageFile image mode=RGBA size=350x300>"
      ]
     },
     "execution_count": 30,
     "metadata": {},
     "output_type": "execute_result"
    }
   ],
   "source": [
    "from rdkit import Chem\n",
    "from rdkit.Chem.Draw import rdMolDraw2D\n",
    "import io\n",
    "from PIL import Image\n",
    "\n",
    "mol = Chem.MolFromSmiles('CC(C)CN1C(=O)COC2=C1C=CC(=C2)NC(=O)/C=C/C3=CC=CC=C3')\n",
    "rgba_color = (1.0, 1.0, 1.0, 0.1) # transparent blue\n",
    "\n",
    "atoms = []\n",
    "for a in mol.GetAtoms():\n",
    "    atoms.append(a.GetIdx())\n",
    "\n",
    "bonds = []\n",
    "for bond in mol.GetBonds():\n",
    "    aid1 = atoms[bond.GetBeginAtomIdx()]\n",
    "    aid2 = atoms[bond.GetEndAtomIdx()]\n",
    "    bonds.append(mol.GetBondBetweenAtoms(aid1,aid2).GetIdx())\n",
    "\n",
    "drawer = rdMolDraw2D.MolDraw2DCairo(350,300)\n",
    "drawer.drawOptions().fillHighlights=True\n",
    "drawer.drawOptions().setHighlightColour((rgba_color))\n",
    "drawer.drawOptions().highlightBondWidthMultiplier=20\n",
    "drawer.drawOptions().clearBackground = False\n",
    "# rdMolDraw2D.PrepareAndDrawMolecule(drawer, mol, highlightAtoms=atoms)\n",
    "rdMolDraw2D.PrepareAndDrawMolecule(drawer, mol, highlightBonds=bonds)\n",
    "bio = io.BytesIO(drawer.GetDrawingText())\n",
    "Image.open(bio)"
   ]
  },
  {
   "cell_type": "code",
   "execution_count": 51,
   "metadata": {},
   "outputs": [
    {
     "name": "stdout",
     "output_type": "stream",
     "text": [
      "Atom Index: 0, Atom Symbol: F\n",
      "Atom Index: 1, Atom Symbol: C\n",
      "Atom Index: 2, Atom Symbol: F\n",
      "Atom Index: 3, Atom Symbol: F\n",
      "Atom Index: 4, Atom Symbol: C\n",
      "Atom Index: 5, Atom Symbol: C\n",
      "Atom Index: 6, Atom Symbol: C\n",
      "Atom Index: 7, Atom Symbol: C\n",
      "Atom Index: 8, Atom Symbol: C\n",
      "Atom Index: 9, Atom Symbol: N\n",
      "10\n",
      "Atom Index: 0, Atom Symbol: F\n",
      "Atom Index: 1, Atom Symbol: N\n",
      "Atom Index: 2, Atom Symbol: C\n",
      "Atom Index: 3, Atom Symbol: F\n",
      "Atom Index: 4, Atom Symbol: C\n",
      "Atom Index: 5, Atom Symbol: C\n",
      "Atom Index: 6, Atom Symbol: C\n",
      "Atom Index: 7, Atom Symbol: F\n",
      "Atom Index: 8, Atom Symbol: C\n",
      "Atom Index: 9, Atom Symbol: C\n",
      "0\n",
      "9\n",
      "1\n",
      "2\n",
      "8\n",
      "6\n",
      "4\n",
      "3\n",
      "5\n",
      "7\n"
     ]
    }
   ],
   "source": [
    "from rdkit import Chem\n",
    "from rdkit.Chem.Draw import IPythonConsole\n",
    "from rdkit.Chem import rdmolfiles, rdmolops\n",
    "\n",
    "m = Chem.MolFromSmiles('FC(F)(F)C1CCCCN1')\n",
    "\n",
    "for atom in m.GetAtoms():\n",
    "    # Get atom information (atom index, symbol, etc.)\n",
    "    atom_index = atom.GetIdx()\n",
    "    atom_symbol = atom.GetSymbol()\n",
    "    print(f\"Atom Index: {atom_index}, Atom Symbol: {atom_symbol}\")\n",
    "\n",
    "new_order = rdmolfiles.CanonicalRankAtoms(m)\n",
    "m = rdmolops.RenumberAtoms(m, new_order)\n",
    "print(len(m.GetAtoms()))\n",
    "\n",
    "for atom in m.GetAtoms():\n",
    "    # Get atom information (atom index, symbol, etc.)\n",
    "    atom_index = atom.GetIdx()\n",
    "    atom_symbol = atom.GetSymbol()\n",
    "    print(f\"Atom Index: {atom_index}, Atom Symbol: {atom_symbol}\")\n",
    "\n",
    "for order in new_order:\n",
    "    print(order)\n",
    "    "
   ]
  },
  {
   "cell_type": "code",
   "execution_count": 47,
   "metadata": {},
   "outputs": [
    {
     "name": "stdout",
     "output_type": "stream",
     "text": [
      "0\n",
      "9\n",
      "1\n",
      "2\n",
      "8\n",
      "6\n",
      "4\n",
      "3\n",
      "5\n",
      "7\n"
     ]
    }
   ],
   "source": [
    "for order in new_order:\n",
    "    print(order)"
   ]
  },
  {
   "cell_type": "code",
   "execution_count": 71,
   "metadata": {},
   "outputs": [
    {
     "name": "stdout",
     "output_type": "stream",
     "text": [
      "(2, 0, 3, 7)\n"
     ]
    },
    {
     "data": {
      "image/png": "[encoded data removed]",
      "text/plain": [
       "<rdkit.Chem.rdchem.Mol at 0x1ae59375230>"
      ]
     },
     "execution_count": 71,
     "metadata": {},
     "output_type": "execute_result"
    }
   ],
   "source": [
    "from rdkit import Chem\n",
    "from rdkit.Chem.Draw import IPythonConsole\n",
    "\n",
    "m = Chem.MolFromSmiles('FC(F)(F)C1CCCCN1')\n",
    "substructure = Chem.MolFromSmiles('C(F)(F)F')\n",
    "\n",
    "new_order = rdmolfiles.CanonicalRankAtoms(m)\n",
    "m = rdmolops.RenumberAtoms(m, new_order)\n",
    "\n",
    "print(m.GetSubstructMatches(substructure)[0])\n",
    "\n",
    "m"
   ]
  },
  {
   "cell_type": "code",
   "execution_count": 1,
   "metadata": {},
   "outputs": [
    {
     "name": "stdout",
     "output_type": "stream",
     "text": [
      "((3, 4, 5), (8, 9, 7))\n"
     ]
    },
    {
     "data": {
      "image/svg+xml": [
       "<svg xmlns=\"http://www.w3.org/2000/svg\" xmlns:rdkit=\"http://www.rdkit.org/xml\" xmlns:xlink=\"http://www.w3.org/1999/xlink\" version=\"1.1\" baseProfile=\"full\" xml:space=\"preserve\" width=\"400px\" height=\"200px\" viewBox=\"0 0 400 200\">\n",
       "<!-- END OF HEADER -->\n",
       "<rect style=\"opacity:1.0;fill:#FFFFFF;stroke:none\" width=\"400.0\" height=\"200.0\" x=\"0.0\" y=\"0.0\"> </rect>\n",
       "<path class=\"bond-3 atom-3 atom-4\" d=\"M 97.7,31.2 L 140.4,45.0 L 142.8,56.6 L 94.6,40.9 Z\" style=\"fill:#FF7F7F;fill-rule:evenodd;fill-opacity:1;stroke:#FF7F7F;stroke-width:0.0px;stroke-linecap:butt;stroke-linejoin:miter;stroke-opacity:1;\"/>\n",
       "<path class=\"bond-4 atom-3 atom-5\" d=\"M 173.7,15.0 L 180.5,22.6 L 142.8,56.6 L 140.4,45.0 Z\" style=\"fill:#FF7F7F;fill-rule:evenodd;fill-opacity:1;stroke:#FF7F7F;stroke-width:0.0px;stroke-linecap:butt;stroke-linejoin:miter;stroke-opacity:1;\"/>\n",
       "<path class=\"bond-7 atom-7 atom-8\" d=\"M 234.1,75.4 L 282.3,91.0 L 273.6,98.9 L 230.9,85.1 Z\" style=\"fill:#FF7F7F;fill-rule:evenodd;fill-opacity:1;stroke:#FF7F7F;stroke-width:0.0px;stroke-linecap:butt;stroke-linejoin:miter;stroke-opacity:1;\"/>\n",
       "<path class=\"bond-8 atom-8 atom-9\" d=\"M 282.3,91.0 L 292.9,140.6 L 282.9,142.7 L 273.6,98.9 Z\" style=\"fill:#FF7F7F;fill-rule:evenodd;fill-opacity:1;stroke:#FF7F7F;stroke-width:0.0px;stroke-linecap:butt;stroke-linejoin:miter;stroke-opacity:1;\"/>\n",
       "<ellipse cx=\"141.6\" cy=\"50.8\" rx=\"9.6\" ry=\"9.6\" class=\"atom-3\" style=\"fill:#FF7F7F;fill-rule:evenodd;stroke:#FF7F7F;stroke-width:1.0px;stroke-linecap:butt;stroke-linejoin:miter;stroke-opacity:1\"/>\n",
       "<ellipse cx=\"96.2\" cy=\"36.2\" rx=\"9.6\" ry=\"9.8\" class=\"atom-4\" style=\"fill:#FF7F7F;fill-rule:evenodd;stroke:#FF7F7F;stroke-width:1.0px;stroke-linecap:butt;stroke-linejoin:miter;stroke-opacity:1\"/>\n",
       "<ellipse cx=\"183.4\" cy=\"18.9\" rx=\"17.8\" ry=\"9.8\" class=\"atom-5\" style=\"fill:#FF7F7F;fill-rule:evenodd;stroke:#FF7F7F;stroke-width:1.0px;stroke-linecap:butt;stroke-linejoin:miter;stroke-opacity:1\"/>\n",
       "<ellipse cx=\"232.5\" cy=\"80.3\" rx=\"9.6\" ry=\"9.8\" class=\"atom-7\" style=\"fill:#FF7F7F;fill-rule:evenodd;stroke:#FF7F7F;stroke-width:1.0px;stroke-linecap:butt;stroke-linejoin:miter;stroke-opacity:1\"/>\n",
       "<ellipse cx=\"277.9\" cy=\"94.9\" rx=\"9.6\" ry=\"9.6\" class=\"atom-8\" style=\"fill:#FF7F7F;fill-rule:evenodd;stroke:#FF7F7F;stroke-width:1.0px;stroke-linecap:butt;stroke-linejoin:miter;stroke-opacity:1\"/>\n",
       "<ellipse cx=\"287.9\" cy=\"141.7\" rx=\"9.6\" ry=\"9.8\" class=\"atom-9\" style=\"fill:#FF7F7F;fill-rule:evenodd;stroke:#FF7F7F;stroke-width:1.0px;stroke-linecap:butt;stroke-linejoin:miter;stroke-opacity:1\"/>\n",
       "<path class=\"bond-0 atom-0 atom-1\" d=\"M 126.1,176.2 L 116.1,129.5\" style=\"fill:none;fill-rule:evenodd;stroke:#000000;stroke-width:2.0px;stroke-linecap:butt;stroke-linejoin:miter;stroke-opacity:1\"/>\n",
       "<path class=\"bond-0 atom-0 atom-1\" d=\"M 132.3,170.7 L 124.0,132.0\" style=\"fill:none;fill-rule:evenodd;stroke:#000000;stroke-width:2.0px;stroke-linecap:butt;stroke-linejoin:miter;stroke-opacity:1\"/>\n",
       "<path class=\"bond-1 atom-1 atom-2\" d=\"M 116.1,129.5 L 151.6,97.5\" style=\"fill:none;fill-rule:evenodd;stroke:#000000;stroke-width:2.0px;stroke-linecap:butt;stroke-linejoin:miter;stroke-opacity:1\"/>\n",
       "<path class=\"bond-2 atom-2 atom-3\" d=\"M 151.6,97.5 L 141.6,50.8\" style=\"fill:none;fill-rule:evenodd;stroke:#000000;stroke-width:2.0px;stroke-linecap:butt;stroke-linejoin:miter;stroke-opacity:1\"/>\n",
       "<path class=\"bond-3 atom-3 atom-4\" d=\"M 144.7,48.0 L 124.9,41.6\" style=\"fill:none;fill-rule:evenodd;stroke:#000000;stroke-width:2.0px;stroke-linecap:butt;stroke-linejoin:miter;stroke-opacity:1\"/>\n",
       "<path class=\"bond-3 atom-3 atom-4\" d=\"M 124.9,41.6 L 105.1,35.2\" style=\"fill:none;fill-rule:evenodd;stroke:#FF0000;stroke-width:2.0px;stroke-linecap:butt;stroke-linejoin:miter;stroke-opacity:1\"/>\n",
       "<path class=\"bond-3 atom-3 atom-4\" d=\"M 142.5,54.8 L 122.7,48.4\" style=\"fill:none;fill-rule:evenodd;stroke:#000000;stroke-width:2.0px;stroke-linecap:butt;stroke-linejoin:miter;stroke-opacity:1\"/>\n",
       "<path class=\"bond-3 atom-3 atom-4\" d=\"M 122.7,48.4 L 102.9,42.0\" style=\"fill:none;fill-rule:evenodd;stroke:#FF0000;stroke-width:2.0px;stroke-linecap:butt;stroke-linejoin:miter;stroke-opacity:1\"/>\n",
       "<path class=\"bond-4 atom-3 atom-5\" d=\"M 141.6,50.8 L 155.4,38.3\" style=\"fill:none;fill-rule:evenodd;stroke:#000000;stroke-width:2.0px;stroke-linecap:butt;stroke-linejoin:miter;stroke-opacity:1\"/>\n",
       "<path class=\"bond-4 atom-3 atom-5\" d=\"M 155.4,38.3 L 169.3,25.8\" style=\"fill:none;fill-rule:evenodd;stroke:#FF0000;stroke-width:2.0px;stroke-linecap:butt;stroke-linejoin:miter;stroke-opacity:1\"/>\n",
       "<path class=\"bond-5 atom-2 atom-6\" d=\"M 151.6,97.5 L 197.0,112.2\" style=\"fill:none;fill-rule:evenodd;stroke:#000000;stroke-width:2.0px;stroke-linecap:butt;stroke-linejoin:miter;stroke-opacity:1\"/>\n",
       "<path class=\"bond-5 atom-2 atom-6\" d=\"M 153.3,105.6 L 190.9,117.8\" style=\"fill:none;fill-rule:evenodd;stroke:#000000;stroke-width:2.0px;stroke-linecap:butt;stroke-linejoin:miter;stroke-opacity:1\"/>\n",
       "<path class=\"bond-6 atom-6 atom-7\" d=\"M 197.0,112.2 L 210.9,99.7\" style=\"fill:none;fill-rule:evenodd;stroke:#000000;stroke-width:2.0px;stroke-linecap:butt;stroke-linejoin:miter;stroke-opacity:1\"/>\n",
       "<path class=\"bond-6 atom-6 atom-7\" d=\"M 210.9,99.7 L 224.7,87.2\" style=\"fill:none;fill-rule:evenodd;stroke:#FF0000;stroke-width:2.0px;stroke-linecap:butt;stroke-linejoin:miter;stroke-opacity:1\"/>\n",
       "<path class=\"bond-7 atom-7 atom-8\" d=\"M 240.3,82.7 L 259.1,88.8\" style=\"fill:none;fill-rule:evenodd;stroke:#FF0000;stroke-width:2.0px;stroke-linecap:butt;stroke-linejoin:miter;stroke-opacity:1\"/>\n",
       "<path class=\"bond-7 atom-7 atom-8\" d=\"M 259.1,88.8 L 277.9,94.9\" style=\"fill:none;fill-rule:evenodd;stroke:#000000;stroke-width:2.0px;stroke-linecap:butt;stroke-linejoin:miter;stroke-opacity:1\"/>\n",
       "<path class=\"bond-8 atom-8 atom-9\" d=\"M 274.0,93.6 L 278.3,113.8\" style=\"fill:none;fill-rule:evenodd;stroke:#000000;stroke-width:2.0px;stroke-linecap:butt;stroke-linejoin:miter;stroke-opacity:1\"/>\n",
       "<path class=\"bond-8 atom-8 atom-9\" d=\"M 278.3,113.8 L 282.6,134.0\" style=\"fill:none;fill-rule:evenodd;stroke:#FF0000;stroke-width:2.0px;stroke-linecap:butt;stroke-linejoin:miter;stroke-opacity:1\"/>\n",
       "<path class=\"bond-8 atom-8 atom-9\" d=\"M 281.0,92.2 L 285.3,112.3\" style=\"fill:none;fill-rule:evenodd;stroke:#000000;stroke-width:2.0px;stroke-linecap:butt;stroke-linejoin:miter;stroke-opacity:1\"/>\n",
       "<path class=\"bond-8 atom-8 atom-9\" d=\"M 285.3,112.3 L 289.6,132.5\" style=\"fill:none;fill-rule:evenodd;stroke:#FF0000;stroke-width:2.0px;stroke-linecap:butt;stroke-linejoin:miter;stroke-opacity:1\"/>\n",
       "<path class=\"bond-9 atom-8 atom-10\" d=\"M 277.9,94.9 L 313.4,62.9\" style=\"fill:none;fill-rule:evenodd;stroke:#000000;stroke-width:2.0px;stroke-linecap:butt;stroke-linejoin:miter;stroke-opacity:1\"/>\n",
       "<path class=\"bond-10 atom-6 atom-11\" d=\"M 197.0,112.2 L 207.0,158.9\" style=\"fill:none;fill-rule:evenodd;stroke:#000000;stroke-width:2.0px;stroke-linecap:butt;stroke-linejoin:miter;stroke-opacity:1\"/>\n",
       "<path class=\"bond-11 atom-11 atom-12\" d=\"M 207.0,158.9 L 171.6,190.9\" style=\"fill:none;fill-rule:evenodd;stroke:#000000;stroke-width:2.0px;stroke-linecap:butt;stroke-linejoin:miter;stroke-opacity:1\"/>\n",
       "<path class=\"bond-11 atom-11 atom-12\" d=\"M 199.1,156.4 L 169.8,182.8\" style=\"fill:none;fill-rule:evenodd;stroke:#000000;stroke-width:2.0px;stroke-linecap:butt;stroke-linejoin:miter;stroke-opacity:1\"/>\n",
       "<path class=\"bond-12 atom-12 atom-0\" d=\"M 171.6,190.9 L 126.1,176.2\" style=\"fill:none;fill-rule:evenodd;stroke:#000000;stroke-width:2.0px;stroke-linecap:butt;stroke-linejoin:miter;stroke-opacity:1\"/>\n",
       "<path d=\"M 125.6,173.9 L 126.1,176.2 L 128.4,176.9\" style=\"fill:none;stroke:#000000;stroke-width:2.0px;stroke-linecap:butt;stroke-linejoin:miter;stroke-opacity:1;\"/>\n",
       "<path d=\"M 116.6,131.8 L 116.1,129.5 L 117.9,127.9\" style=\"fill:none;stroke:#000000;stroke-width:2.0px;stroke-linecap:butt;stroke-linejoin:miter;stroke-opacity:1;\"/>\n",
       "<path d=\"M 142.1,53.1 L 141.6,50.8 L 142.3,50.2\" style=\"fill:none;stroke:#000000;stroke-width:2.0px;stroke-linecap:butt;stroke-linejoin:miter;stroke-opacity:1;\"/>\n",
       "<path d=\"M 277.0,94.6 L 277.9,94.9 L 279.7,93.3\" style=\"fill:none;stroke:#000000;stroke-width:2.0px;stroke-linecap:butt;stroke-linejoin:miter;stroke-opacity:1;\"/>\n",
       "<path d=\"M 206.5,156.6 L 207.0,158.9 L 205.2,160.5\" style=\"fill:none;stroke:#000000;stroke-width:2.0px;stroke-linecap:butt;stroke-linejoin:miter;stroke-opacity:1;\"/>\n",
       "<path d=\"M 173.3,189.3 L 171.6,190.9 L 169.3,190.2\" style=\"fill:none;stroke:#000000;stroke-width:2.0px;stroke-linecap:butt;stroke-linejoin:miter;stroke-opacity:1;\"/>\n",
       "<path class=\"atom-4\" d=\"M 90.0 36.1 Q 90.0 32.9, 91.6 31.1 Q 93.2 29.3, 96.2 29.3 Q 99.2 29.3, 100.8 31.1 Q 102.4 32.9, 102.4 36.1 Q 102.4 39.4, 100.8 41.3 Q 99.1 43.1, 96.2 43.1 Q 93.2 43.1, 91.6 41.3 Q 90.0 39.4, 90.0 36.1 M 96.2 41.6 Q 98.2 41.6, 99.3 40.2 Q 100.5 38.8, 100.5 36.1 Q 100.5 33.5, 99.3 32.1 Q 98.2 30.8, 96.2 30.8 Q 94.1 30.8, 93.0 32.1 Q 91.9 33.5, 91.9 36.1 Q 91.9 38.9, 93.0 40.2 Q 94.1 41.6, 96.2 41.6 \" fill=\"#FF0000\"/>\n",
       "<path class=\"atom-5\" d=\"M 170.9 18.8 Q 170.9 15.6, 172.5 13.8 Q 174.1 12.0, 177.1 12.0 Q 180.1 12.0, 181.7 13.8 Q 183.3 15.6, 183.3 18.8 Q 183.3 22.1, 181.7 24.0 Q 180.0 25.9, 177.1 25.9 Q 174.1 25.9, 172.5 24.0 Q 170.9 22.1, 170.9 18.8 M 177.1 24.3 Q 179.1 24.3, 180.2 23.0 Q 181.4 21.6, 181.4 18.8 Q 181.4 16.2, 180.2 14.9 Q 179.1 13.5, 177.1 13.5 Q 175.0 13.5, 173.9 14.8 Q 172.8 16.2, 172.8 18.8 Q 172.8 21.6, 173.9 23.0 Q 175.0 24.3, 177.1 24.3 \" fill=\"#FF0000\"/>\n",
       "<path class=\"atom-5\" d=\"M 185.4 12.1 L 187.2 12.1 L 187.2 17.9 L 194.1 17.9 L 194.1 12.1 L 196.0 12.1 L 196.0 25.6 L 194.1 25.6 L 194.1 19.4 L 187.2 19.4 L 187.2 25.6 L 185.4 25.6 L 185.4 12.1 \" fill=\"#FF0000\"/>\n",
       "<path class=\"atom-7\" d=\"M 226.3 80.3 Q 226.3 77.0, 227.9 75.2 Q 229.5 73.4, 232.5 73.4 Q 235.5 73.4, 237.1 75.2 Q 238.7 77.0, 238.7 80.3 Q 238.7 83.5, 237.1 85.4 Q 235.4 87.3, 232.5 87.3 Q 229.5 87.3, 227.9 85.4 Q 226.3 83.6, 226.3 80.3 M 232.5 85.7 Q 234.5 85.7, 235.7 84.4 Q 236.8 83.0, 236.8 80.3 Q 236.8 77.6, 235.7 76.3 Q 234.5 74.9, 232.5 74.9 Q 230.4 74.9, 229.3 76.2 Q 228.2 77.6, 228.2 80.3 Q 228.2 83.0, 229.3 84.4 Q 230.4 85.7, 232.5 85.7 \" fill=\"#FF0000\"/>\n",
       "<path class=\"atom-9\" d=\"M 281.7 141.7 Q 281.7 138.4, 283.3 136.6 Q 284.9 134.8, 287.9 134.8 Q 290.9 134.8, 292.5 136.6 Q 294.1 138.4, 294.1 141.7 Q 294.1 144.9, 292.5 146.8 Q 290.9 148.7, 287.9 148.7 Q 284.9 148.7, 283.3 146.8 Q 281.7 145.0, 281.7 141.7 M 287.9 147.1 Q 290.0 147.1, 291.1 145.8 Q 292.2 144.4, 292.2 141.7 Q 292.2 139.0, 291.1 137.7 Q 290.0 136.3, 287.9 136.3 Q 285.8 136.3, 284.7 137.7 Q 283.6 139.0, 283.6 141.7 Q 283.6 144.4, 284.7 145.8 Q 285.8 147.1, 287.9 147.1 \" fill=\"#FF0000\"/>\n",
       "</svg>"
      ],
      "text/plain": [
       "<IPython.core.display.SVG object>"
      ]
     },
     "metadata": {},
     "output_type": "display_data"
    }
   ],
   "source": [
    "from rdkit import Chem\n",
    "from rdkit.Chem.Draw import IPythonConsole\n",
    "from rdkit.Chem import rdDepictor\n",
    "from rdkit.Chem.Draw import rdMolDraw2D\n",
    "from IPython.display import SVG\n",
    "from copy import deepcopy\n",
    "\n",
    "\n",
    "def increase_resolution(mol, substructure, size=(400, 200)):\n",
    "    mol = deepcopy(mol)\n",
    "    substructure = deepcopy(substructure)\n",
    "    drawer = rdMolDraw2D.MolDraw2DSVG(size[0], size[1])\n",
    "    \n",
    "    # highlightAtoms expects only one tuple, not tuple of tuples. So it needs to be merged into a single tuple\n",
    "    matches = sum(mol.GetSubstructMatches(substructure), ())\n",
    "    print(mol.GetSubstructMatches(substructure))\n",
    "    drawer.DrawMolecule(mol, highlightAtoms=matches)\n",
    "    \n",
    "    drawer.FinishDrawing()\n",
    "    svg = drawer.GetDrawingText()\n",
    "    \n",
    "    return svg.replace('svg:','')\n",
    "\n",
    "\n",
    "mol = Chem.MolFromSmiles('c1cc(C(=O)O)c(OC(=O)C)cc1')\n",
    "substructure = Chem.MolFromSmarts('C(=O)O')\n",
    "display(SVG(increase_resolution(mol, substructure)))"
   ]
  },
  {
   "cell_type": "code",
   "execution_count": 26,
   "metadata": {},
   "outputs": [
    {
     "name": "stdout",
     "output_type": "stream",
     "text": [
      "10\n",
      "1 2\n"
     ]
    },
    {
     "data": {
      "image/png": "[encoded data removed]",
      "text/plain": [
       "<rdkit.Chem.rdchem.Mol at 0x26d2f7c9930>"
      ]
     },
     "execution_count": 26,
     "metadata": {},
     "output_type": "execute_result"
    }
   ],
   "source": [
    "from rdkit import Chem\n",
    "from rdkit.Chem.Draw import IPythonConsole\n",
    "\n",
    "m = Chem.MolFromSmiles('FC(F)([H])[C@@H]1CC[C@H]1C(O)=O')\n",
    "\n",
    "print(m.GetNumBonds())\n",
    "\n",
    "print(m.GetBonds()[1].GetBeginAtomIdx(), m.GetBonds()[1].GetEndAtomIdx())\n",
    "\n",
    "m"
   ]
  },
  {
   "cell_type": "code",
   "execution_count": 25,
   "metadata": {},
   "outputs": [
    {
     "data": {
      "image/png": "[encoded data removed]",
      "text/plain": [
       "<PIL.PngImagePlugin.PngImageFile image mode=RGB size=400x200>"
      ]
     },
     "execution_count": 25,
     "metadata": {},
     "output_type": "execute_result"
    }
   ],
   "source": [
    "from rdkit import Chem\n",
    "from rdkit.Chem import Draw\n",
    "\n",
    "# Приклад SMILES для gem-difluoromethylene group\n",
    "smiles = 'C(F)F'\n",
    "m = Chem.MolFromSmiles(smiles)\n",
    "\n",
    "# Виведення молекули\n",
    "Draw.MolToImage(m, size=(400, 200))\n"
   ]
  },
  {
   "cell_type": "code",
   "execution_count": 34,
   "metadata": {},
   "outputs": [
    {
     "ename": "AttributeError",
     "evalue": "'MolDraw2DCairo' object has no attribute 'DrawText'",
     "output_type": "error",
     "traceback": [
      "\u001b[1;31m---------------------------------------------------------------------------\u001b[0m",
      "\u001b[1;31mAttributeError\u001b[0m                            Traceback (most recent call last)",
      "Cell \u001b[1;32mIn[34], line 34\u001b[0m\n\u001b[0;32m     32\u001b[0m \u001b[38;5;28;01mfor\u001b[39;00m atom_idx, weight \u001b[38;5;129;01min\u001b[39;00m atom_weights\u001b[38;5;241m.\u001b[39mitems():\n\u001b[0;32m     33\u001b[0m     pos \u001b[38;5;241m=\u001b[39m drawer\u001b[38;5;241m.\u001b[39mGetDrawCoords(atom_idx)\n\u001b[1;32m---> 34\u001b[0m     \u001b[43mdrawer\u001b[49m\u001b[38;5;241;43m.\u001b[39;49m\u001b[43mDrawText\u001b[49m(pos, \u001b[38;5;28mstr\u001b[39m(weight), (\u001b[38;5;241m1\u001b[39m, \u001b[38;5;241m1\u001b[39m, \u001b[38;5;241m1\u001b[39m))\n\u001b[0;32m     36\u001b[0m \u001b[38;5;66;03m# Виводимо ваги зв'язків\u001b[39;00m\n\u001b[0;32m     37\u001b[0m \u001b[38;5;28;01mfor\u001b[39;00m bond_idx, weight \u001b[38;5;129;01min\u001b[39;00m bond_weights\u001b[38;5;241m.\u001b[39mitems():\n",
      "\u001b[1;31mAttributeError\u001b[0m: 'MolDraw2DCairo' object has no attribute 'DrawText'"
     ]
    }
   ],
   "source": [
    "from rdkit import Chem\n",
    "from rdkit.Chem import Draw\n",
    "from rdkit.Chem import rdDepictor\n",
    "from rdkit.Chem.Draw import rdMolDraw2D\n",
    "from PIL import Image\n",
    "\n",
    "# Створюємо об'єкт молекули\n",
    "mol = Chem.MolFromSmiles('CCO')\n",
    "\n",
    "# Встановлюємо ваги для атомів та зв'язків\n",
    "atom_weights = {atom.GetIdx(): atom.GetAtomicNum() for atom in mol.GetAtoms()}\n",
    "bond_weights = {bond.GetIdx(): bond.GetBondTypeAsDouble() for bond in mol.GetBonds()}\n",
    "\n",
    "# Призначаємо ваги для атомів\n",
    "for atom_idx, weight in atom_weights.items():\n",
    "    mol.GetAtomWithIdx(atom_idx).SetProp('atom_weight', str(weight))\n",
    "\n",
    "# Призначаємо ваги для зв'язків\n",
    "for bond_idx, weight in bond_weights.items():\n",
    "    mol.GetBondWithIdx(bond_idx).SetProp('bond_weight', str(weight))\n",
    "\n",
    "# Підготовлюємо молекулу для малювання\n",
    "rdDepictor.Compute2DCoords(mol)\n",
    "\n",
    "# Створюємо об'єкт для малювання\n",
    "drawer = rdMolDraw2D.MolDraw2DCairo(400, 200)\n",
    "\n",
    "# Малюємо молекулу та ваги\n",
    "drawer.DrawMolecule(mol)\n",
    "\n",
    "# Виводимо ваги атомів\n",
    "for atom_idx, weight in atom_weights.items():\n",
    "    pos = drawer.GetDrawCoords(atom_idx)\n",
    "    drawer.DrawText(pos, str(weight), (1, 1, 1))\n",
    "\n",
    "# Виводимо ваги зв'язків\n",
    "for bond_idx, weight in bond_weights.items():\n",
    "    bond = mol.GetBondWithIdx(bond_idx)\n",
    "    pos = drawer.GetBondEndpoints(bond)\n",
    "    text_pos = ((pos[0][0] + pos[1][0]) / 2, (pos[0][1] + pos[1][1]) / 2)\n",
    "    drawer.DrawText(text_pos, str(weight), (1, 1, 1))\n",
    "\n",
    "# Повертаємо зображення\n",
    "img = drawer.GetDrawingText()\n",
    "Image.open(img).show()\n"
   ]
  },
  {
   "cell_type": "code",
   "execution_count": 46,
   "metadata": {},
   "outputs": [
    {
     "name": "stdout",
     "output_type": "stream",
     "text": [
      "C 1.237115787690174 -0.25002917166615185 0.0\n",
      "C -0.060946742296872025 0.5409360264678743 -0.0\n",
      "O -1.1761690453933018 -0.2909068548017223 -0.0\n"
     ]
    },
    {
     "name": "stderr",
     "output_type": "stream",
     "text": [
      "[16:02:15] Molecule does not have explicit Hs. Consider calling AddHs()\n"
     ]
    },
    {
     "data": {
      "image/png": "[encoded data removed]",
      "text/plain": [
       "<rdkit.Chem.rdchem.Mol at 0x26d305b5000>"
      ]
     },
     "execution_count": 46,
     "metadata": {},
     "output_type": "execute_result"
    }
   ],
   "source": [
    "from rdkit import Chem\n",
    "from rdkit.Chem import AllChem\n",
    "\n",
    "# Create a molecule from SMILES\n",
    "smiles = 'CCO'  # replace with your molecule's SMILES\n",
    "mol = Chem.MolFromSmiles(smiles)\n",
    "\n",
    "# Generate 3D coordinates\n",
    "AllChem.EmbedMolecule(mol)\n",
    "\n",
    "# Get the coordinates of each atom\n",
    "for i, atom in enumerate(mol.GetAtoms()):\n",
    "    pos = mol.GetConformer().GetAtomPosition(i)\n",
    "    print(f'{atom.GetSymbol()} {pos.x} {pos.y} {pos.z}')\n",
    "\n",
    "mol\n"
   ]
  },
  {
   "cell_type": "code",
   "execution_count": 51,
   "metadata": {},
   "outputs": [
    {
     "name": "stdout",
     "output_type": "stream",
     "text": [
      "C 1.0 2.0 0.0\n",
      "F -1.1368974458902452 -0.26316716659216544 -0.0\n",
      "F 1.14179044220366 -0.259715897150144 0.0\n"
     ]
    },
    {
     "name": "stderr",
     "output_type": "stream",
     "text": [
      "[16:45:06] Molecule does not have explicit Hs. Consider calling AddHs()\n"
     ]
    },
    {
     "data": {
      "image/png": "[encoded data removed]",
      "text/plain": [
       "<rdkit.Chem.rdchem.Mol at 0x26d305b6a40>"
      ]
     },
     "execution_count": 51,
     "metadata": {},
     "output_type": "execute_result"
    }
   ],
   "source": [
    "from rdkit import Chem\n",
    "from rdkit.Chem import AllChem\n",
    "from rdkit.Geometry import Point3D\n",
    "\n",
    "# Створіть молекулу з SMILES\n",
    "smiles = 'C(F)F'  # замініть на SMILES вашої молекули\n",
    "mol = Chem.MolFromSmiles(smiles)\n",
    "\n",
    "# Згенеруйте 3D-координати\n",
    "AllChem.EmbedMolecule(mol)\n",
    "\n",
    "# Встановіть нові координати для першого атома\n",
    "new_pos = Point3D(1.0, 2.0, 0.0)  # замініть на ваші координати\n",
    "mol.GetConformer().SetAtomPosition(0, new_pos)\n",
    "\n",
    "# Отримайте координати кожного атома\n",
    "for i, atom in enumerate(mol.GetAtoms()):\n",
    "    pos = mol.GetConformer().GetAtomPosition(i)\n",
    "    print(f'{atom.GetSymbol()} {pos.x} {pos.y} {pos.z}')\n",
    "\n",
    "mol"
   ]
  }
 ],
 "metadata": {
  "kernelspec": {
   "display_name": "drug-discovery-venv",
   "language": "python",
   "name": "python3"
  },
  "language_info": {
   "codemirror_mode": {
    "name": "ipython",
    "version": 3
   },
   "file_extension": ".py",
   "mimetype": "text/x-python",
   "name": "python",
   "nbconvert_exporter": "python",
   "pygments_lexer": "ipython3",
   "version": "3.11.7"
  }
 },
 "nbformat": 4,
 "nbformat_minor": 2
}
