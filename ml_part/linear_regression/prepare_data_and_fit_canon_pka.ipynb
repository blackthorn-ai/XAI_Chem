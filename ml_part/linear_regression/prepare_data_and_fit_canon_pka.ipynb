{
 "cells": [
  {
   "cell_type": "code",
   "execution_count": 1,
   "metadata": {},
   "outputs": [],
   "source": [
    "from sklearn.metrics import mean_absolute_error\n",
    "from sklearn.metrics import mean_squared_error\n",
    "from sklearn.metrics import r2_score\n",
    "\n",
    "def calculate_metrics(true_values, pred_values):\n",
    "    mse = round(mean_squared_error(true_values, pred_values),3)\n",
    "    mae = round(mean_absolute_error(true_values, pred_values),3)\n",
    "    r_score = round(r2_score(true_values, pred_values),3)\n",
    "\n",
    "    return {\"mse\": mse,\n",
    "            \"mae\": mae,\n",
    "            \"r^2\": r_score,}"
   ]
  },
  {
   "cell_type": "code",
   "execution_count": 2,
   "metadata": {},
   "outputs": [],
   "source": [
    "import pandas as pd\n",
    "\n",
    "pKa_test_csv = r'C:\\work\\DrugDiscovery\\main_git\\XAI_Chem\\data\\updated_features\\csv_for_rulefit\\test_pKa_v5_features_canon_smiles.csv'\n",
    "pKa_train_csv = r'C:\\work\\DrugDiscovery\\main_git\\XAI_Chem\\data\\updated_features\\csv_for_rulefit\\train_pKa_v5_features_canon_smiles.csv'"
   ]
  },
  {
   "cell_type": "code",
   "execution_count": 3,
   "metadata": {},
   "outputs": [],
   "source": [
    "df_pka_train = pd.read_csv(pKa_train_csv, index_col=0)\n",
    "df_pka_test = pd.read_csv(pKa_test_csv, index_col=0)"
   ]
  },
  {
   "cell_type": "code",
   "execution_count": 4,
   "metadata": {},
   "outputs": [
    {
     "data": {
      "text/plain": [
       "Index(['f_to_fg', 'chirality', 'angle_R2X2R1', 'TASA', 'nC', 'nO', 'nHRing',\n",
       "       'angle_X2X1R1', 'dipole_moment', 'nF', 'PPSA5', 'angle_R1X1R2', 'RPCS',\n",
       "       'PBF', 'nFRing', 'avg_atoms_in_cycle', 'FPSA3', 'identificator',\n",
       "       'nARing', 'PNSA5', 'f_freedom', 'sasa', 'nN', 'GeomShapeIndex',\n",
       "       'angle_X1X2R2', 'mol_num_cycles',\n",
       "       'distance_between_atoms_in_cycle_and_f_group',\n",
       "       'distance_between_atoms_in_f_group_centers', 'mol_weight', 'cis/trans',\n",
       "       'dihedral_angle', 'nFHRing', 'no angle and distance', 'pKa'],\n",
       "      dtype='object')"
      ]
     },
     "execution_count": 4,
     "metadata": {},
     "output_type": "execute_result"
    }
   ],
   "source": [
    "df_pka_test.columns"
   ]
  },
  {
   "cell_type": "code",
   "execution_count": 5,
   "metadata": {},
   "outputs": [],
   "source": [
    "LOGP_FEATURES = ['f_freedom', 'PPSA5', 'mol_num_cycles', 'nFRing', 'nF', 'identificator',\n",
    "                 'mol_weight', 'dipole_moment', 'nHRing', 'nO', 'PBF', 'nC', 'nARing',\n",
    "                 'cis/trans', 'PNSA5', 'FPSA3', 'mol_volume', 'RPCS', 'GeomShapeIndex',\n",
    "                 'WPSA5', 'TASA', 'f_to_fg', 'avg_atoms_in_cycle', 'nFHRing',\n",
    "                 'chirality']\n",
    "\n",
    "PKA_FEATURES = ['RPCS', 'angle_R1X1R2', 'angle_X2X1R1', 'angle_X1X2R2', 'angle_R2X2R1', \n",
    "                'distance_between_atoms_in_cycle_and_f_group', \n",
    "                'distance_between_atoms_in_f_group_centers', 'PBF', 'mol_weight', 'dipole_moment', 'PPSA5',\n",
    "                'avg_atoms_in_cycle', 'nHRing', 'cis/trans', 'FPSA3', 'nF', 'chirality',\n",
    "                'sasa', 'PNSA5', 'GeomShapeIndex', 'TASA', 'mol_num_cycles',\n",
    "                'f_freedom', 'nFRing', 'identificator', 'nO', 'nARing', 'nC', 'nFHRing',\n",
    "                'f_to_fg']\n",
    "\n",
    "PKA_FEATURES_NOT_CATEGORICAL = [\n",
    "    'RPCS', 'PBF', 'mol_weight', 'dipole_moment', 'PPSA5',\n",
    "    'avg_atoms_in_cycle', 'FPSA3', 'chirality',\n",
    "    'sasa', 'PNSA5', 'GeomShapeIndex', 'TASA', \n",
    "    'f_freedom', 'f_to_fg'\n",
    "]\n",
    "\n",
    "PKA_FEATURES_CATEGORICAL = [\n",
    "    'angle_R1X1R2', 'angle_X2X1R1', 'angle_X1X2R2', 'angle_R2X2R1', \n",
    "    'distance_between_atoms_in_cycle_and_f_group', \n",
    "    'distance_between_atoms_in_f_group_centers', 'nHRing', 'cis/trans', 'nF', 'mol_num_cycles',\n",
    "    'nFRing', 'identificator', 'nO', 'nARing', 'nC', 'nFHRing'\n",
    "]"
   ]
  },
  {
   "cell_type": "code",
   "execution_count": 6,
   "metadata": {},
   "outputs": [],
   "source": [
    "y_pka_train = df_pka_train[['pKa']]\n",
    "y_pka_test = df_pka_test[['pKa']]\n",
    "\n",
    "X_pka_train = df_pka_train[PKA_FEATURES]\n",
    "X_pka_test = df_pka_test[PKA_FEATURES]"
   ]
  },
  {
   "cell_type": "code",
   "execution_count": 7,
   "metadata": {},
   "outputs": [
    {
     "data": {
      "text/plain": [
       "{'mse': 0.527, 'mae': 0.608, 'r^2': 0.891}"
      ]
     },
     "execution_count": 7,
     "metadata": {},
     "output_type": "execute_result"
    }
   ],
   "source": [
    "from sklearn import linear_model\n",
    "\n",
    "regr = linear_model.LinearRegression()\n",
    "\n",
    "regr.fit(X_pka_train, y_pka_train)\n",
    "\n",
    "y_pred = regr.predict(X_pka_test)\n",
    "\n",
    "calculate_metrics(y_pred, y_pka_test)"
   ]
  },
  {
   "cell_type": "markdown",
   "metadata": {},
   "source": [
    "MinMaxScaler"
   ]
  },
  {
   "cell_type": "code",
   "execution_count": 8,
   "metadata": {},
   "outputs": [],
   "source": [
    "X_pka_train_not_categorical = X_pka_train[PKA_FEATURES_NOT_CATEGORICAL]\n",
    "X_pka_test_not_categorical = X_pka_test[PKA_FEATURES_NOT_CATEGORICAL]"
   ]
  },
  {
   "cell_type": "code",
   "execution_count": 9,
   "metadata": {},
   "outputs": [],
   "source": [
    "from sklearn.preprocessing import MinMaxScaler\n",
    "\n",
    "min_max_scaler = MinMaxScaler().fit(X_pka_test_not_categorical)\n",
    "\n",
    "X_pka_train_norm = min_max_scaler.transform(X_pka_train_not_categorical)\n",
    "X_pka_test_norm = min_max_scaler.transform(X_pka_test_not_categorical)\n",
    "\n",
    "y_pka_train_norm = y_pka_train.values\n",
    "y_pka_test_norm = y_pka_test.values"
   ]
  },
  {
   "cell_type": "code",
   "execution_count": 10,
   "metadata": {},
   "outputs": [],
   "source": [
    "df_train_norm = pd.DataFrame(X_pka_train_norm, columns=PKA_FEATURES_NOT_CATEGORICAL)\n",
    "df_test_norm = pd.DataFrame(X_pka_test_norm, columns=PKA_FEATURES_NOT_CATEGORICAL)\n",
    "\n",
    "for feature in PKA_FEATURES_CATEGORICAL:\n",
    "    df_train_norm[feature] = X_pka_train[feature].values\n",
    "    df_test_norm[feature] = X_pka_test[feature].values\n",
    "\n",
    "df_train_norm_ = df_train_norm.copy()\n",
    "df_test_norm_ = df_test_norm.copy()\n",
    "\n",
    "df_train_norm['fold_id'] = df_pka_train.copy()['fold_id'].tolist()\n",
    "\n",
    "df_train_norm['pKa'] = df_pka_train.copy()['pKa'].tolist()\n",
    "df_test_norm['pKa'] = df_pka_test.copy()['pKa'].tolist()"
   ]
  },
  {
   "cell_type": "code",
   "execution_count": 11,
   "metadata": {},
   "outputs": [],
   "source": [
    "import os\n",
    "\n",
    "save_path = r'C:\\work\\DrugDiscovery\\main_git\\XAI_Chem\\data\\pKA_logP_minmaxscaler'\n",
    "\n",
    "# df_train_norm.to_csv(os.path.join(save_path, 'train_pka_minmax.csv'))\n",
    "# df_test_norm.to_csv(os.path.join(save_path, 'test_pka_minmax.csv'))"
   ]
  },
  {
   "cell_type": "code",
   "execution_count": 12,
   "metadata": {},
   "outputs": [],
   "source": [
    "from sklearn import linear_model\n",
    "\n",
    "regr = linear_model.LinearRegression()\n",
    "\n",
    "regr.fit(df_train_norm_, y_pka_train_norm)\n",
    "\n",
    "y_pred = regr.predict(df_test_norm_)"
   ]
  },
  {
   "cell_type": "code",
   "execution_count": 13,
   "metadata": {},
   "outputs": [
    {
     "data": {
      "text/plain": [
       "{'mse': 0.527, 'mae': 0.608, 'r^2': 0.891}"
      ]
     },
     "execution_count": 13,
     "metadata": {},
     "output_type": "execute_result"
    }
   ],
   "source": [
    "calculate_metrics(y_pred, y_pka_test_norm)"
   ]
  },
  {
   "cell_type": "markdown",
   "metadata": {},
   "source": [
    "Standartization"
   ]
  },
  {
   "cell_type": "code",
   "execution_count": 15,
   "metadata": {},
   "outputs": [],
   "source": [
    "X_pka_train_not_categorical = X_pka_train[PKA_FEATURES_NOT_CATEGORICAL]\n",
    "X_pka_test_not_categorical = X_pka_test[PKA_FEATURES_NOT_CATEGORICAL]"
   ]
  },
  {
   "cell_type": "code",
   "execution_count": 16,
   "metadata": {},
   "outputs": [],
   "source": [
    "from sklearn.preprocessing import StandardScaler\n",
    "\n",
    "standart_scaler = StandardScaler().fit(X_pka_test_not_categorical)\n",
    "\n",
    "X_pka_train_norm = standart_scaler.transform(X_pka_train_not_categorical)\n",
    "X_pka_test_norm = standart_scaler.transform(X_pka_test_not_categorical)\n",
    "\n",
    "y_pka_train_norm = y_pka_train.values\n",
    "y_pka_test_norm = y_pka_test.values"
   ]
  },
  {
   "cell_type": "code",
   "execution_count": 17,
   "metadata": {},
   "outputs": [],
   "source": [
    "df_train_norm = pd.DataFrame(X_pka_train_norm, columns=PKA_FEATURES_NOT_CATEGORICAL)\n",
    "df_test_norm = pd.DataFrame(X_pka_test_norm, columns=PKA_FEATURES_NOT_CATEGORICAL)\n",
    "\n",
    "for feature in PKA_FEATURES_CATEGORICAL:\n",
    "    df_train_norm[feature] = X_pka_train[feature].values\n",
    "    df_test_norm[feature] = X_pka_test[feature].values\n",
    "\n",
    "df_train_norm_ = df_train_norm.copy()\n",
    "df_test_norm_ = df_test_norm.copy()\n",
    "\n",
    "df_train_norm['fold_id'] = df_pka_train.copy()['fold_id'].tolist()\n",
    "\n",
    "df_train_norm['pKa'] = df_pka_train.copy()['pKa'].tolist()\n",
    "df_test_norm['pKa'] = df_pka_test.copy()['pKa'].tolist()"
   ]
  },
  {
   "cell_type": "code",
   "execution_count": 19,
   "metadata": {},
   "outputs": [],
   "source": [
    "import os\n",
    "\n",
    "save_path = r'C:\\work\\DrugDiscovery\\main_git\\XAI_Chem\\data\\pKa_logP_minmaxscaler_canon_smiles\\pKa'\n",
    "\n",
    "df_train_norm.to_csv(os.path.join(save_path, 'train_pka_standart_scaler_non_categorizal_features_scaled.csv'))\n",
    "df_test_norm.to_csv(os.path.join(save_path, 'test_pka_standart_scaler_non_categorizal_features_scaled.csv'))"
   ]
  },
  {
   "cell_type": "code",
   "execution_count": 20,
   "metadata": {},
   "outputs": [
    {
     "data": {
      "text/plain": [
       "{'mse': 0.527, 'mae': 0.608, 'r^2': 0.891}"
      ]
     },
     "execution_count": 20,
     "metadata": {},
     "output_type": "execute_result"
    }
   ],
   "source": [
    "from sklearn import linear_model\n",
    "\n",
    "regr = linear_model.LinearRegression()\n",
    "\n",
    "regr.fit(X_pka_train, y_pka_train_norm)\n",
    "\n",
    "y_pred = regr.predict(X_pka_test)\n",
    "\n",
    "calculate_metrics(y_pred, y_pka_test_norm)"
   ]
  }
 ],
 "metadata": {
  "kernelspec": {
   "display_name": "dgl-cuda-env",
   "language": "python",
   "name": "python3"
  },
  "language_info": {
   "codemirror_mode": {
    "name": "ipython",
    "version": 3
   },
   "file_extension": ".py",
   "mimetype": "text/x-python",
   "name": "python",
   "nbconvert_exporter": "python",
   "pygments_lexer": "ipython3",
   "version": "3.11.9"
  }
 },
 "nbformat": 4,
 "nbformat_minor": 2
}
