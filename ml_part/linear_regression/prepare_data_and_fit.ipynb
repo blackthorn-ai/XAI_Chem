{
 "cells": [
  {
   "cell_type": "code",
   "execution_count": 1,
   "metadata": {},
   "outputs": [],
   "source": [
    "import pandas as pd\n",
    "\n",
    "csv_path = r'C:\\work\\DrugDiscovery\\main_git\\XAI_Chem\\data\\init_data\\pKa_Prediction_Starting data_2024.01.25.csv'\n",
    "csv_logP_test_path = r'C:\\work\\DrugDiscovery\\main_git\\XAI_Chem\\data\\logP_lipophilicity_data\\gnn_cv\\test.csv'\n",
    "\n",
    "df = pd.read_csv(csv_path, index_col=0)\n",
    "df_test_splited_by_tanimoto = pd.read_csv(csv_logP_test_path, index_col=0)\n",
    "\n",
    "logP_smiles = df_test_splited_by_tanimoto['Smiles'].tolist()\n",
    "pKa_smiles, pKa_values = [], []\n",
    "\n",
    "for index, row in df.iterrows():\n",
    "    if row['Amides for LogP'] in logP_smiles:\n",
    "        pKa_smiles.append(row['Smiles'])\n",
    "        pKa_values.append(row['pKa'])\n",
    "\n",
    "df_pKa_test = pd.DataFrame({\"smiles\": pKa_smiles,\n",
    "                            \"pKa\": pKa_values})"
   ]
  },
  {
   "cell_type": "code",
   "execution_count": 2,
   "metadata": {},
   "outputs": [],
   "source": [
    "logP_smiles = df_test_splited_by_tanimoto['Smiles'].tolist()\n",
    "pKa_smiles, pKa_values = [], []\n",
    "\n",
    "for index, row in df.iterrows():\n",
    "    if row['Amides for LogP'] in logP_smiles:\n",
    "        pKa_smiles.append(row['Smiles'])\n",
    "        pKa_values.append(row['pKa'])\n",
    "\n",
    "df_pKa_test = pd.DataFrame({\"smiles\": pKa_smiles,\n",
    "                            \"pKa\": pKa_values})"
   ]
  },
  {
   "cell_type": "code",
   "execution_count": 4,
   "metadata": {},
   "outputs": [],
   "source": [
    "from sklearn.metrics import mean_absolute_error\n",
    "from sklearn.metrics import mean_squared_error\n",
    "from sklearn.metrics import r2_score\n",
    "\n",
    "def calculate_metrics(true_values, pred_values):\n",
    "    mse = round(mean_squared_error(true_values, pred_values),3)\n",
    "    mae = round(mean_absolute_error(true_values, pred_values),3)\n",
    "    r_score = round(r2_score(true_values, pred_values),3)\n",
    "\n",
    "    return {\"mse\": mse,\n",
    "            \"mae\": mae,\n",
    "            \"r^2\": r_score,}"
   ]
  },
  {
   "cell_type": "code",
   "execution_count": 5,
   "metadata": {},
   "outputs": [],
   "source": [
    "import pandas as pd\n",
    "\n",
    "pKa_test_csv = r'C:\\work\\DrugDiscovery\\main_git\\XAI_Chem\\data\\updated_features\\csv_for_rulefit\\test_pKa_v4_features_2.2.csv'\n",
    "pKa_train_csv = r'C:\\work\\DrugDiscovery\\main_git\\XAI_Chem\\data\\updated_features\\csv_for_rulefit\\train_pKa_v4_features_2.2.csv'\n",
    "\n",
    "logP_test_csv = r'C:\\work\\DrugDiscovery\\main_git\\XAI_Chem\\data\\updated_features\\csv_for_rulefit\\test_logP_v4_features_2.2.csv'\n",
    "logP_train_csv = r'C:\\work\\DrugDiscovery\\main_git\\XAI_Chem\\data\\updated_features\\csv_for_rulefit\\train_logP_v4_features_2.2.csv'"
   ]
  },
  {
   "cell_type": "code",
   "execution_count": 6,
   "metadata": {},
   "outputs": [],
   "source": [
    "df_pka_train = pd.read_csv(pKa_train_csv, index_col=0)\n",
    "df_pka_test = pd.read_csv(pKa_test_csv, index_col=0)"
   ]
  },
  {
   "cell_type": "code",
   "execution_count": 7,
   "metadata": {},
   "outputs": [],
   "source": [
    "LOGP_FEATURES = ['f_freedom', 'PPSA5', 'mol_num_cycles', 'nFRing', 'nF', 'identificator',\n",
    "                 'mol_weight', 'dipole_moment', 'nHRing', 'nO', 'PBF', 'nC', 'nARing',\n",
    "                 'cis/trans', 'PNSA5', 'FPSA3', 'mol_volume', 'RPCS', 'GeomShapeIndex',\n",
    "                 'WPSA5', 'TASA', 'f_to_fg', 'avg_atoms_in_cycle', 'nFHRing',\n",
    "                 'chirality']\n",
    "\n",
    "PKA_FEATURES = ['RPCS', 'PBF', 'mol_weight', 'dipole_moment', 'PPSA5',\n",
    "                'avg_atoms_in_cycle', 'nHRing', 'cis/trans', 'FPSA3', 'nF', 'chirality',\n",
    "                'sasa', 'PNSA5', 'GeomShapeIndex', 'TASA', 'mol_num_cycles',\n",
    "                'f_freedom', 'nFRing', 'identificator', 'nO', 'nARing', 'nC', 'nFHRing',\n",
    "                'f_to_fg']"
   ]
  },
  {
   "cell_type": "code",
   "execution_count": 8,
   "metadata": {},
   "outputs": [],
   "source": [
    "y_pka_train = df_pka_train[['pKa']]\n",
    "y_pka_test = df_pka_test[['pKa']]\n",
    "\n",
    "X_pka_train = df_pka_train[PKA_FEATURES]\n",
    "X_pka_test = df_pka_test[PKA_FEATURES]"
   ]
  },
  {
   "cell_type": "code",
   "execution_count": 6,
   "metadata": {},
   "outputs": [],
   "source": [
    "from sklearn.preprocessing import MinMaxScaler\n",
    "\n",
    "min_max_scaler = MinMaxScaler().fit(X_pka_test)\n",
    "\n",
    "X_pka_train_norm = min_max_scaler.transform(X_pka_train)\n",
    "X_pka_test_norm = min_max_scaler.transform(X_pka_test)\n",
    "\n",
    "y_pka_train_norm = y_pka_train.values\n",
    "y_pka_test_norm = y_pka_test.values"
   ]
  },
  {
   "cell_type": "code",
   "execution_count": 26,
   "metadata": {},
   "outputs": [],
   "source": [
    "df_train_norm = pd.DataFrame(X_pka_train_norm, columns=PKA_FEATURES)\n",
    "df_test_norm = pd.DataFrame(X_pka_test_norm, columns=PKA_FEATURES)\n",
    "\n",
    "df_train_norm['fold_id'] = df_pka_train.copy()['fold_id'].tolist()\n",
    "\n",
    "df_train_norm['pKa'] = df_pka_train.copy()['pKa'].tolist()\n",
    "df_test_norm['pKa'] = df_pka_test.copy()['pKa'].tolist()"
   ]
  },
  {
   "cell_type": "code",
   "execution_count": 29,
   "metadata": {},
   "outputs": [],
   "source": [
    "import os\n",
    "\n",
    "save_path = r'C:\\work\\DrugDiscovery\\main_git\\XAI_Chem\\data\\pKA_logP_minmaxscaler'\n",
    "\n",
    "df_train_norm.to_csv(os.path.join(save_path, 'train_pka_minmax.csv'))\n",
    "df_test_norm.to_csv(os.path.join(save_path, 'test_pka_minmax.csv'))"
   ]
  },
  {
   "cell_type": "markdown",
   "metadata": {},
   "source": [
    "Linear regression"
   ]
  },
  {
   "cell_type": "code",
   "execution_count": 8,
   "metadata": {},
   "outputs": [],
   "source": [
    "from sklearn import linear_model\n",
    "\n",
    "regr = linear_model.LinearRegression()\n",
    "\n",
    "regr.fit(X_pka_train_norm, y_pka_train_norm)\n",
    "\n",
    "y_pred = regr.predict(X_pka_test_norm)"
   ]
  },
  {
   "cell_type": "code",
   "execution_count": 9,
   "metadata": {},
   "outputs": [
    {
     "data": {
      "text/plain": [
       "{'mse': 0.728, 'mae': 0.698, 'r^2': 0.887}"
      ]
     },
     "execution_count": 9,
     "metadata": {},
     "output_type": "execute_result"
    }
   ],
   "source": [
    "calculate_metrics(y_pred, y_pka_test_norm)"
   ]
  },
  {
   "cell_type": "markdown",
   "metadata": {},
   "source": [
    "Standartization"
   ]
  },
  {
   "cell_type": "code",
   "execution_count": 12,
   "metadata": {},
   "outputs": [],
   "source": [
    "from sklearn.preprocessing import StandardScaler\n",
    "\n",
    "standart_scaler = StandardScaler().fit(X_pka_test)\n",
    "\n",
    "X_pka_train_norm = standart_scaler.transform(X_pka_train)\n",
    "X_pka_test_norm = standart_scaler.transform(X_pka_test)\n",
    "\n",
    "y_pka_train_norm = y_pka_train.values\n",
    "y_pka_test_norm = y_pka_test.values"
   ]
  },
  {
   "cell_type": "code",
   "execution_count": 15,
   "metadata": {},
   "outputs": [],
   "source": [
    "df_train_norm = pd.DataFrame(X_pka_train_norm, columns=PKA_FEATURES)\n",
    "df_test_norm = pd.DataFrame(X_pka_test_norm, columns=PKA_FEATURES)\n",
    "\n",
    "df_train_norm['fold_id'] = df_pka_train.copy()['fold_id'].tolist()\n",
    "\n",
    "df_train_norm['pKa'] = df_pka_train.copy()['pKa'].tolist()\n",
    "df_test_norm['pKa'] = df_pka_test.copy()['pKa'].tolist()"
   ]
  },
  {
   "cell_type": "code",
   "execution_count": 17,
   "metadata": {},
   "outputs": [],
   "source": [
    "import os\n",
    "\n",
    "save_path = r'C:\\work\\DrugDiscovery\\main_git\\XAI_Chem\\data\\pKa_logP_minmaxscaler\\pKa'\n",
    "\n",
    "df_train_norm.to_csv(os.path.join(save_path, 'train_pka_standart_scaler.csv'))\n",
    "df_test_norm.to_csv(os.path.join(save_path, 'test_pka_standart_scaler.csv'))"
   ]
  },
  {
   "cell_type": "code",
   "execution_count": 11,
   "metadata": {},
   "outputs": [
    {
     "data": {
      "text/plain": [
       "{'mse': 0.728, 'mae': 0.698, 'r^2': 0.887}"
      ]
     },
     "execution_count": 11,
     "metadata": {},
     "output_type": "execute_result"
    }
   ],
   "source": [
    "from sklearn import linear_model\n",
    "\n",
    "regr = linear_model.LinearRegression()\n",
    "\n",
    "regr.fit(X_pka_train, y_pka_train_norm)\n",
    "\n",
    "y_pred = regr.predict(X_pka_test)\n",
    "\n",
    "calculate_metrics(y_pred, y_pka_test_norm)"
   ]
  },
  {
   "cell_type": "markdown",
   "metadata": {},
   "source": [
    "Standartization with Y"
   ]
  },
  {
   "cell_type": "code",
   "execution_count": 12,
   "metadata": {},
   "outputs": [],
   "source": [
    "from sklearn.preprocessing import StandardScaler\n",
    "\n",
    "X_standart_scaler = StandardScaler().fit(X_pka_test)\n",
    "\n",
    "X_pka_train_norm = X_standart_scaler.transform(X_pka_train)\n",
    "X_pka_test_norm = X_standart_scaler.transform(X_pka_test)\n",
    "\n",
    "y_standart_scaler = StandardScaler().fit(y_pka_test)\n",
    "\n",
    "y_pka_train_norm = y_standart_scaler.transform(y_pka_train)\n",
    "y_pka_test_norm = y_standart_scaler.transform(y_pka_test)"
   ]
  },
  {
   "cell_type": "code",
   "execution_count": 13,
   "metadata": {},
   "outputs": [
    {
     "data": {
      "text/plain": [
       "{'mse': 0.121, 'mae': 0.284, 'r^2': 0.887}"
      ]
     },
     "execution_count": 13,
     "metadata": {},
     "output_type": "execute_result"
    }
   ],
   "source": [
    "from sklearn import linear_model\n",
    "\n",
    "regr = linear_model.LinearRegression()\n",
    "\n",
    "regr.fit(X_pka_train_norm, y_pka_train_norm)\n",
    "\n",
    "y_pred = regr.predict(X_pka_test_norm)\n",
    "\n",
    "calculate_metrics(y_pred, y_pka_test_norm)"
   ]
  },
  {
   "cell_type": "markdown",
   "metadata": {},
   "source": [
    "logP"
   ]
  },
  {
   "cell_type": "code",
   "execution_count": 18,
   "metadata": {},
   "outputs": [],
   "source": [
    "df_logp_train = pd.read_csv(logP_train_csv, index_col=0)\n",
    "df_logp_test = pd.read_csv(logP_test_csv, index_col=0)\n",
    "\n",
    "y_logp_train = df_logp_train[['logP']]\n",
    "y_logp_test = df_logp_test[['logP']]\n",
    "\n",
    "X_logp_train = df_logp_train[LOGP_FEATURES]\n",
    "X_logp_test = df_logp_test[LOGP_FEATURES]"
   ]
  },
  {
   "cell_type": "code",
   "execution_count": 19,
   "metadata": {},
   "outputs": [],
   "source": [
    "from sklearn.preprocessing import StandardScaler\n",
    "\n",
    "min_max_scaler = StandardScaler().fit(X_logp_test)\n",
    "\n",
    "X_logp_train_norm = min_max_scaler.transform(X_logp_train)\n",
    "X_logp_test_norm = min_max_scaler.transform(X_logp_test)\n",
    "\n",
    "y_logp_train_norm = y_logp_train.values\n",
    "y_logp_test_norm = y_logp_test.values"
   ]
  },
  {
   "cell_type": "code",
   "execution_count": 22,
   "metadata": {},
   "outputs": [],
   "source": [
    "df_train_norm = pd.DataFrame(X_logp_train_norm, columns=LOGP_FEATURES)\n",
    "df_test_norm = pd.DataFrame(X_logp_test_norm, columns=LOGP_FEATURES)\n",
    "\n",
    "df_train_norm['fold_id'] = df_logp_train.copy()['fold_id'].tolist()\n",
    "\n",
    "df_train_norm['logP'] = df_logp_train.copy()['logP'].tolist()\n",
    "df_test_norm['logP'] = df_logp_test.copy()['logP'].tolist()"
   ]
  },
  {
   "cell_type": "code",
   "execution_count": 24,
   "metadata": {},
   "outputs": [],
   "source": [
    "import os\n",
    "\n",
    "save_path = r'C:\\work\\DrugDiscovery\\main_git\\XAI_Chem\\data\\pKA_logP_minmaxscaler\\logP'\n",
    "\n",
    "df_train_norm.to_csv(os.path.join(save_path, 'train_logp_standart_scaler.csv'))\n",
    "df_test_norm.to_csv(os.path.join(save_path, 'test_logp_standart_scaler.csv'))"
   ]
  },
  {
   "cell_type": "code",
   "execution_count": 39,
   "metadata": {},
   "outputs": [],
   "source": [
    "from sklearn.preprocessing import MinMaxScaler\n",
    "\n",
    "min_max_scaler = MinMaxScaler().fit(X_logp_test)\n",
    "\n",
    "X_logp_train_norm = min_max_scaler.transform(X_logp_train)\n",
    "X_logp_test_norm = min_max_scaler.transform(X_logp_test)\n",
    "\n",
    "y_logp_train_norm = y_logp_train.values\n",
    "y_logp_test_norm = y_logp_test.values"
   ]
  },
  {
   "cell_type": "code",
   "execution_count": 43,
   "metadata": {},
   "outputs": [],
   "source": [
    "df_train_norm = pd.DataFrame(X_logp_train_norm, columns=LOGP_FEATURES)\n",
    "df_test_norm = pd.DataFrame(X_logp_test_norm, columns=LOGP_FEATURES)\n",
    "\n",
    "df_train_norm['fold_id'] = df_logp_train.copy()['fold_id'].tolist()\n",
    "\n",
    "df_train_norm['logP'] = df_logp_train.copy()['logP'].tolist()\n",
    "df_test_norm['logP'] = df_logp_test.copy()['logP'].tolist()"
   ]
  },
  {
   "cell_type": "code",
   "execution_count": 42,
   "metadata": {},
   "outputs": [
    {
     "data": {
      "text/plain": [
       "{'mse': 0.025, 'mae': 0.119, 'r^2': 0.908}"
      ]
     },
     "execution_count": 42,
     "metadata": {},
     "output_type": "execute_result"
    }
   ],
   "source": [
    "from sklearn import linear_model\n",
    "\n",
    "regr = linear_model.LinearRegression()\n",
    "\n",
    "regr.fit(X_logp_train_norm, y_logp_train_norm)\n",
    "\n",
    "y_pred = regr.predict(X_logp_test_norm)\n",
    "\n",
    "calculate_metrics(y_pred, y_logp_test_norm)"
   ]
  },
  {
   "cell_type": "code",
   "execution_count": 47,
   "metadata": {},
   "outputs": [],
   "source": [
    "import os\n",
    "\n",
    "save_path = r'C:\\work\\DrugDiscovery\\main_git\\XAI_Chem\\data\\pKA_logP_minmaxscaler\\logP'\n",
    "\n",
    "df_train_norm.to_csv(os.path.join(save_path, 'train_pka_minmax.csv'))\n",
    "df_test_norm.to_csv(os.path.join(save_path, 'test_pka_minmax.csv'))"
   ]
  },
  {
   "cell_type": "markdown",
   "metadata": {},
   "source": [
    "standartization with Y"
   ]
  },
  {
   "cell_type": "code",
   "execution_count": 21,
   "metadata": {},
   "outputs": [],
   "source": [
    "from sklearn.preprocessing import StandardScaler\n",
    "\n",
    "x_scaler = StandardScaler().fit(X_logp_test)\n",
    "\n",
    "X_logp_train_norm = x_scaler.transform(X_logp_train)\n",
    "X_logp_test_norm = x_scaler.transform(X_logp_test)\n",
    "\n",
    "y_scaler = StandardScaler().fit(y_logp_test)\n",
    "\n",
    "y_logp_train_norm = y_scaler.transform(y_logp_train)\n",
    "y_logp_test_norm = y_scaler.transform(y_logp_test)"
   ]
  },
  {
   "cell_type": "code",
   "execution_count": 22,
   "metadata": {},
   "outputs": [
    {
     "data": {
      "text/plain": [
       "{'mse': 0.119, 'mae': 0.263, 'r^2': 0.865}"
      ]
     },
     "execution_count": 22,
     "metadata": {},
     "output_type": "execute_result"
    }
   ],
   "source": [
    "from sklearn import linear_model\n",
    "\n",
    "regr = linear_model.LinearRegression()\n",
    "\n",
    "regr.fit(X_logp_train_norm, y_logp_train_norm)\n",
    "\n",
    "y_pred = regr.predict(X_logp_test_norm)\n",
    "\n",
    "calculate_metrics(y_pred, y_logp_test_norm)"
   ]
  },
  {
   "cell_type": "code",
   "execution_count": 27,
   "metadata": {},
   "outputs": [
    {
     "data": {
      "text/plain": [
       "<Axes: >"
      ]
     },
     "execution_count": 27,
     "metadata": {},
     "output_type": "execute_result"
    },
    {
     "data": {
      "image/png": "[encoded data removed]",
      "text/plain": [
       "<Figure size 640x480 with 1 Axes>"
      ]
     },
     "metadata": {},
     "output_type": "display_data"
    }
   ],
   "source": [
    "import seaborn as sns\n",
    "\n",
    "sns.boxplot(data=df)"
   ]
  }
 ],
 "metadata": {
  "kernelspec": {
   "display_name": "dgl-cuda-env",
   "language": "python",
   "name": "python3"
  },
  "language_info": {
   "codemirror_mode": {
    "name": "ipython",
    "version": 3
   },
   "file_extension": ".py",
   "mimetype": "text/x-python",
   "name": "python",
   "nbconvert_exporter": "python",
   "pygments_lexer": "ipython3",
   "version": "3.11.8"
  }
 },
 "nbformat": 4,
 "nbformat_minor": 2
}
