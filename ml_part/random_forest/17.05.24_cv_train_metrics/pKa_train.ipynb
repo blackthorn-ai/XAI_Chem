{
 "cells": [
  {
   "cell_type": "code",
   "execution_count": 1,
   "metadata": {},
   "outputs": [],
   "source": [
    "from sklearn.metrics import mean_absolute_error\n",
    "from sklearn.metrics import mean_squared_error\n",
    "from sklearn.metrics import r2_score\n",
    "from math import sqrt\n",
    "\n",
    "def calculate_metrics(true_values, pred_values):\n",
    "    mse = round(mean_squared_error(true_values, pred_values),3)\n",
    "    mae = round(mean_absolute_error(true_values, pred_values),3)\n",
    "    r_score = round(r2_score(true_values, pred_values),3)\n",
    "\n",
    "    return {\"mse\": mse,\n",
    "            \"mae\": mae,\n",
    "            \"r_score\": r_score,}"
   ]
  },
  {
   "cell_type": "code",
   "execution_count": 2,
   "metadata": {},
   "outputs": [
    {
     "name": "stdout",
     "output_type": "stream",
     "text": [
      "True\n",
      "183\n",
      "['RPCS', 'PBF', 'mol_weight', 'dipole_moment', 'PPSA5', 'avg_atoms_in_cycle', 'nHRing', 'cis/trans', 'f_atom_fraction', 'dihedral_angle', 'FPSA3', 'distance_between_atoms_in_cycle_and_f_group', 'angle_X1X2R2', 'nF', 'angle_R1X1R2', 'nFAHRing', 'nAHRing', 'chirality', 'sasa', 'PNSA5', 'GeomShapeIndex', 'TASA', 'angle_R2X2R1', 'mol_num_cycles', 'naRing', 'nN', 'f_freedom', 'tpsa+f', 'nFRing', 'identificator', 'nO', 'distance_between_atoms_in_f_group_centers', 'angle_X2X1R1', 'nARing', 'nFARing', 'nC', 'nFHRing', 'f_to_fg', 'pKa', 'logP']\n",
      "PBF outliers indexes: [40, 71, 127]\n",
      "f_atom_fraction outliers indexes: [124]\n",
      "FPSA3 outliers indexes: [40]\n",
      "sasa outliers indexes: [127]\n",
      "PNSA5 outliers indexes: [37, 38]\n",
      "distance_between_atoms_in_f_group_centers outliers indexes: [35]\n",
      "logP outliers indexes: [82, 83]\n",
      "Remains rows:169, amount of features: 40\n"
     ]
    }
   ],
   "source": [
    "import os\n",
    "import sys\n",
    "sys.path.insert(0, os.path.dirname('C:\\work\\DrugDiscovery\\main_git\\XAI_Chem\\ml_part'))\n",
    "\n",
    "import pandas as pd\n",
    "\n",
    "from ml_part.random_forest.data_prep.preparation import DataPreparation\n",
    "from ml_part.random_forest.train import RFTrain\n",
    "\n",
    "from hyperopt import space_eval\n",
    "\n",
    "CSV_PATH = r'C:\\work\\DrugDiscovery\\main_git\\XAI_Chem\\data\\updated_features\\remained_features_pKa_08.02_v4_fixed_distances_chirality.csv'\n",
    "smiles_filepath = r'C:\\work\\DrugDiscovery\\main_git\\XAI_Chem\\data\\updated_features\\smiles_to_index.pkl'\n",
    "\n",
    "dataPreparation = DataPreparation(CSV_PATH)\n",
    "\n",
    "unimportant_features_to_drop = ['dipole_moment']\n",
    "X, y = dataPreparation.prepare_data_for_RF(is_pKa=True,\n",
    "                                           use_mandatory_features=True,\n",
    "                                           is_remove_outliers=True,\n",
    "                                           is_remove_nan=False,\n",
    "                                           outliers_features_to_skip=unimportant_features_to_drop)\n",
    "\n",
    "correlated_features = ['f_atom_fraction', 'naHRing', 'nFaRing', 'nFaHRing', 'tpsa+f']\n",
    "ring_features_to_remain = ['nFRing', 'nHRing', 'nARing', 'nFHRing']\n",
    "features_to_drop = []\n",
    "for feature_name in X.columns:\n",
    "    if feature_name in correlated_features:\n",
    "        features_to_drop.append(feature_name)\n",
    "    elif \"ring\" in feature_name.lower() and feature_name not in ring_features_to_remain:\n",
    "        features_to_drop.append(feature_name)\n",
    "    elif len(X[feature_name].unique()) == 1:\n",
    "        print(f\"feature without unique values: {feature_name}\")\n",
    "        features_to_drop.append(feature_name)\n",
    "    elif \"angle\" in feature_name or \"distance\" in feature_name:\n",
    "        features_to_drop.append(feature_name)\n",
    "\n",
    "X = X.drop(features_to_drop, axis=1)\n",
    "\n",
    "rf_train = RFTrain(X=X, \n",
    "                   y=y,\n",
    "                   smiles_filepath=smiles_filepath,\n",
    "                   is_pKa=True,\n",
    "                   k_folds=2)"
   ]
  },
  {
   "cell_type": "code",
   "execution_count": 3,
   "metadata": {},
   "outputs": [
    {
     "name": "stdout",
     "output_type": "stream",
     "text": [
      "  0%|          | 0/1000 [00:00<?, ?trial/s, best loss=?]"
     ]
    },
    {
     "name": "stdout",
     "output_type": "stream",
     "text": [
      "100%|██████████| 1000/1000 [28:40<00:00,  1.72s/trial, best loss: 0.6333941094163849]\n",
      "Найкращі гіперпараметри: {'max_depth': 3, 'max_features': 98, 'min_samples_leaf': 2, 'min_samples_split': 2, 'n_estimators': 946}\n",
      "Mean Squared Error: 0.6915342720897332\n",
      "Mean Squared Error: 0.6915342720897332\n"
     ]
    }
   ],
   "source": [
    "best_hyperparams = rf_train.find_best_params_with_hyperopt()\n",
    "\n",
    "best_hyperparams = space_eval(rf_train.space, best_hyperparams)\n",
    "\n",
    "model = rf_train.train(max_depth=best_hyperparams['max_depth'], \n",
    "                       max_features=best_hyperparams['max_features'], \n",
    "                       min_samples_leaf=best_hyperparams['min_samples_leaf'], \n",
    "                       min_samples_split=best_hyperparams['min_samples_split'], \n",
    "                       n_estimators=best_hyperparams['n_estimators'])\n",
    "\n",
    "model_cv = rf_train.train(max_depth=best_hyperparams['max_depth'], \n",
    "                       max_features=best_hyperparams['max_features'], \n",
    "                       min_samples_leaf=best_hyperparams['min_samples_leaf'], \n",
    "                       min_samples_split=best_hyperparams['min_samples_split'], \n",
    "                       n_estimators=best_hyperparams['n_estimators'])\n"
   ]
  },
  {
   "cell_type": "markdown",
   "metadata": {},
   "source": [
    "SAVE RF AS JOBLIB"
   ]
  },
  {
   "cell_type": "code",
   "execution_count": 4,
   "metadata": {},
   "outputs": [
    {
     "data": {
      "text/plain": [
       "['C:\\\\work\\\\DrugDiscovery\\\\main_git\\\\XAI_Chem\\\\ml_part\\\\random_forest\\\\models\\\\08.02.24_features_2.2\\\\pKa\\\\pKa_rf_all_molecules(without_angles_features).joblib']"
      ]
     },
     "execution_count": 4,
     "metadata": {},
     "output_type": "execute_result"
    }
   ],
   "source": [
    "import joblib\n",
    "\n",
    "save_path_for_rf = r'C:\\work\\DrugDiscovery\\main_git\\XAI_Chem\\ml_part\\random_forest\\models\\08.02.24_features_2.2\\pKa\\pKa_rf_all_molecules(without_angles_features).joblib'\n",
    "\n",
    "joblib.dump(model, save_path_for_rf)"
   ]
  },
  {
   "cell_type": "markdown",
   "metadata": {},
   "source": [
    "LOAD RF FROM JOBLIB"
   ]
  },
  {
   "cell_type": "code",
   "execution_count": 16,
   "metadata": {},
   "outputs": [],
   "source": [
    "import joblib\n",
    "\n",
    "load_path = r'C:\\\\work\\\\DrugDiscovery\\\\main_git\\\\XAI_Chem\\\\ml_part\\\\random_forest\\\\models\\\\08.02.24_features_2.2\\\\pKa\\\\pKa_rf_all_molecules(without_angles_features).joblib'\n",
    "\n",
    "loaded_rf = joblib.load(load_path)"
   ]
  },
  {
   "cell_type": "code",
   "execution_count": 5,
   "metadata": {},
   "outputs": [
    {
     "data": {
      "text/html": [
       "<style>#sk-container-id-1 {color: black;}#sk-container-id-1 pre{padding: 0;}#sk-container-id-1 div.sk-toggleable {background-color: white;}#sk-container-id-1 label.sk-toggleable__label {cursor: pointer;display: block;width: 100%;margin-bottom: 0;padding: 0.3em;box-sizing: border-box;text-align: center;}#sk-container-id-1 label.sk-toggleable__label-arrow:before {content: \"▸\";float: left;margin-right: 0.25em;color: #696969;}#sk-container-id-1 label.sk-toggleable__label-arrow:hover:before {color: black;}#sk-container-id-1 div.sk-estimator:hover label.sk-toggleable__label-arrow:before {color: black;}#sk-container-id-1 div.sk-toggleable__content {max-height: 0;max-width: 0;overflow: hidden;text-align: left;background-color: #f0f8ff;}#sk-container-id-1 div.sk-toggleable__content pre {margin: 0.2em;color: black;border-radius: 0.25em;background-color: #f0f8ff;}#sk-container-id-1 input.sk-toggleable__control:checked~div.sk-toggleable__content {max-height: 200px;max-width: 100%;overflow: auto;}#sk-container-id-1 input.sk-toggleable__control:checked~label.sk-toggleable__label-arrow:before {content: \"▾\";}#sk-container-id-1 div.sk-estimator input.sk-toggleable__control:checked~label.sk-toggleable__label {background-color: #d4ebff;}#sk-container-id-1 div.sk-label input.sk-toggleable__control:checked~label.sk-toggleable__label {background-color: #d4ebff;}#sk-container-id-1 input.sk-hidden--visually {border: 0;clip: rect(1px 1px 1px 1px);clip: rect(1px, 1px, 1px, 1px);height: 1px;margin: -1px;overflow: hidden;padding: 0;position: absolute;width: 1px;}#sk-container-id-1 div.sk-estimator {font-family: monospace;background-color: #f0f8ff;border: 1px dotted black;border-radius: 0.25em;box-sizing: border-box;margin-bottom: 0.5em;}#sk-container-id-1 div.sk-estimator:hover {background-color: #d4ebff;}#sk-container-id-1 div.sk-parallel-item::after {content: \"\";width: 100%;border-bottom: 1px solid gray;flex-grow: 1;}#sk-container-id-1 div.sk-label:hover label.sk-toggleable__label {background-color: #d4ebff;}#sk-container-id-1 div.sk-serial::before {content: \"\";position: absolute;border-left: 1px solid gray;box-sizing: border-box;top: 0;bottom: 0;left: 50%;z-index: 0;}#sk-container-id-1 div.sk-serial {display: flex;flex-direction: column;align-items: center;background-color: white;padding-right: 0.2em;padding-left: 0.2em;position: relative;}#sk-container-id-1 div.sk-item {position: relative;z-index: 1;}#sk-container-id-1 div.sk-parallel {display: flex;align-items: stretch;justify-content: center;background-color: white;position: relative;}#sk-container-id-1 div.sk-item::before, #sk-container-id-1 div.sk-parallel-item::before {content: \"\";position: absolute;border-left: 1px solid gray;box-sizing: border-box;top: 0;bottom: 0;left: 50%;z-index: -1;}#sk-container-id-1 div.sk-parallel-item {display: flex;flex-direction: column;z-index: 1;position: relative;background-color: white;}#sk-container-id-1 div.sk-parallel-item:first-child::after {align-self: flex-end;width: 50%;}#sk-container-id-1 div.sk-parallel-item:last-child::after {align-self: flex-start;width: 50%;}#sk-container-id-1 div.sk-parallel-item:only-child::after {width: 0;}#sk-container-id-1 div.sk-dashed-wrapped {border: 1px dashed gray;margin: 0 0.4em 0.5em 0.4em;box-sizing: border-box;padding-bottom: 0.4em;background-color: white;}#sk-container-id-1 div.sk-label label {font-family: monospace;font-weight: bold;display: inline-block;line-height: 1.2em;}#sk-container-id-1 div.sk-label-container {text-align: center;}#sk-container-id-1 div.sk-container {/* jupyter's `normalize.less` sets `[hidden] { display: none; }` but bootstrap.min.css set `[hidden] { display: none !important; }` so we also need the `!important` here to be able to override the default hidden behavior on the sphinx rendered scikit-learn.org. See: https://github.com/scikit-learn/scikit-learn/issues/21755 */display: inline-block !important;position: relative;}#sk-container-id-1 div.sk-text-repr-fallback {display: none;}</style><div id=\"sk-container-id-1\" class=\"sk-top-container\"><div class=\"sk-text-repr-fallback\"><pre>RandomForestRegressor(max_depth=4, max_features=99, min_samples_leaf=3,\n",
       "                      min_samples_split=4, n_estimators=956, random_state=42)</pre><b>In a Jupyter environment, please rerun this cell to show the HTML representation or trust the notebook. <br />On GitHub, the HTML representation is unable to render, please try loading this page with nbviewer.org.</b></div><div class=\"sk-container\" hidden><div class=\"sk-item\"><div class=\"sk-estimator sk-toggleable\"><input class=\"sk-toggleable__control sk-hidden--visually\" id=\"sk-estimator-id-1\" type=\"checkbox\" checked><label for=\"sk-estimator-id-1\" class=\"sk-toggleable__label sk-toggleable__label-arrow\">RandomForestRegressor</label><div class=\"sk-toggleable__content\"><pre>RandomForestRegressor(max_depth=4, max_features=99, min_samples_leaf=3,\n",
       "                      min_samples_split=4, n_estimators=956, random_state=42)</pre></div></div></div></div></div>"
      ],
      "text/plain": [
       "RandomForestRegressor(max_depth=4, max_features=99, min_samples_leaf=3,\n",
       "                      min_samples_split=4, n_estimators=956, random_state=42)"
      ]
     },
     "execution_count": 5,
     "metadata": {},
     "output_type": "execute_result"
    }
   ],
   "source": [
    "loaded_rf"
   ]
  },
  {
   "cell_type": "markdown",
   "metadata": {},
   "source": [
    "TRAIN:"
   ]
  },
  {
   "cell_type": "code",
   "execution_count": 18,
   "metadata": {},
   "outputs": [],
   "source": [
    "model = loaded_rf\n",
    "model_cv = loaded_rf"
   ]
  },
  {
   "cell_type": "code",
   "execution_count": 19,
   "metadata": {},
   "outputs": [
    {
     "data": {
      "text/plain": [
       "{'mse': 0.302, 'mae': 0.416, 'r_score': 0.953}"
      ]
     },
     "execution_count": 19,
     "metadata": {},
     "output_type": "execute_result"
    }
   ],
   "source": [
    "y_train = rf_train.y_train\n",
    "X_train = rf_train.X_train\n",
    "y_pred = model.predict(X_train.drop(['fold_id'], axis=1))\n",
    "\n",
    "calculate_metrics(y_train, y_pred)"
   ]
  },
  {
   "cell_type": "markdown",
   "metadata": {},
   "source": [
    "Cross-val"
   ]
  },
  {
   "cell_type": "code",
   "execution_count": 11,
   "metadata": {},
   "outputs": [
    {
     "data": {
      "text/plain": [
       "{'mse_oos': 0.626,\n",
       " 'mae_oos': 0.599,\n",
       " 'r^2_oos': 0.9035,\n",
       " 'mse_train': 0.2465,\n",
       " 'mae_train': 0.3715,\n",
       " 'r^2_train': 0.962}"
      ]
     },
     "execution_count": 11,
     "metadata": {},
     "output_type": "execute_result"
    }
   ],
   "source": [
    "RFTrain.calculate_crossval_metrics(model_cv, rf_train.X_train, rf_train.y_train)"
   ]
  },
  {
   "cell_type": "markdown",
   "metadata": {},
   "source": [
    "OOS:"
   ]
  },
  {
   "cell_type": "code",
   "execution_count": 20,
   "metadata": {},
   "outputs": [
    {
     "data": {
      "text/plain": [
       "{'mse': 0.692, 'mae': 0.683, 'r_score': 0.885}"
      ]
     },
     "execution_count": 20,
     "metadata": {},
     "output_type": "execute_result"
    }
   ],
   "source": [
    "y_test = rf_train.y_test\n",
    "X_test = rf_train.X_test\n",
    "y_pred = model.predict(X_test)\n",
    "\n",
    "calculate_metrics(y_test, y_pred)"
   ]
  }
 ],
 "metadata": {
  "kernelspec": {
   "display_name": "drug-discovery-venv",
   "language": "python",
   "name": "python3"
  },
  "language_info": {
   "codemirror_mode": {
    "name": "ipython",
    "version": 3
   },
   "file_extension": ".py",
   "mimetype": "text/x-python",
   "name": "python",
   "nbconvert_exporter": "python",
   "pygments_lexer": "ipython3",
   "version": "3.11.9"
  }
 },
 "nbformat": 4,
 "nbformat_minor": 2
}
