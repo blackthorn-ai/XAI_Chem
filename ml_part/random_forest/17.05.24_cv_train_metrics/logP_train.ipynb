{
 "cells": [
  {
   "cell_type": "code",
   "execution_count": 4,
   "metadata": {},
   "outputs": [],
   "source": [
    "from sklearn.metrics import mean_absolute_error\n",
    "from sklearn.metrics import mean_squared_error\n",
    "from sklearn.metrics import r2_score\n",
    "from math import sqrt\n",
    "\n",
    "def calculate_metrics(true_values, pred_values):\n",
    "    mse = round(mean_squared_error(true_values, pred_values),3)\n",
    "    mae = round(mean_absolute_error(true_values, pred_values),3)\n",
    "    r_score = round(r2_score(true_values, pred_values),3)\n",
    "\n",
    "    return {\"mse\": mse,\n",
    "            \"mae\": mae,\n",
    "            \"r_score\": r_score,}"
   ]
  },
  {
   "cell_type": "code",
   "execution_count": 1,
   "metadata": {},
   "outputs": [
    {
     "name": "stdout",
     "output_type": "stream",
     "text": [
      "True\n",
      "183\n",
      "['f_freedom', 'distance_between_atoms_in_cycle_and_f_group', 'PPSA5', 'mol_num_cycles', 'nFRing', 'nAHRing', 'angle_R1X1R2', 'nF', 'identificator', 'mol_weight', 'dipole_moment', 'nHRing', 'nO', 'PBF', 'nC', 'angle_X2X1R1', 'nARing', 'angle_R2X2R1', 'cis/trans', 'PNSA5', 'FPSA3', 'naRing', 'tpsa+f', 'mol_volume', 'RPCS', 'f_atom_fraction', 'GeomShapeIndex', 'WPSA5', 'TASA', 'f_to_fg', 'dihedral_angle', 'nFARing', 'distance_between_atoms_in_f_group_centers', 'avg_atoms_in_cycle', 'angle_X1X2R2', 'nFHRing', 'nFAHRing', 'chirality', 'pKa', 'logP']\n",
      "mol_volume outliers indexes: [127]\n",
      "f_atom_fraction outliers indexes: [124]\n",
      "distance_between_atoms_in_f_group_centers outliers indexes: [ 35 167]\n",
      "logP outliers indexes: [82, 83]\n",
      "Remains rows:172, amount of features: 40\n"
     ]
    }
   ],
   "source": [
    "import os\n",
    "import sys\n",
    "sys.path.insert(0, os.path.dirname('C:\\work\\DrugDiscovery\\main_git\\XAI_Chem\\ml_part'))\n",
    "\n",
    "import pandas as pd\n",
    "\n",
    "from ml_part.random_forest.data_prep.preparation import DataPreparation\n",
    "from ml_part.random_forest.train import RFTrain\n",
    "\n",
    "from hyperopt import space_eval\n",
    "\n",
    "CSV_PATH = r'C:\\work\\DrugDiscovery\\main_git\\XAI_Chem\\data\\updated_features\\remained_features_logP_08.02_v4_fixed_distances_chirality.csv'\n",
    "smiles_filepath = r'C:\\work\\DrugDiscovery\\main_git\\XAI_Chem\\data\\updated_features\\smiles_to_index.pkl'\n",
    "\n",
    "dataPreparation = DataPreparation(CSV_PATH)\n",
    "\n",
    "unimportant_features_to_drop = ['dipole_moment']\n",
    "X, y = dataPreparation.prepare_data_for_RF(is_pKa=False,\n",
    "                                           use_mandatory_features=True,\n",
    "                                           is_remove_outliers=True,\n",
    "                                           is_remove_nan=False,\n",
    "                                           outliers_features_to_skip=unimportant_features_to_drop)\n",
    "\n",
    "correlated_features = ['f_atom_fraction', 'naHRing', 'nFaRing', 'nFaHRing', 'tpsa+f']\n",
    "ring_features_to_remain = ['nFRing', 'nHRing', 'nARing', 'nFHRing']\n",
    "features_to_drop = []\n",
    "for feature_name in X.columns:\n",
    "    if feature_name in correlated_features:\n",
    "        features_to_drop.append(feature_name)\n",
    "    elif \"ring\" in feature_name.lower() and feature_name not in ring_features_to_remain:\n",
    "        features_to_drop.append(feature_name)\n",
    "    elif len(X[feature_name].unique()) == 1:\n",
    "        print(f\"feature without unique values: {feature_name}\")\n",
    "        features_to_drop.append(feature_name)\n",
    "    elif \"angle\" in feature_name or \"distance\" in feature_name:\n",
    "        features_to_drop.append(feature_name)\n",
    "\n",
    "X = X.drop(features_to_drop, axis=1)\n",
    "\n",
    "rf_train = RFTrain(X=X, \n",
    "                   y=y,\n",
    "                   smiles_filepath=smiles_filepath,\n",
    "                   is_pKa=False,\n",
    "                   k_folds=2)"
   ]
  },
  {
   "cell_type": "code",
   "execution_count": 11,
   "metadata": {},
   "outputs": [
    {
     "name": "stdout",
     "output_type": "stream",
     "text": [
      "Mean Squared Error: 0.048065878992173745\n",
      "Mean Squared Error: 0.048065878992173745\n"
     ]
    }
   ],
   "source": [
    "# best_hyperparams = rf_train.find_best_params_with_hyperopt()\n",
    "\n",
    "# best_hyperparams = space_eval(rf_train.space, best_hyperparams)\n",
    "\n",
    "best_hyperparams = {'max_depth': 10, 'max_features': 12, 'min_samples_leaf': 1, 'min_samples_split': 2, 'n_estimators': 1585}\n",
    "\n",
    "model = rf_train.train(max_depth=best_hyperparams['max_depth'], \n",
    "                       max_features=best_hyperparams['max_features'], \n",
    "                       min_samples_leaf=best_hyperparams['min_samples_leaf'], \n",
    "                       min_samples_split=best_hyperparams['min_samples_split'], \n",
    "                       n_estimators=best_hyperparams['n_estimators'])\n",
    "\n",
    "model_cv = rf_train.train(max_depth=best_hyperparams['max_depth'], \n",
    "                       max_features=best_hyperparams['max_features'], \n",
    "                       min_samples_leaf=best_hyperparams['min_samples_leaf'], \n",
    "                       min_samples_split=best_hyperparams['min_samples_split'], \n",
    "                       n_estimators=best_hyperparams['n_estimators'])\n"
   ]
  },
  {
   "cell_type": "markdown",
   "metadata": {},
   "source": [
    "SAVE RF AS JOBLIB"
   ]
  },
  {
   "cell_type": "code",
   "execution_count": 8,
   "metadata": {},
   "outputs": [
    {
     "data": {
      "text/plain": [
       "['C:\\\\work\\\\DrugDiscovery\\\\main_git\\\\XAI_Chem\\\\ml_part\\\\random_forest\\\\models\\\\17.04.24_cv_train_metrics\\\\logP_rf_all_molecules.joblib']"
      ]
     },
     "execution_count": 8,
     "metadata": {},
     "output_type": "execute_result"
    }
   ],
   "source": [
    "import joblib\n",
    "\n",
    "save_path_for_rf = r'C:\\work\\DrugDiscovery\\main_git\\XAI_Chem\\ml_part\\random_forest\\models\\17.04.24_cv_train_metrics\\logP_rf_all_molecules.joblib'\n",
    "\n",
    "joblib.dump(model, save_path_for_rf)"
   ]
  },
  {
   "cell_type": "markdown",
   "metadata": {},
   "source": [
    "TRAIN:"
   ]
  },
  {
   "cell_type": "code",
   "execution_count": 12,
   "metadata": {},
   "outputs": [
    {
     "data": {
      "text/plain": [
       "{'mse': 0.01, 'mae': 0.073, 'r_score': 0.969}"
      ]
     },
     "execution_count": 12,
     "metadata": {},
     "output_type": "execute_result"
    }
   ],
   "source": [
    "y_train = rf_train.y_train\n",
    "X_train = rf_train.X_train\n",
    "y_pred = model.predict(X_train.drop(['fold_id'], axis=1))\n",
    "\n",
    "calculate_metrics(y_train, y_pred)"
   ]
  },
  {
   "cell_type": "markdown",
   "metadata": {},
   "source": [
    "Cross-val"
   ]
  },
  {
   "cell_type": "code",
   "execution_count": 6,
   "metadata": {},
   "outputs": [
    {
     "data": {
      "text/plain": [
       "{'mse_oos': 0.097,\n",
       " 'mae_oos': 0.238,\n",
       " 'r^2_oos': 0.6975,\n",
       " 'mse_train': 0.0125,\n",
       " 'mae_train': 0.08399999999999999,\n",
       " 'r^2_train': 0.9604999999999999}"
      ]
     },
     "execution_count": 6,
     "metadata": {},
     "output_type": "execute_result"
    }
   ],
   "source": [
    "RFTrain.calculate_crossval_metrics(model_cv, rf_train.X_train, rf_train.y_train)"
   ]
  },
  {
   "cell_type": "markdown",
   "metadata": {},
   "source": [
    "OOS:"
   ]
  },
  {
   "cell_type": "code",
   "execution_count": 7,
   "metadata": {},
   "outputs": [
    {
     "data": {
      "text/plain": [
       "{'mse': 0.048, 'mae': 0.192, 'r_score': 0.819}"
      ]
     },
     "execution_count": 7,
     "metadata": {},
     "output_type": "execute_result"
    }
   ],
   "source": [
    "y_test = rf_train.y_test\n",
    "X_test = rf_train.X_test\n",
    "y_pred = model.predict(X_test)\n",
    "\n",
    "calculate_metrics(y_test, y_pred)"
   ]
  }
 ],
 "metadata": {
  "kernelspec": {
   "display_name": "drug-discovery-venv",
   "language": "python",
   "name": "python3"
  },
  "language_info": {
   "codemirror_mode": {
    "name": "ipython",
    "version": 3
   },
   "file_extension": ".py",
   "mimetype": "text/x-python",
   "name": "python",
   "nbconvert_exporter": "python",
   "pygments_lexer": "ipython3",
   "version": "3.11.9"
  }
 },
 "nbformat": 4,
 "nbformat_minor": 2
}
