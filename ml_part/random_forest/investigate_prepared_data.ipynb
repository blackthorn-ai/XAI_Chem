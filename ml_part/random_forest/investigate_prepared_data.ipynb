{
 "cells": [
  {
   "cell_type": "code",
   "execution_count": 2,
   "metadata": {},
   "outputs": [
    {
     "name": "stdout",
     "output_type": "stream",
     "text": [
      "True\n",
      "['dipole_moment', 'FPSA3', 'nHRing', 'avg_atoms_in_cycle', 'angle_X1X2R2', 'PNSA5', 'nN', 'angle_R2X2R1', 'nF', 'nFRing', 'tpsa+f', 'f_freedom', 'f_atom_fraction', 'mol_num_cycles', 'nO', 'nFAHRing', 'angle_R1X1R2', 'distance_between_atoms_in_f_group_centers', 'nC', 'PBF', 'nAHRing', 'mol_volume', 'nFaRing', 'f_to_fg', 'GeomShapeIndex', 'cis/trans', 'PPSA5', 'nFHRing', 'angle_X2X1R1', 'nFaHRing', 'RPCS', 'naRing', 'nFARing', 'dihedral_angle', 'naHRing', 'chirality', 'nARing', 'TASA', 'pKa', 'logP']\n",
      "dipole_moment [1, 4, 10, 11, 12, 13, 21, 24, 26, 27, 28, 33, 38, 41, 46, 47, 48, 49, 50, 51, 52, 56, 73, 88, 107, 117, 128, 129, 139, 140, 141, 142, 150, 154, 157, 159, 160, 165, 166, 168, 177, 178, 179, 181]\n",
      "FPSA3 [40]\n",
      "PNSA5 [37, 38]\n",
      "f_atom_fraction [124]\n",
      "distance_between_atoms_in_f_group_centers [35]\n",
      "PBF [40, 71, 127]\n",
      "mol_volume [127]\n",
      "logP [82, 83]\n",
      "Remains rows:81, amount of features: 40\n"
     ]
    }
   ],
   "source": [
    "import pandas as pd\n",
    "import os\n",
    "import sys\n",
    "sys.path.insert(0, r'C:\\work\\DrugDiscovery\\main_git\\XAI_Chem')\n",
    "\n",
    "from ml_part.random_forest.data_prep.preparation import DataPreparation\n",
    "from ml_part.random_forest.train import RFTrain\n",
    "\n",
    "from sklearn.model_selection import train_test_split\n",
    "from sklearn.ensemble import RandomForestRegressor\n",
    "from sklearn.metrics import mean_squared_error\n",
    "\n",
    "from hyperopt import space_eval\n",
    "\n",
    "CSV_PATH = r'C:\\work\\DrugDiscovery\\main_git\\XAI_Chem\\data\\updated_features\\remained_features_25.01.csv'\n",
    "smiles_filepath = r'C:\\work\\DrugDiscovery\\main_git\\XAI_Chem\\data\\updated_features\\smiles_to_index.pkl'\n",
    "\n",
    "dataPreparation = DataPreparation(CSV_PATH)\n",
    "\n",
    "X, y = dataPreparation.prepare_data_for_RF(is_pKa=False,\n",
    "                                           use_mandatory_features=True,\n",
    "                                           is_remove_outliers=True,\n",
    "                                           is_remove_nan=True)"
   ]
  }
 ],
 "metadata": {
  "kernelspec": {
   "display_name": "drug-discovery-venv",
   "language": "python",
   "name": "python3"
  },
  "language_info": {
   "codemirror_mode": {
    "name": "ipython",
    "version": 3
   },
   "file_extension": ".py",
   "mimetype": "text/x-python",
   "name": "python",
   "nbconvert_exporter": "python",
   "pygments_lexer": "ipython3",
   "version": "3.11.7"
  }
 },
 "nbformat": 4,
 "nbformat_minor": 2
}
