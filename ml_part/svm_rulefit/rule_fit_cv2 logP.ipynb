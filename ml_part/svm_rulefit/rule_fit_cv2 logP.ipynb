{
 "cells": [
  {
   "cell_type": "markdown",
   "metadata": {},
   "source": [
    "pKa rules only"
   ]
  },
  {
   "cell_type": "markdown",
   "metadata": {},
   "source": [
    "support = fraction of the dataset to which rule applies\n",
    "\n",
    "\n",
    "coefficient = linear coefficient for the rule"
   ]
  },
  {
   "cell_type": "code",
   "execution_count": 14,
   "metadata": {},
   "outputs": [
    {
     "name": "stdout",
     "output_type": "stream",
     "text": [
      "=========logP=========\n",
      "R^2 = 0.91\n",
      "MAE =  0.121\n",
      "MSE =  0.024\n",
      "=========logP=========\n",
      "R^2 = 0.877\n",
      "MAE =  0.151\n",
      "MSE =  0.039\n"
     ]
    }
   ],
   "source": [
    "from sklearn.linear_model import ElasticNetCV\n",
    "from sklearn.metrics import r2_score\n",
    "import pandas as pd\n",
    "from sklearn.metrics import mean_absolute_error as mae\n",
    "from sklearn.metrics import mean_squared_error as mse\n",
    "\n",
    "train = pd.read_csv(r'C:\\work\\DrugDiscovery\\main_git\\XAI_Chem\\data\\pKA_logP_minmaxscaler\\logP\\train_logp_minmax.csv', index_col=0)\n",
    "y = train['logP']\n",
    "X=train.drop(['logP', 'fold_id'], axis=1)\n",
    "\n",
    "regr = ElasticNetCV(cv=2, random_state=0, max_iter=20000)\n",
    "regr.fit(X, y)\n",
    "test = pd.read_csv(r'C:\\work\\DrugDiscovery\\main_git\\XAI_Chem\\data\\pKA_logP_minmaxscaler\\logP\\test_logp_minmax.csv', index_col=0)\n",
    "\n",
    "def metrics(test, feature):\n",
    "    y_pred = regr.predict(test.drop([feature], axis=1))\n",
    "    r2 = r2_score(y_pred=y_pred, y_true = test[feature])\n",
    "    print(f'=========%s========='%(feature))\n",
    "    print('R^2 = '+str(round(r2, 3)))\n",
    "    print('MAE = ', round(mae(y_true = test[feature], y_pred=y_pred), 3))\n",
    "    print('MSE = ', round(mse(y_true = test[feature], y_pred=y_pred), 3))\n",
    "metrics(test, 'logP')\n",
    "regr.score(X, y)\n",
    "metrics(train.drop('fold_id', axis=1), 'logP')"
   ]
  },
  {
   "cell_type": "code",
   "execution_count": 15,
   "metadata": {},
   "outputs": [
    {
     "name": "stdout",
     "output_type": "stream",
     "text": [
      "=========logP=========\n",
      "R^2 = 0.827\n",
      "MAE =  0.176\n",
      "MSE =  0.046\n",
      "=========logP=========\n",
      "R^2 = 0.838\n",
      "MAE =  0.161\n",
      "MSE =  0.051\n"
     ]
    }
   ],
   "source": [
    "import numpy as np\n",
    "from sklearn.model_selection import cross_validate\n",
    "from sklearn import datasets\n",
    "from sklearn import svm\n",
    "\n",
    "# train = pd.read_csv('train_logP_v2.csv')\n",
    "y = train['logP']\n",
    "X=train.drop(['logP', 'fold_id'], axis=1)\n",
    "regr = svm.SVR(kernel='rbf')\n",
    "scores = cross_validate(regr, X, y, cv=2, groups=train['fold_id'], scoring='r2', return_train_score=True, return_estimator=True)\n",
    "\n",
    "#metrics(test, 'logP')\n",
    "regr = scores['estimator'][1]\n",
    "metrics(test, 'logP')\n",
    "metrics(train.drop('fold_id', axis=1), 'logP')"
   ]
  },
  {
   "cell_type": "code",
   "execution_count": 17,
   "metadata": {},
   "outputs": [
    {
     "name": "stdout",
     "output_type": "stream",
     "text": [
      "=========logP=========\n",
      "R^2 = 0.922\n",
      "MAE =  0.122\n",
      "MSE =  0.021\n",
      "=========logP=========\n",
      "R^2 = 0.931\n",
      "MAE =  0.11\n",
      "MSE =  0.022\n"
     ]
    }
   ],
   "source": [
    "from sklearn.linear_model import ElasticNetCV\n",
    "from sklearn.metrics import r2_score\n",
    "import pandas as pd\n",
    "from sklearn import svm\n",
    "\n",
    "# train = pd.read_csv('train_logP_v2.csv')\n",
    "y = train['logP']\n",
    "X=train.drop(['logP', 'fold_id'], axis=1)\n",
    "\n",
    "regr = svm.SVR(kernel ='rbf')\n",
    "regr.fit(X, y)\n",
    "# test = pd.read_csv('test_logP_v2.csv')\n",
    "y_pred = regr.predict(test.drop(['logP'], axis=1))\n",
    "def metrics(test, feature):\n",
    "    y_pred = regr.predict(test.drop([feature], axis=1))\n",
    "    r2 = r2_score(y_pred=y_pred, y_true = test[feature])\n",
    "    print(f'=========%s========='%(feature))\n",
    "    print('R^2 = '+str(round(r2, 3)))\n",
    "    print('MAE = ', round(mae(y_true = test[feature], y_pred=y_pred), 3))\n",
    "    print('MSE = ', round(mse(y_true = test[feature], y_pred=y_pred), 3))\n",
    "metrics(test, 'logP')\n",
    "regr.score(X, y)\n",
    "metrics(train.drop('fold_id', axis=1), 'logP')"
   ]
  },
  {
   "cell_type": "code",
   "execution_count": 147,
   "metadata": {},
   "outputs": [
    {
     "name": "stdout",
     "output_type": "stream",
     "text": [
      "0.1993597410820284\n",
      "13.435594599535023\n",
      "=========pKa=========\n",
      "R^2 = 0.863\n",
      "MAE =  0.727\n",
      "MSE =  0.862\n",
      "=========pKa=========\n",
      "R^2 = 0.902\n",
      "MAE =  0.656\n",
      "MSE =  0.661\n"
     ]
    },
    {
     "name": "stderr",
     "output_type": "stream",
     "text": [
      "/home/redman/mambaforge/lib/python3.10/site-packages/sklearn/preprocessing/_discretization.py:248: FutureWarning: In version 1.5 onwards, subsample=200_000 will be used by default. Set subsample explicitly to silence this warning in the mean time. Set subsample=None to disable subsampling explicitly.\n",
      "  warnings.warn(\n"
     ]
    }
   ],
   "source": [
    "from sklearn.linear_model import ElasticNetCV\n",
    "from sklearn.metrics import r2_score\n",
    "import pandas as pd\n",
    "from sklearn.model_selection import train_test_split\n",
    "from sklearn.preprocessing import KBinsDiscretizer\n",
    "\n",
    "all = pd.read_csv('pKa_X_y.csv').dropna(axis=1)\n",
    "y = all['pKa']\n",
    "y_discretized = KBinsDiscretizer(n_bins=10,\n",
    "                                 encode='ordinal',\n",
    "                                 strategy='uniform').fit_transform(y.values.reshape(-1, 1))\n",
    "train, test = train_test_split(all, stratify=y_discretized)\n",
    "y = train['pKa']\n",
    "X=train.drop(['pKa'], axis=1)\n",
    "\n",
    "regr = ElasticNetCV(cv=2, random_state=0, max_iter=20000)\n",
    "regr.fit(X, y)\n",
    "#test = pd.read_csv('test_logP_v2.csv')\n",
    "print(regr.alpha_)\n",
    "print(regr.intercept_)\n",
    "#print(regr.predict([[0, 0]]))\n",
    "y_pred = regr.predict(test.drop(['pKa'], axis=1))\n",
    "metrics(test, 'pKa')\n",
    "regr.score(X, y)\n",
    "metrics(train, 'pKa')"
   ]
  },
  {
   "cell_type": "code",
   "execution_count": 49,
   "metadata": {},
   "outputs": [
    {
     "name": "stdout",
     "output_type": "stream",
     "text": [
      "0.843201801869303\n"
     ]
    }
   ],
   "source": [
    "y_pred = regr.predict(X)\n",
    "r2 = r2_score(y_pred=y_pred, y_true = y)\n",
    "print(r2)"
   ]
  },
  {
   "cell_type": "code",
   "execution_count": null,
   "metadata": {},
   "outputs": [],
   "source": [
    "def cross_val_train(df):\n",
    "    y = all['pKa']\n",
    "    y_discretized = KBinsDiscretizer(n_bins=10,\n",
    "                                 encode='ordinal',\n",
    "                                 strategy='uniform').fit_transform(y.values.reshape(-1, 1))\n",
    "    train, test = train_test_split(df, stratify=y_discretized)\n",
    "    y = train['pKa']\n",
    "    X=train.drop(['pKa'], axis=1)\n",
    "\n",
    "    regr = svm.SVR(kernel='rbf')\n",
    "    regr.fit(X, y)\n",
    "    y_pred = regr.predict(test.drop(['pKa'], axis=1))\n",
    "    r2 = r2_score(y_pred=y_pred, y_true = test['pKa'])"
   ]
  },
  {
   "cell_type": "code",
   "execution_count": 148,
   "metadata": {},
   "outputs": [
    {
     "name": "stdout",
     "output_type": "stream",
     "text": [
      "0.7982615928853947\n",
      "=========pKa=========\n",
      "R^2 = 0.798\n",
      "MAE =  0.899\n",
      "MSE =  1.334\n",
      "=========pKa=========\n",
      "R^2 = 0.798\n",
      "MAE =  0.903\n",
      "MSE =  1.344\n"
     ]
    },
    {
     "name": "stderr",
     "output_type": "stream",
     "text": [
      "/home/redman/mambaforge/lib/python3.10/site-packages/sklearn/preprocessing/_discretization.py:248: FutureWarning: In version 1.5 onwards, subsample=200_000 will be used by default. Set subsample explicitly to silence this warning in the mean time. Set subsample=None to disable subsampling explicitly.\n",
      "  warnings.warn(\n"
     ]
    }
   ],
   "source": [
    "from sklearn import svm\n",
    "\n",
    "all = pd.read_csv('pKa_X_y.csv').dropna(axis=1)\n",
    "y = all['pKa']\n",
    "y_discretized = KBinsDiscretizer(n_bins=10,\n",
    "                                 encode='ordinal',\n",
    "                                 strategy='uniform').fit_transform(y.values.reshape(-1, 1))\n",
    "train, test = train_test_split(all, stratify=y_discretized)\n",
    "y = train['pKa']\n",
    "X=train.drop(['pKa'], axis=1)\n",
    "\n",
    "regr = svm.SVR(kernel='rbf')\n",
    "regr.fit(X, y)\n",
    "y_pred = regr.predict(test.drop(['pKa'], axis=1))\n",
    "r2 = r2_score(y_pred=y_pred, y_true = test['pKa'])\n",
    "print(r2)\n",
    "metrics(test, 'pKa')\n",
    "regr.score(X, y)\n",
    "metrics(train, 'pKa')"
   ]
  },
  {
   "cell_type": "code",
   "execution_count": 51,
   "metadata": {},
   "outputs": [
    {
     "name": "stdout",
     "output_type": "stream",
     "text": [
      "0.8055916511961834\n"
     ]
    }
   ],
   "source": [
    "y_pred = regr.predict(X)\n",
    "r2 = r2_score(y_pred=y_pred, y_true = y)\n",
    "print(r2)"
   ]
  },
  {
   "cell_type": "code",
   "execution_count": 66,
   "metadata": {},
   "outputs": [
    {
     "name": "stdout",
     "output_type": "stream",
     "text": [
      "178\n"
     ]
    },
    {
     "name": "stderr",
     "output_type": "stream",
     "text": [
      "/home/redman/mambaforge/lib/python3.10/site-packages/sklearn/preprocessing/_discretization.py:248: FutureWarning: In version 1.5 onwards, subsample=200_000 will be used by default. Set subsample explicitly to silence this warning in the mean time. Set subsample=None to disable subsampling explicitly.\n",
      "  warnings.warn(\n"
     ]
    },
    {
     "ename": "ValueError",
     "evalue": "The least populated class in y has only 1 member, which is too few. The minimum number of groups for any class cannot be less than 2.",
     "output_type": "error",
     "traceback": [
      "\u001b[0;31m---------------------------------------------------------------------------\u001b[0m",
      "\u001b[0;31mValueError\u001b[0m                                Traceback (most recent call last)",
      "Cell \u001b[0;32mIn[66], line 9\u001b[0m\n\u001b[1;32m      5\u001b[0m \u001b[38;5;28mprint\u001b[39m(\u001b[38;5;28mlen\u001b[39m(y\u001b[38;5;241m.\u001b[39mvalues\u001b[38;5;241m.\u001b[39mreshape(\u001b[38;5;241m-\u001b[39m\u001b[38;5;241m1\u001b[39m, \u001b[38;5;241m1\u001b[39m)))\n\u001b[1;32m      6\u001b[0m y_discretized \u001b[38;5;241m=\u001b[39m KBinsDiscretizer(n_bins\u001b[38;5;241m=\u001b[39m\u001b[38;5;241m102\u001b[39m,\n\u001b[1;32m      7\u001b[0m                                  encode\u001b[38;5;241m=\u001b[39m\u001b[38;5;124m'\u001b[39m\u001b[38;5;124mordinal\u001b[39m\u001b[38;5;124m'\u001b[39m,\n\u001b[1;32m      8\u001b[0m                                  strategy\u001b[38;5;241m=\u001b[39m\u001b[38;5;124m'\u001b[39m\u001b[38;5;124muniform\u001b[39m\u001b[38;5;124m'\u001b[39m)\u001b[38;5;241m.\u001b[39mfit_transform(y\u001b[38;5;241m.\u001b[39mvalues\u001b[38;5;241m.\u001b[39mreshape(\u001b[38;5;241m-\u001b[39m\u001b[38;5;241m1\u001b[39m, \u001b[38;5;241m1\u001b[39m))\n\u001b[0;32m----> 9\u001b[0m train, test \u001b[38;5;241m=\u001b[39m \u001b[43mtrain_test_split\u001b[49m\u001b[43m(\u001b[49m\u001b[38;5;28;43mall\u001b[39;49m\u001b[43m,\u001b[49m\u001b[43m \u001b[49m\u001b[43mstratify\u001b[49m\u001b[38;5;241;43m=\u001b[39;49m\u001b[43my_discretized\u001b[49m\u001b[43m)\u001b[49m\n\u001b[1;32m     10\u001b[0m y \u001b[38;5;241m=\u001b[39m train[\u001b[38;5;124m'\u001b[39m\u001b[38;5;124mlogP\u001b[39m\u001b[38;5;124m'\u001b[39m]\n\u001b[1;32m     11\u001b[0m X\u001b[38;5;241m=\u001b[39mtrain\u001b[38;5;241m.\u001b[39mdrop([\u001b[38;5;124m'\u001b[39m\u001b[38;5;124mlogP\u001b[39m\u001b[38;5;124m'\u001b[39m, \u001b[38;5;124m'\u001b[39m\u001b[38;5;124mfold_id\u001b[39m\u001b[38;5;124m'\u001b[39m], axis\u001b[38;5;241m=\u001b[39m\u001b[38;5;241m1\u001b[39m)\n",
      "File \u001b[0;32m~/mambaforge/lib/python3.10/site-packages/sklearn/utils/_param_validation.py:211\u001b[0m, in \u001b[0;36mvalidate_params.<locals>.decorator.<locals>.wrapper\u001b[0;34m(*args, **kwargs)\u001b[0m\n\u001b[1;32m    205\u001b[0m \u001b[38;5;28;01mtry\u001b[39;00m:\n\u001b[1;32m    206\u001b[0m     \u001b[38;5;28;01mwith\u001b[39;00m config_context(\n\u001b[1;32m    207\u001b[0m         skip_parameter_validation\u001b[38;5;241m=\u001b[39m(\n\u001b[1;32m    208\u001b[0m             prefer_skip_nested_validation \u001b[38;5;129;01mor\u001b[39;00m global_skip_validation\n\u001b[1;32m    209\u001b[0m         )\n\u001b[1;32m    210\u001b[0m     ):\n\u001b[0;32m--> 211\u001b[0m         \u001b[38;5;28;01mreturn\u001b[39;00m \u001b[43mfunc\u001b[49m\u001b[43m(\u001b[49m\u001b[38;5;241;43m*\u001b[39;49m\u001b[43margs\u001b[49m\u001b[43m,\u001b[49m\u001b[43m \u001b[49m\u001b[38;5;241;43m*\u001b[39;49m\u001b[38;5;241;43m*\u001b[39;49m\u001b[43mkwargs\u001b[49m\u001b[43m)\u001b[49m\n\u001b[1;32m    212\u001b[0m \u001b[38;5;28;01mexcept\u001b[39;00m InvalidParameterError \u001b[38;5;28;01mas\u001b[39;00m e:\n\u001b[1;32m    213\u001b[0m     \u001b[38;5;66;03m# When the function is just a wrapper around an estimator, we allow\u001b[39;00m\n\u001b[1;32m    214\u001b[0m     \u001b[38;5;66;03m# the function to delegate validation to the estimator, but we replace\u001b[39;00m\n\u001b[1;32m    215\u001b[0m     \u001b[38;5;66;03m# the name of the estimator by the name of the function in the error\u001b[39;00m\n\u001b[1;32m    216\u001b[0m     \u001b[38;5;66;03m# message to avoid confusion.\u001b[39;00m\n\u001b[1;32m    217\u001b[0m     msg \u001b[38;5;241m=\u001b[39m re\u001b[38;5;241m.\u001b[39msub(\n\u001b[1;32m    218\u001b[0m         \u001b[38;5;124mr\u001b[39m\u001b[38;5;124m\"\u001b[39m\u001b[38;5;124mparameter of \u001b[39m\u001b[38;5;124m\\\u001b[39m\u001b[38;5;124mw+ must be\u001b[39m\u001b[38;5;124m\"\u001b[39m,\n\u001b[1;32m    219\u001b[0m         \u001b[38;5;124mf\u001b[39m\u001b[38;5;124m\"\u001b[39m\u001b[38;5;124mparameter of \u001b[39m\u001b[38;5;132;01m{\u001b[39;00mfunc\u001b[38;5;241m.\u001b[39m\u001b[38;5;18m__qualname__\u001b[39m\u001b[38;5;132;01m}\u001b[39;00m\u001b[38;5;124m must be\u001b[39m\u001b[38;5;124m\"\u001b[39m,\n\u001b[1;32m    220\u001b[0m         \u001b[38;5;28mstr\u001b[39m(e),\n\u001b[1;32m    221\u001b[0m     )\n",
      "File \u001b[0;32m~/mambaforge/lib/python3.10/site-packages/sklearn/model_selection/_split.py:2670\u001b[0m, in \u001b[0;36mtrain_test_split\u001b[0;34m(test_size, train_size, random_state, shuffle, stratify, *arrays)\u001b[0m\n\u001b[1;32m   2666\u001b[0m         CVClass \u001b[38;5;241m=\u001b[39m ShuffleSplit\n\u001b[1;32m   2668\u001b[0m     cv \u001b[38;5;241m=\u001b[39m CVClass(test_size\u001b[38;5;241m=\u001b[39mn_test, train_size\u001b[38;5;241m=\u001b[39mn_train, random_state\u001b[38;5;241m=\u001b[39mrandom_state)\n\u001b[0;32m-> 2670\u001b[0m     train, test \u001b[38;5;241m=\u001b[39m \u001b[38;5;28;43mnext\u001b[39;49m\u001b[43m(\u001b[49m\u001b[43mcv\u001b[49m\u001b[38;5;241;43m.\u001b[39;49m\u001b[43msplit\u001b[49m\u001b[43m(\u001b[49m\u001b[43mX\u001b[49m\u001b[38;5;241;43m=\u001b[39;49m\u001b[43marrays\u001b[49m\u001b[43m[\u001b[49m\u001b[38;5;241;43m0\u001b[39;49m\u001b[43m]\u001b[49m\u001b[43m,\u001b[49m\u001b[43m \u001b[49m\u001b[43my\u001b[49m\u001b[38;5;241;43m=\u001b[39;49m\u001b[43mstratify\u001b[49m\u001b[43m)\u001b[49m\u001b[43m)\u001b[49m\n\u001b[1;32m   2672\u001b[0m \u001b[38;5;28;01mreturn\u001b[39;00m \u001b[38;5;28mlist\u001b[39m(\n\u001b[1;32m   2673\u001b[0m     chain\u001b[38;5;241m.\u001b[39mfrom_iterable(\n\u001b[1;32m   2674\u001b[0m         (_safe_indexing(a, train), _safe_indexing(a, test)) \u001b[38;5;28;01mfor\u001b[39;00m a \u001b[38;5;129;01min\u001b[39;00m arrays\n\u001b[1;32m   2675\u001b[0m     )\n\u001b[1;32m   2676\u001b[0m )\n",
      "File \u001b[0;32m~/mambaforge/lib/python3.10/site-packages/sklearn/model_selection/_split.py:1746\u001b[0m, in \u001b[0;36mBaseShuffleSplit.split\u001b[0;34m(self, X, y, groups)\u001b[0m\n\u001b[1;32m   1716\u001b[0m \u001b[38;5;250m\u001b[39m\u001b[38;5;124;03m\"\"\"Generate indices to split data into training and test set.\u001b[39;00m\n\u001b[1;32m   1717\u001b[0m \n\u001b[1;32m   1718\u001b[0m \u001b[38;5;124;03mParameters\u001b[39;00m\n\u001b[0;32m   (...)\u001b[0m\n\u001b[1;32m   1743\u001b[0m \u001b[38;5;124;03mto an integer.\u001b[39;00m\n\u001b[1;32m   1744\u001b[0m \u001b[38;5;124;03m\"\"\"\u001b[39;00m\n\u001b[1;32m   1745\u001b[0m X, y, groups \u001b[38;5;241m=\u001b[39m indexable(X, y, groups)\n\u001b[0;32m-> 1746\u001b[0m \u001b[38;5;28;01mfor\u001b[39;00m train, test \u001b[38;5;129;01min\u001b[39;00m \u001b[38;5;28mself\u001b[39m\u001b[38;5;241m.\u001b[39m_iter_indices(X, y, groups):\n\u001b[1;32m   1747\u001b[0m     \u001b[38;5;28;01myield\u001b[39;00m train, test\n",
      "File \u001b[0;32m~/mambaforge/lib/python3.10/site-packages/sklearn/model_selection/_split.py:2147\u001b[0m, in \u001b[0;36mStratifiedShuffleSplit._iter_indices\u001b[0;34m(self, X, y, groups)\u001b[0m\n\u001b[1;32m   2145\u001b[0m class_counts \u001b[38;5;241m=\u001b[39m np\u001b[38;5;241m.\u001b[39mbincount(y_indices)\n\u001b[1;32m   2146\u001b[0m \u001b[38;5;28;01mif\u001b[39;00m np\u001b[38;5;241m.\u001b[39mmin(class_counts) \u001b[38;5;241m<\u001b[39m \u001b[38;5;241m2\u001b[39m:\n\u001b[0;32m-> 2147\u001b[0m     \u001b[38;5;28;01mraise\u001b[39;00m \u001b[38;5;167;01mValueError\u001b[39;00m(\n\u001b[1;32m   2148\u001b[0m         \u001b[38;5;124m\"\u001b[39m\u001b[38;5;124mThe least populated class in y has only 1\u001b[39m\u001b[38;5;124m\"\u001b[39m\n\u001b[1;32m   2149\u001b[0m         \u001b[38;5;124m\"\u001b[39m\u001b[38;5;124m member, which is too few. The minimum\u001b[39m\u001b[38;5;124m\"\u001b[39m\n\u001b[1;32m   2150\u001b[0m         \u001b[38;5;124m\"\u001b[39m\u001b[38;5;124m number of groups for any class cannot\u001b[39m\u001b[38;5;124m\"\u001b[39m\n\u001b[1;32m   2151\u001b[0m         \u001b[38;5;124m\"\u001b[39m\u001b[38;5;124m be less than 2.\u001b[39m\u001b[38;5;124m\"\u001b[39m\n\u001b[1;32m   2152\u001b[0m     )\n\u001b[1;32m   2154\u001b[0m \u001b[38;5;28;01mif\u001b[39;00m n_train \u001b[38;5;241m<\u001b[39m n_classes:\n\u001b[1;32m   2155\u001b[0m     \u001b[38;5;28;01mraise\u001b[39;00m \u001b[38;5;167;01mValueError\u001b[39;00m(\n\u001b[1;32m   2156\u001b[0m         \u001b[38;5;124m\"\u001b[39m\u001b[38;5;124mThe train_size = \u001b[39m\u001b[38;5;132;01m%d\u001b[39;00m\u001b[38;5;124m should be greater or \u001b[39m\u001b[38;5;124m\"\u001b[39m\n\u001b[1;32m   2157\u001b[0m         \u001b[38;5;124m\"\u001b[39m\u001b[38;5;124mequal to the number of classes = \u001b[39m\u001b[38;5;132;01m%d\u001b[39;00m\u001b[38;5;124m\"\u001b[39m \u001b[38;5;241m%\u001b[39m (n_train, n_classes)\n\u001b[1;32m   2158\u001b[0m     )\n",
      "\u001b[0;31mValueError\u001b[0m: The least populated class in y has only 1 member, which is too few. The minimum number of groups for any class cannot be less than 2."
     ]
    }
   ],
   "source": [
    "from sklearn import svm\n",
    "\n",
    "all = pd.read_csv('logP_X_y.csv').dropna(axis=1)\n",
    "y = all['logP']\n",
    "print(len(y.values.reshape(-1, 1)))\n",
    "y_discretized = KBinsDiscretizer(n_bins=102,\n",
    "                                 encode='ordinal',\n",
    "                                 strategy='uniform').fit_transform(y.values.reshape(-1, 1))\n",
    "train, test = train_test_split(all, stratify=y_discretized)\n",
    "y = train['logP']\n",
    "X=train.drop(['logP', 'fold_id'], axis=1)\n",
    "\n",
    "regr = svm.SVR(kernel='rbf')\n",
    "regr.fit(X, y)\n",
    "y_pred = regr.predict(test.drop(['logP', 'fold_id'], axis=1))\n",
    "r2 = r2_score(y_pred=y_pred, y_true = test['logP'])\n",
    "print(r2)"
   ]
  },
  {
   "cell_type": "code",
   "execution_count": null,
   "metadata": {},
   "outputs": [],
   "source": [
    "from sklearn.linear_model import ElasticNetCV\n",
    "from sklearn.metrics import r2_score\n",
    "import pandas as pd\n",
    "\n",
    "train = pd.read_csv('train_logP_v2.csv')\n",
    "y = train['logP']\n",
    "X=train.drop(['logP', 'fold_id'], axis=1)\n",
    "\n",
    "regr = ElasticNetCV(cv=2, random_state=0, max_iter=10000)\n",
    "regr.fit(X, y)\n",
    "test = pd.read_csv('test_logP_v2.csv')\n",
    "print(regr.alpha_)\n",
    "print(regr.intercept_)\n",
    "#print(regr.predict([[0, 0]]))\n",
    "y_pred = regr.predict(test.drop(['logP'], axis=1))\n",
    "r2 = r2_score(y_pred=y_pred, y_true = test['logP'])\n",
    "print(r2)"
   ]
  },
  {
   "cell_type": "code",
   "execution_count": 10,
   "metadata": {},
   "outputs": [
    {
     "data": {
      "text/plain": [
       "0      2.88\n",
       "1      2.87\n",
       "2      2.92\n",
       "3      2.37\n",
       "4      2.88\n",
       "       ... \n",
       "147    1.36\n",
       "148    1.83\n",
       "149    1.64\n",
       "150    2.08\n",
       "151    2.04\n",
       "Name: logP, Length: 152, dtype: float64"
      ]
     },
     "execution_count": 10,
     "metadata": {},
     "output_type": "execute_result"
    }
   ],
   "source": [
    "train = pd.read_csv('train_logP_v2.csv')\n",
    "train['logP']"
   ]
  },
  {
   "cell_type": "code",
   "execution_count": 3,
   "metadata": {},
   "outputs": [
    {
     "name": "stdout",
     "output_type": "stream",
     "text": [
      "Checking whether there is an H2O instance running at http://localhost:54321. connected.\n"
     ]
    },
    {
     "data": {
      "text/html": [
       "\n",
       "<style>\n",
       "\n",
       "#h2o-table-1.h2o-container {\n",
       "  overflow-x: auto;\n",
       "}\n",
       "#h2o-table-1 .h2o-table {\n",
       "  /* width: 100%; */\n",
       "  margin-top: 1em;\n",
       "  margin-bottom: 1em;\n",
       "}\n",
       "#h2o-table-1 .h2o-table caption {\n",
       "  white-space: nowrap;\n",
       "  caption-side: top;\n",
       "  text-align: left;\n",
       "  /* margin-left: 1em; */\n",
       "  margin: 0;\n",
       "  font-size: larger;\n",
       "}\n",
       "#h2o-table-1 .h2o-table thead {\n",
       "  white-space: nowrap; \n",
       "  position: sticky;\n",
       "  top: 0;\n",
       "  box-shadow: 0 -1px inset;\n",
       "}\n",
       "#h2o-table-1 .h2o-table tbody {\n",
       "  overflow: auto;\n",
       "}\n",
       "#h2o-table-1 .h2o-table th,\n",
       "#h2o-table-1 .h2o-table td {\n",
       "  text-align: right;\n",
       "  /* border: 1px solid; */\n",
       "}\n",
       "#h2o-table-1 .h2o-table tr:nth-child(even) {\n",
       "  /* background: #F5F5F5 */\n",
       "}\n",
       "\n",
       "</style>      \n",
       "<div id=\"h2o-table-1\" class=\"h2o-container\">\n",
       "  <table class=\"h2o-table\">\n",
       "    <caption></caption>\n",
       "    <thead></thead>\n",
       "    <tbody><tr><td>H2O_cluster_uptime:</td>\n",
       "<td>14 hours 36 mins</td></tr>\n",
       "<tr><td>H2O_cluster_timezone:</td>\n",
       "<td>Europe/Kiev</td></tr>\n",
       "<tr><td>H2O_data_parsing_timezone:</td>\n",
       "<td>UTC</td></tr>\n",
       "<tr><td>H2O_cluster_version:</td>\n",
       "<td>3.44.0.3</td></tr>\n",
       "<tr><td>H2O_cluster_version_age:</td>\n",
       "<td>1 month and 12 days</td></tr>\n",
       "<tr><td>H2O_cluster_name:</td>\n",
       "<td>H2O_from_python_redman_ebpqtv</td></tr>\n",
       "<tr><td>H2O_cluster_total_nodes:</td>\n",
       "<td>1</td></tr>\n",
       "<tr><td>H2O_cluster_free_memory:</td>\n",
       "<td>11.72 Gb</td></tr>\n",
       "<tr><td>H2O_cluster_total_cores:</td>\n",
       "<td>14</td></tr>\n",
       "<tr><td>H2O_cluster_allowed_cores:</td>\n",
       "<td>14</td></tr>\n",
       "<tr><td>H2O_cluster_status:</td>\n",
       "<td>locked, healthy</td></tr>\n",
       "<tr><td>H2O_connection_url:</td>\n",
       "<td>http://localhost:54321</td></tr>\n",
       "<tr><td>H2O_connection_proxy:</td>\n",
       "<td>{\"http\": null, \"https\": null}</td></tr>\n",
       "<tr><td>H2O_internal_security:</td>\n",
       "<td>False</td></tr>\n",
       "<tr><td>Python_version:</td>\n",
       "<td>3.10.8 final</td></tr></tbody>\n",
       "  </table>\n",
       "</div>\n"
      ],
      "text/plain": [
       "--------------------------  -----------------------------\n",
       "H2O_cluster_uptime:         14 hours 36 mins\n",
       "H2O_cluster_timezone:       Europe/Kiev\n",
       "H2O_data_parsing_timezone:  UTC\n",
       "H2O_cluster_version:        3.44.0.3\n",
       "H2O_cluster_version_age:    1 month and 12 days\n",
       "H2O_cluster_name:           H2O_from_python_redman_ebpqtv\n",
       "H2O_cluster_total_nodes:    1\n",
       "H2O_cluster_free_memory:    11.72 Gb\n",
       "H2O_cluster_total_cores:    14\n",
       "H2O_cluster_allowed_cores:  14\n",
       "H2O_cluster_status:         locked, healthy\n",
       "H2O_connection_url:         http://localhost:54321\n",
       "H2O_connection_proxy:       {\"http\": null, \"https\": null}\n",
       "H2O_internal_security:      False\n",
       "Python_version:             3.10.8 final\n",
       "--------------------------  -----------------------------"
      ]
     },
     "metadata": {},
     "output_type": "display_data"
    },
    {
     "name": "stdout",
     "output_type": "stream",
     "text": [
      "Parse progress: |████████████████████████████████████████████████████████████████| (done) 100%\n"
     ]
    }
   ],
   "source": [
    "import h2o\n",
    "h2o.init()\n",
    "df_pKa = h2o.import_file(path = 'pKa_X_y.csv')\n"
   ]
  },
  {
   "cell_type": "code",
   "execution_count": 11,
   "metadata": {},
   "outputs": [
    {
     "data": {
      "text/html": [
       "H2OFrame is empty."
      ],
      "text/plain": [
       "H2OFrame is empty."
      ]
     },
     "execution_count": 11,
     "metadata": {},
     "output_type": "execute_result"
    }
   ],
   "source": [
    "df_pKa[df_pKa['GeomShapeIndex'].isna()]"
   ]
  },
  {
   "cell_type": "code",
   "execution_count": 4,
   "metadata": {},
   "outputs": [
    {
     "data": {
      "image/png": "[encoded data removed]",
      "text/plain": [
       "<Figure size 640x480 with 1 Axes>"
      ]
     },
     "metadata": {},
     "output_type": "display_data"
    },
    {
     "data": {
      "text/html": [
       "<table class='dataframe'>\n",
       "<thead>\n",
       "<tr><th style=\"text-align: right;\">  breaks</th><th style=\"text-align: right;\">  counts</th><th style=\"text-align: right;\">  mids_true</th><th style=\"text-align: right;\">     mids</th><th style=\"text-align: right;\">    widths</th></tr>\n",
       "</thead>\n",
       "<tbody>\n",
       "<tr><td style=\"text-align: right;\"> 3.86111</td><td style=\"text-align: right;\">     nan</td><td style=\"text-align: right;\">    nan    </td><td style=\"text-align: right;\">nan      </td><td style=\"text-align: right;\">nan       </td></tr>\n",
       "<tr><td style=\"text-align: right;\"> 4.79222</td><td style=\"text-align: right;\">      15</td><td style=\"text-align: right;\">      1.465</td><td style=\"text-align: right;\">  4.32667</td><td style=\"text-align: right;\">  0.931111</td></tr>\n",
       "<tr><td style=\"text-align: right;\"> 5.72333</td><td style=\"text-align: right;\">      30</td><td style=\"text-align: right;\">      1.935</td><td style=\"text-align: right;\">  5.25778</td><td style=\"text-align: right;\">  0.931111</td></tr>\n",
       "<tr><td style=\"text-align: right;\"> 6.65444</td><td style=\"text-align: right;\">       6</td><td style=\"text-align: right;\">      2.415</td><td style=\"text-align: right;\">  6.18889</td><td style=\"text-align: right;\">  0.931111</td></tr>\n",
       "<tr><td style=\"text-align: right;\"> 7.58556</td><td style=\"text-align: right;\">      10</td><td style=\"text-align: right;\">      3.03 </td><td style=\"text-align: right;\">  7.12   </td><td style=\"text-align: right;\">  0.931111</td></tr>\n",
       "<tr><td style=\"text-align: right;\"> 8.51667</td><td style=\"text-align: right;\">      11</td><td style=\"text-align: right;\">      3.37 </td><td style=\"text-align: right;\">  8.05111</td><td style=\"text-align: right;\">  0.931111</td></tr>\n",
       "<tr><td style=\"text-align: right;\"> 9.44778</td><td style=\"text-align: right;\">      13</td><td style=\"text-align: right;\">      3.795</td><td style=\"text-align: right;\">  8.98222</td><td style=\"text-align: right;\">  0.931111</td></tr>\n",
       "<tr><td style=\"text-align: right;\">10.3789 </td><td style=\"text-align: right;\">      20</td><td style=\"text-align: right;\">      4.3  </td><td style=\"text-align: right;\">  9.91333</td><td style=\"text-align: right;\">  0.931111</td></tr>\n",
       "<tr><td style=\"text-align: right;\">11.31   </td><td style=\"text-align: right;\">      44</td><td style=\"text-align: right;\">      4.725</td><td style=\"text-align: right;\"> 10.8444 </td><td style=\"text-align: right;\">  0.931111</td></tr>\n",
       "</tbody>\n",
       "</table><pre style='font-size: smaller; margin-bottom: 1em;'>[9 rows x 5 columns]</pre>"
      ],
      "text/plain": [
       "  breaks    counts    mids_true       mids      widths\n",
       "--------  --------  -----------  ---------  ----------\n",
       " 3.86111       nan      nan      nan        nan\n",
       " 4.79222        15        1.465    4.32667    0.931111\n",
       " 5.72333        30        1.935    5.25778    0.931111\n",
       " 6.65444         6        2.415    6.18889    0.931111\n",
       " 7.58556        10        3.03     7.12       0.931111\n",
       " 8.51667        11        3.37     8.05111    0.931111\n",
       " 9.44778        13        3.795    8.98222    0.931111\n",
       "10.3789         20        4.3      9.91333    0.931111\n",
       "11.31           44        4.725   10.8444     0.931111\n",
       "[9 rows x 5 columns]\n"
      ]
     },
     "execution_count": 4,
     "metadata": {},
     "output_type": "execute_result"
    }
   ],
   "source": [
    "train['pKa'].hist()"
   ]
  },
  {
   "cell_type": "code",
   "execution_count": 5,
   "metadata": {},
   "outputs": [
    {
     "data": {
      "image/png": "[encoded data removed]",
      "text/plain": [
       "<Figure size 640x480 with 1 Axes>"
      ]
     },
     "metadata": {},
     "output_type": "display_data"
    },
    {
     "data": {
      "text/html": [
       "<table class='dataframe'>\n",
       "<thead>\n",
       "<tr><th style=\"text-align: right;\">  breaks</th><th style=\"text-align: right;\">  counts</th><th style=\"text-align: right;\">  mids_true</th><th style=\"text-align: right;\">     mids</th><th style=\"text-align: right;\">   widths</th></tr>\n",
       "</thead>\n",
       "<tbody>\n",
       "<tr><td style=\"text-align: right;\"> 4.28167</td><td style=\"text-align: right;\">     nan</td><td style=\"text-align: right;\">    nan    </td><td style=\"text-align: right;\">nan      </td><td style=\"text-align: right;\">nan      </td></tr>\n",
       "<tr><td style=\"text-align: right;\"> 5.68333</td><td style=\"text-align: right;\">       4</td><td style=\"text-align: right;\">      1.44 </td><td style=\"text-align: right;\">  4.9825 </td><td style=\"text-align: right;\">  1.40167</td></tr>\n",
       "<tr><td style=\"text-align: right;\"> 7.085  </td><td style=\"text-align: right;\">       2</td><td style=\"text-align: right;\">      2.175</td><td style=\"text-align: right;\">  6.38417</td><td style=\"text-align: right;\">  1.40167</td></tr>\n",
       "<tr><td style=\"text-align: right;\"> 8.48667</td><td style=\"text-align: right;\">       5</td><td style=\"text-align: right;\">      2.92 </td><td style=\"text-align: right;\">  7.78583</td><td style=\"text-align: right;\">  1.40167</td></tr>\n",
       "<tr><td style=\"text-align: right;\"> 9.88833</td><td style=\"text-align: right;\">       3</td><td style=\"text-align: right;\">      3.59 </td><td style=\"text-align: right;\">  9.1875 </td><td style=\"text-align: right;\">  1.40167</td></tr>\n",
       "<tr><td style=\"text-align: right;\">11.29   </td><td style=\"text-align: right;\">      15</td><td style=\"text-align: right;\">      4.275</td><td style=\"text-align: right;\"> 10.5892 </td><td style=\"text-align: right;\">  1.40167</td></tr>\n",
       "</tbody>\n",
       "</table><pre style='font-size: smaller; margin-bottom: 1em;'>[6 rows x 5 columns]</pre>"
      ],
      "text/plain": [
       "  breaks    counts    mids_true       mids     widths\n",
       "--------  --------  -----------  ---------  ---------\n",
       " 4.28167       nan      nan      nan        nan\n",
       " 5.68333         4        1.44     4.9825     1.40167\n",
       " 7.085           2        2.175    6.38417    1.40167\n",
       " 8.48667         5        2.92     7.78583    1.40167\n",
       " 9.88833         3        3.59     9.1875     1.40167\n",
       "11.29           15        4.275   10.5892     1.40167\n",
       "[6 rows x 5 columns]\n"
      ]
     },
     "execution_count": 5,
     "metadata": {},
     "output_type": "execute_result"
    }
   ],
   "source": [
    "test['pKa'].hist()"
   ]
  },
  {
   "cell_type": "code",
   "execution_count": 1,
   "metadata": {},
   "outputs": [
    {
     "name": "stdout",
     "output_type": "stream",
     "text": [
      "Checking whether there is an H2O instance running at http://localhost:54321. connected.\n"
     ]
    },
    {
     "data": {
      "text/html": [
       "\n",
       "<style>\n",
       "\n",
       "#h2o-table-1.h2o-container {\n",
       "  overflow-x: auto;\n",
       "}\n",
       "#h2o-table-1 .h2o-table {\n",
       "  /* width: 100%; */\n",
       "  margin-top: 1em;\n",
       "  margin-bottom: 1em;\n",
       "}\n",
       "#h2o-table-1 .h2o-table caption {\n",
       "  white-space: nowrap;\n",
       "  caption-side: top;\n",
       "  text-align: left;\n",
       "  /* margin-left: 1em; */\n",
       "  margin: 0;\n",
       "  font-size: larger;\n",
       "}\n",
       "#h2o-table-1 .h2o-table thead {\n",
       "  white-space: nowrap; \n",
       "  position: sticky;\n",
       "  top: 0;\n",
       "  box-shadow: 0 -1px inset;\n",
       "}\n",
       "#h2o-table-1 .h2o-table tbody {\n",
       "  overflow: auto;\n",
       "}\n",
       "#h2o-table-1 .h2o-table th,\n",
       "#h2o-table-1 .h2o-table td {\n",
       "  text-align: right;\n",
       "  /* border: 1px solid; */\n",
       "}\n",
       "#h2o-table-1 .h2o-table tr:nth-child(even) {\n",
       "  /* background: #F5F5F5 */\n",
       "}\n",
       "\n",
       "</style>      \n",
       "<div id=\"h2o-table-1\" class=\"h2o-container\">\n",
       "  <table class=\"h2o-table\">\n",
       "    <caption></caption>\n",
       "    <thead></thead>\n",
       "    <tbody><tr><td>H2O_cluster_uptime:</td>\n",
       "<td>3 days 0 hours 23 mins</td></tr>\n",
       "<tr><td>H2O_cluster_timezone:</td>\n",
       "<td>Europe/Kiev</td></tr>\n",
       "<tr><td>H2O_data_parsing_timezone:</td>\n",
       "<td>UTC</td></tr>\n",
       "<tr><td>H2O_cluster_version:</td>\n",
       "<td>3.44.0.3</td></tr>\n",
       "<tr><td>H2O_cluster_version_age:</td>\n",
       "<td>1 month and 15 days</td></tr>\n",
       "<tr><td>H2O_cluster_name:</td>\n",
       "<td>H2O_from_python_redman_ebpqtv</td></tr>\n",
       "<tr><td>H2O_cluster_total_nodes:</td>\n",
       "<td>1</td></tr>\n",
       "<tr><td>H2O_cluster_free_memory:</td>\n",
       "<td>9.70 Gb</td></tr>\n",
       "<tr><td>H2O_cluster_total_cores:</td>\n",
       "<td>14</td></tr>\n",
       "<tr><td>H2O_cluster_allowed_cores:</td>\n",
       "<td>14</td></tr>\n",
       "<tr><td>H2O_cluster_status:</td>\n",
       "<td>locked, healthy</td></tr>\n",
       "<tr><td>H2O_connection_url:</td>\n",
       "<td>http://localhost:54321</td></tr>\n",
       "<tr><td>H2O_connection_proxy:</td>\n",
       "<td>{\"http\": null, \"https\": null}</td></tr>\n",
       "<tr><td>H2O_internal_security:</td>\n",
       "<td>False</td></tr>\n",
       "<tr><td>Python_version:</td>\n",
       "<td>3.10.8 final</td></tr></tbody>\n",
       "  </table>\n",
       "</div>\n"
      ],
      "text/plain": [
       "--------------------------  -----------------------------\n",
       "H2O_cluster_uptime:         3 days 0 hours 23 mins\n",
       "H2O_cluster_timezone:       Europe/Kiev\n",
       "H2O_data_parsing_timezone:  UTC\n",
       "H2O_cluster_version:        3.44.0.3\n",
       "H2O_cluster_version_age:    1 month and 15 days\n",
       "H2O_cluster_name:           H2O_from_python_redman_ebpqtv\n",
       "H2O_cluster_total_nodes:    1\n",
       "H2O_cluster_free_memory:    9.70 Gb\n",
       "H2O_cluster_total_cores:    14\n",
       "H2O_cluster_allowed_cores:  14\n",
       "H2O_cluster_status:         locked, healthy\n",
       "H2O_connection_url:         http://localhost:54321\n",
       "H2O_connection_proxy:       {\"http\": null, \"https\": null}\n",
       "H2O_internal_security:      False\n",
       "Python_version:             3.10.8 final\n",
       "--------------------------  -----------------------------"
      ]
     },
     "metadata": {},
     "output_type": "display_data"
    },
    {
     "name": "stdout",
     "output_type": "stream",
     "text": [
      "Parse progress: |████████████████████████████████████████████████████████████████| (done) 100%\n",
      "rulefit Model Build progress: |"
     ]
    },
    {
     "name": "stderr",
     "output_type": "stream",
     "text": [
      "/home/redman/mambaforge/lib/python3.10/site-packages/h2o/estimators/estimator_base.py:192: RuntimeWarning: Dropping bad and constant columns: [naHRing, nFaHRing, nFaRing]\n",
      "  warnings.warn(mesg[\"message\"], RuntimeWarning)\n"
     ]
    },
    {
     "name": "stdout",
     "output_type": "stream",
     "text": [
      "██████████████████████████████████████████████████| (done) 100%\n",
      "Rule Importance: \n",
      "     variable    coefficient              support              rule\n",
      "---  ----------  -----------------------  -------------------  ----------------------------------------------------------------------------------------------------------------------------------------------------------------------------------------------------------------------------------------------------------------------------------------------------------\n",
      "     M0T45N18    -1.0355010257000752      0.2550335570469799   (PBF < 0.881852924823761 or PBF is NA) & (PNSA5 < -19.829938888549805 or PNSA5 is NA) & (PPSA5 >= 12.348013877868652)\n",
      "     M0T5N22     0.7085498635042057       0.2550335570469799   (PNSA5 >= -10.43918514251709) & (nN >= 0.5 or nN is NA)\n",
      "     M0T43N12    0.6786407054589888       0.2684563758389262   (PPSA5 < 12.348013877868652 or PPSA5 is NA) & (dipole_moment < 0.37599650025367737) & (nF < 3.5 or nF is NA)\n",
      "     M0T33N14    -0.6746412137907436      0.26174496644295303  (RPCS >= 7.671358585357666) & (RPCS < 38.13335418701172 or RPCS is NA) & (nAHRing < 0.5 or nAHRing is NA)\n",
      "     M0T27N18    0.570297202802582        0.2348993288590604   (C1 >= 54.5 or C1 is NA) & (dihedral_angle < 1.4062525033950806 or dihedral_angle is NA) & (f_atom_fraction < 0.3544921875 or f_atom_fraction is NA)\n",
      "     M0T3N19     0.521054967432231        0.18120805369127516  (C1 < 170.5 or C1 is NA) & (nN >= 0.5 or nN is NA) & (tpsa+f < 26.928010940551758)\n",
      "     M0T24N19    0.49307662517094575      0.38926174496644295  (PNSA5 >= -22.897241592407227 or PNSA5 is NA) & (PPSA5 < 12.34306526184082 or PPSA5 is NA) & (f_to_fg >= 0.5 or f_to_fg is NA)\n",
      "     M0T7N19     0.48860239502759445      0.19463087248322147  (C1 >= 54.5 or C1 is NA) & (PPSA5 < 9.489603996276855 or PPSA5 is NA) & (nF < 1.5)\n",
      "     M0T46N20    -0.4051294751089811      0.24161073825503357  (PPSA5 >= 12.348013877868652) & (f_to_fg >= 0.5 or f_to_fg is NA) & (nN < 0.5 or nN is NA)\n",
      "     M3T6N92     0.39780205522995593      0.2483221476510067   (C1 < 171.5 or C1 is NA) & (C1 >= 104.5 or C1 is NA) & (PPSA5 < 12.901110649108887 or PPSA5 is NA) & (PPSA5 >= 9.4927978515625 or PPSA5 is NA) & (f_atom_fraction < 0.87890625 or f_atom_fraction is NA)\n",
      "---  ---         ---                      ---                  ---\n",
      "     M0T34N20    0.06533142219363171      0.19463087248322147  (angle_R2X2R1 >= 141.91981506347656 or angle_R2X2R1 is NA) & (nN >= 0.5 or nN is NA) & (tpsa+f < 33.895240783691406)\n",
      "     M0T15N18    0.05697807809360178      0.24161073825503357  (PNSA5 >= -22.897241592407227 or PNSA5 is NA) & (dipole_moment < 0.35509786009788513) & (nO < 1.5 or nO is NA)\n",
      "     M1T43N28    0.04479547173812688      0.18791946308724833  (PNSA5 >= -23.74186134338379 or PNSA5 is NA) & (PPSA5 < 12.348013877868652 or PPSA5 is NA) & (dipole_moment >= 0.37599650025367737 or dipole_moment is NA) & (mol_volume >= 107.40398406982422 or mol_volume is NA)\n",
      "     M0T45N14    0.041558262369563156     0.1610738255033557   (PPSA5 < 12.348013877868652 or PPSA5 is NA) & (chirality < 1.0 or chirality is NA) & (f_to_fg < 0.5)\n",
      "     M5T6N148    0.026296031896895358     0.1610738255033557   (C1 < 171.5 or C1 is NA) & (C1 >= 104.5 or C1 is NA) & (PNSA5 < -12.194347381591797 or PNSA5 is NA) & (PPSA5 < 12.901110649108887 or PPSA5 is NA) & (PPSA5 >= 9.4927978515625 or PPSA5 is NA) & (dihedral_angle >= 54.0 or dihedral_angle is NA) & (f_atom_fraction < 0.87890625 or f_atom_fraction is NA)\n",
      "     M1T40N28    0.025961286469882355     0.14093959731543623  (PNSA5 >= -5.515853404998779 or PNSA5 is NA) & (PPSA5 < 12.348013877868652 or PPSA5 is NA) & (nF < 1.5) & (tpsa+f < 26.853891372680664 or tpsa+f is NA)\n",
      "     M0T36N18    0.014768216248684301     0.24161073825503357  (PNSA5 >= -12.450627326965332 or PNSA5 is NA) & (PPSA5 < 12.348013877868652 or PPSA5 is NA) & (angle_R2X2R1 >= 141.91981506347656 or angle_R2X2R1 is NA)\n",
      "     M0T21N20    -0.007372996510080083    0.24161073825503357  (PPSA5 >= 12.348013877868652) & (nF >= 0.5 or nF is NA) & (nN < 0.5 or nN is NA)\n",
      "     M0T36N19    -0.004209298293616887    0.20134228187919462  (PPSA5 >= 12.348013877868652) & (dipole_moment < 0.3998970687389374 or dipole_moment is NA) & (identificator < 1.5 or identificator is NA)\n",
      "     M0T14N14    -0.00041630539335424534  0.24161073825503357  (RPCS < 38.13335418701172 or RPCS is NA) & (nF >= 0.5 or nF is NA) & (nN < 0.5)\n",
      "[31 rows x 5 columns]\n",
      "\n",
      "rulefit prediction progress: |███████████████████████████████████████████████████| (done) 100%\n"
     ]
    },
    {
     "data": {
      "text/html": [
       "<table class='dataframe'>\n",
       "<thead>\n",
       "<tr><th style=\"text-align: right;\">  predict</th></tr>\n",
       "</thead>\n",
       "<tbody>\n",
       "<tr><td style=\"text-align: right;\">  5.55363</td></tr>\n",
       "<tr><td style=\"text-align: right;\">  4.7857 </td></tr>\n",
       "<tr><td style=\"text-align: right;\">  4.12224</td></tr>\n",
       "<tr><td style=\"text-align: right;\">  4.94047</td></tr>\n",
       "<tr><td style=\"text-align: right;\">  5.50377</td></tr>\n",
       "<tr><td style=\"text-align: right;\">  5.70143</td></tr>\n",
       "<tr><td style=\"text-align: right;\">  7.40858</td></tr>\n",
       "<tr><td style=\"text-align: right;\"> 10.2105 </td></tr>\n",
       "<tr><td style=\"text-align: right;\"> 10.2105 </td></tr>\n",
       "<tr><td style=\"text-align: right;\">  6.88071</td></tr>\n",
       "</tbody>\n",
       "</table><pre style='font-size: smaller; margin-bottom: 1em;'>[29 rows x 1 column]</pre>"
      ],
      "text/plain": [
       "  predict\n",
       "---------\n",
       "  5.55363\n",
       "  4.7857\n",
       "  4.12224\n",
       "  4.94047\n",
       "  5.50377\n",
       "  5.70143\n",
       "  7.40858\n",
       " 10.2105\n",
       " 10.2105\n",
       "  6.88071\n",
       "[29 rows x 1 column]\n"
      ]
     },
     "execution_count": 1,
     "metadata": {},
     "output_type": "execute_result"
    }
   ],
   "source": [
    "import h2o\n",
    "h2o.init()\n",
    "from h2o.estimators import H2ORuleFitEstimator\n",
    "\n",
    "\n",
    "df_pKa = h2o.import_file(path = 'pKa_X_y.csv')\n",
    "# Split the dataset into train and test\n",
    "train, test = df_pKa.split_frame(ratios=[0.8], seed=1)\n",
    "\n",
    "\n",
    "x = df_pKa.columns.remove('pKa')\n",
    "y = 'pKa'\n",
    "\n",
    "rfit = H2ORuleFitEstimator(max_rule_length=10,\n",
    "                           max_num_rules=1000,\n",
    "                           seed=1, model_type='rules')\n",
    "rfit.train(training_frame=train, x=x, y=y, validation_frame=test)\n",
    "\n",
    "# Retrieve the rule importance:\n",
    "print(rfit.rule_importance())\n",
    "\n",
    "# Predict on the test data:\n",
    "rfit.predict(test)"
   ]
  },
  {
   "cell_type": "code",
   "execution_count": 2,
   "metadata": {},
   "outputs": [
    {
     "data": {
      "text/html": [
       "<pre style='margin: 1em 0 1em 0;'>ModelMetricsRegressionGLM: rulefit\n",
       "** Reported on test data. **\n",
       "\n",
       "MSE: 1.4204475680664839\n",
       "RMSE: 1.1918253093748612\n",
       "MAE: 0.9893208594763392\n",
       "RMSLE: 0.1734799562360719\n",
       "Mean Residual Deviance: 1.4204475680664839\n",
       "R^2: 0.7821655376310186\n",
       "Null degrees of freedom: 28\n",
       "Residual degrees of freedom: -3\n",
       "Null deviance: 194.38645093106794\n",
       "Residual deviance: 41.192979473928034\n",
       "AIC: 158.4766232370652</pre>"
      ],
      "text/plain": [
       "ModelMetricsRegressionGLM: rulefit\n",
       "** Reported on test data. **\n",
       "\n",
       "MSE: 1.4204475680664839\n",
       "RMSE: 1.1918253093748612\n",
       "MAE: 0.9893208594763392\n",
       "RMSLE: 0.1734799562360719\n",
       "Mean Residual Deviance: 1.4204475680664839\n",
       "R^2: 0.7821655376310186\n",
       "Null degrees of freedom: 28\n",
       "Residual degrees of freedom: -3\n",
       "Null deviance: 194.38645093106794\n",
       "Residual deviance: 41.192979473928034\n",
       "AIC: 158.4766232370652"
      ]
     },
     "execution_count": 2,
     "metadata": {},
     "output_type": "execute_result"
    }
   ],
   "source": [
    "perf = rfit.model_performance(test)\n",
    "perf"
   ]
  },
  {
   "cell_type": "markdown",
   "metadata": {},
   "source": [
    "pKa linear and rules"
   ]
  },
  {
   "cell_type": "code",
   "execution_count": 17,
   "metadata": {},
   "outputs": [
    {
     "name": "stdout",
     "output_type": "stream",
     "text": [
      "Checking whether there is an H2O instance running at http://localhost:54321. connected.\n"
     ]
    },
    {
     "data": {
      "text/html": [
       "\n",
       "<style>\n",
       "\n",
       "#h2o-table-11.h2o-container {\n",
       "  overflow-x: auto;\n",
       "}\n",
       "#h2o-table-11 .h2o-table {\n",
       "  /* width: 100%; */\n",
       "  margin-top: 1em;\n",
       "  margin-bottom: 1em;\n",
       "}\n",
       "#h2o-table-11 .h2o-table caption {\n",
       "  white-space: nowrap;\n",
       "  caption-side: top;\n",
       "  text-align: left;\n",
       "  /* margin-left: 1em; */\n",
       "  margin: 0;\n",
       "  font-size: larger;\n",
       "}\n",
       "#h2o-table-11 .h2o-table thead {\n",
       "  white-space: nowrap; \n",
       "  position: sticky;\n",
       "  top: 0;\n",
       "  box-shadow: 0 -1px inset;\n",
       "}\n",
       "#h2o-table-11 .h2o-table tbody {\n",
       "  overflow: auto;\n",
       "}\n",
       "#h2o-table-11 .h2o-table th,\n",
       "#h2o-table-11 .h2o-table td {\n",
       "  text-align: right;\n",
       "  /* border: 1px solid; */\n",
       "}\n",
       "#h2o-table-11 .h2o-table tr:nth-child(even) {\n",
       "  /* background: #F5F5F5 */\n",
       "}\n",
       "\n",
       "</style>      \n",
       "<div id=\"h2o-table-11\" class=\"h2o-container\">\n",
       "  <table class=\"h2o-table\">\n",
       "    <caption></caption>\n",
       "    <thead></thead>\n",
       "    <tbody><tr><td>H2O_cluster_uptime:</td>\n",
       "<td>51 mins 51 secs</td></tr>\n",
       "<tr><td>H2O_cluster_timezone:</td>\n",
       "<td>Europe/Kiev</td></tr>\n",
       "<tr><td>H2O_data_parsing_timezone:</td>\n",
       "<td>UTC</td></tr>\n",
       "<tr><td>H2O_cluster_version:</td>\n",
       "<td>3.44.0.3</td></tr>\n",
       "<tr><td>H2O_cluster_version_age:</td>\n",
       "<td>1 month and 12 days</td></tr>\n",
       "<tr><td>H2O_cluster_name:</td>\n",
       "<td>H2O_from_python_redman_7t9g24</td></tr>\n",
       "<tr><td>H2O_cluster_total_nodes:</td>\n",
       "<td>1</td></tr>\n",
       "<tr><td>H2O_cluster_free_memory:</td>\n",
       "<td>11.28 Gb</td></tr>\n",
       "<tr><td>H2O_cluster_total_cores:</td>\n",
       "<td>14</td></tr>\n",
       "<tr><td>H2O_cluster_allowed_cores:</td>\n",
       "<td>14</td></tr>\n",
       "<tr><td>H2O_cluster_status:</td>\n",
       "<td>locked, healthy</td></tr>\n",
       "<tr><td>H2O_connection_url:</td>\n",
       "<td>http://localhost:54321</td></tr>\n",
       "<tr><td>H2O_connection_proxy:</td>\n",
       "<td>{\"http\": null, \"https\": null}</td></tr>\n",
       "<tr><td>H2O_internal_security:</td>\n",
       "<td>False</td></tr>\n",
       "<tr><td>Python_version:</td>\n",
       "<td>3.10.8 final</td></tr></tbody>\n",
       "  </table>\n",
       "</div>\n"
      ],
      "text/plain": [
       "--------------------------  -----------------------------\n",
       "H2O_cluster_uptime:         51 mins 51 secs\n",
       "H2O_cluster_timezone:       Europe/Kiev\n",
       "H2O_data_parsing_timezone:  UTC\n",
       "H2O_cluster_version:        3.44.0.3\n",
       "H2O_cluster_version_age:    1 month and 12 days\n",
       "H2O_cluster_name:           H2O_from_python_redman_7t9g24\n",
       "H2O_cluster_total_nodes:    1\n",
       "H2O_cluster_free_memory:    11.28 Gb\n",
       "H2O_cluster_total_cores:    14\n",
       "H2O_cluster_allowed_cores:  14\n",
       "H2O_cluster_status:         locked, healthy\n",
       "H2O_connection_url:         http://localhost:54321\n",
       "H2O_connection_proxy:       {\"http\": null, \"https\": null}\n",
       "H2O_internal_security:      False\n",
       "Python_version:             3.10.8 final\n",
       "--------------------------  -----------------------------"
      ]
     },
     "metadata": {},
     "output_type": "display_data"
    },
    {
     "name": "stdout",
     "output_type": "stream",
     "text": [
      "Parse progress: |████████████████████████████████████████████████████████████████| (done) 100%\n",
      "rulefit Model Build progress: |"
     ]
    },
    {
     "name": "stderr",
     "output_type": "stream",
     "text": [
      "/home/redman/mambaforge/lib/python3.10/site-packages/h2o/estimators/estimator_base.py:192: RuntimeWarning: Dropping bad and constant columns: [naHRing, nFaHRing, nFaRing]\n",
      "  warnings.warn(mesg[\"message\"], RuntimeWarning)\n"
     ]
    },
    {
     "name": "stdout",
     "output_type": "stream",
     "text": [
      "██████████████████████████████████████████████████| (done) 100%\n",
      "Rule Importance: \n",
      "    variable      coefficient    support    rule\n",
      "--  ------------  -------------  ---------  ------\n",
      "    linear.nN     0.884565       1\n",
      "    linear.PPSA5  -0.505554      1\n",
      "    linear.PNSA5  0.0554102      1\n",
      "    linear.C1     0.00408068     1\n",
      "rulefit prediction progress: |███████████████████████████████████████████████████| (done) 100%\n"
     ]
    },
    {
     "data": {
      "text/html": [
       "<table class='dataframe'>\n",
       "<thead>\n",
       "<tr><th style=\"text-align: right;\">  predict</th></tr>\n",
       "</thead>\n",
       "<tbody>\n",
       "<tr><td style=\"text-align: right;\">  5.26703</td></tr>\n",
       "<tr><td style=\"text-align: right;\">  3.59364</td></tr>\n",
       "<tr><td style=\"text-align: right;\">  4.72521</td></tr>\n",
       "<tr><td style=\"text-align: right;\">  2.78944</td></tr>\n",
       "<tr><td style=\"text-align: right;\">  3.70173</td></tr>\n",
       "<tr><td style=\"text-align: right;\">  4.84899</td></tr>\n",
       "<tr><td style=\"text-align: right;\">  8.03069</td></tr>\n",
       "<tr><td style=\"text-align: right;\"> 10.1567 </td></tr>\n",
       "<tr><td style=\"text-align: right;\"> 10.5375 </td></tr>\n",
       "<tr><td style=\"text-align: right;\">  7.18026</td></tr>\n",
       "</tbody>\n",
       "</table><pre style='font-size: smaller; margin-bottom: 1em;'>[29 rows x 1 column]</pre>"
      ],
      "text/plain": [
       "  predict\n",
       "---------\n",
       "  5.26703\n",
       "  3.59364\n",
       "  4.72521\n",
       "  2.78944\n",
       "  3.70173\n",
       "  4.84899\n",
       "  8.03069\n",
       " 10.1567\n",
       " 10.5375\n",
       "  7.18026\n",
       "[29 rows x 1 column]\n"
      ]
     },
     "execution_count": 17,
     "metadata": {},
     "output_type": "execute_result"
    }
   ],
   "source": [
    "import h2o\n",
    "h2o.init()\n",
    "from h2o.estimators import H2ORuleFitEstimator\n",
    "\n",
    "\n",
    "df_pKa = h2o.import_file(path = 'pKa_X_y.csv')\n",
    "# Split the dataset into train and test\n",
    "train, test = df_pKa.split_frame(ratios=[0.8], seed=1)\n",
    "\n",
    "\n",
    "x = df_pKa.columns.remove('pKa')\n",
    "y = 'pKa'\n",
    "\n",
    "rfit = H2ORuleFitEstimator(max_rule_length=10,\n",
    "                           max_num_rules=1000,\n",
    "                           seed=1)\n",
    "rfit.train(training_frame=train, x=x, y=y)\n",
    "\n",
    "# Retrieve the rule importance:\n",
    "print(rfit.rule_importance())\n",
    "\n",
    "# Predict on the test data:\n",
    "rfit.predict(test)"
   ]
  },
  {
   "cell_type": "code",
   "execution_count": 18,
   "metadata": {},
   "outputs": [
    {
     "data": {
      "text/html": [
       "<pre style='margin: 1em 0 1em 0;'>ModelMetricsRegressionGLM: rulefit\n",
       "** Reported on test data. **\n",
       "\n",
       "MSE: 0.9570402315335573\n",
       "RMSE: 0.9782843306184339\n",
       "MAE: 0.8374394158289553\n",
       "RMSLE: 0.11657423396762931\n",
       "Mean Residual Deviance: 0.9570402315335573\n",
       "R^2: 0.8532319326750115\n",
       "Null degrees of freedom: 28\n",
       "Residual degrees of freedom: 24\n",
       "Null deviance: 194.38645093106794\n",
       "Residual deviance: 27.75416671447316\n",
       "AIC: 93.02504929928017</pre>"
      ],
      "text/plain": [
       "ModelMetricsRegressionGLM: rulefit\n",
       "** Reported on test data. **\n",
       "\n",
       "MSE: 0.9570402315335573\n",
       "RMSE: 0.9782843306184339\n",
       "MAE: 0.8374394158289553\n",
       "RMSLE: 0.11657423396762931\n",
       "Mean Residual Deviance: 0.9570402315335573\n",
       "R^2: 0.8532319326750115\n",
       "Null degrees of freedom: 28\n",
       "Residual degrees of freedom: 24\n",
       "Null deviance: 194.38645093106794\n",
       "Residual deviance: 27.75416671447316\n",
       "AIC: 93.02504929928017"
      ]
     },
     "execution_count": 18,
     "metadata": {},
     "output_type": "execute_result"
    }
   ],
   "source": [
    "perf = rfit.model_performance(test)\n",
    "perf"
   ]
  },
  {
   "cell_type": "markdown",
   "metadata": {},
   "source": [
    "LogP rules only"
   ]
  },
  {
   "cell_type": "code",
   "execution_count": 15,
   "metadata": {},
   "outputs": [
    {
     "name": "stdout",
     "output_type": "stream",
     "text": [
      "Checking whether there is an H2O instance running at http://localhost:54321. connected.\n"
     ]
    },
    {
     "data": {
      "text/html": [
       "\n",
       "<style>\n",
       "\n",
       "#h2o-table-10.h2o-container {\n",
       "  overflow-x: auto;\n",
       "}\n",
       "#h2o-table-10 .h2o-table {\n",
       "  /* width: 100%; */\n",
       "  margin-top: 1em;\n",
       "  margin-bottom: 1em;\n",
       "}\n",
       "#h2o-table-10 .h2o-table caption {\n",
       "  white-space: nowrap;\n",
       "  caption-side: top;\n",
       "  text-align: left;\n",
       "  /* margin-left: 1em; */\n",
       "  margin: 0;\n",
       "  font-size: larger;\n",
       "}\n",
       "#h2o-table-10 .h2o-table thead {\n",
       "  white-space: nowrap; \n",
       "  position: sticky;\n",
       "  top: 0;\n",
       "  box-shadow: 0 -1px inset;\n",
       "}\n",
       "#h2o-table-10 .h2o-table tbody {\n",
       "  overflow: auto;\n",
       "}\n",
       "#h2o-table-10 .h2o-table th,\n",
       "#h2o-table-10 .h2o-table td {\n",
       "  text-align: right;\n",
       "  /* border: 1px solid; */\n",
       "}\n",
       "#h2o-table-10 .h2o-table tr:nth-child(even) {\n",
       "  /* background: #F5F5F5 */\n",
       "}\n",
       "\n",
       "</style>      \n",
       "<div id=\"h2o-table-10\" class=\"h2o-container\">\n",
       "  <table class=\"h2o-table\">\n",
       "    <caption></caption>\n",
       "    <thead></thead>\n",
       "    <tbody><tr><td>H2O_cluster_uptime:</td>\n",
       "<td>51 mins 15 secs</td></tr>\n",
       "<tr><td>H2O_cluster_timezone:</td>\n",
       "<td>Europe/Kiev</td></tr>\n",
       "<tr><td>H2O_data_parsing_timezone:</td>\n",
       "<td>UTC</td></tr>\n",
       "<tr><td>H2O_cluster_version:</td>\n",
       "<td>3.44.0.3</td></tr>\n",
       "<tr><td>H2O_cluster_version_age:</td>\n",
       "<td>1 month and 12 days</td></tr>\n",
       "<tr><td>H2O_cluster_name:</td>\n",
       "<td>H2O_from_python_redman_7t9g24</td></tr>\n",
       "<tr><td>H2O_cluster_total_nodes:</td>\n",
       "<td>1</td></tr>\n",
       "<tr><td>H2O_cluster_free_memory:</td>\n",
       "<td>11.30 Gb</td></tr>\n",
       "<tr><td>H2O_cluster_total_cores:</td>\n",
       "<td>14</td></tr>\n",
       "<tr><td>H2O_cluster_allowed_cores:</td>\n",
       "<td>14</td></tr>\n",
       "<tr><td>H2O_cluster_status:</td>\n",
       "<td>locked, healthy</td></tr>\n",
       "<tr><td>H2O_connection_url:</td>\n",
       "<td>http://localhost:54321</td></tr>\n",
       "<tr><td>H2O_connection_proxy:</td>\n",
       "<td>{\"http\": null, \"https\": null}</td></tr>\n",
       "<tr><td>H2O_internal_security:</td>\n",
       "<td>False</td></tr>\n",
       "<tr><td>Python_version:</td>\n",
       "<td>3.10.8 final</td></tr></tbody>\n",
       "  </table>\n",
       "</div>\n"
      ],
      "text/plain": [
       "--------------------------  -----------------------------\n",
       "H2O_cluster_uptime:         51 mins 15 secs\n",
       "H2O_cluster_timezone:       Europe/Kiev\n",
       "H2O_data_parsing_timezone:  UTC\n",
       "H2O_cluster_version:        3.44.0.3\n",
       "H2O_cluster_version_age:    1 month and 12 days\n",
       "H2O_cluster_name:           H2O_from_python_redman_7t9g24\n",
       "H2O_cluster_total_nodes:    1\n",
       "H2O_cluster_free_memory:    11.30 Gb\n",
       "H2O_cluster_total_cores:    14\n",
       "H2O_cluster_allowed_cores:  14\n",
       "H2O_cluster_status:         locked, healthy\n",
       "H2O_connection_url:         http://localhost:54321\n",
       "H2O_connection_proxy:       {\"http\": null, \"https\": null}\n",
       "H2O_internal_security:      False\n",
       "Python_version:             3.10.8 final\n",
       "--------------------------  -----------------------------"
      ]
     },
     "metadata": {},
     "output_type": "display_data"
    },
    {
     "name": "stdout",
     "output_type": "stream",
     "text": [
      "Parse progress: |████████████████████████████████████████████████████████████████| (done) 100%\n",
      "rulefit Model Build progress: |"
     ]
    },
    {
     "name": "stderr",
     "output_type": "stream",
     "text": [
      "/home/redman/mambaforge/lib/python3.10/site-packages/h2o/estimators/estimator_base.py:192: RuntimeWarning: Dropping bad and constant columns: [nN, naHRing, nFaHRing, nFaRing]\n",
      "  warnings.warn(mesg[\"message\"], RuntimeWarning)\n"
     ]
    },
    {
     "name": "stdout",
     "output_type": "stream",
     "text": [
      "██████████████████████████████████████████████████| (done) 100%\n",
      "Rule Importance: \n",
      "     variable    coefficient             support               rule\n",
      "---  ----------  ----------------------  --------------------  -------------------------------------------------------------------------------------------------------------------------------------------------------------------------------------------------------------------------------------------------------------------------------------------------------------------------------------\n",
      "     M0T4N17     -0.29786428839619405    0.37583892617449666   (GeomShapeIndex < 0.8585526347160339 or GeomShapeIndex is NA) & (TASA < 374.28955078125 or TASA is NA) & (identificator >= 0.5 or identificator is NA)\n",
      "     M0T9N13     0.2606621050424726      0.6241610738255033    (FPSA3 < 0.03330299258232117 or FPSA3 is NA) & (nO < 2.5 or nO is NA) & (tpsa+f < 82.57411193847656 or tpsa+f is NA)\n",
      "     M1T47N30    0.13026221096459026     0.21476510067114093   (FPSA3 < 0.03330299258232117 or FPSA3 is NA) & (mol_volume >= 200.47982788085938 or mol_volume is NA) & (mol_volume < 240.97962951660156 or mol_volume is NA) & (nHRing < 0.5 or nHRing is NA)\n",
      "     M0T37N20    0.12536540163657603     0.19463087248322147   (GeomShapeIndex >= 0.8310201168060303 or GeomShapeIndex is NA) & (TASA >= 349.21856689453125) & (nFHRing < 0.5 or nFHRing is NA)\n",
      "     M0T46N18    -0.12202080832878341    0.24161073825503357   (FPSA3 >= 0.028883038088679314 or FPSA3 is NA) & (GeomShapeIndex < 0.8585526347160339 or GeomShapeIndex is NA) & (nAHRing >= 0.5 or nAHRing is NA)\n",
      "     M3T4N86     -0.10930786064134936    0.22818791946308725   (C1 < 146.5 or C1 is NA) & (GeomShapeIndex < 0.8585526347160339 or GeomShapeIndex is NA) & (TASA < 374.28955078125 or TASA is NA) & (angle_X2X1R1 >= 147.25692749023438 or angle_X2X1R1 is NA) & (identificator >= 0.5 or identificator is NA) & (mol_weight < 204.09117126464844 or mol_weight is NA)\n",
      "     M1T46N44    0.10343489196099466     0.15436241610738255   (GeomShapeIndex >= 0.8585526347160339) & (TASA >= 339.51959228515625 or TASA is NA) & (WPSA5 >= 6.2134575843811035 or WPSA5 is NA) & (nFRing < 0.5 or nFRing is NA)\n",
      "     M1T8N36     -0.10274974056616072    0.026845637583892617  (C1 >= 70.5 or C1 is NA) & (GeomShapeIndex < 0.8600899577140808 or GeomShapeIndex is NA) & (TASA < 384.1715393066406 or TASA is NA) & (nAHRing >= 1.5)\n",
      "     M4T4N118    -0.09473954116935883    0.11409395973154363   (C1 < 146.5 or C1 is NA) & (GeomShapeIndex < 0.8585526347160339 or GeomShapeIndex is NA) & (RPCS >= 30.345504760742188) & (TASA < 374.28955078125 or TASA is NA) & (angle_X2X1R1 >= 147.25692749023438 or angle_X2X1R1 is NA) & (identificator >= 0.5 or identificator is NA) & (mol_weight < 204.09117126464844 or mol_weight is NA)\n",
      "     M2T42N45    0.08558341586970883     0.1476510067114094    (FPSA3 < 0.03330299258232117 or FPSA3 is NA) & (PBF >= 0.4759216904640198 or PBF is NA) & (identificator < 0.5) & (nC >= 11.5 or nC is NA) & (nO < 2.5 or nO is NA)\n",
      "---  ---         ---                     ---                   ---\n",
      "     M0T49N19    -0.01739092450774256    0.1342281879194631    (FPSA3 >= 0.03330299258232117) & (PPSA5 < 16.664323806762695 or PPSA5 is NA) & (TASA < 322.3175964355469 or TASA is NA)\n",
      "     M0T22N21    0.015626790328771845    0.10067114093959731   (GeomShapeIndex >= 0.8743453621864319) & (TASA >= 349.21856689453125) & (WPSA5 < 7.423942565917969 or WPSA5 is NA)\n",
      "     M2T40N53    -0.014693716104858675   0.22818791946308725   (C1 >= 70.5 or C1 is NA) & (TASA < 333.49822998046875 or TASA is NA) & (dipole_moment < 0.7515244483947754 or dipole_moment is NA) & (mol_volume < 197.10838317871094 or mol_volume is NA) & (nAHRing < 1.5 or nAHRing is NA)\n",
      "     M0T16N17    0.008727172844766524    0.2751677852348993    (GeomShapeIndex < 0.8585526347160339 or GeomShapeIndex is NA) & (WPSA5 >= 6.4504499435424805 or WPSA5 is NA) & (nO < 1.5 or nO is NA)\n",
      "     M0T2N17     -0.006777882607443866   0.026845637583892617  (C1 >= 78.5 or C1 is NA) & (GeomShapeIndex < 0.8585526347160339 or GeomShapeIndex is NA) & (nHRing >= 1.5)\n",
      "     M0T28N22    0.006270583110027891    0.21476510067114093   (GeomShapeIndex >= 0.8585526347160339) & (TASA >= 314.99761962890625 or TASA is NA) & (mol_volume >= 200.6500701904297)\n",
      "     M0T25N17    -0.0034419024084898307  0.24161073825503357   (FPSA3 >= 0.028830524533987045 or FPSA3 is NA) & (GeomShapeIndex < 0.8585526347160339 or GeomShapeIndex is NA) & (nAHRing >= 0.5)\n",
      "     M1T40N30    -0.0021991783207484026  0.2483221476510067    (C1 >= 70.5 or C1 is NA) & (TASA < 333.49822998046875 or TASA is NA) & (mol_volume < 197.10838317871094 or mol_volume is NA) & (nAHRing < 1.5 or nAHRing is NA)\n",
      "     M0T1N19     0.0014814414152244785   0.10067114093959731   (C1 < 44.5) & (TASA >= 349.21856689453125) & (nHRing < 1.5 or nHRing is NA)\n",
      "     M0T16N18    -0.0009202758177883448  0.026845637583892617  (GeomShapeIndex < 0.8585526347160339 or GeomShapeIndex is NA) & (WPSA5 >= 6.4504499435424805 or WPSA5 is NA) & (nO >= 1.5)\n",
      "[25 rows x 5 columns]\n",
      "\n",
      "rulefit prediction progress: |███████████████████████████████████████████████████| (done) 100%\n"
     ]
    },
    {
     "data": {
      "text/html": [
       "<table class='dataframe'>\n",
       "<thead>\n",
       "<tr><th style=\"text-align: right;\">  predict</th></tr>\n",
       "</thead>\n",
       "<tbody>\n",
       "<tr><td style=\"text-align: right;\">  2.55934</td></tr>\n",
       "<tr><td style=\"text-align: right;\">  2.6827 </td></tr>\n",
       "<tr><td style=\"text-align: right;\">  2.36888</td></tr>\n",
       "<tr><td style=\"text-align: right;\">  1.99768</td></tr>\n",
       "<tr><td style=\"text-align: right;\">  1.99141</td></tr>\n",
       "<tr><td style=\"text-align: right;\">  2.16205</td></tr>\n",
       "<tr><td style=\"text-align: right;\">  2.38234</td></tr>\n",
       "<tr><td style=\"text-align: right;\">  1.22143</td></tr>\n",
       "<tr><td style=\"text-align: right;\">  1.71944</td></tr>\n",
       "<tr><td style=\"text-align: right;\">  2.2608 </td></tr>\n",
       "</tbody>\n",
       "</table><pre style='font-size: smaller; margin-bottom: 1em;'>[29 rows x 1 column]</pre>"
      ],
      "text/plain": [
       "  predict\n",
       "---------\n",
       "  2.55934\n",
       "  2.6827\n",
       "  2.36888\n",
       "  1.99768\n",
       "  1.99141\n",
       "  2.16205\n",
       "  2.38234\n",
       "  1.22143\n",
       "  1.71944\n",
       "  2.2608\n",
       "[29 rows x 1 column]\n"
      ]
     },
     "execution_count": 15,
     "metadata": {},
     "output_type": "execute_result"
    }
   ],
   "source": [
    "import h2o\n",
    "h2o.init()\n",
    "from h2o.estimators import H2ORuleFitEstimator\n",
    "\n",
    "\n",
    "df_logP = h2o.import_file(path = 'logP_X_y.csv')\n",
    "# Split the dataset into train and test\n",
    "train, test = df_logP.split_frame(ratios=[0.8], seed=1)\n",
    "\n",
    "\n",
    "x = df_logP.columns.remove('logP')\n",
    "y = 'logP'\n",
    "\n",
    "rfit = H2ORuleFitEstimator(max_rule_length=10,\n",
    "                           max_num_rules=1000,\n",
    "                           seed=1, model_type='rules')\n",
    "rfit.train(training_frame=train, x=x, y=y)\n",
    "\n",
    "# Retrieve the rule importance:\n",
    "print(rfit.rule_importance())\n",
    "\n",
    "# Predict on the test data:\n",
    "rfit.predict(test)"
   ]
  },
  {
   "cell_type": "code",
   "execution_count": 16,
   "metadata": {},
   "outputs": [
    {
     "data": {
      "text/html": [
       "<pre style='margin: 1em 0 1em 0;'>ModelMetricsRegressionGLM: rulefit\n",
       "** Reported on test data. **\n",
       "\n",
       "MSE: 0.07662447634735363\n",
       "RMSE: 0.276811264849091\n",
       "MAE: 0.2256561668882973\n",
       "RMSLE: 0.0929071998546102\n",
       "Mean Residual Deviance: 0.07662447634735363\n",
       "R^2: 0.6760906321588926\n",
       "Null degrees of freedom: 28\n",
       "Residual degrees of freedom: 3\n",
       "Null deviance: 7.330606470270187\n",
       "Residual deviance: 2.222109814073255\n",
       "AIC: 61.80211208313212</pre>"
      ],
      "text/plain": [
       "ModelMetricsRegressionGLM: rulefit\n",
       "** Reported on test data. **\n",
       "\n",
       "MSE: 0.07662447634735363\n",
       "RMSE: 0.276811264849091\n",
       "MAE: 0.2256561668882973\n",
       "RMSLE: 0.0929071998546102\n",
       "Mean Residual Deviance: 0.07662447634735363\n",
       "R^2: 0.6760906321588926\n",
       "Null degrees of freedom: 28\n",
       "Residual degrees of freedom: 3\n",
       "Null deviance: 7.330606470270187\n",
       "Residual deviance: 2.222109814073255\n",
       "AIC: 61.80211208313212"
      ]
     },
     "execution_count": 16,
     "metadata": {},
     "output_type": "execute_result"
    }
   ],
   "source": [
    "perf = rfit.model_performance(test)\n",
    "perf"
   ]
  },
  {
   "cell_type": "markdown",
   "metadata": {},
   "source": [
    "LogP rules and linear features"
   ]
  },
  {
   "cell_type": "code",
   "execution_count": 13,
   "metadata": {},
   "outputs": [
    {
     "name": "stdout",
     "output_type": "stream",
     "text": [
      "Checking whether there is an H2O instance running at http://localhost:54321. connected.\n"
     ]
    },
    {
     "data": {
      "text/html": [
       "\n",
       "<style>\n",
       "\n",
       "#h2o-table-9.h2o-container {\n",
       "  overflow-x: auto;\n",
       "}\n",
       "#h2o-table-9 .h2o-table {\n",
       "  /* width: 100%; */\n",
       "  margin-top: 1em;\n",
       "  margin-bottom: 1em;\n",
       "}\n",
       "#h2o-table-9 .h2o-table caption {\n",
       "  white-space: nowrap;\n",
       "  caption-side: top;\n",
       "  text-align: left;\n",
       "  /* margin-left: 1em; */\n",
       "  margin: 0;\n",
       "  font-size: larger;\n",
       "}\n",
       "#h2o-table-9 .h2o-table thead {\n",
       "  white-space: nowrap; \n",
       "  position: sticky;\n",
       "  top: 0;\n",
       "  box-shadow: 0 -1px inset;\n",
       "}\n",
       "#h2o-table-9 .h2o-table tbody {\n",
       "  overflow: auto;\n",
       "}\n",
       "#h2o-table-9 .h2o-table th,\n",
       "#h2o-table-9 .h2o-table td {\n",
       "  text-align: right;\n",
       "  /* border: 1px solid; */\n",
       "}\n",
       "#h2o-table-9 .h2o-table tr:nth-child(even) {\n",
       "  /* background: #F5F5F5 */\n",
       "}\n",
       "\n",
       "</style>      \n",
       "<div id=\"h2o-table-9\" class=\"h2o-container\">\n",
       "  <table class=\"h2o-table\">\n",
       "    <caption></caption>\n",
       "    <thead></thead>\n",
       "    <tbody><tr><td>H2O_cluster_uptime:</td>\n",
       "<td>46 mins 59 secs</td></tr>\n",
       "<tr><td>H2O_cluster_timezone:</td>\n",
       "<td>Europe/Kiev</td></tr>\n",
       "<tr><td>H2O_data_parsing_timezone:</td>\n",
       "<td>UTC</td></tr>\n",
       "<tr><td>H2O_cluster_version:</td>\n",
       "<td>3.44.0.3</td></tr>\n",
       "<tr><td>H2O_cluster_version_age:</td>\n",
       "<td>1 month and 12 days</td></tr>\n",
       "<tr><td>H2O_cluster_name:</td>\n",
       "<td>H2O_from_python_redman_7t9g24</td></tr>\n",
       "<tr><td>H2O_cluster_total_nodes:</td>\n",
       "<td>1</td></tr>\n",
       "<tr><td>H2O_cluster_free_memory:</td>\n",
       "<td>11.32 Gb</td></tr>\n",
       "<tr><td>H2O_cluster_total_cores:</td>\n",
       "<td>14</td></tr>\n",
       "<tr><td>H2O_cluster_allowed_cores:</td>\n",
       "<td>14</td></tr>\n",
       "<tr><td>H2O_cluster_status:</td>\n",
       "<td>locked, healthy</td></tr>\n",
       "<tr><td>H2O_connection_url:</td>\n",
       "<td>http://localhost:54321</td></tr>\n",
       "<tr><td>H2O_connection_proxy:</td>\n",
       "<td>{\"http\": null, \"https\": null}</td></tr>\n",
       "<tr><td>H2O_internal_security:</td>\n",
       "<td>False</td></tr>\n",
       "<tr><td>Python_version:</td>\n",
       "<td>3.10.8 final</td></tr></tbody>\n",
       "  </table>\n",
       "</div>\n"
      ],
      "text/plain": [
       "--------------------------  -----------------------------\n",
       "H2O_cluster_uptime:         46 mins 59 secs\n",
       "H2O_cluster_timezone:       Europe/Kiev\n",
       "H2O_data_parsing_timezone:  UTC\n",
       "H2O_cluster_version:        3.44.0.3\n",
       "H2O_cluster_version_age:    1 month and 12 days\n",
       "H2O_cluster_name:           H2O_from_python_redman_7t9g24\n",
       "H2O_cluster_total_nodes:    1\n",
       "H2O_cluster_free_memory:    11.32 Gb\n",
       "H2O_cluster_total_cores:    14\n",
       "H2O_cluster_allowed_cores:  14\n",
       "H2O_cluster_status:         locked, healthy\n",
       "H2O_connection_url:         http://localhost:54321\n",
       "H2O_connection_proxy:       {\"http\": null, \"https\": null}\n",
       "H2O_internal_security:      False\n",
       "Python_version:             3.10.8 final\n",
       "--------------------------  -----------------------------"
      ]
     },
     "metadata": {},
     "output_type": "display_data"
    },
    {
     "name": "stdout",
     "output_type": "stream",
     "text": [
      "Parse progress: |████████████████████████████████████████████████████████████████| (done) 100%\n",
      "rulefit Model Build progress: |"
     ]
    },
    {
     "name": "stderr",
     "output_type": "stream",
     "text": [
      "/home/redman/mambaforge/lib/python3.10/site-packages/h2o/estimators/estimator_base.py:192: RuntimeWarning: Dropping bad and constant columns: [nN, naHRing, nFaHRing, nFaRing]\n",
      "  warnings.warn(mesg[\"message\"], RuntimeWarning)\n"
     ]
    },
    {
     "name": "stdout",
     "output_type": "stream",
     "text": [
      "██████████████████████████████████████████████████| (done) 100%\n",
      "Rule Importance: \n",
      "    variable               coefficient    support    rule\n",
      "--  ---------------------  -------------  ---------  --------------------------------------------------------------------------------------------------------------------------------------\n",
      "    linear.FPSA3           -23.304        1\n",
      "    linear.nO              -0.834451      1\n",
      "    linear.GeomShapeIndex  0.568032       1\n",
      "    linear.identificator   -0.299393      1\n",
      "    linear.nC              0.0917809      1\n",
      "    linear.WPSA5           0.0845096      1\n",
      "    linear.f_to_fg         -0.0317485     1\n",
      "    M0T43N14               -0.023247      0.348993   (TASA < 349.21856689453125 or TASA is NA) & (nO < 2.5 or nO is NA) & (tpsa+f < 55.65589141845703)\n",
      "    M0T0N16                0.0136714      0.402685   (FPSA3 < 0.03330299258232117 or FPSA3 is NA) & (GeomShapeIndex >= 0.8354923725128174 or GeomShapeIndex is NA) & (nO < 2.5 or nO is NA)\n",
      "    linear.nAHRing         -0.0050201     1\n",
      "    linear.TASA            0.00364942     1\n",
      "    linear.RPCS            -0.00249647    1\n",
      "rulefit prediction progress: |███████████████████████████████████████████████████| (done) 100%\n"
     ]
    },
    {
     "data": {
      "text/html": [
       "<table class='dataframe'>\n",
       "<thead>\n",
       "<tr><th style=\"text-align: right;\">  predict</th></tr>\n",
       "</thead>\n",
       "<tbody>\n",
       "<tr><td style=\"text-align: right;\">  2.74357</td></tr>\n",
       "<tr><td style=\"text-align: right;\">  2.91318</td></tr>\n",
       "<tr><td style=\"text-align: right;\">  2.33828</td></tr>\n",
       "<tr><td style=\"text-align: right;\">  2.11438</td></tr>\n",
       "<tr><td style=\"text-align: right;\">  1.54597</td></tr>\n",
       "<tr><td style=\"text-align: right;\">  2.44944</td></tr>\n",
       "<tr><td style=\"text-align: right;\">  2.22024</td></tr>\n",
       "<tr><td style=\"text-align: right;\">  1.40766</td></tr>\n",
       "<tr><td style=\"text-align: right;\">  1.82472</td></tr>\n",
       "<tr><td style=\"text-align: right;\">  2.67512</td></tr>\n",
       "</tbody>\n",
       "</table><pre style='font-size: smaller; margin-bottom: 1em;'>[29 rows x 1 column]</pre>"
      ],
      "text/plain": [
       "  predict\n",
       "---------\n",
       "  2.74357\n",
       "  2.91318\n",
       "  2.33828\n",
       "  2.11438\n",
       "  1.54597\n",
       "  2.44944\n",
       "  2.22024\n",
       "  1.40766\n",
       "  1.82472\n",
       "  2.67512\n",
       "[29 rows x 1 column]\n"
      ]
     },
     "execution_count": 13,
     "metadata": {},
     "output_type": "execute_result"
    }
   ],
   "source": [
    "import h2o\n",
    "h2o.init()\n",
    "from h2o.estimators import H2ORuleFitEstimator\n",
    "\n",
    "\n",
    "df_logP = h2o.import_file(path = 'logP_X_y.csv')\n",
    "# Split the dataset into train and test\n",
    "train, test = df_logP.split_frame(ratios=[0.8], seed=1)\n",
    "\n",
    "\n",
    "x = df_logP.columns.remove('logP')\n",
    "y = 'logP'\n",
    "\n",
    "rfit = H2ORuleFitEstimator(max_rule_length=10,\n",
    "                           max_num_rules=1000,\n",
    "                           seed=1)\n",
    "rfit.train(training_frame=train, x=x, y=y)\n",
    "\n",
    "# Retrieve the rule importance:\n",
    "print(rfit.rule_importance())\n",
    "\n",
    "# Predict on the test data:\n",
    "rfit.predict(test)"
   ]
  },
  {
   "cell_type": "code",
   "execution_count": 14,
   "metadata": {},
   "outputs": [
    {
     "data": {
      "text/html": [
       "<pre style='margin: 1em 0 1em 0;'>ModelMetricsRegressionGLM: rulefit\n",
       "** Reported on test data. **\n",
       "\n",
       "MSE: 0.032950075993346185\n",
       "RMSE: 0.1815215579300326\n",
       "MAE: 0.13733457337749594\n",
       "RMSLE: 0.06074483931813512\n",
       "Mean Residual Deviance: 0.032950075993346185\n",
       "R^2: 0.8607124146997213\n",
       "Null degrees of freedom: 28\n",
       "Residual degrees of freedom: 16\n",
       "Null deviance: 7.330606470270187\n",
       "Residual deviance: 0.9555522038070394\n",
       "AIC: 11.328345286188824</pre>"
      ],
      "text/plain": [
       "ModelMetricsRegressionGLM: rulefit\n",
       "** Reported on test data. **\n",
       "\n",
       "MSE: 0.032950075993346185\n",
       "RMSE: 0.1815215579300326\n",
       "MAE: 0.13733457337749594\n",
       "RMSLE: 0.06074483931813512\n",
       "Mean Residual Deviance: 0.032950075993346185\n",
       "R^2: 0.8607124146997213\n",
       "Null degrees of freedom: 28\n",
       "Residual degrees of freedom: 16\n",
       "Null deviance: 7.330606470270187\n",
       "Residual deviance: 0.9555522038070394\n",
       "AIC: 11.328345286188824"
      ]
     },
     "execution_count": 14,
     "metadata": {},
     "output_type": "execute_result"
    }
   ],
   "source": [
    "perf = rfit.model_performance(test)\n",
    "perf"
   ]
  },
  {
   "cell_type": "code",
   "execution_count": 4,
   "metadata": {},
   "outputs": [
    {
     "name": "stdout",
     "output_type": "stream",
     "text": [
      "Parse progress: |████████████████████████████████████████████████████████████████| (done) 100%\n"
     ]
    }
   ],
   "source": [
    "df_pKa = h2o.import_file(path = 'pKa_X_y.csv')\n",
    "x = df_pKa.columns.remove('pKa')\n",
    "y = 'pKa'\n"
   ]
  }
 ],
 "metadata": {
  "kernelspec": {
   "display_name": "Python 3",
   "language": "python",
   "name": "python3"
  },
  "language_info": {
   "codemirror_mode": {
    "name": "ipython",
    "version": 3
   },
   "file_extension": ".py",
   "mimetype": "text/x-python",
   "name": "python",
   "nbconvert_exporter": "python",
   "pygments_lexer": "ipython3",
   "version": "3.11.9"
  }
 },
 "nbformat": 4,
 "nbformat_minor": 2
}
