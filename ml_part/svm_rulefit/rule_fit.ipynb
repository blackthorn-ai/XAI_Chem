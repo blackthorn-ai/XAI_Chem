{
 "cells": [
  {
   "cell_type": "markdown",
   "metadata": {},
   "source": [
    "pKa rules only"
   ]
  },
  {
   "cell_type": "markdown",
   "metadata": {},
   "source": [
    "support = fraction of the dataset to which rule applies\n",
    "\n",
    "\n",
    "coefficient = linear coefficient for the rule"
   ]
  },
  {
   "cell_type": "code",
   "execution_count": 19,
   "metadata": {},
   "outputs": [
    {
     "name": "stdout",
     "output_type": "stream",
     "text": [
      "Checking whether there is an H2O instance running at http://localhost:54321. connected.\n"
     ]
    },
    {
     "data": {
      "text/html": [
       "\n",
       "<style>\n",
       "\n",
       "#h2o-table-12.h2o-container {\n",
       "  overflow-x: auto;\n",
       "}\n",
       "#h2o-table-12 .h2o-table {\n",
       "  /* width: 100%; */\n",
       "  margin-top: 1em;\n",
       "  margin-bottom: 1em;\n",
       "}\n",
       "#h2o-table-12 .h2o-table caption {\n",
       "  white-space: nowrap;\n",
       "  caption-side: top;\n",
       "  text-align: left;\n",
       "  /* margin-left: 1em; */\n",
       "  margin: 0;\n",
       "  font-size: larger;\n",
       "}\n",
       "#h2o-table-12 .h2o-table thead {\n",
       "  white-space: nowrap; \n",
       "  position: sticky;\n",
       "  top: 0;\n",
       "  box-shadow: 0 -1px inset;\n",
       "}\n",
       "#h2o-table-12 .h2o-table tbody {\n",
       "  overflow: auto;\n",
       "}\n",
       "#h2o-table-12 .h2o-table th,\n",
       "#h2o-table-12 .h2o-table td {\n",
       "  text-align: right;\n",
       "  /* border: 1px solid; */\n",
       "}\n",
       "#h2o-table-12 .h2o-table tr:nth-child(even) {\n",
       "  /* background: #F5F5F5 */\n",
       "}\n",
       "\n",
       "</style>      \n",
       "<div id=\"h2o-table-12\" class=\"h2o-container\">\n",
       "  <table class=\"h2o-table\">\n",
       "    <caption></caption>\n",
       "    <thead></thead>\n",
       "    <tbody><tr><td>H2O_cluster_uptime:</td>\n",
       "<td>52 mins 24 secs</td></tr>\n",
       "<tr><td>H2O_cluster_timezone:</td>\n",
       "<td>Europe/Kiev</td></tr>\n",
       "<tr><td>H2O_data_parsing_timezone:</td>\n",
       "<td>UTC</td></tr>\n",
       "<tr><td>H2O_cluster_version:</td>\n",
       "<td>3.44.0.3</td></tr>\n",
       "<tr><td>H2O_cluster_version_age:</td>\n",
       "<td>1 month and 12 days</td></tr>\n",
       "<tr><td>H2O_cluster_name:</td>\n",
       "<td>H2O_from_python_redman_7t9g24</td></tr>\n",
       "<tr><td>H2O_cluster_total_nodes:</td>\n",
       "<td>1</td></tr>\n",
       "<tr><td>H2O_cluster_free_memory:</td>\n",
       "<td>11.26 Gb</td></tr>\n",
       "<tr><td>H2O_cluster_total_cores:</td>\n",
       "<td>14</td></tr>\n",
       "<tr><td>H2O_cluster_allowed_cores:</td>\n",
       "<td>14</td></tr>\n",
       "<tr><td>H2O_cluster_status:</td>\n",
       "<td>locked, healthy</td></tr>\n",
       "<tr><td>H2O_connection_url:</td>\n",
       "<td>http://localhost:54321</td></tr>\n",
       "<tr><td>H2O_connection_proxy:</td>\n",
       "<td>{\"http\": null, \"https\": null}</td></tr>\n",
       "<tr><td>H2O_internal_security:</td>\n",
       "<td>False</td></tr>\n",
       "<tr><td>Python_version:</td>\n",
       "<td>3.10.8 final</td></tr></tbody>\n",
       "  </table>\n",
       "</div>\n"
      ],
      "text/plain": [
       "--------------------------  -----------------------------\n",
       "H2O_cluster_uptime:         52 mins 24 secs\n",
       "H2O_cluster_timezone:       Europe/Kiev\n",
       "H2O_data_parsing_timezone:  UTC\n",
       "H2O_cluster_version:        3.44.0.3\n",
       "H2O_cluster_version_age:    1 month and 12 days\n",
       "H2O_cluster_name:           H2O_from_python_redman_7t9g24\n",
       "H2O_cluster_total_nodes:    1\n",
       "H2O_cluster_free_memory:    11.26 Gb\n",
       "H2O_cluster_total_cores:    14\n",
       "H2O_cluster_allowed_cores:  14\n",
       "H2O_cluster_status:         locked, healthy\n",
       "H2O_connection_url:         http://localhost:54321\n",
       "H2O_connection_proxy:       {\"http\": null, \"https\": null}\n",
       "H2O_internal_security:      False\n",
       "Python_version:             3.10.8 final\n",
       "--------------------------  -----------------------------"
      ]
     },
     "metadata": {},
     "output_type": "display_data"
    },
    {
     "name": "stdout",
     "output_type": "stream",
     "text": [
      "Parse progress: |████████████████████████████████████████████████████████████████| (done) 100%\n",
      "rulefit Model Build progress: |██████████████████████████████████████████████████| (done) 100%\n",
      "Rule Importance: \n",
      "    variable    coefficient    support    rule\n",
      "--  ----------  -------------  ---------  ---------------------------------------------------------------------------------------------------------------------------------------------------------------------------------------------------------------------------\n",
      "    M7T43N116   -2.03015       0.127517   (PPSA5 >= 12.348013877868652) & (TASA < 269.5586242675781 or TASA is NA) & (distance_between_atoms_in_f_group_centers >= NaN or distance_between_atoms_in_f_group_centers is NA)\n",
      "    M0T5N22     0.723148       0.255034   (PNSA5 >= -10.43918514251709) & (nN >= 0.5 or nN is NA)\n",
      "    M0T41N19    -0.546886      0.248322   (PNSA5 < -20.007753372192383 or PNSA5 is NA) & (PPSA5 >= 12.348013877868652) & (nN < 0.5 or nN is NA)\n",
      "    M0T27N18    0.511768       0.234899   (C1 >= 54.5 or C1 is NA) & (dihedral_angle < 1.4062525033950806 or dihedral_angle is NA) & (f_atom_fraction < 0.3544921875 or f_atom_fraction is NA)\n",
      "    M3T6N92     0.395022       0.248322   (C1 < 171.5 or C1 is NA) & (C1 >= 104.5 or C1 is NA) & (PPSA5 < 12.901110649108887 or PPSA5 is NA) & (PPSA5 >= 9.4927978515625 or PPSA5 is NA) & (f_atom_fraction < 0.87890625 or f_atom_fraction is NA)\n",
      "    M0T15N18    0.373847       0.241611   (PNSA5 >= -22.897241592407227 or PNSA5 is NA) & (dipole_moment < 0.35509786009788513) & (nO < 1.5 or nO is NA)\n",
      "    M0T43N12    0.357907       0.268456   (PPSA5 < 12.348013877868652 or PPSA5 is NA) & (dipole_moment < 0.37599650025367737) & (nF < 3.5 or nF is NA)\n",
      "    M0T40N20    -0.35131       0.241611   (C1 < 57.5 or C1 is NA) & (PPSA5 >= 12.348013877868652) & (nF >= 0.5 or nF is NA)\n",
      "    M0T3N19     0.319012       0.181208   (C1 < 170.5 or C1 is NA) & (nN >= 0.5 or nN is NA) & (tpsa+f < 26.928010940551758)\n",
      "    M1T44N37    0.249246       0.228188   (C1 >= 105.5 or C1 is NA) & (PNSA5 < -10.405757904052734 or PNSA5 is NA) & (angle_R1X1R2 >= 97.41901397705078 or angle_R1X1R2 is NA) & (identificator >= 0.5 or identificator is NA)\n",
      "    M1T0N40     0.238164       0.33557    (PPSA5 >= 9.403726577758789 or PPSA5 is NA) & (f_to_fg < 2.5 or f_to_fg is NA) & (nN >= 0.5 or nN is NA) & (tpsa+f < 60.65236282348633 or tpsa+f is NA)\n",
      "    M0T7N19     0.162387       0.194631   (C1 >= 54.5 or C1 is NA) & (PPSA5 < 9.489603996276855 or PPSA5 is NA) & (nF < 1.5)\n",
      "    M1T7N38     0.145744       0.167785   (C1 >= 54.5 or C1 is NA) & (GeomShapeIndex < 0.7735893726348877 or GeomShapeIndex is NA) & (PPSA5 < 9.489603996276855 or PPSA5 is NA) & (nF < 1.5)\n",
      "    M0T33N14    -0.128695      0.261745   (RPCS >= 7.671358585357666) & (RPCS < 38.13335418701172 or RPCS is NA) & (nAHRing < 0.5 or nAHRing is NA)\n",
      "    M1T47N32    0.127689       0.241611   (C1 >= 105.5 or C1 is NA) & (PNSA5 < -9.872313499450684 or PNSA5 is NA) & (PPSA5 < 12.348013877868652 or PPSA5 is NA) & (angle_R1X1R2 >= 97.00312042236328 or angle_R1X1R2 is NA)\n",
      "    M4T43N68    -0.0755999     0.127517   (PPSA5 >= 12.348013877868652) & (TASA < 269.5586242675781 or TASA is NA) & (distance_between_atoms_in_f_group_centers >= NaN or distance_between_atoms_in_f_group_centers is NA)\n",
      "    M2T1N71     -0.0590669     0.154362   (C1 < 126.5 or C1 is NA) & (angle_R1X1R2 < 166.03501892089844 or angle_R1X1R2 is NA) & (angle_X2X1R1 >= 114.10285186767578 or angle_X2X1R1 is NA) & (identificator >= 0.5 or identificator is NA) & (nF >= 1.5 or nF is NA)\n",
      "    M0T36N18    0.0588241      0.241611   (PNSA5 >= -12.450627326965332 or PNSA5 is NA) & (PPSA5 < 12.348013877868652 or PPSA5 is NA) & (angle_R2X2R1 >= 141.91981506347656 or angle_R2X2R1 is NA)\n",
      "    M0T46N15    0.0383784      0.248322   (PPSA5 < 12.348013877868652 or PPSA5 is NA) & (angle_R1X1R2 < 135.3284149169922 or angle_R1X1R2 is NA) & (f_atom_fraction < 0.26806640625)\n",
      "    M6T43N107   -1.28145e-12   0.127517   (PPSA5 >= 12.348013877868652) & (TASA < 269.5586242675781 or TASA is NA) & (distance_between_atoms_in_f_group_centers >= NaN or distance_between_atoms_in_f_group_centers is NA)\n",
      "rulefit prediction progress: |███████████████████████████████████████████████████| (done) 100%\n"
     ]
    },
    {
     "data": {
      "text/html": [
       "<table class='dataframe'>\n",
       "<thead>\n",
       "<tr><th style=\"text-align: right;\">  predict</th></tr>\n",
       "</thead>\n",
       "<tbody>\n",
       "<tr><td style=\"text-align: right;\">  5.15268</td></tr>\n",
       "<tr><td style=\"text-align: right;\">  4.38318</td></tr>\n",
       "<tr><td style=\"text-align: right;\">  4.25448</td></tr>\n",
       "<tr><td style=\"text-align: right;\">  4.38318</td></tr>\n",
       "<tr><td style=\"text-align: right;\">  4.73449</td></tr>\n",
       "<tr><td style=\"text-align: right;\">  5.15268</td></tr>\n",
       "<tr><td style=\"text-align: right;\">  7.9493 </td></tr>\n",
       "<tr><td style=\"text-align: right;\"> 10.0781 </td></tr>\n",
       "<tr><td style=\"text-align: right;\"> 10.0781 </td></tr>\n",
       "<tr><td style=\"text-align: right;\">  7.56622</td></tr>\n",
       "</tbody>\n",
       "</table><pre style='font-size: smaller; margin-bottom: 1em;'>[29 rows x 1 column]</pre>"
      ],
      "text/plain": [
       "  predict\n",
       "---------\n",
       "  5.15268\n",
       "  4.38318\n",
       "  4.25448\n",
       "  4.38318\n",
       "  4.73449\n",
       "  5.15268\n",
       "  7.9493\n",
       " 10.0781\n",
       " 10.0781\n",
       "  7.56622\n",
       "[29 rows x 1 column]\n"
      ]
     },
     "execution_count": 19,
     "metadata": {},
     "output_type": "execute_result"
    }
   ],
   "source": [
    "import h2o\n",
    "h2o.init()\n",
    "from h2o.estimators import H2ORuleFitEstimator\n",
    "\n",
    "\n",
    "df_pKa = h2o.import_file(path = 'pKa_X_y.csv')\n",
    "# Split the dataset into train and test\n",
    "train, test = df_pKa.split_frame(ratios=[0.8], seed=1)\n",
    "\n",
    "\n",
    "x = df_pKa.columns.remove('pKa')\n",
    "y = 'pKa'\n",
    "\n",
    "rfit = H2ORuleFitEstimator(max_rule_length=10,\n",
    "                           max_num_rules=1000,\n",
    "                           seed=1, model_type='rules')\n",
    "rfit.train(training_frame=train, x=x, y=y)\n",
    "\n",
    "# Retrieve the rule importance:\n",
    "print(rfit.rule_importance())\n",
    "\n",
    "# Predict on the test data:\n",
    "rfit.predict(test)"
   ]
  },
  {
   "cell_type": "code",
   "execution_count": 20,
   "metadata": {},
   "outputs": [
    {
     "data": {
      "text/html": [
       "<pre style='margin: 1em 0 1em 0;'>ModelMetricsRegressionGLM: rulefit\n",
       "** Reported on test data. **\n",
       "\n",
       "MSE: 1.3955694563382668\n",
       "RMSE: 1.1813422265957765\n",
       "MAE: 1.016006955242145\n",
       "RMSLE: 0.15995280629118747\n",
       "Mean Residual Deviance: 1.3955694563382668\n",
       "R^2: 0.7859807506771773\n",
       "Null degrees of freedom: 28\n",
       "Residual degrees of freedom: 8\n",
       "Null deviance: 194.38645093106794\n",
       "Residual deviance: 40.471514233809735\n",
       "AIC: 135.9642087136499</pre>"
      ],
      "text/plain": [
       "ModelMetricsRegressionGLM: rulefit\n",
       "** Reported on test data. **\n",
       "\n",
       "MSE: 1.3955694563382668\n",
       "RMSE: 1.1813422265957765\n",
       "MAE: 1.016006955242145\n",
       "RMSLE: 0.15995280629118747\n",
       "Mean Residual Deviance: 1.3955694563382668\n",
       "R^2: 0.7859807506771773\n",
       "Null degrees of freedom: 28\n",
       "Residual degrees of freedom: 8\n",
       "Null deviance: 194.38645093106794\n",
       "Residual deviance: 40.471514233809735\n",
       "AIC: 135.9642087136499"
      ]
     },
     "execution_count": 20,
     "metadata": {},
     "output_type": "execute_result"
    }
   ],
   "source": [
    "perf = rfit.model_performance(test)\n",
    "perf"
   ]
  },
  {
   "cell_type": "markdown",
   "metadata": {},
   "source": [
    "pKa linear and rules"
   ]
  },
  {
   "cell_type": "code",
   "execution_count": 17,
   "metadata": {},
   "outputs": [
    {
     "name": "stdout",
     "output_type": "stream",
     "text": [
      "Checking whether there is an H2O instance running at http://localhost:54321. connected.\n"
     ]
    },
    {
     "data": {
      "text/html": [
       "\n",
       "<style>\n",
       "\n",
       "#h2o-table-11.h2o-container {\n",
       "  overflow-x: auto;\n",
       "}\n",
       "#h2o-table-11 .h2o-table {\n",
       "  /* width: 100%; */\n",
       "  margin-top: 1em;\n",
       "  margin-bottom: 1em;\n",
       "}\n",
       "#h2o-table-11 .h2o-table caption {\n",
       "  white-space: nowrap;\n",
       "  caption-side: top;\n",
       "  text-align: left;\n",
       "  /* margin-left: 1em; */\n",
       "  margin: 0;\n",
       "  font-size: larger;\n",
       "}\n",
       "#h2o-table-11 .h2o-table thead {\n",
       "  white-space: nowrap; \n",
       "  position: sticky;\n",
       "  top: 0;\n",
       "  box-shadow: 0 -1px inset;\n",
       "}\n",
       "#h2o-table-11 .h2o-table tbody {\n",
       "  overflow: auto;\n",
       "}\n",
       "#h2o-table-11 .h2o-table th,\n",
       "#h2o-table-11 .h2o-table td {\n",
       "  text-align: right;\n",
       "  /* border: 1px solid; */\n",
       "}\n",
       "#h2o-table-11 .h2o-table tr:nth-child(even) {\n",
       "  /* background: #F5F5F5 */\n",
       "}\n",
       "\n",
       "</style>      \n",
       "<div id=\"h2o-table-11\" class=\"h2o-container\">\n",
       "  <table class=\"h2o-table\">\n",
       "    <caption></caption>\n",
       "    <thead></thead>\n",
       "    <tbody><tr><td>H2O_cluster_uptime:</td>\n",
       "<td>51 mins 51 secs</td></tr>\n",
       "<tr><td>H2O_cluster_timezone:</td>\n",
       "<td>Europe/Kiev</td></tr>\n",
       "<tr><td>H2O_data_parsing_timezone:</td>\n",
       "<td>UTC</td></tr>\n",
       "<tr><td>H2O_cluster_version:</td>\n",
       "<td>3.44.0.3</td></tr>\n",
       "<tr><td>H2O_cluster_version_age:</td>\n",
       "<td>1 month and 12 days</td></tr>\n",
       "<tr><td>H2O_cluster_name:</td>\n",
       "<td>H2O_from_python_redman_7t9g24</td></tr>\n",
       "<tr><td>H2O_cluster_total_nodes:</td>\n",
       "<td>1</td></tr>\n",
       "<tr><td>H2O_cluster_free_memory:</td>\n",
       "<td>11.28 Gb</td></tr>\n",
       "<tr><td>H2O_cluster_total_cores:</td>\n",
       "<td>14</td></tr>\n",
       "<tr><td>H2O_cluster_allowed_cores:</td>\n",
       "<td>14</td></tr>\n",
       "<tr><td>H2O_cluster_status:</td>\n",
       "<td>locked, healthy</td></tr>\n",
       "<tr><td>H2O_connection_url:</td>\n",
       "<td>http://localhost:54321</td></tr>\n",
       "<tr><td>H2O_connection_proxy:</td>\n",
       "<td>{\"http\": null, \"https\": null}</td></tr>\n",
       "<tr><td>H2O_internal_security:</td>\n",
       "<td>False</td></tr>\n",
       "<tr><td>Python_version:</td>\n",
       "<td>3.10.8 final</td></tr></tbody>\n",
       "  </table>\n",
       "</div>\n"
      ],
      "text/plain": [
       "--------------------------  -----------------------------\n",
       "H2O_cluster_uptime:         51 mins 51 secs\n",
       "H2O_cluster_timezone:       Europe/Kiev\n",
       "H2O_data_parsing_timezone:  UTC\n",
       "H2O_cluster_version:        3.44.0.3\n",
       "H2O_cluster_version_age:    1 month and 12 days\n",
       "H2O_cluster_name:           H2O_from_python_redman_7t9g24\n",
       "H2O_cluster_total_nodes:    1\n",
       "H2O_cluster_free_memory:    11.28 Gb\n",
       "H2O_cluster_total_cores:    14\n",
       "H2O_cluster_allowed_cores:  14\n",
       "H2O_cluster_status:         locked, healthy\n",
       "H2O_connection_url:         http://localhost:54321\n",
       "H2O_connection_proxy:       {\"http\": null, \"https\": null}\n",
       "H2O_internal_security:      False\n",
       "Python_version:             3.10.8 final\n",
       "--------------------------  -----------------------------"
      ]
     },
     "metadata": {},
     "output_type": "display_data"
    },
    {
     "name": "stdout",
     "output_type": "stream",
     "text": [
      "Parse progress: |████████████████████████████████████████████████████████████████| (done) 100%\n",
      "rulefit Model Build progress: |"
     ]
    },
    {
     "name": "stderr",
     "output_type": "stream",
     "text": [
      "/home/redman/mambaforge/lib/python3.10/site-packages/h2o/estimators/estimator_base.py:192: RuntimeWarning: Dropping bad and constant columns: [naHRing, nFaHRing, nFaRing]\n",
      "  warnings.warn(mesg[\"message\"], RuntimeWarning)\n"
     ]
    },
    {
     "name": "stdout",
     "output_type": "stream",
     "text": [
      "██████████████████████████████████████████████████| (done) 100%\n",
      "Rule Importance: \n",
      "    variable      coefficient    support    rule\n",
      "--  ------------  -------------  ---------  ------\n",
      "    linear.nN     0.884565       1\n",
      "    linear.PPSA5  -0.505554      1\n",
      "    linear.PNSA5  0.0554102      1\n",
      "    linear.C1     0.00408068     1\n",
      "rulefit prediction progress: |███████████████████████████████████████████████████| (done) 100%\n"
     ]
    },
    {
     "data": {
      "text/html": [
       "<table class='dataframe'>\n",
       "<thead>\n",
       "<tr><th style=\"text-align: right;\">  predict</th></tr>\n",
       "</thead>\n",
       "<tbody>\n",
       "<tr><td style=\"text-align: right;\">  5.26703</td></tr>\n",
       "<tr><td style=\"text-align: right;\">  3.59364</td></tr>\n",
       "<tr><td style=\"text-align: right;\">  4.72521</td></tr>\n",
       "<tr><td style=\"text-align: right;\">  2.78944</td></tr>\n",
       "<tr><td style=\"text-align: right;\">  3.70173</td></tr>\n",
       "<tr><td style=\"text-align: right;\">  4.84899</td></tr>\n",
       "<tr><td style=\"text-align: right;\">  8.03069</td></tr>\n",
       "<tr><td style=\"text-align: right;\"> 10.1567 </td></tr>\n",
       "<tr><td style=\"text-align: right;\"> 10.5375 </td></tr>\n",
       "<tr><td style=\"text-align: right;\">  7.18026</td></tr>\n",
       "</tbody>\n",
       "</table><pre style='font-size: smaller; margin-bottom: 1em;'>[29 rows x 1 column]</pre>"
      ],
      "text/plain": [
       "  predict\n",
       "---------\n",
       "  5.26703\n",
       "  3.59364\n",
       "  4.72521\n",
       "  2.78944\n",
       "  3.70173\n",
       "  4.84899\n",
       "  8.03069\n",
       " 10.1567\n",
       " 10.5375\n",
       "  7.18026\n",
       "[29 rows x 1 column]\n"
      ]
     },
     "execution_count": 17,
     "metadata": {},
     "output_type": "execute_result"
    }
   ],
   "source": [
    "import h2o\n",
    "h2o.init()\n",
    "from h2o.estimators import H2ORuleFitEstimator\n",
    "\n",
    "\n",
    "df_pKa = h2o.import_file(path = 'pKa_X_y.csv')\n",
    "# Split the dataset into train and test\n",
    "train, test = df_pKa.split_frame(ratios=[0.8], seed=1)\n",
    "\n",
    "\n",
    "x = df_pKa.columns.remove('pKa')\n",
    "y = 'pKa'\n",
    "\n",
    "rfit = H2ORuleFitEstimator(max_rule_length=10,\n",
    "                           max_num_rules=1000,\n",
    "                           seed=1)\n",
    "rfit.train(training_frame=train, x=x, y=y)\n",
    "\n",
    "# Retrieve the rule importance:\n",
    "print(rfit.rule_importance())\n",
    "\n",
    "# Predict on the test data:\n",
    "rfit.predict(test)"
   ]
  },
  {
   "cell_type": "code",
   "execution_count": 18,
   "metadata": {},
   "outputs": [
    {
     "data": {
      "text/html": [
       "<pre style='margin: 1em 0 1em 0;'>ModelMetricsRegressionGLM: rulefit\n",
       "** Reported on test data. **\n",
       "\n",
       "MSE: 0.9570402315335573\n",
       "RMSE: 0.9782843306184339\n",
       "MAE: 0.8374394158289553\n",
       "RMSLE: 0.11657423396762931\n",
       "Mean Residual Deviance: 0.9570402315335573\n",
       "R^2: 0.8532319326750115\n",
       "Null degrees of freedom: 28\n",
       "Residual degrees of freedom: 24\n",
       "Null deviance: 194.38645093106794\n",
       "Residual deviance: 27.75416671447316\n",
       "AIC: 93.02504929928017</pre>"
      ],
      "text/plain": [
       "ModelMetricsRegressionGLM: rulefit\n",
       "** Reported on test data. **\n",
       "\n",
       "MSE: 0.9570402315335573\n",
       "RMSE: 0.9782843306184339\n",
       "MAE: 0.8374394158289553\n",
       "RMSLE: 0.11657423396762931\n",
       "Mean Residual Deviance: 0.9570402315335573\n",
       "R^2: 0.8532319326750115\n",
       "Null degrees of freedom: 28\n",
       "Residual degrees of freedom: 24\n",
       "Null deviance: 194.38645093106794\n",
       "Residual deviance: 27.75416671447316\n",
       "AIC: 93.02504929928017"
      ]
     },
     "execution_count": 18,
     "metadata": {},
     "output_type": "execute_result"
    }
   ],
   "source": [
    "perf = rfit.model_performance(test)\n",
    "perf"
   ]
  },
  {
   "cell_type": "markdown",
   "metadata": {},
   "source": [
    "LogP rules only"
   ]
  },
  {
   "cell_type": "code",
   "execution_count": 15,
   "metadata": {},
   "outputs": [
    {
     "name": "stdout",
     "output_type": "stream",
     "text": [
      "Checking whether there is an H2O instance running at http://localhost:54321. connected.\n"
     ]
    },
    {
     "data": {
      "text/html": [
       "\n",
       "<style>\n",
       "\n",
       "#h2o-table-10.h2o-container {\n",
       "  overflow-x: auto;\n",
       "}\n",
       "#h2o-table-10 .h2o-table {\n",
       "  /* width: 100%; */\n",
       "  margin-top: 1em;\n",
       "  margin-bottom: 1em;\n",
       "}\n",
       "#h2o-table-10 .h2o-table caption {\n",
       "  white-space: nowrap;\n",
       "  caption-side: top;\n",
       "  text-align: left;\n",
       "  /* margin-left: 1em; */\n",
       "  margin: 0;\n",
       "  font-size: larger;\n",
       "}\n",
       "#h2o-table-10 .h2o-table thead {\n",
       "  white-space: nowrap; \n",
       "  position: sticky;\n",
       "  top: 0;\n",
       "  box-shadow: 0 -1px inset;\n",
       "}\n",
       "#h2o-table-10 .h2o-table tbody {\n",
       "  overflow: auto;\n",
       "}\n",
       "#h2o-table-10 .h2o-table th,\n",
       "#h2o-table-10 .h2o-table td {\n",
       "  text-align: right;\n",
       "  /* border: 1px solid; */\n",
       "}\n",
       "#h2o-table-10 .h2o-table tr:nth-child(even) {\n",
       "  /* background: #F5F5F5 */\n",
       "}\n",
       "\n",
       "</style>      \n",
       "<div id=\"h2o-table-10\" class=\"h2o-container\">\n",
       "  <table class=\"h2o-table\">\n",
       "    <caption></caption>\n",
       "    <thead></thead>\n",
       "    <tbody><tr><td>H2O_cluster_uptime:</td>\n",
       "<td>51 mins 15 secs</td></tr>\n",
       "<tr><td>H2O_cluster_timezone:</td>\n",
       "<td>Europe/Kiev</td></tr>\n",
       "<tr><td>H2O_data_parsing_timezone:</td>\n",
       "<td>UTC</td></tr>\n",
       "<tr><td>H2O_cluster_version:</td>\n",
       "<td>3.44.0.3</td></tr>\n",
       "<tr><td>H2O_cluster_version_age:</td>\n",
       "<td>1 month and 12 days</td></tr>\n",
       "<tr><td>H2O_cluster_name:</td>\n",
       "<td>H2O_from_python_redman_7t9g24</td></tr>\n",
       "<tr><td>H2O_cluster_total_nodes:</td>\n",
       "<td>1</td></tr>\n",
       "<tr><td>H2O_cluster_free_memory:</td>\n",
       "<td>11.30 Gb</td></tr>\n",
       "<tr><td>H2O_cluster_total_cores:</td>\n",
       "<td>14</td></tr>\n",
       "<tr><td>H2O_cluster_allowed_cores:</td>\n",
       "<td>14</td></tr>\n",
       "<tr><td>H2O_cluster_status:</td>\n",
       "<td>locked, healthy</td></tr>\n",
       "<tr><td>H2O_connection_url:</td>\n",
       "<td>http://localhost:54321</td></tr>\n",
       "<tr><td>H2O_connection_proxy:</td>\n",
       "<td>{\"http\": null, \"https\": null}</td></tr>\n",
       "<tr><td>H2O_internal_security:</td>\n",
       "<td>False</td></tr>\n",
       "<tr><td>Python_version:</td>\n",
       "<td>3.10.8 final</td></tr></tbody>\n",
       "  </table>\n",
       "</div>\n"
      ],
      "text/plain": [
       "--------------------------  -----------------------------\n",
       "H2O_cluster_uptime:         51 mins 15 secs\n",
       "H2O_cluster_timezone:       Europe/Kiev\n",
       "H2O_data_parsing_timezone:  UTC\n",
       "H2O_cluster_version:        3.44.0.3\n",
       "H2O_cluster_version_age:    1 month and 12 days\n",
       "H2O_cluster_name:           H2O_from_python_redman_7t9g24\n",
       "H2O_cluster_total_nodes:    1\n",
       "H2O_cluster_free_memory:    11.30 Gb\n",
       "H2O_cluster_total_cores:    14\n",
       "H2O_cluster_allowed_cores:  14\n",
       "H2O_cluster_status:         locked, healthy\n",
       "H2O_connection_url:         http://localhost:54321\n",
       "H2O_connection_proxy:       {\"http\": null, \"https\": null}\n",
       "H2O_internal_security:      False\n",
       "Python_version:             3.10.8 final\n",
       "--------------------------  -----------------------------"
      ]
     },
     "metadata": {},
     "output_type": "display_data"
    },
    {
     "name": "stdout",
     "output_type": "stream",
     "text": [
      "Parse progress: |████████████████████████████████████████████████████████████████| (done) 100%\n",
      "rulefit Model Build progress: |"
     ]
    },
    {
     "name": "stderr",
     "output_type": "stream",
     "text": [
      "/home/redman/mambaforge/lib/python3.10/site-packages/h2o/estimators/estimator_base.py:192: RuntimeWarning: Dropping bad and constant columns: [nN, naHRing, nFaHRing, nFaRing]\n",
      "  warnings.warn(mesg[\"message\"], RuntimeWarning)\n"
     ]
    },
    {
     "name": "stdout",
     "output_type": "stream",
     "text": [
      "██████████████████████████████████████████████████| (done) 100%\n",
      "Rule Importance: \n",
      "     variable    coefficient             support               rule\n",
      "---  ----------  ----------------------  --------------------  -------------------------------------------------------------------------------------------------------------------------------------------------------------------------------------------------------------------------------------------------------------------------------------------------------------------------------------\n",
      "     M0T4N17     -0.29786428839619405    0.37583892617449666   (GeomShapeIndex < 0.8585526347160339 or GeomShapeIndex is NA) & (TASA < 374.28955078125 or TASA is NA) & (identificator >= 0.5 or identificator is NA)\n",
      "     M0T9N13     0.2606621050424726      0.6241610738255033    (FPSA3 < 0.03330299258232117 or FPSA3 is NA) & (nO < 2.5 or nO is NA) & (tpsa+f < 82.57411193847656 or tpsa+f is NA)\n",
      "     M1T47N30    0.13026221096459026     0.21476510067114093   (FPSA3 < 0.03330299258232117 or FPSA3 is NA) & (mol_volume >= 200.47982788085938 or mol_volume is NA) & (mol_volume < 240.97962951660156 or mol_volume is NA) & (nHRing < 0.5 or nHRing is NA)\n",
      "     M0T37N20    0.12536540163657603     0.19463087248322147   (GeomShapeIndex >= 0.8310201168060303 or GeomShapeIndex is NA) & (TASA >= 349.21856689453125) & (nFHRing < 0.5 or nFHRing is NA)\n",
      "     M0T46N18    -0.12202080832878341    0.24161073825503357   (FPSA3 >= 0.028883038088679314 or FPSA3 is NA) & (GeomShapeIndex < 0.8585526347160339 or GeomShapeIndex is NA) & (nAHRing >= 0.5 or nAHRing is NA)\n",
      "     M3T4N86     -0.10930786064134936    0.22818791946308725   (C1 < 146.5 or C1 is NA) & (GeomShapeIndex < 0.8585526347160339 or GeomShapeIndex is NA) & (TASA < 374.28955078125 or TASA is NA) & (angle_X2X1R1 >= 147.25692749023438 or angle_X2X1R1 is NA) & (identificator >= 0.5 or identificator is NA) & (mol_weight < 204.09117126464844 or mol_weight is NA)\n",
      "     M1T46N44    0.10343489196099466     0.15436241610738255   (GeomShapeIndex >= 0.8585526347160339) & (TASA >= 339.51959228515625 or TASA is NA) & (WPSA5 >= 6.2134575843811035 or WPSA5 is NA) & (nFRing < 0.5 or nFRing is NA)\n",
      "     M1T8N36     -0.10274974056616072    0.026845637583892617  (C1 >= 70.5 or C1 is NA) & (GeomShapeIndex < 0.8600899577140808 or GeomShapeIndex is NA) & (TASA < 384.1715393066406 or TASA is NA) & (nAHRing >= 1.5)\n",
      "     M4T4N118    -0.09473954116935883    0.11409395973154363   (C1 < 146.5 or C1 is NA) & (GeomShapeIndex < 0.8585526347160339 or GeomShapeIndex is NA) & (RPCS >= 30.345504760742188) & (TASA < 374.28955078125 or TASA is NA) & (angle_X2X1R1 >= 147.25692749023438 or angle_X2X1R1 is NA) & (identificator >= 0.5 or identificator is NA) & (mol_weight < 204.09117126464844 or mol_weight is NA)\n",
      "     M2T42N45    0.08558341586970883     0.1476510067114094    (FPSA3 < 0.03330299258232117 or FPSA3 is NA) & (PBF >= 0.4759216904640198 or PBF is NA) & (identificator < 0.5) & (nC >= 11.5 or nC is NA) & (nO < 2.5 or nO is NA)\n",
      "---  ---         ---                     ---                   ---\n",
      "     M0T49N19    -0.01739092450774256    0.1342281879194631    (FPSA3 >= 0.03330299258232117) & (PPSA5 < 16.664323806762695 or PPSA5 is NA) & (TASA < 322.3175964355469 or TASA is NA)\n",
      "     M0T22N21    0.015626790328771845    0.10067114093959731   (GeomShapeIndex >= 0.8743453621864319) & (TASA >= 349.21856689453125) & (WPSA5 < 7.423942565917969 or WPSA5 is NA)\n",
      "     M2T40N53    -0.014693716104858675   0.22818791946308725   (C1 >= 70.5 or C1 is NA) & (TASA < 333.49822998046875 or TASA is NA) & (dipole_moment < 0.7515244483947754 or dipole_moment is NA) & (mol_volume < 197.10838317871094 or mol_volume is NA) & (nAHRing < 1.5 or nAHRing is NA)\n",
      "     M0T16N17    0.008727172844766524    0.2751677852348993    (GeomShapeIndex < 0.8585526347160339 or GeomShapeIndex is NA) & (WPSA5 >= 6.4504499435424805 or WPSA5 is NA) & (nO < 1.5 or nO is NA)\n",
      "     M0T2N17     -0.006777882607443866   0.026845637583892617  (C1 >= 78.5 or C1 is NA) & (GeomShapeIndex < 0.8585526347160339 or GeomShapeIndex is NA) & (nHRing >= 1.5)\n",
      "     M0T28N22    0.006270583110027891    0.21476510067114093   (GeomShapeIndex >= 0.8585526347160339) & (TASA >= 314.99761962890625 or TASA is NA) & (mol_volume >= 200.6500701904297)\n",
      "     M0T25N17    -0.0034419024084898307  0.24161073825503357   (FPSA3 >= 0.028830524533987045 or FPSA3 is NA) & (GeomShapeIndex < 0.8585526347160339 or GeomShapeIndex is NA) & (nAHRing >= 0.5)\n",
      "     M1T40N30    -0.0021991783207484026  0.2483221476510067    (C1 >= 70.5 or C1 is NA) & (TASA < 333.49822998046875 or TASA is NA) & (mol_volume < 197.10838317871094 or mol_volume is NA) & (nAHRing < 1.5 or nAHRing is NA)\n",
      "     M0T1N19     0.0014814414152244785   0.10067114093959731   (C1 < 44.5) & (TASA >= 349.21856689453125) & (nHRing < 1.5 or nHRing is NA)\n",
      "     M0T16N18    -0.0009202758177883448  0.026845637583892617  (GeomShapeIndex < 0.8585526347160339 or GeomShapeIndex is NA) & (WPSA5 >= 6.4504499435424805 or WPSA5 is NA) & (nO >= 1.5)\n",
      "[25 rows x 5 columns]\n",
      "\n",
      "rulefit prediction progress: |███████████████████████████████████████████████████| (done) 100%\n"
     ]
    },
    {
     "data": {
      "text/html": [
       "<table class='dataframe'>\n",
       "<thead>\n",
       "<tr><th style=\"text-align: right;\">  predict</th></tr>\n",
       "</thead>\n",
       "<tbody>\n",
       "<tr><td style=\"text-align: right;\">  2.55934</td></tr>\n",
       "<tr><td style=\"text-align: right;\">  2.6827 </td></tr>\n",
       "<tr><td style=\"text-align: right;\">  2.36888</td></tr>\n",
       "<tr><td style=\"text-align: right;\">  1.99768</td></tr>\n",
       "<tr><td style=\"text-align: right;\">  1.99141</td></tr>\n",
       "<tr><td style=\"text-align: right;\">  2.16205</td></tr>\n",
       "<tr><td style=\"text-align: right;\">  2.38234</td></tr>\n",
       "<tr><td style=\"text-align: right;\">  1.22143</td></tr>\n",
       "<tr><td style=\"text-align: right;\">  1.71944</td></tr>\n",
       "<tr><td style=\"text-align: right;\">  2.2608 </td></tr>\n",
       "</tbody>\n",
       "</table><pre style='font-size: smaller; margin-bottom: 1em;'>[29 rows x 1 column]</pre>"
      ],
      "text/plain": [
       "  predict\n",
       "---------\n",
       "  2.55934\n",
       "  2.6827\n",
       "  2.36888\n",
       "  1.99768\n",
       "  1.99141\n",
       "  2.16205\n",
       "  2.38234\n",
       "  1.22143\n",
       "  1.71944\n",
       "  2.2608\n",
       "[29 rows x 1 column]\n"
      ]
     },
     "execution_count": 15,
     "metadata": {},
     "output_type": "execute_result"
    }
   ],
   "source": [
    "import h2o\n",
    "h2o.init()\n",
    "from h2o.estimators import H2ORuleFitEstimator\n",
    "\n",
    "\n",
    "df_logP = h2o.import_file(path = 'logP_X_y.csv')\n",
    "# Split the dataset into train and test\n",
    "train, test = df_logP.split_frame(ratios=[0.8], seed=1)\n",
    "\n",
    "\n",
    "x = df_logP.columns.remove('logP')\n",
    "y = 'logP'\n",
    "\n",
    "rfit = H2ORuleFitEstimator(max_rule_length=10,\n",
    "                           max_num_rules=1000,\n",
    "                           seed=1, model_type='rules')\n",
    "rfit.train(training_frame=train, x=x, y=y)\n",
    "\n",
    "# Retrieve the rule importance:\n",
    "print(rfit.rule_importance())\n",
    "\n",
    "# Predict on the test data:\n",
    "rfit.predict(test)"
   ]
  },
  {
   "cell_type": "code",
   "execution_count": 16,
   "metadata": {},
   "outputs": [
    {
     "data": {
      "text/html": [
       "<pre style='margin: 1em 0 1em 0;'>ModelMetricsRegressionGLM: rulefit\n",
       "** Reported on test data. **\n",
       "\n",
       "MSE: 0.07662447634735363\n",
       "RMSE: 0.276811264849091\n",
       "MAE: 0.2256561668882973\n",
       "RMSLE: 0.0929071998546102\n",
       "Mean Residual Deviance: 0.07662447634735363\n",
       "R^2: 0.6760906321588926\n",
       "Null degrees of freedom: 28\n",
       "Residual degrees of freedom: 3\n",
       "Null deviance: 7.330606470270187\n",
       "Residual deviance: 2.222109814073255\n",
       "AIC: 61.80211208313212</pre>"
      ],
      "text/plain": [
       "ModelMetricsRegressionGLM: rulefit\n",
       "** Reported on test data. **\n",
       "\n",
       "MSE: 0.07662447634735363\n",
       "RMSE: 0.276811264849091\n",
       "MAE: 0.2256561668882973\n",
       "RMSLE: 0.0929071998546102\n",
       "Mean Residual Deviance: 0.07662447634735363\n",
       "R^2: 0.6760906321588926\n",
       "Null degrees of freedom: 28\n",
       "Residual degrees of freedom: 3\n",
       "Null deviance: 7.330606470270187\n",
       "Residual deviance: 2.222109814073255\n",
       "AIC: 61.80211208313212"
      ]
     },
     "execution_count": 16,
     "metadata": {},
     "output_type": "execute_result"
    }
   ],
   "source": [
    "perf = rfit.model_performance(test)\n",
    "perf"
   ]
  },
  {
   "cell_type": "markdown",
   "metadata": {},
   "source": [
    "LogP rules and linear features"
   ]
  },
  {
   "cell_type": "code",
   "execution_count": 13,
   "metadata": {},
   "outputs": [
    {
     "name": "stdout",
     "output_type": "stream",
     "text": [
      "Checking whether there is an H2O instance running at http://localhost:54321. connected.\n"
     ]
    },
    {
     "data": {
      "text/html": [
       "\n",
       "<style>\n",
       "\n",
       "#h2o-table-9.h2o-container {\n",
       "  overflow-x: auto;\n",
       "}\n",
       "#h2o-table-9 .h2o-table {\n",
       "  /* width: 100%; */\n",
       "  margin-top: 1em;\n",
       "  margin-bottom: 1em;\n",
       "}\n",
       "#h2o-table-9 .h2o-table caption {\n",
       "  white-space: nowrap;\n",
       "  caption-side: top;\n",
       "  text-align: left;\n",
       "  /* margin-left: 1em; */\n",
       "  margin: 0;\n",
       "  font-size: larger;\n",
       "}\n",
       "#h2o-table-9 .h2o-table thead {\n",
       "  white-space: nowrap; \n",
       "  position: sticky;\n",
       "  top: 0;\n",
       "  box-shadow: 0 -1px inset;\n",
       "}\n",
       "#h2o-table-9 .h2o-table tbody {\n",
       "  overflow: auto;\n",
       "}\n",
       "#h2o-table-9 .h2o-table th,\n",
       "#h2o-table-9 .h2o-table td {\n",
       "  text-align: right;\n",
       "  /* border: 1px solid; */\n",
       "}\n",
       "#h2o-table-9 .h2o-table tr:nth-child(even) {\n",
       "  /* background: #F5F5F5 */\n",
       "}\n",
       "\n",
       "</style>      \n",
       "<div id=\"h2o-table-9\" class=\"h2o-container\">\n",
       "  <table class=\"h2o-table\">\n",
       "    <caption></caption>\n",
       "    <thead></thead>\n",
       "    <tbody><tr><td>H2O_cluster_uptime:</td>\n",
       "<td>46 mins 59 secs</td></tr>\n",
       "<tr><td>H2O_cluster_timezone:</td>\n",
       "<td>Europe/Kiev</td></tr>\n",
       "<tr><td>H2O_data_parsing_timezone:</td>\n",
       "<td>UTC</td></tr>\n",
       "<tr><td>H2O_cluster_version:</td>\n",
       "<td>3.44.0.3</td></tr>\n",
       "<tr><td>H2O_cluster_version_age:</td>\n",
       "<td>1 month and 12 days</td></tr>\n",
       "<tr><td>H2O_cluster_name:</td>\n",
       "<td>H2O_from_python_redman_7t9g24</td></tr>\n",
       "<tr><td>H2O_cluster_total_nodes:</td>\n",
       "<td>1</td></tr>\n",
       "<tr><td>H2O_cluster_free_memory:</td>\n",
       "<td>11.32 Gb</td></tr>\n",
       "<tr><td>H2O_cluster_total_cores:</td>\n",
       "<td>14</td></tr>\n",
       "<tr><td>H2O_cluster_allowed_cores:</td>\n",
       "<td>14</td></tr>\n",
       "<tr><td>H2O_cluster_status:</td>\n",
       "<td>locked, healthy</td></tr>\n",
       "<tr><td>H2O_connection_url:</td>\n",
       "<td>http://localhost:54321</td></tr>\n",
       "<tr><td>H2O_connection_proxy:</td>\n",
       "<td>{\"http\": null, \"https\": null}</td></tr>\n",
       "<tr><td>H2O_internal_security:</td>\n",
       "<td>False</td></tr>\n",
       "<tr><td>Python_version:</td>\n",
       "<td>3.10.8 final</td></tr></tbody>\n",
       "  </table>\n",
       "</div>\n"
      ],
      "text/plain": [
       "--------------------------  -----------------------------\n",
       "H2O_cluster_uptime:         46 mins 59 secs\n",
       "H2O_cluster_timezone:       Europe/Kiev\n",
       "H2O_data_parsing_timezone:  UTC\n",
       "H2O_cluster_version:        3.44.0.3\n",
       "H2O_cluster_version_age:    1 month and 12 days\n",
       "H2O_cluster_name:           H2O_from_python_redman_7t9g24\n",
       "H2O_cluster_total_nodes:    1\n",
       "H2O_cluster_free_memory:    11.32 Gb\n",
       "H2O_cluster_total_cores:    14\n",
       "H2O_cluster_allowed_cores:  14\n",
       "H2O_cluster_status:         locked, healthy\n",
       "H2O_connection_url:         http://localhost:54321\n",
       "H2O_connection_proxy:       {\"http\": null, \"https\": null}\n",
       "H2O_internal_security:      False\n",
       "Python_version:             3.10.8 final\n",
       "--------------------------  -----------------------------"
      ]
     },
     "metadata": {},
     "output_type": "display_data"
    },
    {
     "name": "stdout",
     "output_type": "stream",
     "text": [
      "Parse progress: |████████████████████████████████████████████████████████████████| (done) 100%\n",
      "rulefit Model Build progress: |"
     ]
    },
    {
     "name": "stderr",
     "output_type": "stream",
     "text": [
      "/home/redman/mambaforge/lib/python3.10/site-packages/h2o/estimators/estimator_base.py:192: RuntimeWarning: Dropping bad and constant columns: [nN, naHRing, nFaHRing, nFaRing]\n",
      "  warnings.warn(mesg[\"message\"], RuntimeWarning)\n"
     ]
    },
    {
     "name": "stdout",
     "output_type": "stream",
     "text": [
      "██████████████████████████████████████████████████| (done) 100%\n",
      "Rule Importance: \n",
      "    variable               coefficient    support    rule\n",
      "--  ---------------------  -------------  ---------  --------------------------------------------------------------------------------------------------------------------------------------\n",
      "    linear.FPSA3           -23.304        1\n",
      "    linear.nO              -0.834451      1\n",
      "    linear.GeomShapeIndex  0.568032       1\n",
      "    linear.identificator   -0.299393      1\n",
      "    linear.nC              0.0917809      1\n",
      "    linear.WPSA5           0.0845096      1\n",
      "    linear.f_to_fg         -0.0317485     1\n",
      "    M0T43N14               -0.023247      0.348993   (TASA < 349.21856689453125 or TASA is NA) & (nO < 2.5 or nO is NA) & (tpsa+f < 55.65589141845703)\n",
      "    M0T0N16                0.0136714      0.402685   (FPSA3 < 0.03330299258232117 or FPSA3 is NA) & (GeomShapeIndex >= 0.8354923725128174 or GeomShapeIndex is NA) & (nO < 2.5 or nO is NA)\n",
      "    linear.nAHRing         -0.0050201     1\n",
      "    linear.TASA            0.00364942     1\n",
      "    linear.RPCS            -0.00249647    1\n",
      "rulefit prediction progress: |███████████████████████████████████████████████████| (done) 100%\n"
     ]
    },
    {
     "data": {
      "text/html": [
       "<table class='dataframe'>\n",
       "<thead>\n",
       "<tr><th style=\"text-align: right;\">  predict</th></tr>\n",
       "</thead>\n",
       "<tbody>\n",
       "<tr><td style=\"text-align: right;\">  2.74357</td></tr>\n",
       "<tr><td style=\"text-align: right;\">  2.91318</td></tr>\n",
       "<tr><td style=\"text-align: right;\">  2.33828</td></tr>\n",
       "<tr><td style=\"text-align: right;\">  2.11438</td></tr>\n",
       "<tr><td style=\"text-align: right;\">  1.54597</td></tr>\n",
       "<tr><td style=\"text-align: right;\">  2.44944</td></tr>\n",
       "<tr><td style=\"text-align: right;\">  2.22024</td></tr>\n",
       "<tr><td style=\"text-align: right;\">  1.40766</td></tr>\n",
       "<tr><td style=\"text-align: right;\">  1.82472</td></tr>\n",
       "<tr><td style=\"text-align: right;\">  2.67512</td></tr>\n",
       "</tbody>\n",
       "</table><pre style='font-size: smaller; margin-bottom: 1em;'>[29 rows x 1 column]</pre>"
      ],
      "text/plain": [
       "  predict\n",
       "---------\n",
       "  2.74357\n",
       "  2.91318\n",
       "  2.33828\n",
       "  2.11438\n",
       "  1.54597\n",
       "  2.44944\n",
       "  2.22024\n",
       "  1.40766\n",
       "  1.82472\n",
       "  2.67512\n",
       "[29 rows x 1 column]\n"
      ]
     },
     "execution_count": 13,
     "metadata": {},
     "output_type": "execute_result"
    }
   ],
   "source": [
    "import h2o\n",
    "h2o.init()\n",
    "from h2o.estimators import H2ORuleFitEstimator\n",
    "\n",
    "\n",
    "df_logP = h2o.import_file(path = 'logP_X_y.csv')\n",
    "# Split the dataset into train and test\n",
    "train, test = df_logP.split_frame(ratios=[0.8], seed=1)\n",
    "\n",
    "\n",
    "x = df_logP.columns.remove('logP')\n",
    "y = 'logP'\n",
    "\n",
    "rfit = H2ORuleFitEstimator(max_rule_length=10,\n",
    "                           max_num_rules=1000,\n",
    "                           seed=1)\n",
    "rfit.train(training_frame=train, x=x, y=y)\n",
    "\n",
    "# Retrieve the rule importance:\n",
    "print(rfit.rule_importance())\n",
    "\n",
    "# Predict on the test data:\n",
    "rfit.predict(test)"
   ]
  },
  {
   "cell_type": "code",
   "execution_count": 14,
   "metadata": {},
   "outputs": [
    {
     "data": {
      "text/html": [
       "<pre style='margin: 1em 0 1em 0;'>ModelMetricsRegressionGLM: rulefit\n",
       "** Reported on test data. **\n",
       "\n",
       "MSE: 0.032950075993346185\n",
       "RMSE: 0.1815215579300326\n",
       "MAE: 0.13733457337749594\n",
       "RMSLE: 0.06074483931813512\n",
       "Mean Residual Deviance: 0.032950075993346185\n",
       "R^2: 0.8607124146997213\n",
       "Null degrees of freedom: 28\n",
       "Residual degrees of freedom: 16\n",
       "Null deviance: 7.330606470270187\n",
       "Residual deviance: 0.9555522038070394\n",
       "AIC: 11.328345286188824</pre>"
      ],
      "text/plain": [
       "ModelMetricsRegressionGLM: rulefit\n",
       "** Reported on test data. **\n",
       "\n",
       "MSE: 0.032950075993346185\n",
       "RMSE: 0.1815215579300326\n",
       "MAE: 0.13733457337749594\n",
       "RMSLE: 0.06074483931813512\n",
       "Mean Residual Deviance: 0.032950075993346185\n",
       "R^2: 0.8607124146997213\n",
       "Null degrees of freedom: 28\n",
       "Residual degrees of freedom: 16\n",
       "Null deviance: 7.330606470270187\n",
       "Residual deviance: 0.9555522038070394\n",
       "AIC: 11.328345286188824"
      ]
     },
     "execution_count": 14,
     "metadata": {},
     "output_type": "execute_result"
    }
   ],
   "source": [
    "perf = rfit.model_performance(test)\n",
    "perf"
   ]
  },
  {
   "cell_type": "code",
   "execution_count": 4,
   "metadata": {},
   "outputs": [
    {
     "name": "stdout",
     "output_type": "stream",
     "text": [
      "Parse progress: |████████████████████████████████████████████████████████████████| (done) 100%\n"
     ]
    }
   ],
   "source": [
    "df_pKa = h2o.import_file(path = 'pKa_X_y.csv')\n",
    "x = df_pKa.columns.remove('pKa')\n",
    "y = 'pKa'\n"
   ]
  }
 ],
 "metadata": {
  "kernelspec": {
   "display_name": "Python 3",
   "language": "python",
   "name": "python3"
  },
  "language_info": {
   "codemirror_mode": {
    "name": "ipython",
    "version": 3
   },
   "file_extension": ".py",
   "mimetype": "text/x-python",
   "name": "python",
   "nbconvert_exporter": "python",
   "pygments_lexer": "ipython3",
   "version": "3.10.8"
  }
 },
 "nbformat": 4,
 "nbformat_minor": 2
}
