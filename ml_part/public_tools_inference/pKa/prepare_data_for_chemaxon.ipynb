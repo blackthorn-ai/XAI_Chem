{
 "cells": [
  {
   "cell_type": "code",
   "execution_count": 12,
   "metadata": {},
   "outputs": [],
   "source": [
    "from sklearn.metrics import mean_absolute_error\n",
    "from sklearn.metrics import mean_squared_error\n",
    "from sklearn.metrics import r2_score\n",
    "from math import sqrt\n",
    "\n",
    "def calculate_metrics(true_values, pred_values):\n",
    "    mse = round(mean_squared_error(true_values, pred_values),3)\n",
    "    mae = round(mean_absolute_error(true_values, pred_values),3)\n",
    "    r_score = round(r2_score(true_values, pred_values),3)\n",
    "\n",
    "    return {\"mse\": mse,\n",
    "            \"mae\": mae,\n",
    "            \"r^2\": r_score,}"
   ]
  },
  {
   "cell_type": "code",
   "execution_count": 6,
   "metadata": {},
   "outputs": [],
   "source": [
    "import pandas as pd\n",
    "\n",
    "test_acid = r'C:\\work\\DrugDiscovery\\main_git\\XAI_Chem\\data\\pKa_basicity_data\\gnn_cv_canon_smiles\\test_acid.csv'\n",
    "test_basic = r'C:\\work\\DrugDiscovery\\main_git\\XAI_Chem\\data\\pKa_basicity_data\\gnn_cv_canon_smiles\\test_basic.csv'\n",
    "\n",
    "test_acid_df = pd.read_csv(test_acid, index_col=0)\n",
    "test_basic_df = pd.read_csv(test_basic, index_col=0)\n",
    "\n",
    "test_df = pd.concat([test_acid_df, test_basic_df], axis=0)"
   ]
  },
  {
   "cell_type": "code",
   "execution_count": 18,
   "metadata": {},
   "outputs": [
    {
     "name": "stdout",
     "output_type": "stream",
     "text": [
      "O=C(O)C1CC12CC2(F)F 3.85\n",
      "O=C(O)C12CC(CO1)C2 3.59\n",
      "O=C(O)C1CCCC(F)(F)C1 4.18\n",
      "O=C(O)[C@@H]1C[C@@H]2C[C@@H]2C1 4.24\n",
      "O=C(O)C1CC2(CC(F)C2)C1 4.39\n",
      "O=C(O)C1CC12CC2 4.61\n",
      "O=C(O)CCCC(F)F 4.38\n",
      "FC(F)(F)C12CCC(CN1)C2 6.23\n",
      "FC(F)(F)C1CCCN1 6.06\n",
      "FC(F)(F)C1CCCCN1 6.41\n",
      "NC1CC12CC2(F)F 7.44\n",
      "NC1CCCC1(F)F 7.54\n",
      "FC1(F)CCNCC1 7.75\n",
      "FC1(F)C2CCC1CNC2 7.69\n",
      "NC1CCC(F)(F)C1 8.83\n",
      "FC1CNC1 8.55\n",
      "N[C@@H]1CC[C@H]1C(F)F 8.98\n",
      "C[C@@H]1C[C@@H]1N 9.15\n",
      "FCC1CCCCN1 9.52\n",
      "FCC1CCCN1 9.55\n",
      "FCC1CCN1 9.67\n",
      "NC1CC2(C1)CC(F)C2 9.81\n",
      "FC(F)(F)C1CCNCC1 9.6\n",
      "CCCCN 10.5\n",
      "CC12CCC(CC1)CN2 11.27\n",
      "CC12CCCC(CN1)C2 10.99\n"
     ]
    }
   ],
   "source": [
    "for index, row in test_df.iterrows():\n",
    "    SMILES = row['Smiles']\n",
    "    print(SMILES, row['pKa'])"
   ]
  },
  {
   "cell_type": "code",
   "execution_count": 19,
   "metadata": {},
   "outputs": [],
   "source": [
    "predicted_using_chemaxon = {\n",
    "    \"O=C(O)C1CC12CC2(F)F\": 3.12,\n",
    "    \"O=C(O)C12CC(CO1)C2\": 3.66,\n",
    "    \"O=C(O)C1CCCC(F)(F)C1\": 3.55,\n",
    "    \"O=C(O)[C@@H]1C[C@@H]2C[C@@H]2C1\": 4.54,\n",
    "    \"O=C(O)C1CC2(CC(F)C2)C1\": 4.08,\n",
    "    \"O=C(O)C1CC12CC2\": 4.4,\n",
    "    \"O=C(O)CCCC(F)F\": 3.44,\n",
    "    \"FC(F)(F)C12CCC(CN1)C2\": 5.27,\n",
    "    \"FC(F)(F)C1CCCN1\": 5.27,\n",
    "    \"FC(F)(F)C1CCCCN1\": 5.36,\n",
    "    \"NC1CC12CC2(F)F\": 7.58,\n",
    "    \"NC1CCCC1(F)F\": 7.51,\n",
    "    \"FC1(F)CCNCC1\": 8.68,\n",
    "    \"FC1(F)C2CCC1CNC2\": 8.9,\n",
    "    \"NC1CCC(F)(F)C1\": 8.67,\n",
    "    \"FC1CNC1\": 7.05,\n",
    "    \"N[C@@H]1CC[C@H]1C(F)F\": 8.5,\n",
    "    \"C[C@@H]1C[C@@H]1N\": 9.36,\n",
    "    \"FCC1CCCCN1\": 8.88,\n",
    "    \"FCC1CCCN1\": 8.83,\n",
    "    \"FCC1CCN1\": 8.15,\n",
    "    \"NC1CC2(C1)CC(F)C2\": 10.21,\n",
    "    \"FC(F)(F)C1CCNCC1\": 10.93,\n",
    "    \"CCCCN\": 10.21,\n",
    "    \"CC12CCC(CC1)CN2\": 10.78,\n",
    "    \"CC12CCCC(CN1)C2\": 11.24\n",
    "}"
   ]
  },
  {
   "cell_type": "code",
   "execution_count": 22,
   "metadata": {},
   "outputs": [
    {
     "data": {
      "text/plain": [
       "{'mse': 0.583, 'mae': 0.627, 'r^2': 0.898}"
      ]
     },
     "execution_count": 22,
     "metadata": {},
     "output_type": "execute_result"
    }
   ],
   "source": [
    "predicted_values = list(predicted_using_chemaxon.values())\n",
    "true_values = test_df['pKa'].tolist()\n",
    "\n",
    "calculate_metrics(true_values=true_values,\n",
    "                  pred_values=predicted_values)"
   ]
  }
 ],
 "metadata": {
  "kernelspec": {
   "display_name": "drug-discovery-venv",
   "language": "python",
   "name": "python3"
  },
  "language_info": {
   "codemirror_mode": {
    "name": "ipython",
    "version": 3
   },
   "file_extension": ".py",
   "mimetype": "text/x-python",
   "name": "python",
   "nbconvert_exporter": "python",
   "pygments_lexer": "ipython3",
   "version": "3.11.9"
  }
 },
 "nbformat": 4,
 "nbformat_minor": 2
}
