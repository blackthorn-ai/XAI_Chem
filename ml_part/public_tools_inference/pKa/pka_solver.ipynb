{
 "cells": [
  {
   "cell_type": "code",
   "execution_count": 5,
   "metadata": {},
   "outputs": [],
   "source": [
    "import pandas as pd\n",
    "\n",
    "test_csv_path = r'C:\\work\\DrugDiscovery\\main_git\\XAI_Chem\\data\\pKa_basicity_data\\gnn_cv\\test.csv'\n",
    "\n",
    "df_test = pd.read_csv(test_csv_path, index_col=0)"
   ]
  },
  {
   "cell_type": "code",
   "execution_count": 8,
   "metadata": {},
   "outputs": [],
   "source": [
    "SMILES = df_test['Smiles'].tolist()"
   ]
  },
  {
   "cell_type": "code",
   "execution_count": 21,
   "metadata": {},
   "outputs": [
    {
     "data": {
      "text/plain": [
       "{'mse': 0.335, 'mae': 0.479, 'r^2': 0.944}"
      ]
     },
     "execution_count": 21,
     "metadata": {},
     "output_type": "execute_result"
    }
   ],
   "source": [
    "from sklearn.metrics import mean_absolute_error\n",
    "from sklearn.metrics import mean_squared_error\n",
    "from sklearn.metrics import r2_score\n",
    "from math import sqrt\n",
    "\n",
    "def calculate_metrics(true_values, pred_values):\n",
    "    mse = round(mean_squared_error(true_values, pred_values),3)\n",
    "    mae = round(mean_absolute_error(true_values, pred_values),3)\n",
    "    r_score = round(r2_score(true_values, pred_values),3)\n",
    "\n",
    "    return {\"mse\": mse,\n",
    "            \"mae\": mae,\n",
    "            \"r^2\": r_score,}\n",
    "\n",
    "pred_pKa = [3.461677560806274,\n",
    " 2.5881527423858643,\n",
    " 4.142161512374878,\n",
    " 4.086469612121582,\n",
    " 4.392699527740478,\n",
    " 4.570784664154052,\n",
    " 8.319873523712157,\n",
    " 8.77083963394165,\n",
    " 9.65727912902832,\n",
    " 7.989999370574951,\n",
    " 7.061788959503174,\n",
    " 10.35153003692627,\n",
    " 9.162856369018554,\n",
    " 8.190918769836426,\n",
    " 6.678215637207031,\n",
    " 10.451743888854981,\n",
    " 10.010702629089355,\n",
    " 10.93015785217285,\n",
    " 6.292105846405029,\n",
    " 10.882271881103515,\n",
    " 8.586725559234619,\n",
    " 8.081362323760986,\n",
    " 7.354726142883301,\n",
    " 11.29662769317627,\n",
    " 7.010070400238037]\n",
    "true_pka = df_test['pKa'].tolist()\n",
    "\n",
    "calculate_metrics(true_values=true_pka,\n",
    "                  pred_values=pred_pKa)"
   ]
  },
  {
   "cell_type": "code",
   "execution_count": 18,
   "metadata": {},
   "outputs": [
    {
     "name": "stdout",
     "output_type": "stream",
     "text": [
      "True: 3.55, pred: 3.461677560806274\n",
      "True: 3.51, pred: 2.5881527423858643\n",
      "True: 4.02, pred: 4.142161512374878\n",
      "True: 4.35, pred: 4.086469612121582\n",
      "True: 4.18, pred: 4.392699527740478\n",
      "True: 4.61, pred: 4.570784664154052\n",
      "True: 9.12, pred: 8.319873523712157\n",
      "True: 9.58, pred: 8.77083963394165\n",
      "True: 8.76, pred: 9.65727912902832\n",
      "True: 8.1, pred: 7.989999370574951\n",
      "True: 7.54, pred: 7.061788959503174\n",
      "True: 9.86, pred: 10.35153003692627\n",
      "True: 9.57, pred: 9.162856369018554\n",
      "True: 9.01, pred: 8.190918769836426\n",
      "True: 7.59, pred: 6.678215637207031\n",
      "True: 10.36, pred: 10.451743888854981\n",
      "True: 10.21, pred: 10.010702629089355\n",
      "True: 10.5, pred: 10.93015785217285\n",
      "True: 7.11, pred: 6.292105846405029\n",
      "True: 11.28, pred: 10.882271881103515\n",
      "True: 9.55, pred: 8.586725559234619\n",
      "True: 8.97, pred: 8.081362323760986\n",
      "True: 6.79, pred: 7.354726142883301\n",
      "True: 11.23, pred: 11.29662769317627\n",
      "True: 7.2, pred: 7.010070400238037\n"
     ]
    }
   ],
   "source": [
    "updated_pred_values = []\n",
    "\n",
    "for index in range(len(pred_pKa)):\n",
    "    print(f\"True: {true_pka[index]}, pred: {pred_pKa[index]}\")\n",
    "    updated_pred_values.append(pred_pKa[index] - 0.2)"
   ]
  },
  {
   "cell_type": "code",
   "execution_count": 19,
   "metadata": {},
   "outputs": [
    {
     "data": {
      "text/plain": [
       "{'mse': 0.475, 'mae': 0.577, 'r^2': 0.921}"
      ]
     },
     "execution_count": 19,
     "metadata": {},
     "output_type": "execute_result"
    }
   ],
   "source": [
    "calculate_metrics(true_values=true_pka,\n",
    "                  pred_values=updated_pred_values)"
   ]
  },
  {
   "cell_type": "code",
   "execution_count": null,
   "metadata": {},
   "outputs": [],
   "source": [
    "from pkasolver.query import QueryModel\n",
    "from pkasolver.ml_architecture import GINPairV1\n",
    "import pickle \n",
    "import pkasolver\n",
    "import torch\n",
    "from os import path\n",
    "from rdkit import Chem\n",
    "from pkasolver.query import calculate_microstate_pka_values, draw_pka_reactions\n",
    "from IPython.display import display\n",
    "\n",
    "base_path = path.dirname(pkasolver.__file__)\n",
    "# get input\n",
    "print(\"🔮 Predicting...\")\n",
    "\n",
    "SMILES = ['CCC(F)(F)CC(O)=O',\n",
    " 'OC(C1C2(CC2)C1(F)F)=O',\n",
    " 'FC1(F)CC(C(O)=O)C1',\n",
    " 'O=C(O)C(C1)CC21CC(F)(F)C2',\n",
    " 'FC1(F)CC(C(O)=O)CCC1',\n",
    " 'OC(C1C2(CC2)C1)=O',\n",
    " 'FC1(F)CC(N)CCC1',\n",
    " 'NC(C1)CC21CC(F)(F)C2',\n",
    " 'NC1CC1',\n",
    " 'NC1(CF)CCC1',\n",
    " 'FC1(F)C(N)CCC1',\n",
    " 'NC1CCC1',\n",
    " 'FC1(F)CCC(N)CCC1',\n",
    " 'FC(F)(F)C1CNCCC1',\n",
    " 'CCC(F)(F)CN',\n",
    " 'NCCCC(F)([H])[H]',\n",
    " 'NC(C1)CC21CCC2',\n",
    " 'CCCCN',\n",
    " 'F[C@@H]1CNC[C@H]1F',\n",
    " 'CC1(NC2)CC2C1',\n",
    " 'FC([H])(F)C1CNCCC1',\n",
    " 'FC(F)(F)C1CNCC1',\n",
    " 'FC1(F)CNCCC1',\n",
    " 'C1(NC2)CC2C1',\n",
    " 'NCC([H])(F)F']\n",
    "\n",
    "pred_pka_solver = []\n",
    "\n",
    "for smile in SMILES:\n",
    "    print(smile)\n",
    "    mol = Chem.MolFromSmiles(smile)\n",
    "\n",
    "    protonation_states = calculate_microstate_pka_values(mol, only_dimorphite=False)\n",
    "\n",
    "    for i in range(len(protonation_states)):\n",
    "        state = protonation_states[i]\n",
    "        print(\n",
    "            Chem.MolToSmiles(state.protonated_mol),\n",
    "            Chem.MolToSmiles(state.deprotonated_mol),\n",
    "        )\n",
    "        print(state.pka)\n",
    "        print(\"😀\" + \"--\"*10 + \"😀\")\n",
    "\n",
    "        pred_pka_solver.append(state.pka)"
   ]
  },
  {
   "cell_type": "code",
   "execution_count": 2,
   "metadata": {},
   "outputs": [
    {
     "name": "stdout",
     "output_type": "stream",
     "text": [
      "🔮 Predicting...\n"
     ]
    },
    {
     "ename": "RuntimeError",
     "evalue": "Error(s) in loading state_dict for GINPairV1:\n\tMissing key(s) in state_dict: \"GIN_p.convs.0.nn.lins.0.weight\", \"GIN_p.convs.0.nn.lins.0.bias\", \"GIN_p.convs.0.nn.lins.1.weight\", \"GIN_p.convs.0.nn.lins.1.bias\", \"GIN_p.convs.1.nn.lins.0.weight\", \"GIN_p.convs.1.nn.lins.0.bias\", \"GIN_p.convs.1.nn.lins.1.weight\", \"GIN_p.convs.1.nn.lins.1.bias\", \"GIN_p.convs.2.nn.lins.0.weight\", \"GIN_p.convs.2.nn.lins.0.bias\", \"GIN_p.convs.2.nn.lins.1.weight\", \"GIN_p.convs.2.nn.lins.1.bias\", \"GIN_p.convs.3.nn.lins.0.weight\", \"GIN_p.convs.3.nn.lins.0.bias\", \"GIN_p.convs.3.nn.lins.1.weight\", \"GIN_p.convs.3.nn.lins.1.bias\", \"GIN_d.convs.0.nn.lins.0.weight\", \"GIN_d.convs.0.nn.lins.0.bias\", \"GIN_d.convs.0.nn.lins.1.weight\", \"GIN_d.convs.0.nn.lins.1.bias\", \"GIN_d.convs.1.nn.lins.0.weight\", \"GIN_d.convs.1.nn.lins.0.bias\", \"GIN_d.convs.1.nn.lins.1.weight\", \"GIN_d.convs.1.nn.lins.1.bias\", \"GIN_d.convs.2.nn.lins.0.weight\", \"GIN_d.convs.2.nn.lins.0.bias\", \"GIN_d.convs.2.nn.lins.1.weight\", \"GIN_d.convs.2.nn.lins.1.bias\", \"GIN_d.convs.3.nn.lins.0.weight\", \"GIN_d.convs.3.nn.lins.0.bias\", \"GIN_d.convs.3.nn.lins.1.weight\", \"GIN_d.convs.3.nn.lins.1.bias\". \n\tUnexpected key(s) in state_dict: \"GIN_p.lin.weight\", \"GIN_p.lin.bias\", \"GIN_p.convs.0.nn.0.weight\", \"GIN_p.convs.0.nn.0.bias\", \"GIN_p.convs.0.nn.1.weight\", \"GIN_p.convs.0.nn.1.bias\", \"GIN_p.convs.0.nn.1.running_mean\", \"GIN_p.convs.0.nn.1.running_var\", \"GIN_p.convs.0.nn.1.num_batches_tracked\", \"GIN_p.convs.0.nn.3.weight\", \"GIN_p.convs.0.nn.3.bias\", \"GIN_p.convs.1.nn.0.weight\", \"GIN_p.convs.1.nn.0.bias\", \"GIN_p.convs.1.nn.1.weight\", \"GIN_p.convs.1.nn.1.bias\", \"GIN_p.convs.1.nn.1.running_mean\", \"GIN_p.convs.1.nn.1.running_var\", \"GIN_p.convs.1.nn.1.num_batches_tracked\", \"GIN_p.convs.1.nn.3.weight\", \"GIN_p.convs.1.nn.3.bias\", \"GIN_p.convs.2.nn.0.weight\", \"GIN_p.convs.2.nn.0.bias\", \"GIN_p.convs.2.nn.1.weight\", \"GIN_p.convs.2.nn.1.bias\", \"GIN_p.convs.2.nn.1.running_mean\", \"GIN_p.convs.2.nn.1.running_var\", \"GIN_p.convs.2.nn.1.num_batches_tracked\", \"GIN_p.convs.2.nn.3.weight\", \"GIN_p.convs.2.nn.3.bias\", \"GIN_p.convs.3.nn.0.weight\", \"GIN_p.convs.3.nn.0.bias\", \"GIN_p.convs.3.nn.1.weight\", \"GIN_p.convs.3.nn.1.bias\", \"GIN_p.convs.3.nn.1.running_mean\", \"GIN_p.convs.3.nn.1.running_var\", \"GIN_p.convs.3.nn.1.num_batches_tracked\", \"GIN_p.convs.3.nn.3.weight\", \"GIN_p.convs.3.nn.3.bias\", \"GIN_d.lin.weight\", \"GIN_d.lin.bias\", \"GIN_d.convs.0.nn.0.weight\", \"GIN_d.convs.0.nn.0.bias\", \"GIN_d.convs.0.nn.1.weight\", \"GIN_d.convs.0.nn.1.bias\", \"GIN_d.convs.0.nn.1.running_mean\", \"GIN_d.convs.0.nn.1.running_var\", \"GIN_d.convs.0.nn.1.num_batches_tracked\", \"GIN_d.convs.0.nn.3.weight\", \"GIN_d.convs.0.nn.3.bias\", \"GIN_d.convs.1.nn.0.weight\", \"GIN_d.convs.1.nn.0.bias\", \"GIN_d.convs.1.nn.1.weight\", \"GIN_d.convs.1.nn.1.bias\", \"GIN_d.convs.1.nn.1.running_mean\", \"GIN_d.convs.1.nn.1.running_var\", \"GIN_d.convs.1.nn.1.num_batches_tracked\", \"GIN_d.convs.1.nn.3.weight\", \"GIN_d.convs.1.nn.3.bias\", \"GIN_d.convs.2.nn.0.weight\", \"GIN_d.convs.2.nn.0.bias\", \"GIN_d.convs.2.nn.1.weight\", \"GIN_d.convs.2.nn.1.bias\", \"GIN_d.convs.2.nn.1.running_mean\", \"GIN_d.convs.2.nn.1.running_var\", \"GIN_d.convs.2.nn.1.num_batches_tracked\", \"GIN_d.convs.2.nn.3.weight\", \"GIN_d.convs.2.nn.3.bias\", \"GIN_d.convs.3.nn.0.weight\", \"GIN_d.convs.3.nn.0.bias\", \"GIN_d.convs.3.nn.1.weight\", \"GIN_d.convs.3.nn.1.bias\", \"GIN_d.convs.3.nn.1.running_mean\", \"GIN_d.convs.3.nn.1.running_var\", \"GIN_d.convs.3.nn.1.num_batches_tracked\", \"GIN_d.convs.3.nn.3.weight\", \"GIN_d.convs.3.nn.3.bias\". ",
     "output_type": "error",
     "traceback": [
      "\u001b[1;31m---------------------------------------------------------------------------\u001b[0m",
      "\u001b[1;31mRuntimeError\u001b[0m                              Traceback (most recent call last)",
      "Cell \u001b[1;32mIn[2], line 21\u001b[0m\n\u001b[0;32m     17\u001b[0m mol \u001b[38;5;241m=\u001b[39m Chem\u001b[38;5;241m.\u001b[39mMolFromSmiles(smiles)\n\u001b[0;32m     18\u001b[0m \u001b[38;5;66;03m################################################\u001b[39;00m\n\u001b[0;32m     19\u001b[0m \u001b[38;5;66;03m################################################\u001b[39;00m\n\u001b[0;32m     20\u001b[0m \u001b[38;5;66;03m# calculate microstate pka values\u001b[39;00m\n\u001b[1;32m---> 21\u001b[0m protonation_states \u001b[38;5;241m=\u001b[39m \u001b[43mcalculate_microstate_pka_values\u001b[49m\u001b[43m(\u001b[49m\u001b[43mmol\u001b[49m\u001b[43m,\u001b[49m\u001b[43m \u001b[49m\u001b[43monly_dimorphite\u001b[49m\u001b[38;5;241;43m=\u001b[39;49m\u001b[38;5;28;43;01mFalse\u001b[39;49;00m\u001b[43m)\u001b[49m\n\u001b[0;32m     22\u001b[0m \u001b[38;5;66;03m################################################\u001b[39;00m\n\u001b[0;32m     23\u001b[0m \u001b[38;5;28mprint\u001b[39m(\u001b[38;5;124m\"\u001b[39m\u001b[38;5;124m📸 Visualizing ...\u001b[39m\u001b[38;5;124m\"\u001b[39m)\n",
      "File \u001b[1;32mc:\\work\\DrugDiscovery\\drug-discovery-venv\\Lib\\site-packages\\pkasolver\\query.py:242\u001b[0m, in \u001b[0;36mcalculate_microstate_pka_values\u001b[1;34m(mol, only_dimorphite, query_model)\u001b[0m\n\u001b[0;32m    239\u001b[0m \u001b[38;5;250m\u001b[39m\u001b[38;5;124;03m\"\"\"Enumerate protonation states using a rdkit mol as input\"\"\"\u001b[39;00m\n\u001b[0;32m    241\u001b[0m \u001b[38;5;28;01mif\u001b[39;00m query_model \u001b[38;5;241m==\u001b[39m \u001b[38;5;28;01mNone\u001b[39;00m:\n\u001b[1;32m--> 242\u001b[0m     query_model \u001b[38;5;241m=\u001b[39m \u001b[43mQueryModel\u001b[49m\u001b[43m(\u001b[49m\u001b[43m)\u001b[49m\n\u001b[0;32m    244\u001b[0m \u001b[38;5;28;01mif\u001b[39;00m only_dimorphite:\n\u001b[0;32m    245\u001b[0m     \u001b[38;5;28mprint\u001b[39m(\n\u001b[0;32m    246\u001b[0m         \u001b[38;5;124m\"\u001b[39m\u001b[38;5;124mBEWARE! This is experimental and might generate wrong protonation states.\u001b[39m\u001b[38;5;124m\"\u001b[39m\n\u001b[0;32m    247\u001b[0m     )\n",
      "File \u001b[1;32mc:\\work\\DrugDiscovery\\drug-discovery-venv\\Lib\\site-packages\\pkasolver\\query.py:83\u001b[0m, in \u001b[0;36mQueryModel.__init__\u001b[1;34m(self)\u001b[0m\n\u001b[0;32m     78\u001b[0m \u001b[38;5;28;01melse\u001b[39;00m:\n\u001b[0;32m     79\u001b[0m     checkpoint \u001b[38;5;241m=\u001b[39m torch\u001b[38;5;241m.\u001b[39mload(\n\u001b[0;32m     80\u001b[0m         \u001b[38;5;124mf\u001b[39m\u001b[38;5;124m\"\u001b[39m\u001b[38;5;132;01m{\u001b[39;00mbase_path\u001b[38;5;132;01m}\u001b[39;00m\u001b[38;5;124m/trained_model_without_epik/best_model_\u001b[39m\u001b[38;5;132;01m{\u001b[39;00mi\u001b[38;5;132;01m}\u001b[39;00m\u001b[38;5;124m.pt\u001b[39m\u001b[38;5;124m\"\u001b[39m\n\u001b[0;32m     81\u001b[0m     )\n\u001b[1;32m---> 83\u001b[0m \u001b[43mmodel\u001b[49m\u001b[38;5;241;43m.\u001b[39;49m\u001b[43mload_state_dict\u001b[49m\u001b[43m(\u001b[49m\u001b[43mcheckpoint\u001b[49m\u001b[43m[\u001b[49m\u001b[38;5;124;43m\"\u001b[39;49m\u001b[38;5;124;43mmodel_state_dict\u001b[39;49m\u001b[38;5;124;43m\"\u001b[39;49m\u001b[43m]\u001b[49m\u001b[43m)\u001b[49m\n\u001b[0;32m     84\u001b[0m model\u001b[38;5;241m.\u001b[39meval()\n\u001b[0;32m     85\u001b[0m model\u001b[38;5;241m.\u001b[39mto(device\u001b[38;5;241m=\u001b[39mDEVICE)\n",
      "File \u001b[1;32mc:\\work\\DrugDiscovery\\drug-discovery-venv\\Lib\\site-packages\\torch\\nn\\modules\\module.py:2152\u001b[0m, in \u001b[0;36mModule.load_state_dict\u001b[1;34m(self, state_dict, strict, assign)\u001b[0m\n\u001b[0;32m   2147\u001b[0m         error_msgs\u001b[38;5;241m.\u001b[39minsert(\n\u001b[0;32m   2148\u001b[0m             \u001b[38;5;241m0\u001b[39m, \u001b[38;5;124m'\u001b[39m\u001b[38;5;124mMissing key(s) in state_dict: \u001b[39m\u001b[38;5;132;01m{}\u001b[39;00m\u001b[38;5;124m. \u001b[39m\u001b[38;5;124m'\u001b[39m\u001b[38;5;241m.\u001b[39mformat(\n\u001b[0;32m   2149\u001b[0m                 \u001b[38;5;124m'\u001b[39m\u001b[38;5;124m, \u001b[39m\u001b[38;5;124m'\u001b[39m\u001b[38;5;241m.\u001b[39mjoin(\u001b[38;5;124mf\u001b[39m\u001b[38;5;124m'\u001b[39m\u001b[38;5;124m\"\u001b[39m\u001b[38;5;132;01m{\u001b[39;00mk\u001b[38;5;132;01m}\u001b[39;00m\u001b[38;5;124m\"\u001b[39m\u001b[38;5;124m'\u001b[39m \u001b[38;5;28;01mfor\u001b[39;00m k \u001b[38;5;129;01min\u001b[39;00m missing_keys)))\n\u001b[0;32m   2151\u001b[0m \u001b[38;5;28;01mif\u001b[39;00m \u001b[38;5;28mlen\u001b[39m(error_msgs) \u001b[38;5;241m>\u001b[39m \u001b[38;5;241m0\u001b[39m:\n\u001b[1;32m-> 2152\u001b[0m     \u001b[38;5;28;01mraise\u001b[39;00m \u001b[38;5;167;01mRuntimeError\u001b[39;00m(\u001b[38;5;124m'\u001b[39m\u001b[38;5;124mError(s) in loading state_dict for \u001b[39m\u001b[38;5;132;01m{}\u001b[39;00m\u001b[38;5;124m:\u001b[39m\u001b[38;5;130;01m\\n\u001b[39;00m\u001b[38;5;130;01m\\t\u001b[39;00m\u001b[38;5;132;01m{}\u001b[39;00m\u001b[38;5;124m'\u001b[39m\u001b[38;5;241m.\u001b[39mformat(\n\u001b[0;32m   2153\u001b[0m                        \u001b[38;5;28mself\u001b[39m\u001b[38;5;241m.\u001b[39m\u001b[38;5;18m__class__\u001b[39m\u001b[38;5;241m.\u001b[39m\u001b[38;5;18m__name__\u001b[39m, \u001b[38;5;124m\"\u001b[39m\u001b[38;5;130;01m\\n\u001b[39;00m\u001b[38;5;130;01m\\t\u001b[39;00m\u001b[38;5;124m\"\u001b[39m\u001b[38;5;241m.\u001b[39mjoin(error_msgs)))\n\u001b[0;32m   2154\u001b[0m \u001b[38;5;28;01mreturn\u001b[39;00m _IncompatibleKeys(missing_keys, unexpected_keys)\n",
      "\u001b[1;31mRuntimeError\u001b[0m: Error(s) in loading state_dict for GINPairV1:\n\tMissing key(s) in state_dict: \"GIN_p.convs.0.nn.lins.0.weight\", \"GIN_p.convs.0.nn.lins.0.bias\", \"GIN_p.convs.0.nn.lins.1.weight\", \"GIN_p.convs.0.nn.lins.1.bias\", \"GIN_p.convs.1.nn.lins.0.weight\", \"GIN_p.convs.1.nn.lins.0.bias\", \"GIN_p.convs.1.nn.lins.1.weight\", \"GIN_p.convs.1.nn.lins.1.bias\", \"GIN_p.convs.2.nn.lins.0.weight\", \"GIN_p.convs.2.nn.lins.0.bias\", \"GIN_p.convs.2.nn.lins.1.weight\", \"GIN_p.convs.2.nn.lins.1.bias\", \"GIN_p.convs.3.nn.lins.0.weight\", \"GIN_p.convs.3.nn.lins.0.bias\", \"GIN_p.convs.3.nn.lins.1.weight\", \"GIN_p.convs.3.nn.lins.1.bias\", \"GIN_d.convs.0.nn.lins.0.weight\", \"GIN_d.convs.0.nn.lins.0.bias\", \"GIN_d.convs.0.nn.lins.1.weight\", \"GIN_d.convs.0.nn.lins.1.bias\", \"GIN_d.convs.1.nn.lins.0.weight\", \"GIN_d.convs.1.nn.lins.0.bias\", \"GIN_d.convs.1.nn.lins.1.weight\", \"GIN_d.convs.1.nn.lins.1.bias\", \"GIN_d.convs.2.nn.lins.0.weight\", \"GIN_d.convs.2.nn.lins.0.bias\", \"GIN_d.convs.2.nn.lins.1.weight\", \"GIN_d.convs.2.nn.lins.1.bias\", \"GIN_d.convs.3.nn.lins.0.weight\", \"GIN_d.convs.3.nn.lins.0.bias\", \"GIN_d.convs.3.nn.lins.1.weight\", \"GIN_d.convs.3.nn.lins.1.bias\". \n\tUnexpected key(s) in state_dict: \"GIN_p.lin.weight\", \"GIN_p.lin.bias\", \"GIN_p.convs.0.nn.0.weight\", \"GIN_p.convs.0.nn.0.bias\", \"GIN_p.convs.0.nn.1.weight\", \"GIN_p.convs.0.nn.1.bias\", \"GIN_p.convs.0.nn.1.running_mean\", \"GIN_p.convs.0.nn.1.running_var\", \"GIN_p.convs.0.nn.1.num_batches_tracked\", \"GIN_p.convs.0.nn.3.weight\", \"GIN_p.convs.0.nn.3.bias\", \"GIN_p.convs.1.nn.0.weight\", \"GIN_p.convs.1.nn.0.bias\", \"GIN_p.convs.1.nn.1.weight\", \"GIN_p.convs.1.nn.1.bias\", \"GIN_p.convs.1.nn.1.running_mean\", \"GIN_p.convs.1.nn.1.running_var\", \"GIN_p.convs.1.nn.1.num_batches_tracked\", \"GIN_p.convs.1.nn.3.weight\", \"GIN_p.convs.1.nn.3.bias\", \"GIN_p.convs.2.nn.0.weight\", \"GIN_p.convs.2.nn.0.bias\", \"GIN_p.convs.2.nn.1.weight\", \"GIN_p.convs.2.nn.1.bias\", \"GIN_p.convs.2.nn.1.running_mean\", \"GIN_p.convs.2.nn.1.running_var\", \"GIN_p.convs.2.nn.1.num_batches_tracked\", \"GIN_p.convs.2.nn.3.weight\", \"GIN_p.convs.2.nn.3.bias\", \"GIN_p.convs.3.nn.0.weight\", \"GIN_p.convs.3.nn.0.bias\", \"GIN_p.convs.3.nn.1.weight\", \"GIN_p.convs.3.nn.1.bias\", \"GIN_p.convs.3.nn.1.running_mean\", \"GIN_p.convs.3.nn.1.running_var\", \"GIN_p.convs.3.nn.1.num_batches_tracked\", \"GIN_p.convs.3.nn.3.weight\", \"GIN_p.convs.3.nn.3.bias\", \"GIN_d.lin.weight\", \"GIN_d.lin.bias\", \"GIN_d.convs.0.nn.0.weight\", \"GIN_d.convs.0.nn.0.bias\", \"GIN_d.convs.0.nn.1.weight\", \"GIN_d.convs.0.nn.1.bias\", \"GIN_d.convs.0.nn.1.running_mean\", \"GIN_d.convs.0.nn.1.running_var\", \"GIN_d.convs.0.nn.1.num_batches_tracked\", \"GIN_d.convs.0.nn.3.weight\", \"GIN_d.convs.0.nn.3.bias\", \"GIN_d.convs.1.nn.0.weight\", \"GIN_d.convs.1.nn.0.bias\", \"GIN_d.convs.1.nn.1.weight\", \"GIN_d.convs.1.nn.1.bias\", \"GIN_d.convs.1.nn.1.running_mean\", \"GIN_d.convs.1.nn.1.running_var\", \"GIN_d.convs.1.nn.1.num_batches_tracked\", \"GIN_d.convs.1.nn.3.weight\", \"GIN_d.convs.1.nn.3.bias\", \"GIN_d.convs.2.nn.0.weight\", \"GIN_d.convs.2.nn.0.bias\", \"GIN_d.convs.2.nn.1.weight\", \"GIN_d.convs.2.nn.1.bias\", \"GIN_d.convs.2.nn.1.running_mean\", \"GIN_d.convs.2.nn.1.running_var\", \"GIN_d.convs.2.nn.1.num_batches_tracked\", \"GIN_d.convs.2.nn.3.weight\", \"GIN_d.convs.2.nn.3.bias\", \"GIN_d.convs.3.nn.0.weight\", \"GIN_d.convs.3.nn.0.bias\", \"GIN_d.convs.3.nn.1.weight\", \"GIN_d.convs.3.nn.1.bias\", \"GIN_d.convs.3.nn.1.running_mean\", \"GIN_d.convs.3.nn.1.running_var\", \"GIN_d.convs.3.nn.1.num_batches_tracked\", \"GIN_d.convs.3.nn.3.weight\", \"GIN_d.convs.3.nn.3.bias\". "
     ]
    }
   ],
   "source": [
    "from pkasolver.query import QueryModel\n",
    "from pkasolver.ml_architecture import GINPairV1\n",
    "import pickle \n",
    "import pkasolver\n",
    "import torch\n",
    "from os import path\n",
    "from rdkit import Chem\n",
    "from pkasolver.query import calculate_microstate_pka_values, draw_pka_reactions\n",
    "from IPython.display import display\n",
    "\n",
    "# load trained model\n",
    "base_path = path.dirname(pkasolver.__file__)\n",
    "# get input\n",
    "print(\"🔮 Predicting...\")\n",
    "smiles = \"CC(CC1=CC=CC=C1)NC(=O)C(CCCCN)N\"  # @param {type:\"string\"}\n",
    "# convert from Smiles to rdkit mol\n",
    "mol = Chem.MolFromSmiles(smiles)\n",
    "################################################\n",
    "################################################\n",
    "# calculate microstate pka values\n",
    "protonation_states = calculate_microstate_pka_values(mol, only_dimorphite=False)\n",
    "################################################\n",
    "print(\"📸 Visualizing ...\")\n",
    "# draw the micostate pka values\n",
    "calc = draw_pka_reactions(protonation_states)\n",
    "display(calc)"
   ]
  },
  {
   "cell_type": "markdown",
   "metadata": {},
   "source": [
    "using ubuntu for prediction"
   ]
  },
  {
   "cell_type": "code",
   "execution_count": 1,
   "metadata": {},
   "outputs": [
    {
     "name": "stdout",
     "output_type": "stream",
     "text": [
      "[6.23, 6.06, 6.41, 7.44, 7.54, 7.75, 7.69, 8.83, 8.55, 8.98, 9.15, 9.52, 9.55, 9.67, 9.81, 9.6, 10.5, 11.27, 10.99, 3.85, 3.59, 4.18, 4.24, 4.39, 4.61, 4.38]\n"
     ]
    }
   ],
   "source": [
    "import pandas as pd\n",
    "\n",
    "test_set_basic = pd.read_csv(r'C:\\work\\DrugDiscovery\\main_git\\XAI_Chem\\data\\pKa_basicity_data\\gnn_cv_canon_smiles\\test_basic.csv')\n",
    "test_set_acid = pd.read_csv(r'C:\\work\\DrugDiscovery\\main_git\\XAI_Chem\\data\\pKa_basicity_data\\gnn_cv_canon_smiles\\test_acid.csv')\n",
    "test_set = pd.concat([test_set_basic, test_set_acid], axis=0)\n",
    "\n",
    "print(test_set['pKa'].tolist())"
   ]
  },
  {
   "cell_type": "markdown",
   "metadata": {},
   "source": [
    "inference"
   ]
  },
  {
   "cell_type": "code",
   "execution_count": 4,
   "metadata": {},
   "outputs": [
    {
     "data": {
      "text/plain": [
       "{'mse': 0.439, 'mae': 0.518, 'r^2': 0.923}"
      ]
     },
     "execution_count": 4,
     "metadata": {},
     "output_type": "execute_result"
    }
   ],
   "source": [
    "from sklearn.metrics import mean_absolute_error\n",
    "from sklearn.metrics import mean_squared_error\n",
    "from sklearn.metrics import r2_score\n",
    "from math import sqrt\n",
    "\n",
    "def calculate_metrics(true_values, pred_values):\n",
    "    mse = round(mean_squared_error(true_values, pred_values),3)\n",
    "    mae = round(mean_absolute_error(true_values, pred_values),3)\n",
    "    r_score = round(r2_score(true_values, pred_values),3)\n",
    "\n",
    "    return {\"mse\": mse,\n",
    "            \"mae\": mae,\n",
    "            \"r^2\": r_score,}\n",
    "\n",
    "pred_25_models = [6.22, 6.34, 6.54, 6.99, 7.06, 8.51, 7.97, 7.95, 7.16, 7.37, 10.08, 9.05, 8.91, 8.62, 9.03, 8.75, 10.93, 10.97, 10.91, 3.63, 3.53, 4.39, 4.86, 4.43, 4.57, 4.21]\n",
    "pred_50_models = [6.34, 6.31, 6.49, 6.94, 7.0, 8.58, 8.05, 7.99, 7.18, 7.44, 10.08, 8.98, 8.84, 8.52, 9.09, 8.76, 10.91, 10.95, 10.89, 3.71, 3.5, 4.43, 4.88, 4.44, 4.59, 4.25]\n",
    "pred_1_model = [6.56, 6.14, 6.39, 6.75, 7.33, 8.69, 8.41, 7.9, 6.23, 7.44, 10.27, 9.04, 8.78, 8.18, 9.47, 8.14, 10.75, 11.03, 11.0, 3.68, 3.29, 4.31, 4.73, 4.52, 4.53, 4.15]\n",
    "true = [6.23, 6.06, 6.41, 7.44, 7.54, 7.75, 7.69, 8.83, 8.55, 8.98, 9.15, 9.52, 9.55, 9.67, 9.81, 9.6, 10.5, 11.27, 10.99, 3.85, 3.59, 4.18, 4.24, 4.39, 4.61, 4.38]\n",
    "\n",
    "calculate_metrics(true_values=true,\n",
    "                  pred_values=pred_50_models)"
   ]
  },
  {
   "cell_type": "markdown",
   "metadata": {},
   "source": [
    "train"
   ]
  },
  {
   "cell_type": "code",
   "execution_count": 2,
   "metadata": {},
   "outputs": [
    {
     "data": {
      "text/plain": [
       "{'mse': 0.051, 'mae': 0.175, 'r^2': 0.992}"
      ]
     },
     "execution_count": 2,
     "metadata": {},
     "output_type": "execute_result"
    }
   ],
   "source": [
    "from sklearn.metrics import mean_absolute_error\n",
    "from sklearn.metrics import mean_squared_error\n",
    "from sklearn.metrics import r2_score\n",
    "from math import sqrt\n",
    "\n",
    "def calculate_metrics(true_values, pred_values):\n",
    "    mse = round(mean_squared_error(true_values, pred_values),3)\n",
    "    mae = round(mean_absolute_error(true_values, pred_values),3)\n",
    "    r_score = round(r2_score(true_values, pred_values),3)\n",
    "\n",
    "    return {\"mse\": mse,\n",
    "            \"mae\": mae,\n",
    "            \"r^2\": r_score,}\n",
    "\n",
    "\n",
    "pred = [4.19, 4.76, 4.56, 3.94, 3.94, 4.74, 3.54, 3.26, 3.0, 3.93, 3.93, 4.17, 4.17, 4.42, 4.42, 3.59, 3.8, 3.95, 3.91, 4.07, 3.99, 4.06, 4.21, 4.25, 3.88, 4.19, 4.77, 4.74, 4.77, 4.77, 4.68, 4.2, 3.93, 4.17, 4.42, 3.84, 3.84, 4.11, 4.11, 4.4, 4.71, 4.71, 3.53, 8.9, 8.9, 9.31, 10.45, 9.86, 9.86, 6.18, 11.15, 11.26, 11.24, 6.21, 10.98, 10.88, 11.09, 6.22, 10.91, 9.81, 6.94, 8.05, 10.82, 7.91, 10.7, 10.81, 11.3, 6.46, 8.65, 6.8, 6.99, 6.99, 8.7, 7.0, 6.86, 6.86, 9.59, 7.24, 7.24, 5.53, 6.76, 7.97, 10.01, 8.83, 8.83, 9.22, 9.22, 9.63, 9.63, 8.07, 7.94, 6.24, 7.65, 9.34, 9.28, 9.98, 10.45, 9.92, 10.44, 8.87, 9.75, 10.32, 9.48, 10.15, 10.59, 10.04, 10.49, 10.42, 9.95, 9.64, 10.42, 7.1, 8.61, 7.61, 9.34, 7.84, 9.55, 9.55, 7.51, 9.59, 9.54, 10.32, 10.53, 10.31, 9.49, 8.0, 9.31, 7.25, 7.25, 7.57, 7.57, 9.49, 9.57]\n",
    "true = [4.32, 4.85, 4.35, 3.8, 3.76, 4.5, 3.66, 3.08, 2.9, 3.83, 3.88, 4.11, 3.92, 4.18, 4.12, 3.25, 3.62, 4.02, 3.76, 3.98, 3.81, 3.78, 4.09, 4.36, 3.55, 4.17, 4.6, 4.69, 5.08, 4.75, 4.59, 4.35, 3.87, 4.26, 4.38, 3.88, 3.76, 4.18, 4.17, 4.35, 4.79, 4.83, 3.51, 8.89, 8.95, 9.45, 10.58, 9.79, 9.77, 6.52, 11.23, 11.27, 11.28, 6.56, 10.42, 10.89, 11.12, 5.96, 10.38, 9.41, 6.37, 7.72, 10.86, 8.05, 10.4, 10.53, 11.21, 6.44, 8.87, 6.88, 7.07, 7.11, 8.64, 6.79, 6.74, 6.22, 9.05, 7.01, 7.02, 5.0, 6.62, 8.1, 9.86, 8.74, 8.6, 9.17, 9.04, 9.58, 9.48, 7.99, 7.78, 5.84, 7.83, 8.96, 9.01, 9.55, 10.32, 9.75, 10.38, 8.67, 9.57, 10.05, 9.02, 10.05, 10.75, 10.19, 10.46, 10.36, 10.02, 9.74, 10.03, 7.2, 8.37, 7.45, 9.12, 8.13, 9.35, 9.57, 7.59, 9.57, 8.76, 10.52, 10.69, 10.21, 9.58, 7.95, 9.32, 7.18, 6.92, 7.76, 7.16, 9.44, 9.41]\n",
    "calculate_metrics(true_values=true,\n",
    "                  pred_values=pred)"
   ]
  }
 ],
 "metadata": {
  "kernelspec": {
   "display_name": "drug-discovery-venv",
   "language": "python",
   "name": "python3"
  },
  "language_info": {
   "codemirror_mode": {
    "name": "ipython",
    "version": 3
   },
   "file_extension": ".py",
   "mimetype": "text/x-python",
   "name": "python",
   "nbconvert_exporter": "python",
   "pygments_lexer": "ipython3",
   "version": "3.11.9"
  }
 },
 "nbformat": 4,
 "nbformat_minor": 2
}
