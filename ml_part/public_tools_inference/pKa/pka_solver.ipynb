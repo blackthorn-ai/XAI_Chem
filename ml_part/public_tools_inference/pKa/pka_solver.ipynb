{
 "cells": [
  {
   "cell_type": "code",
   "execution_count": 5,
   "metadata": {},
   "outputs": [],
   "source": [
    "import pandas as pd\n",
    "\n",
    "test_csv_path = r'C:\\work\\DrugDiscovery\\main_git\\XAI_Chem\\data\\pKa_basicity_data\\gnn_cv\\test.csv'\n",
    "\n",
    "df_test = pd.read_csv(test_csv_path, index_col=0)"
   ]
  },
  {
   "cell_type": "code",
   "execution_count": 8,
   "metadata": {},
   "outputs": [],
   "source": [
    "SMILES = df_test['Smiles'].tolist()"
   ]
  },
  {
   "cell_type": "code",
   "execution_count": 21,
   "metadata": {},
   "outputs": [
    {
     "data": {
      "text/plain": [
       "{'mse': 0.335, 'mae': 0.479, 'r^2': 0.944}"
      ]
     },
     "execution_count": 21,
     "metadata": {},
     "output_type": "execute_result"
    }
   ],
   "source": [
    "from sklearn.metrics import mean_absolute_error\n",
    "from sklearn.metrics import mean_squared_error\n",
    "from sklearn.metrics import r2_score\n",
    "from math import sqrt\n",
    "\n",
    "def calculate_metrics(true_values, pred_values):\n",
    "    mse = round(mean_squared_error(true_values, pred_values),3)\n",
    "    mae = round(mean_absolute_error(true_values, pred_values),3)\n",
    "    r_score = round(r2_score(true_values, pred_values),3)\n",
    "\n",
    "    return {\"mse\": mse,\n",
    "            \"mae\": mae,\n",
    "            \"r^2\": r_score,}\n",
    "\n",
    "pred_pKa = [3.461677560806274,\n",
    " 2.5881527423858643,\n",
    " 4.142161512374878,\n",
    " 4.086469612121582,\n",
    " 4.392699527740478,\n",
    " 4.570784664154052,\n",
    " 8.319873523712157,\n",
    " 8.77083963394165,\n",
    " 9.65727912902832,\n",
    " 7.989999370574951,\n",
    " 7.061788959503174,\n",
    " 10.35153003692627,\n",
    " 9.162856369018554,\n",
    " 8.190918769836426,\n",
    " 6.678215637207031,\n",
    " 10.451743888854981,\n",
    " 10.010702629089355,\n",
    " 10.93015785217285,\n",
    " 6.292105846405029,\n",
    " 10.882271881103515,\n",
    " 8.586725559234619,\n",
    " 8.081362323760986,\n",
    " 7.354726142883301,\n",
    " 11.29662769317627,\n",
    " 7.010070400238037]\n",
    "true_pka = df_test['pKa'].tolist()\n",
    "\n",
    "calculate_metrics(true_values=true_pka,\n",
    "                  pred_values=pred_pKa)"
   ]
  },
  {
   "cell_type": "code",
   "execution_count": 18,
   "metadata": {},
   "outputs": [
    {
     "name": "stdout",
     "output_type": "stream",
     "text": [
      "True: 3.55, pred: 3.461677560806274\n",
      "True: 3.51, pred: 2.5881527423858643\n",
      "True: 4.02, pred: 4.142161512374878\n",
      "True: 4.35, pred: 4.086469612121582\n",
      "True: 4.18, pred: 4.392699527740478\n",
      "True: 4.61, pred: 4.570784664154052\n",
      "True: 9.12, pred: 8.319873523712157\n",
      "True: 9.58, pred: 8.77083963394165\n",
      "True: 8.76, pred: 9.65727912902832\n",
      "True: 8.1, pred: 7.989999370574951\n",
      "True: 7.54, pred: 7.061788959503174\n",
      "True: 9.86, pred: 10.35153003692627\n",
      "True: 9.57, pred: 9.162856369018554\n",
      "True: 9.01, pred: 8.190918769836426\n",
      "True: 7.59, pred: 6.678215637207031\n",
      "True: 10.36, pred: 10.451743888854981\n",
      "True: 10.21, pred: 10.010702629089355\n",
      "True: 10.5, pred: 10.93015785217285\n",
      "True: 7.11, pred: 6.292105846405029\n",
      "True: 11.28, pred: 10.882271881103515\n",
      "True: 9.55, pred: 8.586725559234619\n",
      "True: 8.97, pred: 8.081362323760986\n",
      "True: 6.79, pred: 7.354726142883301\n",
      "True: 11.23, pred: 11.29662769317627\n",
      "True: 7.2, pred: 7.010070400238037\n"
     ]
    }
   ],
   "source": [
    "updated_pred_values = []\n",
    "\n",
    "for index in range(len(pred_pKa)):\n",
    "    print(f\"True: {true_pka[index]}, pred: {pred_pKa[index]}\")\n",
    "    updated_pred_values.append(pred_pKa[index] - 0.2)"
   ]
  },
  {
   "cell_type": "code",
   "execution_count": 19,
   "metadata": {},
   "outputs": [
    {
     "data": {
      "text/plain": [
       "{'mse': 0.475, 'mae': 0.577, 'r^2': 0.921}"
      ]
     },
     "execution_count": 19,
     "metadata": {},
     "output_type": "execute_result"
    }
   ],
   "source": [
    "calculate_metrics(true_values=true_pka,\n",
    "                  pred_values=updated_pred_values)"
   ]
  },
  {
   "cell_type": "code",
   "execution_count": null,
   "metadata": {},
   "outputs": [],
   "source": [
    "from pkasolver.query import QueryModel\n",
    "from pkasolver.ml_architecture import GINPairV1\n",
    "import pickle \n",
    "import pkasolver\n",
    "import torch\n",
    "from os import path\n",
    "from rdkit import Chem\n",
    "from pkasolver.query import calculate_microstate_pka_values, draw_pka_reactions\n",
    "from IPython.display import display\n",
    "\n",
    "base_path = path.dirname(pkasolver.__file__)\n",
    "# get input\n",
    "print(\"🔮 Predicting...\")\n",
    "\n",
    "SMILES = ['CCC(F)(F)CC(O)=O',\n",
    " 'OC(C1C2(CC2)C1(F)F)=O',\n",
    " 'FC1(F)CC(C(O)=O)C1',\n",
    " 'O=C(O)C(C1)CC21CC(F)(F)C2',\n",
    " 'FC1(F)CC(C(O)=O)CCC1',\n",
    " 'OC(C1C2(CC2)C1)=O',\n",
    " 'FC1(F)CC(N)CCC1',\n",
    " 'NC(C1)CC21CC(F)(F)C2',\n",
    " 'NC1CC1',\n",
    " 'NC1(CF)CCC1',\n",
    " 'FC1(F)C(N)CCC1',\n",
    " 'NC1CCC1',\n",
    " 'FC1(F)CCC(N)CCC1',\n",
    " 'FC(F)(F)C1CNCCC1',\n",
    " 'CCC(F)(F)CN',\n",
    " 'NCCCC(F)([H])[H]',\n",
    " 'NC(C1)CC21CCC2',\n",
    " 'CCCCN',\n",
    " 'F[C@@H]1CNC[C@H]1F',\n",
    " 'CC1(NC2)CC2C1',\n",
    " 'FC([H])(F)C1CNCCC1',\n",
    " 'FC(F)(F)C1CNCC1',\n",
    " 'FC1(F)CNCCC1',\n",
    " 'C1(NC2)CC2C1',\n",
    " 'NCC([H])(F)F']\n",
    "\n",
    "pred_pka_solver = []\n",
    "\n",
    "for smile in SMILES:\n",
    "    print(smile)\n",
    "    mol = Chem.MolFromSmiles(smile)\n",
    "\n",
    "    protonation_states = calculate_microstate_pka_values(mol, only_dimorphite=False)\n",
    "\n",
    "    for i in range(len(protonation_states)):\n",
    "        state = protonation_states[i]\n",
    "        print(\n",
    "            Chem.MolToSmiles(state.protonated_mol),\n",
    "            Chem.MolToSmiles(state.deprotonated_mol),\n",
    "        )\n",
    "        print(state.pka)\n",
    "        print(\"😀\" + \"--\"*10 + \"😀\")\n",
    "\n",
    "        pred_pka_solver.append(state.pka)"
   ]
  }
 ],
 "metadata": {
  "kernelspec": {
   "display_name": "drug-discovery-venv",
   "language": "python",
   "name": "python3"
  },
  "language_info": {
   "codemirror_mode": {
    "name": "ipython",
    "version": 3
   },
   "file_extension": ".py",
   "mimetype": "text/x-python",
   "name": "python",
   "nbconvert_exporter": "python",
   "pygments_lexer": "ipython3",
   "version": "3.11.9"
  }
 },
 "nbformat": 4,
 "nbformat_minor": 2
}
