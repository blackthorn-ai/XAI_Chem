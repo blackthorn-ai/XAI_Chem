{
 "cells": [
  {
   "cell_type": "code",
   "execution_count": 7,
   "metadata": {},
   "outputs": [
    {
     "name": "stdout",
     "output_type": "stream",
     "text": [
      "JOB plamsjob STARTED\n"
     ]
    },
    {
     "ename": "PlamsError",
     "evalue": "No default jobmanager found. This probably means that PLAMS init() was not called.",
     "output_type": "error",
     "traceback": [
      "\u001b[1;31m---------------------------------------------------------------------------\u001b[0m",
      "\u001b[1;31mPlamsError\u001b[0m                                Traceback (most recent call last)",
      "Cell \u001b[1;32mIn[7], line 76\u001b[0m\n\u001b[0;32m     74\u001b[0m jr \u001b[38;5;241m=\u001b[39m JobRunner(parallel\u001b[38;5;241m=\u001b[39m\u001b[38;5;28;01mTrue\u001b[39;00m, maxjobs\u001b[38;5;241m=\u001b[39mmultiprocessing\u001b[38;5;241m.\u001b[39mcpu_count()) \u001b[38;5;66;03m# run jobs in parallel\u001b[39;00m\n\u001b[0;32m     75\u001b[0m jr\u001b[38;5;241m.\u001b[39m\u001b[38;5;21m__init__\u001b[39m()\n\u001b[1;32m---> 76\u001b[0m \u001b[43mjobs\u001b[49m\u001b[38;5;241;43m.\u001b[39;49m\u001b[43mrun\u001b[49m\u001b[43m(\u001b[49m\u001b[43mjobrunner\u001b[49m\u001b[38;5;241;43m=\u001b[39;49m\u001b[43mjr\u001b[49m\u001b[43m)\u001b[49m\n\u001b[0;32m     78\u001b[0m \u001b[38;5;66;03m# Collect results:\u001b[39;00m\n\u001b[0;32m     79\u001b[0m \u001b[38;5;28;01mfor\u001b[39;00m i, mol \u001b[38;5;129;01min\u001b[39;00m \u001b[38;5;28menumerate\u001b[39m(molecules):\n",
      "File \u001b[1;32mc:\\work\\DrugDiscovery\\drug-discovery-venv\\Lib\\site-packages\\scm\\plams\\core\\basejob.py:124\u001b[0m, in \u001b[0;36mJob.run\u001b[1;34m(self, jobrunner, jobmanager, **kwargs)\u001b[0m\n\u001b[0;32m    122\u001b[0m         jobmanager \u001b[38;5;241m=\u001b[39m config\u001b[38;5;241m.\u001b[39mdefault_jobmanager\n\u001b[0;32m    123\u001b[0m     \u001b[38;5;28;01melse\u001b[39;00m:\n\u001b[1;32m--> 124\u001b[0m         \u001b[38;5;28;01mraise\u001b[39;00m PlamsError(\u001b[38;5;124m'\u001b[39m\u001b[38;5;124mNo default jobmanager found. This probably means that PLAMS init() was not called.\u001b[39m\u001b[38;5;124m'\u001b[39m)\n\u001b[0;32m    126\u001b[0m jobrunner\u001b[38;5;241m.\u001b[39m_run_job(\u001b[38;5;28mself\u001b[39m, jobmanager)\n\u001b[0;32m    127\u001b[0m \u001b[38;5;28;01mreturn\u001b[39;00m \u001b[38;5;28mself\u001b[39m\u001b[38;5;241m.\u001b[39mresults\n",
      "\u001b[1;31mPlamsError\u001b[0m: No default jobmanager found. This probably means that PLAMS init() was not called."
     ]
    }
   ],
   "source": [
    "import scm.plams\n",
    "from scm import plams\n",
    "from scm.plams import *\n",
    "\n",
    "from scm.plams.interfaces.molecule.rdkit import from_smiles\n",
    "from scm.plams.core.settings import Settings\n",
    "from scm.plams.core.basejob import MultiJob\n",
    "from scm.plams.core.jobrunner import JobRunner\n",
    "from scm.plams.interfaces.adfsuite.ams import AMSJob\n",
    "import numpy as np\n",
    "import multiprocessing\n",
    "\n",
    "# In this example we compute pKa (acid dissociation constant) using MOPAC for a set of\n",
    "# molecules. The molecules are defined using smiles strings, and are converted to xyz \n",
    "# structures using the plams-rdkit interface.\n",
    "\n",
    "# Important note: the predicted pKa strongly depend on the molecule's conformer.\n",
    "# Here we use the lowest conformer predicted by rdkit's UFF.\n",
    "# The difference between the values computed here and the results on the \n",
    "# MOPAC website (ref_mopac_pKa) is due to different conformers \n",
    "\n",
    "# Data taken from the online MOPAC manual: http://openmopac.net/manual/ (only a sub set)\n",
    "data_tmp = [\n",
    "   # Molecule name                 smiles                            exp_pKa   ref_mopac_pKa (from mopac's website)\n",
    "   ['1-Naphthoic_acid',           'C1=CC=C2C(=C1)C=CC=C2C(=O)O',      3.69,     4.35],\n",
    "   ['2,2,2-Trichloroethanol',     'C(C(Cl)(Cl)Cl)O',                 12.02,    12.22],\n",
    "   ['2,2,2-Trifluoroethanol',     'C(C(F)(F)F)O',                    12.40,    12.27], \n",
    "   ['2,2-Dimethylpropionic_acid', 'CC(C)(C)C(=O)O',                   5.03,     5.23],\n",
    "   ['2,3,4,6-Tetrachlorophenol',  'C1=C(C(=C(C(=C1Cl)Cl)Cl)O)Cl',     7.10,     6.08],\n",
    "   ['Acetic_acid',                'CC(=O)O',                          4.76,     5.00],\n",
    "   ['Acrylic_acid',               'C=CC(=O)O',                        4.25,     4.65],\n",
    "   ['Benzoid_acid',               'C1=CC=C(C=C1)C(=O)O',              4.20,     4.30],\n",
    "   ['Citric_acid',                'C(C(=O)O)C(CC(=O)O)(C(=O)O)O',     3.13,     2.56],\n",
    "   ['Ethanol',                    'CCO',                             16.00,    16.37],\n",
    "   ['Formic_acid',                'C(=O)O',                           3.77,     3.77],\n",
    "   ['Glycine',                    'C(C(=O)O)N',                       2.35,     2.53],\n",
    "   ['Isoleucine',                 'CCC(C)C(C(=O)O)N',                 2.32,     2.48],\n",
    "   ['Methanol',                   'CO',                              15.54,    15.23],\n",
    "   ['o-Nitrophenol',              'C1=CC=C(C(=C1)[N+](=O)[O-])O',     7.17,     7.52],\n",
    "   ['Pentachlorophenol',          'C1(=C(C(=C(C(=C1Cl)Cl)Cl)Cl)Cl)O', 4.90,     5.55],\n",
    "   ['Phenol',                     'C1=CC=C(C=C1)O',                  10.00,     9.71],\n",
    "   ['Pyruvic_acid',               'CC(=O)C(=O)O',                     2.50,     2.85],\n",
    "   ['T-Butanol',                  'CC(C)(C)O',                       17.00,    16.25],\n",
    "   ['Terephthalic_acid',          'C1=CC(=CC=C1C(=O)O)C(=O)O',        3.51,     3.59],\n",
    "   ['Valine',                     'CC(C)C(C(=O)O)N',                  2.29,     2.61],\n",
    "   ['Water',                      'O',                               15.74,    15.75]]\n",
    "\n",
    "# Turn data_tmp into a dictionary: \n",
    "systems = [{'name':d[0], 'smiles':d[1], 'exp_pKa':d[2], 'ref_mopac_pKa':d[3]} for d in data_tmp] \n",
    "\n",
    "# Create the molecules from the smiles using rdkit:\n",
    "molecules = []\n",
    "for system in systems:\n",
    "   # Compute 30 conformers, optimize with UFF and pick the lowest in energy.\n",
    "   mol = from_smiles(system['smiles'], nconfs=30, forcefield='uff')[0]\n",
    "\n",
    "   mol.properties.name = system['name']\n",
    "   mol.properties.exp_pKa = system['exp_pKa']\n",
    "   mol.properties.ref_mopac_pKa = system['ref_mopac_pKa']\n",
    "   \n",
    "   molecules.append(mol)\n",
    "\n",
    "# MOPAC input:\n",
    "s = Settings()\n",
    "s.runscript.nproc = 1 # serial calculation\n",
    "s.input.ams.Task = 'GeometryOptimization'\n",
    "s.input.ams.GeometryOptimization.Convergence.Step = 1.0e-3\n",
    "s.input.ams.GeometryOptimization.Convergence.Gradients = 1.0e-5\n",
    "s.input.mopac.model = 'PM6'\n",
    "s.input.mopac.properties.pKa = 'Yes'\n",
    "\n",
    "# Set up and run jobs:\n",
    "jobs = MultiJob(children=[AMSJob(name=mol.properties.name, molecule=mol, settings=s) for mol in molecules])\n",
    "jr = JobRunner(parallel=True, maxjobs=multiprocessing.cpu_count()) # run jobs in parallel\n",
    "jobs.run(jobrunner=jr)\n",
    "\n",
    "# Collect results:\n",
    "for i, mol in enumerate(molecules):\n",
    "   pKaValues = jobs.children[i].results.readrkf('Properties', 'pKaValues', file='mopac')\n",
    "   mol.properties.calc_pKa = np.mean(pKaValues) # If there is more than one pKa, take the average value\n",
    " \n",
    "# Print results in a table:\n",
    "print(\"Results:\\n\")\n",
    "print(\"| {:28} | {:8} | {:8} | {:8} | {:8} |\".format(\"Molecule\", \"exp pKa\", \"calc pKa\", \"ref\", 'calc-exp'))\n",
    "for mol in molecules:\n",
    "   print(\"| {:28} | {:>8.2f} | {:>8.4f} | {:>8.2f} | {:>8.2f} |\".format(mol.properties.name, mol.properties.exp_pKa, mol.properties.calc_pKa, mol.properties.ref_mopac_pKa, mol.properties.calc_pKa-mol.properties.exp_pKa))\n",
    "print(\"\")\n",
    "\n",
    "errors = [mol.properties.calc_pKa - mol.properties.exp_pKa for mol in molecules]\n",
    "\n",
    "print(\"Mean signed error  : {:4.2f}\".format(np.mean(errors)))\n",
    "print(\"Mean unsigned error: {:4.2f}\".format(np.mean([abs(e) for e in errors])))\n",
    "print(\"Root mean square error: {:4.2f}\".format(np.sqrt(np.mean([e**2 for e in errors]))))\n",
    "print(\"Done\")"
   ]
  },
  {
   "cell_type": "code",
   "execution_count": 8,
   "metadata": {},
   "outputs": [
    {
     "name": "stdout",
     "output_type": "stream",
     "text": [
      "JOB go_Methane STARTED\n"
     ]
    },
    {
     "ename": "PlamsError",
     "evalue": "No default jobrunner found. This probably means that PLAMS init() was not called.",
     "output_type": "error",
     "traceback": [
      "\u001b[1;31m---------------------------------------------------------------------------\u001b[0m",
      "\u001b[1;31mPlamsError\u001b[0m                                Traceback (most recent call last)",
      "Cell \u001b[1;32mIn[8], line 24\u001b[0m\n\u001b[0;32m     22\u001b[0m \u001b[38;5;66;03m# Run the geometry optimization with GFN1-xTB:\u001b[39;00m\n\u001b[0;32m     23\u001b[0m go_job \u001b[38;5;241m=\u001b[39m AMSJob(molecule\u001b[38;5;241m=\u001b[39mmol, settings\u001b[38;5;241m=\u001b[39mgo_xtb_settings, name\u001b[38;5;241m=\u001b[39m\u001b[38;5;124mf\u001b[39m\u001b[38;5;124m'\u001b[39m\u001b[38;5;124mgo_\u001b[39m\u001b[38;5;132;01m{\u001b[39;00mname\u001b[38;5;132;01m}\u001b[39;00m\u001b[38;5;124m'\u001b[39m)\n\u001b[1;32m---> 24\u001b[0m \u001b[43mgo_job\u001b[49m\u001b[38;5;241;43m.\u001b[39;49m\u001b[43mrun\u001b[49m\u001b[43m(\u001b[49m\u001b[43m)\u001b[49m\n\u001b[0;32m     25\u001b[0m optimized_mol \u001b[38;5;241m=\u001b[39m go_job\u001b[38;5;241m.\u001b[39mresults\u001b[38;5;241m.\u001b[39mget_main_molecule()\n\u001b[0;32m     27\u001b[0m \u001b[38;5;66;03m# Run the single point energy calcualtion with DFT (ADF:\u001b[39;00m\n",
      "File \u001b[1;32mc:\\work\\DrugDiscovery\\drug-discovery-venv\\Lib\\site-packages\\scm\\plams\\interfaces\\adfsuite\\ams.py:1798\u001b[0m, in \u001b[0;36mAMSJob.run\u001b[1;34m(self, jobrunner, jobmanager, watch, **kwargs)\u001b[0m\n\u001b[0;32m   1795\u001b[0m         observer\u001b[38;5;241m.\u001b[39mjoin()\n\u001b[0;32m   1797\u001b[0m \u001b[38;5;28;01melse\u001b[39;00m:\n\u001b[1;32m-> 1798\u001b[0m     results \u001b[38;5;241m=\u001b[39m \u001b[38;5;28;43msuper\u001b[39;49m\u001b[43m(\u001b[49m\u001b[43m)\u001b[49m\u001b[38;5;241;43m.\u001b[39;49m\u001b[43mrun\u001b[49m\u001b[43m(\u001b[49m\u001b[43mjobrunner\u001b[49m\u001b[38;5;241;43m=\u001b[39;49m\u001b[43mjobrunner\u001b[49m\u001b[43m,\u001b[49m\u001b[43m \u001b[49m\u001b[43mjobmanager\u001b[49m\u001b[38;5;241;43m=\u001b[39;49m\u001b[43mjobmanager\u001b[49m\u001b[43m,\u001b[49m\u001b[43m \u001b[49m\u001b[38;5;241;43m*\u001b[39;49m\u001b[38;5;241;43m*\u001b[39;49m\u001b[43mkwargs\u001b[49m\u001b[43m)\u001b[49m\n\u001b[0;32m   1800\u001b[0m \u001b[38;5;28;01mreturn\u001b[39;00m results\n",
      "File \u001b[1;32mc:\\work\\DrugDiscovery\\drug-discovery-venv\\Lib\\site-packages\\scm\\plams\\core\\basejob.py:119\u001b[0m, in \u001b[0;36mJob.run\u001b[1;34m(self, jobrunner, jobmanager, **kwargs)\u001b[0m\n\u001b[0;32m    117\u001b[0m         jobrunner \u001b[38;5;241m=\u001b[39m config\u001b[38;5;241m.\u001b[39mdefault_jobrunner\n\u001b[0;32m    118\u001b[0m     \u001b[38;5;28;01melse\u001b[39;00m:\n\u001b[1;32m--> 119\u001b[0m         \u001b[38;5;28;01mraise\u001b[39;00m PlamsError(\u001b[38;5;124m'\u001b[39m\u001b[38;5;124mNo default jobrunner found. This probably means that PLAMS init() was not called.\u001b[39m\u001b[38;5;124m'\u001b[39m)\n\u001b[0;32m    120\u001b[0m \u001b[38;5;28;01mif\u001b[39;00m jobmanager \u001b[38;5;129;01mis\u001b[39;00m \u001b[38;5;28;01mNone\u001b[39;00m:\n\u001b[0;32m    121\u001b[0m     \u001b[38;5;28;01mif\u001b[39;00m \u001b[38;5;124m'\u001b[39m\u001b[38;5;124mdefault_jobmanager\u001b[39m\u001b[38;5;124m'\u001b[39m \u001b[38;5;129;01min\u001b[39;00m config:\n",
      "\u001b[1;31mPlamsError\u001b[0m: No default jobrunner found. This probably means that PLAMS init() was not called."
     ]
    }
   ],
   "source": [
    "# A dictionary with molecule names and smiles strings:\n",
    "mol_smiles = {'Methane'  : 'C',\n",
    "              'Ethane'   : 'C-C',\n",
    "              'Ethylene' : 'C=C',\n",
    "              'Acetylene': 'C#C'}\n",
    "\n",
    "# Settings for the semi-empirical GFN1-xTB geometry optimization:\n",
    "go_xtb_settings = Settings()\n",
    "go_xtb_settings.input.ams.Task = 'GeometryOptimization'\n",
    "go_xtb_settings.input.dftb.Model = 'GFN1-xTB'\n",
    "\n",
    "# Settings for the single point DFT calculation with ADF:\n",
    "sp_adf_settings = Settings()\n",
    "sp_adf_settings.input.ams.Task = 'SinglePoint'\n",
    "sp_adf_settings.input.adf.basis.type = 'DZP'\n",
    "sp_adf_settings.input.adf.XC.GGA = 'PBE'\n",
    "\n",
    "for name, smiles in mol_smiles.items():\n",
    "    # Generate an xyz structure from the smiles string:\n",
    "    mol = from_smiles(smiles)\n",
    "\n",
    "    # Run the geometry optimization with GFN1-xTB:\n",
    "    go_job = AMSJob(molecule=mol, settings=go_xtb_settings, name=f'go_{name}')\n",
    "    go_job.run()\n",
    "    optimized_mol = go_job.results.get_main_molecule()\n",
    "\n",
    "    # Run the single point energy calcualtion with DFT (ADF:\n",
    "    sp_job = AMSJob(molecule=optimized_mol, settings=sp_adf_settings, name=f'sp_{name}')\n",
    "    sp_job.run()\n",
    "    bonding_energy = sp_job.results.get_energy(unit='kcal/mol')\n",
    "\n",
    "    # Print the results:\n",
    "    print(f\"Energy for {name}: {bonding_energy} [kcal/mol]\")"
   ]
  }
 ],
 "metadata": {
  "kernelspec": {
   "display_name": "drug-discovery-venv",
   "language": "python",
   "name": "python3"
  },
  "language_info": {
   "codemirror_mode": {
    "name": "ipython",
    "version": 3
   },
   "file_extension": ".py",
   "mimetype": "text/x-python",
   "name": "python",
   "nbconvert_exporter": "python",
   "pygments_lexer": "ipython3",
   "version": "3.11.9"
  }
 },
 "nbformat": 4,
 "nbformat_minor": 2
}
