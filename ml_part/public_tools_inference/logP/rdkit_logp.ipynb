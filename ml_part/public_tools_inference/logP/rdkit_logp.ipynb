{
 "cells": [
  {
   "cell_type": "code",
   "execution_count": 13,
   "metadata": {},
   "outputs": [],
   "source": [
    "from sklearn.metrics import mean_absolute_error\n",
    "from sklearn.metrics import mean_squared_error\n",
    "from sklearn.metrics import r2_score\n",
    "from math import sqrt\n",
    "\n",
    "def calculate_metrics(true_values, pred_values):\n",
    "    mse = round(mean_squared_error(true_values, pred_values),3)\n",
    "    mae = round(mean_absolute_error(true_values, pred_values),3)\n",
    "    r_score = round(r2_score(true_values, pred_values),3)\n",
    "\n",
    "    return {\"mse\": mse,\n",
    "            \"mae\": mae,\n",
    "            \"r^2\": r_score,}"
   ]
  },
  {
   "cell_type": "code",
   "execution_count": 5,
   "metadata": {},
   "outputs": [],
   "source": [
    "import pandas as pd\n",
    "\n",
    "train_csv_path = r'C:\\work\\DrugDiscovery\\main_git\\XAI_Chem\\data\\logP_lipophilicity_data\\gnn_cv\\train.csv'\n",
    "test_csv_path = r'C:\\work\\DrugDiscovery\\main_git\\XAI_Chem\\data\\logP_lipophilicity_data\\gnn_cv\\test.csv'\n",
    "\n",
    "df_train = pd.read_csv(train_csv_path, index_col=0)\n",
    "df_test = pd.read_csv(test_csv_path, index_col=0)"
   ]
  },
  {
   "cell_type": "markdown",
   "metadata": {},
   "source": [
    "WITHOUT PREPROCESSING"
   ]
  },
  {
   "cell_type": "code",
   "execution_count": 36,
   "metadata": {},
   "outputs": [
    {
     "data": {
      "text/plain": [
       "{'mse': 0.351, 'mae': 0.502, 'r^2': -0.319}"
      ]
     },
     "execution_count": 36,
     "metadata": {},
     "output_type": "execute_result"
    }
   ],
   "source": [
    "import rdkit\n",
    "from rdkit import Chem\n",
    "from rdkit.Chem import AllChem\n",
    "from rdkit.Chem.Crippen import MolLogP\n",
    "\n",
    "true_values = []\n",
    "pred_values = []\n",
    "\n",
    "for index, row in df_test.iterrows():\n",
    "    SMILES = row['Smiles']\n",
    "    true_logP = row['logP']\n",
    "    \n",
    "    mol = AllChem.MolFromSmiles(SMILES)\n",
    "    pred_logP = MolLogP(mol=mol,\n",
    "                        includeHs=True)\n",
    "    \n",
    "    true_values.append(true_logP)\n",
    "    pred_values.append(pred_logP)\n",
    "\n",
    "calculate_metrics(true_values=true_values,\n",
    "                  pred_values=pred_values)"
   ]
  },
  {
   "cell_type": "markdown",
   "metadata": {},
   "source": [
    "SMILES PREPARATION"
   ]
  },
  {
   "cell_type": "code",
   "execution_count": 24,
   "metadata": {},
   "outputs": [],
   "source": [
    "from rdkit.Chem import rdForceFieldHelpers\n",
    "\n",
    "def find_conf_with_min_energy(mol):\n",
    "    optimization_result = rdForceFieldHelpers.MMFFOptimizeMoleculeConfs(mol)\n",
    "    \n",
    "    min_energy, min_energy_conf_index = pow(10,5), None\n",
    "    for index, (status, energy) in enumerate(optimization_result):\n",
    "        if energy < min_energy and status == 0:\n",
    "            min_energy_conf_index = index\n",
    "            min_energy = min(min_energy, energy)\n",
    "\n",
    "    return min_energy_conf_index, min_energy, mol"
   ]
  },
  {
   "cell_type": "code",
   "execution_count": 26,
   "metadata": {},
   "outputs": [
    {
     "name": "stdout",
     "output_type": "stream",
     "text": [
      "SMILES: O=C(NC1CCC1)C1=CC=CC=C1, pred: 1.9688999999999999, true: 1.95\n",
      "SMILES: FC1(F)CC1C(=O)NC1=CC=CC=C1, pred: 2.2803000000000004, true: 2.07\n",
      "SMILES: FC1(F)CC2(CC(C2)C(=O)NC2=CC=CC=C2)C1, pred: 3.4506000000000014, true: 2.93\n",
      "SMILES: FC1CCN(CC1)C(=O)C1=CC=CC=C1, pred: 2.2607, true: 1.31\n",
      "SMILES: FC1(F)CCC(CC1)C(=O)NC1=CC=CC=C1, pred: 3.4506000000000014, true: 2.63\n",
      "SMILES: [H]C(F)(F)[C@@H]1CC[C@H]1NC(=O)C1=CC=CC=C1, pred: 2.4601000000000006, true: 1.94\n",
      "SMILES: O=C(NC1=CC=CC=C1)C1CC2(CCC2)C1, pred: 3.205400000000002, true: 3.27\n",
      "SMILES: O=C(N1CC2CCCC(C2)C1)C1=CC=CC=C1, pred: 2.948800000000001, true: 2.36\n",
      "SMILES: FC1(F)CCN(CC1)C(=O)C1=CC=CC=C1, pred: 2.557900000000001, true: 1.51\n",
      "SMILES: [H]C(F)(F)C1CCN(CC1)C(=O)C1=CC=CC=C1, pred: 2.8039000000000014, true: 1.67\n",
      "SMILES: C[C@@H]1C[C@@H]1C(=O)NC1=CC=CC=C1, pred: 2.2811000000000003, true: 2.31\n",
      "SMILES: FC(F)(F)CCNC(=O)C1=CC=CC=C1, pred: 2.3688000000000002, true: 1.93\n",
      "SMILES: [H]C(F)(F)C12CC(C1)(OC2)C(=O)NC1=CC=CC=C1, pred: 2.4394, true: 1.93\n",
      "SMILES: FC1(F)CCC1NC(=O)C1=CC=CC=C1, pred: 2.2141, true: 1.7\n",
      "SMILES: [H]C([H])(F)C1CCN(C1)C(=O)C1=CC=CC=C1, pred: 2.1182, true: 1.4\n",
      "SMILES: FC1(F)CN(C1)C(=O)C1=CC=CC=C1, pred: 1.7776999999999998, true: 1.34\n",
      "SMILES: FC1(F)CCC(C1)NC(=O)C1=CC=CC=C1, pred: 2.6042000000000005, true: 2.02\n",
      "SMILES: [H]C([H])(F)[C@@H]1CC[C@H]1NC(=O)C1=CC=CC=C1, pred: 2.1645000000000003, true: 1.85\n",
      "SMILES: FC1(F)CCC1C(=O)NC1=CC=CC=C1, pred: 2.6704000000000008, true: 2.03\n",
      "SMILES: FC1(F)[C@H]2C[C@@H](C[C@@H]12)NC(=O)C1=CC=CC=C1, pred: 2.4601000000000006, true: 2.23\n",
      "SMILES: [H]C([H])(F)CNC(=O)C1=CC=CC=C1, pred: 1.3859000000000001, true: 1.07\n",
      "SMILES: FC(F)C1(CCC1)NC(=O)C1=CC=CC=C1, pred: 2.6042000000000005, true: 2.48\n",
      "SMILES: C[C@@H]1C[C@H]1C(=O)NC1=CC=CC=C1, pred: 2.2811000000000003, true: 2.42\n",
      "SMILES: FC1(F)CCCC(C1)C(=O)NC1=CC=CC=C1, pred: 3.4506000000000014, true: 2.72\n",
      "SMILES: CC(F)(F)CCC(=O)NC1=CC=CC=C1, pred: 3.060500000000001, true: 2.12\n"
     ]
    },
    {
     "data": {
      "text/plain": [
       "{'mse': 0.351, 'mae': 0.502, 'r^2': -0.319}"
      ]
     },
     "execution_count": 26,
     "metadata": {},
     "output_type": "execute_result"
    }
   ],
   "source": [
    "import rdkit\n",
    "from rdkit import Chem\n",
    "from rdkit.Chem import AllChem, Descriptors\n",
    "from rdkit.Chem.Crippen import MolLogP\n",
    "\n",
    "true_values = []\n",
    "pred_values = []\n",
    "\n",
    "for index, row in df_test.iterrows():\n",
    "    SMILES = row['Smiles']\n",
    "    true_logP = row['logP']\n",
    "    \n",
    "    mol = AllChem.MolFromSmiles(SMILES)\n",
    "    mol = Chem.AddHs(mol)\n",
    "    rdForceFieldHelpers.MMFFSanitizeMolecule(mol)\n",
    "\n",
    "    num_rotatable_bonds = Descriptors.NumRotatableBonds(mol)\n",
    "    amount_of_confs = pow(3, num_rotatable_bonds + 3)\n",
    "    AllChem.EmbedMultipleConfs(mol, numConfs=amount_of_confs, randomSeed=3407)\n",
    "\n",
    "    min_energy_conf_index, min_energy, mol = find_conf_with_min_energy(mol)\n",
    "\n",
    "    pred_logP = MolLogP(mol=mol,\n",
    "                        includeHs=True)\n",
    "    \n",
    "    print(f\"SMILES: {SMILES}, pred: {pred_logP}, true: {true_logP}\")\n",
    "    \n",
    "    true_values.append(true_logP)\n",
    "    pred_values.append(pred_logP)\n",
    "\n",
    "calculate_metrics(true_values=true_values,\n",
    "                  pred_values=pred_values)"
   ]
  }
 ],
 "metadata": {
  "kernelspec": {
   "display_name": "drug-discovery-venv",
   "language": "python",
   "name": "python3"
  },
  "language_info": {
   "codemirror_mode": {
    "name": "ipython",
    "version": 3
   },
   "file_extension": ".py",
   "mimetype": "text/x-python",
   "name": "python",
   "nbconvert_exporter": "python",
   "pygments_lexer": "ipython3",
   "version": "3.11.9"
  }
 },
 "nbformat": 4,
 "nbformat_minor": 2
}
