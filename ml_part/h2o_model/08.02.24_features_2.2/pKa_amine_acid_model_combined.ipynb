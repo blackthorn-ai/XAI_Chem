{
 "cells": [
  {
   "cell_type": "code",
   "execution_count": 1,
   "metadata": {},
   "outputs": [],
   "source": [
    "from sklearn.metrics import mean_absolute_error\n",
    "from sklearn.metrics import mean_squared_error\n",
    "from sklearn.metrics import r2_score\n",
    "from math import sqrt\n",
    "\n",
    "def calculate_metrics(true_values, pred_values):\n",
    "    mse = round(mean_squared_error(true_values, pred_values),3)\n",
    "    mae = round(mean_absolute_error(true_values, pred_values),3)\n",
    "    r_score = round(r2_score(true_values, pred_values),3)\n",
    "\n",
    "    return {\"mse\": mse,\n",
    "            \"mae\": mae,\n",
    "            \"r^2\": r_score,}"
   ]
  },
  {
   "cell_type": "code",
   "execution_count": 2,
   "metadata": {},
   "outputs": [
    {
     "name": "stdout",
     "output_type": "stream",
     "text": [
      "Checking whether there is an H2O instance running at http://localhost:54321. connected.\n"
     ]
    },
    {
     "data": {
      "text/html": [
       "\n",
       "<style>\n",
       "\n",
       "#h2o-table-1.h2o-container {\n",
       "  overflow-x: auto;\n",
       "}\n",
       "#h2o-table-1 .h2o-table {\n",
       "  /* width: 100%; */\n",
       "  margin-top: 1em;\n",
       "  margin-bottom: 1em;\n",
       "}\n",
       "#h2o-table-1 .h2o-table caption {\n",
       "  white-space: nowrap;\n",
       "  caption-side: top;\n",
       "  text-align: left;\n",
       "  /* margin-left: 1em; */\n",
       "  margin: 0;\n",
       "  font-size: larger;\n",
       "}\n",
       "#h2o-table-1 .h2o-table thead {\n",
       "  white-space: nowrap; \n",
       "  position: sticky;\n",
       "  top: 0;\n",
       "  box-shadow: 0 -1px inset;\n",
       "}\n",
       "#h2o-table-1 .h2o-table tbody {\n",
       "  overflow: auto;\n",
       "}\n",
       "#h2o-table-1 .h2o-table th,\n",
       "#h2o-table-1 .h2o-table td {\n",
       "  text-align: right;\n",
       "  /* border: 1px solid; */\n",
       "}\n",
       "#h2o-table-1 .h2o-table tr:nth-child(even) {\n",
       "  /* background: #F5F5F5 */\n",
       "}\n",
       "\n",
       "</style>      \n",
       "<div id=\"h2o-table-1\" class=\"h2o-container\">\n",
       "  <table class=\"h2o-table\">\n",
       "    <caption></caption>\n",
       "    <thead></thead>\n",
       "    <tbody><tr><td>H2O_cluster_uptime:</td>\n",
       "<td>6 hours 45 mins</td></tr>\n",
       "<tr><td>H2O_cluster_timezone:</td>\n",
       "<td>Europe/Kiev</td></tr>\n",
       "<tr><td>H2O_data_parsing_timezone:</td>\n",
       "<td>UTC</td></tr>\n",
       "<tr><td>H2O_cluster_version:</td>\n",
       "<td>3.44.0.3</td></tr>\n",
       "<tr><td>H2O_cluster_version_age:</td>\n",
       "<td>1 month and 23 days</td></tr>\n",
       "<tr><td>H2O_cluster_name:</td>\n",
       "<td>H2O_from_python_38066_vv52iw</td></tr>\n",
       "<tr><td>H2O_cluster_total_nodes:</td>\n",
       "<td>1</td></tr>\n",
       "<tr><td>H2O_cluster_free_memory:</td>\n",
       "<td>2.762 Gb</td></tr>\n",
       "<tr><td>H2O_cluster_total_cores:</td>\n",
       "<td>8</td></tr>\n",
       "<tr><td>H2O_cluster_allowed_cores:</td>\n",
       "<td>8</td></tr>\n",
       "<tr><td>H2O_cluster_status:</td>\n",
       "<td>locked, healthy</td></tr>\n",
       "<tr><td>H2O_connection_url:</td>\n",
       "<td>http://localhost:54321</td></tr>\n",
       "<tr><td>H2O_connection_proxy:</td>\n",
       "<td>{\"http\": null, \"https\": null}</td></tr>\n",
       "<tr><td>H2O_internal_security:</td>\n",
       "<td>False</td></tr>\n",
       "<tr><td>Python_version:</td>\n",
       "<td>3.11.8 final</td></tr></tbody>\n",
       "  </table>\n",
       "</div>\n"
      ],
      "text/plain": [
       "--------------------------  -----------------------------\n",
       "H2O_cluster_uptime:         6 hours 45 mins\n",
       "H2O_cluster_timezone:       Europe/Kiev\n",
       "H2O_data_parsing_timezone:  UTC\n",
       "H2O_cluster_version:        3.44.0.3\n",
       "H2O_cluster_version_age:    1 month and 23 days\n",
       "H2O_cluster_name:           H2O_from_python_38066_vv52iw\n",
       "H2O_cluster_total_nodes:    1\n",
       "H2O_cluster_free_memory:    2.762 Gb\n",
       "H2O_cluster_total_cores:    8\n",
       "H2O_cluster_allowed_cores:  8\n",
       "H2O_cluster_status:         locked, healthy\n",
       "H2O_connection_url:         http://localhost:54321\n",
       "H2O_connection_proxy:       {\"http\": null, \"https\": null}\n",
       "H2O_internal_security:      False\n",
       "Python_version:             3.11.8 final\n",
       "--------------------------  -----------------------------"
      ]
     },
     "metadata": {},
     "output_type": "display_data"
    }
   ],
   "source": [
    "import h2o\n",
    "from h2o.automl import H2OAutoML\n",
    "\n",
    "# Start the H2O cluster (locally)\n",
    "h2o.init()"
   ]
  },
  {
   "cell_type": "code",
   "execution_count": 27,
   "metadata": {},
   "outputs": [
    {
     "name": "stdout",
     "output_type": "stream",
     "text": [
      "True\n",
      "128\n",
      "['RPCS', 'PBF', 'mol_weight', 'dipole_moment', 'PPSA5', 'avg_atoms_in_cycle', 'nHRing', 'cis/trans', 'f_atom_fraction', 'dihedral_angle', 'FPSA3', 'distance_between_atoms_in_cycle_and_f_group', 'angle_X1X2R2', 'nF', 'angle_R1X1R2', 'nFAHRing', 'nAHRing', 'chirality', 'sasa', 'PNSA5', 'GeomShapeIndex', 'TASA', 'angle_R2X2R1', 'mol_num_cycles', 'naRing', 'nN', 'f_freedom', 'tpsa+f', 'nFRing', 'identificator', 'nO', 'distance_between_atoms_in_f_group_centers', 'angle_X2X1R1', 'nARing', 'nFARing', 'nC', 'nFHRing', 'f_to_fg', 'pKa', 'logP']\n",
      "mol_weight outliers indexes: [28]\n",
      "f_atom_fraction outliers indexes: [69]\n",
      "distance_between_atoms_in_cycle_and_f_group outliers indexes: [112 113]\n",
      "sasa outliers indexes: [72]\n",
      "logP outliers indexes: [27]\n",
      "Remains rows:73, amount of features: 40\n",
      "feature without unique values: nN\n",
      "65 8\n",
      "Parse progress: |████████████████████████████████████████████████████████████████| (done) 100%\n",
      "Parse progress: |████████████████████████████████████████████████████████████████| (done) 100%\n"
     ]
    }
   ],
   "source": [
    "import os\n",
    "import sys\n",
    "sys.path.insert(0, os.path.dirname('C:\\work\\DrugDiscovery\\main_git\\XAI_Chem\\ml_part'))\n",
    "\n",
    "import pandas as pd\n",
    "\n",
    "from ml_part.random_forest.data_prep.preparation import DataPreparation\n",
    "from ml_part.random_forest.train import RFTrain\n",
    "\n",
    "CSV_PATH = r'C:\\work\\DrugDiscovery\\main_git\\XAI_Chem\\data\\updated_features\\remained_features_pKa_08.02_v4_fixed_distances_chirality.csv'\n",
    "smiles_filepath = r'C:\\work\\DrugDiscovery\\main_git\\XAI_Chem\\data\\updated_features\\smiles_to_index.pkl'\n",
    "\n",
    "dataPreparation = DataPreparation(CSV_PATH)\n",
    "\n",
    "unimportant_features_to_drop = ['dipole_moment', 'RPCS']\n",
    "X, y = dataPreparation.prepare_data_for_RF(is_pKa=True,\n",
    "                                           molecule_type=\"amine\",\n",
    "                                           use_mandatory_features=True,\n",
    "                                           is_remove_outliers=True,\n",
    "                                           is_remove_nan=True,\n",
    "                                           outliers_features_to_skip=unimportant_features_to_drop)\n",
    "\n",
    "correlated_features = ['f_atom_fraction', 'naHRing', 'nFaRing', 'nFaHRing', 'tpsa+f']\n",
    "ring_features_to_remain = ['nFRing', 'nHRing', 'nARing', 'nFHRing']\n",
    "features_to_drop = []\n",
    "for feature_name in X.columns:\n",
    "    if feature_name in correlated_features:\n",
    "        features_to_drop.append(feature_name)\n",
    "    elif \"ring\" in feature_name.lower() and feature_name not in ring_features_to_remain:\n",
    "        features_to_drop.append(feature_name)\n",
    "    elif len(X[feature_name].unique()) == 1:\n",
    "        print(f\"feature without unique values: {feature_name}\")\n",
    "        features_to_drop.append(feature_name)\n",
    "    elif \"angle\" in feature_name or \"distance\" in feature_name:\n",
    "        features_to_drop.append(feature_name)\n",
    "\n",
    "X = X.drop(features_to_drop, axis=1)\n",
    "\n",
    "rf_train = RFTrain(X=X, \n",
    "                   y=y,\n",
    "                   smiles_filepath=smiles_filepath,\n",
    "                   is_pKa=True,\n",
    "                   k_folds=2)\n",
    "\n",
    "y_train = rf_train.y_train\n",
    "X_train = rf_train.X_train\n",
    "\n",
    "y_test = rf_train.y_test\n",
    "X_test = rf_train.X_test\n",
    "\n",
    "train_df = pd.concat([X_train, y_train], axis=1)\n",
    "test_df = pd.concat([X_test, y_test], axis=1)\n",
    "\n",
    "print(len(train_df), len(test_df))\n",
    "\n",
    "train_amine = h2o.H2OFrame(train_df)\n",
    "test_amine = h2o.H2OFrame(test_df)"
   ]
  },
  {
   "cell_type": "code",
   "execution_count": 28,
   "metadata": {},
   "outputs": [
    {
     "name": "stdout",
     "output_type": "stream",
     "text": [
      "True\n",
      "55\n",
      "['RPCS', 'PBF', 'mol_weight', 'dipole_moment', 'PPSA5', 'avg_atoms_in_cycle', 'nHRing', 'cis/trans', 'f_atom_fraction', 'dihedral_angle', 'FPSA3', 'distance_between_atoms_in_cycle_and_f_group', 'angle_X1X2R2', 'nF', 'angle_R1X1R2', 'nFAHRing', 'nAHRing', 'chirality', 'sasa', 'PNSA5', 'GeomShapeIndex', 'TASA', 'angle_R2X2R1', 'mol_num_cycles', 'naRing', 'nN', 'f_freedom', 'tpsa+f', 'nFRing', 'identificator', 'nO', 'distance_between_atoms_in_f_group_centers', 'angle_X2X1R1', 'nARing', 'nFARing', 'nC', 'nFHRing', 'f_to_fg', 'pKa', 'logP']\n",
      "PBF outliers indexes: [40]\n",
      "PPSA5 outliers indexes: [39, 40]\n",
      "FPSA3 outliers indexes: [40]\n",
      "GeomShapeIndex outliers indexes: [50]\n",
      "logP outliers indexes: [48]\n",
      "Remains rows:32, amount of features: 40\n",
      "feature without unique values: nN\n",
      "feature without unique values: identificator\n",
      "26 6\n",
      "Parse progress: |████████████████████████████████████████████████████████████████| (done) 100%\n",
      "Parse progress: |████████████████████████████████████████████████████████████████| (done) 100%\n"
     ]
    }
   ],
   "source": [
    "import os\n",
    "import sys\n",
    "sys.path.insert(0, os.path.dirname('C:\\work\\DrugDiscovery\\main_git\\XAI_Chem\\ml_part'))\n",
    "\n",
    "import pandas as pd\n",
    "\n",
    "from ml_part.random_forest.data_prep.preparation import DataPreparation\n",
    "from ml_part.random_forest.train import RFTrain\n",
    "\n",
    "CSV_PATH = r'C:\\work\\DrugDiscovery\\main_git\\XAI_Chem\\data\\updated_features\\remained_features_pKa_08.02_v4_fixed_distances_chirality.csv'\n",
    "smiles_filepath = r'C:\\work\\DrugDiscovery\\main_git\\XAI_Chem\\data\\updated_features\\smiles_to_index.pkl'\n",
    "\n",
    "dataPreparation = DataPreparation(CSV_PATH)\n",
    "\n",
    "unimportant_features_to_drop = ['dipole_moment', 'RPCS']\n",
    "X, y = dataPreparation.prepare_data_for_RF(is_pKa=True,\n",
    "                                           molecule_type=\"acid\",\n",
    "                                           use_mandatory_features=True,\n",
    "                                           is_remove_outliers=True,\n",
    "                                           is_remove_nan=True,\n",
    "                                           outliers_features_to_skip=unimportant_features_to_drop)\n",
    "\n",
    "correlated_features = ['f_atom_fraction', 'naHRing', 'nFaRing', 'nFaHRing', 'tpsa+f']\n",
    "ring_features_to_remain = ['nFRing', 'nHRing', 'nARing', 'nFHRing']\n",
    "features_to_drop = []\n",
    "for feature_name in X.columns:\n",
    "    if feature_name in correlated_features:\n",
    "        features_to_drop.append(feature_name)\n",
    "    elif \"ring\" in feature_name.lower() and feature_name not in ring_features_to_remain:\n",
    "        features_to_drop.append(feature_name)\n",
    "    elif len(X[feature_name].unique()) == 1:\n",
    "        print(f\"feature without unique values: {feature_name}\")\n",
    "        features_to_drop.append(feature_name)\n",
    "    elif \"angle\" in feature_name or \"distance\" in feature_name:\n",
    "        features_to_drop.append(feature_name)\n",
    "\n",
    "X = X.drop(features_to_drop, axis=1)\n",
    "\n",
    "rf_train = RFTrain(X=X, \n",
    "                   y=y,\n",
    "                   smiles_filepath=smiles_filepath,\n",
    "                   is_pKa=True,\n",
    "                   k_folds=2)\n",
    "\n",
    "y_train = rf_train.y_train\n",
    "X_train = rf_train.X_train\n",
    "\n",
    "y_test = rf_train.y_test\n",
    "X_test = rf_train.X_test\n",
    "\n",
    "train_df = pd.concat([X_train, y_train], axis=1)\n",
    "test_df = pd.concat([X_test, y_test], axis=1)\n",
    "\n",
    "print(len(train_df), len(test_df))\n",
    "\n",
    "train_acid = h2o.H2OFrame(train_df)\n",
    "test_acid = h2o.H2OFrame(test_df)"
   ]
  },
  {
   "cell_type": "code",
   "execution_count": 29,
   "metadata": {},
   "outputs": [],
   "source": [
    "amine_model_path = r'C:\\\\work\\\\DrugDiscovery\\\\main_git\\\\XAI_Chem\\\\ml_part\\\\h2o_model\\\\models\\\\08.02.24_feature_2.2\\\\pKa\\\\amine_molecules(without_angle_feature)_without_outliers\\\\StackedEnsemble_BestOfFamily_5_AutoML_3_20240213_92029'\n",
    "\n",
    "acid_model_path = r'C:\\\\work\\\\DrugDiscovery\\\\main_git\\\\XAI_Chem\\\\ml_part\\\\h2o_model\\\\models\\\\08.02.24_feature_2.2\\\\pKa\\\\acid_molecules(without_angle_feature)_without_outliers\\\\DeepLearning_grid_2_AutoML_4_20240213_102321_model_43'\n",
    "\n",
    "amine_model = h2o.load_model(amine_model_path)\n",
    "acid_model = h2o.load_model(acid_model_path)"
   ]
  },
  {
   "cell_type": "code",
   "execution_count": 30,
   "metadata": {},
   "outputs": [
    {
     "name": "stdout",
     "output_type": "stream",
     "text": [
      "stackedensemble prediction progress: |███████████████████████████████████████████| (done) 100%\n"
     ]
    },
    {
     "name": "stderr",
     "output_type": "stream",
     "text": [
      "c:\\work\\DrugDiscovery\\drug-discovery-venv\\Lib\\site-packages\\h2o\\frame.py:1979: H2ODependencyWarning: converting H2O frame to pandas dataframe using single-thread.  For faster conversion using multi-thread, install datatable (for Python 3.9 or lower), or polars and pyarrow (for Python 3.10 or above).\n",
      "  warnings.warn(\"converting H2O frame to pandas dataframe using single-thread.  For faster conversion using\"\n",
      "c:\\work\\DrugDiscovery\\drug-discovery-venv\\Lib\\site-packages\\h2o\\frame.py:1979: H2ODependencyWarning: converting H2O frame to pandas dataframe using single-thread.  For faster conversion using multi-thread, install datatable (for Python 3.9 or lower), or polars and pyarrow (for Python 3.10 or above).\n",
      "  warnings.warn(\"converting H2O frame to pandas dataframe using single-thread.  For faster conversion using\"\n"
     ]
    },
    {
     "data": {
      "text/plain": [
       "{'mse': 0.312, 'mae': 0.407, 'r^2': 0.719}"
      ]
     },
     "execution_count": 30,
     "metadata": {},
     "output_type": "execute_result"
    }
   ],
   "source": [
    "preds_amine = amine_model.predict(test_amine)\n",
    "true_amine = test_amine.as_data_frame()['pKa']\n",
    "predicted_values_amine = preds_amine.as_data_frame()['predict']\n",
    "\n",
    "calculate_metrics(true_amine, predicted_values_amine)"
   ]
  },
  {
   "cell_type": "code",
   "execution_count": 31,
   "metadata": {},
   "outputs": [
    {
     "name": "stdout",
     "output_type": "stream",
     "text": [
      "deeplearning prediction progress: |██████████████████████████████████████████████| (done) 100%\n"
     ]
    },
    {
     "name": "stderr",
     "output_type": "stream",
     "text": [
      "c:\\work\\DrugDiscovery\\drug-discovery-venv\\Lib\\site-packages\\h2o\\frame.py:1979: H2ODependencyWarning: converting H2O frame to pandas dataframe using single-thread.  For faster conversion using multi-thread, install datatable (for Python 3.9 or lower), or polars and pyarrow (for Python 3.10 or above).\n",
      "  warnings.warn(\"converting H2O frame to pandas dataframe using single-thread.  For faster conversion using\"\n",
      "c:\\work\\DrugDiscovery\\drug-discovery-venv\\Lib\\site-packages\\h2o\\frame.py:1979: H2ODependencyWarning: converting H2O frame to pandas dataframe using single-thread.  For faster conversion using multi-thread, install datatable (for Python 3.9 or lower), or polars and pyarrow (for Python 3.10 or above).\n",
      "  warnings.warn(\"converting H2O frame to pandas dataframe using single-thread.  For faster conversion using\"\n"
     ]
    },
    {
     "data": {
      "text/plain": [
       "{'mse': 0.015, 'mae': 0.107, 'r^2': 0.949}"
      ]
     },
     "execution_count": 31,
     "metadata": {},
     "output_type": "execute_result"
    }
   ],
   "source": [
    "preds_acid = acid_model.predict(test_acid)\n",
    "true_acid = test_acid.as_data_frame()['pKa']\n",
    "predicted_values_acid = preds_acid.as_data_frame()['predict']\n",
    "\n",
    "calculate_metrics(true_acid, predicted_values_acid)"
   ]
  },
  {
   "cell_type": "code",
   "execution_count": 32,
   "metadata": {},
   "outputs": [
    {
     "data": {
      "text/plain": [
       "{'mse': 0.185, 'mae': 0.279, 'r^2': 0.969}"
      ]
     },
     "execution_count": 32,
     "metadata": {},
     "output_type": "execute_result"
    }
   ],
   "source": [
    "predicted_combine = pd.concat([predicted_values_amine, predicted_values_acid])\n",
    "true_combine = pd.concat([true_amine, true_acid])\n",
    "\n",
    "calculate_metrics(true_combine, predicted_combine)"
   ]
  }
 ],
 "metadata": {
  "kernelspec": {
   "display_name": "drug-discovery-venv",
   "language": "python",
   "name": "python3"
  },
  "language_info": {
   "codemirror_mode": {
    "name": "ipython",
    "version": 3
   },
   "file_extension": ".py",
   "mimetype": "text/x-python",
   "name": "python",
   "nbconvert_exporter": "python",
   "pygments_lexer": "ipython3",
   "version": "3.11.7"
  }
 },
 "nbformat": 4,
 "nbformat_minor": 2
}
