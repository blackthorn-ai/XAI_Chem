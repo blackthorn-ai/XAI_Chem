{
 "cells": [
  {
   "cell_type": "code",
   "execution_count": 30,
   "metadata": {},
   "outputs": [
    {
     "name": "stdout",
     "output_type": "stream",
     "text": [
      "Compound(2779136)\n"
     ]
    }
   ],
   "source": [
    "import pubchempy as pcp\n",
    "\n",
    "def smiles_to_casrn(smiles):\n",
    "    try:\n",
    "        compounds = pcp.get_compounds(smiles, 'smiles')\n",
    "        if compounds:\n",
    "            return compounds[0]\n",
    "    except Exception as e:\n",
    "        print(f\"Error: {e}\")\n",
    "        return None\n",
    "\n",
    "smiles_string = \"FC1(F)CCC(C(O)=O)CC1\"\n",
    "print(smiles_to_casrn(smiles_string))\n"
   ]
  },
  {
   "cell_type": "code",
   "execution_count": null,
   "metadata": {},
   "outputs": [],
   "source": [
    "import pubchempy as pcp\n",
    "\n",
    "def smiles_to_casrn(smiles):\n",
    "    compounds = pcp.get_compounds(smiles, 'smiles')\n",
    "    if compounds:\n",
    "        return compounds[0]\n",
    "\n",
    "smiles_string = \"FC1(F)CCC(C(O)=O)CC1\"\n",
    "print(smiles_to_casrn(smiles_string))\n"
   ]
  },
  {
   "cell_type": "code",
   "execution_count": 27,
   "metadata": {},
   "outputs": [],
   "source": [
    "from openbabel import openbabel\n",
    "\n",
    "def smiles_to_ob_molecule(smiles):\n",
    "    obConversion = openbabel.OBConversion()\n",
    "    obConversion.SetInAndOutFormats(\"smi\", \"mol\")\n",
    "\n",
    "    mol = openbabel.OBMol()\n",
    "    obConversion.ReadString(mol, smiles)\n",
    "\n",
    "    return mol\n",
    "\n",
    "# Test with a SMILES string\n",
    "smiles_string = \"CC(=O)OC1=CC=CC=C1C(=O)O\"  # SMILES for Aspirin\n",
    "mol = smiles_to_ob_molecule(smiles_string)"
   ]
  },
  {
   "cell_type": "code",
   "execution_count": 7,
   "metadata": {},
   "outputs": [
    {
     "name": "stdout",
     "output_type": "stream",
     "text": [
      "SMILES: FC1(F)CCC(C(O)=O)CC1\n",
      "mmff94 0.0\n",
      "gasteiger 1.8602753506970129\n",
      "eem2015bm 0.0\n",
      "SMILES: OC(C1CCCCC1)=O\n",
      "mmff94 0.0\n",
      "gasteiger 1.9152180364077103\n",
      "eem2015bm 0.0\n",
      "SMILES: OC([C@@H]1C[C@H]2C[C@H]2C1)=O\n",
      "mmff94 0.0\n",
      "gasteiger 1.8883502568360393\n",
      "eem2015bm 0.0\n",
      "SMILES: OC([C@H]1C[C@H]2C[C@H]2C1)=O\n",
      "mmff94 0.0\n",
      "gasteiger 1.9017024353112204\n",
      "eem2015bm 0.0\n",
      "SMILES: OC([C@H]1C[C@H]2C(F)(F)[C@H]2C1)=O\n",
      "mmff94 0.0\n",
      "gasteiger 3.727726652967509\n",
      "eem2015bm 0.0\n",
      "SMILES: OC([C@@H]1C[C@H]2C(F)(F)[C@H]2C1)=O\n",
      "mmff94 0.0\n",
      "gasteiger 1.7974225013047693\n",
      "eem2015bm 0.0\n",
      "SMILES: O=C(O)C1CCC1\n",
      "mmff94 0.0\n",
      "gasteiger 2.0494872133313216\n",
      "eem2015bm 0.0\n",
      "SMILES: O=C(O)C1(CF)CCC1\n",
      "mmff94 0.0\n",
      "gasteiger 0.5527204820280059\n",
      "eem2015bm 0.0\n",
      "SMILES: O=C(O)C1(C(F)F)CCC1\n",
      "mmff94 0.0\n",
      "gasteiger 4.327872648408048\n",
      "eem2015bm 0.0\n",
      "SMILES: O=C(O)C1(C(F)(F)F)CCC1\n",
      "mmff94 0.0\n",
      "gasteiger 3.3140571885138708\n",
      "eem2015bm 0.0\n",
      "SMILES: FC(F)(F)[C@@H]1C[C@@H](C(O)=O)C1\n",
      "mmff94 0.0\n",
      "gasteiger 1.846402727917698\n",
      "eem2015bm 0.0\n",
      "SMILES: FC(F)(F)[C@H]1C[C@@H](C(O)=O)C1\n",
      "mmff94 0.0\n",
      "gasteiger 2.849028853425275\n",
      "eem2015bm 0.0\n"
     ]
    },
    {
     "ename": "KeyboardInterrupt",
     "evalue": "",
     "output_type": "error",
     "traceback": [
      "\u001b[1;31m---------------------------------------------------------------------------\u001b[0m",
      "\u001b[1;31mKeyboardInterrupt\u001b[0m                         Traceback (most recent call last)",
      "Cell \u001b[1;32mIn[7], line 60\u001b[0m\n\u001b[0;32m     55\u001b[0m \u001b[38;5;66;03m# for atom in mol.GetAtoms():\u001b[39;00m\n\u001b[0;32m     56\u001b[0m \u001b[38;5;66;03m#     atom.SetAtomMapNum(atom.GetIdx())\u001b[39;00m\n\u001b[0;32m     58\u001b[0m ri \u001b[38;5;241m=\u001b[39m mol\u001b[38;5;241m.\u001b[39mGetRingInfo()\n\u001b[1;32m---> 60\u001b[0m min_energy_conf_index, min_energy, mol \u001b[38;5;241m=\u001b[39m \u001b[43mfind_conf_with_min_energy\u001b[49m\u001b[43m(\u001b[49m\u001b[43mmol\u001b[49m\u001b[43m)\u001b[49m\n\u001b[0;32m     62\u001b[0m mol \u001b[38;5;241m=\u001b[39m rdkit_to_openbabel(mol)\n\u001b[0;32m     64\u001b[0m \u001b[38;5;66;03m# You can get a list of charge models\u001b[39;00m\n\u001b[0;32m     65\u001b[0m \u001b[38;5;66;03m#  using `obabel -L charges`\u001b[39;00m\n",
      "Cell \u001b[1;32mIn[7], line 16\u001b[0m, in \u001b[0;36mfind_conf_with_min_energy\u001b[1;34m(mol)\u001b[0m\n\u001b[0;32m     15\u001b[0m \u001b[38;5;28;01mdef\u001b[39;00m \u001b[38;5;21mfind_conf_with_min_energy\u001b[39m(mol):\n\u001b[1;32m---> 16\u001b[0m     optimization_result \u001b[38;5;241m=\u001b[39m \u001b[43mrdForceFieldHelpers\u001b[49m\u001b[38;5;241;43m.\u001b[39;49m\u001b[43mMMFFOptimizeMoleculeConfs\u001b[49m\u001b[43m(\u001b[49m\u001b[43mmol\u001b[49m\u001b[43m)\u001b[49m\n\u001b[0;32m     18\u001b[0m     min_energy, min_energy_conf_index \u001b[38;5;241m=\u001b[39m \u001b[38;5;28mpow\u001b[39m(\u001b[38;5;241m10\u001b[39m,\u001b[38;5;241m5\u001b[39m), \u001b[38;5;28;01mNone\u001b[39;00m\n\u001b[0;32m     19\u001b[0m     \u001b[38;5;28;01mfor\u001b[39;00m index, (status, energy) \u001b[38;5;129;01min\u001b[39;00m \u001b[38;5;28menumerate\u001b[39m(optimization_result):\n",
      "\u001b[1;31mKeyboardInterrupt\u001b[0m: "
     ]
    }
   ],
   "source": [
    "import sys\n",
    "import os\n",
    "import math\n",
    "import pandas as pd\n",
    "from rdkit import Chem\n",
    "from openbabel import openbabel\n",
    "from openbabel import pybel\n",
    "\n",
    "from rdkit import Chem\n",
    "from rdkit.Chem import rdForceFieldHelpers\n",
    "from rdkit.Chem import AllChem, Descriptors\n",
    "import py3Dmol\n",
    "import numpy as np\n",
    "\n",
    "def find_conf_with_min_energy(mol):\n",
    "    optimization_result = rdForceFieldHelpers.MMFFOptimizeMoleculeConfs(mol)\n",
    "    \n",
    "    min_energy, min_energy_conf_index = pow(10,5), None\n",
    "    for index, (status, energy) in enumerate(optimization_result):\n",
    "        if energy < min_energy and status == 0:\n",
    "            min_energy_conf_index = index\n",
    "            min_energy = min(min_energy, energy)\n",
    "\n",
    "    return min_energy_conf_index, min_energy, mol\n",
    "\n",
    "def rdkit_to_openbabel(rdkit_mol):\n",
    "    sdf_writer = Chem.SDWriter('temp.sdf')\n",
    "    sdf_writer.write(rdkit_mol)\n",
    "    sdf_writer.close()\n",
    "\n",
    "    ob_mol = next(pybel.readfile('sdf', 'temp.sdf'))\n",
    "\n",
    "    return ob_mol.OBMol\n",
    "\n",
    "\n",
    "EXCEL_PATH = r'C:\\work\\DrugDiscovery\\main_git\\XAI_Chem\\ml_part\\molecule_features\\pKa_Predicition_Starting data_2024.01.19.xlsx'\n",
    "\n",
    "df = pd.read_excel(EXCEL_PATH, sheet_name=\"Main_List\")\n",
    "\n",
    "for index, row in df.iterrows():\n",
    "\n",
    "    if pd.isnull(row['Smiles']):\n",
    "        continue\n",
    "    \n",
    "    smiles_string = row['Smiles']\n",
    "    mol = Chem.MolFromSmiles(smiles_string)\n",
    "\n",
    "    # mol = Chem.MolFromSmiles('FC(F)(C1(NC2)CC2C1)F')\n",
    "    mol = Chem.AddHs(mol)\n",
    "    rdForceFieldHelpers.MMFFSanitizeMolecule(mol)\n",
    "\n",
    "    num_rotatable_bonds = Descriptors.NumRotatableBonds(mol)\n",
    "    amount_of_confs = pow(3, num_rotatable_bonds + 3)\n",
    "    AllChem.EmbedMultipleConfs(mol, numConfs=amount_of_confs, randomSeed=3407)\n",
    "    # for atom in mol.GetAtoms():\n",
    "    #     atom.SetAtomMapNum(atom.GetIdx())\n",
    "\n",
    "    ri = mol.GetRingInfo()\n",
    "\n",
    "    min_energy_conf_index, min_energy, mol = find_conf_with_min_energy(mol)\n",
    "\n",
    "    mol = rdkit_to_openbabel(mol)\n",
    "\n",
    "    # You can get a list of charge models\n",
    "    #  using `obabel -L charges`\n",
    "    methods = [ 'mmff94', 'gasteiger', 'eem2015bm' ]\n",
    "\n",
    "    print(f\"SMILES: {smiles_string}\")\n",
    "    for method in methods:\n",
    "\n",
    "        cm = openbabel.OBChargeModel.FindType(method)\n",
    "        cm.ComputeCharges(mol)\n",
    "        # but in C++ or Python we can get the dipole moment vector\n",
    "        dipole = cm.GetDipoleMoment(mol)\n",
    "        moment = math.sqrt(dipole.GetX()**2+dipole.GetY()**2+dipole.GetZ()**2)\n",
    "\n",
    "        print(method, moment)"
   ]
  },
  {
   "cell_type": "code",
   "execution_count": 26,
   "metadata": {},
   "outputs": [
    {
     "name": "stdout",
     "output_type": "stream",
     "text": [
      "SMILES: O\n",
      "mmff94 0.0\n",
      "gasteiger 0.9411424317145922\n",
      "eem2015bm 0.0\n"
     ]
    }
   ],
   "source": [
    "import sys\n",
    "import os\n",
    "import math\n",
    "import pandas as pd\n",
    "from rdkit import Chem\n",
    "from openbabel import openbabel\n",
    "from openbabel import pybel\n",
    "\n",
    "from rdkit import Chem\n",
    "from rdkit.Chem import rdForceFieldHelpers\n",
    "from rdkit.Chem import AllChem, Descriptors\n",
    "import py3Dmol\n",
    "import numpy as np\n",
    "\n",
    "def find_conf_with_min_energy(mol):\n",
    "    optimization_result = rdForceFieldHelpers.MMFFOptimizeMoleculeConfs(mol)\n",
    "    \n",
    "    min_energy, min_energy_conf_index = pow(10,5), None\n",
    "    for index, (status, energy) in enumerate(optimization_result):\n",
    "        if energy < min_energy and status == 0:\n",
    "            min_energy_conf_index = index\n",
    "            min_energy = min(min_energy, energy)\n",
    "\n",
    "    return min_energy_conf_index, min_energy, mol\n",
    "\n",
    "def rdkit_to_openbabel(rdkit_mol):\n",
    "    sdf_writer = Chem.SDWriter('temp.sdf')\n",
    "    sdf_writer.write(rdkit_mol)\n",
    "    sdf_writer.close()\n",
    "\n",
    "    ob_mol = next(pybel.readfile('sdf', 'temp.sdf'))\n",
    "\n",
    "    return ob_mol.OBMol\n",
    "\n",
    "    \n",
    "smiles_string = 'O'\n",
    "mol = Chem.MolFromSmiles(smiles_string)\n",
    "\n",
    "mol = Chem.AddHs(mol)\n",
    "rdForceFieldHelpers.MMFFSanitizeMolecule(mol)\n",
    "\n",
    "num_rotatable_bonds = Descriptors.NumRotatableBonds(mol)\n",
    "amount_of_confs = pow(3, num_rotatable_bonds + 3)\n",
    "AllChem.EmbedMultipleConfs(mol, numConfs=amount_of_confs, randomSeed=3407)\n",
    "\n",
    "min_energy_conf_index, min_energy, mol = find_conf_with_min_energy(mol)\n",
    "\n",
    "mol = rdkit_to_openbabel(mol)\n",
    "\n",
    "# You can get a list of charge models\n",
    "#  using `obabel -L charges`\n",
    "methods = [ 'mmff94', 'gasteiger', 'eem2015bm' ]\n",
    "\n",
    "print(f\"SMILES: {smiles_string}\")\n",
    "for method in methods:\n",
    "\n",
    "    cm = openbabel.OBChargeModel.FindType(method)\n",
    "    cm.ComputeCharges(mol)\n",
    "    # but in C++ or Python we can get the dipole moment vector\n",
    "    dipole = cm.GetDipoleMoment(mol)\n",
    "    moment = math.sqrt(dipole.GetX()**2+dipole.GetY()**2+dipole.GetZ()**2)\n",
    "\n",
    "    print(method, moment)"
   ]
  },
  {
   "cell_type": "markdown",
   "metadata": {},
   "source": [
    "SMILES TO CASRN"
   ]
  },
  {
   "cell_type": "code",
   "execution_count": 1,
   "metadata": {},
   "outputs": [
    {
     "name": "stdout",
     "output_type": "stream",
     "text": [
      "CASRN: 50-00-0, SMILES: C=O, dipole_moment: 2.33\n",
      "CASRN: 56-23-5, SMILES: ClC(Cl)(Cl)Cl, dipole_moment: 0.0\n",
      "CASRN: 56-40-6, SMILES: NCC(O)=O, dipole_moment: 1.09\n",
      "CASRN: 56-81-5, SMILES: OCC(O)CO, dipole_moment: 4.21\n",
      "CASRN: 57-13-6, SMILES: NC(N)=O, dipole_moment: 3.83\n",
      "CASRN: 57-55-6, SMILES: CC(O)CO, dipole_moment: 3.62988811742274\n",
      "CASRN: 57-57-8, SMILES: O=C1CCO1, dipole_moment: 4.18\n",
      "CASRN: 60-12-8, SMILES: OCCc1ccccc1, dipole_moment: 1.65\n",
      "CASRN: 60-29-7, SMILES: CCOCC, dipole_moment: 1.15\n",
      "CASRN: 60-34-4, SMILES: CNN, dipole_moment: 1.6294\n",
      "CASRN: 60-35-5, SMILES: CC(N)=O, dipole_moment: 3.76\n",
      "CASRN: 62-53-3, SMILES: Nc1ccccc1, dipole_moment: 1.53\n",
      "CASRN: 64-17-5, SMILES: CCO, dipole_moment: 1.44\n",
      "CASRN: 64-18-6, SMILES: OC=O, dipole_moment: 1.41\n",
      "CASRN: 64-19-7, SMILES: CC(O)=O, dipole_moment: 1.7\n",
      "CASRN: 65-85-0, SMILES: OC(=O)c1ccccc1, dipole_moment: 1.0\n",
      "CASRN: 67-56-1, SMILES: CO, dipole_moment: 1.7\n",
      "CASRN: 67-62-9, SMILES: [Cl-].CO[NH3+], dipole_moment: 2.7183\n",
      "CASRN: 67-63-0, SMILES: CC(C)O, dipole_moment: 1.58\n",
      "CASRN: 67-64-1, SMILES: CC(C)=O, dipole_moment: 2.88\n",
      "CASRN: 67-66-3, SMILES: ClC(Cl)Cl, dipole_moment: 1.01\n",
      "CASRN: 67-68-5, SMILES: C[S](C)=O, dipole_moment: 3.96\n",
      "CASRN: 67-71-0, SMILES: C[S](C)(=O)=O, dipole_moment: 4.49\n",
      "CASRN: 67-72-1, SMILES: ClC(Cl)(Cl)C(Cl)(Cl)Cl, dipole_moment: 0.0\n",
      "CASRN: 68-12-2, SMILES: CN(C)C=O, dipole_moment: 3.82\n",
      "CASRN: 69-72-7, SMILES: OC(=O)c1ccccc1O, dipole_moment: 2.65\n",
      "CASRN: 71-23-8, SMILES: CCCO, dipole_moment: 1.55\n",
      "CASRN: 71-36-3, SMILES: CCCCO, dipole_moment: 1.66\n",
      "CASRN: 71-41-0, SMILES: CCCCCO, dipole_moment: 1.70000359751052\n",
      "CASRN: 71-43-2, SMILES: c1ccccc1, dipole_moment: 0.0\n",
      "CASRN: 71-55-6, SMILES: CC(Cl)(Cl)Cl, dipole_moment: 1.78\n",
      "CASRN: 74-82-8, SMILES: C, dipole_moment: 0.0\n",
      "CASRN: 74-83-9, SMILES: CBr, dipole_moment: 1.81\n",
      "CASRN: 74-84-0, SMILES: CC, dipole_moment: 0.0\n",
      "CASRN: 74-85-1, SMILES: C=C, dipole_moment: 0.0\n",
      "CASRN: 74-86-2, SMILES: C#C, dipole_moment: 0.0\n",
      "CASRN: 74-87-3, SMILES: CCl, dipole_moment: 1.87\n",
      "CASRN: 74-88-4, SMILES: CI, dipole_moment: 1.62\n",
      "CASRN: 74-89-5, SMILES: CN, dipole_moment: 1.31\n",
      "CASRN: 74-90-8, SMILES: C#N, dipole_moment: 2.98\n",
      "CASRN: 74-93-1, SMILES: CS, dipole_moment: 1.52\n",
      "CASRN: 74-95-3, SMILES: BrCBr, dipole_moment: 1.43\n",
      "CASRN: 74-96-4, SMILES: CCBr, dipole_moment: 2.03\n",
      "CASRN: 74-97-5, SMILES: ClCBr, dipole_moment: 2.0001\n",
      "CASRN: 74-98-6, SMILES: CCC, dipole_moment: 0.08\n",
      "CASRN: 74-99-7, SMILES: CC#C, dipole_moment: 0.78\n",
      "CASRN: 75-00-3, SMILES: CCCl, dipole_moment: 2.05\n",
      "CASRN: 75-01-4, SMILES: ClC=C, dipole_moment: 1.45\n",
      "CASRN: 75-02-5, SMILES: FC=C, dipole_moment: 1.43\n",
      "CASRN: 75-04-7, SMILES: CCN, dipole_moment: 1.22\n",
      "CASRN: 75-05-8, SMILES: CC#N, dipole_moment: 3.92\n",
      "CASRN: 75-07-0, SMILES: CC=O, dipole_moment: 2.69\n",
      "CASRN: 75-08-1, SMILES: CCS, dipole_moment: 1.52\n",
      "CASRN: 75-09-2, SMILES: ClCCl, dipole_moment: 1.6\n",
      "CASRN: 75-10-5, SMILES: FCF, dipole_moment: 1.97\n",
      "CASRN: 75-12-7, SMILES: NC=O, dipole_moment: 3.73\n",
      "CASRN: 75-15-0, SMILES: S=C=S, dipole_moment: 0.0\n",
      "CASRN: 75-18-3, SMILES: CSC, dipole_moment: 1.5\n",
      "CASRN: 75-19-4, SMILES: C1CC1, dipole_moment: 0.0\n",
      "CASRN: 75-21-8, SMILES: C1CO1, dipole_moment: 1.89\n",
      "CASRN: 75-25-2, SMILES: BrC(Br)Br, dipole_moment: 0.99\n",
      "CASRN: 75-26-3, SMILES: CC(C)Br, dipole_moment: 2.21\n",
      "CASRN: 75-28-5, SMILES: CC(C)C, dipole_moment: 0.13\n",
      "CASRN: 75-29-6, SMILES: CC(C)Cl, dipole_moment: 2.17\n",
      "CASRN: 75-31-0, SMILES: CC(C)N, dipole_moment: 1.19\n",
      "CASRN: 75-34-3, SMILES: CC(Cl)Cl, dipole_moment: 2.06\n",
      "CASRN: 75-35-4, SMILES: ClC(Cl)=C, dipole_moment: 1.34\n",
      "CASRN: 75-36-5, SMILES: CC(Cl)=O, dipole_moment: 2.72\n",
      "CASRN: 75-37-6, SMILES: CC(F)F, dipole_moment: 2.27\n",
      "CASRN: 75-38-7, SMILES: FC(F)=C, dipole_moment: 1.38\n",
      "CASRN: 75-43-4, SMILES: FC(Cl)Cl, dipole_moment: 1.29\n",
      "CASRN: 75-44-5, SMILES: ClC(Cl)=O, dipole_moment: 1.17\n",
      "CASRN: 75-45-6, SMILES: FC(F)Cl, dipole_moment: 1.4\n",
      "CASRN: 75-46-7, SMILES: FC(F)F, dipole_moment: 1.65\n",
      "CASRN: 75-50-3, SMILES: CN(C)C, dipole_moment: 0.61\n",
      "CASRN: 75-52-5, SMILES: C[N+]([O-])=O, dipole_moment: 3.46\n",
      "CASRN: 75-56-9, SMILES: CC1CO1, dipole_moment: 2.01\n",
      "CASRN: 75-61-6, SMILES: FC(F)(Br)Br, dipole_moment: 0.66\n",
      "CASRN: 75-63-8, SMILES: FC(F)(F)Br, dipole_moment: 0.64\n",
      "CASRN: 75-65-0, SMILES: CC(C)(C)O, dipole_moment: 1.74\n",
      "CASRN: 75-68-3, SMILES: CC(F)(F)Cl, dipole_moment: 2.14\n",
      "CASRN: 75-69-4, SMILES: FC(Cl)(Cl)Cl, dipole_moment: 0.45\n",
      "CASRN: 75-71-8, SMILES: FC(F)(Cl)Cl, dipole_moment: 0.51\n",
      "CASRN: 75-72-9, SMILES: FC(F)(F)Cl, dipole_moment: 0.5\n",
      "CASRN: 75-73-0, SMILES: FC(F)(F)F, dipole_moment: 0.0\n",
      "CASRN: 75-76-3, SMILES: C[Si](C)(C)C, dipole_moment: 0.0\n",
      "CASRN: 75-83-2, SMILES: CCC(C)(C)C, dipole_moment: 0.0\n",
      "CASRN: 75-85-4, SMILES: CCC(C)(C)O, dipole_moment: 1.70000359751052\n",
      "CASRN: 76-01-7, SMILES: ClC(Cl)C(Cl)(Cl)Cl, dipole_moment: 0.92\n",
      "CASRN: 76-05-1, SMILES: OC(=O)C(F)(F)F, dipole_moment: 2.28\n",
      "CASRN: 76-14-2, SMILES: FC(F)(Cl)C(F)(F)Cl, dipole_moment: 0.56\n",
      "CASRN: 76-15-3, SMILES: FC(F)(F)C(F)(F)Cl, dipole_moment: 0.52\n",
      "CASRN: 76-16-4, SMILES: FC(F)(F)C(F)(F)F, dipole_moment: 0.0\n",
      "CASRN: 76-19-7, SMILES: FC(F)(F)C(F)(F)C(F)(F)F, dipole_moment: 0.0\n",
      "CASRN: 78-75-1, SMILES: CC(Br)CBr, dipole_moment: 1.24\n",
      "CASRN: 78-76-2, SMILES: CCC(C)Br, dipole_moment: 2.23\n",
      "CASRN: 78-78-4, SMILES: CCC(C)C, dipole_moment: 0.13\n",
      "CASRN: 78-79-5, SMILES: CC(=C)C=C, dipole_moment: 0.25\n",
      "CASRN: 78-80-8, SMILES: CC(=C)C#C, dipole_moment: 0.51\n",
      "CASRN: 78-81-9, SMILES: CC(C)CN, dipole_moment: 1.27\n",
      "CASRN: 78-83-1, SMILES: CC(C)CO, dipole_moment: 1.64\n",
      "CASRN: 78-85-3, SMILES: CC(=C)C=O, dipole_moment: 2.68\n",
      "CASRN: 78-86-4, SMILES: CCC(C)Cl, dipole_moment: 2.04\n",
      "CASRN: 78-87-5, SMILES: CC(Cl)CCl, dipole_moment: 1.17\n",
      "CASRN: 78-92-2, SMILES: CCC(C)O, dipole_moment: 1.7\n",
      "CASRN: 78-93-3, SMILES: CCC(C)=O, dipole_moment: 2.78\n",
      "CASRN: 78-99-9, SMILES: CCC(Cl)Cl, dipole_moment: 2.081\n",
      "CASRN: 79-00-5, SMILES: ClCC(Cl)Cl, dipole_moment: 1.5\n",
      "CASRN: 79-01-6, SMILES: ClC=C(Cl)Cl, dipole_moment: 0.77\n",
      "CASRN: 79-09-4, SMILES: CCC(O)=O, dipole_moment: 1.751\n",
      "CASRN: 79-10-7, SMILES: OC(=O)C=C, dipole_moment: 1.4599896871365\n",
      "CASRN: 79-11-8, SMILES: OC(=O)CCl, dipole_moment: 2.31\n",
      "CASRN: 79-20-9, SMILES: COC(C)=O, dipole_moment: 1.72\n",
      "CASRN: 79-24-3, SMILES: CC[N+]([O-])=O, dipole_moment: 3.65\n",
      "CASRN: 79-27-6, SMILES: BrC(Br)C(Br)Br, dipole_moment: 1.3\n",
      "CASRN: 79-29-8, SMILES: CC(C)C(C)C, dipole_moment: 0.2\n",
      "CASRN: 79-31-2, SMILES: CC(C)C(O)=O, dipole_moment: 1.09\n",
      "CASRN: 79-34-5, SMILES: ClC(Cl)C(Cl)Cl, dipole_moment: 1.29\n",
      "CASRN: 79-41-4, SMILES: CC(=C)C(O)=O, dipole_moment: 1.64999820124474\n",
      "CASRN: 79-46-9, SMILES: CC(C)[N+]([O-])=O, dipole_moment: 3.73\n",
      "CASRN: 80-62-6, SMILES: COC(=O)C(C)=C, dipole_moment: 1.96999676224053\n",
      "CASRN: 83-32-9, SMILES: C1Cc2cccc3cccc1c23, dipole_moment: 0.254823662025878\n",
      "CASRN: 84-66-2, SMILES: CCOC(=O)c1ccccc1C(=O)OCC, dipole_moment: 2.90001319087192\n",
      "CASRN: 85-01-8, SMILES: c1ccc2c(c1)ccc3ccccc23, dipole_moment: 0.0\n",
      "CASRN: 88-74-4, SMILES: Nc1ccccc1[N+]([O-])=O, dipole_moment: 4.06\n",
      "CASRN: 88-99-3, SMILES: OC(=O)c1ccccc1C(O)=O, dipole_moment: 2.6\n",
      "CASRN: 90-12-0, SMILES: Cc1cccc2ccccc12, dipole_moment: 0.5\n",
      "CASRN: 91-20-3, SMILES: c1ccc2ccccc2c1, dipole_moment: 0.0\n",
      "CASRN: 91-22-5, SMILES: c1ccc2ncccc2c1, dipole_moment: 2.3\n",
      "CASRN: 91-57-6, SMILES: Cc1ccc2ccccc2c1, dipole_moment: 0.4\n",
      "CASRN: 92-52-4, SMILES: c1ccc(cc1)c2ccccc2, dipole_moment: 0.0\n",
      "CASRN: 92-67-1, SMILES: Nc1ccc(cc1)c2ccccc2, dipole_moment: 1.76\n",
      "CASRN: 92-94-4, SMILES: c1ccc(cc1)c2ccc(cc2)c3ccccc3, dipole_moment: 0.7\n",
      "CASRN: 93-58-3, SMILES: COC(=O)c1ccccc1, dipole_moment: 2.53000923361034\n",
      "CASRN: 95-47-6, SMILES: Cc1ccccc1C, dipole_moment: 0.629564341475699\n",
      "CASRN: 95-48-7, SMILES: Cc1ccccc1O, dipole_moment: 1.45099591082971\n",
      "CASRN: 95-65-8, SMILES: Cc1ccc(O)cc1C, dipole_moment: 1.7\n",
      "CASRN: 95-87-4, SMILES: Cc1ccc(C)c(O)c1, dipole_moment: 1.5\n",
      "CASRN: 95-93-2, SMILES: Cc1cc(C)c(C)cc1C, dipole_moment: 0.0\n",
      "CASRN: 96-22-0, SMILES: CCC(=O)CC, dipole_moment: 2.7\n",
      "CASRN: 96-37-7, SMILES: CC1CCCC1, dipole_moment: 0.0\n",
      "CASRN: 96-48-0, SMILES: O=C1CCCO1, dipole_moment: 3.82\n",
      "CASRN: 96-49-1, SMILES: O=C1OCCO1, dipole_moment: 4.51007902531448\n",
      "CASRN: 97-62-1, SMILES: CCOC(=O)C(C)C, dipole_moment: 2.1\n",
      "CASRN: 97-63-2, SMILES: CCOC(=O)C(C)=C, dipole_moment: 2.14999220539387\n",
      "CASRN: 97-64-3, SMILES: CCOC(=O)C(C)O, dipole_moment: 2.39998920746843\n",
      "CASRN: 97-99-4, SMILES: OCC1CCCO1, dipole_moment: 2.12001295103788\n",
      "CASRN: 98-01-1, SMILES: O=Cc1occc1, dipole_moment: 3.54\n",
      "CASRN: 98-82-8, SMILES: CC(C)c1ccccc1, dipole_moment: 0.8\n",
      "CASRN: 98-86-2, SMILES: CC(=O)c1ccccc1, dipole_moment: 3.02\n",
      "CASRN: 98-95-3, SMILES: [O-][N+](=O)c1ccccc1, dipole_moment: 4.22\n",
      "CASRN: 99-08-1, SMILES: Cc1cccc(c1)[N+]([O-])=O, dipole_moment: 4.23\n",
      "CASRN: 99-09-2, SMILES: Nc1cccc(c1)[N+]([O-])=O, dipole_moment: 4.9\n",
      "CASRN: 99-65-0, SMILES: [O-][N+](=O)c1cccc(c1)[N+]([O-])=O, dipole_moment: 3.837\n",
      "CASRN: 99-87-6, SMILES: CC(C)c1ccc(C)cc1, dipole_moment: 0.0\n",
      "CASRN: 99-99-0, SMILES: Cc1ccc(cc1)[N+]([O-])=O, dipole_moment: 4.44\n",
      "CASRN: 100-21-0, SMILES: OC(=O)c1ccc(cc1)C(O)=O, dipole_moment: 2.60219927809955\n",
      "CASRN: 100-25-4, SMILES: [O-][N+](=O)c1ccc(cc1)[N+]([O-])=O, dipole_moment: 0.0\n",
      "CASRN: 100-41-4, SMILES: CCc1ccccc1, dipole_moment: 0.59\n",
      "CASRN: 100-46-9, SMILES: NCc1ccccc1, dipole_moment: 1.38\n",
      "CASRN: 100-47-0, SMILES: N#Cc1ccccc1, dipole_moment: 4.18\n",
      "CASRN: 100-51-6, SMILES: OCc1ccccc1, dipole_moment: 1.7\n",
      "CASRN: 100-52-7, SMILES: O=Cc1ccccc1, dipole_moment: 3.14\n",
      "CASRN: 100-66-3, SMILES: COc1ccccc1, dipole_moment: 1.26\n",
      "CASRN: 101-81-5, SMILES: C(c1ccccc1)c2ccccc2, dipole_moment: 0.4\n",
      "CASRN: 104-51-8, SMILES: CCCCc1ccccc1, dipole_moment: 0.4\n",
      "CASRN: 104-76-7, SMILES: CCCCC(CC)CO, dipole_moment: 1.8\n",
      "CASRN: 105-05-5, SMILES: CCc1ccc(CC)cc1, dipole_moment: 0.0\n",
      "CASRN: 105-37-3, SMILES: CCOC(=O)CC, dipole_moment: 1.7519876245638\n",
      "CASRN: 105-54-4, SMILES: CCCC(=O)OCC, dipole_moment: 1.8\n",
      "CASRN: 105-58-8, SMILES: CCOC(=O)OCC, dipole_moment: 1.09999880082983\n",
      "CASRN: 105-66-8, SMILES: CCCOC(=O)CCC, dipole_moment: 1.8\n",
      "CASRN: 105-67-9, SMILES: Cc1ccc(O)c(C)c1, dipole_moment: 2.0\n",
      "CASRN: 106-36-5, SMILES: CCCOC(=O)CC, dipole_moment: 1.79000131908719\n",
      "CASRN: 106-42-3, SMILES: Cc1ccc(C)cc1, dipole_moment: 0.0\n",
      "CASRN: 106-44-5, SMILES: Cc1ccc(O)cc1, dipole_moment: 1.55892122651125\n",
      "CASRN: 106-49-0, SMILES: Cc1ccc(N)cc1, dipole_moment: 1.31\n",
      "CASRN: 106-89-8, SMILES: ClCC1CO1, dipole_moment: 1.8\n",
      "CASRN: 106-93-4, SMILES: BrCCBr, dipole_moment: 1.04\n",
      "CASRN: 106-94-5, SMILES: CCCBr, dipole_moment: 2.18\n",
      "CASRN: 106-97-8, SMILES: CCCC, dipole_moment: 0.0\n",
      "CASRN: 106-98-9, SMILES: CCC=C, dipole_moment: 0.36\n",
      "CASRN: 106-99-0, SMILES: C=CC=C, dipole_moment: 0.0\n",
      "CASRN: 107-00-6, SMILES: CCC#C, dipole_moment: 0.78\n",
      "CASRN: 107-02-8, SMILES: C=CC=O, dipole_moment: 3.12\n",
      "CASRN: 107-05-1, SMILES: ClCC=C, dipole_moment: 1.94\n",
      "CASRN: 107-06-2, SMILES: ClCCCl, dipole_moment: 2.94\n",
      "CASRN: 107-07-3, SMILES: OCCCl, dipole_moment: 1.78\n",
      "CASRN: 107-10-8, SMILES: CCCN, dipole_moment: 1.17\n",
      "CASRN: 107-12-0, SMILES: CCC#N, dipole_moment: 4.02\n",
      "CASRN: 107-13-1, SMILES: C=CC#N, dipole_moment: 3.87\n",
      "CASRN: 107-15-3, SMILES: NCCN, dipole_moment: 1.99\n",
      "CASRN: 107-18-6, SMILES: OCC=C, dipole_moment: 1.6\n",
      "CASRN: 107-19-7, SMILES: OCC#C, dipole_moment: 1.81\n",
      "CASRN: 107-20-0, SMILES: ClCC=O, dipole_moment: 2.72\n",
      "CASRN: 107-21-1, SMILES: OCCO, dipole_moment: 2.3084025854109\n",
      "CASRN: 107-29-9, SMILES: C/C=N/O, dipole_moment: 0.94\n",
      "CASRN: 107-31-3, SMILES: COC=O, dipole_moment: 1.77\n",
      "CASRN: 107-41-5, SMILES: CC(O)CC(C)(C)O, dipole_moment: 2.9\n",
      "CASRN: 107-83-5, SMILES: CCCC(C)C, dipole_moment: 0.0\n",
      "CASRN: 107-87-9, SMILES: CCCC(C)=O, dipole_moment: 2.71998776846422\n",
      "CASRN: 107-92-6, SMILES: CCCC(O)=O, dipole_moment: 1.23\n",
      "CASRN: 107-93-7, SMILES: C/C=C/C(O)=O, dipole_moment: 2.13\n",
      "CASRN: 108-03-2, SMILES: CCC[N+]([O-])=O, dipole_moment: 3.66\n",
      "CASRN: 108-08-7, SMILES: CC(C)CC(C)C, dipole_moment: 0.0\n",
      "CASRN: 108-10-1, SMILES: CC(C)CC(C)=O, dipole_moment: 2.8\n",
      "CASRN: 108-20-3, SMILES: CC(C)OC(C)C, dipole_moment: 1.13000803444017\n",
      "CASRN: 108-21-4, SMILES: CC(C)OC(C)=O, dipole_moment: 1.75000899377631\n",
      "CASRN: 108-24-7, SMILES: CC(=O)OC(C)=O, dipole_moment: 3.0\n",
      "CASRN: 108-38-3, SMILES: Cc1cccc(C)c1, dipole_moment: 0.299792543559857\n",
      "CASRN: 108-39-4, SMILES: Cc1cccc(O)c1, dipole_moment: 1.58890048086724\n",
      "CASRN: 108-44-1, SMILES: Cc1cccc(N)c1, dipole_moment: 1.49\n",
      "CASRN: 108-46-3, SMILES: Oc1cccc(O)c1, dipole_moment: 2.09\n",
      "CASRN: 108-47-4, SMILES: Cc1ccnc(C)c1, dipole_moment: 2.3\n",
      "CASRN: 108-48-5, SMILES: Cc1cccc(C)n1, dipole_moment: 1.7\n",
      "CASRN: 108-64-5, SMILES: CCOC(=O)CC(C)C, dipole_moment: 1.96999676224053\n",
      "CASRN: 108-67-8, SMILES: Cc1cc(C)cc(C)c1, dipole_moment: 0.1\n",
      "CASRN: 108-68-9, SMILES: Cc1cc(C)cc(O)c1, dipole_moment: 1.8\n",
      "CASRN: 108-86-1, SMILES: Brc1ccccc1, dipole_moment: 1.7\n",
      "CASRN: 108-87-2, SMILES: CC1CCCCC1, dipole_moment: 0.0\n",
      "CASRN: 108-88-3, SMILES: Cc1ccccc1, dipole_moment: 0.33\n",
      "CASRN: 108-90-7, SMILES: Clc1ccccc1, dipole_moment: 1.69\n",
      "CASRN: 108-91-8, SMILES: NC1CCCCC1, dipole_moment: 1.31\n",
      "CASRN: 108-93-0, SMILES: OC1CCCCC1, dipole_moment: 1.86000287800842\n",
      "CASRN: 108-94-1, SMILES: O=C1CCCCC1, dipole_moment: 3.02\n",
      "CASRN: 108-95-2, SMILES: Oc1ccccc1, dipole_moment: 1.22\n",
      "CASRN: 108-99-6, SMILES: Cc1cccnc1, dipole_moment: 2.4\n",
      "CASRN: 109-06-8, SMILES: Cc1ccccn1, dipole_moment: 1.9\n",
      "CASRN: 109-60-4, SMILES: CCCOC(C)=O, dipole_moment: 1.79000131908719\n",
      "CASRN: 109-66-0, SMILES: CCCCC, dipole_moment: 0.0\n",
      "CASRN: 109-67-1, SMILES: CCCC=C, dipole_moment: 0.39\n",
      "CASRN: 109-69-3, SMILES: CCCCCl, dipole_moment: 2.05\n",
      "CASRN: 109-73-9, SMILES: CCCCN, dipole_moment: 1.39\n",
      "CASRN: 109-74-0, SMILES: CCCC#N, dipole_moment: 4.07\n",
      "CASRN: 109-77-3, SMILES: N#CCC#N, dipole_moment: 3.73\n",
      "CASRN: 109-83-1, SMILES: CNCCO, dipole_moment: 2.159\n",
      "CASRN: 109-86-4, SMILES: COCCO, dipole_moment: 2.04\n",
      "CASRN: 109-89-7, SMILES: CCNCC, dipole_moment: 0.92\n",
      "CASRN: 109-92-2, SMILES: CCOC=C, dipole_moment: 1.27\n",
      "CASRN: 109-93-3, SMILES: C=COC=C, dipole_moment: 0.78\n",
      "CASRN: 109-94-4, SMILES: CCOC=O, dipole_moment: 1.98\n",
      "CASRN: 109-97-7, SMILES: [nH]1cccc1, dipole_moment: 1.84\n",
      "CASRN: 109-99-9, SMILES: C1CCOC1, dipole_moment: 1.63\n",
      "CASRN: 110-00-9, SMILES: o1cccc1, dipole_moment: 0.66\n",
      "CASRN: 110-02-1, SMILES: s1cccc1, dipole_moment: 0.55\n",
      "CASRN: 110-15-6, SMILES: OC(=O)CCC(O)=O, dipole_moment: 2.2\n",
      "CASRN: 110-17-8, SMILES: OC(=O)\\C=C\\C(O)=O, dipole_moment: 2.45\n",
      "CASRN: 110-19-0, SMILES: CC(C)COC(C)=O, dipole_moment: 1.871\n",
      "CASRN: 110-54-3, SMILES: CCCCCC, dipole_moment: 0.0\n",
      "CASRN: 110-56-5, SMILES: ClCCCCCl, dipole_moment: 2.22\n",
      "CASRN: 110-59-8, SMILES: CCCCC#N, dipole_moment: 4.12\n",
      "CASRN: 110-62-3, SMILES: CCCCC=O, dipole_moment: 2.57000155892123\n",
      "CASRN: 110-63-4, SMILES: OCCCCO, dipole_moment: 3.93\n",
      "CASRN: 110-71-4, SMILES: COCCOC, dipole_moment: 1.71\n",
      "CASRN: 110-74-7, SMILES: CCCOC=O, dipole_moment: 1.9\n",
      "CASRN: 110-82-7, SMILES: C1CCCCC1, dipole_moment: 0.61\n",
      "CASRN: 110-83-8, SMILES: C1CCC=CC1, dipole_moment: 0.33\n",
      "CASRN: 110-85-0, SMILES: C1CNCCN1, dipole_moment: 1.47\n",
      "CASRN: 110-86-1, SMILES: c1ccncc1, dipole_moment: 2.19\n",
      "CASRN: 110-88-3, SMILES: C1OCOCO1, dipole_moment: 2.08\n",
      "CASRN: 110-89-4, SMILES: C1CCNCC1, dipole_moment: 1.19\n",
      "CASRN: 110-94-1, SMILES: OC(=O)CCCC(O)=O, dipole_moment: 2.64\n",
      "CASRN: 111-15-9, SMILES: CCOCCOC(C)=O, dipole_moment: 2.25000299792544\n",
      "CASRN: 111-27-3, SMILES: CCCCCCO, dipole_moment: 1.64999820124474\n",
      "CASRN: 111-29-5, SMILES: OCCCCCO, dipole_moment: 2.37000995311245\n",
      "CASRN: 111-34-2, SMILES: CCCCOC=C, dipole_moment: 1.25001498962718\n",
      "CASRN: 111-42-2, SMILES: OCCNCCO, dipole_moment: 0.851\n",
      "CASRN: 111-43-3, SMILES: CCCOCCC, dipole_moment: 1.21\n",
      "CASRN: 111-46-6, SMILES: OCCOCCO, dipole_moment: 5.486\n",
      "CASRN: 111-65-9, SMILES: CCCCCCCC, dipole_moment: 0.0\n",
      "CASRN: 111-66-0, SMILES: CCCCCCC=C, dipole_moment: 0.3\n",
      "CASRN: 111-70-6, SMILES: CCCCCCCO, dipole_moment: 1.7\n",
      "CASRN: 111-76-2, SMILES: CCCCOCCO, dipole_moment: 2.07999064647264\n",
      "CASRN: 111-84-2, SMILES: CCCCCCCCC, dipole_moment: 0.0\n",
      "CASRN: 111-87-5, SMILES: CCCCCCCCO, dipole_moment: 1.64999820124474\n",
      "CASRN: 111-92-2, SMILES: CCCCNCCCC, dipole_moment: 1.1\n",
      "CASRN: 112-27-6, SMILES: OCCOCCOCCO, dipole_moment: 5.58\n",
      "CASRN: 112-30-1, SMILES: CCCCCCCCCCO, dipole_moment: 1.8\n",
      "CASRN: 112-40-3, SMILES: CCCCCCCCCCCC, dipole_moment: 0.0\n",
      "CASRN: 112-80-1, SMILES: CCCCCCCC/C=C/CCCCCCCC(O)=O, dipole_moment: 1.44\n",
      "CASRN: 112-92-5, SMILES: CCCCCCCCCCCCCCCCCCO, dipole_moment: 1.7\n",
      "CASRN: 112-95-8, SMILES: CCCCCCCCCCCCCCCCCCCC, dipole_moment: 0.0\n",
      "CASRN: 115-07-1, SMILES: CC=C, dipole_moment: 0.36\n",
      "CASRN: 115-08-2, SMILES: NC=S, dipole_moment: 2.9905\n",
      "CASRN: 115-10-6, SMILES: COC, dipole_moment: 1.3\n",
      "CASRN: 115-11-7, SMILES: CC(C)=C, dipole_moment: 0.5\n",
      "CASRN: 115-25-3, SMILES: FC1(F)C(F)(F)C(F)(F)C1(F)F, dipole_moment: 0.0\n",
      "CASRN: 116-14-3, SMILES: FC(F)=C(F)F, dipole_moment: 0.0\n",
      "CASRN: 117-84-0, SMILES: CCCCCCCCOC(=O)c1ccccc1C(=O)OCCCCCCCC, dipole_moment: 2.839\n",
      "CASRN: 118-90-1, SMILES: Cc1ccccc1C(O)=O, dipole_moment: 1.7\n",
      "CASRN: 119-36-8, SMILES: COC(=O)c1ccccc1O, dipole_moment: 2.46999076638966\n",
      "CASRN: 119-65-3, SMILES: c1ccc2cnccc2c1, dipole_moment: 2.7\n",
      "CASRN: 120-12-7, SMILES: c1ccc2cc3ccccc3cc2c1, dipole_moment: 0.0\n",
      "CASRN: 120-80-9, SMILES: Oc1ccccc1O, dipole_moment: 2.599\n",
      "CASRN: 120-92-3, SMILES: O=C1CCCC1, dipole_moment: 3.25\n",
      "CASRN: 121-44-8, SMILES: CCN(CC)CC, dipole_moment: 0.9\n",
      "CASRN: 121-91-5, SMILES: OC(=O)c1cccc(c1)C(O)=O, dipole_moment: 2.27\n",
      "CASRN: 123-05-7, SMILES: CCCCC(CC)C=O, dipole_moment: 2.66\n",
      "CASRN: 123-38-6, SMILES: CCC=O, dipole_moment: 2.52\n",
      "CASRN: 123-42-2, SMILES: CC(=O)CC(C)(C)O, dipole_moment: 3.24015781079493\n",
      "CASRN: 123-51-3, SMILES: CC(C)CCO, dipole_moment: 1.79998441078774\n",
      "CASRN: 123-72-8, SMILES: CCCC=O, dipole_moment: 2.72\n",
      "CASRN: 123-73-9, SMILES: C/C=C/C=O, dipole_moment: 3.67\n",
      "CASRN: 123-86-4, SMILES: CCCCOC(C)=O, dipole_moment: 1.8401266323704\n",
      "CASRN: 123-91-1, SMILES: C1COCCO1, dipole_moment: 0.0\n",
      "CASRN: 123-92-2, SMILES: CC(C)CCOC(C)=O, dipole_moment: 1.8\n",
      "CASRN: 123-96-6, SMILES: CCCCCCC(C)O, dipole_moment: 1.6\n",
      "CASRN: 123-99-9, SMILES: OC(=O)CCCCCCCC(O)=O, dipole_moment: 2.35\n",
      "CASRN: 124-04-9, SMILES: OC(=O)CCCCC(O)=O, dipole_moment: 2.32\n",
      "CASRN: 124-18-5, SMILES: CCCCCCCCCC, dipole_moment: 0.0\n",
      "CASRN: 124-38-9, SMILES: O=C=O, dipole_moment: 0.0\n",
      "CASRN: 124-40-3, SMILES: CNC, dipole_moment: 1.03\n",
      "CASRN: 127-18-4, SMILES: ClC(Cl)=C(Cl)Cl, dipole_moment: 0.0\n",
      "CASRN: 131-11-3, SMILES: COC(=O)c1ccccc1C(=O)OC, dipole_moment: 2.8\n",
      "CASRN: 141-43-5, SMILES: NCCO, dipole_moment: 0.777\n",
      "CASRN: 141-46-8, SMILES: OCC=O, dipole_moment: 2.73\n",
      "CASRN: 141-78-6, SMILES: CCOC(C)=O, dipole_moment: 1.78\n",
      "CASRN: 141-93-5, SMILES: CCc1cccc(CC)c1, dipole_moment: 0.36\n",
      "CASRN: 142-28-9, SMILES: ClCCCCl, dipole_moment: 2.081\n",
      "CASRN: 142-29-0, SMILES: C1CC=CC1, dipole_moment: 0.19\n",
      "CASRN: 142-68-7, SMILES: C1CCOCC1, dipole_moment: 1.74\n",
      "CASRN: 142-82-5, SMILES: CCCCCCC, dipole_moment: 0.0\n",
      "CASRN: 142-84-7, SMILES: CCCNCCC, dipole_moment: 1.07\n",
      "CASRN: 143-08-8, SMILES: CCCCCCCCCO, dipole_moment: 1.7\n",
      "CASRN: 151-51-9, SMILES: N=C=N, dipole_moment: 3.3696\n",
      "CASRN: 151-56-4, SMILES: C1CN1, dipole_moment: 1.9\n",
      "CASRN: 156-59-2, SMILES: Cl\\C=C/Cl, dipole_moment: 1.9\n",
      "CASRN: 156-60-5, SMILES: Cl\\C=C\\Cl, dipole_moment: 0.0\n",
      "CASRN: 156-87-6, SMILES: NCCCO, dipole_moment: 2.69\n",
      "CASRN: 157-16-4, SMILES: C1C=N1, dipole_moment: 2.4388\n",
      "CASRN: 157-18-6, SMILES: O1C=C1, dipole_moment: 2.2342\n",
      "CASRN: 157-22-2, SMILES: C1N=N1, dipole_moment: 1.59\n",
      "CASRN: 157-26-6, SMILES: C1OO1, dipole_moment: 2.48\n",
      "CASRN: 157-33-5, SMILES: C1C2CC12, dipole_moment: 0.68\n",
      "CASRN: 185-94-4, SMILES: C1CC2CC12, dipole_moment: 0.26\n",
      "CASRN: 275-51-4, SMILES: c1ccc2cccc2cc1, dipole_moment: 0.8\n",
      "CASRN: 277-10-1, SMILES: C12C3C4C1C5C2C3C45, dipole_moment: 0.0\n",
      "CASRN: 279-23-2, SMILES: C1CC2CCC1C2, dipole_moment: 0.09\n",
      "CASRN: 285-58-5, SMILES: C1CC2CC2C1, dipole_moment: 0.19\n",
      "CASRN: 287-23-0, SMILES: C1CCC1, dipole_moment: 0.0\n",
      "CASRN: 287-27-4, SMILES: C1CSC1, dipole_moment: 1.85\n",
      "CASRN: 287-92-3, SMILES: C1CCCC1, dipole_moment: 0.0\n",
      "CASRN: 288-14-2, SMILES: o1cccn1, dipole_moment: 2.9\n",
      "CASRN: 288-42-6, SMILES: o1ccnc1, dipole_moment: 1.5\n",
      "CASRN: 290-37-9, SMILES: c1cnccn1, dipole_moment: 0.0\n",
      "CASRN: 290-87-9, SMILES: c1ncncn1, dipole_moment: 0.0\n",
      "CASRN: 291-64-5, SMILES: C1CCCCCC1, dipole_moment: 0.0\n",
      "CASRN: 292-64-8, SMILES: C1CCCCCCC1, dipole_moment: 0.0\n",
      "CASRN: 302-01-2, SMILES: NN, dipole_moment: 1.75\n",
      "CASRN: 307-34-6, SMILES: FC(F)(F)C(F)(F)C(F)(F)C(F)(F)C(F)(F)C(F)(F)C(F)(F)C(F)(F)F, dipole_moment: 0.0\n",
      "CASRN: 307-45-9, SMILES: FC(F)(F)C(F)(F)C(F)(F)C(F)(F)C(F)(F)C(F)(F)C(F)(F)C(F)(F)C(F)(F)C(F)(F)F, dipole_moment: 0.0\n",
      "CASRN: 334-88-3, SMILES: C=[N+]=[N-], dipole_moment: 1.5\n",
      "CASRN: 335-57-9, SMILES: FC(F)(F)C(F)(F)C(F)(F)C(F)(F)C(F)(F)C(F)(F)C(F)(F)F, dipole_moment: 0.0\n",
      "CASRN: 352-93-2, SMILES: CCSCC, dipole_moment: 1.56\n",
      "CASRN: 353-36-6, SMILES: CCF, dipole_moment: 1.96\n",
      "CASRN: 353-50-4, SMILES: FC(F)=O, dipole_moment: 0.95\n",
      "CASRN: 353-85-5, SMILES: NCC(F)(F)F, dipole_moment: 1.33\n",
      "CASRN: 354-33-6, SMILES: FC(F)C(F)(F)F, dipole_moment: 1.541\n",
      "CASRN: 355-42-0, SMILES: FC(F)(F)C(F)(F)C(F)(F)C(F)(F)C(F)(F)C(F)(F)F, dipole_moment: 0.0\n",
      "CASRN: 355-68-0, SMILES: FC1(F)C(F)(F)C(F)(F)C(F)(F)C(F)(F)C1(F)F, dipole_moment: 0.0\n",
      "CASRN: 359-11-5, SMILES: FC=C(F)F, dipole_moment: 1.4\n",
      "CASRN: 359-35-3, SMILES: FC(F)C(F)F, dipole_moment: 0.0\n",
      "CASRN: 372-18-9, SMILES: Fc1cccc(F)c1, dipole_moment: 1.58\n",
      "CASRN: 373-52-4, SMILES: FCBr, dipole_moment: 2.1681\n",
      "HTTP error occurred: 500 Server Error: INTERNAL SERVER ERROR for url: https://cactus.nci.nih.gov/chemical/structure/375-96-2/smiles\n",
      "CASRN: 375-96-2, SMILES: None, dipole_moment: 0.0\n",
      "CASRN: 392-56-3, SMILES: Fc1c(F)c(F)c(F)c(F)c1F, dipole_moment: 0.0\n",
      "CASRN: 409-21-2, SMILES: [C-]#[Si+], dipole_moment: 1.1802\n",
      "CASRN: 420-04-2, SMILES: NC#N, dipole_moment: 4.32\n",
      "CASRN: 420-05-3, SMILES: OC#N, dipole_moment: 3.997\n",
      "CASRN: 420-12-2, SMILES: C1CS1, dipole_moment: 1.85\n",
      "CASRN: 420-46-2, SMILES: CC(F)(F)F, dipole_moment: 2.32\n",
      "CASRN: 460-12-8, SMILES: C#CC#C, dipole_moment: 0.0\n",
      "CASRN: 460-19-5, SMILES: NCCN, dipole_moment: 0.0\n",
      "CASRN: 462-06-6, SMILES: Fc1ccccc1, dipole_moment: 1.6\n",
      "CASRN: 463-49-0, SMILES: [CH2]=[C]=[CH2], dipole_moment: 0.0\n",
      "CASRN: 463-51-4, SMILES: C=C=O, dipole_moment: 1.42\n",
      "CASRN: 463-56-9, SMILES: SC#N, dipole_moment: 3.604\n",
      "CASRN: 463-57-0, SMILES: OCO, dipole_moment: 3.0623\n",
      "CASRN: 463-58-1, SMILES: O=C=S, dipole_moment: 0.71\n",
      "CASRN: 463-82-1, SMILES: CC(C)(C)C, dipole_moment: 0.0\n",
      "CASRN: 464-06-2, SMILES: CC(C)C(C)(C)C, dipole_moment: 0.0\n",
      "CASRN: 493-01-6, SMILES: C1CCC2CCCCC2C1, dipole_moment: 0.0\n",
      "CASRN: 493-02-7, SMILES: C1CCC2CCCCC2C1, dipole_moment: 0.0\n",
      "CASRN: 497-20-1, SMILES: C=C1C=CC=C1, dipole_moment: 0.42\n",
      "CASRN: 503-17-3, SMILES: CC#CC, dipole_moment: 0.0\n",
      "CASRN: 503-30-0, SMILES: C1COC1, dipole_moment: 1.94\n",
      "CASRN: 503-74-2, SMILES: CC(C)CC(O)=O, dipole_moment: 0.629984051036683\n",
      "HTTP error occurred: 500 Server Error: INTERNAL SERVER ERROR for url: https://cactus.nci.nih.gov/chemical/structure/504-64-3/smiles\n",
      "CASRN: 504-64-3, SMILES: None, dipole_moment: 0.0\n",
      "CASRN: 505-22-6, SMILES: C1COCOC1, dipole_moment: 2.06\n",
      "CASRN: 506-66-1, SMILES: [Be]=C=[Be], dipole_moment: 3.2796\n",
      "CASRN: 506-68-3, SMILES: BrC#N, dipole_moment: 3.1966\n",
      "CASRN: 506-77-4, SMILES: ClC#N, dipole_moment: 2.82\n",
      "CASRN: 506-80-9, SMILES: [Se]=C=[Se], dipole_moment: 2.8152\n",
      "CASRN: 506-85-4, SMILES: ON=C, dipole_moment: 3.06\n",
      "CASRN: 507-20-0, SMILES: CC(C)(C)Cl, dipole_moment: 2.13\n",
      "CASRN: 513-35-9, SMILES: CC=C(C)C, dipole_moment: 0.338765574222638\n",
      "CASRN: 534-22-5, SMILES: Cc1occc1, dipole_moment: 0.7\n",
      "CASRN: 536-74-3, SMILES: C#Cc1ccccc1, dipole_moment: 0.66\n",
      "CASRN: 538-93-2, SMILES: CC(C)Cc1ccccc1, dipole_moment: 0.3\n",
      "CASRN: 540-54-5, SMILES: CCCCl, dipole_moment: 2.05\n",
      "CASRN: 540-67-0, SMILES: CCOC, dipole_moment: 1.23\n",
      "CASRN: 540-88-5, SMILES: CC(=O)OC(C)(C)C, dipole_moment: 1.91\n",
      "CASRN: 542-55-2, SMILES: CC(C)COC=O, dipole_moment: 1.89001211161876\n",
      "CASRN: 542-92-7, SMILES: C1C=CC=C1, dipole_moment: 0.42\n",
      "CASRN: 543-59-9, SMILES: CCCCCCl, dipole_moment: 2.16\n",
      "CASRN: 544-76-3, SMILES: CCCCCCCCCCCCCCCC, dipole_moment: 0.0\n",
      "CASRN: 544-92-3, SMILES: [Cu+].[C-]#N, dipole_moment: 0.6239\n",
      "CASRN: 547-63-7, SMILES: COC(=O)C(C)C, dipole_moment: 2.0\n",
      "CASRN: 554-12-1, SMILES: CCC(=O)OC, dipole_moment: 1.7\n",
      "CASRN: 557-91-5, SMILES: CC(Br)Br, dipole_moment: 2.141\n",
      "CASRN: 557-98-2, SMILES: CC(Cl)=C, dipole_moment: 1.66\n",
      "CASRN: 557-99-3, SMILES: CC(F)=O, dipole_moment: 2.96\n",
      "CASRN: 558-13-4, SMILES: BrC(Br)(Br)Br, dipole_moment: 0.0\n",
      "CASRN: 562-49-2, SMILES: CCC(C)(C)CC, dipole_moment: 0.0\n",
      "CASRN: 563-45-1, SMILES: CC(C)C=C, dipole_moment: 0.320778021609046\n",
      "CASRN: 563-46-2, SMILES: CCC(C)=C, dipole_moment: 0.509647324051756\n",
      "CASRN: 563-80-4, SMILES: CC(C)C(C)=O, dipole_moment: 2.76999316473001\n",
      "CASRN: 565-59-3, SMILES: CCC(C)C(C)C, dipole_moment: 0.0\n",
      "CASRN: 565-80-0, SMILES: CC(C)C(=O)C(C)C, dipole_moment: 2.731\n",
      "CASRN: 583-58-4, SMILES: Cc1ccncc1C, dipole_moment: 1.9\n",
      "CASRN: 583-61-9, SMILES: Cc1cccnc1C, dipole_moment: 2.2\n",
      "CASRN: 589-34-4, SMILES: CCCC(C)CC, dipole_moment: 0.0\n",
      "CASRN: 589-93-5, SMILES: Cc1ccc(C)nc1, dipole_moment: 2.2\n",
      "CASRN: 590-01-2, SMILES: CCCCOC(=O)CC, dipole_moment: 1.8\n",
      "CASRN: 590-18-1, SMILES: C\\C=C/C, dipole_moment: 0.26\n",
      "CASRN: 590-19-2, SMILES: C[CH]=[C]=[CH2], dipole_moment: 0.4\n",
      "CASRN: 590-35-2, SMILES: CCCC(C)(C)C, dipole_moment: 0.0\n",
      "CASRN: 591-22-0, SMILES: Cc1cncc(C)c1, dipole_moment: 2.6\n",
      "CASRN: 591-76-4, SMILES: CCCCC(C)C, dipole_moment: 0.0\n",
      "CASRN: 591-78-6, SMILES: CCCCC(C)=O, dipole_moment: 2.67999544315334\n",
      "CASRN: 592-41-6, SMILES: CCCCC=C, dipole_moment: 0.339994723651233\n",
      "CASRN: 592-57-4, SMILES: C1CC=CC=C1, dipole_moment: 0.44\n",
      "CASRN: 592-76-7, SMILES: CCCCCC=C, dipole_moment: 0.3\n",
      "CASRN: 592-84-7, SMILES: CCCCOC=O, dipole_moment: 1.91867227878308\n",
      "CASRN: 593-45-3, SMILES: CCCCCCCCCCCCCCCCCC, dipole_moment: 0.0\n",
      "CASRN: 593-51-1, SMILES: [Cl-].C[NH3+], dipole_moment: 6.5726\n",
      "CASRN: 593-53-3, SMILES: CF, dipole_moment: 1.85\n",
      "CASRN: 593-54-4, SMILES: CP, dipole_moment: 1.1\n",
      "CASRN: 593-60-2, SMILES: BrC=C, dipole_moment: 1.42\n",
      "CASRN: 593-61-3, SMILES: BrC#C, dipole_moment: 0.6312\n",
      "CASRN: 593-63-5, SMILES: ClC#C, dipole_moment: 0.44\n",
      "CASRN: 593-67-9, SMILES: NC=C, dipole_moment: 0.6548\n",
      "CASRN: 593-68-0, SMILES: CCP, dipole_moment: 1.6439\n",
      "CASRN: 593-70-4, SMILES: FCCl, dipole_moment: 1.82\n",
      "CASRN: 593-75-9, SMILES: C[N+]#[C-], dipole_moment: 3.85\n",
      "CASRN: 593-77-1, SMILES: [H+].[Cl-].CNO, dipole_moment: 2.6412\n",
      "CASRN: 593-78-2, SMILES: COCl, dipole_moment: 1.9514\n",
      "CASRN: 593-79-3, SMILES: C[Se]C, dipole_moment: 1.9099\n",
      "CASRN: 593-88-4, SMILES: C[As](C)C, dipole_moment: 0.86\n",
      "CASRN: 594-20-7, SMILES: CC(C)(Cl)Cl, dipole_moment: 2.27\n",
      "CASRN: 598-25-4, SMILES: C[C](C)=[C]=[CH2], dipole_moment: 0.55\n",
      "CASRN: 598-58-3, SMILES: CO[N+]([O-])=O, dipole_moment: 3.08\n",
      "CASRN: 611-14-3, SMILES: CCc1ccccc1C, dipole_moment: 0.56\n",
      "CASRN: 616-42-2, SMILES: CO[S](=O)OC, dipole_moment: 3.09\n",
      "CASRN: 617-78-7, SMILES: CCC(CC)CC, dipole_moment: 0.0\n",
      "CASRN: 622-96-8, SMILES: CCc1ccc(C)cc1, dipole_moment: 0.0\n",
      "CASRN: 623-42-7, SMILES: CCCC(=O)OC, dipole_moment: 1.71999976016597\n",
      "CASRN: 624-64-6, SMILES: C\\C=C\\C, dipole_moment: 0.0\n",
      "CASRN: 624-72-6, SMILES: FCCF, dipole_moment: 2.671\n",
      "CASRN: 624-91-9, SMILES: CON=O, dipole_moment: 2.05\n",
      "CASRN: 625-58-1, SMILES: CCO[N+]([O-])=O, dipole_moment: 3.39\n",
      "CASRN: 627-05-4, SMILES: CCCC[N+]([O-])=O, dipole_moment: 3.4\n",
      "CASRN: 627-19-0, SMILES: CCCC#C, dipole_moment: 0.85\n",
      "CASRN: 627-20-3, SMILES: CC\\C=C/C, dipole_moment: 0.28\n",
      "CASRN: 627-26-9, SMILES: C/C=C/C#N, dipole_moment: 4.5\n",
      "CASRN: 627-51-0, SMILES: C=CSC=C, dipole_moment: 1.2\n",
      "CASRN: 628-32-0, SMILES: CCCOCC, dipole_moment: 1.15998728879615\n",
      "CASRN: 628-76-2, SMILES: ClCCCCCCl, dipole_moment: 2.36\n",
      "CASRN: 628-81-9, SMILES: CCCCOCC, dipole_moment: 1.22000575601684\n",
      "CASRN: 629-11-8, SMILES: OCCCCCCO, dipole_moment: 2.5\n",
      "CASRN: 629-50-5, SMILES: CCCCCCCCCCCCC, dipole_moment: 0.0\n",
      "CASRN: 629-59-4, SMILES: CCCCCCCCCCCCCC, dipole_moment: 0.0\n",
      "CASRN: 629-62-9, SMILES: CCCCCCCCCCCCCCC, dipole_moment: 0.0\n",
      "CASRN: 629-78-7, SMILES: CCCCCCCCCCCCCCCCC, dipole_moment: 0.0\n",
      "CASRN: 629-92-5, SMILES: CCCCCCCCCCCCCCCCCCC, dipole_moment: 0.0\n",
      "CASRN: 629-94-7, SMILES: CCCCCCCCCCCCCCCCCCCCC, dipole_moment: 0.0\n",
      "CASRN: 629-97-0, SMILES: CCCCCCCCCCCCCCCCCCCCCC, dipole_moment: 0.0\n",
      "CASRN: 630-08-0, SMILES: [C-]#[O+], dipole_moment: 0.11\n",
      "CASRN: 630-18-2, SMILES: CC(C)(C)C#N, dipole_moment: 3.95\n",
      "CASRN: 638-49-3, SMILES: CCCCCOC=O, dipole_moment: 1.9\n",
      "CASRN: 638-67-5, SMILES: CCCCCCCCCCCCCCCCCCCCCCC, dipole_moment: 0.0\n",
      "CASRN: 646-04-8, SMILES: CC\\C=C\\C, dipole_moment: 0.0\n",
      "CASRN: 646-31-1, SMILES: CCCCCCCCCCCCCCCCCCCCCCCC, dipole_moment: 0.0\n",
      "CASRN: 676-49-3, SMILES: C[2H], dipole_moment: 0.0176\n",
      "HTTP error occurred: 500 Server Error: INTERNAL SERVER ERROR for url: https://cactus.nci.nih.gov/chemical/structure/676-55-1/smiles\n",
      "CASRN: 676-55-1, SMILES: None, dipole_moment: 0.0123\n",
      "CASRN: 676-59-5, SMILES: CPC, dipole_moment: 1.7033\n",
      "CASRN: 678-26-2, SMILES: FC(F)(F)C(F)(F)C(F)(F)C(F)(F)C(F)(F)F, dipole_moment: 0.0\n",
      "CASRN: 689-97-4, SMILES: C=CC#C, dipole_moment: 0.22\n",
      "CASRN: 691-37-2, SMILES: CC(C)CC=C, dipole_moment: 0.265616193594033\n",
      "CASRN: 693-02-7, SMILES: CCCCC#C, dipole_moment: 0.83\n",
      "CASRN: 693-86-7, SMILES: C=CC1CC1, dipole_moment: 0.5\n",
      "CASRN: 694-01-9, SMILES: C1C=CC2CC12, dipole_moment: 0.29\n",
      "CASRN: 765-30-0, SMILES: NC1CC1, dipole_moment: 1.19\n",
      "CASRN: 765-43-5, SMILES: CC(=O)C1CC1, dipole_moment: 2.62\n",
      "CASRN: 822-35-5, SMILES: C1CC=C1, dipole_moment: 0.13\n",
      "CASRN: 865-36-1, SMILES: C=S, dipole_moment: 1.65\n",
      "CASRN: 917-54-4, SMILES: [Li+].[CH3-], dipole_moment: 2.356\n",
      "HTTP error occurred: 500 Server Error: INTERNAL SERVER ERROR for url: https://cactus.nci.nih.gov/chemical/structure/992-94-9/smiles\n",
      "CASRN: 992-94-9, SMILES: None, dipole_moment: 0.74\n",
      "CASRN: 1066-27-9, SMILES: [SiH3]C#C, dipole_moment: 0.3521\n",
      "CASRN: 1066-43-9, SMILES: C[Si], dipole_moment: 0.5368\n",
      "CASRN: 1070-71-9, SMILES: C#CC#N, dipole_moment: 3.72\n",
      "CASRN: 1072-43-1, SMILES: CC1CS1, dipole_moment: 1.95\n",
      "CASRN: 1111-74-6, SMILES: C[SiH2]C, dipole_moment: 0.75\n",
      "CASRN: 1120-21-4, SMILES: CCCCCCCCCCC, dipole_moment: 0.0\n",
      "CASRN: 1120-56-5, SMILES: [CH2]=[C]1C[CH2]C1, dipole_moment: 0.51\n",
      "CASRN: 1190-76-7, SMILES: C\\C=C/C#N, dipole_moment: 4.08\n",
      "CASRN: 1191-95-3, SMILES: O=C1CCC1, dipole_moment: 2.99\n",
      "CASRN: 1303-00-0, SMILES: [Ga]#[As], dipole_moment: 2.9749\n",
      "CASRN: 1304-56-9, SMILES: [Be]=O, dipole_moment: 7.4836\n",
      "CASRN: 1305-78-8, SMILES: O=[Ca], dipole_moment: 7.2202\n",
      "CASRN: 1305-84-6, SMILES: [Ca]=[Se], dipole_moment: 3.6912\n",
      "CASRN: 1309-48-4, SMILES: O=[Mg], dipole_moment: 7.5578\n",
      "CASRN: 1310-53-8, SMILES: O=[Ge]=O, dipole_moment: 3.0658\n",
      "CASRN: 1310-66-3, SMILES: [Li+].O.[OH-], dipole_moment: 4.76\n",
      "CASRN: 1313-99-1, SMILES: O=[Ni], dipole_moment: 7.4636\n",
      "CASRN: 1314-05-2, SMILES: [Ni]=[Se], dipole_moment: 6.1658\n",
      "CASRN: 1314-13-2, SMILES: O=[Zn], dipole_moment: 5.4411\n",
      "CASRN: 1314-98-3, SMILES: S=[Zn], dipole_moment: 6.2041\n",
      "CASRN: 1317-37-9, SMILES: S=[Fe], dipole_moment: 1.2889\n",
      "CASRN: 1317-38-0, SMILES: O=[Cu], dipole_moment: 4.5\n",
      "CASRN: 1317-66-4, SMILES: [Fe++].[S-][S-], dipole_moment: 0.0\n",
      "CASRN: 1333-74-0, SMILES: [H], dipole_moment: 0.0\n",
      "CASRN: 1336-21-6, SMILES: [NH4+].[OH-], dipole_moment: 5.6302\n",
      "CASRN: 1345-25-1, SMILES: O=[Fe], dipole_moment: 3.0224\n",
      "CASRN: 1449-64-5, SMILES: C[GeH2]C, dipole_moment: 0.5341\n",
      "CASRN: 1449-65-6, SMILES: C[GeH3], dipole_moment: 0.64\n",
      "CASRN: 1455-13-6, SMILES: CO[2H], dipole_moment: 1.8082\n",
      "CASRN: 1493-02-3, SMILES: FC=O, dipole_moment: 2.02\n",
      "CASRN: 1495-50-7, SMILES: FC#N, dipole_moment: 2.17\n",
      "CASRN: 1511-62-2, SMILES: FC(F)Br, dipole_moment: 1.5\n",
      "CASRN: 1517-53-9, SMILES: C=C, dipole_moment: 0.0059\n",
      "CASRN: 1574-41-0, SMILES: C\\C=C/C=C, dipole_moment: 0.5\n",
      "CASRN: 1590-87-0, SMILES: [SiH2]=[SiH2], dipole_moment: 0.0\n",
      "CASRN: 1603-84-5, SMILES: O=C=[Se], dipole_moment: 0.75\n",
      "CASRN: 1605-72-7, SMILES: ClCCl, dipole_moment: 0.6084\n",
      "CASRN: 1613-51-0, SMILES: C1CCSCC1, dipole_moment: 1.78\n",
      "CASRN: 1630-77-9, SMILES: F\\C=C/F, dipole_moment: 2.42\n",
      "CASRN: 1630-78-0, SMILES: F\\C=C\\F, dipole_moment: 0.55\n",
      "CASRN: 1630-94-0, SMILES: CC1(C)CC1, dipole_moment: 0.14\n",
      "CASRN: 1634-09-9, SMILES: CCCCc1cccc2ccccc12, dipole_moment: 0.69\n",
      "CASRN: 1640-89-7, SMILES: CCC1CCCC1, dipole_moment: 0.0\n",
      "CASRN: 1708-29-8, SMILES: C1OCC=C1, dipole_moment: 1.32\n",
      "CASRN: 1708-32-3, SMILES: C1SCC=C1, dipole_moment: 1.75\n",
      "CASRN: 1738-36-9, SMILES: COCC#N, dipole_moment: 2.98\n",
      "CASRN: 1747-99-5, SMILES: CC[GeH3], dipole_moment: 0.4489\n",
      "CASRN: 1761-67-7, SMILES: CN=C, dipole_moment: 1.53\n",
      "CASRN: 2004-69-5, SMILES: C/C=C/C#C, dipole_moment: 0.66\n",
      "CASRN: 2004-70-8, SMILES: C/C=C/C=C, dipole_moment: 0.58\n",
      "CASRN: 2053-29-4, SMILES: C=N, dipole_moment: 2.0\n",
      "CASRN: 2074-87-5, SMILES: NCCN, dipole_moment: 1.45\n",
      "CASRN: 2154-59-8, SMILES: FCF, dipole_moment: 0.46\n",
      "CASRN: 2171-96-2, SMILES: CO[SiH3], dipole_moment: 1.5306\n",
      "CASRN: 2210-34-6, SMILES: C(#C)[2H], dipole_moment: 0.028\n",
      "CASRN: 2229-07-4, SMILES: [CH3], dipole_moment: 0.0\n",
      "CASRN: 2314-97-8, SMILES: FC(F)(F)I, dipole_moment: 1.05\n",
      "HTTP error occurred: 500 Server Error: INTERNAL SERVER ERROR for url: https://cactus.nci.nih.gov/chemical/structure/2465-56-7/smiles\n",
      "CASRN: 2465-56-7, SMILES: None, dipole_moment: 1.9466\n",
      "CASRN: 2533-82-6, SMILES: C[As]=S, dipole_moment: 1.8805\n",
      "CASRN: 2551-62-4, SMILES: F[S](F)(F)(F)(F)F, dipole_moment: 0.0\n",
      "CASRN: 2565-30-2, SMILES: ClC=O, dipole_moment: 2.4735\n",
      "CASRN: 2644-70-4, SMILES: [H+].[H+].[Cl-].[Cl-].NN, dipole_moment: 3.131\n",
      "CASRN: 2680-00-4, SMILES: C(=C)[2H], dipole_moment: 0.001\n",
      "CASRN: 2696-92-6, SMILES: ClN=O, dipole_moment: 1.9\n",
      "CASRN: 2699-79-8, SMILES: F[S](F)(=O)=O, dipole_moment: 1.12\n",
      "CASRN: 2713-09-9, SMILES: FC#C, dipole_moment: 0.73\n",
      "CASRN: 2781-85-3, SMILES: C1C=C1, dipole_moment: 0.45\n",
      "CASRN: 2809-69-0, SMILES: CC#CC#CC, dipole_moment: 0.0\n",
      "CASRN: 2944-05-0, SMILES: C=S, dipole_moment: 1.98\n",
      "CASRN: 3017-23-0, SMILES: C(#N)[2H], dipole_moment: 3.2179\n",
      "CASRN: 3031-73-0, SMILES: COO, dipole_moment: 3.198\n",
      "CASRN: 3100-04-7, SMILES: CC1=CC1, dipole_moment: 0.84\n",
      "CASRN: 3129-90-6, SMILES: N=C=S, dipole_moment: 2.1076\n",
      "CASRN: 3352-57-6, SMILES: [OH-], dipole_moment: 1.66\n",
      "CASRN: 3400-09-7, SMILES: ClNCl, dipole_moment: 1.7284\n",
      "CASRN: 3618-05-1, SMILES: NN, dipole_moment: 0.0312\n",
      "HTTP error occurred: 500 Server Error: INTERNAL SERVER ERROR for url: https://cactus.nci.nih.gov/chemical/structure/3889-75-6/smiles\n",
      "CASRN: 3889-75-6, SMILES: None, dipole_moment: 0.64\n",
      "CASRN: 4109-96-0, SMILES: Cl[SiH2]Cl, dipole_moment: 1.13\n",
      "CASRN: 4170-30-3, SMILES: C\\C=C/C=O, dipole_moment: 3.72\n",
      "CASRN: 4960-86-5, SMILES: C(Cl)[2H], dipole_moment: 2.2179\n",
      "CASRN: 5009-27-8, SMILES: O=C1CC1, dipole_moment: 2.67\n",
      "CASRN: 5164-35-2, SMILES: C1C2C=CC12, dipole_moment: 0.4\n",
      "CASRN: 5188-07-8, SMILES: [Na+].C[S-], dipole_moment: 4.4426\n",
      "CASRN: 5194-50-3, SMILES: C/C=C/C=C\\C, dipole_moment: 0.309\n",
      "CASRN: 5470-11-1, SMILES: [H+].[Cl-].NO, dipole_moment: 2.4225\n",
      "CASRN: 5505-49-7, SMILES: C(C)[2H], dipole_moment: 0.026\n",
      "CASRN: 5813-48-9, SMILES: CSCl, dipole_moment: 2.8279\n",
      "CASRN: 5951-19-9, SMILES: S=C=[Se], dipole_moment: 2.8635\n",
      "CASRN: 6004-44-0, SMILES: CCOC(=O)C(=CNc1cc(Cl)ccc1OC)C(=O)OCC, dipole_moment: 1.79\n",
      "CASRN: 6142-73-0, SMILES: C=C1CC1, dipole_moment: 0.4\n",
      "CASRN: 6154-14-9, SMILES: CNCl, dipole_moment: 2.2466\n",
      "HTTP error occurred: 500 Server Error: INTERNAL SERVER ERROR for url: https://cactus.nci.nih.gov/chemical/structure/6251-26-9/smiles\n",
      "CASRN: 6251-26-9, SMILES: None, dipole_moment: 2.2824\n",
      "CASRN: 6303-21-5, SMILES: O[PH+]=O, dipole_moment: 1.8637\n",
      "CASRN: 6569-82-0, SMILES: CP=C, dipole_moment: 1.8266\n",
      "CASRN: 6725-64-0, SMILES: SCS, dipole_moment: 2.236\n",
      "CASRN: 6746-94-7, SMILES: C#CC1CC1, dipole_moment: 0.89\n",
      "CASRN: 6829-52-3, SMILES: C#P, dipole_moment: 0.39\n",
      "CASRN: 6851-93-0, SMILES: CC=S, dipole_moment: 2.1903\n",
      "CASRN: 6914-07-4, SMILES: C=N, dipole_moment: 3.05\n",
      "CASRN: 6915-15-7, SMILES: OC(CC(O)=O)C(O)=O, dipole_moment: 3.118\n",
      "HTTP error occurred: 500 Server Error: INTERNAL SERVER ERROR for url: https://cactus.nci.nih.gov/chemical/structure/7282-87-3/smiles\n",
      "CASRN: 7282-87-3, SMILES: None, dipole_moment: 0.1497\n",
      "CASRN: 7429-90-5, SMILES: [Al], dipole_moment: 0.0\n",
      "CASRN: 7439-89-6, SMILES: [Fe], dipole_moment: 0.0\n",
      "CASRN: 7439-90-9, SMILES: [Kr], dipole_moment: 0.0\n",
      "CASRN: 7439-93-2, SMILES: [Li], dipole_moment: 0.0\n",
      "CASRN: 7439-95-4, SMILES: [Mg++], dipole_moment: 0.0\n",
      "CASRN: 7440-01-9, SMILES: [Ne], dipole_moment: 0.0\n",
      "CASRN: 7440-02-0, SMILES: [Ni], dipole_moment: 0.0\n",
      "CASRN: 7440-21-3, SMILES: [Si], dipole_moment: 0.0\n",
      "CASRN: 7440-23-5, SMILES: [Na+], dipole_moment: 0.0\n",
      "CASRN: 7440-32-6, SMILES: [Ti], dipole_moment: 0.0\n",
      "CASRN: 7440-37-1, SMILES: [Ar], dipole_moment: 0.0\n",
      "CASRN: 7440-41-7, SMILES: [Be], dipole_moment: 0.0\n",
      "CASRN: 7440-42-8, SMILES: [B], dipole_moment: 0.0\n",
      "CASRN: 7440-44-0, SMILES: [C], dipole_moment: 0.0\n",
      "CASRN: 7440-47-3, SMILES: [Cr], dipole_moment: 0.0\n",
      "CASRN: 7440-56-4, SMILES: [Ge], dipole_moment: 0.0\n",
      "CASRN: 7440-59-7, SMILES: [He], dipole_moment: 0.0\n",
      "CASRN: 7440-66-6, SMILES: [Zn], dipole_moment: 0.0\n",
      "CASRN: 7440-70-2, SMILES: [Ca], dipole_moment: 0.0\n",
      "CASRN: 7446-08-4, SMILES: O=[Se]=O, dipole_moment: 2.62\n",
      "CASRN: 7446-09-5, SMILES: O=[S]=O, dipole_moment: 1.63\n",
      "CASRN: 7446-11-9, SMILES: O=[S](=O)=O, dipole_moment: 0.0\n",
      "CASRN: 7446-34-6, SMILES: S=[Se], dipole_moment: 0.668\n",
      "CASRN: 7446-70-0, SMILES: [Al+3].[Cl-].[Cl-].[Cl-], dipole_moment: 0.0\n",
      "CASRN: 7447-40-7, SMILES: [Cl-].[K+], dipole_moment: 10.24\n",
      "CASRN: 7447-41-8, SMILES: [Li+].[Cl-], dipole_moment: 7.13\n",
      "CASRN: 7550-35-8, SMILES: [Li+].[Br-], dipole_moment: 7.23\n",
      "CASRN: 7580-67-8, SMILES: [Li+].[H-], dipole_moment: 5.88\n",
      "CASRN: 7616-94-6, SMILES: F[Cl](=O)(=O)=O, dipole_moment: 0.02\n",
      "CASRN: 7631-86-9, SMILES: O=[Si]=O, dipole_moment: 0.0\n",
      "CASRN: 7637-07-2, SMILES: FB(F)F, dipole_moment: 0.0\n",
      "CASRN: 7642-09-3, SMILES: CC\\C=C/CC, dipole_moment: 0.339\n",
      "CASRN: 7647-01-0, SMILES: [H+].[Cl-], dipole_moment: 1.08\n",
      "CASRN: 7647-14-5, SMILES: [Na+].[Cl-], dipole_moment: 9.0\n",
      "CASRN: 7647-15-6, SMILES: [Na+].[Br-], dipole_moment: 9.12\n",
      "CASRN: 7647-19-0, SMILES: F[P](F)(F)(F)F, dipole_moment: 0.0\n",
      "CASRN: 7664-39-3, SMILES: [H+].[F-], dipole_moment: 1.82\n",
      "CASRN: 7664-41-7, SMILES: N, dipole_moment: 1.47\n",
      "CASRN: 7664-93-9, SMILES: O[S](O)(=O)=O, dipole_moment: 2.72\n",
      "CASRN: 7681-49-4, SMILES: [F-].[Na+], dipole_moment: 8.16\n",
      "HTTP error occurred: 500 Server Error: INTERNAL SERVER ERROR for url: https://cactus.nci.nih.gov/chemical/structure/7693-27-8/smiles\n",
      "CASRN: 7693-27-8, SMILES: None, dipole_moment: 0.0\n",
      "CASRN: 7697-37-2, SMILES: O[N+]([O-])=O, dipole_moment: 2.17\n",
      "CASRN: 7698-05-7, SMILES: [1H+].[Cl-], dipole_moment: 1.5745\n",
      "CASRN: 7704-34-9, SMILES: S, dipole_moment: 0.0\n",
      "CASRN: 7719-09-7, SMILES: Cl[S](Cl)=O, dipole_moment: 1.45\n",
      "CASRN: 7719-12-2, SMILES: ClP(Cl)Cl, dipole_moment: 0.78\n",
      "CASRN: 7722-84-1, SMILES: OO, dipole_moment: 1.77\n",
      "CASRN: 7723-14-0, SMILES: [P], dipole_moment: 0.0\n",
      "CASRN: 7726-95-6, SMILES: [Br-], dipole_moment: 0.0\n",
      "CASRN: 7727-37-9, SMILES: N#N, dipole_moment: 0.0\n",
      "CASRN: 7732-18-5, SMILES: O, dipole_moment: 1.85\n",
      "CASRN: 7758-02-3, SMILES: [K+].[Br-], dipole_moment: 10.6\n",
      "CASRN: 7758-89-6, SMILES: [Cl-].[Cu+], dipole_moment: 6.4955\n",
      "CASRN: 7782-39-0, SMILES: [2H][2H], dipole_moment: 0.0\n",
      "CASRN: 7782-41-4, SMILES: FF, dipole_moment: 0.0\n",
      "CASRN: 7782-44-7, SMILES: O=O, dipole_moment: 0.0\n",
      "CASRN: 7782-49-2, SMILES: [Se], dipole_moment: 0.0\n",
      "CASRN: 7782-50-5, SMILES: ClCl, dipole_moment: 0.0\n",
      "CASRN: 7782-65-2, SMILES: [GeH4], dipole_moment: 0.063\n",
      "CASRN: 7782-89-0, SMILES: [Li+].[NH2-], dipole_moment: 1.0182\n",
      "CASRN: 7782-92-5, SMILES: [NH2-].[Na+], dipole_moment: 0.0616\n",
      "CASRN: 7783-06-4, SMILES: S, dipole_moment: 0.97\n",
      "CASRN: 7783-07-5, SMILES: [Se], dipole_moment: 0.63\n",
      "CASRN: 7783-41-7, SMILES: FOF, dipole_moment: 0.3\n",
      "CASRN: 7783-44-0, SMILES: FOOF, dipole_moment: 1.44\n",
      "CASRN: 7783-54-2, SMILES: FN(F)F, dipole_moment: 0.23\n",
      "CASRN: 7783-55-3, SMILES: FP(F)F, dipole_moment: 1.03\n",
      "CASRN: 7783-60-0, SMILES: F[S](F)(F)F, dipole_moment: 0.63\n",
      "CASRN: 7783-61-1, SMILES: F[Si](F)(F)F, dipole_moment: 0.0\n",
      "CASRN: 7783-81-5, SMILES: [F]|[U](|[F])(|[F])(|[F])(|[F])|[F], dipole_moment: 0.0\n",
      "CASRN: 7784-18-1, SMILES: [F-].[F-].[F-].[Al+3], dipole_moment: 0.0\n",
      "CASRN: 7784-21-6, SMILES: [H-].[Al+3], dipole_moment: 0.0\n",
      "CASRN: 7784-35-2, SMILES: F[As](F)F, dipole_moment: 2.59\n",
      "CASRN: 7784-42-1, SMILES: [As], dipole_moment: 0.2\n",
      "HTTP error occurred: 500 Server Error: INTERNAL SERVER ERROR for url: https://cactus.nci.nih.gov/chemical/structure/7787-52-2/smiles\n",
      "CASRN: 7787-52-2, SMILES: None, dipole_moment: 0.0\n",
      "CASRN: 7787-70-4, SMILES: [Cu+].[Br-], dipole_moment: 5.5811\n",
      "CASRN: 7787-71-5, SMILES: F[Br](F)F, dipole_moment: 1.0\n",
      "CASRN: 7789-20-0, SMILES: O([2H])[2H], dipole_moment: 1.85\n",
      "CASRN: 7789-23-3, SMILES: [F-].[K+], dipole_moment: 8.56\n",
      "CASRN: 7789-24-4, SMILES: [Li+].[F-], dipole_moment: 6.28\n",
      "CASRN: 7789-25-5, SMILES: FN=O, dipole_moment: 1.81\n",
      "CASRN: 7789-30-2, SMILES: F[Br](F)(F)(F)F, dipole_moment: 1.51\n",
      "CASRN: 7789-33-5, SMILES: BrI, dipole_moment: 0.74\n",
      "CASRN: 7789-60-8, SMILES: BrP(Br)Br, dipole_moment: 0.61\n",
      "CASRN: 7790-89-8, SMILES: FCl, dipole_moment: 0.88\n",
      "CASRN: 7790-91-2, SMILES: F[Cl](F)F, dipole_moment: 0.6\n",
      "CASRN: 7790-92-3, SMILES: OCl, dipole_moment: 1.3\n",
      "CASRN: 7791-25-5, SMILES: Cl[S](Cl)(=O)=O, dipole_moment: 1.81\n",
      "CASRN: 7803-49-8, SMILES: NO, dipole_moment: 0.59\n",
      "CASRN: 7803-51-2, SMILES: P, dipole_moment: 0.58\n",
      "CASRN: 7803-62-5, SMILES: [Si], dipole_moment: 0.0\n",
      "CASRN: 10022-50-1, SMILES: [O-][N+](F)=O, dipole_moment: 0.5\n",
      "CASRN: 10024-97-2, SMILES: [N-]=[N+]=O, dipole_moment: 0.17\n",
      "CASRN: 10025-78-2, SMILES: Cl[Si](Cl)Cl, dipole_moment: 0.86\n",
      "CASRN: 10026-04-7, SMILES: Cl[Si](Cl)(Cl)Cl, dipole_moment: 0.0\n",
      "CASRN: 10026-13-8, SMILES: Cl[P](Cl)(Cl)(Cl)Cl, dipole_moment: 0.0\n",
      "CASRN: 10028-15-6, SMILES: O=[O]=O, dipole_moment: 0.53\n",
      "CASRN: 10028-17-8, SMILES: [3H][3H], dipole_moment: 0.0\n",
      "CASRN: 10034-85-2, SMILES: [H+].[I-], dipole_moment: 0.45\n",
      "CASRN: 10035-10-6, SMILES: [H+].[Br-], dipole_moment: 0.83\n",
      "CASRN: 10036-47-2, SMILES: FN(F)N(F)F, dipole_moment: 0.3\n",
      "CASRN: 10043-11-5, SMILES: B#N, dipole_moment: 4.5088\n",
      "CASRN: 10049-04-4, SMILES: [O-][Cl]=O, dipole_moment: 1.78\n",
      "CASRN: 10049-06-6, SMILES: [Cl-].[Cl-].[Ti++], dipole_moment: 0.7316\n",
      "CASRN: 10060-11-4, SMILES: [Cl-].[Cl-].[Ge++], dipole_moment: 1.8529\n",
      "CASRN: 10097-28-6, SMILES: [O+]#[Si-], dipole_moment: 3.1\n",
      "CASRN: 10102-43-9, SMILES: N=O, dipole_moment: 0.15\n",
      "CASRN: 10102-44-0, SMILES: [O-][N+]=O, dipole_moment: 0.32\n",
      "CASRN: 10218-87-8, SMILES: CNBr, dipole_moment: 2.1622\n",
      "CASRN: 10294-34-5, SMILES: ClB(Cl)Cl, dipole_moment: 0.0\n",
      "CASRN: 10405-27-3, SMILES: FNF, dipole_moment: 1.9\n",
      "CASRN: 10544-72-6, SMILES: [O-][N+](=O)[N+]([O-])=O, dipole_moment: 0.0\n",
      "CASRN: 10544-73-7, SMILES: [O-][N+](=O)N=O, dipole_moment: 2.12\n",
      "CASRN: 10545-99-0, SMILES: ClSCl, dipole_moment: 0.36\n",
      "CASRN: 10599-90-3, SMILES: NCl, dipole_moment: 2.2982\n",
      "CASRN: 11062-77-4, SMILES: [O][O-], dipole_moment: 0.0\n",
      "CASRN: 11113-63-6, SMILES: C.FF, dipole_moment: 4.1191\n",
      "CASRN: 12004-45-4, SMILES: [AlH2+].[AlH2+].[S--], dipole_moment: 2.179\n",
      "CASRN: 12005-95-7, SMILES: [Mn]#[As], dipole_moment: 4.7914\n",
      "CASRN: 12013-55-7, SMILES: [SiH2]=[Ca], dipole_moment: 5.2589\n",
      "CASRN: 12018-00-7, SMILES: O=[Cr], dipole_moment: 6.5612\n",
      "HTTP error occurred: 500 Server Error: INTERNAL SERVER ERROR for url: https://cactus.nci.nih.gov/chemical/structure/12018-08-5/smiles\n",
      "CASRN: 12018-08-5, SMILES: None, dipole_moment: 3.3664\n",
      "CASRN: 12022-99-0, SMILES: [SiH2]=[Fe]=[SiH2], dipole_moment: 3.4683\n",
      "CASRN: 12024-20-3, SMILES: [GaH2]O[GaH2], dipole_moment: 7.0472\n",
      "CASRN: 12025-34-2, SMILES: S=[Ge]=S, dipole_moment: 5.678\n",
      "HTTP error occurred: 500 Server Error: INTERNAL SERVER ERROR for url: https://cactus.nci.nih.gov/chemical/structure/12030-83-0/smiles\n",
      "CASRN: 12030-83-0, SMILES: None, dipole_moment: 3.45\n",
      "CASRN: 12033-56-6, SMILES: [N]=S, dipole_moment: 1.81\n",
      "CASRN: 12033-76-0, SMILES: ON=[SiH2], dipole_moment: 2.5698\n",
      "HTTP error occurred: 500 Server Error: INTERNAL SERVER ERROR for url: https://cactus.nci.nih.gov/chemical/structure/12035-57-3/smiles\n",
      "CASRN: 12035-57-3, SMILES: None, dipole_moment: 3.3756\n",
      "CASRN: 12039-13-3, SMILES: S=[Ti]=S, dipole_moment: 8.198\n",
      "HTTP error occurred: 500 Server Error: INTERNAL SERVER ERROR for url: https://cactus.nci.nih.gov/chemical/structure/12039-70-2/smiles\n",
      "CASRN: 12039-70-2, SMILES: None, dipole_moment: 3.6023\n",
      "CASRN: 12039-83-7, SMILES: [SiH2]=[Ti]=[SiH2], dipole_moment: 3.256\n",
      "HTTP error occurred: 500 Server Error: INTERNAL SERVER ERROR for url: https://cactus.nci.nih.gov/chemical/structure/12041-50-8/smiles\n",
      "CASRN: 12041-50-8, SMILES: None, dipole_moment: 3.6214\n",
      "CASRN: 12045-15-7, SMILES: B#[Mn], dipole_moment: 4.059\n",
      "CASRN: 12045-25-9, SMILES: SB=S, dipole_moment: 5.7183\n",
      "CASRN: 12045-27-1, SMILES: B#[V], dipole_moment: 5.5721\n",
      "HTTP error occurred: 500 Server Error: INTERNAL SERVER ERROR for url: https://cactus.nci.nih.gov/chemical/structure/12049-73-9/smiles\n",
      "CASRN: 12049-73-9, SMILES: None, dipole_moment: 2.0486\n",
      "CASRN: 12053-13-3, SMILES: [Cr]=[Se], dipole_moment: 10.5493\n",
      "HTTP error occurred: 500 Server Error: INTERNAL SERVER ERROR for url: https://cactus.nci.nih.gov/chemical/structure/12056-29-0/smiles\n",
      "CASRN: 12056-29-0, SMILES: None, dipole_moment: 2.67\n",
      "CASRN: 12061-70-0, SMILES: OF, dipole_moment: 0.0\n",
      "CASRN: 12063-98-8, SMILES: P#[Ga], dipole_moment: 3.5585\n",
      "CASRN: 12065-11-1, SMILES: [Se]=[Ge]=[Se], dipole_moment: 4.519\n",
      "CASRN: 12066-53-4, SMILES: P#[V], dipole_moment: 3.1738\n",
      "CASRN: 12067-45-7, SMILES: [Se]=[Ti]=[Se], dipole_moment: 2.2643\n",
      "CASRN: 12070-15-4, SMILES: CC, dipole_moment: 0.0\n",
      "CASRN: 12075-35-3, SMILES: [CH2]=[C]=[CH2], dipole_moment: 0.0\n",
      "CASRN: 12124-99-1, SMILES: [NH4+].[SH-], dipole_moment: 3.8925\n",
      "CASRN: 12125-02-9, SMILES: [NH4+].[Cl-], dipole_moment: 3.427\n",
      "HTTP error occurred: 500 Server Error: INTERNAL SERVER ERROR for url: https://cactus.nci.nih.gov/chemical/structure/12135-07-8/smiles\n",
      "CASRN: 12135-07-8, SMILES: None, dipole_moment: 1.5899\n",
      "CASRN: 12136-60-6, SMILES: [Li+].[Li+].[Se--], dipole_moment: 7.766\n",
      "CASRN: 12137-20-1, SMILES: O=[Ti], dipole_moment: 0.5539\n",
      "CASRN: 12142-77-7, SMILES: [Li+].[Li+].[O--], dipole_moment: 6.84\n",
      "CASRN: 12185-09-0, SMILES: P#P, dipole_moment: 0.0\n",
      "CASRN: 12185-10-3, SMILES: P12P3P1P23, dipole_moment: 0.0\n",
      "HTTP error occurred: 500 Server Error: INTERNAL SERVER ERROR for url: https://cactus.nci.nih.gov/chemical/structure/12190-75-9/smiles\n",
      "CASRN: 12190-75-9, SMILES: None, dipole_moment: 0.5903\n",
      "HTTP error occurred: 500 Server Error: INTERNAL SERVER ERROR for url: https://cactus.nci.nih.gov/chemical/structure/12200-64-5/smiles\n",
      "CASRN: 12200-64-5, SMILES: None, dipole_moment: 5.3868\n",
      "HTTP error occurred: 500 Server Error: INTERNAL SERVER ERROR for url: https://cactus.nci.nih.gov/chemical/structure/12201-89-7/smiles\n",
      "CASRN: 12201-89-7, SMILES: None, dipole_moment: 0.0\n",
      "CASRN: 12211-52-8, SMILES: [NH4+].[C-]#N, dipole_moment: 6.4553\n",
      "CASRN: 12232-25-6, SMILES: [Be]=[Se], dipole_moment: 6.6389\n",
      "CASRN: 12251-90-0, SMILES: [AlH2]S, dipole_moment: 1.6242\n",
      "HTTP error occurred: 500 Server Error: INTERNAL SERVER ERROR for url: https://cactus.nci.nih.gov/chemical/structure/12265-14-4/smiles\n",
      "CASRN: 12265-14-4, SMILES: None, dipole_moment: 2.3624\n",
      "HTTP error occurred: 500 Server Error: INTERNAL SERVER ERROR for url: https://cactus.nci.nih.gov/chemical/structure/12333-49-2/smiles\n",
      "CASRN: 12333-49-2, SMILES: None, dipole_moment: 0.46\n",
      "CASRN: 12357-66-3, SMILES: N#[NH+], dipole_moment: 3.1411\n",
      "CASRN: 12385-13-6, SMILES: [H][H], dipole_moment: 0.0\n",
      "HTTP error occurred: 500 Server Error: INTERNAL SERVER ERROR for url: https://cactus.nci.nih.gov/chemical/structure/12434-84-3/smiles\n",
      "CASRN: 12434-84-3, SMILES: None, dipole_moment: 5.344\n",
      "HTTP error occurred: 500 Server Error: INTERNAL SERVER ERROR for url: https://cactus.nci.nih.gov/chemical/structure/12504-41-5/smiles\n",
      "CASRN: 12504-41-5, SMILES: None, dipole_moment: 1.73\n",
      "CASRN: 12589-02-5, SMILES: B[SiH3], dipole_moment: 0.719\n",
      "CASRN: 12596-80-4, SMILES: [O]O[O-], dipole_moment: 1.0748\n",
      "CASRN: 12597-03-4, SMILES: S=[S]=S, dipole_moment: 0.3422\n",
      "HTTP error occurred: 500 Server Error: INTERNAL SERVER ERROR for url: https://cactus.nci.nih.gov/chemical/structure/12597-05-6/smiles\n",
      "CASRN: 12597-05-6, SMILES: None, dipole_moment: 1.2554\n",
      "CASRN: 12597-35-2, SMILES: [SiH2]=[SiH2], dipole_moment: 0.0\n",
      "CASRN: 12601-93-3, SMILES: P=C=P, dipole_moment: 1.9119\n",
      "CASRN: 12602-39-0, SMILES: PC#C, dipole_moment: 0.805\n",
      "CASRN: 12628-09-0, SMILES: B=C=[SiH2], dipole_moment: 2.9052\n",
      "CASRN: 13269-52-8, SMILES: CC\\C=C\\CC, dipole_moment: 0.0\n",
      "CASRN: 13283-31-3, SMILES: B, dipole_moment: 0.0\n",
      "CASRN: 13444-87-6, SMILES: BrN=O, dipole_moment: 0.4091\n",
      "CASRN: 13444-90-1, SMILES: [Cl-]|[NH+]([O-])=O, dipole_moment: 0.53\n",
      "CASRN: 13445-50-6, SMILES: PP, dipole_moment: 1.7845\n",
      "CASRN: 13462-88-9, SMILES: [Ni++].[Br-].[Br-], dipole_moment: 10.4556\n",
      "CASRN: 13463-67-7, SMILES: O=[Ti]=O, dipole_moment: 7.3723\n",
      "CASRN: 13465-07-1, SMILES: S, dipole_moment: 1.5878\n",
      "CASRN: 13465-78-6, SMILES: [SiH2]Cl, dipole_moment: 1.31\n",
      "CASRN: 13478-20-1, SMILES: F[P](F)(F)=O, dipole_moment: 1.76\n",
      "CASRN: 13478-41-6, SMILES: [F-].[Cu+], dipole_moment: 5.77\n",
      "HTTP error occurred: 500 Server Error: INTERNAL SERVER ERROR for url: https://cactus.nci.nih.gov/chemical/structure/13517-00-5/smiles\n",
      "CASRN: 13517-00-5, SMILES: None, dipole_moment: 3.372\n",
      "CASRN: 13517-11-8, SMILES: OBr, dipole_moment: 1.38\n",
      "CASRN: 13536-59-9, SMILES: [1H+].[Br-], dipole_moment: 1.2028\n",
      "CASRN: 13536-94-2, SMILES: S([2H])[2H], dipole_moment: 1.4264\n",
      "CASRN: 13537-30-9, SMILES: [F]|[GeH3], dipole_moment: 2.1983\n",
      "HTTP error occurred: 500 Server Error: INTERNAL SERVER ERROR for url: https://cactus.nci.nih.gov/chemical/structure/13537-33-2/smiles\n",
      "CASRN: 13537-33-2, SMILES: None, dipole_moment: 1.3\n",
      "CASRN: 13569-43-2, SMILES: [GeH3]|[Br], dipole_moment: 2.3785\n",
      "CASRN: 13587-49-0, SMILES: N[2H], dipole_moment: 1.6909\n",
      "CASRN: 13587-50-3, SMILES: P, dipole_moment: 1.2139\n",
      "CASRN: 13595-81-8, SMILES: [Al+].[Cl-], dipole_moment: 2.3239\n",
      "HTTP error occurred: 500 Server Error: INTERNAL SERVER ERROR for url: https://cactus.nci.nih.gov/chemical/structure/13595-82-9/smiles\n",
      "CASRN: 13595-82-9, SMILES: None, dipole_moment: 1.53\n",
      "CASRN: 13597-70-1, SMILES: PPP, dipole_moment: 1.2525\n",
      "HTTP error occurred: 500 Server Error: INTERNAL SERVER ERROR for url: https://cactus.nci.nih.gov/chemical/structure/13598-78-2/smiles\n",
      "CASRN: 13598-78-2, SMILES: None, dipole_moment: 1.5811\n",
      "CASRN: 13637-65-5, SMILES: [Cl]|[GeH3], dipole_moment: 2.2686\n",
      "CASRN: 13701-67-2, SMILES: ClB(Cl)B(Cl)Cl, dipole_moment: 0.0\n",
      "CASRN: 13709-35-8, SMILES: FSSF, dipole_moment: 1.45\n",
      "CASRN: 13709-36-9, SMILES: F[Xe]F, dipole_moment: 0.0\n",
      "CASRN: 13709-61-0, SMILES: F[Xe](F)(F)F, dipole_moment: 0.0\n",
      "CASRN: 13709-83-6, SMILES: FBF, dipole_moment: 1.5083\n",
      "CASRN: 13759-10-9, SMILES: S=[Si]=S, dipole_moment: 0.9794\n",
      "CASRN: 13762-18-0, SMILES: S[2H], dipole_moment: 1.4481\n",
      "CASRN: 13765-45-2, SMILES: [GeH3], dipole_moment: 0.1695\n",
      "HTTP error occurred: 500 Server Error: INTERNAL SERVER ERROR for url: https://cactus.nci.nih.gov/chemical/structure/13766-26-2/smiles\n",
      "CASRN: 13766-26-2, SMILES: None, dipole_moment: 1.27\n",
      "CASRN: 13766-28-4, SMILES: O=BB=O, dipole_moment: 0.0\n",
      "HTTP error occurred: 500 Server Error: INTERNAL SERVER ERROR for url: https://cactus.nci.nih.gov/chemical/structure/13767-16-3/smiles\n",
      "CASRN: 13767-16-3, SMILES: None, dipole_moment: 1.8277\n",
      "CASRN: 13768-07-5, SMILES: O[As]=O, dipole_moment: 2.6838\n",
      "CASRN: 13768-60-0, SMILES: BF, dipole_moment: 0.5\n",
      "CASRN: 13768-94-0, SMILES: Br[SiH2]Br, dipole_moment: 2.0042\n",
      "CASRN: 13769-36-3, SMILES: [GeH2](|[Br])|[Br], dipole_moment: 2.2488\n",
      "CASRN: 13773-81-4, SMILES: F[Kr]F, dipole_moment: 2.1951\n",
      "CASRN: 13774-92-0, SMILES: N, dipole_moment: 1.7756\n",
      "CASRN: 13775-80-9, SMILES: [H+].[Br-].NN, dipole_moment: 2.7701\n",
      "CASRN: 13776-62-0, SMILES: FN=NF, dipole_moment: 0.0\n",
      "CASRN: 13780-23-9, SMILES: [S], dipole_moment: 0.76\n",
      "CASRN: 13780-28-4, SMILES: N([2H])[2H], dipole_moment: 1.8856\n",
      "CASRN: 13780-29-5, SMILES: P([2H])[2H], dipole_moment: 1.2189\n",
      "CASRN: 13812-43-6, SMILES: FN=NF, dipole_moment: 0.16\n",
      "CASRN: 13814-20-5, SMILES: [F-].[F-].[Ti++], dipole_moment: 9.4166\n",
      "CASRN: 13814-25-0, SMILES: FSF, dipole_moment: 1.05\n",
      "CASRN: 13817-04-4, SMILES: N=[S]=O, dipole_moment: 1.4794\n",
      "HTTP error occurred: 500 Server Error: INTERNAL SERVER ERROR for url: https://cactus.nci.nih.gov/chemical/structure/13817-06-6/smiles\n",
      "CASRN: 13817-06-6, SMILES: None, dipole_moment: 2.9949\n",
      "CASRN: 13824-36-7, SMILES: F[SiH2]F, dipole_moment: 2.1993\n",
      "CASRN: 13827-32-2, SMILES: O=S, dipole_moment: 1.55\n",
      "CASRN: 13840-88-5, SMILES: [OH2+][B][O-], dipole_moment: 0.0\n",
      "HTTP error occurred: 500 Server Error: INTERNAL SERVER ERROR for url: https://cactus.nci.nih.gov/chemical/structure/13845-23-3/smiles\n",
      "CASRN: 13845-23-3, SMILES: None, dipole_moment: 0.7066\n",
      "CASRN: 13863-41-7, SMILES: ClBr, dipole_moment: 0.52\n",
      "CASRN: 13863-59-7, SMILES: FBr, dipole_moment: 1.42\n",
      "CASRN: 13898-47-0, SMILES: [Na+].[O-][Cl]=O, dipole_moment: 4.8764\n",
      "CASRN: 13940-21-1, SMILES: [SH], dipole_moment: 0.76\n",
      "CASRN: 13940-63-1, SMILES: [F]|[GeH2]|[F], dipole_moment: 2.61\n",
      "CASRN: 13952-84-6, SMILES: CCC(C)N, dipole_moment: 1.28\n",
      "CASRN: 13965-73-6, SMILES: FB(F)B(F)F, dipole_moment: 0.0\n",
      "HTTP error occurred: 500 Server Error: INTERNAL SERVER ERROR for url: https://cactus.nci.nih.gov/chemical/structure/13965-74-7/smiles\n",
      "CASRN: 13965-74-7, SMILES: None, dipole_moment: 0.7819\n",
      "CASRN: 13966-66-0, SMILES: [F-].[Si].[H+], dipole_moment: 1.23\n",
      "HTTP error occurred: 500 Server Error: INTERNAL SERVER ERROR for url: https://cactus.nci.nih.gov/chemical/structure/13966-78-4/smiles\n",
      "CASRN: 13966-78-4, SMILES: None, dipole_moment: 2.45\n",
      "HTTP error occurred: 500 Server Error: INTERNAL SERVER ERROR for url: https://cactus.nci.nih.gov/chemical/structure/13983-20-5/smiles\n",
      "CASRN: 13983-20-5, SMILES: None, dipole_moment: 0.0\n",
      "CASRN: 14017-34-6, SMILES: F[Se]F, dipole_moment: 2.3721\n",
      "CASRN: 14034-79-8, SMILES: OF, dipole_moment: 2.23\n",
      "CASRN: 14044-97-4, SMILES: [SiH3]S, dipole_moment: 1.6122\n",
      "CASRN: 14067-04-0, SMILES: [Ti], dipole_moment: 0.0\n",
      "CASRN: 14127-61-8, SMILES: [Ca++], dipole_moment: 0.0\n",
      "CASRN: 14312-20-0, SMILES: BrSBr, dipole_moment: 0.2627\n",
      "CASRN: 14314-42-2, SMILES: O, dipole_moment: 2.1164\n",
      "CASRN: 14332-28-6, SMILES: N=O, dipole_moment: 1.67\n",
      "CASRN: 14452-59-6, SMILES: [Li][Li], dipole_moment: 0.0\n",
      "HTTP error occurred: 500 Server Error: INTERNAL SERVER ERROR for url: https://cactus.nci.nih.gov/chemical/structure/14452-60-9/smiles\n",
      "CASRN: 14452-60-9, SMILES: None, dipole_moment: 0.0\n",
      "CASRN: 14452-66-5, SMILES: O=[P], dipole_moment: 1.88\n",
      "CASRN: 14457-70-6, SMILES: Cl[Se]Cl, dipole_moment: 1.5206\n",
      "CASRN: 14457-85-3, SMILES: B=S, dipole_moment: 1.3\n",
      "HTTP error occurred: 500 Server Error: INTERNAL SERVER ERROR for url: https://cactus.nci.nih.gov/chemical/structure/14500-81-3/smiles\n",
      "CASRN: 14500-81-3, SMILES: None, dipole_moment: 2.4853\n",
      "HTTP error occurred: 500 Server Error: INTERNAL SERVER ERROR for url: https://cactus.nci.nih.gov/chemical/structure/14500-84-6/smiles\n",
      "CASRN: 14500-84-6, SMILES: None, dipole_moment: 1.5428\n",
      "CASRN: 14519-03-0, SMILES: BrNBr, dipole_moment: 1.4877\n",
      "CASRN: 14519-10-9, SMILES: NBr, dipole_moment: 2.1085\n",
      "CASRN: 14525-25-8, SMILES: Cl[As]=O, dipole_moment: 5.5152\n",
      "CASRN: 14545-72-3, SMILES: [O-][N+](=O)OCl, dipole_moment: 0.77\n",
      "HTTP error occurred: 500 Server Error: INTERNAL SERVER ERROR for url: https://cactus.nci.nih.gov/chemical/structure/14616-31-0/smiles\n",
      "CASRN: 14616-31-0, SMILES: None, dipole_moment: 2.2595\n",
      "CASRN: 14701-22-5, SMILES: [Ni++], dipole_moment: 0.0\n",
      "CASRN: 14720-35-5, SMILES: BN, dipole_moment: 2.5557\n",
      "CASRN: 14762-94-8, SMILES: [F], dipole_moment: 0.0\n",
      "CASRN: 14808-60-7, SMILES: O=[Si]=O, dipole_moment: 1.5189\n",
      "CASRN: 14885-60-0, SMILES: [3H][H], dipole_moment: 0.0\n",
      "CASRN: 14915-07-2, SMILES: [O-][O-], dipole_moment: 0.0\n",
      "CASRN: 14939-17-4, SMILES: [GeH3]O[GeH3], dipole_moment: 1.6282\n",
      "CASRN: 14939-45-8, SMILES: [SiH3][Se][SiH3], dipole_moment: 1.5206\n",
      "CASRN: 14940-63-7, SMILES: O[2H], dipole_moment: 1.85\n",
      "CASRN: 14940-65-9, SMILES: O([3H])[3H], dipole_moment: 2.1792\n",
      "CASRN: 14984-74-8, SMILES: FPF, dipole_moment: 2.2873\n",
      "CASRN: 14986-65-3, SMILES: [F]|[GeH2]|[F], dipole_moment: 2.6549\n",
      "CASRN: 14989-30-1, SMILES: [O]Cl, dipole_moment: 1.24\n",
      "CASRN: 15056-34-5, SMILES: NN=N, dipole_moment: 1.4085\n",
      "CASRN: 15230-48-5, SMILES: [Cl]|[GeH2]|[Cl], dipole_moment: 2.3569\n",
      "CASRN: 15435-77-5, SMILES: [SiH2]=[SiH2], dipole_moment: 0.3577\n",
      "CASRN: 15438-31-0, SMILES: [Fe++], dipole_moment: 0.0\n",
      "HTTP error occurred: 500 Server Error: INTERNAL SERVER ERROR for url: https://cactus.nci.nih.gov/chemical/structure/15454-33-8/smiles\n",
      "CASRN: 15454-33-8, SMILES: None, dipole_moment: 0.6548\n",
      "CASRN: 15455-99-9, SMILES: [SiH3][AsH2], dipole_moment: 1.0277\n",
      "HTTP error occurred: 500 Server Error: INTERNAL SERVER ERROR for url: https://cactus.nci.nih.gov/chemical/structure/15606-71-0/smiles\n",
      "CASRN: 15606-71-0, SMILES: None, dipole_moment: 4.26\n",
      "CASRN: 15626-43-4, SMILES: NN, dipole_moment: 0.0\n",
      "HTTP error occurred: 500 Server Error: INTERNAL SERVER ERROR for url: https://cactus.nci.nih.gov/chemical/structure/15697-17-3/smiles\n",
      "CASRN: 15697-17-3, SMILES: None, dipole_moment: 9.078\n",
      "CASRN: 15861-05-9, SMILES: NF, dipole_moment: 2.4507\n",
      "HTTP error occurred: 500 Server Error: INTERNAL SERVER ERROR for url: https://cactus.nci.nih.gov/chemical/structure/15905-98-3/smiles\n",
      "CASRN: 15905-98-3, SMILES: None, dipole_moment: 5.2528\n",
      "CASRN: 15969-58-1, SMILES: [Ti++], dipole_moment: 0.0\n",
      "CASRN: 16043-45-1, SMILES: [Ti+4], dipole_moment: 0.0\n",
      "CASRN: 16065-83-1, SMILES: [Cr+3], dipole_moment: 0.0\n",
      "CASRN: 16136-84-8, SMILES: C\\C=C/Cl, dipole_moment: 1.67\n",
      "CASRN: 16136-85-9, SMILES: C/C=C/Cl, dipole_moment: 1.97\n",
      "CASRN: 16355-69-4, SMILES: N(=O)[2H], dipole_moment: 2.197\n",
      "CASRN: 16544-95-9, SMILES: [SiH3]S[SiH3], dipole_moment: 1.7852\n",
      "CASRN: 16603-84-2, SMILES: [AlH++].[Cl-].[Cl-], dipole_moment: 2.1049\n",
      "CASRN: 16643-15-5, SMILES: CS[SiH3], dipole_moment: 1.8641\n",
      "CASRN: 16734-12-6, SMILES: [S-][S-], dipole_moment: 0.0\n",
      "CASRN: 16812-54-7, SMILES: S.[Ni], dipole_moment: 8.5058\n",
      "CASRN: 16833-27-5, SMILES: [O--], dipole_moment: 0.0\n",
      "HTTP error occurred: 500 Server Error: INTERNAL SERVER ERROR for url: https://cactus.nci.nih.gov/chemical/structure/16860-99-4/smiles\n",
      "CASRN: 16860-99-4, SMILES: None, dipole_moment: 1.03\n",
      "CASRN: 16873-17-9, SMILES: [2H][H], dipole_moment: 0.0\n",
      "HTTP error occurred: 500 Server Error: INTERNAL SERVER ERROR for url: https://cactus.nci.nih.gov/chemical/structure/16890-80-5/smiles\n",
      "CASRN: 16890-80-5, SMILES: None, dipole_moment: 2.4064\n"
     ]
    },
    {
     "ename": "KeyboardInterrupt",
     "evalue": "",
     "output_type": "error",
     "traceback": [
      "\u001b[1;31m---------------------------------------------------------------------------\u001b[0m",
      "\u001b[1;31mKeyboardInterrupt\u001b[0m                         Traceback (most recent call last)",
      "Cell \u001b[1;32mIn[1], line 28\u001b[0m\n\u001b[0;32m     25\u001b[0m \u001b[38;5;28;01mif\u001b[39;00m is_cas_valid \u001b[38;5;241m==\u001b[39m \u001b[38;5;28;01mFalse\u001b[39;00m:\n\u001b[0;32m     26\u001b[0m     \u001b[38;5;28;01mcontinue\u001b[39;00m\n\u001b[1;32m---> 28\u001b[0m CAS_dipole_moment \u001b[38;5;241m=\u001b[39m \u001b[43mchemicals\u001b[49m\u001b[38;5;241;43m.\u001b[39;49m\u001b[43mdipole\u001b[49m\u001b[38;5;241;43m.\u001b[39;49m\u001b[43mdipole_moment\u001b[49m\u001b[43m(\u001b[49m\u001b[43mCAS\u001b[49m\u001b[43m)\u001b[49m\n\u001b[0;32m     29\u001b[0m \u001b[38;5;28;01mif\u001b[39;00m CAS_dipole_moment \u001b[38;5;241m==\u001b[39m \u001b[38;5;28;01mNone\u001b[39;00m:\n\u001b[0;32m     30\u001b[0m     \u001b[38;5;28;01mcontinue\u001b[39;00m\n",
      "File \u001b[1;32mc:\\work\\DrugDiscovery\\drug-discovery-venv\\Lib\\site-packages\\chemicals\\dipole.py:192\u001b[0m, in \u001b[0;36mdipole_moment\u001b[1;34m(CASRN, method)\u001b[0m\n\u001b[0;32m    122\u001b[0m \u001b[38;5;250m\u001b[39m\u001b[38;5;124mr\u001b[39m\u001b[38;5;124;03m'''This function handles the retrieval of a chemical's dipole moment.\u001b[39;00m\n\u001b[0;32m    123\u001b[0m \u001b[38;5;124;03mLookup is based on CASRNs. Will automatically select a data source to use\u001b[39;00m\n\u001b[0;32m    124\u001b[0m \u001b[38;5;124;03mif no method is provided; returns None if the data is not available.\u001b[39;00m\n\u001b[1;32m   (...)\u001b[0m\n\u001b[0;32m    189\u001b[0m \u001b[38;5;124;03m   https://doi.org/10.1002/wcms.93.\u001b[39;00m\n\u001b[0;32m    190\u001b[0m \u001b[38;5;124;03m'''\u001b[39;00m\n\u001b[0;32m    191\u001b[0m \u001b[38;5;28;01mif\u001b[39;00m dr\u001b[38;5;241m.\u001b[39mUSE_CONSTANTS_DATABASE \u001b[38;5;129;01mand\u001b[39;00m method \u001b[38;5;129;01mis\u001b[39;00m \u001b[38;5;28;01mNone\u001b[39;00m:\n\u001b[1;32m--> 192\u001b[0m     val, found \u001b[38;5;241m=\u001b[39m \u001b[43mdatabase_constant_lookup\u001b[49m\u001b[43m(\u001b[49m\u001b[43mCASRN\u001b[49m\u001b[43m,\u001b[49m\u001b[43m \u001b[49m\u001b[38;5;124;43m'\u001b[39;49m\u001b[38;5;124;43mdipole_moment\u001b[39;49m\u001b[38;5;124;43m'\u001b[39;49m\u001b[43m)\u001b[49m\n\u001b[0;32m    193\u001b[0m     \u001b[38;5;28;01mif\u001b[39;00m found: \u001b[38;5;28;01mreturn\u001b[39;00m val\n\u001b[0;32m    194\u001b[0m \u001b[38;5;28;01mif\u001b[39;00m \u001b[38;5;129;01mnot\u001b[39;00m _dipole_data_loaded: _load_dipole_data()\n",
      "File \u001b[1;32mc:\\work\\DrugDiscovery\\drug-discovery-venv\\Lib\\site-packages\\chemicals\\data_reader.py:265\u001b[0m, in \u001b[0;36mdatabase_constant_lookup\u001b[1;34m(CASi, prop)\u001b[0m\n\u001b[0;32m    263\u001b[0m         \u001b[38;5;28;01mreturn\u001b[39;00m \u001b[38;5;28;01mNone\u001b[39;00m, \u001b[38;5;28;01mFalse\u001b[39;00m\n\u001b[0;32m    264\u001b[0m \u001b[38;5;28;01mtry\u001b[39;00m:\n\u001b[1;32m--> 265\u001b[0m     \u001b[38;5;28;01mreturn\u001b[39;00m \u001b[43mcached_constant_lookup\u001b[49m\u001b[43m(\u001b[49m\u001b[43mCASi\u001b[49m\u001b[43m,\u001b[49m\u001b[43m \u001b[49m\u001b[43mprop\u001b[49m\u001b[43m)\u001b[49m\n\u001b[0;32m    266\u001b[0m \u001b[38;5;28;01mexcept\u001b[39;00m (\u001b[38;5;167;01mTypeError\u001b[39;00m, \u001b[38;5;167;01mKeyError\u001b[39;00m) \u001b[38;5;28;01mas\u001b[39;00m e:\n\u001b[0;32m    267\u001b[0m     \u001b[38;5;28;01mraise\u001b[39;00m e\n",
      "File \u001b[1;32mc:\\work\\DrugDiscovery\\drug-discovery-venv\\Lib\\site-packages\\chemicals\\data_reader.py:242\u001b[0m, in \u001b[0;36mcached_constant_lookup\u001b[1;34m(CASi, prop)\u001b[0m\n\u001b[0;32m    239\u001b[0m     result \u001b[38;5;241m=\u001b[39m DATABASE_CONSTANTS_CACHE[CASi]\n\u001b[0;32m    240\u001b[0m \u001b[38;5;28;01melse\u001b[39;00m:\n\u001b[0;32m    241\u001b[0m     \u001b[38;5;66;03m# Fetch and store the whole row\u001b[39;00m\n\u001b[1;32m--> 242\u001b[0m     CONSTANTS_CURSOR\u001b[38;5;241m.\u001b[39mexecute(\u001b[38;5;124m\"\u001b[39m\u001b[38;5;124mSELECT * FROM constants WHERE `index`=?\u001b[39m\u001b[38;5;124m\"\u001b[39m, (\u001b[38;5;28mstr\u001b[39m(CASi),))\n\u001b[0;32m    243\u001b[0m     result \u001b[38;5;241m=\u001b[39m CONSTANTS_CURSOR\u001b[38;5;241m.\u001b[39mfetchone()\n\u001b[0;32m    244\u001b[0m     DATABASE_CONSTANTS_CACHE[CASi] \u001b[38;5;241m=\u001b[39m result\n",
      "\u001b[1;31mKeyboardInterrupt\u001b[0m: "
     ]
    }
   ],
   "source": [
    "import chemicals\n",
    "import requests\n",
    "\n",
    "def casrn_to_smiles(casrn):\n",
    "    url = f\"http://cactus.nci.nih.gov/chemical/structure/{casrn}/smiles\"\n",
    "    try:\n",
    "        response = requests.get(url)\n",
    "        response.raise_for_status()\n",
    "        return response.text\n",
    "    except requests.exceptions.HTTPError as err:\n",
    "        print(f\"HTTP error occurred: {err}\")\n",
    "    except Exception as err:\n",
    "        print(f\"An error occurred: {err}\")\n",
    "\n",
    "casrn_to_dipole_moment_dict = {}\n",
    "casrn_to_smiles_dict = {}\n",
    "smiles_to_dipole_moment = {}\n",
    "\n",
    "int_index = 0\n",
    "for int_index in range(50000000):\n",
    "    CAS = chemicals.int_to_CAS(int_index)\n",
    "    int_index += 1\n",
    "\n",
    "    is_cas_valid = chemicals.identifiers.check_CAS(CAS)\n",
    "    if is_cas_valid == False:\n",
    "        continue\n",
    "    \n",
    "    CAS_dipole_moment = chemicals.dipole.dipole_moment(CAS)\n",
    "    if CAS_dipole_moment == None:\n",
    "        continue\n",
    "\n",
    "    SMILES = casrn_to_smiles(CAS)\n",
    "    casrn_to_dipole_moment_dict[CAS] = CAS_dipole_moment\n",
    "    casrn_to_smiles_dict[CAS] = casrn_to_smiles_dict\n",
    "    smiles_to_dipole_moment[SMILES] = CAS_dipole_moment\n",
    "    \n",
    "    print(f\"CASRN: {CAS}, SMILES: {SMILES}, dipole_moment: {CAS_dipole_moment}\")"
   ]
  },
  {
   "cell_type": "code",
   "execution_count": 1,
   "metadata": {},
   "outputs": [
    {
     "ename": "NameError",
     "evalue": "name 'smiles_to_dipole_moment' is not defined",
     "output_type": "error",
     "traceback": [
      "\u001b[1;31m---------------------------------------------------------------------------\u001b[0m",
      "\u001b[1;31mNameError\u001b[0m                                 Traceback (most recent call last)",
      "Cell \u001b[1;32mIn[1], line 3\u001b[0m\n\u001b[0;32m      1\u001b[0m \u001b[38;5;28;01mimport\u001b[39;00m \u001b[38;5;21;01mpickle\u001b[39;00m\n\u001b[1;32m----> 3\u001b[0m a \u001b[38;5;241m=\u001b[39m \u001b[43msmiles_to_dipole_moment\u001b[49m\n\u001b[0;32m      5\u001b[0m \u001b[38;5;28;01mwith\u001b[39;00m \u001b[38;5;28mopen\u001b[39m(\u001b[38;5;124m'\u001b[39m\u001b[38;5;124msmiles_to_dipole_moment.pickle\u001b[39m\u001b[38;5;124m'\u001b[39m, \u001b[38;5;124m'\u001b[39m\u001b[38;5;124mwb\u001b[39m\u001b[38;5;124m'\u001b[39m) \u001b[38;5;28;01mas\u001b[39;00m handle:\n\u001b[0;32m      6\u001b[0m     pickle\u001b[38;5;241m.\u001b[39mdump(a, handle, protocol\u001b[38;5;241m=\u001b[39mpickle\u001b[38;5;241m.\u001b[39mHIGHEST_PROTOCOL)\n",
      "\u001b[1;31mNameError\u001b[0m: name 'smiles_to_dipole_moment' is not defined"
     ]
    }
   ],
   "source": [
    "import pickle\n",
    "\n",
    "a = smiles_to_dipole_moment\n",
    "\n",
    "with open('smiles_to_dipole_moment.pickle', 'wb') as handle:\n",
    "    pickle.dump(a, handle, protocol=pickle.HIGHEST_PROTOCOL)\n",
    "\n",
    "with open('smiles_to_dipole_moment.pickle', 'rb') as handle:\n",
    "    b = pickle.load(handle)\n",
    "\n",
    "print(a == b)"
   ]
  },
  {
   "cell_type": "code",
   "execution_count": 2,
   "metadata": {},
   "outputs": [],
   "source": [
    "import pickle \n",
    "with open('smiles_to_dipole_moment.pickle', 'rb') as handle:\n",
    "    smiles_to_dipole_moment = pickle.load(handle)"
   ]
  },
  {
   "cell_type": "markdown",
   "metadata": {},
   "source": [
    "INVESTIGATE CORRELATION"
   ]
  },
  {
   "cell_type": "code",
   "execution_count": 3,
   "metadata": {},
   "outputs": [],
   "source": [
    "smiles_to_dipole_moment_openbabel = {}\n",
    "smiles_to_dipole_moment_centroid = {}"
   ]
  },
  {
   "cell_type": "code",
   "execution_count": 4,
   "metadata": {},
   "outputs": [
    {
     "name": "stderr",
     "output_type": "stream",
     "text": [
      "  0%|          | 0/826 [00:00<?, ?it/s]"
     ]
    },
    {
     "name": "stderr",
     "output_type": "stream",
     "text": [
      "  0%|          | 3/826 [00:00<00:40, 20.20it/s]"
     ]
    },
    {
     "name": "stdout",
     "output_type": "stream",
     "text": [
      "SMILES: C=O, dipole_moment openbabel: 2.5437986891192055, dipole mine: 0.483347064917513 dipole true: 2.33\n",
      "SMILES: ClC(Cl)(Cl)Cl, dipole_moment openbabel: 0.014668129366561656, dipole mine: 0.0044505148743712464 dipole true: 0.0\n",
      "SMILES: NCC(O)=O, dipole_moment openbabel: 1.6466119535673613, dipole mine: 0.22285401641475816 dipole true: 1.09\n"
     ]
    },
    {
     "name": "stderr",
     "output_type": "stream",
     "text": [
      "  1%|          | 6/826 [00:00<01:11, 11.40it/s]"
     ]
    },
    {
     "name": "stdout",
     "output_type": "stream",
     "text": [
      "SMILES: OCC(O)CO, dipole_moment openbabel: 1.5332262776613115, dipole mine: 0.37216652018601953 dipole true: 4.21\n",
      "SMILES: NC(N)=O, dipole_moment openbabel: 2.552923973975012, dipole mine: 0.4382508656364119 dipole true: 3.83\n",
      "SMILES: CC(O)CO, dipole_moment openbabel: 2.399057458522901, dipole mine: 0.5395022078779912 dipole true: 3.62988811742274\n",
      "SMILES: O=C1CCO1, dipole_moment openbabel: 4.604888759939361, dipole mine: 0.8593130103478042 dipole true: 4.18\n"
     ]
    },
    {
     "name": "stderr",
     "output_type": "stream",
     "text": [
      "  1%|          | 8/826 [00:01<02:14,  6.10it/s]"
     ]
    },
    {
     "name": "stdout",
     "output_type": "stream",
     "text": [
      "SMILES: OCCc1ccccc1, dipole_moment openbabel: 1.380056494910907, dipole mine: 0.32312789185016766 dipole true: 1.65\n"
     ]
    },
    {
     "name": "stderr",
     "output_type": "stream",
     "text": [
      "  1%|▏         | 11/826 [00:01<01:50,  7.35it/s]"
     ]
    },
    {
     "name": "stdout",
     "output_type": "stream",
     "text": [
      "SMILES: CCOCC, dipole_moment openbabel: 1.6677795431068694, dipole mine: 0.38622817048398267 dipole true: 1.15\n",
      "SMILES: CNN, dipole_moment openbabel: 0.9836371892012042, dipole mine: 0.22705302754810888 dipole true: 1.6294\n",
      "SMILES: CC(N)=O, dipole_moment openbabel: 2.8144307151014902, dipole mine: 0.4946908649104285 dipole true: 3.76\n"
     ]
    },
    {
     "name": "stderr",
     "output_type": "stream",
     "text": [
      "  1%|▏         | 12/826 [00:01<02:13,  6.09it/s]"
     ]
    },
    {
     "name": "stdout",
     "output_type": "stream",
     "text": [
      "SMILES: Nc1ccccc1, dipole_moment openbabel: 0.3301979660316118, dipole mine: 0.06362869914505294 dipole true: 1.53\n",
      "SMILES: CCO, dipole_moment openbabel: 1.3950131545261617, dipole mine: 0.31807392030513704 dipole true: 1.44\n",
      "SMILES: OC=O, dipole_moment openbabel: 1.2301618420699507, dipole mine: 0.17648020272334733 dipole true: 1.41\n",
      "SMILES: CC(O)=O, dipole_moment openbabel: 2.216119179218494, dipole mine: 0.36057316426301644 dipole true: 1.7\n"
     ]
    },
    {
     "name": "stderr",
     "output_type": "stream",
     "text": [
      "  2%|▏         | 19/826 [00:02<01:20, 10.05it/s]"
     ]
    },
    {
     "name": "stdout",
     "output_type": "stream",
     "text": [
      "SMILES: OC(=O)c1ccccc1, dipole_moment openbabel: 1.9440947746733803, dipole mine: 0.2862990745848656 dipole true: 1.0\n",
      "SMILES: CO, dipole_moment openbabel: 1.308394834018848, dipole mine: 0.2993800475595823 dipole true: 1.7\n",
      "SMILES: [Cl-].CO[NH3+], dipole_moment openbabel: 1.4488965506353422, dipole mine: 1.1814683519050406 dipole true: 2.7183\n",
      "SMILES: CC(C)O, dipole_moment openbabel: 1.5376284905316275, dipole mine: 0.3463933592229026 dipole true: 1.58\n",
      "SMILES: CC(C)=O, dipole_moment openbabel: 2.958932112709262, dipole mine: 0.5267651932975035 dipole true: 2.88\n",
      "SMILES: ClC(Cl)Cl, dipole_moment openbabel: 1.3344644295190995, dipole mine: 0.2459488896913892 dipole true: 1.01\n"
     ]
    },
    {
     "name": "stderr",
     "output_type": "stream",
     "text": [
      "  3%|▎         | 22/826 [00:02<01:04, 12.50it/s]"
     ]
    },
    {
     "name": "stdout",
     "output_type": "stream",
     "text": [
      "SMILES: C[S](C)=O, dipole_moment openbabel: 3.513225445491748, dipole mine: 0.6146375693367667 dipole true: 3.96\n",
      "SMILES: C[S](C)(=O)=O, dipole_moment openbabel: 4.748729386924661, dipole mine: 0.7888202970243372 dipole true: 4.49\n",
      "SMILES: ClC(Cl)(Cl)C(Cl)(Cl)Cl, dipole_moment openbabel: 0.11468972056641437, dipole mine: 0.032922223597313054 dipole true: 0.0\n"
     ]
    },
    {
     "name": "stderr",
     "output_type": "stream",
     "text": [
      "  3%|▎         | 25/826 [00:02<01:03, 12.67it/s]"
     ]
    },
    {
     "name": "stdout",
     "output_type": "stream",
     "text": [
      "SMILES: CN(C)C=O, dipole_moment openbabel: 2.914070531926574, dipole mine: 0.5315255998087627 dipole true: 3.82\n"
     ]
    },
    {
     "name": "stderr",
     "output_type": "stream",
     "text": [
      "  3%|▎         | 27/826 [00:03<01:37,  8.16it/s]"
     ]
    },
    {
     "name": "stdout",
     "output_type": "stream",
     "text": [
      "SMILES: OC(=O)c1ccccc1O, dipole_moment openbabel: 3.0970298383854042, dipole mine: 0.5624278951717379 dipole true: 2.65\n",
      "SMILES: CCCO, dipole_moment openbabel: 1.4109923648837481, dipole mine: 0.319459357233503 dipole true: 1.55\n",
      "SMILES: CCCCO, dipole_moment openbabel: 1.588364025228489, dipole mine: 0.3522758973652001 dipole true: 1.66\n"
     ]
    },
    {
     "name": "stderr",
     "output_type": "stream",
     "text": [
      "  4%|▎         | 30/826 [00:03<02:08,  6.22it/s]"
     ]
    },
    {
     "name": "stdout",
     "output_type": "stream",
     "text": [
      "SMILES: CCCCCO, dipole_moment openbabel: 1.4838189732187685, dipole mine: 0.3363500772351745 dipole true: 1.70000359751052\n",
      "SMILES: c1ccccc1, dipole_moment openbabel: 0.02164305867786459, dipole mine: 0.004416419218353006 dipole true: 0.0\n",
      "SMILES: CC(Cl)(Cl)Cl, dipole_moment openbabel: 1.7214374029129444, dipole mine: 0.28555943442033327 dipole true: 1.78\n",
      "SMILES: C, dipole_moment openbabel: 0.006398275265120762, dipole mine: 0.0018634817477288473 dipole true: 0.0\n",
      "SMILES: CBr, dipole_moment openbabel: 1.2931294446145072, dipole mine: 0.22638082665334955 dipole true: 1.81\n",
      "SMILES: CC, dipole_moment openbabel: 0.02564574191647169, dipole mine: 0.006909651367810871 dipole true: 0.0\n"
     ]
    },
    {
     "name": "stderr",
     "output_type": "stream",
     "text": [
      "  5%|▍         | 41/826 [00:04<00:43, 18.20it/s]"
     ]
    },
    {
     "name": "stdout",
     "output_type": "stream",
     "text": [
      "SMILES: C=C, dipole_moment openbabel: 0.01800937004902801, dipole mine: 0.004321171213541751 dipole true: 0.0059\n",
      "SMILES: C#C, dipole_moment openbabel: 0.02011741120144131, dipole mine: 0.004113057716038943 dipole true: 0.0\n",
      "SMILES: CCl, dipole_moment openbabel: 1.5404369227501593, dipole mine: 0.2769122895829535 dipole true: 1.87\n",
      "SMILES: CI, dipole_moment openbabel: 1.332701321812337, dipole mine: 0.2308169034674615 dipole true: 1.62\n",
      "SMILES: CN, dipole_moment openbabel: 0.4634475742019767, dipole mine: 0.10614202666371751 dipole true: 1.31\n",
      "SMILES: C#N, dipole_moment openbabel: 2.203770381452844, dipole mine: 0.3945953762385423 dipole true: 2.98\n",
      "SMILES: CS, dipole_moment openbabel: 0.8502906039590521, dipole mine: 0.17990619310816766 dipole true: 1.52\n",
      "SMILES: BrCBr, dipole_moment openbabel: 1.3696994701234981, dipole mine: 0.24424294901265584 dipole true: 1.43\n",
      "SMILES: CCBr, dipole_moment openbabel: 1.3157647848462166, dipole mine: 0.22620182761756036 dipole true: 2.03\n",
      "SMILES: ClCBr, dipole_moment openbabel: 1.5332081018384198, dipole mine: 0.27667787400886373 dipole true: 2.0001\n",
      "SMILES: CCC, dipole_moment openbabel: 0.026879088084083808, dipole mine: 0.007199121991072487 dipole true: 0.08\n"
     ]
    },
    {
     "name": "stderr",
     "output_type": "stream",
     "text": [
      "  6%|▋         | 52/826 [00:04<00:33, 22.95it/s]"
     ]
    },
    {
     "name": "stdout",
     "output_type": "stream",
     "text": [
      "SMILES: CC#C, dipole_moment openbabel: 0.4304581031562857, dipole mine: 0.062453372985279344 dipole true: 0.78\n",
      "SMILES: CCCl, dipole_moment openbabel: 1.5785244902007909, dipole mine: 0.27853973721595415 dipole true: 2.05\n",
      "SMILES: ClC=C, dipole_moment openbabel: 1.4517728826053746, dipole mine: 0.24952068446657893 dipole true: 1.45\n",
      "SMILES: FC=C, dipole_moment openbabel: 2.1977589982539567, dipole mine: 0.4025008850021998 dipole true: 1.43\n",
      "SMILES: CCN, dipole_moment openbabel: 0.5507884028856628, dipole mine: 0.13510994969268994 dipole true: 1.22\n",
      "SMILES: CC#N, dipole_moment openbabel: 2.901782099122919, dipole mine: 0.48045052782139946 dipole true: 3.92\n",
      "SMILES: CC=O, dipole_moment openbabel: 2.8050202112209, dipole mine: 0.5097520286750352 dipole true: 2.69\n"
     ]
    },
    {
     "name": "stderr",
     "output_type": "stream",
     "text": [
      "  7%|▋         | 61/826 [00:04<00:24, 30.73it/s]"
     ]
    },
    {
     "name": "stdout",
     "output_type": "stream",
     "text": [
      "SMILES: CCS, dipole_moment openbabel: 0.9337301978647943, dipole mine: 0.19630872360831425 dipole true: 1.52\n",
      "SMILES: ClCCl, dipole_moment openbabel: 1.6628745835536662, dipole mine: 0.3017280423346239 dipole true: 0.6084\n",
      "SMILES: FCF, dipole_moment openbabel: 2.491954616830719, dipole mine: 0.4698371961748457 dipole true: 0.46\n",
      "SMILES: NC=O, dipole_moment openbabel: 2.5362398077744595, dipole mine: 0.4647905871890752 dipole true: 3.73\n",
      "SMILES: S=C=S, dipole_moment openbabel: 0.030794760479558477, dipole mine: 0.01499337832286394 dipole true: 0.0\n",
      "SMILES: CSC, dipole_moment openbabel: 1.136614155381663, dipole mine: 0.22992395743463806 dipole true: 1.5\n",
      "SMILES: C1CC1, dipole_moment openbabel: 0.04145896209332577, dipole mine: 0.009916315862243119 dipole true: 0.0\n",
      "SMILES: C1CO1, dipole_moment openbabel: 2.2229296751614345, dipole mine: 0.5050682416700872 dipole true: 1.89\n",
      "SMILES: BrC(Br)Br, dipole_moment openbabel: 1.0761989403828893, dipole mine: 0.19689597762095598 dipole true: 0.99\n"
     ]
    },
    {
     "name": "stderr",
     "output_type": "stream",
     "text": [
      "  8%|▊         | 65/826 [00:04<00:30, 24.69it/s]"
     ]
    },
    {
     "name": "stdout",
     "output_type": "stream",
     "text": [
      "SMILES: CC(C)Br, dipole_moment openbabel: 1.3622959098614862, dipole mine: 0.2315934972540925 dipole true: 2.21\n",
      "SMILES: CC(C)C, dipole_moment openbabel: 0.025390823654374436, dipole mine: 0.003995665087797064 dipole true: 0.13\n",
      "SMILES: CC(C)Cl, dipole_moment openbabel: 1.6612384710167851, dipole mine: 0.2895126969958214 dipole true: 2.17\n",
      "SMILES: CC(C)N, dipole_moment openbabel: 0.5662943389850803, dipole mine: 0.13758499819835107 dipole true: 1.19\n"
     ]
    },
    {
     "name": "stderr",
     "output_type": "stream",
     "text": [
      "  9%|▉         | 73/826 [00:05<00:24, 30.72it/s]"
     ]
    },
    {
     "name": "stdout",
     "output_type": "stream",
     "text": [
      "SMILES: CC(Cl)Cl, dipole_moment openbabel: 1.7631757618309023, dipole mine: 0.3052973881771964 dipole true: 2.06\n",
      "SMILES: ClC(Cl)=C, dipole_moment openbabel: 1.47618273227935, dipole mine: 0.24586869194454664 dipole true: 1.34\n",
      "SMILES: CC(Cl)=O, dipole_moment openbabel: 2.6778965207832206, dipole mine: 0.46139465164287685 dipole true: 2.72\n",
      "SMILES: CC(F)F, dipole_moment openbabel: 2.735899447754348, dipole mine: 0.4852071986337911 dipole true: 2.27\n",
      "SMILES: FC(F)=C, dipole_moment openbabel: 2.453324550589267, dipole mine: 0.4197965981766817 dipole true: 1.38\n",
      "SMILES: FC(Cl)Cl, dipole_moment openbabel: 1.7610554652832138, dipole mine: 0.33100275087290054 dipole true: 1.29\n",
      "SMILES: ClC(Cl)=O, dipole_moment openbabel: 1.4778768832599014, dipole mine: 0.27543813531172495 dipole true: 1.17\n",
      "SMILES: FC(F)Cl, dipole_moment openbabel: 2.0394298066677305, dipole mine: 0.3801986598506341 dipole true: 1.4\n"
     ]
    },
    {
     "name": "stderr",
     "output_type": "stream",
     "text": [
      "  9%|▉         | 77/826 [00:05<00:26, 28.09it/s]"
     ]
    },
    {
     "name": "stdout",
     "output_type": "stream",
     "text": [
      "SMILES: FC(F)F, dipole_moment openbabel: 2.1581023303804243, dipole mine: 0.4034215583950098 dipole true: 1.65\n",
      "SMILES: CN(C)C, dipole_moment openbabel: 0.6943252169656764, dipole mine: 0.16356600717800776 dipole true: 0.61\n",
      "SMILES: C[N+]([O-])=O, dipole_moment openbabel: 3.6711939331907293, dipole mine: 1.200944270917559 dipole true: 3.46\n",
      "SMILES: CC1CO1, dipole_moment openbabel: 2.3005786981704444, dipole mine: 0.5172267947528378 dipole true: 2.01\n",
      "SMILES: FC(F)(Br)Br, dipole_moment openbabel: 1.649779323336218, dipole mine: 0.29562794500879086 dipole true: 0.66\n",
      "SMILES: FC(F)(F)Br, dipole_moment openbabel: 1.5892754283742065, dipole mine: 0.28506923652253263 dipole true: 0.64\n"
     ]
    },
    {
     "name": "stderr",
     "output_type": "stream",
     "text": [
      " 10%|█         | 86/826 [00:05<00:25, 28.72it/s]"
     ]
    },
    {
     "name": "stdout",
     "output_type": "stream",
     "text": [
      "SMILES: CC(C)(C)O, dipole_moment openbabel: 1.64040343775227, dipole mine: 0.35379404903324213 dipole true: 1.74\n",
      "SMILES: CC(F)(F)Cl, dipole_moment openbabel: 2.588555352542354, dipole mine: 0.43383160761775774 dipole true: 2.14\n",
      "SMILES: FC(Cl)(Cl)Cl, dipole_moment openbabel: 0.9418331314482787, dipole mine: 0.17152749768481845 dipole true: 0.45\n",
      "SMILES: FC(F)(Cl)Cl, dipole_moment openbabel: 1.1628116494011507, dipole mine: 0.21070326643122667 dipole true: 0.51\n",
      "SMILES: FC(F)(F)Cl, dipole_moment openbabel: 1.1005005064368376, dipole mine: 0.20218335592289927 dipole true: 0.5\n",
      "SMILES: FC(F)(F)F, dipole_moment openbabel: 0.028413918849957698, dipole mine: 0.009162748357346925 dipole true: 0.0\n",
      "SMILES: C[Si](C)(C)C, dipole_moment openbabel: 0.0, dipole mine: 0.00852273885527059 dipole true: 0.0\n",
      "SMILES: CCC(C)(C)C, dipole_moment openbabel: 0.04267322027715416, dipole mine: 0.00968396395188594 dipole true: 0.0\n"
     ]
    },
    {
     "name": "stderr",
     "output_type": "stream",
     "text": [
      " 11%|█         | 90/826 [00:06<00:57, 12.88it/s]"
     ]
    },
    {
     "name": "stdout",
     "output_type": "stream",
     "text": [
      "SMILES: CCC(C)(C)O, dipole_moment openbabel: 1.5267975483727678, dipole mine: 0.3304607141569012 dipole true: 1.70000359751052\n",
      "SMILES: ClC(Cl)C(Cl)(Cl)Cl, dipole_moment openbabel: 1.3135472493111426, dipole mine: 0.23935845955885343 dipole true: 0.92\n",
      "SMILES: OC(=O)C(F)(F)F, dipole_moment openbabel: 1.3236217197828657, dipole mine: 0.25803911031864224 dipole true: 2.28\n",
      "SMILES: FC(F)(Cl)C(F)(F)Cl, dipole_moment openbabel: 0.1665542808642292, dipole mine: 0.04445604469324228 dipole true: 0.56\n",
      "SMILES: FC(F)(F)C(F)(F)Cl, dipole_moment openbabel: 1.1672431483703298, dipole mine: 0.21540593586168305 dipole true: 0.52\n",
      "SMILES: FC(F)(F)C(F)(F)F, dipole_moment openbabel: 0.06056927762468636, dipole mine: 0.01830828748865335 dipole true: 0.0\n"
     ]
    },
    {
     "name": "stderr",
     "output_type": "stream",
     "text": [
      " 11%|█▏        | 93/826 [00:06<00:51, 14.35it/s]"
     ]
    },
    {
     "name": "stdout",
     "output_type": "stream",
     "text": [
      "SMILES: FC(F)(F)C(F)(F)C(F)(F)F, dipole_moment openbabel: 0.1304582435696659, dipole mine: 0.04732048909761638 dipole true: 0.0\n",
      "SMILES: CC(Br)CBr, dipole_moment openbabel: 2.0060528362550216, dipole mine: 0.3526628575583324 dipole true: 1.24\n"
     ]
    },
    {
     "name": "stderr",
     "output_type": "stream",
     "text": [
      " 12%|█▏        | 96/826 [00:06<00:58, 12.52it/s]"
     ]
    },
    {
     "name": "stdout",
     "output_type": "stream",
     "text": [
      "SMILES: CCC(C)Br, dipole_moment openbabel: 1.319131725005392, dipole mine: 0.22586550344376638 dipole true: 2.23\n",
      "SMILES: CCC(C)C, dipole_moment openbabel: 0.031382958890771674, dipole mine: 0.005897953642319183 dipole true: 0.13\n"
     ]
    },
    {
     "name": "stderr",
     "output_type": "stream",
     "text": [
      " 12%|█▏        | 98/826 [00:07<01:23,  8.76it/s]"
     ]
    },
    {
     "name": "stdout",
     "output_type": "stream",
     "text": [
      "SMILES: CC(=C)C=C, dipole_moment openbabel: 0.15580680863784174, dipole mine: 0.021180786132211884 dipole true: 0.25\n"
     ]
    },
    {
     "name": "stderr",
     "output_type": "stream",
     "text": [
      " 12%|█▏        | 100/826 [00:08<01:58,  6.14it/s]"
     ]
    },
    {
     "name": "stdout",
     "output_type": "stream",
     "text": [
      "SMILES: CC(=C)C#C, dipole_moment openbabel: 0.42286874105051375, dipole mine: 0.05701592341395827 dipole true: 0.51\n",
      "SMILES: CC(C)CN, dipole_moment openbabel: 0.4648227396302147, dipole mine: 0.09111333909857187 dipole true: 1.27\n"
     ]
    },
    {
     "name": "stderr",
     "output_type": "stream",
     "text": [
      " 12%|█▏        | 102/826 [00:08<01:55,  6.29it/s]"
     ]
    },
    {
     "name": "stdout",
     "output_type": "stream",
     "text": [
      "SMILES: CC(C)CO, dipole_moment openbabel: 1.5371775743683307, dipole mine: 0.34464066313936514 dipole true: 1.64\n",
      "SMILES: CC(=C)C=O, dipole_moment openbabel: 2.8957948588595244, dipole mine: 0.5233790489025971 dipole true: 2.68\n"
     ]
    },
    {
     "name": "stderr",
     "output_type": "stream",
     "text": [
      " 12%|█▏        | 103/826 [00:08<01:53,  6.35it/s]"
     ]
    },
    {
     "name": "stdout",
     "output_type": "stream",
     "text": [
      "SMILES: CCC(C)Cl, dipole_moment openbabel: 1.589371843598889, dipole mine: 0.27752492805478474 dipole true: 2.04\n",
      "SMILES: CC(Cl)CCl, dipole_moment openbabel: 2.446263962141135, dipole mine: 0.4404682926578248 dipole true: 1.17\n"
     ]
    },
    {
     "name": "stderr",
     "output_type": "stream",
     "text": [
      " 13%|█▎        | 106/826 [00:08<01:45,  6.83it/s]"
     ]
    },
    {
     "name": "stdout",
     "output_type": "stream",
     "text": [
      "SMILES: CCC(C)O, dipole_moment openbabel: 1.485068478220318, dipole mine: 0.3288755268780315 dipole true: 1.7\n",
      "SMILES: CCC(C)=O, dipole_moment openbabel: 2.9930800943035485, dipole mine: 0.5304588466921974 dipole true: 2.78\n"
     ]
    },
    {
     "name": "stderr",
     "output_type": "stream",
     "text": [
      " 13%|█▎        | 110/826 [00:09<01:11,  9.96it/s]"
     ]
    },
    {
     "name": "stdout",
     "output_type": "stream",
     "text": [
      "SMILES: CCC(Cl)Cl, dipole_moment openbabel: 1.8116466052035427, dipole mine: 0.3172774276419576 dipole true: 2.081\n",
      "SMILES: ClCC(Cl)Cl, dipole_moment openbabel: 1.4004889467956807, dipole mine: 0.2520688700757157 dipole true: 1.5\n",
      "SMILES: ClC=C(Cl)Cl, dipole_moment openbabel: 1.3516238470881277, dipole mine: 0.2396227772298316 dipole true: 0.77\n",
      "SMILES: CCC(O)=O, dipole_moment openbabel: 2.264044388095974, dipole mine: 0.35749032638077 dipole true: 1.751\n"
     ]
    },
    {
     "name": "stderr",
     "output_type": "stream",
     "text": [
      " 14%|█▍        | 114/826 [00:09<01:02, 11.42it/s]"
     ]
    },
    {
     "name": "stdout",
     "output_type": "stream",
     "text": [
      "SMILES: OC(=O)C=C, dipole_moment openbabel: 1.880612410628467, dipole mine: 0.27662508432699684 dipole true: 1.4599896871365\n",
      "SMILES: OC(=O)CCl, dipole_moment openbabel: 2.599395784257333, dipole mine: 0.48137380916271344 dipole true: 2.31\n",
      "SMILES: COC(C)=O, dipole_moment openbabel: 0.9606397884374974, dipole mine: 0.08899104462357565 dipole true: 1.72\n",
      "SMILES: CC[N+]([O-])=O, dipole_moment openbabel: 3.7333175901725317, dipole mine: 1.2164805327029287 dipole true: 3.65\n",
      "SMILES: BrC(Br)C(Br)Br, dipole_moment openbabel: 1.8144184370022158, dipole mine: 0.3334033141355182 dipole true: 1.3\n"
     ]
    },
    {
     "name": "stderr",
     "output_type": "stream",
     "text": [
      " 14%|█▍        | 118/826 [00:10<01:25,  8.24it/s]"
     ]
    },
    {
     "name": "stdout",
     "output_type": "stream",
     "text": [
      "SMILES: CC(C)C(C)C, dipole_moment openbabel: 0.05552931784443625, dipole mine: 0.013019134031406712 dipole true: 0.2\n",
      "SMILES: CC(C)C(O)=O, dipole_moment openbabel: 1.7558003233118793, dipole mine: 0.22563635735771104 dipole true: 1.09\n",
      "SMILES: ClC(Cl)C(Cl)Cl, dipole_moment openbabel: 2.2715567223832553, dipole mine: 0.424976449235768 dipole true: 1.29\n"
     ]
    },
    {
     "name": "stderr",
     "output_type": "stream",
     "text": [
      " 15%|█▍        | 120/826 [00:10<01:30,  7.78it/s]"
     ]
    },
    {
     "name": "stdout",
     "output_type": "stream",
     "text": [
      "SMILES: CC(=C)C(O)=O, dipole_moment openbabel: 2.13445206804221, dipole mine: 0.3377389980644403 dipole true: 1.64999820124474\n",
      "SMILES: CC(C)[N+]([O-])=O, dipole_moment openbabel: 3.8194588238419303, dipole mine: 1.2349647931676093 dipole true: 3.73\n"
     ]
    },
    {
     "name": "stderr",
     "output_type": "stream",
     "text": [
      " 15%|█▍        | 121/826 [00:10<01:46,  6.59it/s]"
     ]
    },
    {
     "name": "stdout",
     "output_type": "stream",
     "text": [
      "SMILES: COC(=O)C(C)=C, dipole_moment openbabel: 0.9069027833974491, dipole mine: 0.0794540732585602 dipole true: 1.96999676224053\n"
     ]
    },
    {
     "name": "stderr",
     "output_type": "stream",
     "text": [
      " 15%|█▍        | 122/826 [00:11<03:11,  3.67it/s]"
     ]
    },
    {
     "name": "stdout",
     "output_type": "stream",
     "text": [
      "SMILES: C1Cc2cccc3cccc1c23, dipole_moment openbabel: 0.3250461026480916, dipole mine: 0.044572221641209483 dipole true: 0.254823662025878\n"
     ]
    },
    {
     "name": "stderr",
     "output_type": "stream",
     "text": [
      " 15%|█▍        | 123/826 [00:13<08:23,  1.40it/s]"
     ]
    },
    {
     "name": "stdout",
     "output_type": "stream",
     "text": [
      "SMILES: CCOC(=O)c1ccccc1C(=O)OCC, dipole_moment openbabel: 1.5686394069707057, dipole mine: 0.11481650224797182 dipole true: 2.90001319087192\n"
     ]
    },
    {
     "name": "stderr",
     "output_type": "stream",
     "text": [
      " 15%|█▌        | 124/826 [00:14<09:08,  1.28it/s]"
     ]
    },
    {
     "name": "stdout",
     "output_type": "stream",
     "text": [
      "SMILES: c1ccc2c(c1)ccc3ccccc23, dipole_moment openbabel: 0.04953869404569824, dipole mine: 0.009685887695889994 dipole true: 0.0\n"
     ]
    },
    {
     "name": "stderr",
     "output_type": "stream",
     "text": [
      " 15%|█▌        | 125/826 [00:14<07:38,  1.53it/s]"
     ]
    },
    {
     "name": "stdout",
     "output_type": "stream",
     "text": [
      "SMILES: Nc1ccccc1[N+]([O-])=O, dipole_moment openbabel: 3.852590490346249, dipole mine: 1.2349115734903469 dipole true: 4.06\n"
     ]
    },
    {
     "name": "stderr",
     "output_type": "stream",
     "text": [
      " 15%|█▌        | 126/826 [00:15<07:09,  1.63it/s]"
     ]
    },
    {
     "name": "stdout",
     "output_type": "stream",
     "text": [
      "SMILES: OC(=O)c1ccccc1C(O)=O, dipole_moment openbabel: 3.0275465575883067, dipole mine: 0.41568344037891175 dipole true: 2.6\n"
     ]
    },
    {
     "name": "stderr",
     "output_type": "stream",
     "text": [
      " 15%|█▌        | 127/826 [00:16<07:21,  1.58it/s]"
     ]
    },
    {
     "name": "stdout",
     "output_type": "stream",
     "text": [
      "SMILES: Cc1cccc2ccccc12, dipole_moment openbabel: 0.21260579813752883, dipole mine: 0.03090902934546608 dipole true: 0.5\n"
     ]
    },
    {
     "name": "stderr",
     "output_type": "stream",
     "text": [
      " 15%|█▌        | 128/826 [00:16<06:44,  1.73it/s]"
     ]
    },
    {
     "name": "stdout",
     "output_type": "stream",
     "text": [
      "SMILES: c1ccc2ccccc2c1, dipole_moment openbabel: 0.00885687988901762, dipole mine: 0.0019557560877322957 dipole true: 0.0\n"
     ]
    },
    {
     "name": "stderr",
     "output_type": "stream",
     "text": [
      " 16%|█▌        | 129/826 [00:16<06:09,  1.89it/s]"
     ]
    },
    {
     "name": "stdout",
     "output_type": "stream",
     "text": [
      "SMILES: c1ccc2ncccc2c1, dipole_moment openbabel: 1.5002943605427814, dipole mine: 0.279929898637289 dipole true: 2.3\n"
     ]
    },
    {
     "name": "stderr",
     "output_type": "stream",
     "text": [
      " 16%|█▌        | 130/826 [00:17<06:31,  1.78it/s]"
     ]
    },
    {
     "name": "stdout",
     "output_type": "stream",
     "text": [
      "SMILES: Cc1ccc2ccccc2c1, dipole_moment openbabel: 0.16974994966994061, dipole mine: 0.023244957089371136 dipole true: 0.4\n"
     ]
    },
    {
     "name": "stderr",
     "output_type": "stream",
     "text": [
      " 16%|█▌        | 131/826 [00:18<06:53,  1.68it/s]"
     ]
    },
    {
     "name": "stdout",
     "output_type": "stream",
     "text": [
      "SMILES: c1ccc(cc1)c2ccccc2, dipole_moment openbabel: 0.0394723268709302, dipole mine: 0.007384036136047501 dipole true: 0.0\n"
     ]
    },
    {
     "name": "stderr",
     "output_type": "stream",
     "text": [
      " 16%|█▌        | 132/826 [00:19<07:39,  1.51it/s]"
     ]
    },
    {
     "name": "stdout",
     "output_type": "stream",
     "text": [
      "SMILES: Nc1ccc(cc1)c2ccccc2, dipole_moment openbabel: 0.4019997223596955, dipole mine: 0.07971685304958845 dipole true: 1.76\n"
     ]
    },
    {
     "name": "stderr",
     "output_type": "stream",
     "text": [
      " 16%|█▌        | 133/826 [00:20<11:23,  1.01it/s]"
     ]
    },
    {
     "name": "stdout",
     "output_type": "stream",
     "text": [
      "SMILES: c1ccc(cc1)c2ccc(cc2)c3ccccc3, dipole_moment openbabel: 0.05342392671534796, dipole mine: 0.010796968567196252 dipole true: 0.7\n"
     ]
    },
    {
     "name": "stderr",
     "output_type": "stream",
     "text": [
      " 16%|█▌        | 134/826 [00:21<09:40,  1.19it/s]"
     ]
    },
    {
     "name": "stdout",
     "output_type": "stream",
     "text": [
      "SMILES: COC(=O)c1ccccc1, dipole_moment openbabel: 0.8107205119614738, dipole mine: 0.05550575720676108 dipole true: 2.53000923361034\n"
     ]
    },
    {
     "name": "stderr",
     "output_type": "stream",
     "text": [
      " 16%|█▋        | 135/826 [00:21<08:06,  1.42it/s]"
     ]
    },
    {
     "name": "stdout",
     "output_type": "stream",
     "text": [
      "SMILES: Cc1ccccc1C, dipole_moment openbabel: 0.31871048263831314, dipole mine: 0.044681719008927846 dipole true: 0.629564341475699\n"
     ]
    },
    {
     "name": "stderr",
     "output_type": "stream",
     "text": [
      " 16%|█▋        | 136/826 [00:22<06:50,  1.68it/s]"
     ]
    },
    {
     "name": "stdout",
     "output_type": "stream",
     "text": [
      "SMILES: Cc1ccccc1O, dipole_moment openbabel: 1.5854169205556736, dipole mine: 0.3581953011907488 dipole true: 1.45099591082971\n"
     ]
    },
    {
     "name": "stderr",
     "output_type": "stream",
     "text": [
      " 17%|█▋        | 137/826 [00:22<06:24,  1.79it/s]"
     ]
    },
    {
     "name": "stdout",
     "output_type": "stream",
     "text": [
      "SMILES: Cc1ccc(O)cc1C, dipole_moment openbabel: 2.1264437221373234, dipole mine: 0.4360319977169593 dipole true: 1.7\n"
     ]
    },
    {
     "name": "stderr",
     "output_type": "stream",
     "text": [
      " 17%|█▋        | 138/826 [00:23<06:11,  1.85it/s]"
     ]
    },
    {
     "name": "stdout",
     "output_type": "stream",
     "text": [
      "SMILES: Cc1ccc(C)c(O)c1, dipole_moment openbabel: 1.78309480098434, dipole mine: 0.39173340354159825 dipole true: 1.5\n"
     ]
    },
    {
     "name": "stderr",
     "output_type": "stream",
     "text": [
      " 17%|█▋        | 139/826 [00:23<07:17,  1.57it/s]"
     ]
    },
    {
     "name": "stdout",
     "output_type": "stream",
     "text": [
      "SMILES: Cc1cc(C)c(C)cc1C, dipole_moment openbabel: 0.04959840724085728, dipole mine: 0.009751913681364854 dipole true: 0.0\n"
     ]
    },
    {
     "name": "stderr",
     "output_type": "stream",
     "text": [
      " 17%|█▋        | 141/826 [00:24<04:42,  2.43it/s]"
     ]
    },
    {
     "name": "stdout",
     "output_type": "stream",
     "text": [
      "SMILES: CCC(=O)CC, dipole_moment openbabel: 2.870880051329467, dipole mine: 0.5233525116191147 dipole true: 2.7\n",
      "SMILES: CC1CCCC1, dipole_moment openbabel: 0.04549491428946405, dipole mine: 0.009293693508153936 dipole true: 0.0\n"
     ]
    },
    {
     "name": "stderr",
     "output_type": "stream",
     "text": [
      " 17%|█▋        | 142/826 [00:24<03:41,  3.08it/s]"
     ]
    },
    {
     "name": "stdout",
     "output_type": "stream",
     "text": [
      "SMILES: O=C1CCCO1, dipole_moment openbabel: 5.20110225273429, dipole mine: 0.9471086196190575 dipole true: 3.82\n",
      "SMILES: O=C1OCCO1, dipole_moment openbabel: 5.0280524028132625, dipole mine: 0.8899612555607117 dipole true: 4.51007902531448\n"
     ]
    },
    {
     "name": "stderr",
     "output_type": "stream",
     "text": [
      " 17%|█▋        | 144/826 [00:24<03:26,  3.30it/s]"
     ]
    },
    {
     "name": "stdout",
     "output_type": "stream",
     "text": [
      "SMILES: CCOC(=O)C(C)C, dipole_moment openbabel: 0.7752170148004348, dipole mine: 0.07217590526825872 dipole true: 2.1\n"
     ]
    },
    {
     "name": "stderr",
     "output_type": "stream",
     "text": [
      " 18%|█▊        | 145/826 [00:25<03:47,  3.00it/s]"
     ]
    },
    {
     "name": "stdout",
     "output_type": "stream",
     "text": [
      "SMILES: CCOC(=O)C(C)=C, dipole_moment openbabel: 1.2081757335986878, dipole mine: 0.1158290302036619 dipole true: 2.14999220539387\n"
     ]
    },
    {
     "name": "stderr",
     "output_type": "stream",
     "text": [
      " 18%|█▊        | 146/826 [00:25<03:56,  2.88it/s]"
     ]
    },
    {
     "name": "stdout",
     "output_type": "stream",
     "text": [
      "SMILES: CCOC(=O)C(C)O, dipole_moment openbabel: 0.8329701965071645, dipole mine: 0.27143380492374886 dipole true: 2.39998920746843\n"
     ]
    },
    {
     "name": "stderr",
     "output_type": "stream",
     "text": [
      " 18%|█▊        | 148/826 [00:26<03:07,  3.62it/s]"
     ]
    },
    {
     "name": "stdout",
     "output_type": "stream",
     "text": [
      "SMILES: OCC1CCCO1, dipole_moment openbabel: 2.658271072136151, dipole mine: 0.5807966113316834 dipole true: 2.12001295103788\n",
      "SMILES: O=Cc1occc1, dipole_moment openbabel: 5.187777722745594, dipole mine: 1.0051447453254958 dipole true: 3.54\n"
     ]
    },
    {
     "name": "stderr",
     "output_type": "stream",
     "text": [
      " 18%|█▊        | 149/826 [00:26<04:16,  2.64it/s]"
     ]
    },
    {
     "name": "stdout",
     "output_type": "stream",
     "text": [
      "SMILES: CC(C)c1ccccc1, dipole_moment openbabel: 0.20110436826850714, dipole mine: 0.027842282321263623 dipole true: 0.8\n"
     ]
    },
    {
     "name": "stderr",
     "output_type": "stream",
     "text": [
      " 18%|█▊        | 150/826 [00:27<04:30,  2.50it/s]"
     ]
    },
    {
     "name": "stdout",
     "output_type": "stream",
     "text": [
      "SMILES: CC(=O)c1ccccc1, dipole_moment openbabel: 3.00325401466655, dipole mine: 0.530989073469671 dipole true: 3.02\n"
     ]
    },
    {
     "name": "stderr",
     "output_type": "stream",
     "text": [
      " 18%|█▊        | 151/826 [00:27<04:01,  2.79it/s]"
     ]
    },
    {
     "name": "stdout",
     "output_type": "stream",
     "text": [
      "SMILES: [O-][N+](=O)c1ccccc1, dipole_moment openbabel: 3.7244098196273425, dipole mine: 1.2086090724391454 dipole true: 4.22\n"
     ]
    },
    {
     "name": "stderr",
     "output_type": "stream",
     "text": [
      " 18%|█▊        | 152/826 [00:27<04:03,  2.77it/s]"
     ]
    },
    {
     "name": "stdout",
     "output_type": "stream",
     "text": [
      "SMILES: Cc1cccc(c1)[N+]([O-])=O, dipole_moment openbabel: 3.7705450311924325, dipole mine: 1.2024313730064584 dipole true: 4.23\n"
     ]
    },
    {
     "name": "stderr",
     "output_type": "stream",
     "text": [
      " 19%|█▊        | 153/826 [00:28<03:56,  2.84it/s]"
     ]
    },
    {
     "name": "stdout",
     "output_type": "stream",
     "text": [
      "SMILES: Nc1cccc(c1)[N+]([O-])=O, dipole_moment openbabel: 3.4953872813958156, dipole mine: 1.1535416146406174 dipole true: 4.9\n"
     ]
    },
    {
     "name": "stderr",
     "output_type": "stream",
     "text": [
      " 19%|█▊        | 154/826 [00:28<03:56,  2.84it/s]"
     ]
    },
    {
     "name": "stdout",
     "output_type": "stream",
     "text": [
      "SMILES: [O-][N+](=O)c1cccc(c1)[N+]([O-])=O, dipole_moment openbabel: 3.8136106568494093, dipole mine: 1.2396659005652049 dipole true: 3.837\n"
     ]
    },
    {
     "name": "stderr",
     "output_type": "stream",
     "text": [
      " 19%|█▉        | 155/826 [00:29<05:45,  1.94it/s]"
     ]
    },
    {
     "name": "stdout",
     "output_type": "stream",
     "text": [
      "SMILES: CC(C)c1ccc(C)cc1, dipole_moment openbabel: 0.0490099323635075, dipole mine: 0.013054736417008779 dipole true: 0.0\n"
     ]
    },
    {
     "name": "stderr",
     "output_type": "stream",
     "text": [
      " 19%|█▉        | 156/826 [00:29<05:18,  2.11it/s]"
     ]
    },
    {
     "name": "stdout",
     "output_type": "stream",
     "text": [
      "SMILES: Cc1ccc(cc1)[N+]([O-])=O, dipole_moment openbabel: 3.8710582493672625, dipole mine: 1.2216069111702033 dipole true: 4.44\n"
     ]
    },
    {
     "name": "stderr",
     "output_type": "stream",
     "text": [
      " 19%|█▉        | 157/826 [00:30<05:24,  2.06it/s]"
     ]
    },
    {
     "name": "stdout",
     "output_type": "stream",
     "text": [
      "SMILES: OC(=O)c1ccc(cc1)C(O)=O, dipole_moment openbabel: 1.769899422550558, dipole mine: 0.30113449493353994 dipole true: 2.60219927809955\n"
     ]
    },
    {
     "name": "stderr",
     "output_type": "stream",
     "text": [
      " 19%|█▉        | 158/826 [00:30<05:00,  2.23it/s]"
     ]
    },
    {
     "name": "stdout",
     "output_type": "stream",
     "text": [
      "SMILES: [O-][N+](=O)c1ccc(cc1)[N+]([O-])=O, dipole_moment openbabel: 0.06724668696523158, dipole mine: 0.025686153632061955 dipole true: 0.0\n"
     ]
    },
    {
     "name": "stderr",
     "output_type": "stream",
     "text": [
      " 19%|█▉        | 159/826 [00:31<04:48,  2.31it/s]"
     ]
    },
    {
     "name": "stdout",
     "output_type": "stream",
     "text": [
      "SMILES: CCc1ccccc1, dipole_moment openbabel: 0.21330959176266842, dipole mine: 0.031074354669186125 dipole true: 0.59\n"
     ]
    },
    {
     "name": "stderr",
     "output_type": "stream",
     "text": [
      " 19%|█▉        | 160/826 [00:31<04:34,  2.43it/s]"
     ]
    },
    {
     "name": "stdout",
     "output_type": "stream",
     "text": [
      "SMILES: NCc1ccccc1, dipole_moment openbabel: 0.4939022259748882, dipole mine: 0.12615708852579424 dipole true: 1.38\n"
     ]
    },
    {
     "name": "stderr",
     "output_type": "stream",
     "text": [
      " 19%|█▉        | 161/826 [00:31<04:32,  2.44it/s]"
     ]
    },
    {
     "name": "stdout",
     "output_type": "stream",
     "text": [
      "SMILES: N#Cc1ccccc1, dipole_moment openbabel: 2.8170127973636516, dipole mine: 0.4542749956040454 dipole true: 4.18\n"
     ]
    },
    {
     "name": "stderr",
     "output_type": "stream",
     "text": [
      " 20%|█▉        | 162/826 [00:32<04:14,  2.61it/s]"
     ]
    },
    {
     "name": "stdout",
     "output_type": "stream",
     "text": [
      "SMILES: OCc1ccccc1, dipole_moment openbabel: 1.4245170129848475, dipole mine: 0.3234315800892249 dipole true: 1.7\n"
     ]
    },
    {
     "name": "stderr",
     "output_type": "stream",
     "text": [
      " 20%|█▉        | 163/826 [00:32<03:52,  2.85it/s]"
     ]
    },
    {
     "name": "stdout",
     "output_type": "stream",
     "text": [
      "SMILES: O=Cc1ccccc1, dipole_moment openbabel: 2.736388982236997, dipole mine: 0.5011999507905239 dipole true: 3.14\n"
     ]
    },
    {
     "name": "stderr",
     "output_type": "stream",
     "text": [
      " 20%|█▉        | 164/826 [00:32<03:59,  2.76it/s]"
     ]
    },
    {
     "name": "stdout",
     "output_type": "stream",
     "text": [
      "SMILES: COc1ccccc1, dipole_moment openbabel: 2.18053948756916, dipole mine: 0.46839605916033783 dipole true: 1.26\n"
     ]
    },
    {
     "name": "stderr",
     "output_type": "stream",
     "text": [
      " 20%|█▉        | 165/826 [00:34<07:23,  1.49it/s]"
     ]
    },
    {
     "name": "stdout",
     "output_type": "stream",
     "text": [
      "SMILES: C(c1ccccc1)c2ccccc2, dipole_moment openbabel: 0.10308423150270804, dipole mine: 0.015953566242576402 dipole true: 0.4\n"
     ]
    },
    {
     "name": "stderr",
     "output_type": "stream",
     "text": [
      " 20%|██        | 166/826 [00:35<08:12,  1.34it/s]"
     ]
    },
    {
     "name": "stdout",
     "output_type": "stream",
     "text": [
      "SMILES: CCCCc1ccccc1, dipole_moment openbabel: 0.1823462198729871, dipole mine: 0.025061341193113058 dipole true: 0.4\n"
     ]
    },
    {
     "name": "stderr",
     "output_type": "stream",
     "text": [
      " 20%|██        | 167/826 [00:36<09:19,  1.18it/s]"
     ]
    },
    {
     "name": "stdout",
     "output_type": "stream",
     "text": [
      "SMILES: CCCCC(CC)CO, dipole_moment openbabel: 1.491141934632537, dipole mine: 0.3287619711355972 dipole true: 1.8\n"
     ]
    },
    {
     "name": "stderr",
     "output_type": "stream",
     "text": [
      " 20%|██        | 168/826 [00:37<09:10,  1.20it/s]"
     ]
    },
    {
     "name": "stdout",
     "output_type": "stream",
     "text": [
      "SMILES: CCc1ccc(CC)cc1, dipole_moment openbabel: 0.07562750438483895, dipole mine: 0.01339739429999457 dipole true: 0.0\n"
     ]
    },
    {
     "name": "stderr",
     "output_type": "stream",
     "text": [
      " 20%|██        | 169/826 [00:37<07:21,  1.49it/s]"
     ]
    },
    {
     "name": "stdout",
     "output_type": "stream",
     "text": [
      "SMILES: CCOC(=O)CC, dipole_moment openbabel: 1.1087794018118193, dipole mine: 0.12991837814961416 dipole true: 1.7519876245638\n"
     ]
    },
    {
     "name": "stderr",
     "output_type": "stream",
     "text": [
      " 21%|██        | 170/826 [00:37<06:39,  1.64it/s]"
     ]
    },
    {
     "name": "stdout",
     "output_type": "stream",
     "text": [
      "SMILES: CCCC(=O)OCC, dipole_moment openbabel: 0.9159795011131956, dipole mine: 0.07773523375044693 dipole true: 1.8\n"
     ]
    },
    {
     "name": "stderr",
     "output_type": "stream",
     "text": [
      " 21%|██        | 171/826 [00:38<05:52,  1.86it/s]"
     ]
    },
    {
     "name": "stdout",
     "output_type": "stream",
     "text": [
      "SMILES: CCOC(=O)OCC, dipole_moment openbabel: 1.858677639220485, dipole mine: 0.4297024137453566 dipole true: 1.09999880082983\n"
     ]
    },
    {
     "name": "stderr",
     "output_type": "stream",
     "text": [
      " 21%|██        | 172/826 [00:38<06:22,  1.71it/s]"
     ]
    },
    {
     "name": "stdout",
     "output_type": "stream",
     "text": [
      "SMILES: CCCOC(=O)CCC, dipole_moment openbabel: 1.0897042128580174, dipole mine: 0.13346418886280306 dipole true: 1.8\n"
     ]
    },
    {
     "name": "stderr",
     "output_type": "stream",
     "text": [
      " 21%|██        | 173/826 [00:39<06:03,  1.80it/s]"
     ]
    },
    {
     "name": "stdout",
     "output_type": "stream",
     "text": [
      "SMILES: Cc1ccc(O)c(C)c1, dipole_moment openbabel: 1.9737263639298066, dipole mine: 0.4143058064518508 dipole true: 2.0\n"
     ]
    },
    {
     "name": "stderr",
     "output_type": "stream",
     "text": [
      " 21%|██        | 174/826 [00:39<05:43,  1.90it/s]"
     ]
    },
    {
     "name": "stdout",
     "output_type": "stream",
     "text": [
      "SMILES: CCCOC(=O)CC, dipole_moment openbabel: 1.0520718633852983, dipole mine: 0.10172875788842348 dipole true: 1.79000131908719\n"
     ]
    },
    {
     "name": "stderr",
     "output_type": "stream",
     "text": [
      " 21%|██        | 175/826 [00:40<05:16,  2.05it/s]"
     ]
    },
    {
     "name": "stdout",
     "output_type": "stream",
     "text": [
      "SMILES: Cc1ccc(C)cc1, dipole_moment openbabel: 0.014387881409931235, dipole mine: 0.00297702509013779 dipole true: 0.0\n"
     ]
    },
    {
     "name": "stderr",
     "output_type": "stream",
     "text": [
      " 21%|██▏       | 176/826 [00:40<04:44,  2.28it/s]"
     ]
    },
    {
     "name": "stdout",
     "output_type": "stream",
     "text": [
      "SMILES: Cc1ccc(O)cc1, dipole_moment openbabel: 2.0866482518565856, dipole mine: 0.44188649660324675 dipole true: 1.55892122651125\n"
     ]
    },
    {
     "name": "stderr",
     "output_type": "stream",
     "text": [
      " 22%|██▏       | 179/826 [00:41<02:41,  4.00it/s]"
     ]
    },
    {
     "name": "stdout",
     "output_type": "stream",
     "text": [
      "SMILES: Cc1ccc(N)cc1, dipole_moment openbabel: 0.4740226639104824, dipole mine: 0.08204855676085028 dipole true: 1.31\n",
      "SMILES: ClCC1CO1, dipole_moment openbabel: 2.825430387522741, dipole mine: 0.5921785108593749 dipole true: 1.8\n",
      "SMILES: BrCCBr, dipole_moment openbabel: 0.14964284542560977, dipole mine: 0.026283983395666132 dipole true: 1.04\n",
      "SMILES: CCCBr, dipole_moment openbabel: 1.3167351055629275, dipole mine: 0.22917742306928238 dipole true: 2.18\n"
     ]
    },
    {
     "name": "stderr",
     "output_type": "stream",
     "text": [
      " 22%|██▏       | 182/826 [00:41<01:59,  5.37it/s]"
     ]
    },
    {
     "name": "stdout",
     "output_type": "stream",
     "text": [
      "SMILES: CCCC, dipole_moment openbabel: 0.018234354647442733, dipole mine: 0.007429298573409533 dipole true: 0.0\n",
      "SMILES: CCC=C, dipole_moment openbabel: 0.13415838956466553, dipole mine: 0.020743546044446285 dipole true: 0.36\n"
     ]
    },
    {
     "name": "stderr",
     "output_type": "stream",
     "text": [
      " 22%|██▏       | 183/826 [00:41<01:54,  5.61it/s]"
     ]
    },
    {
     "name": "stdout",
     "output_type": "stream",
     "text": [
      "SMILES: C=CC=C, dipole_moment openbabel: 0.026057258684710066, dipole mine: 0.005597189603516189 dipole true: 0.0\n",
      "SMILES: CCC#C, dipole_moment openbabel: 0.41950767081944107, dipole mine: 0.05623668268706244 dipole true: 0.78\n"
     ]
    },
    {
     "name": "stderr",
     "output_type": "stream",
     "text": [
      " 23%|██▎       | 186/826 [00:41<01:31,  6.99it/s]"
     ]
    },
    {
     "name": "stdout",
     "output_type": "stream",
     "text": [
      "SMILES: C=CC=O, dipole_moment openbabel: 2.656512507621403, dipole mine: 0.495322221117866 dipole true: 3.12\n",
      "SMILES: ClCC=C, dipole_moment openbabel: 1.5092523241022553, dipole mine: 0.26763466088327414 dipole true: 1.94\n",
      "SMILES: ClCCCl, dipole_moment openbabel: 0.20912861956440992, dipole mine: 0.03759839014317745 dipole true: 2.94\n",
      "SMILES: OCCCl, dipole_moment openbabel: 2.0127373261020334, dipole mine: 0.3992442138081794 dipole true: 1.78\n"
     ]
    },
    {
     "name": "stderr",
     "output_type": "stream",
     "text": [
      " 23%|██▎       | 189/826 [00:42<01:09,  9.12it/s]"
     ]
    },
    {
     "name": "stdout",
     "output_type": "stream",
     "text": [
      "SMILES: CCCN, dipole_moment openbabel: 0.5297743843010192, dipole mine: 0.13359500301969485 dipole true: 1.17\n",
      "SMILES: CCC#N, dipole_moment openbabel: 2.9060764964818424, dipole mine: 0.4765818060739636 dipole true: 4.02\n"
     ]
    },
    {
     "name": "stderr",
     "output_type": "stream",
     "text": [
      " 23%|██▎       | 193/826 [00:42<01:08,  9.23it/s]"
     ]
    },
    {
     "name": "stdout",
     "output_type": "stream",
     "text": [
      "SMILES: C=CC#N, dipole_moment openbabel: 2.719773730855929, dipole mine: 0.4482327006490157 dipole true: 3.87\n",
      "SMILES: NCCN, dipole_moment openbabel: 0.5937097543383391, dipole mine: 0.13701362171821266 dipole true: 1.45\n",
      "SMILES: OCC=C, dipole_moment openbabel: 1.344130728329335, dipole mine: 0.30224357617570086 dipole true: 1.6\n"
     ]
    },
    {
     "name": "stderr",
     "output_type": "stream",
     "text": [
      " 24%|██▍       | 197/826 [00:42<00:55, 11.32it/s]"
     ]
    },
    {
     "name": "stdout",
     "output_type": "stream",
     "text": [
      "SMILES: OCC#C, dipole_moment openbabel: 1.2066057544029052, dipole mine: 0.28662515966026386 dipole true: 1.81\n",
      "SMILES: ClCC=O, dipole_moment openbabel: 2.238868648513088, dipole mine: 0.41314810900984417 dipole true: 2.72\n",
      "SMILES: OCCO, dipole_moment openbabel: 1.7574134051844406, dipole mine: 0.37746846791711436 dipole true: 2.3084025854109\n",
      "SMILES: C/C=N/O, dipole_moment openbabel: 1.2257795080429847, dipole mine: 0.2159477313570899 dipole true: 0.94\n",
      "SMILES: COC=O, dipole_moment openbabel: 0.5527273169014565, dipole mine: 0.03787217654630171 dipole true: 1.77\n"
     ]
    },
    {
     "name": "stderr",
     "output_type": "stream",
     "text": [
      " 24%|██▍       | 199/826 [00:43<01:44,  6.01it/s]"
     ]
    },
    {
     "name": "stdout",
     "output_type": "stream",
     "text": [
      "SMILES: CC(O)CC(C)(C)O, dipole_moment openbabel: 2.442917867747118, dipole mine: 0.5649263577982199 dipole true: 2.9\n"
     ]
    },
    {
     "name": "stderr",
     "output_type": "stream",
     "text": [
      " 24%|██▍       | 200/826 [00:44<02:14,  4.65it/s]"
     ]
    },
    {
     "name": "stdout",
     "output_type": "stream",
     "text": [
      "SMILES: CCCC(C)C, dipole_moment openbabel: 0.04311377253057561, dipole mine: 0.009607553678909957 dipole true: 0.0\n"
     ]
    },
    {
     "name": "stderr",
     "output_type": "stream",
     "text": [
      " 24%|██▍       | 202/826 [00:44<02:13,  4.69it/s]"
     ]
    },
    {
     "name": "stdout",
     "output_type": "stream",
     "text": [
      "SMILES: CCCC(C)=O, dipole_moment openbabel: 2.931818149626966, dipole mine: 0.5291191256575056 dipole true: 2.71998776846422\n",
      "SMILES: CCCC(O)=O, dipole_moment openbabel: 1.9126348528212649, dipole mine: 0.25735433768375376 dipole true: 1.23\n"
     ]
    },
    {
     "name": "stderr",
     "output_type": "stream",
     "text": [
      " 25%|██▍       | 204/826 [00:44<01:57,  5.30it/s]"
     ]
    },
    {
     "name": "stdout",
     "output_type": "stream",
     "text": [
      "SMILES: C/C=C/C(O)=O, dipole_moment openbabel: 2.137421201647428, dipole mine: 0.3241947494158527 dipole true: 2.13\n",
      "SMILES: CCC[N+]([O-])=O, dipole_moment openbabel: 3.817484093196252, dipole mine: 1.2398405934618386 dipole true: 3.66\n"
     ]
    },
    {
     "name": "stderr",
     "output_type": "stream",
     "text": [
      " 25%|██▍       | 205/826 [00:45<03:21,  3.09it/s]"
     ]
    },
    {
     "name": "stdout",
     "output_type": "stream",
     "text": [
      "SMILES: CC(C)CC(C)C, dipole_moment openbabel: 0.049320509190240905, dipole mine: 0.010817558913162417 dipole true: 0.0\n"
     ]
    },
    {
     "name": "stderr",
     "output_type": "stream",
     "text": [
      " 25%|██▍       | 206/826 [00:45<03:34,  2.89it/s]"
     ]
    },
    {
     "name": "stdout",
     "output_type": "stream",
     "text": [
      "SMILES: CC(C)CC(C)=O, dipole_moment openbabel: 3.0795787659846, dipole mine: 0.543629455498481 dipole true: 2.8\n"
     ]
    },
    {
     "name": "stderr",
     "output_type": "stream",
     "text": [
      " 25%|██▌       | 207/826 [00:46<03:57,  2.60it/s]"
     ]
    },
    {
     "name": "stdout",
     "output_type": "stream",
     "text": [
      "SMILES: CC(C)OC(C)C, dipole_moment openbabel: 1.1905613344076935, dipole mine: 0.2784179263263807 dipole true: 1.13000803444017\n"
     ]
    },
    {
     "name": "stderr",
     "output_type": "stream",
     "text": [
      " 25%|██▌       | 209/826 [00:46<03:10,  3.24it/s]"
     ]
    },
    {
     "name": "stdout",
     "output_type": "stream",
     "text": [
      "SMILES: CC(C)OC(C)=O, dipole_moment openbabel: 1.0477068014705204, dipole mine: 0.1008409067809241 dipole true: 1.75000899377631\n",
      "SMILES: CC(=O)OC(C)=O, dipole_moment openbabel: 3.7141730873434033, dipole mine: 0.5930959217970093 dipole true: 3.0\n"
     ]
    },
    {
     "name": "stderr",
     "output_type": "stream",
     "text": [
      " 25%|██▌       | 210/826 [00:47<03:15,  3.15it/s]"
     ]
    },
    {
     "name": "stdout",
     "output_type": "stream",
     "text": [
      "SMILES: Cc1cccc(C)c1, dipole_moment openbabel: 0.21199914151139335, dipole mine: 0.031711152849416835 dipole true: 0.299792543559857\n"
     ]
    },
    {
     "name": "stderr",
     "output_type": "stream",
     "text": [
      " 26%|██▌       | 211/826 [00:47<03:08,  3.26it/s]"
     ]
    },
    {
     "name": "stdout",
     "output_type": "stream",
     "text": [
      "SMILES: Cc1cccc(O)c1, dipole_moment openbabel: 1.9902583712018407, dipole mine: 0.4230627201743595 dipole true: 1.58890048086724\n"
     ]
    },
    {
     "name": "stderr",
     "output_type": "stream",
     "text": [
      " 26%|██▌       | 212/826 [00:47<03:11,  3.21it/s]"
     ]
    },
    {
     "name": "stdout",
     "output_type": "stream",
     "text": [
      "SMILES: Cc1cccc(N)c1, dipole_moment openbabel: 0.452262392793772, dipole mine: 0.08104587008692157 dipole true: 1.49\n"
     ]
    },
    {
     "name": "stderr",
     "output_type": "stream",
     "text": [
      " 26%|██▌       | 213/826 [00:48<02:55,  3.49it/s]"
     ]
    },
    {
     "name": "stdout",
     "output_type": "stream",
     "text": [
      "SMILES: Oc1cccc(O)c1, dipole_moment openbabel: 2.612266458155263, dipole mine: 0.609631809470457 dipole true: 2.09\n"
     ]
    },
    {
     "name": "stderr",
     "output_type": "stream",
     "text": [
      " 26%|██▌       | 214/826 [00:48<02:56,  3.46it/s]"
     ]
    },
    {
     "name": "stdout",
     "output_type": "stream",
     "text": [
      "SMILES: Cc1ccnc(C)c1, dipole_moment openbabel: 1.675204365049234, dipole mine: 0.3112494889051581 dipole true: 2.3\n"
     ]
    },
    {
     "name": "stderr",
     "output_type": "stream",
     "text": [
      " 26%|██▌       | 215/826 [00:48<02:57,  3.44it/s]"
     ]
    },
    {
     "name": "stdout",
     "output_type": "stream",
     "text": [
      "SMILES: Cc1cccc(C)n1, dipole_moment openbabel: 1.1463750132626906, dipole mine: 0.23303712765930504 dipole true: 1.7\n"
     ]
    },
    {
     "name": "stderr",
     "output_type": "stream",
     "text": [
      " 26%|██▌       | 216/826 [00:49<04:11,  2.43it/s]"
     ]
    },
    {
     "name": "stdout",
     "output_type": "stream",
     "text": [
      "SMILES: CCOC(=O)CC(C)C, dipole_moment openbabel: 1.0634575550830168, dipole mine: 0.1023125950148027 dipole true: 1.96999676224053\n"
     ]
    },
    {
     "name": "stderr",
     "output_type": "stream",
     "text": [
      " 26%|██▋       | 217/826 [00:49<04:37,  2.20it/s]"
     ]
    },
    {
     "name": "stdout",
     "output_type": "stream",
     "text": [
      "SMILES: Cc1cc(C)cc(C)c1, dipole_moment openbabel: 0.021584953019170912, dipole mine: 0.00414312975099441 dipole true: 0.1\n"
     ]
    },
    {
     "name": "stderr",
     "output_type": "stream",
     "text": [
      " 27%|██▋       | 219/826 [00:50<03:30,  2.88it/s]"
     ]
    },
    {
     "name": "stdout",
     "output_type": "stream",
     "text": [
      "SMILES: Cc1cc(C)cc(O)c1, dipole_moment openbabel: 2.0759240476725926, dipole mine: 0.4359331760444605 dipole true: 1.8\n",
      "SMILES: Brc1ccccc1, dipole_moment openbabel: 1.1666050844720797, dipole mine: 0.1891924440974929 dipole true: 1.7\n"
     ]
    },
    {
     "name": "stderr",
     "output_type": "stream",
     "text": [
      " 27%|██▋       | 220/826 [00:50<03:21,  3.01it/s]"
     ]
    },
    {
     "name": "stdout",
     "output_type": "stream",
     "text": [
      "SMILES: CC1CCCCC1, dipole_moment openbabel: 0.024405217796592577, dipole mine: 0.007595933614122323 dipole true: 0.0\n"
     ]
    },
    {
     "name": "stderr",
     "output_type": "stream",
     "text": [
      " 27%|██▋       | 222/826 [00:51<02:36,  3.86it/s]"
     ]
    },
    {
     "name": "stdout",
     "output_type": "stream",
     "text": [
      "SMILES: Cc1ccccc1, dipole_moment openbabel: 0.19315590031807947, dipole mine: 0.028395860272822652 dipole true: 0.33\n",
      "SMILES: Clc1ccccc1, dipole_moment openbabel: 1.5024899144559307, dipole mine: 0.25046025796661486 dipole true: 1.69\n"
     ]
    },
    {
     "name": "stderr",
     "output_type": "stream",
     "text": [
      " 27%|██▋       | 223/826 [00:51<02:38,  3.80it/s]"
     ]
    },
    {
     "name": "stdout",
     "output_type": "stream",
     "text": [
      "SMILES: NC1CCCCC1, dipole_moment openbabel: 0.7053995311909147, dipole mine: 0.1691891933702287 dipole true: 1.31\n"
     ]
    },
    {
     "name": "stderr",
     "output_type": "stream",
     "text": [
      " 27%|██▋       | 224/826 [00:51<02:32,  3.96it/s]"
     ]
    },
    {
     "name": "stdout",
     "output_type": "stream",
     "text": [
      "SMILES: OC1CCCCC1, dipole_moment openbabel: 1.4725709095383943, dipole mine: 0.31859015925009293 dipole true: 1.86000287800842\n"
     ]
    },
    {
     "name": "stderr",
     "output_type": "stream",
     "text": [
      " 27%|██▋       | 226/826 [00:52<02:21,  4.24it/s]"
     ]
    },
    {
     "name": "stdout",
     "output_type": "stream",
     "text": [
      "SMILES: O=C1CCCCC1, dipole_moment openbabel: 3.055990320862003, dipole mine: 0.5280149065439111 dipole true: 3.02\n",
      "SMILES: Oc1ccccc1, dipole_moment openbabel: 1.8475429767603369, dipole mine: 0.3992165544049932 dipole true: 1.22\n"
     ]
    },
    {
     "name": "stderr",
     "output_type": "stream",
     "text": [
      " 28%|██▊       | 228/826 [00:52<02:14,  4.46it/s]"
     ]
    },
    {
     "name": "stdout",
     "output_type": "stream",
     "text": [
      "SMILES: Cc1cccnc1, dipole_moment openbabel: 1.606601538104027, dipole mine: 0.2953078036910069 dipole true: 2.4\n",
      "SMILES: Cc1ccccn1, dipole_moment openbabel: 1.4026869362917624, dipole mine: 0.2705982416075706 dipole true: 1.9\n"
     ]
    },
    {
     "name": "stderr",
     "output_type": "stream",
     "text": [
      " 28%|██▊       | 229/826 [00:52<02:30,  3.97it/s]"
     ]
    },
    {
     "name": "stdout",
     "output_type": "stream",
     "text": [
      "SMILES: CCCOC(C)=O, dipole_moment openbabel: 0.88438569190048, dipole mine: 0.09206750179886986 dipole true: 1.79000131908719\n"
     ]
    },
    {
     "name": "stderr",
     "output_type": "stream",
     "text": [
      " 28%|██▊       | 230/826 [00:53<02:36,  3.80it/s]"
     ]
    },
    {
     "name": "stdout",
     "output_type": "stream",
     "text": [
      "SMILES: CCCCC, dipole_moment openbabel: 0.040337822768795904, dipole mine: 0.013049272880034839 dipole true: 0.0\n"
     ]
    },
    {
     "name": "stderr",
     "output_type": "stream",
     "text": [
      " 28%|██▊       | 232/826 [00:53<02:22,  4.16it/s]"
     ]
    },
    {
     "name": "stdout",
     "output_type": "stream",
     "text": [
      "SMILES: CCCC=C, dipole_moment openbabel: 0.13425719513087, dipole mine: 0.022867868619485456 dipole true: 0.39\n",
      "SMILES: CCCCCl, dipole_moment openbabel: 1.6000281174070194, dipole mine: 0.27963124663189415 dipole true: 2.05\n"
     ]
    },
    {
     "name": "stderr",
     "output_type": "stream",
     "text": [
      " 28%|██▊       | 233/826 [00:53<02:25,  4.09it/s]"
     ]
    },
    {
     "name": "stdout",
     "output_type": "stream",
     "text": [
      "SMILES: CCCCN, dipole_moment openbabel: 0.6902250415943879, dipole mine: 0.1631436244622368 dipole true: 1.39\n",
      "SMILES: CCCC#N, dipole_moment openbabel: 2.920530312584678, dipole mine: 0.48097537843495625 dipole true: 4.07\n"
     ]
    },
    {
     "name": "stderr",
     "output_type": "stream",
     "text": [
      " 29%|██▊       | 236/826 [00:54<01:41,  5.83it/s]"
     ]
    },
    {
     "name": "stdout",
     "output_type": "stream",
     "text": [
      "SMILES: N#CCC#N, dipole_moment openbabel: 3.1766300689120164, dipole mine: 0.5341556733456156 dipole true: 3.73\n",
      "SMILES: CNCCO, dipole_moment openbabel: 1.8938206241048388, dipole mine: 0.4315327179938012 dipole true: 2.159\n"
     ]
    },
    {
     "name": "stderr",
     "output_type": "stream",
     "text": [
      " 29%|██▉       | 238/826 [00:54<01:35,  6.13it/s]"
     ]
    },
    {
     "name": "stdout",
     "output_type": "stream",
     "text": [
      "SMILES: COCCO, dipole_moment openbabel: 2.32198416385041, dipole mine: 0.5096876515629387 dipole true: 2.04\n",
      "SMILES: CCNCC, dipole_moment openbabel: 0.6464909721630514, dipole mine: 0.15791794742105358 dipole true: 0.92\n"
     ]
    },
    {
     "name": "stderr",
     "output_type": "stream",
     "text": [
      " 29%|██▉       | 240/826 [00:54<01:37,  6.04it/s]"
     ]
    },
    {
     "name": "stdout",
     "output_type": "stream",
     "text": [
      "SMILES: CCOC=C, dipole_moment openbabel: 1.7753101463966043, dipole mine: 0.39729770417822735 dipole true: 1.27\n",
      "SMILES: C=COC=C, dipole_moment openbabel: 1.9309341290030142, dipole mine: 0.4097138841909853 dipole true: 0.78\n"
     ]
    },
    {
     "name": "stderr",
     "output_type": "stream",
     "text": [
      " 29%|██▉       | 242/826 [00:55<01:18,  7.45it/s]"
     ]
    },
    {
     "name": "stdout",
     "output_type": "stream",
     "text": [
      "SMILES: CCOC=O, dipole_moment openbabel: 1.0695080103242567, dipole mine: 0.11765069627023986 dipole true: 1.98\n",
      "SMILES: [nH]1cccc1, dipole_moment openbabel: 0.48380069285963695, dipole mine: 0.08696333590072211 dipole true: 1.84\n",
      "SMILES: C1CCOC1, dipole_moment openbabel: 1.892530495402436, dipole mine: 0.39518850578406883 dipole true: 1.63\n"
     ]
    },
    {
     "name": "stderr",
     "output_type": "stream",
     "text": [
      " 30%|██▉       | 244/826 [00:55<01:06,  8.70it/s]"
     ]
    },
    {
     "name": "stdout",
     "output_type": "stream",
     "text": [
      "SMILES: o1cccc1, dipole_moment openbabel: 2.4045123633545606, dipole mine: 0.4942467764596571 dipole true: 0.66\n",
      "SMILES: s1cccc1, dipole_moment openbabel: 1.2625163401504997, dipole mine: 0.23113339608258174 dipole true: 0.55\n"
     ]
    },
    {
     "name": "stderr",
     "output_type": "stream",
     "text": [
      " 30%|██▉       | 247/826 [00:55<01:20,  7.16it/s]"
     ]
    },
    {
     "name": "stdout",
     "output_type": "stream",
     "text": [
      "SMILES: OC(=O)CCC(O)=O, dipole_moment openbabel: 2.0428728146484567, dipole mine: 0.33544949991747497 dipole true: 2.2\n",
      "SMILES: OC(=O)\\C=C\\C(O)=O, dipole_moment openbabel: 1.4665631326693531, dipole mine: 0.3441978173732542 dipole true: 2.45\n"
     ]
    },
    {
     "name": "stderr",
     "output_type": "stream",
     "text": [
      " 30%|███       | 248/826 [00:56<02:07,  4.54it/s]"
     ]
    },
    {
     "name": "stdout",
     "output_type": "stream",
     "text": [
      "SMILES: CC(C)COC(C)=O, dipole_moment openbabel: 1.0020819897806015, dipole mine: 0.09460635535507163 dipole true: 1.871\n"
     ]
    },
    {
     "name": "stderr",
     "output_type": "stream",
     "text": [
      " 30%|███       | 250/826 [00:56<02:28,  3.87it/s]"
     ]
    },
    {
     "name": "stdout",
     "output_type": "stream",
     "text": [
      "SMILES: CCCCCC, dipole_moment openbabel: 0.017559383048142953, dipole mine: 0.006341521671330349 dipole true: 0.0\n",
      "SMILES: ClCCCCCl, dipole_moment openbabel: 2.424199358034356, dipole mine: 0.4354380348764997 dipole true: 2.22\n"
     ]
    },
    {
     "name": "stderr",
     "output_type": "stream",
     "text": [
      " 30%|███       | 251/826 [00:57<02:57,  3.24it/s]"
     ]
    },
    {
     "name": "stdout",
     "output_type": "stream",
     "text": [
      "SMILES: CCCCC#N, dipole_moment openbabel: 2.980614672408019, dipole mine: 0.487289573886501 dipole true: 4.12\n"
     ]
    },
    {
     "name": "stderr",
     "output_type": "stream",
     "text": [
      " 31%|███       | 252/826 [00:57<02:50,  3.37it/s]"
     ]
    },
    {
     "name": "stdout",
     "output_type": "stream",
     "text": [
      "SMILES: CCCCC=O, dipole_moment openbabel: 2.80067168831287, dipole mine: 0.5029000460991585 dipole true: 2.57000155892123\n"
     ]
    },
    {
     "name": "stderr",
     "output_type": "stream",
     "text": [
      " 31%|███       | 253/826 [00:57<02:40,  3.57it/s]"
     ]
    },
    {
     "name": "stdout",
     "output_type": "stream",
     "text": [
      "SMILES: OCCCCO, dipole_moment openbabel: 2.878721803765533, dipole mine: 0.6480813958095213 dipole true: 3.93\n"
     ]
    },
    {
     "name": "stderr",
     "output_type": "stream",
     "text": [
      " 31%|███       | 255/826 [00:58<02:23,  3.97it/s]"
     ]
    },
    {
     "name": "stdout",
     "output_type": "stream",
     "text": [
      "SMILES: COCCOC, dipole_moment openbabel: 3.263374349401876, dipole mine: 0.7284411125399516 dipole true: 1.71\n",
      "SMILES: CCCOC=O, dipole_moment openbabel: 0.9002809442337073, dipole mine: 0.10640949261763727 dipole true: 1.9\n"
     ]
    },
    {
     "name": "stderr",
     "output_type": "stream",
     "text": [
      " 31%|███       | 256/826 [00:58<02:10,  4.37it/s]"
     ]
    },
    {
     "name": "stdout",
     "output_type": "stream",
     "text": [
      "SMILES: C1CCCCC1, dipole_moment openbabel: 0.020371000057715378, dipole mine: 0.004877286668560225 dipole true: 0.61\n"
     ]
    },
    {
     "name": "stderr",
     "output_type": "stream",
     "text": [
      " 31%|███       | 258/826 [00:58<01:58,  4.78it/s]"
     ]
    },
    {
     "name": "stdout",
     "output_type": "stream",
     "text": [
      "SMILES: C1CCC=CC1, dipole_moment openbabel: 0.21938300938026487, dipole mine: 0.030866362978392896 dipole true: 0.33\n",
      "SMILES: C1CNCCN1, dipole_moment openbabel: 0.7445189286266304, dipole mine: 0.19427841744143182 dipole true: 1.47\n"
     ]
    },
    {
     "name": "stderr",
     "output_type": "stream",
     "text": [
      " 31%|███▏      | 259/826 [00:58<01:44,  5.40it/s]"
     ]
    },
    {
     "name": "stdout",
     "output_type": "stream",
     "text": [
      "SMILES: c1ccncc1, dipole_moment openbabel: 1.5064263382035727, dipole mine: 0.2831605198082344 dipole true: 2.19\n",
      "SMILES: C1OCOCO1, dipole_moment openbabel: 1.0328910510481342, dipole mine: 0.2204378060204409 dipole true: 2.08\n"
     ]
    },
    {
     "name": "stderr",
     "output_type": "stream",
     "text": [
      " 32%|███▏      | 261/826 [00:59<01:26,  6.56it/s]"
     ]
    },
    {
     "name": "stdout",
     "output_type": "stream",
     "text": [
      "SMILES: C1CCNCC1, dipole_moment openbabel: 0.7003072764006886, dipole mine: 0.1487076303899343 dipole true: 1.19\n"
     ]
    },
    {
     "name": "stderr",
     "output_type": "stream",
     "text": [
      " 32%|███▏      | 262/826 [00:59<01:46,  5.30it/s]"
     ]
    },
    {
     "name": "stdout",
     "output_type": "stream",
     "text": [
      "SMILES: OC(=O)CCCC(O)=O, dipole_moment openbabel: 3.6311157806441017, dipole mine: 0.5823073104602049 dipole true: 2.64\n"
     ]
    },
    {
     "name": "stderr",
     "output_type": "stream",
     "text": [
      " 32%|███▏      | 263/826 [01:00<02:47,  3.35it/s]"
     ]
    },
    {
     "name": "stdout",
     "output_type": "stream",
     "text": [
      "SMILES: CCOCCOC(C)=O, dipole_moment openbabel: 1.057305066364731, dipole mine: 0.3377995643951124 dipole true: 2.25000299792544\n"
     ]
    },
    {
     "name": "stderr",
     "output_type": "stream",
     "text": [
      " 32%|███▏      | 264/826 [01:00<03:19,  2.82it/s]"
     ]
    },
    {
     "name": "stdout",
     "output_type": "stream",
     "text": [
      "SMILES: CCCCCCO, dipole_moment openbabel: 1.4792906815166358, dipole mine: 0.3315411268171734 dipole true: 1.64999820124474\n"
     ]
    },
    {
     "name": "stderr",
     "output_type": "stream",
     "text": [
      " 32%|███▏      | 265/826 [01:01<03:24,  2.74it/s]"
     ]
    },
    {
     "name": "stdout",
     "output_type": "stream",
     "text": [
      "SMILES: OCCCCCO, dipole_moment openbabel: 1.5670822033155687, dipole mine: 0.32243299741787934 dipole true: 2.37000995311245\n"
     ]
    },
    {
     "name": "stderr",
     "output_type": "stream",
     "text": [
      " 32%|███▏      | 266/826 [01:01<03:46,  2.47it/s]"
     ]
    },
    {
     "name": "stdout",
     "output_type": "stream",
     "text": [
      "SMILES: CCCCOC=C, dipole_moment openbabel: 1.8247532102334445, dipole mine: 0.4102544445172643 dipole true: 1.25001498962718\n"
     ]
    },
    {
     "name": "stderr",
     "output_type": "stream",
     "text": [
      " 32%|███▏      | 267/826 [01:01<03:19,  2.80it/s]"
     ]
    },
    {
     "name": "stdout",
     "output_type": "stream",
     "text": [
      "SMILES: OCCNCCO, dipole_moment openbabel: 2.6640615883422303, dipole mine: 0.6201401158571885 dipole true: 0.851\n"
     ]
    },
    {
     "name": "stderr",
     "output_type": "stream",
     "text": [
      " 32%|███▏      | 268/826 [01:02<03:45,  2.47it/s]"
     ]
    },
    {
     "name": "stdout",
     "output_type": "stream",
     "text": [
      "SMILES: CCCOCCC, dipole_moment openbabel: 1.6499031782340348, dipole mine: 0.37990274442721206 dipole true: 1.21\n"
     ]
    },
    {
     "name": "stderr",
     "output_type": "stream",
     "text": [
      " 33%|███▎      | 269/826 [01:02<03:27,  2.69it/s]"
     ]
    },
    {
     "name": "stdout",
     "output_type": "stream",
     "text": [
      "SMILES: OCCOCCO, dipole_moment openbabel: 2.757704777458445, dipole mine: 0.6343740649425548 dipole true: 5.486\n"
     ]
    },
    {
     "name": "stderr",
     "output_type": "stream",
     "text": [
      " 33%|███▎      | 270/826 [01:03<05:02,  1.84it/s]"
     ]
    },
    {
     "name": "stdout",
     "output_type": "stream",
     "text": [
      "SMILES: CCCCCCCC, dipole_moment openbabel: 0.028199642457515692, dipole mine: 0.003705073190970908 dipole true: 0.0\n"
     ]
    },
    {
     "name": "stderr",
     "output_type": "stream",
     "text": [
      " 33%|███▎      | 271/826 [01:04<06:09,  1.50it/s]"
     ]
    },
    {
     "name": "stdout",
     "output_type": "stream",
     "text": [
      "SMILES: CCCCCCC=C, dipole_moment openbabel: 0.12140284461921634, dipole mine: 0.0177272974600063 dipole true: 0.3\n"
     ]
    },
    {
     "name": "stderr",
     "output_type": "stream",
     "text": [
      " 33%|███▎      | 272/826 [01:05<06:25,  1.44it/s]"
     ]
    },
    {
     "name": "stdout",
     "output_type": "stream",
     "text": [
      "SMILES: CCCCCCCO, dipole_moment openbabel: 1.5179032153392427, dipole mine: 0.34251554926785693 dipole true: 1.7\n"
     ]
    },
    {
     "name": "stderr",
     "output_type": "stream",
     "text": [
      " 33%|███▎      | 273/826 [01:05<06:11,  1.49it/s]"
     ]
    },
    {
     "name": "stdout",
     "output_type": "stream",
     "text": [
      "SMILES: CCCCOCCO, dipole_moment openbabel: 1.6448746034510273, dipole mine: 0.36825775621746515 dipole true: 2.07999064647264\n"
     ]
    },
    {
     "name": "stderr",
     "output_type": "stream",
     "text": [
      " 33%|███▎      | 274/826 [01:07<08:05,  1.14it/s]"
     ]
    },
    {
     "name": "stdout",
     "output_type": "stream",
     "text": [
      "SMILES: CCCCCCCCC, dipole_moment openbabel: 0.0628409993964481, dipole mine: 0.014260906562236091 dipole true: 0.0\n"
     ]
    },
    {
     "name": "stderr",
     "output_type": "stream",
     "text": [
      " 33%|███▎      | 275/826 [01:08<08:36,  1.07it/s]"
     ]
    },
    {
     "name": "stdout",
     "output_type": "stream",
     "text": [
      "SMILES: CCCCCCCCO, dipole_moment openbabel: 1.4374527981075729, dipole mine: 0.32699693895414494 dipole true: 1.64999820124474\n"
     ]
    },
    {
     "name": "stderr",
     "output_type": "stream",
     "text": [
      " 33%|███▎      | 276/826 [01:09<08:18,  1.10it/s]"
     ]
    },
    {
     "name": "stdout",
     "output_type": "stream",
     "text": [
      "SMILES: CCCCNCCCC, dipole_moment openbabel: 0.785073938994183, dipole mine: 0.18894585988818774 dipole true: 1.1\n"
     ]
    },
    {
     "name": "stderr",
     "output_type": "stream",
     "text": [
      " 34%|███▎      | 277/826 [01:09<08:01,  1.14it/s]"
     ]
    },
    {
     "name": "stdout",
     "output_type": "stream",
     "text": [
      "SMILES: OCCOCCOCCO, dipole_moment openbabel: 2.1128183508370864, dipole mine: 0.4870503852612691 dipole true: 5.58\n"
     ]
    },
    {
     "name": "stderr",
     "output_type": "stream",
     "text": [
      " 34%|███▎      | 278/826 [01:11<10:47,  1.18s/it]"
     ]
    },
    {
     "name": "stdout",
     "output_type": "stream",
     "text": [
      "SMILES: CCCCCCCCCCO, dipole_moment openbabel: 1.6086364357699057, dipole mine: 0.35512463906300407 dipole true: 1.8\n"
     ]
    },
    {
     "name": "stderr",
     "output_type": "stream",
     "text": [
      " 34%|███▍      | 279/826 [01:14<15:33,  1.71s/it]"
     ]
    },
    {
     "name": "stdout",
     "output_type": "stream",
     "text": [
      "SMILES: CCCCCCCCCCCC, dipole_moment openbabel: 0.05736307506457267, dipole mine: 0.013643750279149602 dipole true: 0.0\n"
     ]
    },
    {
     "name": "stderr",
     "output_type": "stream",
     "text": [
      " 34%|███▍      | 280/826 [01:22<31:17,  3.44s/it]"
     ]
    },
    {
     "name": "stdout",
     "output_type": "stream",
     "text": [
      "SMILES: CCCCCCCC/C=C/CCCCCCCC(O)=O, dipole_moment openbabel: 2.100159516881501, dipole mine: 0.3179065272410273 dipole true: 1.44\n"
     ]
    },
    {
     "name": "stderr",
     "output_type": "stream",
     "text": [
      " 34%|███▍      | 281/826 [01:32<49:45,  5.48s/it]"
     ]
    },
    {
     "name": "stdout",
     "output_type": "stream",
     "text": [
      "SMILES: CCCCCCCCCCCCCCCCCCO, dipole_moment openbabel: 1.3489538405461983, dipole mine: 0.3095243036981148 dipole true: 1.7\n"
     ]
    },
    {
     "name": "stderr",
     "output_type": "stream",
     "text": [
      " 34%|███▍      | 284/826 [01:44<36:21,  4.03s/it]  "
     ]
    },
    {
     "name": "stdout",
     "output_type": "stream",
     "text": [
      "SMILES: CCCCCCCCCCCCCCCCCCCC, dipole_moment openbabel: 0.056145364463133195, dipole mine: 0.01578256480778751 dipole true: 0.0\n",
      "SMILES: CC=C, dipole_moment openbabel: 0.12800837339672405, dipole mine: 0.02012238151664728 dipole true: 0.36\n",
      "SMILES: NC=S, dipole_moment openbabel: 0.8933140060915813, dipole mine: 0.19368741190066896 dipole true: 2.9905\n",
      "SMILES: COC, dipole_moment openbabel: 1.8462356082794578, dipole mine: 0.4110173553489565 dipole true: 1.3\n"
     ]
    },
    {
     "name": "stderr",
     "output_type": "stream",
     "text": [
      " 35%|███▍      | 288/826 [01:44<14:16,  1.59s/it]"
     ]
    },
    {
     "name": "stdout",
     "output_type": "stream",
     "text": [
      "SMILES: CC(C)=C, dipole_moment openbabel: 0.07642992249884197, dipole mine: 0.009764048348116955 dipole true: 0.5\n",
      "SMILES: FC1(F)C(F)(F)C(F)(F)C1(F)F, dipole_moment openbabel: 0.040249523982893116, dipole mine: 0.011059600931218794 dipole true: 0.0\n",
      "SMILES: FC(F)=C(F)F, dipole_moment openbabel: 0.04982539161793992, dipole mine: 0.013492671962470157 dipole true: 0.0\n"
     ]
    },
    {
     "name": "stderr",
     "output_type": "stream",
     "text": [
      " 35%|███▍      | 289/826 [02:00<40:21,  4.51s/it]"
     ]
    },
    {
     "name": "stdout",
     "output_type": "stream",
     "text": [
      "SMILES: CCCCCCCCOC(=O)c1ccccc1C(=O)OCCCCCCCC, dipole_moment openbabel: 1.6858638838446283, dipole mine: 0.18235387879065937 dipole true: 2.839\n"
     ]
    },
    {
     "name": "stderr",
     "output_type": "stream",
     "text": [
      " 35%|███▌      | 290/826 [02:01<32:09,  3.60s/it]"
     ]
    },
    {
     "name": "stdout",
     "output_type": "stream",
     "text": [
      "SMILES: Cc1ccccc1C(O)=O, dipole_moment openbabel: 1.65459350772731, dipole mine: 0.2214392068772932 dipole true: 1.7\n"
     ]
    },
    {
     "name": "stderr",
     "output_type": "stream",
     "text": [
      " 35%|███▌      | 291/826 [02:01<25:29,  2.86s/it]"
     ]
    },
    {
     "name": "stdout",
     "output_type": "stream",
     "text": [
      "SMILES: COC(=O)c1ccccc1O, dipole_moment openbabel: 2.2296059971865563, dipole mine: 0.42943021490603833 dipole true: 2.46999076638966\n"
     ]
    },
    {
     "name": "stderr",
     "output_type": "stream",
     "text": [
      " 35%|███▌      | 292/826 [02:02<19:44,  2.22s/it]"
     ]
    },
    {
     "name": "stdout",
     "output_type": "stream",
     "text": [
      "SMILES: c1ccc2cnccc2c1, dipole_moment openbabel: 1.530164690528743, dipole mine: 0.28532616347400847 dipole true: 2.7\n"
     ]
    },
    {
     "name": "stderr",
     "output_type": "stream",
     "text": [
      " 35%|███▌      | 293/826 [02:03<16:44,  1.88s/it]"
     ]
    },
    {
     "name": "stdout",
     "output_type": "stream",
     "text": [
      "SMILES: c1ccc2cc3ccccc3cc2c1, dipole_moment openbabel: 0.01887719732087515, dipole mine: 0.0028341029153592357 dipole true: 0.0\n"
     ]
    },
    {
     "name": "stderr",
     "output_type": "stream",
     "text": [
      " 36%|███▌      | 295/826 [02:03<09:30,  1.07s/it]"
     ]
    },
    {
     "name": "stdout",
     "output_type": "stream",
     "text": [
      "SMILES: Oc1ccccc1O, dipole_moment openbabel: 1.4129711242745489, dipole mine: 0.21993420939454109 dipole true: 2.599\n",
      "SMILES: O=C1CCCC1, dipole_moment openbabel: 3.283746849572891, dipole mine: 0.5592431557041413 dipole true: 3.25\n"
     ]
    },
    {
     "name": "stderr",
     "output_type": "stream",
     "text": [
      " 36%|███▌      | 296/826 [02:03<07:46,  1.14it/s]"
     ]
    },
    {
     "name": "stdout",
     "output_type": "stream",
     "text": [
      "SMILES: CCN(CC)CC, dipole_moment openbabel: 0.621289675397023, dipole mine: 0.15831831483813877 dipole true: 0.9\n"
     ]
    },
    {
     "name": "stderr",
     "output_type": "stream",
     "text": [
      " 36%|███▌      | 297/826 [02:04<06:45,  1.30it/s]"
     ]
    },
    {
     "name": "stdout",
     "output_type": "stream",
     "text": [
      "SMILES: OC(=O)c1cccc(c1)C(O)=O, dipole_moment openbabel: 0.7741345051382145, dipole mine: 0.18489884603924248 dipole true: 2.27\n"
     ]
    },
    {
     "name": "stderr",
     "output_type": "stream",
     "text": [
      " 36%|███▌      | 298/826 [02:05<07:10,  1.23it/s]"
     ]
    },
    {
     "name": "stdout",
     "output_type": "stream",
     "text": [
      "SMILES: CCCCC(CC)C=O, dipole_moment openbabel: 2.827385343158735, dipole mine: 0.5082096075030086 dipole true: 2.66\n",
      "SMILES: CCC=O, dipole_moment openbabel: 2.6648704296980568, dipole mine: 0.4928726576625684 dipole true: 2.52\n"
     ]
    },
    {
     "name": "stderr",
     "output_type": "stream",
     "text": [
      " 36%|███▋      | 300/826 [02:05<04:55,  1.78it/s]"
     ]
    },
    {
     "name": "stdout",
     "output_type": "stream",
     "text": [
      "SMILES: CC(=O)CC(C)(C)O, dipole_moment openbabel: 4.498246073297147, dipole mine: 0.856440644379222 dipole true: 3.24015781079493\n"
     ]
    },
    {
     "name": "stderr",
     "output_type": "stream",
     "text": [
      " 37%|███▋      | 302/826 [02:06<03:38,  2.40it/s]"
     ]
    },
    {
     "name": "stdout",
     "output_type": "stream",
     "text": [
      "SMILES: CC(C)CCO, dipole_moment openbabel: 1.3823813693539089, dipole mine: 0.31125523143151007 dipole true: 1.79998441078774\n",
      "SMILES: CCCC=O, dipole_moment openbabel: 2.8097567960083385, dipole mine: 0.5115736296731713 dipole true: 2.72\n"
     ]
    },
    {
     "name": "stderr",
     "output_type": "stream",
     "text": [
      " 37%|███▋      | 303/826 [02:06<03:05,  2.82it/s]"
     ]
    },
    {
     "name": "stdout",
     "output_type": "stream",
     "text": [
      "SMILES: C/C=C/C=O, dipole_moment openbabel: 2.827690413729335, dipole mine: 0.5128584939696583 dipole true: 3.67\n"
     ]
    },
    {
     "name": "stderr",
     "output_type": "stream",
     "text": [
      " 37%|███▋      | 304/826 [02:07<03:28,  2.50it/s]"
     ]
    },
    {
     "name": "stdout",
     "output_type": "stream",
     "text": [
      "SMILES: CCCCOC(C)=O, dipole_moment openbabel: 0.9355701861747802, dipole mine: 0.09101273107035109 dipole true: 1.8401266323704\n",
      "SMILES: C1COCCO1, dipole_moment openbabel: 0.17220261856167177, dipole mine: 0.03586982122708361 dipole true: 0.0\n"
     ]
    },
    {
     "name": "stderr",
     "output_type": "stream",
     "text": [
      " 37%|███▋      | 306/826 [02:07<03:34,  2.42it/s]"
     ]
    },
    {
     "name": "stdout",
     "output_type": "stream",
     "text": [
      "SMILES: CC(C)CCOC(C)=O, dipole_moment openbabel: 0.8296270391288589, dipole mine: 0.057852212442457744 dipole true: 1.8\n"
     ]
    },
    {
     "name": "stderr",
     "output_type": "stream",
     "text": [
      " 37%|███▋      | 307/826 [02:09<04:57,  1.74it/s]"
     ]
    },
    {
     "name": "stdout",
     "output_type": "stream",
     "text": [
      "SMILES: CCCCCCC(C)O, dipole_moment openbabel: 1.3578212480372083, dipole mine: 0.30344179771445784 dipole true: 1.6\n"
     ]
    },
    {
     "name": "stderr",
     "output_type": "stream",
     "text": [
      " 37%|███▋      | 308/826 [02:10<06:21,  1.36it/s]"
     ]
    },
    {
     "name": "stdout",
     "output_type": "stream",
     "text": [
      "SMILES: OC(=O)CCCCCCCC(O)=O, dipole_moment openbabel: 3.0174707980919098, dipole mine: 0.42535603049131726 dipole true: 2.35\n"
     ]
    },
    {
     "name": "stderr",
     "output_type": "stream",
     "text": [
      " 37%|███▋      | 309/826 [02:10<05:43,  1.51it/s]"
     ]
    },
    {
     "name": "stdout",
     "output_type": "stream",
     "text": [
      "SMILES: OC(=O)CCCCC(O)=O, dipole_moment openbabel: 1.9051449903173832, dipole mine: 0.32035947754673366 dipole true: 2.32\n"
     ]
    },
    {
     "name": "stderr",
     "output_type": "stream",
     "text": [
      " 38%|███▊      | 310/826 [02:12<08:23,  1.02it/s]"
     ]
    },
    {
     "name": "stdout",
     "output_type": "stream",
     "text": [
      "SMILES: CCCCCCCCCC, dipole_moment openbabel: 0.01645142663262321, dipole mine: 0.0030055094833644188 dipole true: 0.0\n",
      "SMILES: O=C=O, dipole_moment openbabel: 0.37540436183107445, dipole mine: 0.10008451188517362 dipole true: 0.0\n",
      "SMILES: CNC, dipole_moment openbabel: 0.5663004837436078, dipole mine: 0.1277061090499279 dipole true: 1.03\n",
      "SMILES: ClC(Cl)=C(Cl)Cl, dipole_moment openbabel: 0.02703363245091369, dipole mine: 0.0069386339349689725 dipole true: 0.0\n"
     ]
    },
    {
     "name": "stderr",
     "output_type": "stream",
     "text": [
      " 38%|███▊      | 316/826 [02:13<03:22,  2.51it/s]"
     ]
    },
    {
     "name": "stdout",
     "output_type": "stream",
     "text": [
      "SMILES: COC(=O)c1ccccc1C(=O)OC, dipole_moment openbabel: 1.5228645018926683, dipole mine: 0.12586537543001589 dipole true: 2.8\n",
      "SMILES: NCCO, dipole_moment openbabel: 1.3500271415278342, dipole mine: 0.2924359998857371 dipole true: 0.777\n",
      "SMILES: OCC=O, dipole_moment openbabel: 3.7266249831115155, dipole mine: 0.7460892727354895 dipole true: 2.73\n"
     ]
    },
    {
     "name": "stderr",
     "output_type": "stream",
     "text": [
      " 38%|███▊      | 317/826 [02:13<03:03,  2.77it/s]"
     ]
    },
    {
     "name": "stdout",
     "output_type": "stream",
     "text": [
      "SMILES: CCOC(C)=O, dipole_moment openbabel: 0.9302348864159519, dipole mine: 0.09392602475383405 dipole true: 1.78\n"
     ]
    },
    {
     "name": "stderr",
     "output_type": "stream",
     "text": [
      " 38%|███▊      | 318/826 [02:14<03:51,  2.20it/s]"
     ]
    },
    {
     "name": "stdout",
     "output_type": "stream",
     "text": [
      "SMILES: CCc1cccc(CC)c1, dipole_moment openbabel: 0.19285323883406108, dipole mine: 0.027848057569265894 dipole true: 0.36\n",
      "SMILES: ClCCCCl, dipole_moment openbabel: 3.1374683986037635, dipole mine: 0.5586768365066916 dipole true: 2.081\n"
     ]
    },
    {
     "name": "stderr",
     "output_type": "stream",
     "text": [
      " 39%|███▉      | 321/826 [02:15<02:30,  3.36it/s]"
     ]
    },
    {
     "name": "stdout",
     "output_type": "stream",
     "text": [
      "SMILES: C1CC=CC1, dipole_moment openbabel: 0.2551964840737831, dipole mine: 0.04014717624888692 dipole true: 0.19\n",
      "SMILES: C1CCOCC1, dipole_moment openbabel: 1.6952444548717749, dipole mine: 0.3505643075844278 dipole true: 1.74\n"
     ]
    },
    {
     "name": "stderr",
     "output_type": "stream",
     "text": [
      " 39%|███▉      | 322/826 [02:15<03:15,  2.57it/s]"
     ]
    },
    {
     "name": "stdout",
     "output_type": "stream",
     "text": [
      "SMILES: CCCCCCC, dipole_moment openbabel: 0.0525300992928468, dipole mine: 0.01130639197022597 dipole true: 0.0\n"
     ]
    },
    {
     "name": "stderr",
     "output_type": "stream",
     "text": [
      " 39%|███▉      | 323/826 [02:16<03:17,  2.54it/s]"
     ]
    },
    {
     "name": "stdout",
     "output_type": "stream",
     "text": [
      "SMILES: CCCNCCC, dipole_moment openbabel: 0.40210427565300016, dipole mine: 0.09032768085062312 dipole true: 1.07\n"
     ]
    },
    {
     "name": "stderr",
     "output_type": "stream",
     "text": [
      " 40%|███▉      | 328/826 [02:17<02:22,  3.49it/s]"
     ]
    },
    {
     "name": "stdout",
     "output_type": "stream",
     "text": [
      "SMILES: CCCCCCCCCO, dipole_moment openbabel: 1.4161035184794757, dipole mine: 0.33079708762367316 dipole true: 1.7\n",
      "SMILES: N=C=N, dipole_moment openbabel: 1.6682517403471715, dipole mine: 0.3471919843794428 dipole true: 3.3696\n",
      "SMILES: C1CN1, dipole_moment openbabel: 1.0079693469298392, dipole mine: 0.24403466294706025 dipole true: 1.9\n",
      "SMILES: Cl\\C=C/Cl, dipole_moment openbabel: 2.373956769114765, dipole mine: 0.4207079984352974 dipole true: 1.9\n",
      "SMILES: Cl\\C=C\\Cl, dipole_moment openbabel: 0.015676751265857703, dipole mine: 0.0023753925797089207 dipole true: 0.0\n"
     ]
    },
    {
     "name": "stderr",
     "output_type": "stream",
     "text": [
      " 40%|████      | 334/826 [02:18<01:07,  7.29it/s]"
     ]
    },
    {
     "name": "stdout",
     "output_type": "stream",
     "text": [
      "SMILES: NCCCO, dipole_moment openbabel: 1.3708893045227069, dipole mine: 0.2958279522126584 dipole true: 2.69\n",
      "SMILES: C1C=N1, dipole_moment openbabel: 1.904578989381188, dipole mine: 0.41505746962125867 dipole true: 2.4388\n",
      "SMILES: O1C=C1, dipole_moment openbabel: 2.9124737532238947, dipole mine: 0.6648540795561351 dipole true: 2.2342\n",
      "SMILES: C1N=N1, dipole_moment openbabel: 2.6374176993290357, dipole mine: 0.4974453623458597 dipole true: 1.59\n",
      "SMILES: C1OO1, dipole_moment openbabel: 3.0391342647074704, dipole mine: 0.5855138671053147 dipole true: 2.48\n",
      "SMILES: C1C2CC12, dipole_moment openbabel: 0.10516179423741025, dipole mine: 0.024968324411662985 dipole true: 0.68\n",
      "SMILES: C1CC2CC12, dipole_moment openbabel: 0.058758087659465275, dipole mine: 0.013872965793155443 dipole true: 0.26\n"
     ]
    },
    {
     "name": "stderr",
     "output_type": "stream",
     "text": [
      " 41%|████      | 336/826 [02:18<01:24,  5.76it/s]"
     ]
    },
    {
     "name": "stdout",
     "output_type": "stream",
     "text": [
      "SMILES: c1ccc2cccc2cc1, dipole_moment openbabel: 0.02161660136006427, dipole mine: 0.007077537081016199 dipole true: 0.8\n",
      "SMILES: C12C3C4C1C5C2C3C45, dipole_moment openbabel: 0.0003821163333864056, dipole mine: 7.690334260203495e-05 dipole true: 0.0\n"
     ]
    },
    {
     "name": "stderr",
     "output_type": "stream",
     "text": [
      " 41%|████      | 338/826 [02:19<01:35,  5.10it/s]"
     ]
    },
    {
     "name": "stdout",
     "output_type": "stream",
     "text": [
      "SMILES: C1CC2CCC1C2, dipole_moment openbabel: 0.03377276642176144, dipole mine: 0.00628289162130229 dipole true: 0.09\n",
      "SMILES: C1CC2CC2C1, dipole_moment openbabel: 0.0395912213491738, dipole mine: 0.009803969660044326 dipole true: 0.19\n"
     ]
    },
    {
     "name": "stderr",
     "output_type": "stream",
     "text": [
      " 41%|████▏     | 342/826 [02:19<01:11,  6.74it/s]"
     ]
    },
    {
     "name": "stdout",
     "output_type": "stream",
     "text": [
      "SMILES: C1CCC1, dipole_moment openbabel: 0.021919213154895124, dipole mine: 0.005246983467518942 dipole true: 0.0\n",
      "SMILES: C1CSC1, dipole_moment openbabel: 1.4880693325553238, dipole mine: 0.2933764386225827 dipole true: 1.85\n",
      "SMILES: C1CCCC1, dipole_moment openbabel: 0.021532919842144265, dipole mine: 0.005150442369964897 dipole true: 0.0\n"
     ]
    },
    {
     "name": "stderr",
     "output_type": "stream",
     "text": [
      " 42%|████▏     | 344/826 [02:19<01:00,  8.02it/s]"
     ]
    },
    {
     "name": "stdout",
     "output_type": "stream",
     "text": [
      "SMILES: o1cccn1, dipole_moment openbabel: 4.053740012455016, dipole mine: 0.7493862338166226 dipole true: 2.9\n",
      "SMILES: o1ccnc1, dipole_moment openbabel: 1.5114260833013586, dipole mine: 0.31137659887634644 dipole true: 1.5\n",
      "SMILES: c1cnccn1, dipole_moment openbabel: 0.01558353153299276, dipole mine: 0.002522021948565644 dipole true: 0.0\n"
     ]
    },
    {
     "name": "stderr",
     "output_type": "stream",
     "text": [
      " 42%|████▏     | 346/826 [02:19<00:55,  8.59it/s]"
     ]
    },
    {
     "name": "stdout",
     "output_type": "stream",
     "text": [
      "SMILES: c1ncncn1, dipole_moment openbabel: 0.06020512122280578, dipole mine: 0.012260452184242276 dipole true: 0.0\n",
      "SMILES: C1CCCCCC1, dipole_moment openbabel: 0.06262519406714091, dipole mine: 0.014978382854017 dipole true: 0.0\n"
     ]
    },
    {
     "name": "stderr",
     "output_type": "stream",
     "text": [
      " 42%|████▏     | 348/826 [02:20<01:45,  4.51it/s]"
     ]
    },
    {
     "name": "stdout",
     "output_type": "stream",
     "text": [
      "SMILES: C1CCCCCCC1, dipole_moment openbabel: 0.23373445043339086, dipole mine: 0.05591936273063785 dipole true: 0.0\n",
      "SMILES: NN, dipole_moment openbabel: 0.6169829772556727, dipole mine: 0.15322494189739713 dipole true: 0.0\n"
     ]
    },
    {
     "name": "stderr",
     "output_type": "stream",
     "text": [
      " 42%|████▏     | 350/826 [02:22<02:35,  3.06it/s]"
     ]
    },
    {
     "name": "stdout",
     "output_type": "stream",
     "text": [
      "SMILES: FC(F)(F)C(F)(F)C(F)(F)C(F)(F)C(F)(F)C(F)(F)C(F)(F)C(F)(F)F, dipole_moment openbabel: 0.4538712150707015, dipole mine: 0.16619498654024595 dipole true: 0.0\n"
     ]
    },
    {
     "name": "stderr",
     "output_type": "stream",
     "text": [
      " 42%|████▏     | 351/826 [02:24<05:02,  1.57it/s]"
     ]
    },
    {
     "name": "stdout",
     "output_type": "stream",
     "text": [
      "SMILES: FC(F)(F)C(F)(F)C(F)(F)C(F)(F)C(F)(F)C(F)(F)C(F)(F)C(F)(F)C(F)(F)C(F)(F)F, dipole_moment openbabel: 0.2008612565242885, dipole mine: 0.08011701307040207 dipole true: 0.0\n",
      "SMILES: C=[N+]=[N-], dipole_moment openbabel: 2.298714945658254, dipole mine: 1.2892403225025646 dipole true: 1.5\n"
     ]
    },
    {
     "name": "stderr",
     "output_type": "stream",
     "text": [
      " 43%|████▎     | 355/826 [02:25<03:08,  2.49it/s]"
     ]
    },
    {
     "name": "stdout",
     "output_type": "stream",
     "text": [
      "SMILES: FC(F)(F)C(F)(F)C(F)(F)C(F)(F)C(F)(F)C(F)(F)C(F)(F)F, dipole_moment openbabel: 0.21906757782417635, dipole mine: 0.08401828427940011 dipole true: 0.0\n",
      "SMILES: CCSCC, dipole_moment openbabel: 1.0686558327811193, dipole mine: 0.21959376792512866 dipole true: 1.56\n",
      "SMILES: CCF, dipole_moment openbabel: 2.2737068690525146, dipole mine: 0.42602342832630474 dipole true: 1.96\n",
      "SMILES: FC(F)=O, dipole_moment openbabel: 0.461899160190712, dipole mine: 0.08200073867588516 dipole true: 0.95\n",
      "SMILES: NCC(F)(F)F, dipole_moment openbabel: 2.222173076588417, dipole mine: 0.3408077660848498 dipole true: 1.33\n"
     ]
    },
    {
     "name": "stderr",
     "output_type": "stream",
     "text": [
      " 43%|████▎     | 358/826 [02:25<01:59,  3.93it/s]"
     ]
    },
    {
     "name": "stdout",
     "output_type": "stream",
     "text": [
      "SMILES: FC(F)C(F)(F)F, dipole_moment openbabel: 2.097717803476222, dipole mine: 0.3780114872096577 dipole true: 1.541\n"
     ]
    },
    {
     "name": "stderr",
     "output_type": "stream",
     "text": [
      " 44%|████▎     | 360/826 [02:25<02:14,  3.47it/s]"
     ]
    },
    {
     "name": "stdout",
     "output_type": "stream",
     "text": [
      "SMILES: FC(F)(F)C(F)(F)C(F)(F)C(F)(F)C(F)(F)C(F)(F)F, dipole_moment openbabel: 0.12097108325694142, dipole mine: 0.06872091225393596 dipole true: 0.0\n",
      "SMILES: FC1(F)C(F)(F)C(F)(F)C(F)(F)C(F)(F)C1(F)F, dipole_moment openbabel: 0.37787376430105823, dipole mine: 0.10363688137098899 dipole true: 0.0\n"
     ]
    },
    {
     "name": "stderr",
     "output_type": "stream",
     "text": [
      " 44%|████▍     | 363/826 [02:26<01:36,  4.81it/s]"
     ]
    },
    {
     "name": "stdout",
     "output_type": "stream",
     "text": [
      "SMILES: FC=C(F)F, dipole_moment openbabel: 2.178253381052753, dipole mine: 0.3975495445370879 dipole true: 1.4\n",
      "SMILES: FC(F)C(F)F, dipole_moment openbabel: 3.456000345719472, dipole mine: 0.6560357302947596 dipole true: 0.0\n",
      "SMILES: Fc1cccc(F)c1, dipole_moment openbabel: 2.34777398464221, dipole mine: 0.4082433214907002 dipole true: 1.58\n"
     ]
    },
    {
     "name": "stderr",
     "output_type": "stream",
     "text": [
      " 44%|████▍     | 366/826 [02:26<01:10,  6.50it/s][18:42:31] UFFTYPER: Warning: hybridization set to SP3 for atom 1\n",
      "[18:42:31] UFFTYPER: Unrecognized charge state for atom: 1\n",
      "[18:42:31] UFFTYPER: Warning: hybridization set to SP3 for atom 1\n",
      "[18:42:31] UFFTYPER: Unrecognized charge state for atom: 1\n"
     ]
    },
    {
     "name": "stdout",
     "output_type": "stream",
     "text": [
      "SMILES: FCBr, dipole_moment openbabel: 2.0789369662885306, dipole mine: 0.39371180499725034 dipole true: 2.1681\n",
      "Problem with SMILES\n",
      "SMILES: Fc1c(F)c(F)c(F)c(F)c1F, dipole_moment openbabel: 0.044040324775220345, dipole mine: 0.010373578400698098 dipole true: 0.0\n",
      "SMILES: [C-]#[Si+], dipole_moment openbabel: 0.0, dipole mine: nan dipole true: 1.1802\n"
     ]
    },
    {
     "name": "stderr",
     "output_type": "stream",
     "text": [
      " 45%|████▍     | 370/826 [02:26<00:46,  9.76it/s]"
     ]
    },
    {
     "name": "stdout",
     "output_type": "stream",
     "text": [
      "SMILES: NC#N, dipole_moment openbabel: 2.3249038908872492, dipole mine: 0.3829919956759501 dipole true: 4.32\n",
      "SMILES: OC#N, dipole_moment openbabel: 1.795443201588676, dipole mine: 0.3046859815505903 dipole true: 3.997\n",
      "SMILES: C1CS1, dipole_moment openbabel: 1.558119411581555, dipole mine: 0.31442459456915084 dipole true: 1.85\n",
      "SMILES: CC(F)(F)F, dipole_moment openbabel: 2.861194303204906, dipole mine: 0.4774095866277613 dipole true: 2.32\n",
      "SMILES: C#CC#C, dipole_moment openbabel: 0.026194120722727688, dipole mine: 0.005960312223072667 dipole true: 0.0\n"
     ]
    },
    {
     "name": "stderr",
     "output_type": "stream",
     "text": [
      " 45%|████▌     | 373/826 [02:26<00:49,  9.11it/s]"
     ]
    },
    {
     "name": "stdout",
     "output_type": "stream",
     "text": [
      "SMILES: Fc1ccccc1, dipole_moment openbabel: 2.3739756057752417, dipole mine: 0.41571668401823236 dipole true: 1.6\n",
      "SMILES: [CH2]=[C]=[CH2], dipole_moment openbabel: 0.0013279006681683595, dipole mine: 0.00028430121255556634 dipole true: 0.0\n",
      "SMILES: C=C=O, dipole_moment openbabel: 3.0036470254782563, dipole mine: 0.5165351265243213 dipole true: 1.42\n",
      "SMILES: SC#N, dipole_moment openbabel: 2.4739435903585125, dipole mine: 0.4046035673729695 dipole true: 3.604\n",
      "SMILES: OCO, dipole_moment openbabel: 0.3476055048926152, dipole mine: 0.09714794922851268 dipole true: 3.0623\n",
      "SMILES: O=C=S, dipole_moment openbabel: 1.881236421161252, dipole mine: 0.30347849598302173 dipole true: 0.71\n"
     ]
    },
    {
     "name": "stderr",
     "output_type": "stream",
     "text": [
      " 46%|████▌     | 379/826 [02:27<00:33, 13.24it/s]"
     ]
    },
    {
     "name": "stdout",
     "output_type": "stream",
     "text": [
      "SMILES: CC(C)(C)C, dipole_moment openbabel: 0.056439003158878925, dipole mine: 0.013271834433736288 dipole true: 0.0\n",
      "SMILES: CC(C)C(C)(C)C, dipole_moment openbabel: 0.01422226315454337, dipole mine: 0.00542100248046857 dipole true: 0.0\n"
     ]
    },
    {
     "name": "stderr",
     "output_type": "stream",
     "text": [
      " 46%|████▌     | 382/826 [02:28<01:22,  5.35it/s]"
     ]
    },
    {
     "name": "stdout",
     "output_type": "stream",
     "text": [
      "SMILES: C1CCC2CCCCC2C1, dipole_moment openbabel: 0.01844197716331566, dipole mine: 0.004211970602601482 dipole true: 0.0\n",
      "SMILES: C=C1C=CC=C1, dipole_moment openbabel: 0.04348211789254624, dipole mine: 0.008320140458451919 dipole true: 0.42\n"
     ]
    },
    {
     "name": "stderr",
     "output_type": "stream",
     "text": [
      " 46%|████▋     | 384/826 [02:28<01:16,  5.76it/s]"
     ]
    },
    {
     "name": "stdout",
     "output_type": "stream",
     "text": [
      "SMILES: CC#CC, dipole_moment openbabel: 0.017580977399907834, dipole mine: 0.0030873221798597547 dipole true: 0.0\n",
      "SMILES: C1COC1, dipole_moment openbabel: 2.1555069510817075, dipole mine: 0.4707239451465794 dipole true: 1.94\n"
     ]
    },
    {
     "name": "stderr",
     "output_type": "stream",
     "text": [
      " 47%|████▋     | 386/826 [02:29<01:17,  5.67it/s]"
     ]
    },
    {
     "name": "stdout",
     "output_type": "stream",
     "text": [
      "SMILES: CC(C)CC(O)=O, dipole_moment openbabel: 1.971041791221055, dipole mine: 0.2770393851002653 dipole true: 0.629984051036683\n",
      "SMILES: C1COCOC1, dipole_moment openbabel: 2.535379415153776, dipole mine: 0.5342531705025049 dipole true: 2.06\n",
      "SMILES: [Be]=C=[Be], dipole_moment openbabel: 0.0, dipole mine: nan dipole true: 3.2796\n",
      "SMILES: BrC#N, dipole_moment openbabel: 1.6938195585673896, dipole mine: 0.29713793073058026 dipole true: 3.1966\n",
      "SMILES: ClC#N, dipole_moment openbabel: 1.2382550883726753, dipole mine: 0.2189622768188472 dipole true: 2.82\n",
      "SMILES: [Se]=C=[Se], dipole_moment openbabel: 0.0, dipole mine: nan dipole true: 2.8152\n",
      "SMILES: ON=C, dipole_moment openbabel: 0.5834447881796229, dipole mine: 0.07745859466074398 dipole true: 3.06\n"
     ]
    },
    {
     "name": "stderr",
     "output_type": "stream",
     "text": [
      "[18:42:34] UFFTYPER: Unrecognized atom type: Be+2 (0)\n",
      "[18:42:34] UFFTYPER: Unrecognized atom type: Be+2 (2)\n",
      "[18:42:34] UFFTYPER: Unrecognized atom type: Be+2 (0)\n",
      "[18:42:34] UFFTYPER: Unrecognized atom type: Be+2 (2)\n",
      "[18:42:34] UFFTYPER: Unrecognized atom type: Se2+2 (0)\n",
      "[18:42:34] UFFTYPER: Unrecognized atom type: Se2+2 (2)\n",
      "[18:42:34] UFFTYPER: Unrecognized atom type: Se2+2 (0)\n",
      "[18:42:34] UFFTYPER: Unrecognized atom type: Se2+2 (2)\n",
      " 47%|████▋     | 392/826 [02:29<00:44,  9.65it/s]"
     ]
    },
    {
     "name": "stdout",
     "output_type": "stream",
     "text": [
      "SMILES: CC(C)(C)Cl, dipole_moment openbabel: 1.693473748251095, dipole mine: 0.29068665944117 dipole true: 2.13\n"
     ]
    },
    {
     "name": "stderr",
     "output_type": "stream",
     "text": [
      " 48%|████▊     | 394/826 [02:29<00:53,  8.14it/s]"
     ]
    },
    {
     "name": "stdout",
     "output_type": "stream",
     "text": [
      "SMILES: CC=C(C)C, dipole_moment openbabel: 0.12607325961922233, dipole mine: 0.01877705217575718 dipole true: 0.338765574222638\n",
      "SMILES: Cc1occc1, dipole_moment openbabel: 2.3164494891253042, dipole mine: 0.4807075745883686 dipole true: 0.7\n",
      "SMILES: C#Cc1ccccc1, dipole_moment openbabel: 0.34793259571532514, dipole mine: 0.0451188222888253 dipole true: 0.66\n"
     ]
    },
    {
     "name": "stderr",
     "output_type": "stream",
     "text": [
      " 48%|████▊     | 398/826 [02:31<01:41,  4.22it/s]"
     ]
    },
    {
     "name": "stdout",
     "output_type": "stream",
     "text": [
      "SMILES: CC(C)Cc1ccccc1, dipole_moment openbabel: 0.22421187024070804, dipole mine: 0.034448315083439006 dipole true: 0.3\n",
      "SMILES: CCCCl, dipole_moment openbabel: 1.578597250381879, dipole mine: 0.2811020148631006 dipole true: 2.05\n",
      "SMILES: CCOC, dipole_moment openbabel: 1.6034088852451411, dipole mine: 0.3473007492815068 dipole true: 1.23\n",
      "SMILES: CC(=O)OC(C)(C)C, dipole_moment openbabel: 1.0215183893931197, dipole mine: 0.10981098618437433 dipole true: 1.91\n"
     ]
    },
    {
     "name": "stderr",
     "output_type": "stream",
     "text": [
      " 49%|████▊     | 401/826 [02:32<01:46,  4.01it/s]"
     ]
    },
    {
     "name": "stdout",
     "output_type": "stream",
     "text": [
      "SMILES: CC(C)COC=O, dipole_moment openbabel: 0.7514477599552366, dipole mine: 0.06541543555832477 dipole true: 1.89001211161876\n",
      "SMILES: C1C=CC=C1, dipole_moment openbabel: 0.18945267420928152, dipole mine: 0.030446995149991836 dipole true: 0.42\n"
     ]
    },
    {
     "name": "stderr",
     "output_type": "stream",
     "text": [
      " 49%|████▊     | 402/826 [02:32<01:50,  3.83it/s]"
     ]
    },
    {
     "name": "stdout",
     "output_type": "stream",
     "text": [
      "SMILES: CCCCCCl, dipole_moment openbabel: 1.5959338923776207, dipole mine: 0.28181020212749175 dipole true: 2.16\n"
     ]
    },
    {
     "name": "stderr",
     "output_type": "stream",
     "text": [
      " 49%|████▉     | 403/826 [02:39<10:28,  1.49s/it]"
     ]
    },
    {
     "name": "stdout",
     "output_type": "stream",
     "text": [
      "SMILES: CCCCCCCCCCCCCCCC, dipole_moment openbabel: 0.06759414662744785, dipole mine: 0.013161452021883978 dipole true: 0.0\n",
      "SMILES: [Cu+].[C-]#N, dipole_moment openbabel: 0.0, dipole mine: 0.013524963011008473 dipole true: 0.6239\n"
     ]
    },
    {
     "name": "stderr",
     "output_type": "stream",
     "text": [
      "[18:42:44] UFFTYPER: Unrecognized atom type: Cu5+1 (0)\n",
      "[18:42:44] UFFTYPER: Unrecognized atom type: Cu5+1 (0)\n",
      " 49%|████▉     | 406/826 [02:39<05:46,  1.21it/s]"
     ]
    },
    {
     "name": "stdout",
     "output_type": "stream",
     "text": [
      "SMILES: COC(=O)C(C)C, dipole_moment openbabel: 0.9470189607017666, dipole mine: 0.07775262452180207 dipole true: 2.0\n",
      "SMILES: CCC(=O)OC, dipole_moment openbabel: 1.0145911363192404, dipole mine: 0.0903169318438912 dipole true: 1.7\n",
      "SMILES: CC(Br)Br, dipole_moment openbabel: 1.4385288303084005, dipole mine: 0.24614429246702207 dipole true: 2.141\n"
     ]
    },
    {
     "name": "stderr",
     "output_type": "stream",
     "text": [
      " 49%|████▉     | 408/826 [02:39<03:44,  1.86it/s]"
     ]
    },
    {
     "name": "stdout",
     "output_type": "stream",
     "text": [
      "SMILES: CC(Cl)=C, dipole_moment openbabel: 1.5724748653164198, dipole mine: 0.2619471610299031 dipole true: 1.66\n",
      "SMILES: CC(F)=O, dipole_moment openbabel: 2.9908294177271935, dipole mine: 0.49806787083324916 dipole true: 2.96\n",
      "SMILES: BrC(Br)(Br)Br, dipole_moment openbabel: 0.010495573133820938, dipole mine: 0.0031451398331349004 dipole true: 0.0\n"
     ]
    },
    {
     "name": "stderr",
     "output_type": "stream",
     "text": [
      " 50%|████▉     | 411/826 [02:40<02:47,  2.48it/s]"
     ]
    },
    {
     "name": "stdout",
     "output_type": "stream",
     "text": [
      "SMILES: CCC(C)(C)CC, dipole_moment openbabel: 0.026331159451657777, dipole mine: 0.006392410091964633 dipole true: 0.0\n"
     ]
    },
    {
     "name": "stderr",
     "output_type": "stream",
     "text": [
      " 50%|████▉     | 412/826 [02:40<02:34,  2.67it/s]"
     ]
    },
    {
     "name": "stdout",
     "output_type": "stream",
     "text": [
      "SMILES: CC(C)C=C, dipole_moment openbabel: 0.16986974980031247, dipole mine: 0.026546349882535528 dipole true: 0.320778021609046\n"
     ]
    },
    {
     "name": "stderr",
     "output_type": "stream",
     "text": [
      " 50%|█████     | 413/826 [02:40<02:24,  2.86it/s]"
     ]
    },
    {
     "name": "stdout",
     "output_type": "stream",
     "text": [
      "SMILES: CCC(C)=C, dipole_moment openbabel: 0.17112390735220734, dipole mine: 0.02750642100029933 dipole true: 0.509647324051756\n"
     ]
    },
    {
     "name": "stderr",
     "output_type": "stream",
     "text": [
      " 50%|█████     | 414/826 [02:41<02:14,  3.05it/s]"
     ]
    },
    {
     "name": "stdout",
     "output_type": "stream",
     "text": [
      "SMILES: CC(C)C(C)=O, dipole_moment openbabel: 2.8961759830311586, dipole mine: 0.5188396477186797 dipole true: 2.76999316473001\n"
     ]
    },
    {
     "name": "stderr",
     "output_type": "stream",
     "text": [
      " 50%|█████     | 415/826 [02:41<02:53,  2.36it/s]"
     ]
    },
    {
     "name": "stdout",
     "output_type": "stream",
     "text": [
      "SMILES: CCC(C)C(C)C, dipole_moment openbabel: 0.06021707267043982, dipole mine: 0.009193373823396571 dipole true: 0.0\n"
     ]
    },
    {
     "name": "stderr",
     "output_type": "stream",
     "text": [
      " 50%|█████     | 416/826 [02:42<03:14,  2.11it/s]"
     ]
    },
    {
     "name": "stdout",
     "output_type": "stream",
     "text": [
      "SMILES: CC(C)C(=O)C(C)C, dipole_moment openbabel: 2.801444578243855, dipole mine: 0.5077203321231916 dipole true: 2.731\n"
     ]
    },
    {
     "name": "stderr",
     "output_type": "stream",
     "text": [
      " 50%|█████     | 417/826 [02:42<02:57,  2.30it/s]"
     ]
    },
    {
     "name": "stdout",
     "output_type": "stream",
     "text": [
      "SMILES: Cc1ccncc1C, dipole_moment openbabel: 1.7329720889780662, dipole mine: 0.30922799750859603 dipole true: 1.9\n"
     ]
    },
    {
     "name": "stderr",
     "output_type": "stream",
     "text": [
      " 51%|█████     | 418/826 [02:43<02:45,  2.47it/s]"
     ]
    },
    {
     "name": "stdout",
     "output_type": "stream",
     "text": [
      "SMILES: Cc1cccnc1C, dipole_moment openbabel: 1.478942120347341, dipole mine: 0.2734905961219858 dipole true: 2.2\n"
     ]
    },
    {
     "name": "stderr",
     "output_type": "stream",
     "text": [
      " 51%|█████     | 419/826 [02:43<03:18,  2.05it/s]"
     ]
    },
    {
     "name": "stdout",
     "output_type": "stream",
     "text": [
      "SMILES: CCCC(C)CC, dipole_moment openbabel: 0.06602150056531364, dipole mine: 0.014129878900331566 dipole true: 0.0\n"
     ]
    },
    {
     "name": "stderr",
     "output_type": "stream",
     "text": [
      " 51%|█████     | 420/826 [02:44<03:00,  2.25it/s]"
     ]
    },
    {
     "name": "stdout",
     "output_type": "stream",
     "text": [
      "SMILES: Cc1ccc(C)nc1, dipole_moment openbabel: 1.4490627589646246, dipole mine: 0.2766151619180966 dipole true: 2.2\n"
     ]
    },
    {
     "name": "stderr",
     "output_type": "stream",
     "text": [
      " 51%|█████     | 422/826 [02:45<02:40,  2.51it/s]"
     ]
    },
    {
     "name": "stdout",
     "output_type": "stream",
     "text": [
      "SMILES: CCCCOC(=O)CC, dipole_moment openbabel: 0.9834992103553646, dipole mine: 0.10424766863311472 dipole true: 1.8\n",
      "SMILES: C\\C=C/C, dipole_moment openbabel: 0.20179372737329115, dipole mine: 0.029118399953132434 dipole true: 0.26\n",
      "SMILES: C[CH]=[C]=[CH2], dipole_moment openbabel: 0.24540288189421627, dipole mine: 0.03619067064226924 dipole true: 0.4\n"
     ]
    },
    {
     "name": "stderr",
     "output_type": "stream",
     "text": [
      " 51%|█████▏    | 424/826 [02:45<02:35,  2.59it/s]"
     ]
    },
    {
     "name": "stdout",
     "output_type": "stream",
     "text": [
      "SMILES: CCCC(C)(C)C, dipole_moment openbabel: 0.0643925048020555, dipole mine: 0.015921146774101492 dipole true: 0.0\n"
     ]
    },
    {
     "name": "stderr",
     "output_type": "stream",
     "text": [
      " 51%|█████▏    | 425/826 [02:46<02:26,  2.74it/s]"
     ]
    },
    {
     "name": "stdout",
     "output_type": "stream",
     "text": [
      "SMILES: Cc1cncc(C)c1, dipole_moment openbabel: 1.7101191745812387, dipole mine: 0.30909572360113374 dipole true: 2.6\n"
     ]
    },
    {
     "name": "stderr",
     "output_type": "stream",
     "text": [
      " 52%|█████▏    | 426/826 [02:46<02:59,  2.22it/s]"
     ]
    },
    {
     "name": "stdout",
     "output_type": "stream",
     "text": [
      "SMILES: CCCCC(C)C, dipole_moment openbabel: 0.0321483878138721, dipole mine: 0.007990807357172277 dipole true: 0.0\n"
     ]
    },
    {
     "name": "stderr",
     "output_type": "stream",
     "text": [
      " 52%|█████▏    | 427/826 [02:47<02:55,  2.28it/s]"
     ]
    },
    {
     "name": "stdout",
     "output_type": "stream",
     "text": [
      "SMILES: CCCCC(C)=O, dipole_moment openbabel: 2.9536073499106386, dipole mine: 0.528041193973059 dipole true: 2.67999544315334\n"
     ]
    },
    {
     "name": "stderr",
     "output_type": "stream",
     "text": [
      " 52%|█████▏    | 429/826 [02:47<02:26,  2.71it/s]"
     ]
    },
    {
     "name": "stdout",
     "output_type": "stream",
     "text": [
      "SMILES: CCCCC=C, dipole_moment openbabel: 0.18110666659503782, dipole mine: 0.030578364992367987 dipole true: 0.339994723651233\n",
      "SMILES: C1CC=CC=C1, dipole_moment openbabel: 0.3151544035823795, dipole mine: 0.050050720020570344 dipole true: 0.44\n"
     ]
    },
    {
     "name": "stderr",
     "output_type": "stream",
     "text": [
      " 52%|█████▏    | 430/826 [02:48<02:58,  2.22it/s]"
     ]
    },
    {
     "name": "stdout",
     "output_type": "stream",
     "text": [
      "SMILES: CCCCCC=C, dipole_moment openbabel: 0.15466293330030625, dipole mine: 0.0244808804131613 dipole true: 0.3\n"
     ]
    },
    {
     "name": "stderr",
     "output_type": "stream",
     "text": [
      " 52%|█████▏    | 431/826 [02:48<02:49,  2.34it/s]"
     ]
    },
    {
     "name": "stdout",
     "output_type": "stream",
     "text": [
      "SMILES: CCCCOC=O, dipole_moment openbabel: 0.7852386270298479, dipole mine: 0.061907856582539535 dipole true: 1.91867227878308\n"
     ]
    },
    {
     "name": "stderr",
     "output_type": "stream",
     "text": [
      " 53%|█████▎    | 436/826 [02:58<07:39,  1.18s/it]"
     ]
    },
    {
     "name": "stdout",
     "output_type": "stream",
     "text": [
      "SMILES: CCCCCCCCCCCCCCCCCC, dipole_moment openbabel: 0.12995576007651471, dipole mine: 0.03141855301291862 dipole true: 0.0\n",
      "SMILES: [Cl-].C[NH3+], dipole_moment openbabel: 0.3180880094386103, dipole mine: 0.5185371678590777 dipole true: 6.5726\n",
      "SMILES: CF, dipole_moment openbabel: 2.182549895980005, dipole mine: 0.4179679779161909 dipole true: 1.85\n",
      "SMILES: CP, dipole_moment openbabel: 0.3462921607996944, dipole mine: 0.0809465804922608 dipole true: 1.1\n",
      "SMILES: BrC=C, dipole_moment openbabel: 1.1716720106143963, dipole mine: 0.19484939890735672 dipole true: 1.42\n",
      "SMILES: BrC#C, dipole_moment openbabel: 0.8699253841968532, dipole mine: 0.1331054690251733 dipole true: 0.6312\n"
     ]
    },
    {
     "name": "stderr",
     "output_type": "stream",
     "text": [
      " 53%|█████▎    | 440/826 [02:58<03:50,  1.68it/s]"
     ]
    },
    {
     "name": "stdout",
     "output_type": "stream",
     "text": [
      "SMILES: ClC#C, dipole_moment openbabel: 1.2452212951822987, dipole mine: 0.20185477294836024 dipole true: 0.44\n",
      "SMILES: NC=C, dipole_moment openbabel: 0.28490971425297196, dipole mine: 0.06145620735574097 dipole true: 0.6548\n",
      "SMILES: CCP, dipole_moment openbabel: 0.15481555202114916, dipole mine: 0.027384247729580983 dipole true: 1.6439\n",
      "SMILES: FCCl, dipole_moment openbabel: 2.147062781600139, dipole mine: 0.4039324747281567 dipole true: 1.82\n",
      "SMILES: C[N+]#[C-], dipole_moment openbabel: 1.870092659226048, dipole mine: 1.1886138679428022 dipole true: 3.85\n"
     ]
    },
    {
     "name": "stderr",
     "output_type": "stream",
     "text": [
      "[18:43:04] WARNING: not removing hydrogen atom without neighbors\n",
      "[18:43:04] WARNING: not removing hydrogen atom without neighbors\n",
      "[18:43:04] WARNING: not removing hydrogen atom without neighbors\n",
      "[18:43:04] WARNING: not removing hydrogen atom without neighbors\n",
      "[18:43:04] WARNING: not removing hydrogen atom without neighbors\n",
      " 54%|█████▍    | 447/826 [02:59<01:31,  4.15it/s]"
     ]
    },
    {
     "name": "stdout",
     "output_type": "stream",
     "text": [
      "SMILES: [H+].[Cl-].CNO, dipole_moment openbabel: 1.0498571401381096, dipole mine: 0.211748122000161 dipole true: 2.6412\n",
      "SMILES: COCl, dipole_moment openbabel: 1.8996377491166148, dipole mine: 0.34380247751328613 dipole true: 1.9514\n",
      "SMILES: C[Se]C, dipole_moment openbabel: 0.0, dipole mine: nan dipole true: 1.9099\n",
      "SMILES: C[As](C)C, dipole_moment openbabel: 0.0, dipole mine: nan dipole true: 0.86\n",
      "SMILES: CC(C)(Cl)Cl, dipole_moment openbabel: 1.9827905882420853, dipole mine: 0.3341320372783314 dipole true: 2.27\n"
     ]
    },
    {
     "name": "stderr",
     "output_type": "stream",
     "text": [
      " 54%|█████▍    | 449/826 [02:59<01:22,  4.58it/s]"
     ]
    },
    {
     "name": "stdout",
     "output_type": "stream",
     "text": [
      "SMILES: C[C](C)=[C]=[CH2], dipole_moment openbabel: 0.265700374042244, dipole mine: 0.04262428656943024 dipole true: 0.55\n",
      "SMILES: CO[N+]([O-])=O, dipole_moment openbabel: 3.314969665895542, dipole mine: 0.4163429562469279 dipole true: 3.08\n"
     ]
    },
    {
     "name": "stderr",
     "output_type": "stream",
     "text": [
      " 55%|█████▍    | 451/826 [03:00<01:37,  3.83it/s]"
     ]
    },
    {
     "name": "stdout",
     "output_type": "stream",
     "text": [
      "SMILES: CCc1ccccc1C, dipole_moment openbabel: 0.30176723567187264, dipole mine: 0.04098336621130852 dipole true: 0.56\n",
      "SMILES: CO[S](=O)OC, dipole_moment openbabel: 2.73549445246094, dipole mine: 0.51710048277474 dipole true: 3.09\n",
      "SMILES: CCC(CC)CC, dipole_moment openbabel: 0.04310299413358586, dipole mine: 0.009474412819273982 dipole true: 0.0\n"
     ]
    },
    {
     "name": "stderr",
     "output_type": "stream",
     "text": [
      " 55%|█████▍    | 453/826 [03:01<02:24,  2.58it/s]"
     ]
    },
    {
     "name": "stdout",
     "output_type": "stream",
     "text": [
      "SMILES: CCc1ccc(C)cc1, dipole_moment openbabel: 0.059245320582508476, dipole mine: 0.007551013160066824 dipole true: 0.0\n"
     ]
    },
    {
     "name": "stderr",
     "output_type": "stream",
     "text": [
      " 55%|█████▌    | 455/826 [03:02<02:00,  3.08it/s]"
     ]
    },
    {
     "name": "stdout",
     "output_type": "stream",
     "text": [
      "SMILES: CCCC(=O)OC, dipole_moment openbabel: 1.1968238264719846, dipole mine: 0.13346074723829726 dipole true: 1.71999976016597\n",
      "SMILES: C\\C=C\\C, dipole_moment openbabel: 0.01632013217529442, dipole mine: 0.003728176215142479 dipole true: 0.0\n",
      "SMILES: FCCF, dipole_moment openbabel: 0.28614454015629104, dipole mine: 0.05499279820909775 dipole true: 2.671\n",
      "SMILES: CON=O, dipole_moment openbabel: 3.308571241897772, dipole mine: 0.5772861887862181 dipole true: 2.05\n"
     ]
    },
    {
     "name": "stderr",
     "output_type": "stream",
     "text": [
      " 55%|█████▌    | 458/826 [03:02<01:15,  4.86it/s]"
     ]
    },
    {
     "name": "stdout",
     "output_type": "stream",
     "text": [
      "SMILES: CCO[N+]([O-])=O, dipole_moment openbabel: 3.4836306544150384, dipole mine: 0.43049716773358415 dipole true: 3.39\n",
      "SMILES: CCCC[N+]([O-])=O, dipole_moment openbabel: 3.861991118982241, dipole mine: 1.2457898253262867 dipole true: 3.4\n"
     ]
    },
    {
     "name": "stderr",
     "output_type": "stream",
     "text": [
      " 56%|█████▌    | 460/826 [03:02<01:30,  4.04it/s]"
     ]
    },
    {
     "name": "stdout",
     "output_type": "stream",
     "text": [
      "SMILES: CCCC#C, dipole_moment openbabel: 0.4632212520757328, dipole mine: 0.06335294621666256 dipole true: 0.85\n"
     ]
    },
    {
     "name": "stderr",
     "output_type": "stream",
     "text": [
      " 56%|█████▌    | 461/826 [03:03<01:30,  4.01it/s]"
     ]
    },
    {
     "name": "stdout",
     "output_type": "stream",
     "text": [
      "SMILES: CC\\C=C/C, dipole_moment openbabel: 0.22026547484143635, dipole mine: 0.03276404207642355 dipole true: 0.28\n"
     ]
    },
    {
     "name": "stderr",
     "output_type": "stream",
     "text": [
      " 56%|█████▌    | 463/826 [03:03<01:23,  4.37it/s]"
     ]
    },
    {
     "name": "stdout",
     "output_type": "stream",
     "text": [
      "SMILES: C/C=C/C#N, dipole_moment openbabel: 2.9508300273334185, dipole mine: 0.4817482806556445 dipole true: 4.5\n",
      "SMILES: C=CSC=C, dipole_moment openbabel: 1.0794228218221391, dipole mine: 0.19719392100771604 dipole true: 1.2\n"
     ]
    },
    {
     "name": "stderr",
     "output_type": "stream",
     "text": [
      " 56%|█████▌    | 464/826 [03:03<01:36,  3.77it/s]"
     ]
    },
    {
     "name": "stdout",
     "output_type": "stream",
     "text": [
      "SMILES: CCCOCC, dipole_moment openbabel: 1.6927553047166934, dipole mine: 0.36876583625567916 dipole true: 1.15998728879615\n"
     ]
    },
    {
     "name": "stderr",
     "output_type": "stream",
     "text": [
      " 56%|█████▋    | 465/826 [03:04<01:40,  3.60it/s]"
     ]
    },
    {
     "name": "stdout",
     "output_type": "stream",
     "text": [
      "SMILES: ClCCCCCCl, dipole_moment openbabel: 1.4251559720674305, dipole mine: 0.2564705425471748 dipole true: 2.36\n"
     ]
    },
    {
     "name": "stderr",
     "output_type": "stream",
     "text": [
      " 56%|█████▋    | 466/826 [03:04<02:08,  2.81it/s]"
     ]
    },
    {
     "name": "stdout",
     "output_type": "stream",
     "text": [
      "SMILES: CCCCOCC, dipole_moment openbabel: 1.4732950562648819, dipole mine: 0.33045196538365756 dipole true: 1.22000575601684\n"
     ]
    },
    {
     "name": "stderr",
     "output_type": "stream",
     "text": [
      " 57%|█████▋    | 467/826 [03:05<02:34,  2.33it/s]"
     ]
    },
    {
     "name": "stdout",
     "output_type": "stream",
     "text": [
      "SMILES: OCCCCCCO, dipole_moment openbabel: 0.6956388169930509, dipole mine: 0.1725977808887833 dipole true: 2.5\n"
     ]
    },
    {
     "name": "stderr",
     "output_type": "stream",
     "text": [
      " 57%|█████▋    | 468/826 [03:09<08:21,  1.40s/it]"
     ]
    },
    {
     "name": "stdout",
     "output_type": "stream",
     "text": [
      "SMILES: CCCCCCCCCCCCC, dipole_moment openbabel: 0.08036195038621505, dipole mine: 0.01861160739654134 dipole true: 0.0\n"
     ]
    },
    {
     "name": "stderr",
     "output_type": "stream",
     "text": [
      " 57%|█████▋    | 469/826 [03:14<14:37,  2.46s/it]"
     ]
    },
    {
     "name": "stdout",
     "output_type": "stream",
     "text": [
      "SMILES: CCCCCCCCCCCCCC, dipole_moment openbabel: 0.07356704384805991, dipole mine: 0.015881500866055265 dipole true: 0.0\n"
     ]
    },
    {
     "name": "stderr",
     "output_type": "stream",
     "text": [
      " 57%|█████▋    | 470/826 [03:20<20:32,  3.46s/it]"
     ]
    },
    {
     "name": "stdout",
     "output_type": "stream",
     "text": [
      "SMILES: CCCCCCCCCCCCCCC, dipole_moment openbabel: 0.040779620917162605, dipole mine: 0.009010514353809304 dipole true: 0.0\n"
     ]
    },
    {
     "name": "stderr",
     "output_type": "stream",
     "text": [
      " 57%|█████▋    | 471/826 [03:29<30:40,  5.18s/it]"
     ]
    },
    {
     "name": "stdout",
     "output_type": "stream",
     "text": [
      "SMILES: CCCCCCCCCCCCCCCCC, dipole_moment openbabel: 0.12635699187630403, dipole mine: 0.03008601639701415 dipole true: 0.0\n"
     ]
    },
    {
     "name": "stderr",
     "output_type": "stream",
     "text": [
      " 57%|█████▋    | 472/826 [03:45<50:07,  8.50s/it]"
     ]
    },
    {
     "name": "stdout",
     "output_type": "stream",
     "text": [
      "SMILES: CCCCCCCCCCCCCCCCCCC, dipole_moment openbabel: 0.07154098669848595, dipole mine: 0.019016710857519666 dipole true: 0.0\n"
     ]
    },
    {
     "name": "stderr",
     "output_type": "stream",
     "text": [
      " 57%|█████▋    | 473/826 [04:04<1:07:34, 11.49s/it]"
     ]
    },
    {
     "name": "stdout",
     "output_type": "stream",
     "text": [
      "SMILES: CCCCCCCCCCCCCCCCCCCCC, dipole_moment openbabel: 0.09651841427722756, dipole mine: 0.0214380489524807 dipole true: 0.0\n"
     ]
    },
    {
     "name": "stderr",
     "output_type": "stream",
     "text": [
      " 57%|█████▋    | 474/826 [04:23<1:20:16, 13.68s/it]"
     ]
    },
    {
     "name": "stdout",
     "output_type": "stream",
     "text": [
      "SMILES: CCCCCCCCCCCCCCCCCCCCCC, dipole_moment openbabel: 0.06875575804242147, dipole mine: 0.018024862419009954 dipole true: 0.0\n",
      "SMILES: [C-]#[O+], dipole_moment openbabel: 0.0, dipole mine: nan dipole true: 0.11\n"
     ]
    },
    {
     "name": "stderr",
     "output_type": "stream",
     "text": [
      " 58%|█████▊    | 476/826 [04:23<43:34,  7.47s/it]  "
     ]
    },
    {
     "name": "stdout",
     "output_type": "stream",
     "text": [
      "SMILES: CC(C)(C)C#N, dipole_moment openbabel: 3.000553764454643, dipole mine: 0.4854786287153984 dipole true: 3.95\n"
     ]
    },
    {
     "name": "stderr",
     "output_type": "stream",
     "text": [
      " 58%|█████▊    | 477/826 [04:24<33:53,  5.83s/it]"
     ]
    },
    {
     "name": "stdout",
     "output_type": "stream",
     "text": [
      "SMILES: CCCCCOC=O, dipole_moment openbabel: 0.6928639457487171, dipole mine: 0.07353735099988605 dipole true: 1.9\n"
     ]
    },
    {
     "name": "stderr",
     "output_type": "stream",
     "text": [
      " 58%|█████▊    | 478/826 [04:45<56:47,  9.79s/it]"
     ]
    },
    {
     "name": "stdout",
     "output_type": "stream",
     "text": [
      "SMILES: CCCCCCCCCCCCCCCCCCCCCCC, dipole_moment openbabel: 0.08592349323931943, dipole mine: 0.021819571854538047 dipole true: 0.0\n"
     ]
    },
    {
     "name": "stderr",
     "output_type": "stream",
     "text": [
      " 58%|█████▊    | 479/826 [04:45<41:45,  7.22s/it]"
     ]
    },
    {
     "name": "stdout",
     "output_type": "stream",
     "text": [
      "SMILES: CC\\C=C\\C, dipole_moment openbabel: 0.042673061373033484, dipole mine: 0.01185973708943873 dipole true: 0.0\n"
     ]
    },
    {
     "name": "stderr",
     "output_type": "stream",
     "text": [
      " 58%|█████▊    | 480/826 [05:10<1:09:18, 12.02s/it]"
     ]
    },
    {
     "name": "stdout",
     "output_type": "stream",
     "text": [
      "SMILES: CCCCCCCCCCCCCCCCCCCCCCCC, dipole_moment openbabel: 0.12385820470938902, dipole mine: 0.031498194960309964 dipole true: 0.0\n",
      "SMILES: C[2H], dipole_moment openbabel: 0.006398275265120762, dipole mine: 0.0018634817477288473 dipole true: 0.0176\n",
      "SMILES: CPC, dipole_moment openbabel: 0.1364325128086987, dipole mine: 0.02189475282877728 dipole true: 1.7033\n"
     ]
    },
    {
     "name": "stderr",
     "output_type": "stream",
     "text": [
      " 58%|█████▊    | 483/826 [05:10<31:48,  5.56s/it]  "
     ]
    },
    {
     "name": "stdout",
     "output_type": "stream",
     "text": [
      "SMILES: FC(F)(F)C(F)(F)C(F)(F)C(F)(F)C(F)(F)F, dipole_moment openbabel: 0.10519945712112623, dipole mine: 0.04278331406355185 dipole true: 0.0\n"
     ]
    },
    {
     "name": "stderr",
     "output_type": "stream",
     "text": [
      " 59%|█████▊    | 484/826 [05:11<25:37,  4.50s/it]"
     ]
    },
    {
     "name": "stdout",
     "output_type": "stream",
     "text": [
      "SMILES: C=CC#C, dipole_moment openbabel: 0.2732802576691373, dipole mine: 0.03553389020109139 dipole true: 0.22\n"
     ]
    },
    {
     "name": "stderr",
     "output_type": "stream",
     "text": [
      " 59%|█████▊    | 485/826 [05:11<20:28,  3.60s/it]"
     ]
    },
    {
     "name": "stdout",
     "output_type": "stream",
     "text": [
      "SMILES: CC(C)CC=C, dipole_moment openbabel: 0.11262795339105906, dipole mine: 0.01872707960025113 dipole true: 0.265616193594033\n"
     ]
    },
    {
     "name": "stderr",
     "output_type": "stream",
     "text": [
      " 59%|█████▉    | 486/826 [05:12<16:31,  2.92s/it]"
     ]
    },
    {
     "name": "stdout",
     "output_type": "stream",
     "text": [
      "SMILES: CCCCC#C, dipole_moment openbabel: 0.46077524415688575, dipole mine: 0.06347446859024397 dipole true: 0.83\n",
      "SMILES: C=CC1CC1, dipole_moment openbabel: 0.16102589659895328, dipole mine: 0.023701015865414878 dipole true: 0.5\n"
     ]
    },
    {
     "name": "stderr",
     "output_type": "stream",
     "text": [
      " 59%|█████▉    | 488/826 [05:12<09:25,  1.67s/it]"
     ]
    },
    {
     "name": "stdout",
     "output_type": "stream",
     "text": [
      "SMILES: C1C=CC2CC12, dipole_moment openbabel: 0.22811798161845276, dipole mine: 0.03538435651550913 dipole true: 0.29\n",
      "SMILES: NC1CC1, dipole_moment openbabel: 0.8373728389051304, dipole mine: 0.19192143368007936 dipole true: 1.19\n"
     ]
    },
    {
     "name": "stderr",
     "output_type": "stream",
     "text": [
      " 60%|█████▉    | 492/826 [05:13<03:35,  1.55it/s]"
     ]
    },
    {
     "name": "stdout",
     "output_type": "stream",
     "text": [
      "SMILES: CC(=O)C1CC1, dipole_moment openbabel: 3.154386694871762, dipole mine: 0.540108731155653 dipole true: 2.62\n",
      "SMILES: C1CC=C1, dipole_moment openbabel: 0.26365650441226357, dipole mine: 0.04584415631488716 dipole true: 0.13\n",
      "SMILES: C=S, dipole_moment openbabel: 0.9636169815149465, dipole mine: 0.2101223583264225 dipole true: 1.98\n",
      "SMILES: [Li+].[CH3-], dipole_moment openbabel: 0.0, dipole mine: 0.037951877583690695 dipole true: 2.356\n"
     ]
    },
    {
     "name": "stderr",
     "output_type": "stream",
     "text": [
      " 60%|█████▉    | 494/826 [05:13<02:25,  2.27it/s][18:45:18] UFFTYPER: Unrecognized charge state for atom: 1\n",
      "[18:45:18] UFFTYPER: Unrecognized charge state for atom: 1\n",
      " 60%|██████    | 496/826 [05:13<01:43,  3.19it/s]"
     ]
    },
    {
     "name": "stdout",
     "output_type": "stream",
     "text": [
      "SMILES: [SiH3]C#C, dipole_moment openbabel: 0.0, dipole mine: 0.1634136271329287 dipole true: 0.3521\n",
      "SMILES: C[Si], dipole_moment openbabel: 0.0, dipole mine: 0.012051269572582336 dipole true: 0.5368\n",
      "SMILES: C#CC#N, dipole_moment openbabel: 2.896502547277677, dipole mine: 0.4947825429366026 dipole true: 3.72\n",
      "SMILES: CC1CS1, dipole_moment openbabel: 1.6034227682548081, dipole mine: 0.31794866630473256 dipole true: 1.95\n"
     ]
    },
    {
     "name": "stderr",
     "output_type": "stream",
     "text": [
      " 60%|██████    | 498/826 [05:13<01:15,  4.36it/s]"
     ]
    },
    {
     "name": "stdout",
     "output_type": "stream",
     "text": [
      "SMILES: C[SiH2]C, dipole_moment openbabel: 0.0, dipole mine: 0.030481235813350358 dipole true: 0.75\n"
     ]
    },
    {
     "name": "stderr",
     "output_type": "stream",
     "text": [
      " 61%|██████    | 500/826 [05:16<03:15,  1.67it/s]"
     ]
    },
    {
     "name": "stdout",
     "output_type": "stream",
     "text": [
      "SMILES: CCCCCCCCCCC, dipole_moment openbabel: 0.06738748497603879, dipole mine: 0.016108436032270655 dipole true: 0.0\n",
      "SMILES: [CH2]=[C]1C[CH2]C1, dipole_moment openbabel: 0.27332036118470193, dipole mine: 0.04762192863828941 dipole true: 0.51\n"
     ]
    },
    {
     "name": "stderr",
     "output_type": "stream",
     "text": [
      " 61%|██████    | 502/826 [05:16<02:21,  2.29it/s]"
     ]
    },
    {
     "name": "stdout",
     "output_type": "stream",
     "text": [
      "SMILES: C\\C=C/C#N, dipole_moment openbabel: 2.7427233808367832, dipole mine: 0.45374858860500505 dipole true: 4.08\n",
      "SMILES: O=C1CCC1, dipole_moment openbabel: 3.465606855656033, dipole mine: 0.5889489702491372 dipole true: 2.99\n",
      "SMILES: [Ga]#[As], dipole_moment openbabel: 0.0, dipole mine: nan dipole true: 2.9749\n",
      "SMILES: [Be]=O, dipole_moment openbabel: 0.0, dipole mine: nan dipole true: 7.4836\n",
      "SMILES: O=[Ca], dipole_moment openbabel: 0.0, dipole mine: nan dipole true: 7.2202\n",
      "SMILES: [Ca]=[Se], dipole_moment openbabel: 0.0, dipole mine: nan dipole true: 3.6912\n",
      "SMILES: O=[Mg], dipole_moment openbabel: 0.0, dipole mine: nan dipole true: 7.5578\n",
      "SMILES: O=[Ge]=O, dipole_moment openbabel: 0.0, dipole mine: nan dipole true: 3.0658\n",
      "SMILES: [Li+].O.[OH-], dipole_moment openbabel: 0.0, dipole mine: 0.4245646051924292 dipole true: 4.76\n",
      "SMILES: O=[Ni], dipole_moment openbabel: 0.0, dipole mine: nan dipole true: 7.4636\n",
      "SMILES: [Ni]=[Se], dipole_moment openbabel: 0.0, dipole mine: nan dipole true: 6.1658\n",
      "SMILES: O=[Zn], dipole_moment openbabel: 0.0, dipole mine: nan dipole true: 5.4411\n",
      "SMILES: S=[Zn], dipole_moment openbabel: 0.0, dipole mine: nan dipole true: 6.2041\n"
     ]
    },
    {
     "name": "stderr",
     "output_type": "stream",
     "text": [
      "[18:45:22] UFFTYPER: Unrecognized atom type: Ga+3 (0)\n",
      "[18:45:22] UFFTYPER: Unrecognized atom type: As1+3 (1)\n",
      "[18:45:22] UFFTYPER: Unrecognized atom type: Ga+3 (0)\n",
      "[18:45:22] UFFTYPER: Unrecognized atom type: As1+3 (1)\n",
      "[18:45:22] UFFTYPER: Unrecognized atom type: Be+2 (0)\n",
      "[18:45:22] UFFTYPER: Unrecognized atom type: Be+2 (0)\n",
      "[18:45:22] UFFTYPER: Unrecognized atom type: Ca+2 (1)\n",
      "[18:45:22] UFFTYPER: Unrecognized atom type: Ca+2 (1)\n",
      "[18:45:22] UFFTYPER: Unrecognized atom type: Ca+2 (0)\n",
      "[18:45:22] UFFTYPER: Unrecognized atom type: Se2+2 (1)\n",
      "[18:45:22] UFFTYPER: Unrecognized atom type: Ca+2 (0)\n",
      "[18:45:22] UFFTYPER: Unrecognized atom type: Se2+2 (1)\n",
      "[18:45:22] UFFTYPER: Warning: hybridization set to SP3 for atom 1\n",
      "[18:45:22] UFFTYPER: Warning: hybridization set to SP3 for atom 1\n",
      "[18:45:22] UFFTYPER: Unrecognized atom type: Ge1 (1)\n",
      "[18:45:22] UFFTYPER: Unrecognized atom type: Ge1 (1)\n",
      "[18:45:22] UFFTYPER: Unrecognized atom type: Ni5+2 (1)\n",
      "[18:45:22] UFFTYPER: Unrecognized atom type: Ni5+2 (1)\n",
      "[18:45:22] UFFTYPER: Unrecognized atom type: Ni5+2 (0)\n",
      "[18:45:22] UFFTYPER: Unrecognized atom type: Se2+2 (1)\n",
      "[18:45:22] UFFTYPER: Unrecognized atom type: Ni5+2 (0)\n",
      "[18:45:22] UFFTYPER: Unrecognized atom type: Se2+2 (1)\n",
      "[18:45:22] UFFTYPER: Unrecognized atom type: Zn+2 (1)\n",
      "[18:45:22] UFFTYPER: Unrecognized atom type: Zn+2 (1)\n",
      "[18:45:22] UFFTYPER: Unrecognized atom type: Zn+2 (1)\n",
      "[18:45:22] UFFTYPER: Unrecognized atom type: Zn+2 (1)\n",
      " 62%|██████▏   | 513/826 [05:16<00:34,  9.13it/s][18:45:22] UFFTYPER: Unrecognized atom type: Cu5+1 (1)\n",
      "[18:45:22] UFFTYPER: Unrecognized atom type: Cu5+1 (1)\n",
      "[18:45:22] UFFTYPER: Unrecognized atom type: Fe2+2 (0)\n",
      "[18:45:22] UFFTYPER: Unrecognized charge state for atom: 0\n",
      "[18:45:22] UFFTYPER: Unrecognized charge state for atom: 1\n",
      "[18:45:22] UFFTYPER: Unrecognized atom type: Fe2+2 (0)\n",
      "[18:45:22] UFFTYPER: Unrecognized charge state for atom: 0\n",
      "[18:45:22] UFFTYPER: Unrecognized charge state for atom: 1\n",
      "[18:45:22] WARNING: not removing hydrogen atom without neighbors\n",
      "[18:45:22] WARNING: not removing hydrogen atom without neighbors\n",
      "[18:45:22] WARNING: not removing hydrogen atom without neighbors\n",
      "[18:45:22] WARNING: not removing hydrogen atom without neighbors\n",
      "[18:45:22] WARNING: not removing hydrogen atom without neighbors\n",
      " 63%|██████▎   | 520/826 [05:17<00:21, 13.98it/s]"
     ]
    },
    {
     "name": "stdout",
     "output_type": "stream",
     "text": [
      "SMILES: S=[Fe], dipole_moment openbabel: 0.0, dipole mine: nan dipole true: 1.2889\n",
      "SMILES: O=[Cu], dipole_moment openbabel: 0.0, dipole mine: nan dipole true: 4.5\n",
      "SMILES: [Fe++].[S-][S-], dipole_moment openbabel: 0.0, dipole mine: 0.0 dipole true: 0.0\n",
      "SMILES: [H], dipole_moment openbabel: 0.0, dipole mine: 0.0 dipole true: 0.0\n",
      "SMILES: [NH4+].[OH-], dipole_moment openbabel: 1.1270968893941242, dipole mine: 0.3740312258781155 dipole true: 5.6302\n",
      "SMILES: O=[Fe], dipole_moment openbabel: 0.0, dipole mine: nan dipole true: 3.0224\n",
      "SMILES: C[GeH2]C, dipole_moment openbabel: 0.0, dipole mine: nan dipole true: 0.5341\n",
      "SMILES: C[GeH3], dipole_moment openbabel: 0.0, dipole mine: nan dipole true: 0.64\n",
      "SMILES: CO[2H], dipole_moment openbabel: 1.290491776894556, dipole mine: 0.2947887088709486 dipole true: 1.8082\n",
      "SMILES: FC=O, dipole_moment openbabel: 2.374677571605215, dipole mine: 0.4419879950570774 dipole true: 2.02\n",
      "SMILES: FC#N, dipole_moment openbabel: 0.21650246330036968, dipole mine: 0.03153440528706076 dipole true: 2.17\n",
      "SMILES: FC(F)Br, dipole_moment openbabel: 2.1221648228054097, dipole mine: 0.3954616218135595 dipole true: 1.5\n"
     ]
    },
    {
     "name": "stderr",
     "output_type": "stream",
     "text": [
      " 64%|██████▎   | 526/826 [05:17<00:20, 14.73it/s]"
     ]
    },
    {
     "name": "stdout",
     "output_type": "stream",
     "text": [
      "SMILES: C\\C=C/C=C, dipole_moment openbabel: 0.11098331325112258, dipole mine: 0.01501451954079474 dipole true: 0.5\n",
      "SMILES: [SiH2]=[SiH2], dipole_moment openbabel: 0.0, dipole mine: 0.03398594462220209 dipole true: 0.3577\n",
      "SMILES: O=C=[Se], dipole_moment openbabel: 0.0, dipole mine: nan dipole true: 0.75\n"
     ]
    },
    {
     "name": "stderr",
     "output_type": "stream",
     "text": [
      "[18:45:22] UFFTYPER: Warning: hybridization set to SP3 for atom 0\n",
      "[18:45:22] UFFTYPER: Warning: hybridization set to SP3 for atom 1\n",
      "[18:45:22] UFFTYPER: Warning: hybridization set to SP3 for atom 0\n",
      "[18:45:22] UFFTYPER: Warning: hybridization set to SP3 for atom 1\n",
      "[18:45:22] UFFTYPER: Unrecognized atom type: Se2+2 (2)\n",
      "[18:45:22] UFFTYPER: Unrecognized atom type: Se2+2 (2)\n",
      " 64%|██████▍   | 530/826 [05:17<00:20, 14.11it/s]"
     ]
    },
    {
     "name": "stdout",
     "output_type": "stream",
     "text": [
      "SMILES: C1CCSCC1, dipole_moment openbabel: 1.2651365529184102, dipole mine: 0.24501915338345145 dipole true: 1.78\n",
      "SMILES: F\\C=C/F, dipole_moment openbabel: 3.605795828944288, dipole mine: 0.6776568274375543 dipole true: 2.42\n",
      "SMILES: F\\C=C\\F, dipole_moment openbabel: 0.02634257169061857, dipole mine: 0.007584643179132754 dipole true: 0.55\n",
      "SMILES: CC1(C)CC1, dipole_moment openbabel: 0.02503794267996116, dipole mine: 0.007144103041476624 dipole true: 0.14\n"
     ]
    },
    {
     "name": "stderr",
     "output_type": "stream",
     "text": [
      " 65%|██████▍   | 533/826 [05:19<00:58,  5.02it/s]"
     ]
    },
    {
     "name": "stdout",
     "output_type": "stream",
     "text": [
      "SMILES: CCCCc1cccc2ccccc12, dipole_moment openbabel: 0.21961592714017739, dipole mine: 0.03333343655795563 dipole true: 0.69\n",
      "SMILES: CCC1CCCC1, dipole_moment openbabel: 0.0217072411249051, dipole mine: 0.007884466109702204 dipole true: 0.0\n",
      "SMILES: C1OCC=C1, dipole_moment openbabel: 1.8891747163237844, dipole mine: 0.4122120444935066 dipole true: 1.32\n"
     ]
    },
    {
     "name": "stderr",
     "output_type": "stream",
     "text": [
      " 65%|██████▍   | 536/826 [05:20<01:05,  4.45it/s]"
     ]
    },
    {
     "name": "stdout",
     "output_type": "stream",
     "text": [
      "SMILES: C1SCC=C1, dipole_moment openbabel: 1.148802815336081, dipole mine: 0.2288628451344173 dipole true: 1.75\n"
     ]
    },
    {
     "name": "stderr",
     "output_type": "stream",
     "text": [
      " 65%|██████▌   | 538/826 [05:21<01:02,  4.63it/s]"
     ]
    },
    {
     "name": "stdout",
     "output_type": "stream",
     "text": [
      "SMILES: COCC#N, dipole_moment openbabel: 2.197452271377648, dipole mine: 0.371954279178257 dipole true: 2.98\n",
      "SMILES: CC[GeH3], dipole_moment openbabel: 0.0, dipole mine: nan dipole true: 0.4489\n",
      "SMILES: CN=C, dipole_moment openbabel: 1.2978810423733538, dipole mine: 0.2728149410343967 dipole true: 1.53\n"
     ]
    },
    {
     "name": "stderr",
     "output_type": "stream",
     "text": [
      " 65%|██████▌   | 540/826 [05:21<01:11,  4.02it/s]"
     ]
    },
    {
     "name": "stdout",
     "output_type": "stream",
     "text": [
      "SMILES: C/C=C/C#C, dipole_moment openbabel: 0.42037021314598333, dipole mine: 0.055785355064931 dipole true: 0.66\n"
     ]
    },
    {
     "name": "stderr",
     "output_type": "stream",
     "text": [
      " 66%|██████▌   | 544/826 [05:22<00:52,  5.32it/s]"
     ]
    },
    {
     "name": "stdout",
     "output_type": "stream",
     "text": [
      "SMILES: C/C=C/C=C, dipole_moment openbabel: 0.15057266407272205, dipole mine: 0.02444856976634955 dipole true: 0.58\n",
      "SMILES: C=N, dipole_moment openbabel: 1.0253321781974252, dipole mine: 0.22487305637510363 dipole true: 3.05\n",
      "SMILES: CO[SiH3], dipole_moment openbabel: 0.0, dipole mine: 0.5073025177448852 dipole true: 1.5306\n",
      "SMILES: C(#C)[2H], dipole_moment openbabel: 0.02011741120144131, dipole mine: 0.004113057716038943 dipole true: 0.028\n",
      "SMILES: [CH3], dipole_moment openbabel: 0.0888866630192194, dipole mine: 0.0239555664390173 dipole true: 0.0\n",
      "SMILES: FC(F)(F)I, dipole_moment openbabel: 1.803507818759663, dipole mine: 0.3147659661681144 dipole true: 1.05\n",
      "SMILES: C[As]=S, dipole_moment openbabel: 0.0, dipole mine: nan dipole true: 1.8805\n"
     ]
    },
    {
     "name": "stderr",
     "output_type": "stream",
     "text": [
      "[18:45:27] UFFTYPER: Unrecognized atom type: As2+3 (1)\n",
      "[18:45:27] UFFTYPER: Unrecognized atom type: As2+3 (1)\n",
      "[18:45:27] UFFTYPER: Unrecognized atom type: S_6+6 (1)\n",
      " 66%|██████▋   | 548/826 [05:22<00:34,  8.05it/s][18:45:27] WARNING: not removing hydrogen atom without neighbors\n",
      "[18:45:27] WARNING: not removing hydrogen atom without neighbors\n",
      "[18:45:27] WARNING: not removing hydrogen atom without neighbors\n",
      "[18:45:27] WARNING: not removing hydrogen atom without neighbors\n",
      "[18:45:27] WARNING: not removing hydrogen atom without neighbors\n",
      "[18:45:27] WARNING: not removing hydrogen atom without neighbors\n",
      "[18:45:27] WARNING: not removing hydrogen atom without neighbors\n",
      "[18:45:27] WARNING: not removing hydrogen atom without neighbors\n",
      "[18:45:27] WARNING: not removing hydrogen atom without neighbors\n",
      "[18:45:27] WARNING: not removing hydrogen atom without neighbors\n",
      " 67%|██████▋   | 551/826 [05:22<00:26, 10.23it/s]"
     ]
    },
    {
     "name": "stdout",
     "output_type": "stream",
     "text": [
      "Problem with SMILES\n",
      "SMILES: ClC=O, dipole_moment openbabel: 2.1933554577704286, dipole mine: 0.41296902884556547 dipole true: 2.4735\n",
      "SMILES: [H+].[H+].[Cl-].[Cl-].NN, dipole_moment openbabel: 0.6169829772556727, dipole mine: 0.15322494189739713 dipole true: 3.131\n",
      "SMILES: C(=C)[2H], dipole_moment openbabel: 0.01800937004902801, dipole mine: 0.004321171213541751 dipole true: 0.001\n",
      "SMILES: ClN=O, dipole_moment openbabel: 1.4555653275327045, dipole mine: 0.26226289834608013 dipole true: 1.9\n",
      "SMILES: F[S](F)(=O)=O, dipole_moment openbabel: 0.7050542574824227, dipole mine: 0.12875985809156035 dipole true: 1.12\n",
      "SMILES: FC#C, dipole_moment openbabel: 2.188699934622432, dipole mine: 0.379774136105313 dipole true: 0.73\n"
     ]
    },
    {
     "name": "stderr",
     "output_type": "stream",
     "text": [
      " 67%|██████▋   | 555/826 [05:22<00:20, 13.01it/s]"
     ]
    },
    {
     "name": "stdout",
     "output_type": "stream",
     "text": [
      "SMILES: C1C=C1, dipole_moment openbabel: 0.2215881300332371, dipole mine: 0.043317010655622136 dipole true: 0.45\n"
     ]
    },
    {
     "name": "stderr",
     "output_type": "stream",
     "text": [
      " 68%|██████▊   | 560/826 [05:23<00:28,  9.35it/s]"
     ]
    },
    {
     "name": "stdout",
     "output_type": "stream",
     "text": [
      "SMILES: CC#CC#CC, dipole_moment openbabel: 0.15200618343122102, dipole mine: 0.02564944020332079 dipole true: 0.0\n",
      "SMILES: C(#N)[2H], dipole_moment openbabel: 2.203770381452844, dipole mine: 0.3945953762385423 dipole true: 3.2179\n",
      "SMILES: COO, dipole_moment openbabel: 3.0617139431107887, dipole mine: 0.6106868456479944 dipole true: 3.198\n",
      "SMILES: CC1=CC1, dipole_moment openbabel: 0.26587049344014196, dipole mine: 0.051469421741148505 dipole true: 0.84\n",
      "SMILES: N=C=S, dipole_moment openbabel: 0.822180998893817, dipole mine: 0.1832407495442997 dipole true: 2.1076\n"
     ]
    },
    {
     "name": "stderr",
     "output_type": "stream",
     "text": [
      " 68%|██████▊   | 564/826 [05:23<00:22, 11.79it/s]"
     ]
    },
    {
     "name": "stdout",
     "output_type": "stream",
     "text": [
      "SMILES: [OH-], dipole_moment openbabel: 1.1536380478072557, dipole mine: 0.36294805848067796 dipole true: 1.66\n",
      "SMILES: ClNCl, dipole_moment openbabel: 1.08310151809269, dipole mine: 0.18030566440027934 dipole true: 1.7284\n",
      "SMILES: Cl[SiH2]Cl, dipole_moment openbabel: 0.0, dipole mine: 0.4469569697550701 dipole true: 1.13\n",
      "SMILES: C\\C=C/C=O, dipole_moment openbabel: 2.8441544541722656, dipole mine: 0.516171184087079 dipole true: 3.72\n"
     ]
    },
    {
     "name": "stderr",
     "output_type": "stream",
     "text": [
      " 69%|██████▊   | 567/826 [05:23<00:20, 12.39it/s]"
     ]
    },
    {
     "name": "stdout",
     "output_type": "stream",
     "text": [
      "SMILES: C(Cl)[2H], dipole_moment openbabel: 1.5404369227501593, dipole mine: 0.2769122895829535 dipole true: 2.2179\n",
      "SMILES: O=C1CC1, dipole_moment openbabel: 3.641811466356512, dipole mine: 0.6242019015333847 dipole true: 2.67\n",
      "SMILES: C1C2C=CC12, dipole_moment openbabel: 0.3269332641206282, dipole mine: 0.0600597805451141 dipole true: 0.4\n"
     ]
    },
    {
     "name": "stderr",
     "output_type": "stream",
     "text": [
      "[18:45:29] UFFTYPER: Unrecognized charge state for atom: 1\n",
      "[18:45:29] UFFTYPER: Unrecognized charge state for atom: 1\n"
     ]
    },
    {
     "name": "stdout",
     "output_type": "stream",
     "text": [
      "SMILES: [Na+].C[S-], dipole_moment openbabel: 0.0, dipole mine: 1.279363640274024 dipole true: 4.4426\n"
     ]
    },
    {
     "name": "stderr",
     "output_type": "stream",
     "text": [
      " 69%|██████▉   | 569/826 [05:24<00:27,  9.34it/s]"
     ]
    },
    {
     "name": "stdout",
     "output_type": "stream",
     "text": [
      "SMILES: C/C=C/C=C\\C, dipole_moment openbabel: 0.2320879013826413, dipole mine: 0.034531065651722814 dipole true: 0.309\n",
      "SMILES: [H+].[Cl-].NO, dipole_moment openbabel: 1.5701082822668355, dipole mine: 0.35601225486394067 dipole true: 2.4225\n",
      "SMILES: C(C)[2H], dipole_moment openbabel: 0.02564574191647169, dipole mine: 0.006909651367810871 dipole true: 0.026\n",
      "SMILES: CSCl, dipole_moment openbabel: 1.7542273577158813, dipole mine: 0.27926015092116163 dipole true: 2.8279\n",
      "SMILES: S=C=[Se], dipole_moment openbabel: 0.0, dipole mine: nan dipole true: 2.8635\n"
     ]
    },
    {
     "name": "stderr",
     "output_type": "stream",
     "text": [
      "[18:45:29] WARNING: not removing hydrogen atom without neighbors\n",
      "[18:45:29] WARNING: not removing hydrogen atom without neighbors\n",
      "[18:45:29] WARNING: not removing hydrogen atom without neighbors\n",
      "[18:45:29] WARNING: not removing hydrogen atom without neighbors\n",
      "[18:45:29] WARNING: not removing hydrogen atom without neighbors\n",
      "[18:45:29] UFFTYPER: Unrecognized atom type: Se2+2 (2)\n",
      "[18:45:29] UFFTYPER: Unrecognized atom type: Se2+2 (2)\n",
      " 70%|██████▉   | 575/826 [05:30<02:04,  2.02it/s]"
     ]
    },
    {
     "name": "stdout",
     "output_type": "stream",
     "text": [
      "SMILES: CCOC(=O)C(=CNc1cc(Cl)ccc1OC)C(=O)OCC, dipole_moment openbabel: 1.7846011690351473, dipole mine: 0.4012107771769469 dipole true: 1.79\n",
      "SMILES: C=C1CC1, dipole_moment openbabel: 0.2615628322648043, dipole mine: 0.04978727301898169 dipole true: 0.4\n",
      "SMILES: CNCl, dipole_moment openbabel: 1.4635084845845359, dipole mine: 0.23404474353544055 dipole true: 2.2466\n"
     ]
    },
    {
     "name": "stderr",
     "output_type": "stream",
     "text": [
      "[18:45:35] UFFTYPER: Warning: hybridization set to SP3 for atom 1\n",
      "[18:45:35] UFFTYPER: Unrecognized charge state for atom: 1\n",
      "[18:45:35] UFFTYPER: Warning: hybridization set to SP3 for atom 1\n",
      "[18:45:35] UFFTYPER: Unrecognized charge state for atom: 1\n",
      "[18:45:35] UFFTYPER: Warning: hybridization set to SP3 for atom 1\n",
      "[18:45:35] UFFTYPER: Warning: hybridization set to SP3 for atom 1\n",
      " 70%|██████▉   | 578/826 [05:30<01:26,  2.85it/s]"
     ]
    },
    {
     "name": "stdout",
     "output_type": "stream",
     "text": [
      "SMILES: O[PH+]=O, dipole_moment openbabel: 2.981143739363737, dipole mine: 0.735164994768977 dipole true: 1.8637\n",
      "SMILES: CP=C, dipole_moment openbabel: 0.605395390068112, dipole mine: 0.1594902826751591 dipole true: 1.8266\n",
      "SMILES: SCS, dipole_moment openbabel: 1.2925685379421303, dipole mine: 0.28276440937995073 dipole true: 2.236\n"
     ]
    },
    {
     "name": "stderr",
     "output_type": "stream",
     "text": [
      " 70%|███████   | 580/826 [05:30<01:17,  3.16it/s]"
     ]
    },
    {
     "name": "stdout",
     "output_type": "stream",
     "text": [
      "SMILES: C#CC1CC1, dipole_moment openbabel: 0.5711923946289065, dipole mine: 0.07704521496211923 dipole true: 0.89\n",
      "SMILES: C#P, dipole_moment openbabel: 0.4586234404922043, dipole mine: nan dipole true: 0.39\n",
      "SMILES: CC=S, dipole_moment openbabel: 1.0949894411659469, dipole mine: 0.22773050340052758 dipole true: 2.1903\n"
     ]
    },
    {
     "name": "stderr",
     "output_type": "stream",
     "text": [
      "[18:45:35] UFFTYPER: Warning: hybridization set to SP3 for atom 1\n",
      "[18:45:35] UFFTYPER: Warning: hybridization set to SP3 for atom 1\n",
      " 71%|███████   | 583/826 [05:30<01:02,  3.90it/s][18:45:36] UFFTYPER: Warning: hybridization set to SP3 for atom 0\n",
      "[18:45:36] UFFTYPER: Unrecognized charge state for atom: 0\n",
      "[18:45:36] UFFTYPER: Warning: hybridization set to SP3 for atom 0\n",
      "[18:45:36] UFFTYPER: Unrecognized charge state for atom: 0\n",
      "[18:45:36] UFFTYPER: Unrecognized atom type: Kr3+4 (0)\n",
      "[18:45:36] UFFTYPER: Unrecognized atom type: Kr3+4 (0)\n",
      "[18:45:36] UFFTYPER: Warning: hybridization set to SP3 for atom 0\n",
      "[18:45:36] UFFTYPER: Unrecognized charge state for atom: 0\n",
      "[18:45:36] UFFTYPER: Warning: hybridization set to SP3 for atom 0\n",
      "[18:45:36] UFFTYPER: Unrecognized charge state for atom: 0\n",
      "[18:45:36] UFFTYPER: Unrecognized atom type: Ne3 (0)\n",
      "[18:45:36] UFFTYPER: Unrecognized atom type: Ne3 (0)\n",
      "[18:45:36] UFFTYPER: Unrecognized atom type: Ni5+2 (0)\n",
      "[18:45:36] UFFTYPER: Unrecognized atom type: Ni5+2 (0)\n",
      "[18:45:36] UFFTYPER: Unrecognized charge state for atom: 0\n",
      "[18:45:36] UFFTYPER: Unrecognized charge state for atom: 0\n",
      "[18:45:36] UFFTYPER: Unrecognized atom type: Ti1+4 (0)\n",
      "[18:45:36] UFFTYPER: Unrecognized atom type: Ti1+4 (0)\n",
      " 72%|███████▏  | 593/826 [05:31<00:24,  9.48it/s]"
     ]
    },
    {
     "name": "stdout",
     "output_type": "stream",
     "text": [
      "SMILES: OC(CC(O)=O)C(O)=O, dipole_moment openbabel: 1.71490669825866, dipole mine: 0.2913178169676888 dipole true: 3.118\n",
      "SMILES: [Al], dipole_moment openbabel: 0.0, dipole mine: 0.0 dipole true: 0.0\n",
      "SMILES: [Fe], dipole_moment openbabel: 0.0, dipole mine: 0.0 dipole true: 0.0\n",
      "SMILES: [Kr], dipole_moment openbabel: 0.0, dipole mine: 0.0 dipole true: 0.0\n",
      "SMILES: [Li], dipole_moment openbabel: 0.0, dipole mine: 0.0 dipole true: 0.0\n",
      "SMILES: [Mg++], dipole_moment openbabel: 0.0, dipole mine: 0.0 dipole true: 0.0\n",
      "SMILES: [Ne], dipole_moment openbabel: 0.0, dipole mine: 0.0 dipole true: 0.0\n",
      "SMILES: [Ni], dipole_moment openbabel: 0.0, dipole mine: 0.0 dipole true: 0.0\n",
      "SMILES: [Si], dipole_moment openbabel: 0.0, dipole mine: 0.0 dipole true: 0.0\n",
      "SMILES: [Na+], dipole_moment openbabel: 0.0, dipole mine: 0.0 dipole true: 0.0\n",
      "SMILES: [Ti], dipole_moment openbabel: 0.0, dipole mine: 0.0 dipole true: 0.0\n",
      "SMILES: [Ar], dipole_moment openbabel: 0.0, dipole mine: 0.0 dipole true: 0.0\n",
      "SMILES: [Be], dipole_moment openbabel: 0.0, dipole mine: 0.0 dipole true: 0.0\n",
      "SMILES: [B], dipole_moment openbabel: 0.0, dipole mine: 0.0 dipole true: 0.0\n",
      "SMILES: [C], dipole_moment openbabel: 0.0, dipole mine: 0.0 dipole true: 0.0\n",
      "SMILES: [Cr], dipole_moment openbabel: 0.0, dipole mine: 0.0 dipole true: 0.0\n",
      "SMILES: [Ge], dipole_moment openbabel: 0.0, dipole mine: 0.0 dipole true: 0.0\n",
      "SMILES: [He], dipole_moment openbabel: 0.0, dipole mine: 0.0 dipole true: 0.0\n",
      "SMILES: [Zn], dipole_moment openbabel: 0.0, dipole mine: 0.0 dipole true: 0.0\n"
     ]
    },
    {
     "name": "stderr",
     "output_type": "stream",
     "text": [
      "[18:45:36] UFFTYPER: Unrecognized atom type: Ar3+4 (0)\n",
      "[18:45:36] UFFTYPER: Unrecognized atom type: Ar3+4 (0)\n",
      "[18:45:36] UFFTYPER: Unrecognized atom type: Be1+2 (0)\n",
      "[18:45:36] UFFTYPER: Unrecognized atom type: Be1+2 (0)\n",
      "[18:45:36] UFFTYPER: Unrecognized atom type: Cr2+3 (0)\n",
      "[18:45:36] UFFTYPER: Unrecognized atom type: Cr2+3 (0)\n",
      "[18:45:36] UFFTYPER: Unrecognized atom type: He+4 (0)\n",
      "[18:45:36] UFFTYPER: Unrecognized atom type: He+4 (0)\n",
      "[18:45:36] UFFTYPER: Unrecognized charge state for atom: 0\n",
      "[18:45:36] UFFTYPER: Unrecognized atom type: Zn+2 (0)\n",
      "[18:45:36] UFFTYPER: Unrecognized charge state for atom: 0\n",
      "[18:45:36] UFFTYPER: Unrecognized atom type: Zn+2 (0)\n",
      "[18:45:36] UFFTYPER: Unrecognized atom type: Ca1+2 (0)\n",
      "[18:45:36] UFFTYPER: Unrecognized atom type: Ca1+2 (0)\n",
      " 73%|███████▎  | 602/826 [05:31<00:14, 15.55it/s][18:45:36] UFFTYPER: Unrecognized charge state for atom: 1\n",
      "[18:45:36] UFFTYPER: Unrecognized atom type: Se2+2 (1)\n",
      "[18:45:36] UFFTYPER: Unrecognized charge state for atom: 1\n",
      "[18:45:36] UFFTYPER: Unrecognized atom type: Se2+2 (1)\n",
      "[18:45:36] UFFTYPER: Unrecognized atom type: Se2+2 (1)\n",
      "[18:45:36] UFFTYPER: Unrecognized atom type: Se2+2 (1)\n",
      "[18:45:36] UFFTYPER: Warning: hybridization set to SP3 for atom 0\n",
      "[18:45:36] UFFTYPER: Unrecognized charge state for atom: 0\n",
      "[18:45:36] UFFTYPER: Warning: hybridization set to SP3 for atom 0\n",
      "[18:45:36] UFFTYPER: Unrecognized charge state for atom: 0\n",
      " 74%|███████▎  | 609/826 [05:31<00:10, 20.56it/s][18:45:36] WARNING: not removing hydrogen atom without neighbors\n",
      "[18:45:36] WARNING: not removing hydrogen atom without neighbors\n",
      "[18:45:36] WARNING: not removing hydrogen atom without neighbors\n",
      "[18:45:36] WARNING: not removing hydrogen atom without neighbors\n",
      "[18:45:36] WARNING: not removing hydrogen atom without neighbors\n",
      "[18:45:36] Explicit valence for atom # 1 Cl, 7, is greater than permitted\n",
      "[18:45:36] Explicit valence for atom # 1 Cl, 7, is greater than permitted\n",
      "[18:45:36] UFFTYPER: Warning: hybridization set to SP3 for atom 1\n",
      "[18:45:36] UFFTYPER: Warning: hybridization set to SP3 for atom 1\n"
     ]
    },
    {
     "name": "stdout",
     "output_type": "stream",
     "text": [
      "SMILES: [Ca], dipole_moment openbabel: 0.0, dipole mine: 0.0 dipole true: 0.0\n",
      "SMILES: O=[Se]=O, dipole_moment openbabel: 0.0, dipole mine: nan dipole true: 2.62\n",
      "SMILES: O=[S]=O, dipole_moment openbabel: 0.6384063245937223, dipole mine: 0.2199219177915117 dipole true: 1.63\n",
      "SMILES: O=[S](=O)=O, dipole_moment openbabel: 0.22984335307557827, dipole mine: 0.087038262761497 dipole true: 0.0\n",
      "SMILES: S=[Se], dipole_moment openbabel: 0.0, dipole mine: nan dipole true: 0.668\n",
      "SMILES: [Al+3].[Cl-].[Cl-].[Cl-], dipole_moment openbabel: 0.0, dipole mine: 0.0 dipole true: 0.0\n",
      "SMILES: [Cl-].[K+], dipole_moment openbabel: 0.0, dipole mine: 0.0 dipole true: 10.24\n",
      "SMILES: [Li+].[Cl-], dipole_moment openbabel: 0.0, dipole mine: 0.0 dipole true: 7.13\n",
      "SMILES: [Li+].[Br-], dipole_moment openbabel: 0.0, dipole mine: 0.0 dipole true: 7.23\n",
      "SMILES: [Li+].[H-], dipole_moment openbabel: 0.0, dipole mine: 0.0 dipole true: 5.88\n",
      "Problem with SMILES\n",
      "SMILES: O=[Si]=O, dipole_moment openbabel: 0.0, dipole mine: 0.1706919368251022 dipole true: 1.5189\n",
      "SMILES: FB(F)F, dipole_moment openbabel: 0.0, dipole mine: 0.1616324792275836 dipole true: 0.0\n"
     ]
    },
    {
     "name": "stderr",
     "output_type": "stream",
     "text": [
      " 74%|███████▍  | 615/826 [05:31<00:13, 15.18it/s][18:45:37] WARNING: not removing hydrogen atom without neighbors\n",
      "[18:45:37] WARNING: not removing hydrogen atom without neighbors\n",
      "[18:45:37] WARNING: not removing hydrogen atom without neighbors\n",
      "[18:45:37] WARNING: not removing hydrogen atom without neighbors\n",
      "[18:45:37] WARNING: not removing hydrogen atom without neighbors\n",
      "[18:45:37] UFFTYPER: Warning: hybridization set to SP3 for atom 1\n",
      "[18:45:37] UFFTYPER: Warning: hybridization set to SP3 for atom 1\n",
      " 75%|███████▍  | 619/826 [05:32<00:11, 17.31it/s]"
     ]
    },
    {
     "name": "stdout",
     "output_type": "stream",
     "text": [
      "SMILES: CC\\C=C/CC, dipole_moment openbabel: 0.2031165471117243, dipole mine: 0.029671401380904676 dipole true: 0.339\n",
      "SMILES: [H+].[Cl-], dipole_moment openbabel: 0.0, dipole mine: 0.0 dipole true: 1.08\n",
      "SMILES: [Na+].[Cl-], dipole_moment openbabel: 0.0, dipole mine: 0.0 dipole true: 9.0\n",
      "SMILES: [Na+].[Br-], dipole_moment openbabel: 0.0, dipole mine: 0.0 dipole true: 9.12\n",
      "SMILES: F[P](F)(F)(F)F, dipole_moment openbabel: 0.02101578821060809, dipole mine: nan dipole true: 0.0\n",
      "SMILES: [H+].[F-], dipole_moment openbabel: 0.0, dipole mine: 0.0 dipole true: 1.82\n",
      "SMILES: N, dipole_moment openbabel: 0.40488308287525354, dipole mine: 0.11324147693225613 dipole true: 1.7756\n",
      "SMILES: O[S](O)(=O)=O, dipole_moment openbabel: 3.851259577467989, dipole mine: 0.6388184605258479 dipole true: 2.72\n",
      "SMILES: [F-].[Na+], dipole_moment openbabel: 0.0, dipole mine: 0.0 dipole true: 8.16\n"
     ]
    },
    {
     "name": "stderr",
     "output_type": "stream",
     "text": [
      "[18:45:37] WARNING: not removing hydrogen atom without neighbors\n",
      "[18:45:37] WARNING: not removing hydrogen atom without neighbors\n",
      "[18:45:37] WARNING: not removing hydrogen atom without neighbors\n",
      "[18:45:37] WARNING: not removing hydrogen atom without neighbors\n",
      "[18:45:37] WARNING: not removing hydrogen atom without neighbors\n",
      " 76%|███████▌  | 624/826 [05:32<00:09, 20.84it/s][18:45:37] WARNING: not removing hydrogen atom without neighbors\n",
      "[18:45:37] WARNING: not removing hydrogen atom without neighbors\n",
      "[18:45:37] WARNING: not removing hydrogen atom without neighbors\n",
      "[18:45:37] WARNING: not removing hydrogen atom without neighbors\n",
      "[18:45:37] WARNING: not removing hydrogen atom without neighbors\n",
      " 76%|███████▌  | 629/826 [05:32<00:07, 24.85it/s]"
     ]
    },
    {
     "name": "stdout",
     "output_type": "stream",
     "text": [
      "SMILES: O[N+]([O-])=O, dipole_moment openbabel: 2.1400919151263946, dipole mine: 0.2862948293579153 dipole true: 2.17\n",
      "SMILES: [1H+].[Cl-], dipole_moment openbabel: 0.0, dipole mine: 0.0 dipole true: 1.5745\n",
      "SMILES: S, dipole_moment openbabel: 0.6571091768921089, dipole mine: 0.15570797302255462 dipole true: 1.5878\n",
      "SMILES: Cl[S](Cl)=O, dipole_moment openbabel: 1.8371554146700184, dipole mine: 0.3541585749770291 dipole true: 1.45\n",
      "SMILES: ClP(Cl)Cl, dipole_moment openbabel: 0.4423806934354447, dipole mine: 0.1252464248925956 dipole true: 0.78\n",
      "SMILES: OO, dipole_moment openbabel: 1.9826474893579555, dipole mine: 0.42953205722630083 dipole true: 1.77\n",
      "SMILES: [P], dipole_moment openbabel: 0.0, dipole mine: 0.0 dipole true: 0.0\n",
      "SMILES: [Br-], dipole_moment openbabel: 0.0, dipole mine: 0.0 dipole true: 0.0\n",
      "SMILES: N#N, dipole_moment openbabel: 0.0, dipole mine: 0.0 dipole true: 0.0\n",
      "SMILES: O, dipole_moment openbabel: 0.8670489130162496, dipole mine: 0.2262426692388731 dipole true: 2.1164\n",
      "SMILES: [K+].[Br-], dipole_moment openbabel: 0.0, dipole mine: 0.0 dipole true: 10.6\n",
      "SMILES: [Cl-].[Cu+], dipole_moment openbabel: 0.0, dipole mine: 0.0 dipole true: 6.4955\n",
      "SMILES: [2H][2H], dipole_moment openbabel: 0.0, dipole mine: 0.0 dipole true: 0.0\n",
      "SMILES: FF, dipole_moment openbabel: 0.0, dipole mine: 0.0 dipole true: 0.0\n"
     ]
    },
    {
     "name": "stderr",
     "output_type": "stream",
     "text": [
      "[18:45:37] UFFTYPER: Unrecognized charge state for atom: 0\n",
      "[18:45:37] UFFTYPER: Unrecognized charge state for atom: 0\n",
      "[18:45:37] UFFTYPER: Unrecognized atom type: Cu5+1 (0)\n",
      "[18:45:37] UFFTYPER: Unrecognized atom type: Cu5+1 (0)\n",
      " 77%|███████▋  | 637/826 [05:32<00:05, 33.44it/s][18:45:37] UFFTYPER: Unrecognized charge state for atom: 0\n",
      "[18:45:37] UFFTYPER: Unrecognized charge state for atom: 0\n",
      " 78%|███████▊  | 644/826 [05:32<00:04, 39.87it/s][18:45:37] UFFTYPER: Unrecognized atom type: S_5+4 (1)\n",
      "[18:45:37] UFFTYPER: Unrecognized atom type: S_5+4 (1)\n",
      "[18:45:37] SMILES Parse Error: syntax error while parsing: [F]|[U](|[F])(|[F])(|[F])(|[F])|[F]\n",
      "[18:45:37] SMILES Parse Error: Failed parsing SMILES '[F]|[U](|[F])(|[F])(|[F])(|[F])|[F]' for input: '[F]|[U](|[F])(|[F])(|[F])(|[F])|[F]'\n",
      "[18:45:37] SMILES Parse Error: syntax error while parsing: [F]|[U](|[F])(|[F])(|[F])(|[F])|[F]\n",
      "[18:45:37] SMILES Parse Error: Failed parsing SMILES '[F]|[U](|[F])(|[F])(|[F])(|[F])|[F]' for input: '[F]|[U](|[F])(|[F])(|[F])(|[F])|[F]'\n",
      "[18:45:37] UFFTYPER: Warning: hybridization set to SP3 for atom 0\n",
      "[18:45:37] UFFTYPER: Unrecognized charge state for atom: 0\n",
      "[18:45:37] UFFTYPER: Warning: hybridization set to SP3 for atom 0\n",
      "[18:45:37] UFFTYPER: Unrecognized charge state for atom: 0\n",
      "[18:45:37] WARNING: not removing hydrogen atom without neighbors\n",
      "[18:45:37] WARNING: not removing hydrogen atom without neighbors\n",
      "[18:45:37] UFFTYPER: Warning: hybridization set to SP3 for atom 0\n",
      "[18:45:37] UFFTYPER: Unrecognized charge state for atom: 0\n",
      "[18:45:37] WARNING: not removing hydrogen atom without neighbors\n",
      "[18:45:37] WARNING: not removing hydrogen atom without neighbors\n",
      "[18:45:37] UFFTYPER: Warning: hybridization set to SP3 for atom 0\n",
      "[18:45:37] UFFTYPER: Unrecognized charge state for atom: 0\n",
      "[18:45:37] WARNING: not removing hydrogen atom without neighbors\n",
      " 79%|███████▉  | 652/826 [05:32<00:03, 47.95it/s]"
     ]
    },
    {
     "name": "stdout",
     "output_type": "stream",
     "text": [
      "SMILES: O=O, dipole_moment openbabel: 0.0, dipole mine: 0.0 dipole true: 0.0\n",
      "SMILES: [Se], dipole_moment openbabel: 0.0, dipole mine: 0.0 dipole true: 0.63\n",
      "SMILES: ClCl, dipole_moment openbabel: 0.0, dipole mine: 0.0 dipole true: 0.0\n",
      "SMILES: [GeH4], dipole_moment openbabel: 0.0, dipole mine: nan dipole true: 0.063\n",
      "SMILES: [Li+].[NH2-], dipole_moment openbabel: 0.0, dipole mine: 0.20871178938861248 dipole true: 1.0182\n",
      "SMILES: [NH2-].[Na+], dipole_moment openbabel: 0.0, dipole mine: 0.20871178938861248 dipole true: 0.0616\n",
      "SMILES: FOF, dipole_moment openbabel: 0.062017104295939145, dipole mine: 0.015642543393459947 dipole true: 0.3\n",
      "SMILES: FOOF, dipole_moment openbabel: 0.08182622561721303, dipole mine: 0.017835859212421003 dipole true: 1.44\n",
      "SMILES: FN(F)F, dipole_moment openbabel: 0.3097377129750545, dipole mine: 0.0884335914309254 dipole true: 0.23\n",
      "SMILES: FP(F)F, dipole_moment openbabel: 0.8734005254316273, dipole mine: 0.2589405380248757 dipole true: 1.03\n",
      "SMILES: F[S](F)(F)F, dipole_moment openbabel: 1.1092614950625497, dipole mine: 0.34503878973592594 dipole true: 0.63\n",
      "SMILES: F[Si](F)(F)F, dipole_moment openbabel: 0.0, dipole mine: 0.013990587672499727 dipole true: 0.0\n",
      "Problem with SMILES\n",
      "SMILES: [F-].[F-].[F-].[Al+3], dipole_moment openbabel: 0.0, dipole mine: 0.0 dipole true: 0.0\n",
      "SMILES: [H-].[Al+3], dipole_moment openbabel: 0.0, dipole mine: 0.0 dipole true: 0.0\n"
     ]
    },
    {
     "name": "stderr",
     "output_type": "stream",
     "text": [
      "[18:45:37] UFFTYPER: Unrecognized charge state for atom: 0\n",
      "[18:45:37] UFFTYPER: Unrecognized charge state for atom: 0\n",
      "[18:45:37] UFFTYPER: Unrecognized atom type: Cu5+1 (0)\n",
      "[18:45:37] UFFTYPER: Unrecognized atom type: Cu5+1 (0)\n",
      "[18:45:37] Explicit valence for atom # 1 Br, 3, is greater than permitted\n",
      "[18:45:37] Explicit valence for atom # 1 Br, 3, is greater than permitted\n",
      "[18:45:37] Explicit valence for atom # 1 Br, 5, is greater than permitted\n",
      "[18:45:37] Explicit valence for atom # 1 Br, 5, is greater than permitted\n",
      " 80%|████████  | 664/826 [05:32<00:02, 63.69it/s][18:45:37] Explicit valence for atom # 1 Cl, 3, is greater than permitted\n",
      "[18:45:37] Explicit valence for atom # 1 Cl, 3, is greater than permitted\n"
     ]
    },
    {
     "name": "stdout",
     "output_type": "stream",
     "text": [
      "SMILES: F[As](F)F, dipole_moment openbabel: 0.0, dipole mine: nan dipole true: 2.59\n",
      "SMILES: [As], dipole_moment openbabel: 0.0, dipole mine: 0.0 dipole true: 0.2\n",
      "SMILES: [Cu+].[Br-], dipole_moment openbabel: 0.0, dipole mine: 0.0 dipole true: 5.5811\n",
      "Problem with SMILES\n",
      "SMILES: O([2H])[2H], dipole_moment openbabel: 0.8670489130162496, dipole mine: 0.2262426692388731 dipole true: 1.85\n",
      "SMILES: [F-].[K+], dipole_moment openbabel: 0.0, dipole mine: 0.0 dipole true: 8.56\n",
      "SMILES: [Li+].[F-], dipole_moment openbabel: 0.0, dipole mine: 0.0 dipole true: 6.28\n",
      "SMILES: FN=O, dipole_moment openbabel: 0.5499025026453327, dipole mine: 0.11848441272701729 dipole true: 1.81\n",
      "Problem with SMILES\n",
      "SMILES: BrI, dipole_moment openbabel: 0.08564248178987957, dipole mine: 0.0182153647771756 dipole true: 0.74\n",
      "SMILES: BrP(Br)Br, dipole_moment openbabel: 0.27807732138784136, dipole mine: 0.07772221267392924 dipole true: 0.61\n",
      "SMILES: FCl, dipole_moment openbabel: 0.8616326169537788, dipole mine: 0.19607599668775513 dipole true: 0.88\n",
      "Problem with SMILES\n",
      "SMILES: OCl, dipole_moment openbabel: 1.0434594776906045, dipole mine: 0.21869896152531587 dipole true: 1.3\n",
      "SMILES: Cl[S](Cl)(=O)=O, dipole_moment openbabel: 2.3828688116091628, dipole mine: 0.43243892515954 dipole true: 1.81\n",
      "SMILES: NO, dipole_moment openbabel: 1.5701082822668355, dipole mine: 0.3560122548639407 dipole true: 0.59\n",
      "SMILES: P, dipole_moment openbabel: 0.2741176677107968, dipole mine: 0.07138530084742775 dipole true: 1.2139\n",
      "SMILES: [O-][N+](F)=O, dipole_moment openbabel: 0.5263586032400474, dipole mine: 0.4967923785063447 dipole true: 0.5\n",
      "SMILES: [N-]=[N+]=O, dipole_moment openbabel: 0.9263078157277858, dipole mine: 0.537729783951786 dipole true: 0.17\n"
     ]
    },
    {
     "name": "stderr",
     "output_type": "stream",
     "text": [
      "[18:45:38] UFFTYPER: Unrecognized charge state for atom: 1\n",
      "[18:45:38] UFFTYPER: Unrecognized charge state for atom: 1\n",
      " 81%|████████▏ | 673/826 [05:32<00:02, 68.74it/s][18:45:38] UFFTYPER: Warning: hybridization set to SP3 for atom 1\n",
      "[18:45:38] UFFTYPER: Warning: hybridization set to SP3 for atom 1\n",
      "[18:45:38] Explicit valence for atom # 1 O, 4, is greater than permitted\n",
      "[18:45:38] Explicit valence for atom # 1 O, 4, is greater than permitted\n",
      "[18:45:38] WARNING: not removing hydrogen atom without neighbors\n",
      "[18:45:38] WARNING: not removing hydrogen atom without neighbors\n",
      "[18:45:38] WARNING: not removing hydrogen atom without neighbors\n",
      "[18:45:38] WARNING: not removing hydrogen atom without neighbors\n",
      "[18:45:38] WARNING: not removing hydrogen atom without neighbors\n",
      "[18:45:38] WARNING: not removing hydrogen atom without neighbors\n",
      "[18:45:38] WARNING: not removing hydrogen atom without neighbors\n",
      "[18:45:38] WARNING: not removing hydrogen atom without neighbors\n",
      "[18:45:38] WARNING: not removing hydrogen atom without neighbors\n",
      "[18:45:38] WARNING: not removing hydrogen atom without neighbors\n",
      "[18:45:38] UFFTYPER: Unrecognized atom type: B_ (0)\n",
      "[18:45:38] UFFTYPER: Unrecognized atom type: B_ (0)\n",
      " 82%|████████▏ | 681/826 [05:32<00:02, 70.43it/s][18:45:38] UFFTYPER: Unrecognized atom type: Ti+4 (0)\n",
      "[18:45:38] UFFTYPER: Unrecognized atom type: Ti+4 (0)\n",
      "[18:45:38] UFFTYPER: Unrecognized atom type: Ge1 (0)\n",
      "[18:45:38] UFFTYPER: Unrecognized atom type: Ge1 (0)\n",
      "[18:45:38] UFFTYPER: Warning: hybridization set to SP3 for atom 1\n",
      "[18:45:38] UFFTYPER: Unrecognized charge state for atom: 1\n",
      "[18:45:38] UFFTYPER: Warning: hybridization set to SP3 for atom 1\n",
      "[18:45:38] UFFTYPER: Unrecognized charge state for atom: 1\n"
     ]
    },
    {
     "name": "stdout",
     "output_type": "stream",
     "text": [
      "SMILES: Cl[Si](Cl)Cl, dipole_moment openbabel: 0.0, dipole mine: 0.2602491623066772 dipole true: 0.86\n",
      "SMILES: Cl[Si](Cl)(Cl)Cl, dipole_moment openbabel: 0.0, dipole mine: 0.0074905786788069025 dipole true: 0.0\n",
      "SMILES: Cl[P](Cl)(Cl)(Cl)Cl, dipole_moment openbabel: 0.008745443885852952, dipole mine: nan dipole true: 0.0\n",
      "Problem with SMILES\n",
      "SMILES: [3H][3H], dipole_moment openbabel: 0.0, dipole mine: 0.0 dipole true: 0.0\n",
      "SMILES: [H+].[I-], dipole_moment openbabel: 0.0, dipole mine: 0.0 dipole true: 0.45\n",
      "SMILES: [H+].[Br-], dipole_moment openbabel: 0.0, dipole mine: 0.0 dipole true: 0.83\n",
      "SMILES: FN(F)N(F)F, dipole_moment openbabel: 0.4202197684568842, dipole mine: 0.10921745892649445 dipole true: 0.3\n",
      "SMILES: B#N, dipole_moment openbabel: 0.0, dipole mine: nan dipole true: 4.5088\n",
      "SMILES: [O-][Cl]=O, dipole_moment openbabel: 0.6503590550116998, dipole mine: 0.40787115176281463 dipole true: 1.78\n",
      "SMILES: [Cl-].[Cl-].[Ti++], dipole_moment openbabel: 0.0, dipole mine: 0.0 dipole true: 0.7316\n",
      "SMILES: [Cl-].[Cl-].[Ge++], dipole_moment openbabel: 0.0, dipole mine: 0.0 dipole true: 1.8529\n",
      "SMILES: [O+]#[Si-], dipole_moment openbabel: 0.0, dipole mine: nan dipole true: 3.1\n",
      "SMILES: N=O, dipole_moment openbabel: 2.1428982028165637, dipole mine: 0.37864673744101573 dipole true: 1.67\n",
      "SMILES: [O-][N+]=O, dipole_moment openbabel: 0.5087816434309186, dipole mine: 0.24787057349734465 dipole true: 0.32\n",
      "SMILES: CNBr, dipole_moment openbabel: 1.1558949137230463, dipole mine: 0.1720490340061089 dipole true: 2.1622\n",
      "SMILES: ClB(Cl)Cl, dipole_moment openbabel: 0.0, dipole mine: 0.10790270839242137 dipole true: 0.0\n"
     ]
    },
    {
     "name": "stderr",
     "output_type": "stream",
     "text": [
      " 83%|████████▎ | 689/826 [05:33<00:01, 71.98it/s][18:45:38] UFFTYPER: Warning: hybridization set to SP3 for atom 0\n",
      "[18:45:38] UFFTYPER: Unrecognized charge state for atom: 0\n",
      "[18:45:38] UFFTYPER: Warning: hybridization set to SP3 for atom 0\n",
      "[18:45:38] UFFTYPER: Unrecognized charge state for atom: 0\n",
      "[18:45:38] UFFTYPER: Unrecognized charge state for atom: 0\n",
      "[18:45:38] UFFTYPER: Warning: hybridization set to SP3 for atom 0\n",
      "[18:45:38] UFFTYPER: Unrecognized charge state for atom: 0\n",
      "[18:45:38] UFFTYPER: Warning: hybridization set to SP3 for atom 0\n",
      "[18:45:38] UFFTYPER: Unrecognized charge state for atom: 0\n",
      "[18:45:38] UFFTYPER: Unrecognized charge state for atom: 0\n",
      "[18:45:38] UFFTYPER: Unrecognized atom type: Mn2+2 (0)\n",
      "[18:45:38] UFFTYPER: Unrecognized atom type: As1+3 (1)\n",
      "[18:45:38] UFFTYPER: Unrecognized atom type: Mn2+2 (0)\n",
      "[18:45:38] UFFTYPER: Unrecognized atom type: As1+3 (1)\n",
      " 84%|████████▍ | 697/826 [05:33<00:01, 69.82it/s]"
     ]
    },
    {
     "name": "stdout",
     "output_type": "stream",
     "text": [
      "SMILES: FNF, dipole_moment openbabel: 1.888504205288742, dipole mine: 0.331168034542014 dipole true: 1.9\n",
      "SMILES: [O-][N+](=O)[N+]([O-])=O, dipole_moment openbabel: 0.06258639001459546, dipole mine: 0.030475702233271115 dipole true: 0.0\n",
      "SMILES: [O-][N+](=O)N=O, dipole_moment openbabel: 0.6990116262764092, dipole mine: 0.579469407424784 dipole true: 2.12\n",
      "SMILES: ClSCl, dipole_moment openbabel: 0.25092153951404533, dipole mine: 0.06268952605435892 dipole true: 0.36\n",
      "SMILES: NCl, dipole_moment openbabel: 1.2092268003080693, dipole mine: 0.20609359311767075 dipole true: 2.2982\n",
      "SMILES: [O][O-], dipole_moment openbabel: 0.0, dipole mine: 0.2517818044210438 dipole true: 0.0\n",
      "SMILES: C.FF, dipole_moment openbabel: 0.006398275265120762, dipole mine: 0.0018634817477288458 dipole true: 4.1191\n",
      "SMILES: [AlH2+].[AlH2+].[S--], dipole_moment openbabel: 0.37228564652522494, dipole mine: nan dipole true: 2.179\n",
      "SMILES: [Mn]#[As], dipole_moment openbabel: 0.0, dipole mine: nan dipole true: 4.7914\n",
      "SMILES: [SiH2]=[Ca], dipole_moment openbabel: 0.0, dipole mine: nan dipole true: 5.2589\n",
      "SMILES: O=[Cr], dipole_moment openbabel: 0.0, dipole mine: nan dipole true: 6.5612\n",
      "SMILES: [SiH2]=[Fe]=[SiH2], dipole_moment openbabel: 0.0, dipole mine: nan dipole true: 3.4683\n",
      "SMILES: [GaH2]O[GaH2], dipole_moment openbabel: 0.0, dipole mine: nan dipole true: 7.0472\n",
      "SMILES: S=[Ge]=S, dipole_moment openbabel: 0.0, dipole mine: nan dipole true: 5.678\n"
     ]
    },
    {
     "name": "stderr",
     "output_type": "stream",
     "text": [
      "[18:45:38] UFFTYPER: Warning: hybridization set to SP3 for atom 0\n",
      "[18:45:38] UFFTYPER: Unrecognized atom type: Ca+2 (1)\n",
      "[18:45:38] UFFTYPER: Warning: hybridization set to SP3 for atom 0\n",
      "[18:45:38] UFFTYPER: Unrecognized atom type: Ca+2 (1)\n",
      "[18:45:38] UFFTYPER: Unrecognized atom type: Cr2+3 (1)\n",
      "[18:45:38] UFFTYPER: Unrecognized atom type: Cr2+3 (1)\n",
      "[18:45:38] UFFTYPER: Warning: hybridization set to SP3 for atom 0\n",
      "[18:45:38] UFFTYPER: Warning: hybridization set to SP3 for atom 2\n",
      "[18:45:38] UFFTYPER: Warning: hybridization set to SP3 for atom 0\n",
      "[18:45:38] UFFTYPER: Warning: hybridization set to SP3 for atom 2\n",
      "[18:45:38] UFFTYPER: Unrecognized atom type: Ga2+3 (0)\n",
      "[18:45:38] UFFTYPER: Unrecognized atom type: Ga2+3 (2)\n",
      "[18:45:38] UFFTYPER: Unrecognized atom type: Ga2+3 (0)\n",
      "[18:45:38] UFFTYPER: Unrecognized atom type: Ga2+3 (2)\n",
      "[18:45:38] UFFTYPER: Unrecognized atom type: Ge1 (1)\n",
      "[18:45:38] UFFTYPER: Unrecognized atom type: Ge1 (1)\n",
      "[18:45:38] UFFTYPER: Warning: hybridization set to SP3 for atom 2\n",
      "[18:45:38] UFFTYPER: Warning: hybridization set to SP3 for atom 2\n",
      "[18:45:38] UFFTYPER: Unrecognized atom type: Ti1+4 (1)\n",
      "[18:45:38] UFFTYPER: Unrecognized atom type: Ti1+4 (1)\n",
      " 85%|████████▌ | 705/826 [05:33<00:01, 66.67it/s][18:45:38] UFFTYPER: Warning: hybridization set to SP3 for atom 0\n",
      "[18:45:38] UFFTYPER: Unrecognized atom type: Ti1+4 (1)\n",
      "[18:45:38] UFFTYPER: Warning: hybridization set to SP3 for atom 2\n",
      "[18:45:38] UFFTYPER: Warning: hybridization set to SP3 for atom 0\n",
      "[18:45:38] UFFTYPER: Unrecognized atom type: Ti1+4 (1)\n",
      "[18:45:38] UFFTYPER: Warning: hybridization set to SP3 for atom 2\n",
      "[18:45:38] UFFTYPER: Unrecognized atom type: B_ (0)\n",
      "[18:45:38] UFFTYPER: Unrecognized atom type: Mn2+2 (1)\n",
      "[18:45:38] UFFTYPER: Unrecognized atom type: B_ (0)\n",
      "[18:45:38] UFFTYPER: Unrecognized atom type: Mn2+2 (1)\n",
      "[18:45:38] UFFTYPER: Unrecognized atom type: B_1 (1)\n",
      "[18:45:38] UFFTYPER: Unrecognized atom type: B_1 (1)\n",
      "[18:45:38] UFFTYPER: Unrecognized atom type: B_ (0)\n",
      "[18:45:38] UFFTYPER: Unrecognized atom type: V_1+5 (1)\n",
      "[18:45:38] UFFTYPER: Unrecognized atom type: B_ (0)\n",
      "[18:45:38] UFFTYPER: Unrecognized atom type: V_1+5 (1)\n",
      "[18:45:38] UFFTYPER: Unrecognized atom type: Cr2+3 (0)\n",
      "[18:45:38] UFFTYPER: Unrecognized atom type: Se2+2 (1)\n",
      "[18:45:38] UFFTYPER: Unrecognized atom type: Cr2+3 (0)\n",
      "[18:45:38] UFFTYPER: Unrecognized atom type: Se2+2 (1)\n",
      "[18:45:38] UFFTYPER: Warning: hybridization set to SP3 for atom 0\n",
      "[18:45:38] UFFTYPER: Unrecognized atom type: Ga+3 (1)\n",
      "[18:45:38] UFFTYPER: Warning: hybridization set to SP3 for atom 0\n",
      "[18:45:38] UFFTYPER: Unrecognized atom type: Ga+3 (1)\n",
      "[18:45:38] UFFTYPER: Unrecognized atom type: Se2+2 (0)\n",
      "[18:45:38] UFFTYPER: Unrecognized atom type: Ge1 (1)\n",
      "[18:45:38] UFFTYPER: Unrecognized atom type: Se2+2 (2)\n",
      "[18:45:38] UFFTYPER: Unrecognized atom type: Se2+2 (0)\n",
      "[18:45:38] UFFTYPER: Unrecognized atom type: Ge1 (1)\n",
      "[18:45:38] UFFTYPER: Unrecognized atom type: Se2+2 (2)\n",
      " 86%|████████▋ | 713/826 [05:33<00:01, 69.38it/s][18:45:38] UFFTYPER: Warning: hybridization set to SP3 for atom 0\n",
      "[18:45:38] UFFTYPER: Unrecognized atom type: V_1+5 (1)\n",
      "[18:45:38] UFFTYPER: Warning: hybridization set to SP3 for atom 0\n",
      "[18:45:38] UFFTYPER: Unrecognized atom type: V_1+5 (1)\n",
      "[18:45:38] UFFTYPER: Unrecognized atom type: Se2+2 (0)\n",
      "[18:45:38] UFFTYPER: Unrecognized atom type: Ti1+4 (1)\n",
      "[18:45:38] UFFTYPER: Unrecognized atom type: Se2+2 (2)\n",
      "[18:45:38] UFFTYPER: Unrecognized atom type: Se2+2 (0)\n",
      "[18:45:38] UFFTYPER: Unrecognized atom type: Ti1+4 (1)\n",
      "[18:45:38] UFFTYPER: Unrecognized atom type: Se2+2 (2)\n",
      "[18:45:38] UFFTYPER: Unrecognized charge state for atom: 0\n",
      "[18:45:38] UFFTYPER: Unrecognized charge state for atom: 0\n",
      "[18:45:38] UFFTYPER: Unrecognized charge state for atom: 0\n",
      "[18:45:38] UFFTYPER: Unrecognized charge state for atom: 0\n",
      "[18:45:38] UFFTYPER: Unrecognized atom type: Ti1+4 (1)\n",
      "[18:45:38] UFFTYPER: Unrecognized atom type: Ti1+4 (1)\n"
     ]
    },
    {
     "name": "stdout",
     "output_type": "stream",
     "text": [
      "SMILES: [N]=S, dipole_moment openbabel: 0.5922107268739981, dipole mine: 0.09205709048645822 dipole true: 1.81\n",
      "SMILES: ON=[SiH2], dipole_moment openbabel: 0.0, dipole mine: 0.3833328498502388 dipole true: 2.5698\n",
      "SMILES: S=[Ti]=S, dipole_moment openbabel: 0.0, dipole mine: nan dipole true: 8.198\n",
      "SMILES: [SiH2]=[Ti]=[SiH2], dipole_moment openbabel: 0.0, dipole mine: nan dipole true: 3.256\n",
      "SMILES: B#[Mn], dipole_moment openbabel: 0.0, dipole mine: nan dipole true: 4.059\n",
      "SMILES: SB=S, dipole_moment openbabel: 0.0, dipole mine: nan dipole true: 5.7183\n",
      "SMILES: B#[V], dipole_moment openbabel: 0.0, dipole mine: nan dipole true: 5.5721\n",
      "SMILES: [Cr]=[Se], dipole_moment openbabel: 0.0, dipole mine: nan dipole true: 10.5493\n",
      "SMILES: OF, dipole_moment openbabel: 1.6181623426542668, dipole mine: 0.29201416611808007 dipole true: 2.23\n",
      "SMILES: P#[Ga], dipole_moment openbabel: 0.0, dipole mine: nan dipole true: 3.5585\n",
      "SMILES: [Se]=[Ge]=[Se], dipole_moment openbabel: 0.0, dipole mine: nan dipole true: 4.519\n",
      "SMILES: P#[V], dipole_moment openbabel: 0.0, dipole mine: nan dipole true: 3.1738\n",
      "SMILES: [Se]=[Ti]=[Se], dipole_moment openbabel: 0.0, dipole mine: nan dipole true: 2.2643\n",
      "SMILES: [NH4+].[SH-], dipole_moment openbabel: 0.7430147023603053, dipole mine: 0.4368307598058146 dipole true: 3.8925\n",
      "SMILES: [NH4+].[Cl-], dipole_moment openbabel: 0.03318436724690768, dipole mine: 0.01368063091327714 dipole true: 3.427\n",
      "SMILES: [Li+].[Li+].[Se--], dipole_moment openbabel: 0.0, dipole mine: 0.0 dipole true: 7.766\n",
      "SMILES: O=[Ti], dipole_moment openbabel: 0.0, dipole mine: nan dipole true: 0.5539\n"
     ]
    },
    {
     "name": "stderr",
     "output_type": "stream",
     "text": [
      "[18:45:38] UFFTYPER: Warning: hybridization set to SP3 for atom 0\n",
      "[18:45:38] UFFTYPER: Warning: hybridization set to SP3 for atom 1\n",
      "[18:45:38] UFFTYPER: Warning: hybridization set to SP3 for atom 0\n",
      "[18:45:38] UFFTYPER: Warning: hybridization set to SP3 for atom 1\n",
      "[18:45:38] UFFTYPER: Warning: hybridization set to SP3 for atom 0\n",
      "[18:45:38] UFFTYPER: Warning: hybridization set to SP3 for atom 1\n",
      "[18:45:38] UFFTYPER: Warning: hybridization set to SP3 for atom 2\n",
      "[18:45:38] UFFTYPER: Warning: hybridization set to SP3 for atom 3\n",
      "[18:45:38] UFFTYPER: Warning: hybridization set to SP3 for atom 0\n",
      "[18:45:38] UFFTYPER: Warning: hybridization set to SP3 for atom 1\n",
      "[18:45:38] UFFTYPER: Warning: hybridization set to SP3 for atom 2\n",
      "[18:45:38] UFFTYPER: Warning: hybridization set to SP3 for atom 3\n",
      " 87%|████████▋ | 722/826 [05:33<00:01, 73.57it/s][18:45:38] UFFTYPER: Unrecognized atom type: Be+2 (0)\n",
      "[18:45:38] UFFTYPER: Unrecognized atom type: Se2+2 (1)\n",
      "[18:45:38] UFFTYPER: Unrecognized atom type: Be+2 (0)\n",
      "[18:45:38] UFFTYPER: Unrecognized atom type: Se2+2 (1)\n",
      "[18:45:38] UFFTYPER: Warning: hybridization set to SP3 for atom 0\n",
      "[18:45:38] UFFTYPER: Warning: hybridization set to SP3 for atom 0\n",
      " 88%|████████▊ | 730/826 [05:33<00:01, 72.70it/s][18:45:38] UFFTYPER: Warning: hybridization set to SP3 for atom 0\n",
      "[18:45:38] UFFTYPER: Warning: hybridization set to SP3 for atom 2\n",
      "[18:45:38] UFFTYPER: Warning: hybridization set to SP3 for atom 0\n",
      "[18:45:38] UFFTYPER: Warning: hybridization set to SP3 for atom 2\n"
     ]
    },
    {
     "name": "stdout",
     "output_type": "stream",
     "text": [
      "SMILES: [Li+].[Li+].[O--], dipole_moment openbabel: 0.0, dipole mine: 0.0 dipole true: 6.84\n",
      "SMILES: P#P, dipole_moment openbabel: 0.0, dipole mine: nan dipole true: 0.0\n",
      "SMILES: P12P3P1P23, dipole_moment openbabel: 0.0, dipole mine: 0.0 dipole true: 0.0\n",
      "SMILES: [NH4+].[C-]#N, dipole_moment openbabel: 0.945235357104011, dipole mine: 0.025835754264644798 dipole true: 6.4553\n",
      "SMILES: [Be]=[Se], dipole_moment openbabel: 0.0, dipole mine: nan dipole true: 6.6389\n",
      "SMILES: [AlH2]S, dipole_moment openbabel: 1.5909708248319172, dipole mine: 0.368832787910102 dipole true: 1.6242\n",
      "SMILES: N#[NH+], dipole_moment openbabel: 2.1668407833293566, dipole mine: 0.5002705006677038 dipole true: 3.1411\n",
      "SMILES: [H][H], dipole_moment openbabel: 0.0, dipole mine: 0.0 dipole true: 0.0\n",
      "SMILES: B[SiH3], dipole_moment openbabel: 0.0, dipole mine: 0.036081410289349206 dipole true: 0.719\n",
      "SMILES: [O]O[O-], dipole_moment openbabel: 0.0, dipole mine: 0.6989449904038058 dipole true: 1.0748\n",
      "SMILES: S=[S]=S, dipole_moment openbabel: 0.0, dipole mine: 0.0 dipole true: 0.3422\n",
      "SMILES: P=C=P, dipole_moment openbabel: 1.0979299149399717, dipole mine: 0.2581233276920552 dipole true: 1.9119\n"
     ]
    },
    {
     "name": "stderr",
     "output_type": "stream",
     "text": [
      "[18:45:38] UFFTYPER: Unrecognized atom type: B_1 (0)\n",
      "[18:45:38] UFFTYPER: Warning: hybridization set to SP3 for atom 2\n",
      "[18:45:39] UFFTYPER: Unrecognized atom type: B_1 (0)\n",
      "[18:45:39] UFFTYPER: Warning: hybridization set to SP3 for atom 2\n"
     ]
    },
    {
     "name": "stdout",
     "output_type": "stream",
     "text": [
      "SMILES: PC#C, dipole_moment openbabel: 0.6610104200956244, dipole mine: 0.11561959248304103 dipole true: 0.805\n",
      "SMILES: B=C=[SiH2], dipole_moment openbabel: 0.0, dipole mine: nan dipole true: 2.9052\n"
     ]
    },
    {
     "name": "stderr",
     "output_type": "stream",
     "text": [
      "[18:45:39] SMILES Parse Error: syntax error while parsing: [Cl-]|[NH+]([O-])=O\n",
      "[18:45:39] SMILES Parse Error: Failed parsing SMILES '[Cl-]|[NH+]([O-])=O' for input: '[Cl-]|[NH+]([O-])=O'\n",
      "[18:45:39] SMILES Parse Error: syntax error while parsing: [Cl-]|[NH+]([O-])=O\n",
      "[18:45:39] SMILES Parse Error: Failed parsing SMILES '[Cl-]|[NH+]([O-])=O' for input: '[Cl-]|[NH+]([O-])=O'\n",
      " 89%|████████▉ | 738/826 [05:34<00:02, 32.59it/s][18:45:39] UFFTYPER: Unrecognized atom type: Ni3+2 (0)\n",
      "[18:45:39] UFFTYPER: Unrecognized atom type: Ni3+2 (0)\n",
      "[18:45:39] UFFTYPER: Unrecognized atom type: Ti1+4 (1)\n",
      "[18:45:39] UFFTYPER: Unrecognized atom type: Ti1+4 (1)\n",
      "[18:45:39] UFFTYPER: Unrecognized charge state for atom: 0\n",
      "[18:45:39] UFFTYPER: Unrecognized charge state for atom: 0\n",
      "[18:45:39] UFFTYPER: Unrecognized atom type: Cu5+1 (0)\n",
      "[18:45:39] UFFTYPER: Unrecognized atom type: Cu5+1 (0)\n",
      "[18:45:39] WARNING: not removing hydrogen atom without neighbors\n",
      "[18:45:39] WARNING: not removing hydrogen atom without neighbors\n",
      "[18:45:39] WARNING: not removing hydrogen atom without neighbors\n",
      "[18:45:39] WARNING: not removing hydrogen atom without neighbors\n",
      "[18:45:39] WARNING: not removing hydrogen atom without neighbors\n",
      "[18:45:39] SMILES Parse Error: syntax error while parsing: [F]|[GeH3]\n",
      "[18:45:39] SMILES Parse Error: Failed parsing SMILES '[F]|[GeH3]' for input: '[F]|[GeH3]'\n",
      "[18:45:39] SMILES Parse Error: syntax error while parsing: [F]|[GeH3]\n",
      "[18:45:39] SMILES Parse Error: Failed parsing SMILES '[F]|[GeH3]' for input: '[F]|[GeH3]'\n",
      "[18:45:39] SMILES Parse Error: syntax error while parsing: [GeH3]|[Br]\n",
      "[18:45:39] SMILES Parse Error: Failed parsing SMILES '[GeH3]|[Br]' for input: '[GeH3]|[Br]'\n",
      "[18:45:39] SMILES Parse Error: syntax error while parsing: [GeH3]|[Br]\n",
      "[18:45:39] SMILES Parse Error: Failed parsing SMILES '[GeH3]|[Br]' for input: '[GeH3]|[Br]'\n",
      " 91%|█████████ | 749/826 [05:34<00:01, 43.85it/s]"
     ]
    },
    {
     "name": "stdout",
     "output_type": "stream",
     "text": [
      "SMILES: CC\\C=C\\CC, dipole_moment openbabel: 0.08353205600486131, dipole mine: 0.011817642841465047 dipole true: 0.0\n",
      "SMILES: B, dipole_moment openbabel: 0.0, dipole mine: 0.0015070831863921406 dipole true: 0.0\n",
      "SMILES: BrN=O, dipole_moment openbabel: 1.9344899145230732, dipole mine: 0.3502278221496874 dipole true: 0.4091\n",
      "Problem with SMILES\n",
      "SMILES: PP, dipole_moment openbabel: 0.3727181982304865, dipole mine: 0.08642955271740045 dipole true: 1.7845\n",
      "SMILES: [Ni++].[Br-].[Br-], dipole_moment openbabel: 0.0, dipole mine: 0.0 dipole true: 10.4556\n",
      "SMILES: O=[Ti]=O, dipole_moment openbabel: 0.0, dipole mine: nan dipole true: 7.3723\n",
      "SMILES: [SiH2]Cl, dipole_moment openbabel: 0.0, dipole mine: 0.4013456453255662 dipole true: 1.31\n",
      "SMILES: F[P](F)(F)=O, dipole_moment openbabel: 0.5914072660851672, dipole mine: 0.10877500841415302 dipole true: 1.76\n",
      "SMILES: [F-].[Cu+], dipole_moment openbabel: 0.0, dipole mine: 0.0 dipole true: 5.77\n",
      "SMILES: OBr, dipole_moment openbabel: 0.9360866301306545, dipole mine: 0.22944391640223383 dipole true: 1.38\n",
      "SMILES: [1H+].[Br-], dipole_moment openbabel: 0.0, dipole mine: 0.0 dipole true: 1.2028\n",
      "SMILES: S([2H])[2H], dipole_moment openbabel: 0.6571091768921089, dipole mine: 0.15570797302255462 dipole true: 1.4264\n",
      "Problem with SMILES\n",
      "Problem with SMILES\n",
      "SMILES: N[2H], dipole_moment openbabel: 0.40488308287525354, dipole mine: 0.11324147693225613 dipole true: 1.6909\n",
      "SMILES: [Al+].[Cl-], dipole_moment openbabel: 0.0, dipole mine: 0.0 dipole true: 2.3239\n",
      "SMILES: PPP, dipole_moment openbabel: 0.6199020980823284, dipole mine: 0.1282771229402057 dipole true: 1.2525\n",
      "Problem with SMILES\n",
      "SMILES: ClB(Cl)B(Cl)Cl, dipole_moment openbabel: 0.0, dipole mine: 0.23253006099795406 dipole true: 0.0\n"
     ]
    },
    {
     "name": "stderr",
     "output_type": "stream",
     "text": [
      "[18:45:39] UFFTYPER: Warning: hybridization set to SP3 for atom 0\n",
      "[18:45:39] UFFTYPER: Unrecognized charge state for atom: 0\n",
      "[18:45:39] UFFTYPER: Warning: hybridization set to SP3 for atom 0\n",
      "[18:45:39] UFFTYPER: Unrecognized charge state for atom: 0\n",
      "[18:45:39] SMILES Parse Error: syntax error while parsing: [Cl]|[GeH3]\n",
      "[18:45:39] SMILES Parse Error: Failed parsing SMILES '[Cl]|[GeH3]' for input: '[Cl]|[GeH3]'\n",
      "[18:45:39] SMILES Parse Error: syntax error while parsing: [Cl]|[GeH3]\n",
      "[18:45:39] SMILES Parse Error: Failed parsing SMILES '[Cl]|[GeH3]' for input: '[Cl]|[GeH3]'\n",
      "[18:45:39] UFFTYPER: Unrecognized atom type: Xe5+4 (1)\n",
      "[18:45:39] UFFTYPER: Unrecognized atom type: Xe5+4 (1)\n",
      "[18:45:39] UFFTYPER: Unrecognized atom type: Xe6+4 (1)\n",
      "[18:45:39] UFFTYPER: Unrecognized atom type: Xe6+4 (1)\n",
      " 92%|█████████▏| 757/826 [05:34<00:01, 48.71it/s][18:45:39] UFFTYPER: Warning: hybridization set to SP3 for atom 1\n",
      "[18:45:39] UFFTYPER: Warning: hybridization set to SP3 for atom 1\n",
      "[18:45:39] UFFTYPER: Unrecognized atom type: B_1 (1)\n",
      "[18:45:39] UFFTYPER: Unrecognized atom type: B_1 (2)\n",
      "[18:45:39] UFFTYPER: Unrecognized atom type: B_1 (1)\n",
      "[18:45:39] UFFTYPER: Unrecognized atom type: B_1 (2)\n",
      "[18:45:39] UFFTYPER: Unrecognized atom type: As2+3 (1)\n",
      "[18:45:39] UFFTYPER: Unrecognized atom type: As2+3 (1)\n",
      "[18:45:39] SMILES Parse Error: syntax error while parsing: [GeH2](|[Br])|[Br]\n",
      "[18:45:39] SMILES Parse Error: Failed parsing SMILES '[GeH2](|[Br])|[Br]' for input: '[GeH2](|[Br])|[Br]'\n",
      "[18:45:39] SMILES Parse Error: syntax error while parsing: [GeH2](|[Br])|[Br]\n",
      "[18:45:39] SMILES Parse Error: Failed parsing SMILES '[GeH2](|[Br])|[Br]' for input: '[GeH2](|[Br])|[Br]'\n",
      "[18:45:39] UFFTYPER: Unrecognized atom type: Kr5+4 (1)\n",
      "[18:45:39] UFFTYPER: Unrecognized atom type: Kr5+4 (1)\n",
      "[18:45:39] WARNING: not removing hydrogen atom without neighbors\n",
      "[18:45:39] WARNING: not removing hydrogen atom without neighbors\n",
      "[18:45:39] WARNING: not removing hydrogen atom without neighbors\n",
      "[18:45:39] WARNING: not removing hydrogen atom without neighbors\n",
      "[18:45:39] WARNING: not removing hydrogen atom without neighbors\n",
      " 93%|█████████▎| 767/826 [05:34<00:01, 58.39it/s][18:45:39] UFFTYPER: Unrecognized charge state for atom: 0\n",
      "[18:45:39] UFFTYPER: Unrecognized charge state for atom: 0\n",
      "[18:45:39] UFFTYPER: Unrecognized atom type: Ti+4 (0)\n",
      "[18:45:39] UFFTYPER: Unrecognized atom type: Ti+4 (0)\n"
     ]
    },
    {
     "name": "stdout",
     "output_type": "stream",
     "text": [
      "SMILES: FSSF, dipole_moment openbabel: 1.4694553648561128, dipole mine: 0.33922629508539365 dipole true: 1.45\n",
      "SMILES: F[Xe]F, dipole_moment openbabel: 0.0, dipole mine: nan dipole true: 0.0\n",
      "SMILES: F[Xe](F)(F)F, dipole_moment openbabel: 0.0, dipole mine: nan dipole true: 0.0\n",
      "SMILES: FBF, dipole_moment openbabel: 0.0, dipole mine: 0.5075678183460104 dipole true: 1.5083\n",
      "SMILES: S=[Si]=S, dipole_moment openbabel: 0.0, dipole mine: 0.07370945803170668 dipole true: 0.9794\n",
      "SMILES: S[2H], dipole_moment openbabel: 0.6571091768921089, dipole mine: 0.15570797302255462 dipole true: 1.4481\n",
      "SMILES: [GeH3], dipole_moment openbabel: 0.0, dipole mine: nan dipole true: 0.1695\n",
      "SMILES: O=BB=O, dipole_moment openbabel: 0.0, dipole mine: nan dipole true: 0.0\n",
      "SMILES: O[As]=O, dipole_moment openbabel: 0.0, dipole mine: nan dipole true: 2.6838\n",
      "SMILES: BF, dipole_moment openbabel: 0.0, dipole mine: 0.5201285696160342 dipole true: 0.5\n",
      "SMILES: Br[SiH2]Br, dipole_moment openbabel: 0.0, dipole mine: 0.36953356172073315 dipole true: 2.0042\n",
      "Problem with SMILES\n",
      "SMILES: F[Kr]F, dipole_moment openbabel: 0.0, dipole mine: nan dipole true: 2.1951\n",
      "SMILES: [H+].[Br-].NN, dipole_moment openbabel: 0.6169829772556727, dipole mine: 0.15322494189739713 dipole true: 2.7701\n",
      "SMILES: FN=NF, dipole_moment openbabel: 0.002906848769028056, dipole mine: 0.0006464048622920128 dipole true: 0.16\n",
      "SMILES: [S], dipole_moment openbabel: 0.0, dipole mine: 0.0 dipole true: 0.76\n",
      "SMILES: N([2H])[2H], dipole_moment openbabel: 0.40488308287525354, dipole mine: 0.11324147693225613 dipole true: 1.8856\n",
      "SMILES: P([2H])[2H], dipole_moment openbabel: 0.2741176677107968, dipole mine: 0.07138530084742775 dipole true: 1.2189\n",
      "SMILES: [F-].[F-].[Ti++], dipole_moment openbabel: 0.0, dipole mine: 0.0 dipole true: 9.4166\n",
      "SMILES: FSF, dipole_moment openbabel: 0.937561281932953, dipole mine: 0.24788230109728437 dipole true: 1.05\n"
     ]
    },
    {
     "name": "stderr",
     "output_type": "stream",
     "text": [
      " 94%|█████████▍| 776/826 [05:34<00:00, 64.73it/s][18:45:39] UFFTYPER: Unrecognized charge state for atom: 0\n",
      "[18:45:39] UFFTYPER: Unrecognized charge state for atom: 0\n",
      "[18:45:39] SMILES Parse Error: syntax error while parsing: [F]|[GeH2]|[F]\n",
      "[18:45:39] SMILES Parse Error: Failed parsing SMILES '[F]|[GeH2]|[F]' for input: '[F]|[GeH2]|[F]'\n",
      "[18:45:39] SMILES Parse Error: syntax error while parsing: [F]|[GeH2]|[F]\n",
      "[18:45:39] SMILES Parse Error: Failed parsing SMILES '[F]|[GeH2]|[F]' for input: '[F]|[GeH2]|[F]'\n"
     ]
    },
    {
     "name": "stdout",
     "output_type": "stream",
     "text": [
      "SMILES: N=[S]=O, dipole_moment openbabel: 1.6706273188170238, dipole mine: 0.289816562584666 dipole true: 1.4794\n",
      "SMILES: F[SiH2]F, dipole_moment openbabel: 0.0, dipole mine: 0.6812045729104578 dipole true: 2.1993\n",
      "SMILES: O=S, dipole_moment openbabel: 1.3177823930425356, dipole mine: 0.26385662672637006 dipole true: 1.55\n",
      "SMILES: [OH2+][B][O-], dipole_moment openbabel: 0.0, dipole mine: 1.6896734769933173 dipole true: 0.0\n",
      "SMILES: ClBr, dipole_moment openbabel: 0.35075917044610466, dipole mine: 0.07595020035548457 dipole true: 0.52\n",
      "SMILES: FBr, dipole_moment openbabel: 1.2538920454365938, dipole mine: 0.29102580695589464 dipole true: 1.42\n",
      "SMILES: [Na+].[O-][Cl]=O, dipole_moment openbabel: 0.0, dipole mine: 0.40787115176281474 dipole true: 4.8764\n",
      "SMILES: [SH], dipole_moment openbabel: 0.7694669423822559, dipole mine: 0.15618765496728956 dipole true: 0.76\n",
      "Problem with SMILES\n"
     ]
    },
    {
     "name": "stderr",
     "output_type": "stream",
     "text": [
      "[18:45:40] WARNING: not removing hydrogen atom without neighbors\n",
      "[18:45:40] WARNING: not removing hydrogen atom without neighbors\n",
      "[18:45:40] UFFTYPER: Unrecognized charge state for atom: 0\n",
      "[18:45:40] WARNING: not removing hydrogen atom without neighbors\n",
      "[18:45:40] WARNING: not removing hydrogen atom without neighbors\n",
      "[18:45:40] UFFTYPER: Unrecognized charge state for atom: 0\n",
      "[18:45:40] WARNING: not removing hydrogen atom without neighbors\n",
      " 95%|█████████▌| 785/826 [05:34<00:00, 47.12it/s][18:45:40] UFFTYPER: Unrecognized atom type: Ca+2 (0)\n",
      "[18:45:40] UFFTYPER: Unrecognized atom type: Ca+2 (0)\n",
      "[18:45:40] UFFTYPER: Warning: hybridization set to SP3 for atom 1\n",
      "[18:45:40] UFFTYPER: Unrecognized charge state for atom: 1\n",
      "[18:45:40] UFFTYPER: Warning: hybridization set to SP3 for atom 1\n",
      "[18:45:40] UFFTYPER: Unrecognized charge state for atom: 1\n",
      "[18:45:40] UFFTYPER: Unrecognized atom type: B_1 (0)\n",
      "[18:45:40] UFFTYPER: Unrecognized atom type: B_1 (0)\n",
      " 96%|█████████▌| 795/826 [05:35<00:00, 55.76it/s]"
     ]
    },
    {
     "name": "stdout",
     "output_type": "stream",
     "text": [
      "SMILES: CCC(C)N, dipole_moment openbabel: 0.741721276804402, dipole mine: 0.17261186118842875 dipole true: 1.28\n",
      "SMILES: FB(F)B(F)F, dipole_moment openbabel: 0.0, dipole mine: 0.29732884054933856 dipole true: 0.0\n",
      "SMILES: [F-].[Si].[H+], dipole_moment openbabel: 0.0, dipole mine: 0.0 dipole true: 1.23\n",
      "SMILES: F[Se]F, dipole_moment openbabel: 0.0, dipole mine: nan dipole true: 2.3721\n",
      "SMILES: [SiH3]S, dipole_moment openbabel: 0.0, dipole mine: 0.2603114129756361 dipole true: 1.6122\n",
      "SMILES: [Ca++], dipole_moment openbabel: 0.0, dipole mine: 0.0 dipole true: 0.0\n",
      "SMILES: BrSBr, dipole_moment openbabel: 0.01972493514045676, dipole mine: 0.004921569110830913 dipole true: 0.2627\n",
      "SMILES: [Li][Li], dipole_moment openbabel: 0.0, dipole mine: nan dipole true: 0.0\n",
      "SMILES: O=[P], dipole_moment openbabel: 1.856964696307249, dipole mine: 0.3923255020599087 dipole true: 1.88\n",
      "SMILES: Cl[Se]Cl, dipole_moment openbabel: 0.0, dipole mine: nan dipole true: 1.5206\n",
      "SMILES: B=S, dipole_moment openbabel: 0.0, dipole mine: nan dipole true: 1.3\n",
      "SMILES: BrNBr, dipole_moment openbabel: 0.809149035067618, dipole mine: 0.13692050157222033 dipole true: 1.4877\n",
      "SMILES: NBr, dipole_moment openbabel: 0.9339324752952597, dipole mine: 0.1580735150948521 dipole true: 2.1085\n",
      "SMILES: Cl[As]=O, dipole_moment openbabel: 0.0, dipole mine: nan dipole true: 5.5152\n",
      "SMILES: [O-][N+](=O)OCl, dipole_moment openbabel: 1.5473868683042467, dipole mine: 0.18058143589784306 dipole true: 0.77\n",
      "SMILES: [Ni++], dipole_moment openbabel: 0.0, dipole mine: 0.0 dipole true: 0.0\n",
      "SMILES: BN, dipole_moment openbabel: 0.0, dipole mine: 0.22290586660551062 dipole true: 2.5557\n",
      "SMILES: [F], dipole_moment openbabel: 0.0, dipole mine: 0.0 dipole true: 0.0\n"
     ]
    },
    {
     "name": "stderr",
     "output_type": "stream",
     "text": [
      "[18:45:40] UFFTYPER: Unrecognized atom type: As2+3 (1)\n",
      "[18:45:40] UFFTYPER: Unrecognized atom type: As2+3 (1)\n",
      "[18:45:40] UFFTYPER: Unrecognized atom type: Ni3+2 (0)\n",
      "[18:45:40] UFFTYPER: Unrecognized atom type: Ni3+2 (0)\n",
      " 97%|█████████▋| 803/826 [05:35<00:00, 57.23it/s][18:45:40] SMILES Parse Error: syntax error while parsing: [Cl]|[GeH2]|[Cl]\n",
      "[18:45:40] SMILES Parse Error: Failed parsing SMILES '[Cl]|[GeH2]|[Cl]' for input: '[Cl]|[GeH2]|[Cl]'\n",
      "[18:45:40] SMILES Parse Error: syntax error while parsing: [Cl]|[GeH2]|[Cl]\n",
      "[18:45:40] SMILES Parse Error: Failed parsing SMILES '[Cl]|[GeH2]|[Cl]' for input: '[Cl]|[GeH2]|[Cl]'\n",
      " 98%|█████████▊| 810/826 [05:35<00:00, 57.29it/s]"
     ]
    },
    {
     "name": "stdout",
     "output_type": "stream",
     "text": [
      "SMILES: [3H][H], dipole_moment openbabel: 0.0, dipole mine: 0.0 dipole true: 0.0\n",
      "SMILES: [O-][O-], dipole_moment openbabel: 0.0, dipole mine: 0.0 dipole true: 0.0\n",
      "SMILES: [GeH3]O[GeH3], dipole_moment openbabel: 0.0, dipole mine: nan dipole true: 1.6282\n",
      "SMILES: [SiH3][Se][SiH3], dipole_moment openbabel: 0.0, dipole mine: nan dipole true: 1.5206\n",
      "SMILES: O[2H], dipole_moment openbabel: 0.8670489130162496, dipole mine: 0.2262426692388731 dipole true: 1.85\n",
      "SMILES: O([3H])[3H], dipole_moment openbabel: 0.8670489130162496, dipole mine: 0.2262426692388731 dipole true: 2.1792\n",
      "SMILES: FPF, dipole_moment openbabel: 2.6533990466026136, dipole mine: 0.5113848421020177 dipole true: 2.2873\n",
      "SMILES: [O]Cl, dipole_moment openbabel: 0.7660859601911151, dipole mine: 0.1722157744322622 dipole true: 1.24\n",
      "SMILES: NN=N, dipole_moment openbabel: 2.2082386553583686, dipole mine: 0.4128643216828411 dipole true: 1.4085\n",
      "Problem with SMILES\n",
      "SMILES: [Fe++], dipole_moment openbabel: 0.0, dipole mine: 0.0 dipole true: 0.0\n",
      "SMILES: [SiH3][AsH2], dipole_moment openbabel: 0.0, dipole mine: nan dipole true: 1.0277\n"
     ]
    },
    {
     "name": "stderr",
     "output_type": "stream",
     "text": [
      "[18:45:40] UFFTYPER: Unrecognized atom type: Fe2+2 (0)\n",
      "[18:45:40] UFFTYPER: Unrecognized atom type: Fe2+2 (0)\n",
      "[18:45:40] UFFTYPER: Unrecognized atom type: Ti+4 (0)\n",
      "[18:45:40] UFFTYPER: Unrecognized atom type: Ti+4 (0)\n",
      "[18:45:40] UFFTYPER: Unrecognized atom type: Ti+4 (0)\n",
      "[18:45:40] UFFTYPER: Unrecognized atom type: Ti+4 (0)\n",
      "[18:45:40] UFFTYPER: Unrecognized atom type: Cr1+3 (0)\n",
      "[18:45:40] UFFTYPER: Unrecognized atom type: Cr1+3 (0)\n",
      " 99%|█████████▉| 817/826 [05:35<00:00, 55.31it/s]"
     ]
    },
    {
     "name": "stdout",
     "output_type": "stream",
     "text": [
      "SMILES: NF, dipole_moment openbabel: 1.927087835658791, dipole mine: 0.3469283029802215 dipole true: 2.4507\n",
      "SMILES: [Ti++], dipole_moment openbabel: 0.0, dipole mine: 0.0 dipole true: 0.0\n",
      "SMILES: [Ti+4], dipole_moment openbabel: 0.0, dipole mine: 0.0 dipole true: 0.0\n",
      "SMILES: [Cr+3], dipole_moment openbabel: 0.0, dipole mine: 0.0 dipole true: 0.0\n",
      "SMILES: C\\C=C/Cl, dipole_moment openbabel: 1.3725159297786231, dipole mine: 0.23764230979409806 dipole true: 1.67\n",
      "SMILES: C/C=C/Cl, dipole_moment openbabel: 1.5827813994382096, dipole mine: 0.2672438320449034 dipole true: 1.97\n",
      "SMILES: N(=O)[2H], dipole_moment openbabel: 2.1428982028165637, dipole mine: 0.37864673744101573 dipole true: 2.197\n",
      "SMILES: [SiH3]S[SiH3], dipole_moment openbabel: 0.0, dipole mine: 0.3305926870273254 dipole true: 1.7852\n"
     ]
    },
    {
     "name": "stderr",
     "output_type": "stream",
     "text": [
      "[18:45:40] UFFTYPER: Warning: hybridization set to SP3 for atom 0\n",
      "[18:45:40] UFFTYPER: Unrecognized charge state for atom: 0\n",
      "[18:45:40] UFFTYPER: Warning: hybridization set to SP3 for atom 0\n",
      "[18:45:40] UFFTYPER: Unrecognized charge state for atom: 0\n",
      "[18:45:40] UFFTYPER: Unrecognized charge state for atom: 0\n",
      "[18:45:40] UFFTYPER: Unrecognized charge state for atom: 1\n",
      "[18:45:40] UFFTYPER: Unrecognized charge state for atom: 0\n",
      "[18:45:40] UFFTYPER: Unrecognized charge state for atom: 1\n",
      "[18:45:40] UFFTYPER: Unrecognized atom type: Ni5+2 (0)\n",
      "[18:45:40] UFFTYPER: Unrecognized atom type: Ni5+2 (0)\n",
      "100%|██████████| 826/826 [05:35<00:00,  2.46it/s]"
     ]
    },
    {
     "name": "stdout",
     "output_type": "stream",
     "text": [
      "SMILES: [AlH++].[Cl-].[Cl-], dipole_moment openbabel: 0.7376918034121134, dipole mine: nan dipole true: 2.1049\n",
      "SMILES: CS[SiH3], dipole_moment openbabel: 0.0, dipole mine: 0.30749475701218765 dipole true: 1.8641\n",
      "SMILES: [S-][S-], dipole_moment openbabel: 0.0, dipole mine: 0.0 dipole true: 0.0\n",
      "SMILES: S.[Ni], dipole_moment openbabel: 0.0, dipole mine: 0.15570797302255462 dipole true: 8.5058\n",
      "SMILES: [O--], dipole_moment openbabel: 0.0, dipole mine: 0.0 dipole true: 0.0\n",
      "SMILES: [2H][H], dipole_moment openbabel: 0.0, dipole mine: 0.0 dipole true: 0.0\n"
     ]
    },
    {
     "name": "stderr",
     "output_type": "stream",
     "text": [
      "\n"
     ]
    }
   ],
   "source": [
    "import sys\n",
    "import os\n",
    "import math\n",
    "import pandas as pd\n",
    "from rdkit import Chem\n",
    "from openbabel import openbabel\n",
    "from openbabel import pybel\n",
    "\n",
    "from rdkit import Chem\n",
    "from rdkit.Chem import rdForceFieldHelpers\n",
    "from rdkit.Chem import AllChem, Descriptors\n",
    "import py3Dmol\n",
    "import numpy as np\n",
    "\n",
    "from tqdm import tqdm\n",
    "\n",
    "sys.path.insert(0, r'C:\\work\\DrugDiscovery\\main_git\\XAI_Chem\\ml_part\\molecule_features')\n",
    "from utils_3d import Molecule3DFeatures\n",
    "\n",
    "def find_conf_with_min_energy(mol):\n",
    "    optimization_result = rdForceFieldHelpers.MMFFOptimizeMoleculeConfs(mol)\n",
    "    \n",
    "    min_energy, min_energy_conf_index = pow(10,5), None\n",
    "    for index, (status, energy) in enumerate(optimization_result):\n",
    "        if energy < min_energy and status == 0:\n",
    "            min_energy_conf_index = index\n",
    "            min_energy = min(min_energy, energy)\n",
    "\n",
    "    return min_energy_conf_index, min_energy, mol\n",
    "\n",
    "def rdkit_to_openbabel(rdkit_mol):\n",
    "    sdf_writer = Chem.SDWriter('temp.sdf')\n",
    "    sdf_writer.write(rdkit_mol)\n",
    "    sdf_writer.close()\n",
    "\n",
    "    ob_mol = next(pybel.readfile('sdf', 'temp.sdf'))\n",
    "\n",
    "    return ob_mol.OBMol\n",
    "\n",
    "\n",
    "SMILES_list = smiles_to_dipole_moment.keys()\n",
    "\n",
    "smiles_index = 0\n",
    "for smiles_string in tqdm(SMILES_list):\n",
    "    try:\n",
    "        smiles_index += 1\n",
    "        # if smiles_index > 200:\n",
    "        #     break\n",
    "\n",
    "        molFeatures = Molecule3DFeatures(smiles=smiles_string)\n",
    "        dipole_moment_my_own = molFeatures.dipole_moment\n",
    "\n",
    "        if smiles_string == None:\n",
    "            continue\n",
    "        \n",
    "        mol = Chem.MolFromSmiles(smiles_string)\n",
    "\n",
    "        # mol = Chem.MolFromSmiles('FC(F)(C1(NC2)CC2C1)F')\n",
    "        mol = Chem.AddHs(mol)\n",
    "        rdForceFieldHelpers.MMFFSanitizeMolecule(mol)\n",
    "\n",
    "        num_rotatable_bonds = Descriptors.NumRotatableBonds(mol)\n",
    "        amount_of_confs = 100\n",
    "        AllChem.EmbedMultipleConfs(mol, numConfs=amount_of_confs, randomSeed=3407)\n",
    "        # for atom in mol.GetAtoms():\n",
    "        #     atom.SetAtomMapNum(atom.GetIdx())\n",
    "\n",
    "        ri = mol.GetRingInfo()\n",
    "\n",
    "        # min_energy_conf_index, min_energy, mol = find_conf_with_min_energy(mol)\n",
    "\n",
    "        mol = rdkit_to_openbabel(mol)\n",
    "\n",
    "        cm = openbabel.OBChargeModel.FindType('gasteiger')\n",
    "        cm.ComputeCharges(mol)\n",
    "        # but in C++ or Python we can get the dipole moment vector\n",
    "        dipole = cm.GetDipoleMoment(mol)\n",
    "        moment = math.sqrt(dipole.GetX()**2+dipole.GetY()**2+dipole.GetZ()**2)\n",
    "\n",
    "        print(f\"SMILES: {smiles_string}, dipole_moment openbabel: {moment}, dipole mine: {dipole_moment_my_own} dipole true: {smiles_to_dipole_moment[smiles_string]}\")\n",
    "        smiles_to_dipole_moment_openbabel[smiles_string] = moment\n",
    "        smiles_to_dipole_moment_centroid[smiles_string] = dipole_moment_my_own\n",
    "    except:\n",
    "        print(\"Problem with SMILES\")\n",
    "        continue"
   ]
  },
  {
   "cell_type": "code",
   "execution_count": 16,
   "metadata": {},
   "outputs": [],
   "source": [
    "import pandas as pd\n",
    "\n",
    "dict_for_df = {\"SMILES\": [],\n",
    "               \"true_dipole\": [],\n",
    "               \"dipole_openbabel\": [],\n",
    "               \"dipole_centroid\": []}\n",
    "for smiles, dipole in smiles_to_dipole_moment_centroid.items():\n",
    "    if pd.isnull(smiles_to_dipole_moment[smiles]) or pd.isnull(smiles_to_dipole_moment_openbabel[smiles]) or pd.isnull(smiles_to_dipole_moment_centroid[smiles]):\n",
    "        continue\n",
    "\n",
    "    if 'f' not in smiles.lower() and 'n' not in smiles.lower() and 'c' not in smiles.lower() :\n",
    "        continue\n",
    "\n",
    "    # if 'f' not in smiles.lower() or smiles not in SMILES:\n",
    "    #     continue\n",
    "\n",
    "    dict_for_df[\"SMILES\"].append(smiles)\n",
    "    dict_for_df[\"true_dipole\"].append(smiles_to_dipole_moment[smiles])\n",
    "    dict_for_df[\"dipole_openbabel\"].append(smiles_to_dipole_moment_openbabel[smiles])\n",
    "    dict_for_df[\"dipole_centroid\"].append(smiles_to_dipole_moment_centroid[smiles])\n",
    "\n",
    "df = pd.DataFrame(dict_for_df)"
   ]
  },
  {
   "cell_type": "code",
   "execution_count": 7,
   "metadata": {},
   "outputs": [],
   "source": [
    "SMILES = ['FC=C', 'FCF', 'CC(F)F', 'FC(F)=C', 'FC(Cl)Cl', 'FC(F)Cl',\n",
    "       'FC(F)F', 'FC(F)(Br)Br', 'FC(F)(F)Br', 'CC(F)(F)Cl',\n",
    "       'FC(Cl)(Cl)Cl', 'FC(F)(Cl)Cl', 'FC(F)(F)Cl', 'FC(F)(F)F',\n",
    "       'OC(=O)C(F)(F)F', 'FC(F)(Cl)C(F)(F)Cl', 'FC(F)(F)C(F)(F)Cl',\n",
    "       'FC(F)(F)C(F)(F)F', 'FC(F)(F)C(F)(F)C(F)(F)F',\n",
    "       'FC1(F)C(F)(F)C(F)(F)C1(F)F', 'FC(F)=C(F)F',\n",
    "       'FC(F)(F)C(F)(F)C(F)(F)C(F)(F)C(F)(F)C(F)(F)C(F)(F)C(F)(F)F',\n",
    "       'FC(F)(F)C(F)(F)C(F)(F)C(F)(F)C(F)(F)C(F)(F)C(F)(F)C(F)(F)C(F)(F)C(F)(F)F',\n",
    "       'FC(F)(F)C(F)(F)C(F)(F)C(F)(F)C(F)(F)C(F)(F)C(F)(F)F', 'CCF',\n",
    "       'FC(F)=O', 'NCC(F)(F)F', 'FC(F)C(F)(F)F',\n",
    "       'FC(F)(F)C(F)(F)C(F)(F)C(F)(F)C(F)(F)C(F)(F)F',\n",
    "       'FC1(F)C(F)(F)C(F)(F)C(F)(F)C(F)(F)C1(F)F', 'FC=C(F)F',\n",
    "       'FC(F)C(F)F', 'Fc1cccc(F)c1', 'FCBr', 'Fc1c(F)c(F)c(F)c(F)c1F',\n",
    "       'CC(F)(F)F', 'Fc1ccccc1', 'CC(F)=O', 'CF', 'FCCl', 'FCCF',\n",
    "       'FC(F)(F)C(F)(F)C(F)(F)C(F)(F)C(F)(F)F', '[Fe++].[S-][S-]', 'FC=O',\n",
    "       'FC#N', 'FC(F)Br', 'F\\\\C=C/F', 'F\\\\C=C\\\\F', 'FC(F)(F)I',\n",
    "       'F[S](F)(=O)=O', 'FC#C', '[F-].[Na+]', 'FF', 'FOF', 'FOOF',\n",
    "       'FN(F)F', 'FP(F)F', 'F[S](F)(F)F', 'F[Si](F)(F)F', '[F-].[K+]',\n",
    "       '[Li+].[F-]', 'FN=O', 'FCl', '[O-][N+](F)=O', 'FN(F)N(F)F', 'FNF',\n",
    "       'C.FF', 'OF', 'F[P](F)(F)=O', '[F-].[Cu+]', 'FSSF', 'FN=NF', 'FSF',\n",
    "       'F[SiH2]F', 'FBr', '[F]', 'FPF', '[Fe++]', 'NF']"
   ]
  },
  {
   "cell_type": "code",
   "execution_count": 29,
   "metadata": {},
   "outputs": [
    {
     "name": "stdout",
     "output_type": "stream",
     "text": [
      "SMILES: NC1CCCCC1, dipole_moment: 1.31, dipole babel: 0.7053995311909147, dipole own: 0.1691891933702287\n",
      "SMILES: C1CCNCC1, dipole_moment: 1.19, dipole babel: 0.7003072764006886, dipole own: 0.1487076303899343\n",
      "SMILES: NCC(F)(F)F, dipole_moment: 1.33, dipole babel: 2.222173076588417, dipole own: 0.3408077660848498\n",
      "SMILES: NC1CC1, dipole_moment: 1.19, dipole babel: 0.8373728389051304, dipole own: 0.19192143368007936\n",
      "SMILES: CCCCN, dipole_moment: 1.39, dipole babel: 0.6902250415943879, dipole own: 0.1631436244622368\n"
     ]
    }
   ],
   "source": [
    "EXCEL_PATH = r'C:\\work\\DrugDiscovery\\main_git\\XAI_Chem\\ml_part\\molecule_features\\pKa_Predicition_Starting data_2024.01.19.xlsx'\n",
    "\n",
    "df = pd.read_excel(EXCEL_PATH, sheet_name=\"Main_List\")\n",
    "\n",
    "for index, row in df.iterrows():\n",
    "    if row['Smiles'] in smiles_to_dipole_moment.keys():\n",
    "        print(f\"SMILES: {row['Smiles']}, dipole_moment: {smiles_to_dipole_moment[row['Smiles']]}, dipole babel: {smiles_to_dipole_moment_openbabel[row['Smiles']]}, dipole own: {smiles_to_dipole_moment_centroid[row['Smiles']]}\")"
   ]
  },
  {
   "cell_type": "code",
   "execution_count": 17,
   "metadata": {},
   "outputs": [
    {
     "name": "stdout",
     "output_type": "stream",
     "text": [
      "ShapiroResult(statistic=0.8398455381393433, pvalue=2.6285212675323107e-25)\n",
      "ShapiroResult(statistic=0.8983024954795837, pvalue=1.448439943048521e-20)\n",
      "ShapiroResult(statistic=0.8415530323982239, pvalue=3.4488214845738073e-25)\n"
     ]
    },
    {
     "data": {
      "text/html": [
       "<div>\n",
       "<style scoped>\n",
       "    .dataframe tbody tr th:only-of-type {\n",
       "        vertical-align: middle;\n",
       "    }\n",
       "\n",
       "    .dataframe tbody tr th {\n",
       "        vertical-align: top;\n",
       "    }\n",
       "\n",
       "    .dataframe thead th {\n",
       "        text-align: right;\n",
       "    }\n",
       "</style>\n",
       "<table border=\"1\" class=\"dataframe\">\n",
       "  <thead>\n",
       "    <tr style=\"text-align: right;\">\n",
       "      <th></th>\n",
       "      <th>true_dipole</th>\n",
       "      <th>dipole_openbabel</th>\n",
       "      <th>dipole_centroid</th>\n",
       "    </tr>\n",
       "  </thead>\n",
       "  <tbody>\n",
       "    <tr>\n",
       "      <th>true_dipole</th>\n",
       "      <td>1.000000</td>\n",
       "      <td>0.636014</td>\n",
       "      <td>0.644619</td>\n",
       "    </tr>\n",
       "    <tr>\n",
       "      <th>dipole_openbabel</th>\n",
       "      <td>0.636014</td>\n",
       "      <td>1.000000</td>\n",
       "      <td>0.887338</td>\n",
       "    </tr>\n",
       "    <tr>\n",
       "      <th>dipole_centroid</th>\n",
       "      <td>0.644619</td>\n",
       "      <td>0.887338</td>\n",
       "      <td>1.000000</td>\n",
       "    </tr>\n",
       "  </tbody>\n",
       "</table>\n",
       "</div>"
      ],
      "text/plain": [
       "                  true_dipole  dipole_openbabel  dipole_centroid\n",
       "true_dipole          1.000000          0.636014         0.644619\n",
       "dipole_openbabel     0.636014          1.000000         0.887338\n",
       "dipole_centroid      0.644619          0.887338         1.000000"
      ]
     },
     "execution_count": 17,
     "metadata": {},
     "output_type": "execute_result"
    }
   ],
   "source": [
    "from scipy.stats import shapiro\n",
    "\n",
    "print(shapiro(dict_for_df[\"true_dipole\"]))\n",
    "print(shapiro(dict_for_df[\"dipole_openbabel\"]))\n",
    "print(shapiro(dict_for_df[\"dipole_centroid\"]))\n",
    "\n",
    "df_for_corr = df[['true_dipole', 'dipole_openbabel', 'dipole_centroid']]\n",
    "df_for_corr.corr(method='spearman')"
   ]
  },
  {
   "cell_type": "code",
   "execution_count": null,
   "metadata": {},
   "outputs": [],
   "source": [
    "CASRN: 50-00-0, SMILES: C=O, dipole_moment: 2.33\n",
    "CASRN: 56-23-5, SMILES: ClC(Cl)(Cl)Cl, dipole_moment: 0.0\n",
    "CASRN: 56-40-6, SMILES: NCC(O)=O, dipole_moment: 1.09\n",
    "CASRN: 56-81-5, SMILES: OCC(O)CO, dipole_moment: 4.21\n",
    "CASRN: 57-13-6, SMILES: NC(N)=O, dipole_moment: 3.83\n",
    "CASRN: 57-55-6, SMILES: CC(O)CO, dipole_moment: 3.62988811742274\n",
    "CASRN: 57-57-8, SMILES: O=C1CCO1, dipole_moment: 4.18\n",
    "CASRN: 60-12-8, SMILES: OCCc1ccccc1, dipole_moment: 1.65\n",
    "CASRN: 60-29-7, SMILES: CCOCC, dipole_moment: 1.15\n",
    "CASRN: 60-34-4, SMILES: CNN, dipole_moment: 1.6294\n",
    "CASRN: 60-35-5, SMILES: CC(N)=O, dipole_moment: 3.76\n",
    "CASRN: 62-53-3, SMILES: Nc1ccccc1, dipole_moment: 1.53\n",
    "CASRN: 64-17-5, SMILES: CCO, dipole_moment: 1.44\n",
    "CASRN: 64-18-6, SMILES: OC=O, dipole_moment: 1.41\n",
    "CASRN: 64-19-7, SMILES: CC(O)=O, dipole_moment: 1.7\n",
    "CASRN: 65-85-0, SMILES: OC(=O)c1ccccc1, dipole_moment: 1.0\n",
    "CASRN: 67-56-1, SMILES: CO, dipole_moment: 1.7\n",
    "CASRN: 67-62-9, SMILES: [Cl-].CO[NH3+], dipole_moment: 2.7183\n",
    "CASRN: 67-63-0, SMILES: CC(C)O, dipole_moment: 1.58\n",
    "CASRN: 67-64-1, SMILES: CC(C)=O, dipole_moment: 2.88\n",
    "CASRN: 67-66-3, SMILES: ClC(Cl)Cl, dipole_moment: 1.01\n",
    "CASRN: 67-68-5, SMILES: C[S](C)=O, dipole_moment: 3.96\n",
    "CASRN: 67-71-0, SMILES: C[S](C)(=O)=O, dipole_moment: 4.49\n",
    "CASRN: 67-72-1, SMILES: ClC(Cl)(Cl)C(Cl)(Cl)Cl, dipole_moment: 0.0\n",
    "CASRN: 68-12-2, SMILES: CN(C)C=O, dipole_moment: 3.82\n",
    "CASRN: 69-72-7, SMILES: OC(=O)c1ccccc1O, dipole_moment: 2.65\n",
    "CASRN: 71-23-8, SMILES: CCCO, dipole_moment: 1.55\n",
    "CASRN: 71-36-3, SMILES: CCCCO, dipole_moment: 1.66\n",
    "CASRN: 71-41-0, SMILES: CCCCCO, dipole_moment: 1.70000359751052\n",
    "CASRN: 71-43-2, SMILES: c1ccccc1, dipole_moment: 0.0\n",
    "CASRN: 71-55-6, SMILES: CC(Cl)(Cl)Cl, dipole_moment: 1.78\n",
    "CASRN: 74-82-8, SMILES: C, dipole_moment: 0.0\n",
    "CASRN: 74-83-9, SMILES: CBr, dipole_moment: 1.81\n",
    "CASRN: 74-84-0, SMILES: CC, dipole_moment: 0.0\n",
    "CASRN: 74-85-1, SMILES: C=C, dipole_moment: 0.0\n",
    "CASRN: 74-86-2, SMILES: C#C, dipole_moment: 0.0\n",
    "CASRN: 74-87-3, SMILES: CCl, dipole_moment: 1.87\n",
    "CASRN: 74-88-4, SMILES: CI, dipole_moment: 1.62\n",
    "CASRN: 74-89-5, SMILES: CN, dipole_moment: 1.31\n",
    "CASRN: 74-90-8, SMILES: C#N, dipole_moment: 2.98\n",
    "CASRN: 74-93-1, SMILES: CS, dipole_moment: 1.52\n",
    "CASRN: 74-95-3, SMILES: BrCBr, dipole_moment: 1.43\n",
    "CASRN: 74-96-4, SMILES: CCBr, dipole_moment: 2.03\n",
    "CASRN: 74-97-5, SMILES: ClCBr, dipole_moment: 2.0001\n",
    "CASRN: 74-98-6, SMILES: CCC, dipole_moment: 0.08\n",
    "CASRN: 74-99-7, SMILES: CC#C, dipole_moment: 0.78\n",
    "CASRN: 75-00-3, SMILES: CCCl, dipole_moment: 2.05\n",
    "CASRN: 75-01-4, SMILES: ClC=C, dipole_moment: 1.45\n",
    "CASRN: 75-02-5, SMILES: FC=C, dipole_moment: 1.43\n",
    "CASRN: 75-04-7, SMILES: CCN, dipole_moment: 1.22\n",
    "CASRN: 75-05-8, SMILES: CC#N, dipole_moment: 3.92\n",
    "CASRN: 75-07-0, SMILES: CC=O, dipole_moment: 2.69\n",
    "CASRN: 75-08-1, SMILES: CCS, dipole_moment: 1.52\n",
    "CASRN: 75-09-2, SMILES: ClCCl, dipole_moment: 1.6\n",
    "CASRN: 75-10-5, SMILES: FCF, dipole_moment: 1.97\n",
    "CASRN: 75-12-7, SMILES: NC=O, dipole_moment: 3.73\n",
    "CASRN: 75-15-0, SMILES: S=C=S, dipole_moment: 0.0\n",
    "CASRN: 75-18-3, SMILES: CSC, dipole_moment: 1.5\n",
    "CASRN: 75-19-4, SMILES: C1CC1, dipole_moment: 0.0\n",
    "CASRN: 75-21-8, SMILES: C1CO1, dipole_moment: 1.89\n",
    "CASRN: 75-25-2, SMILES: BrC(Br)Br, dipole_moment: 0.99\n",
    "CASRN: 75-26-3, SMILES: CC(C)Br, dipole_moment: 2.21\n",
    "CASRN: 75-28-5, SMILES: CC(C)C, dipole_moment: 0.13\n",
    "CASRN: 75-29-6, SMILES: CC(C)Cl, dipole_moment: 2.17\n",
    "CASRN: 75-31-0, SMILES: CC(C)N, dipole_moment: 1.19\n",
    "CASRN: 75-34-3, SMILES: CC(Cl)Cl, dipole_moment: 2.06\n",
    "CASRN: 75-35-4, SMILES: ClC(Cl)=C, dipole_moment: 1.34\n",
    "CASRN: 75-36-5, SMILES: CC(Cl)=O, dipole_moment: 2.72\n",
    "CASRN: 75-37-6, SMILES: CC(F)F, dipole_moment: 2.27\n",
    "CASRN: 75-38-7, SMILES: FC(F)=C, dipole_moment: 1.38\n",
    "CASRN: 75-43-4, SMILES: FC(Cl)Cl, dipole_moment: 1.29\n",
    "CASRN: 75-44-5, SMILES: ClC(Cl)=O, dipole_moment: 1.17\n",
    "CASRN: 75-45-6, SMILES: FC(F)Cl, dipole_moment: 1.4\n",
    "CASRN: 75-46-7, SMILES: FC(F)F, dipole_moment: 1.65\n",
    "CASRN: 75-50-3, SMILES: CN(C)C, dipole_moment: 0.61\n",
    "CASRN: 75-52-5, SMILES: C[N+]([O-])=O, dipole_moment: 3.46\n",
    "CASRN: 75-56-9, SMILES: CC1CO1, dipole_moment: 2.01\n",
    "CASRN: 75-61-6, SMILES: FC(F)(Br)Br, dipole_moment: 0.66\n",
    "CASRN: 75-63-8, SMILES: FC(F)(F)Br, dipole_moment: 0.64\n",
    "CASRN: 75-65-0, SMILES: CC(C)(C)O, dipole_moment: 1.74\n",
    "CASRN: 75-68-3, SMILES: CC(F)(F)Cl, dipole_moment: 2.14\n",
    "CASRN: 75-69-4, SMILES: FC(Cl)(Cl)Cl, dipole_moment: 0.45\n",
    "CASRN: 75-71-8, SMILES: FC(F)(Cl)Cl, dipole_moment: 0.51\n",
    "CASRN: 75-72-9, SMILES: FC(F)(F)Cl, dipole_moment: 0.5\n",
    "CASRN: 75-73-0, SMILES: FC(F)(F)F, dipole_moment: 0.0\n",
    "CASRN: 75-76-3, SMILES: C[Si](C)(C)C, dipole_moment: 0.0\n",
    "CASRN: 75-83-2, SMILES: CCC(C)(C)C, dipole_moment: 0.0\n",
    "CASRN: 75-85-4, SMILES: CCC(C)(C)O, dipole_moment: 1.70000359751052\n",
    "CASRN: 76-01-7, SMILES: ClC(Cl)C(Cl)(Cl)Cl, dipole_moment: 0.92\n",
    "CASRN: 76-05-1, SMILES: OC(=O)C(F)(F)F, dipole_moment: 2.28\n",
    "CASRN: 76-14-2, SMILES: FC(F)(Cl)C(F)(F)Cl, dipole_moment: 0.56\n",
    "CASRN: 76-15-3, SMILES: FC(F)(F)C(F)(F)Cl, dipole_moment: 0.52\n",
    "CASRN: 76-16-4, SMILES: FC(F)(F)C(F)(F)F, dipole_moment: 0.0\n",
    "CASRN: 76-19-7, SMILES: FC(F)(F)C(F)(F)C(F)(F)F, dipole_moment: 0.0\n",
    "CASRN: 78-75-1, SMILES: CC(Br)CBr, dipole_moment: 1.24\n",
    "CASRN: 78-76-2, SMILES: CCC(C)Br, dipole_moment: 2.23\n",
    "CASRN: 78-78-4, SMILES: CCC(C)C, dipole_moment: 0.13\n",
    "CASRN: 78-79-5, SMILES: CC(=C)C=C, dipole_moment: 0.25\n",
    "CASRN: 78-80-8, SMILES: CC(=C)C#C, dipole_moment: 0.51\n",
    "CASRN: 78-81-9, SMILES: CC(C)CN, dipole_moment: 1.27\n",
    "CASRN: 78-83-1, SMILES: CC(C)CO, dipole_moment: 1.64\n",
    "CASRN: 78-85-3, SMILES: CC(=C)C=O, dipole_moment: 2.68\n",
    "CASRN: 78-86-4, SMILES: CCC(C)Cl, dipole_moment: 2.04\n",
    "CASRN: 78-87-5, SMILES: CC(Cl)CCl, dipole_moment: 1.17\n",
    "CASRN: 78-92-2, SMILES: CCC(C)O, dipole_moment: 1.7\n",
    "CASRN: 78-93-3, SMILES: CCC(C)=O, dipole_moment: 2.78\n",
    "CASRN: 78-99-9, SMILES: CCC(Cl)Cl, dipole_moment: 2.081\n",
    "CASRN: 79-00-5, SMILES: ClCC(Cl)Cl, dipole_moment: 1.5\n",
    "CASRN: 79-01-6, SMILES: ClC=C(Cl)Cl, dipole_moment: 0.77\n",
    "CASRN: 79-09-4, SMILES: CCC(O)=O, dipole_moment: 1.751\n",
    "CASRN: 79-10-7, SMILES: OC(=O)C=C, dipole_moment: 1.4599896871365\n",
    "CASRN: 79-11-8, SMILES: OC(=O)CCl, dipole_moment: 2.31\n",
    "CASRN: 79-20-9, SMILES: COC(C)=O, dipole_moment: 1.72\n",
    "CASRN: 79-24-3, SMILES: CC[N+]([O-])=O, dipole_moment: 3.65\n",
    "CASRN: 79-27-6, SMILES: BrC(Br)C(Br)Br, dipole_moment: 1.3\n",
    "CASRN: 79-29-8, SMILES: CC(C)C(C)C, dipole_moment: 0.2\n",
    "CASRN: 79-31-2, SMILES: CC(C)C(O)=O, dipole_moment: 1.09\n",
    "CASRN: 79-34-5, SMILES: ClC(Cl)C(Cl)Cl, dipole_moment: 1.29\n",
    "CASRN: 79-41-4, SMILES: CC(=C)C(O)=O, dipole_moment: 1.64999820124474\n",
    "CASRN: 79-46-9, SMILES: CC(C)[N+]([O-])=O, dipole_moment: 3.73\n",
    "CASRN: 80-62-6, SMILES: COC(=O)C(C)=C, dipole_moment: 1.96999676224053\n",
    "CASRN: 83-32-9, SMILES: C1Cc2cccc3cccc1c23, dipole_moment: 0.254823662025878\n",
    "CASRN: 84-66-2, SMILES: CCOC(=O)c1ccccc1C(=O)OCC, dipole_moment: 2.90001319087192\n",
    "CASRN: 85-01-8, SMILES: c1ccc2c(c1)ccc3ccccc23, dipole_moment: 0.0\n",
    "CASRN: 88-74-4, SMILES: Nc1ccccc1[N+]([O-])=O, dipole_moment: 4.06\n",
    "CASRN: 88-99-3, SMILES: OC(=O)c1ccccc1C(O)=O, dipole_moment: 2.6\n",
    "CASRN: 90-12-0, SMILES: Cc1cccc2ccccc12, dipole_moment: 0.5\n",
    "CASRN: 91-20-3, SMILES: c1ccc2ccccc2c1, dipole_moment: 0.0\n",
    "CASRN: 91-22-5, SMILES: c1ccc2ncccc2c1, dipole_moment: 2.3\n",
    "CASRN: 91-57-6, SMILES: Cc1ccc2ccccc2c1, dipole_moment: 0.4\n",
    "CASRN: 92-52-4, SMILES: c1ccc(cc1)c2ccccc2, dipole_moment: 0.0\n",
    "CASRN: 92-67-1, SMILES: Nc1ccc(cc1)c2ccccc2, dipole_moment: 1.76\n",
    "CASRN: 92-94-4, SMILES: c1ccc(cc1)c2ccc(cc2)c3ccccc3, dipole_moment: 0.7\n",
    "CASRN: 93-58-3, SMILES: COC(=O)c1ccccc1, dipole_moment: 2.53000923361034\n",
    "CASRN: 95-47-6, SMILES: Cc1ccccc1C, dipole_moment: 0.629564341475699\n",
    "CASRN: 95-48-7, SMILES: Cc1ccccc1O, dipole_moment: 1.45099591082971\n",
    "CASRN: 95-65-8, SMILES: Cc1ccc(O)cc1C, dipole_moment: 1.7\n",
    "CASRN: 95-87-4, SMILES: Cc1ccc(C)c(O)c1, dipole_moment: 1.5\n",
    "CASRN: 95-93-2, SMILES: Cc1cc(C)c(C)cc1C, dipole_moment: 0.0\n",
    "CASRN: 96-22-0, SMILES: CCC(=O)CC, dipole_moment: 2.7\n",
    "CASRN: 96-37-7, SMILES: CC1CCCC1, dipole_moment: 0.0\n",
    "CASRN: 96-48-0, SMILES: O=C1CCCO1, dipole_moment: 3.82\n",
    "CASRN: 96-49-1, SMILES: O=C1OCCO1, dipole_moment: 4.51007902531448\n",
    "CASRN: 97-62-1, SMILES: CCOC(=O)C(C)C, dipole_moment: 2.1\n",
    "CASRN: 97-63-2, SMILES: CCOC(=O)C(C)=C, dipole_moment: 2.14999220539387\n",
    "CASRN: 97-64-3, SMILES: CCOC(=O)C(C)O, dipole_moment: 2.39998920746843\n",
    "CASRN: 97-99-4, SMILES: OCC1CCCO1, dipole_moment: 2.12001295103788\n",
    "CASRN: 98-01-1, SMILES: O=Cc1occc1, dipole_moment: 3.54\n",
    "CASRN: 98-82-8, SMILES: CC(C)c1ccccc1, dipole_moment: 0.8\n",
    "CASRN: 98-86-2, SMILES: CC(=O)c1ccccc1, dipole_moment: 3.02\n",
    "CASRN: 98-95-3, SMILES: [O-][N+](=O)c1ccccc1, dipole_moment: 4.22\n",
    "CASRN: 99-08-1, SMILES: Cc1cccc(c1)[N+]([O-])=O, dipole_moment: 4.23\n",
    "CASRN: 99-09-2, SMILES: Nc1cccc(c1)[N+]([O-])=O, dipole_moment: 4.9\n",
    "CASRN: 99-65-0, SMILES: [O-][N+](=O)c1cccc(c1)[N+]([O-])=O, dipole_moment: 3.837\n",
    "CASRN: 99-87-6, SMILES: CC(C)c1ccc(C)cc1, dipole_moment: 0.0\n",
    "CASRN: 99-99-0, SMILES: Cc1ccc(cc1)[N+]([O-])=O, dipole_moment: 4.44\n",
    "CASRN: 100-21-0, SMILES: OC(=O)c1ccc(cc1)C(O)=O, dipole_moment: 2.60219927809955\n",
    "CASRN: 100-25-4, SMILES: [O-][N+](=O)c1ccc(cc1)[N+]([O-])=O, dipole_moment: 0.0\n",
    "CASRN: 100-41-4, SMILES: CCc1ccccc1, dipole_moment: 0.59\n",
    "CASRN: 100-46-9, SMILES: NCc1ccccc1, dipole_moment: 1.38\n",
    "CASRN: 100-47-0, SMILES: N#Cc1ccccc1, dipole_moment: 4.18\n",
    "CASRN: 100-51-6, SMILES: OCc1ccccc1, dipole_moment: 1.7\n",
    "CASRN: 100-52-7, SMILES: O=Cc1ccccc1, dipole_moment: 3.14\n",
    "CASRN: 100-66-3, SMILES: COc1ccccc1, dipole_moment: 1.26\n",
    "CASRN: 101-81-5, SMILES: C(c1ccccc1)c2ccccc2, dipole_moment: 0.4\n",
    "CASRN: 104-51-8, SMILES: CCCCc1ccccc1, dipole_moment: 0.4\n",
    "CASRN: 104-76-7, SMILES: CCCCC(CC)CO, dipole_moment: 1.8\n",
    "CASRN: 105-05-5, SMILES: CCc1ccc(CC)cc1, dipole_moment: 0.0\n",
    "CASRN: 105-37-3, SMILES: CCOC(=O)CC, dipole_moment: 1.7519876245638\n",
    "CASRN: 105-54-4, SMILES: CCCC(=O)OCC, dipole_moment: 1.8\n",
    "CASRN: 105-58-8, SMILES: CCOC(=O)OCC, dipole_moment: 1.09999880082983\n",
    "CASRN: 105-66-8, SMILES: CCCOC(=O)CCC, dipole_moment: 1.8\n",
    "CASRN: 105-67-9, SMILES: Cc1ccc(O)c(C)c1, dipole_moment: 2.0\n",
    "CASRN: 106-36-5, SMILES: CCCOC(=O)CC, dipole_moment: 1.79000131908719\n",
    "CASRN: 106-42-3, SMILES: Cc1ccc(C)cc1, dipole_moment: 0.0\n",
    "CASRN: 106-44-5, SMILES: Cc1ccc(O)cc1, dipole_moment: 1.55892122651125\n",
    "CASRN: 106-49-0, SMILES: Cc1ccc(N)cc1, dipole_moment: 1.31\n",
    "CASRN: 106-89-8, SMILES: ClCC1CO1, dipole_moment: 1.8\n",
    "CASRN: 106-93-4, SMILES: BrCCBr, dipole_moment: 1.04\n",
    "CASRN: 106-94-5, SMILES: CCCBr, dipole_moment: 2.18\n",
    "CASRN: 106-97-8, SMILES: CCCC, dipole_moment: 0.0\n",
    "CASRN: 106-98-9, SMILES: CCC=C, dipole_moment: 0.36\n",
    "CASRN: 106-99-0, SMILES: C=CC=C, dipole_moment: 0.0\n",
    "CASRN: 107-00-6, SMILES: CCC#C, dipole_moment: 0.78\n",
    "CASRN: 107-02-8, SMILES: C=CC=O, dipole_moment: 3.12\n",
    "CASRN: 107-05-1, SMILES: ClCC=C, dipole_moment: 1.94\n",
    "CASRN: 107-06-2, SMILES: ClCCCl, dipole_moment: 2.94\n",
    "CASRN: 107-07-3, SMILES: OCCCl, dipole_moment: 1.78\n",
    "CASRN: 107-10-8, SMILES: CCCN, dipole_moment: 1.17\n",
    "CASRN: 107-12-0, SMILES: CCC#N, dipole_moment: 4.02\n",
    "CASRN: 107-13-1, SMILES: C=CC#N, dipole_moment: 3.87\n",
    "CASRN: 107-15-3, SMILES: NCCN, dipole_moment: 1.99\n",
    "CASRN: 107-18-6, SMILES: OCC=C, dipole_moment: 1.6\n",
    "CASRN: 107-19-7, SMILES: OCC#C, dipole_moment: 1.81\n",
    "CASRN: 107-20-0, SMILES: ClCC=O, dipole_moment: 2.72\n",
    "CASRN: 107-21-1, SMILES: OCCO, dipole_moment: 2.3084025854109\n",
    "CASRN: 107-29-9, SMILES: C/C=N/O, dipole_moment: 0.94\n",
    "CASRN: 107-31-3, SMILES: COC=O, dipole_moment: 1.77\n",
    "CASRN: 107-41-5, SMILES: CC(O)CC(C)(C)O, dipole_moment: 2.9\n",
    "CASRN: 107-83-5, SMILES: CCCC(C)C, dipole_moment: 0.0\n",
    "CASRN: 107-87-9, SMILES: CCCC(C)=O, dipole_moment: 2.71998776846422\n",
    "CASRN: 107-92-6, SMILES: CCCC(O)=O, dipole_moment: 1.23\n",
    "CASRN: 107-93-7, SMILES: C/C=C/C(O)=O, dipole_moment: 2.13\n",
    "CASRN: 108-03-2, SMILES: CCC[N+]([O-])=O, dipole_moment: 3.66\n",
    "CASRN: 108-08-7, SMILES: CC(C)CC(C)C, dipole_moment: 0.0\n",
    "CASRN: 108-10-1, SMILES: CC(C)CC(C)=O, dipole_moment: 2.8\n",
    "CASRN: 108-20-3, SMILES: CC(C)OC(C)C, dipole_moment: 1.13000803444017\n",
    "CASRN: 108-21-4, SMILES: CC(C)OC(C)=O, dipole_moment: 1.75000899377631\n",
    "CASRN: 108-24-7, SMILES: CC(=O)OC(C)=O, dipole_moment: 3.0\n",
    "CASRN: 108-38-3, SMILES: Cc1cccc(C)c1, dipole_moment: 0.299792543559857\n",
    "CASRN: 108-39-4, SMILES: Cc1cccc(O)c1, dipole_moment: 1.58890048086724\n",
    "CASRN: 108-44-1, SMILES: Cc1cccc(N)c1, dipole_moment: 1.49\n",
    "CASRN: 108-46-3, SMILES: Oc1cccc(O)c1, dipole_moment: 2.09\n",
    "CASRN: 108-47-4, SMILES: Cc1ccnc(C)c1, dipole_moment: 2.3\n",
    "CASRN: 108-48-5, SMILES: Cc1cccc(C)n1, dipole_moment: 1.7\n",
    "CASRN: 108-64-5, SMILES: CCOC(=O)CC(C)C, dipole_moment: 1.96999676224053\n",
    "CASRN: 108-67-8, SMILES: Cc1cc(C)cc(C)c1, dipole_moment: 0.1\n",
    "CASRN: 108-68-9, SMILES: Cc1cc(C)cc(O)c1, dipole_moment: 1.8\n",
    "CASRN: 108-86-1, SMILES: Brc1ccccc1, dipole_moment: 1.7\n",
    "CASRN: 108-87-2, SMILES: CC1CCCCC1, dipole_moment: 0.0\n",
    "CASRN: 108-88-3, SMILES: Cc1ccccc1, dipole_moment: 0.33\n",
    "CASRN: 108-90-7, SMILES: Clc1ccccc1, dipole_moment: 1.69\n",
    "CASRN: 108-91-8, SMILES: NC1CCCCC1, dipole_moment: 1.31\n",
    "CASRN: 108-93-0, SMILES: OC1CCCCC1, dipole_moment: 1.86000287800842\n",
    "CASRN: 108-94-1, SMILES: O=C1CCCCC1, dipole_moment: 3.02\n",
    "CASRN: 108-95-2, SMILES: Oc1ccccc1, dipole_moment: 1.22\n",
    "CASRN: 108-99-6, SMILES: Cc1cccnc1, dipole_moment: 2.4\n",
    "CASRN: 109-06-8, SMILES: Cc1ccccn1, dipole_moment: 1.9\n",
    "CASRN: 109-60-4, SMILES: CCCOC(C)=O, dipole_moment: 1.79000131908719\n",
    "CASRN: 109-66-0, SMILES: CCCCC, dipole_moment: 0.0\n",
    "CASRN: 109-67-1, SMILES: CCCC=C, dipole_moment: 0.39\n",
    "CASRN: 109-69-3, SMILES: CCCCCl, dipole_moment: 2.05\n",
    "CASRN: 109-73-9, SMILES: CCCCN, dipole_moment: 1.39\n",
    "CASRN: 109-74-0, SMILES: CCCC#N, dipole_moment: 4.07\n",
    "CASRN: 109-77-3, SMILES: N#CCC#N, dipole_moment: 3.73\n",
    "CASRN: 109-83-1, SMILES: CNCCO, dipole_moment: 2.159\n",
    "CASRN: 109-86-4, SMILES: COCCO, dipole_moment: 2.04\n",
    "CASRN: 109-89-7, SMILES: CCNCC, dipole_moment: 0.92\n",
    "CASRN: 109-92-2, SMILES: CCOC=C, dipole_moment: 1.27\n",
    "CASRN: 109-93-3, SMILES: C=COC=C, dipole_moment: 0.78\n",
    "CASRN: 109-94-4, SMILES: CCOC=O, dipole_moment: 1.98\n",
    "CASRN: 109-97-7, SMILES: [nH]1cccc1, dipole_moment: 1.84\n",
    "CASRN: 109-99-9, SMILES: C1CCOC1, dipole_moment: 1.63\n",
    "CASRN: 110-00-9, SMILES: o1cccc1, dipole_moment: 0.66\n",
    "CASRN: 110-02-1, SMILES: s1cccc1, dipole_moment: 0.55\n",
    "CASRN: 110-15-6, SMILES: OC(=O)CCC(O)=O, dipole_moment: 2.2\n",
    "CASRN: 110-17-8, SMILES: OC(=O)\\C=C\\C(O)=O, dipole_moment: 2.45\n",
    "CASRN: 110-19-0, SMILES: CC(C)COC(C)=O, dipole_moment: 1.871\n",
    "CASRN: 110-54-3, SMILES: CCCCCC, dipole_moment: 0.0\n",
    "CASRN: 110-56-5, SMILES: ClCCCCCl, dipole_moment: 2.22\n",
    "CASRN: 110-59-8, SMILES: CCCCC#N, dipole_moment: 4.12\n",
    "CASRN: 110-62-3, SMILES: CCCCC=O, dipole_moment: 2.57000155892123\n",
    "CASRN: 110-63-4, SMILES: OCCCCO, dipole_moment: 3.93\n",
    "CASRN: 110-71-4, SMILES: COCCOC, dipole_moment: 1.71\n",
    "CASRN: 110-74-7, SMILES: CCCOC=O, dipole_moment: 1.9\n",
    "CASRN: 110-82-7, SMILES: C1CCCCC1, dipole_moment: 0.61\n",
    "CASRN: 110-83-8, SMILES: C1CCC=CC1, dipole_moment: 0.33\n",
    "CASRN: 110-85-0, SMILES: C1CNCCN1, dipole_moment: 1.47\n",
    "CASRN: 110-86-1, SMILES: c1ccncc1, dipole_moment: 2.19\n",
    "CASRN: 110-88-3, SMILES: C1OCOCO1, dipole_moment: 2.08\n",
    "CASRN: 110-89-4, SMILES: C1CCNCC1, dipole_moment: 1.19\n",
    "CASRN: 110-94-1, SMILES: OC(=O)CCCC(O)=O, dipole_moment: 2.64\n",
    "CASRN: 111-15-9, SMILES: CCOCCOC(C)=O, dipole_moment: 2.25000299792544\n",
    "CASRN: 111-27-3, SMILES: CCCCCCO, dipole_moment: 1.64999820124474\n",
    "CASRN: 111-29-5, SMILES: OCCCCCO, dipole_moment: 2.37000995311245\n",
    "CASRN: 111-34-2, SMILES: CCCCOC=C, dipole_moment: 1.25001498962718\n",
    "CASRN: 111-42-2, SMILES: OCCNCCO, dipole_moment: 0.851\n",
    "CASRN: 111-43-3, SMILES: CCCOCCC, dipole_moment: 1.21\n",
    "CASRN: 111-46-6, SMILES: OCCOCCO, dipole_moment: 5.486\n",
    "CASRN: 111-65-9, SMILES: CCCCCCCC, dipole_moment: 0.0\n",
    "CASRN: 111-66-0, SMILES: CCCCCCC=C, dipole_moment: 0.3\n",
    "CASRN: 111-70-6, SMILES: CCCCCCCO, dipole_moment: 1.7\n",
    "CASRN: 111-76-2, SMILES: CCCCOCCO, dipole_moment: 2.07999064647264\n",
    "CASRN: 111-84-2, SMILES: CCCCCCCCC, dipole_moment: 0.0\n",
    "CASRN: 111-87-5, SMILES: CCCCCCCCO, dipole_moment: 1.64999820124474\n",
    "CASRN: 111-92-2, SMILES: CCCCNCCCC, dipole_moment: 1.1\n",
    "CASRN: 112-27-6, SMILES: OCCOCCOCCO, dipole_moment: 5.58\n",
    "CASRN: 112-30-1, SMILES: CCCCCCCCCCO, dipole_moment: 1.8\n",
    "CASRN: 112-40-3, SMILES: CCCCCCCCCCCC, dipole_moment: 0.0\n",
    "CASRN: 112-80-1, SMILES: CCCCCCCC/C=C/CCCCCCCC(O)=O, dipole_moment: 1.44\n",
    "CASRN: 112-92-5, SMILES: CCCCCCCCCCCCCCCCCCO, dipole_moment: 1.7\n",
    "CASRN: 112-95-8, SMILES: CCCCCCCCCCCCCCCCCCCC, dipole_moment: 0.0\n",
    "CASRN: 115-07-1, SMILES: CC=C, dipole_moment: 0.36\n",
    "CASRN: 115-08-2, SMILES: NC=S, dipole_moment: 2.9905\n",
    "CASRN: 115-10-6, SMILES: COC, dipole_moment: 1.3\n",
    "CASRN: 115-11-7, SMILES: CC(C)=C, dipole_moment: 0.5\n",
    "CASRN: 115-25-3, SMILES: FC1(F)C(F)(F)C(F)(F)C1(F)F, dipole_moment: 0.0\n",
    "CASRN: 116-14-3, SMILES: FC(F)=C(F)F, dipole_moment: 0.0\n",
    "CASRN: 117-84-0, SMILES: CCCCCCCCOC(=O)c1ccccc1C(=O)OCCCCCCCC, dipole_moment: 2.839\n",
    "CASRN: 118-90-1, SMILES: Cc1ccccc1C(O)=O, dipole_moment: 1.7\n",
    "CASRN: 119-36-8, SMILES: COC(=O)c1ccccc1O, dipole_moment: 2.46999076638966\n",
    "CASRN: 119-65-3, SMILES: c1ccc2cnccc2c1, dipole_moment: 2.7\n",
    "CASRN: 120-12-7, SMILES: c1ccc2cc3ccccc3cc2c1, dipole_moment: 0.0\n",
    "CASRN: 120-80-9, SMILES: Oc1ccccc1O, dipole_moment: 2.599\n",
    "CASRN: 120-92-3, SMILES: O=C1CCCC1, dipole_moment: 3.25\n",
    "CASRN: 121-44-8, SMILES: CCN(CC)CC, dipole_moment: 0.9\n",
    "CASRN: 121-91-5, SMILES: OC(=O)c1cccc(c1)C(O)=O, dipole_moment: 2.27\n",
    "CASRN: 123-05-7, SMILES: CCCCC(CC)C=O, dipole_moment: 2.66\n",
    "CASRN: 123-38-6, SMILES: CCC=O, dipole_moment: 2.52\n",
    "CASRN: 123-42-2, SMILES: CC(=O)CC(C)(C)O, dipole_moment: 3.24015781079493\n",
    "CASRN: 123-51-3, SMILES: CC(C)CCO, dipole_moment: 1.79998441078774\n",
    "CASRN: 123-72-8, SMILES: CCCC=O, dipole_moment: 2.72\n",
    "CASRN: 123-73-9, SMILES: C/C=C/C=O, dipole_moment: 3.67\n",
    "CASRN: 123-86-4, SMILES: CCCCOC(C)=O, dipole_moment: 1.8401266323704\n",
    "CASRN: 123-91-1, SMILES: C1COCCO1, dipole_moment: 0.0\n",
    "CASRN: 123-92-2, SMILES: CC(C)CCOC(C)=O, dipole_moment: 1.8\n",
    "CASRN: 123-96-6, SMILES: CCCCCCC(C)O, dipole_moment: 1.6\n",
    "CASRN: 123-99-9, SMILES: OC(=O)CCCCCCCC(O)=O, dipole_moment: 2.35\n",
    "CASRN: 124-04-9, SMILES: OC(=O)CCCCC(O)=O, dipole_moment: 2.32\n",
    "CASRN: 124-18-5, SMILES: CCCCCCCCCC, dipole_moment: 0.0\n",
    "CASRN: 124-38-9, SMILES: O=C=O, dipole_moment: 0.0\n",
    "CASRN: 124-40-3, SMILES: CNC, dipole_moment: 1.03\n",
    "CASRN: 127-18-4, SMILES: ClC(Cl)=C(Cl)Cl, dipole_moment: 0.0\n",
    "CASRN: 131-11-3, SMILES: COC(=O)c1ccccc1C(=O)OC, dipole_moment: 2.8\n",
    "CASRN: 141-43-5, SMILES: NCCO, dipole_moment: 0.777\n",
    "CASRN: 141-46-8, SMILES: OCC=O, dipole_moment: 2.73\n",
    "CASRN: 141-78-6, SMILES: CCOC(C)=O, dipole_moment: 1.78\n",
    "CASRN: 141-93-5, SMILES: CCc1cccc(CC)c1, dipole_moment: 0.36\n",
    "CASRN: 142-28-9, SMILES: ClCCCCl, dipole_moment: 2.081\n",
    "CASRN: 142-29-0, SMILES: C1CC=CC1, dipole_moment: 0.19\n",
    "CASRN: 142-68-7, SMILES: C1CCOCC1, dipole_moment: 1.74\n",
    "CASRN: 142-82-5, SMILES: CCCCCCC, dipole_moment: 0.0\n",
    "CASRN: 142-84-7, SMILES: CCCNCCC, dipole_moment: 1.07\n",
    "CASRN: 143-08-8, SMILES: CCCCCCCCCO, dipole_moment: 1.7\n",
    "CASRN: 151-51-9, SMILES: N=C=N, dipole_moment: 3.3696\n",
    "CASRN: 151-56-4, SMILES: C1CN1, dipole_moment: 1.9\n",
    "CASRN: 156-59-2, SMILES: Cl\\C=C/Cl, dipole_moment: 1.9\n",
    "CASRN: 156-60-5, SMILES: Cl\\C=C\\Cl, dipole_moment: 0.0\n",
    "CASRN: 156-87-6, SMILES: NCCCO, dipole_moment: 2.69\n",
    "CASRN: 157-16-4, SMILES: C1C=N1, dipole_moment: 2.4388\n",
    "CASRN: 157-18-6, SMILES: O1C=C1, dipole_moment: 2.2342\n",
    "CASRN: 157-22-2, SMILES: C1N=N1, dipole_moment: 1.59\n",
    "CASRN: 157-26-6, SMILES: C1OO1, dipole_moment: 2.48\n",
    "CASRN: 157-33-5, SMILES: C1C2CC12, dipole_moment: 0.68\n",
    "CASRN: 185-94-4, SMILES: C1CC2CC12, dipole_moment: 0.26\n",
    "CASRN: 275-51-4, SMILES: c1ccc2cccc2cc1, dipole_moment: 0.8\n",
    "CASRN: 277-10-1, SMILES: C12C3C4C1C5C2C3C45, dipole_moment: 0.0\n",
    "CASRN: 279-23-2, SMILES: C1CC2CCC1C2, dipole_moment: 0.09\n",
    "CASRN: 285-58-5, SMILES: C1CC2CC2C1, dipole_moment: 0.19\n",
    "CASRN: 287-23-0, SMILES: C1CCC1, dipole_moment: 0.0\n",
    "CASRN: 287-27-4, SMILES: C1CSC1, dipole_moment: 1.85\n",
    "CASRN: 287-92-3, SMILES: C1CCCC1, dipole_moment: 0.0\n",
    "CASRN: 288-14-2, SMILES: o1cccn1, dipole_moment: 2.9\n",
    "CASRN: 288-42-6, SMILES: o1ccnc1, dipole_moment: 1.5\n",
    "CASRN: 290-37-9, SMILES: c1cnccn1, dipole_moment: 0.0\n",
    "CASRN: 290-87-9, SMILES: c1ncncn1, dipole_moment: 0.0\n",
    "CASRN: 291-64-5, SMILES: C1CCCCCC1, dipole_moment: 0.0\n",
    "CASRN: 292-64-8, SMILES: C1CCCCCCC1, dipole_moment: 0.0\n",
    "CASRN: 302-01-2, SMILES: NN, dipole_moment: 1.75\n",
    "CASRN: 307-34-6, SMILES: FC(F)(F)C(F)(F)C(F)(F)C(F)(F)C(F)(F)C(F)(F)C(F)(F)C(F)(F)F, dipole_moment: 0.0\n",
    "CASRN: 307-45-9, SMILES: FC(F)(F)C(F)(F)C(F)(F)C(F)(F)C(F)(F)C(F)(F)C(F)(F)C(F)(F)C(F)(F)C(F)(F)F, dipole_moment: 0.0\n",
    "CASRN: 334-88-3, SMILES: C=[N+]=[N-], dipole_moment: 1.5\n",
    "CASRN: 335-57-9, SMILES: FC(F)(F)C(F)(F)C(F)(F)C(F)(F)C(F)(F)C(F)(F)C(F)(F)F, dipole_moment: 0.0\n",
    "CASRN: 352-93-2, SMILES: CCSCC, dipole_moment: 1.56\n",
    "CASRN: 353-36-6, SMILES: CCF, dipole_moment: 1.96\n",
    "CASRN: 353-50-4, SMILES: FC(F)=O, dipole_moment: 0.95\n",
    "CASRN: 353-85-5, SMILES: NCC(F)(F)F, dipole_moment: 1.33\n",
    "CASRN: 354-33-6, SMILES: FC(F)C(F)(F)F, dipole_moment: 1.541\n",
    "CASRN: 355-42-0, SMILES: FC(F)(F)C(F)(F)C(F)(F)C(F)(F)C(F)(F)C(F)(F)F, dipole_moment: 0.0\n",
    "CASRN: 355-68-0, SMILES: FC1(F)C(F)(F)C(F)(F)C(F)(F)C(F)(F)C1(F)F, dipole_moment: 0.0\n",
    "CASRN: 359-11-5, SMILES: FC=C(F)F, dipole_moment: 1.4\n",
    "CASRN: 359-35-3, SMILES: FC(F)C(F)F, dipole_moment: 0.0\n",
    "CASRN: 372-18-9, SMILES: Fc1cccc(F)c1, dipole_moment: 1.58\n",
    "CASRN: 373-52-4, SMILES: FCBr, dipole_moment: 2.1681\n",
    "HTTP error occurred: 500 Server Error: INTERNAL SERVER ERROR for url: https://cactus.nci.nih.gov/chemical/structure/375-96-2/smiles\n",
    "CASRN: 375-96-2, SMILES: None, dipole_moment: 0.0\n",
    "CASRN: 392-56-3, SMILES: Fc1c(F)c(F)c(F)c(F)c1F, dipole_moment: 0.0\n",
    "CASRN: 409-21-2, SMILES: [C-]#[Si+], dipole_moment: 1.1802\n",
    "CASRN: 420-04-2, SMILES: NC#N, dipole_moment: 4.32\n",
    "CASRN: 420-05-3, SMILES: OC#N, dipole_moment: 3.997\n",
    "CASRN: 420-12-2, SMILES: C1CS1, dipole_moment: 1.85\n",
    "CASRN: 420-46-2, SMILES: CC(F)(F)F, dipole_moment: 2.32\n",
    "CASRN: 460-12-8, SMILES: C#CC#C, dipole_moment: 0.0\n",
    "CASRN: 460-19-5, SMILES: NCCN, dipole_moment: 0.0\n",
    "CASRN: 462-06-6, SMILES: Fc1ccccc1, dipole_moment: 1.6\n",
    "CASRN: 463-49-0, SMILES: [CH2]=[C]=[CH2], dipole_moment: 0.0\n",
    "CASRN: 463-51-4, SMILES: C=C=O, dipole_moment: 1.42\n",
    "CASRN: 463-56-9, SMILES: SC#N, dipole_moment: 3.604\n",
    "CASRN: 463-57-0, SMILES: OCO, dipole_moment: 3.0623\n",
    "CASRN: 463-58-1, SMILES: O=C=S, dipole_moment: 0.71\n",
    "CASRN: 463-82-1, SMILES: CC(C)(C)C, dipole_moment: 0.0\n",
    "CASRN: 464-06-2, SMILES: CC(C)C(C)(C)C, dipole_moment: 0.0\n",
    "CASRN: 493-01-6, SMILES: C1CCC2CCCCC2C1, dipole_moment: 0.0\n",
    "CASRN: 493-02-7, SMILES: C1CCC2CCCCC2C1, dipole_moment: 0.0\n",
    "CASRN: 497-20-1, SMILES: C=C1C=CC=C1, dipole_moment: 0.42\n",
    "CASRN: 503-17-3, SMILES: CC#CC, dipole_moment: 0.0\n",
    "CASRN: 503-30-0, SMILES: C1COC1, dipole_moment: 1.94\n",
    "CASRN: 503-74-2, SMILES: CC(C)CC(O)=O, dipole_moment: 0.629984051036683\n",
    "HTTP error occurred: 500 Server Error: INTERNAL SERVER ERROR for url: https://cactus.nci.nih.gov/chemical/structure/504-64-3/smiles\n",
    "CASRN: 504-64-3, SMILES: None, dipole_moment: 0.0\n",
    "CASRN: 505-22-6, SMILES: C1COCOC1, dipole_moment: 2.06\n",
    "CASRN: 506-66-1, SMILES: [Be]=C=[Be], dipole_moment: 3.2796\n",
    "CASRN: 506-68-3, SMILES: BrC#N, dipole_moment: 3.1966\n",
    "CASRN: 506-77-4, SMILES: ClC#N, dipole_moment: 2.82\n",
    "CASRN: 506-80-9, SMILES: [Se]=C=[Se], dipole_moment: 2.8152\n",
    "CASRN: 506-85-4, SMILES: ON=C, dipole_moment: 3.06\n",
    "CASRN: 507-20-0, SMILES: CC(C)(C)Cl, dipole_moment: 2.13\n",
    "CASRN: 513-35-9, SMILES: CC=C(C)C, dipole_moment: 0.338765574222638\n",
    "CASRN: 534-22-5, SMILES: Cc1occc1, dipole_moment: 0.7\n",
    "CASRN: 536-74-3, SMILES: C#Cc1ccccc1, dipole_moment: 0.66\n",
    "CASRN: 538-93-2, SMILES: CC(C)Cc1ccccc1, dipole_moment: 0.3\n",
    "CASRN: 540-54-5, SMILES: CCCCl, dipole_moment: 2.05\n",
    "CASRN: 540-67-0, SMILES: CCOC, dipole_moment: 1.23\n",
    "CASRN: 540-88-5, SMILES: CC(=O)OC(C)(C)C, dipole_moment: 1.91\n",
    "CASRN: 542-55-2, SMILES: CC(C)COC=O, dipole_moment: 1.89001211161876\n",
    "CASRN: 542-92-7, SMILES: C1C=CC=C1, dipole_moment: 0.42\n",
    "CASRN: 543-59-9, SMILES: CCCCCCl, dipole_moment: 2.16\n",
    "CASRN: 544-76-3, SMILES: CCCCCCCCCCCCCCCC, dipole_moment: 0.0\n",
    "CASRN: 544-92-3, SMILES: [Cu+].[C-]#N, dipole_moment: 0.6239\n",
    "CASRN: 547-63-7, SMILES: COC(=O)C(C)C, dipole_moment: 2.0\n",
    "CASRN: 554-12-1, SMILES: CCC(=O)OC, dipole_moment: 1.7\n",
    "CASRN: 557-91-5, SMILES: CC(Br)Br, dipole_moment: 2.141\n",
    "CASRN: 557-98-2, SMILES: CC(Cl)=C, dipole_moment: 1.66\n",
    "CASRN: 557-99-3, SMILES: CC(F)=O, dipole_moment: 2.96\n",
    "CASRN: 558-13-4, SMILES: BrC(Br)(Br)Br, dipole_moment: 0.0\n",
    "CASRN: 562-49-2, SMILES: CCC(C)(C)CC, dipole_moment: 0.0\n",
    "CASRN: 563-45-1, SMILES: CC(C)C=C, dipole_moment: 0.320778021609046\n",
    "CASRN: 563-46-2, SMILES: CCC(C)=C, dipole_moment: 0.509647324051756\n",
    "CASRN: 563-80-4, SMILES: CC(C)C(C)=O, dipole_moment: 2.76999316473001\n",
    "CASRN: 565-59-3, SMILES: CCC(C)C(C)C, dipole_moment: 0.0\n",
    "CASRN: 565-80-0, SMILES: CC(C)C(=O)C(C)C, dipole_moment: 2.731\n",
    "CASRN: 583-58-4, SMILES: Cc1ccncc1C, dipole_moment: 1.9\n",
    "CASRN: 583-61-9, SMILES: Cc1cccnc1C, dipole_moment: 2.2\n",
    "CASRN: 589-34-4, SMILES: CCCC(C)CC, dipole_moment: 0.0\n",
    "CASRN: 589-93-5, SMILES: Cc1ccc(C)nc1, dipole_moment: 2.2\n",
    "CASRN: 590-01-2, SMILES: CCCCOC(=O)CC, dipole_moment: 1.8\n",
    "CASRN: 590-18-1, SMILES: C\\C=C/C, dipole_moment: 0.26\n",
    "CASRN: 590-19-2, SMILES: C[CH]=[C]=[CH2], dipole_moment: 0.4\n",
    "CASRN: 590-35-2, SMILES: CCCC(C)(C)C, dipole_moment: 0.0\n",
    "CASRN: 591-22-0, SMILES: Cc1cncc(C)c1, dipole_moment: 2.6\n",
    "CASRN: 591-76-4, SMILES: CCCCC(C)C, dipole_moment: 0.0\n",
    "CASRN: 591-78-6, SMILES: CCCCC(C)=O, dipole_moment: 2.67999544315334\n",
    "CASRN: 592-41-6, SMILES: CCCCC=C, dipole_moment: 0.339994723651233\n",
    "CASRN: 592-57-4, SMILES: C1CC=CC=C1, dipole_moment: 0.44\n",
    "CASRN: 592-76-7, SMILES: CCCCCC=C, dipole_moment: 0.3\n",
    "CASRN: 592-84-7, SMILES: CCCCOC=O, dipole_moment: 1.91867227878308\n",
    "CASRN: 593-45-3, SMILES: CCCCCCCCCCCCCCCCCC, dipole_moment: 0.0\n",
    "CASRN: 593-51-1, SMILES: [Cl-].C[NH3+], dipole_moment: 6.5726\n",
    "CASRN: 593-53-3, SMILES: CF, dipole_moment: 1.85\n",
    "CASRN: 593-54-4, SMILES: CP, dipole_moment: 1.1\n",
    "CASRN: 593-60-2, SMILES: BrC=C, dipole_moment: 1.42\n",
    "CASRN: 593-61-3, SMILES: BrC#C, dipole_moment: 0.6312\n",
    "CASRN: 593-63-5, SMILES: ClC#C, dipole_moment: 0.44\n",
    "CASRN: 593-67-9, SMILES: NC=C, dipole_moment: 0.6548\n",
    "CASRN: 593-68-0, SMILES: CCP, dipole_moment: 1.6439\n",
    "CASRN: 593-70-4, SMILES: FCCl, dipole_moment: 1.82\n",
    "CASRN: 593-75-9, SMILES: C[N+]#[C-], dipole_moment: 3.85\n",
    "CASRN: 593-77-1, SMILES: [H+].[Cl-].CNO, dipole_moment: 2.6412\n",
    "CASRN: 593-78-2, SMILES: COCl, dipole_moment: 1.9514\n",
    "CASRN: 593-79-3, SMILES: C[Se]C, dipole_moment: 1.9099\n",
    "CASRN: 593-88-4, SMILES: C[As](C)C, dipole_moment: 0.86\n",
    "CASRN: 594-20-7, SMILES: CC(C)(Cl)Cl, dipole_moment: 2.27\n",
    "CASRN: 598-25-4, SMILES: C[C](C)=[C]=[CH2], dipole_moment: 0.55\n",
    "CASRN: 598-58-3, SMILES: CO[N+]([O-])=O, dipole_moment: 3.08\n",
    "CASRN: 611-14-3, SMILES: CCc1ccccc1C, dipole_moment: 0.56\n",
    "CASRN: 616-42-2, SMILES: CO[S](=O)OC, dipole_moment: 3.09\n",
    "CASRN: 617-78-7, SMILES: CCC(CC)CC, dipole_moment: 0.0\n",
    "CASRN: 622-96-8, SMILES: CCc1ccc(C)cc1, dipole_moment: 0.0\n",
    "CASRN: 623-42-7, SMILES: CCCC(=O)OC, dipole_moment: 1.71999976016597\n",
    "CASRN: 624-64-6, SMILES: C\\C=C\\C, dipole_moment: 0.0\n",
    "CASRN: 624-72-6, SMILES: FCCF, dipole_moment: 2.671\n",
    "CASRN: 624-91-9, SMILES: CON=O, dipole_moment: 2.05\n",
    "CASRN: 625-58-1, SMILES: CCO[N+]([O-])=O, dipole_moment: 3.39\n",
    "CASRN: 627-05-4, SMILES: CCCC[N+]([O-])=O, dipole_moment: 3.4\n",
    "CASRN: 627-19-0, SMILES: CCCC#C, dipole_moment: 0.85\n",
    "CASRN: 627-20-3, SMILES: CC\\C=C/C, dipole_moment: 0.28\n",
    "CASRN: 627-26-9, SMILES: C/C=C/C#N, dipole_moment: 4.5\n",
    "CASRN: 627-51-0, SMILES: C=CSC=C, dipole_moment: 1.2\n",
    "CASRN: 628-32-0, SMILES: CCCOCC, dipole_moment: 1.15998728879615\n",
    "CASRN: 628-76-2, SMILES: ClCCCCCCl, dipole_moment: 2.36\n",
    "CASRN: 628-81-9, SMILES: CCCCOCC, dipole_moment: 1.22000575601684\n",
    "CASRN: 629-11-8, SMILES: OCCCCCCO, dipole_moment: 2.5\n",
    "CASRN: 629-50-5, SMILES: CCCCCCCCCCCCC, dipole_moment: 0.0\n",
    "CASRN: 629-59-4, SMILES: CCCCCCCCCCCCCC, dipole_moment: 0.0\n",
    "CASRN: 629-62-9, SMILES: CCCCCCCCCCCCCCC, dipole_moment: 0.0\n",
    "CASRN: 629-78-7, SMILES: CCCCCCCCCCCCCCCCC, dipole_moment: 0.0\n",
    "CASRN: 629-92-5, SMILES: CCCCCCCCCCCCCCCCCCC, dipole_moment: 0.0\n",
    "CASRN: 629-94-7, SMILES: CCCCCCCCCCCCCCCCCCCCC, dipole_moment: 0.0\n",
    "CASRN: 629-97-0, SMILES: CCCCCCCCCCCCCCCCCCCCCC, dipole_moment: 0.0\n",
    "CASRN: 630-08-0, SMILES: [C-]#[O+], dipole_moment: 0.11\n",
    "CASRN: 630-18-2, SMILES: CC(C)(C)C#N, dipole_moment: 3.95\n",
    "CASRN: 638-49-3, SMILES: CCCCCOC=O, dipole_moment: 1.9\n",
    "CASRN: 638-67-5, SMILES: CCCCCCCCCCCCCCCCCCCCCCC, dipole_moment: 0.0\n",
    "CASRN: 646-04-8, SMILES: CC\\C=C\\C, dipole_moment: 0.0\n",
    "CASRN: 646-31-1, SMILES: CCCCCCCCCCCCCCCCCCCCCCCC, dipole_moment: 0.0\n",
    "CASRN: 676-49-3, SMILES: C[2H], dipole_moment: 0.0176\n",
    "HTTP error occurred: 500 Server Error: INTERNAL SERVER ERROR for url: https://cactus.nci.nih.gov/chemical/structure/676-55-1/smiles\n",
    "CASRN: 676-55-1, SMILES: None, dipole_moment: 0.0123\n",
    "CASRN: 676-59-5, SMILES: CPC, dipole_moment: 1.7033\n",
    "CASRN: 678-26-2, SMILES: FC(F)(F)C(F)(F)C(F)(F)C(F)(F)C(F)(F)F, dipole_moment: 0.0\n",
    "CASRN: 689-97-4, SMILES: C=CC#C, dipole_moment: 0.22\n",
    "CASRN: 691-37-2, SMILES: CC(C)CC=C, dipole_moment: 0.265616193594033\n",
    "CASRN: 693-02-7, SMILES: CCCCC#C, dipole_moment: 0.83\n",
    "CASRN: 693-86-7, SMILES: C=CC1CC1, dipole_moment: 0.5\n",
    "CASRN: 694-01-9, SMILES: C1C=CC2CC12, dipole_moment: 0.29\n",
    "CASRN: 765-30-0, SMILES: NC1CC1, dipole_moment: 1.19\n",
    "CASRN: 765-43-5, SMILES: CC(=O)C1CC1, dipole_moment: 2.62\n",
    "CASRN: 822-35-5, SMILES: C1CC=C1, dipole_moment: 0.13\n",
    "CASRN: 865-36-1, SMILES: C=S, dipole_moment: 1.65\n",
    "CASRN: 917-54-4, SMILES: [Li+].[CH3-], dipole_moment: 2.356\n",
    "HTTP error occurred: 500 Server Error: INTERNAL SERVER ERROR for url: https://cactus.nci.nih.gov/chemical/structure/992-94-9/smiles\n",
    "CASRN: 992-94-9, SMILES: None, dipole_moment: 0.74\n",
    "CASRN: 1066-27-9, SMILES: [SiH3]C#C, dipole_moment: 0.3521\n",
    "CASRN: 1066-43-9, SMILES: C[Si], dipole_moment: 0.5368\n",
    "CASRN: 1070-71-9, SMILES: C#CC#N, dipole_moment: 3.72\n",
    "CASRN: 1072-43-1, SMILES: CC1CS1, dipole_moment: 1.95\n",
    "CASRN: 1111-74-6, SMILES: C[SiH2]C, dipole_moment: 0.75\n",
    "CASRN: 1120-21-4, SMILES: CCCCCCCCCCC, dipole_moment: 0.0\n",
    "CASRN: 1120-56-5, SMILES: [CH2]=[C]1C[CH2]C1, dipole_moment: 0.51\n",
    "CASRN: 1190-76-7, SMILES: C\\C=C/C#N, dipole_moment: 4.08\n",
    "CASRN: 1191-95-3, SMILES: O=C1CCC1, dipole_moment: 2.99\n",
    "CASRN: 1303-00-0, SMILES: [Ga]#[As], dipole_moment: 2.9749\n",
    "CASRN: 1304-56-9, SMILES: [Be]=O, dipole_moment: 7.4836\n",
    "CASRN: 1305-78-8, SMILES: O=[Ca], dipole_moment: 7.2202\n",
    "CASRN: 1305-84-6, SMILES: [Ca]=[Se], dipole_moment: 3.6912\n",
    "CASRN: 1309-48-4, SMILES: O=[Mg], dipole_moment: 7.5578\n",
    "CASRN: 1310-53-8, SMILES: O=[Ge]=O, dipole_moment: 3.0658\n",
    "CASRN: 1310-66-3, SMILES: [Li+].O.[OH-], dipole_moment: 4.76\n",
    "CASRN: 1313-99-1, SMILES: O=[Ni], dipole_moment: 7.4636\n",
    "CASRN: 1314-05-2, SMILES: [Ni]=[Se], dipole_moment: 6.1658\n",
    "CASRN: 1314-13-2, SMILES: O=[Zn], dipole_moment: 5.4411\n",
    "CASRN: 1314-98-3, SMILES: S=[Zn], dipole_moment: 6.2041\n",
    "CASRN: 1317-37-9, SMILES: S=[Fe], dipole_moment: 1.2889\n",
    "CASRN: 1317-38-0, SMILES: O=[Cu], dipole_moment: 4.5\n",
    "CASRN: 1317-66-4, SMILES: [Fe++].[S-][S-], dipole_moment: 0.0\n",
    "CASRN: 1333-74-0, SMILES: [H], dipole_moment: 0.0\n",
    "CASRN: 1336-21-6, SMILES: [NH4+].[OH-], dipole_moment: 5.6302\n",
    "CASRN: 1345-25-1, SMILES: O=[Fe], dipole_moment: 3.0224\n",
    "CASRN: 1449-64-5, SMILES: C[GeH2]C, dipole_moment: 0.5341\n",
    "CASRN: 1449-65-6, SMILES: C[GeH3], dipole_moment: 0.64\n",
    "CASRN: 1455-13-6, SMILES: CO[2H], dipole_moment: 1.8082\n",
    "CASRN: 1493-02-3, SMILES: FC=O, dipole_moment: 2.02\n",
    "CASRN: 1495-50-7, SMILES: FC#N, dipole_moment: 2.17\n",
    "CASRN: 1511-62-2, SMILES: FC(F)Br, dipole_moment: 1.5\n",
    "CASRN: 1517-53-9, SMILES: C=C, dipole_moment: 0.0059\n",
    "CASRN: 1574-41-0, SMILES: C\\C=C/C=C, dipole_moment: 0.5\n",
    "CASRN: 1590-87-0, SMILES: [SiH2]=[SiH2], dipole_moment: 0.0\n",
    "CASRN: 1603-84-5, SMILES: O=C=[Se], dipole_moment: 0.75\n",
    "CASRN: 1605-72-7, SMILES: ClCCl, dipole_moment: 0.6084\n",
    "CASRN: 1613-51-0, SMILES: C1CCSCC1, dipole_moment: 1.78\n",
    "CASRN: 1630-77-9, SMILES: F\\C=C/F, dipole_moment: 2.42\n",
    "CASRN: 1630-78-0, SMILES: F\\C=C\\F, dipole_moment: 0.55\n",
    "CASRN: 1630-94-0, SMILES: CC1(C)CC1, dipole_moment: 0.14\n",
    "CASRN: 1634-09-9, SMILES: CCCCc1cccc2ccccc12, dipole_moment: 0.69\n",
    "CASRN: 1640-89-7, SMILES: CCC1CCCC1, dipole_moment: 0.0\n",
    "CASRN: 1708-29-8, SMILES: C1OCC=C1, dipole_moment: 1.32\n",
    "CASRN: 1708-32-3, SMILES: C1SCC=C1, dipole_moment: 1.75\n",
    "CASRN: 1738-36-9, SMILES: COCC#N, dipole_moment: 2.98\n",
    "CASRN: 1747-99-5, SMILES: CC[GeH3], dipole_moment: 0.4489\n",
    "CASRN: 1761-67-7, SMILES: CN=C, dipole_moment: 1.53\n",
    "CASRN: 2004-69-5, SMILES: C/C=C/C#C, dipole_moment: 0.66\n",
    "CASRN: 2004-70-8, SMILES: C/C=C/C=C, dipole_moment: 0.58\n",
    "CASRN: 2053-29-4, SMILES: C=N, dipole_moment: 2.0\n",
    "CASRN: 2074-87-5, SMILES: NCCN, dipole_moment: 1.45\n",
    "CASRN: 2154-59-8, SMILES: FCF, dipole_moment: 0.46\n",
    "CASRN: 2171-96-2, SMILES: CO[SiH3], dipole_moment: 1.5306\n",
    "CASRN: 2210-34-6, SMILES: C(#C)[2H], dipole_moment: 0.028\n",
    "CASRN: 2229-07-4, SMILES: [CH3], dipole_moment: 0.0\n",
    "CASRN: 2314-97-8, SMILES: FC(F)(F)I, dipole_moment: 1.05\n",
    "HTTP error occurred: 500 Server Error: INTERNAL SERVER ERROR for url: https://cactus.nci.nih.gov/chemical/structure/2465-56-7/smiles\n",
    "CASRN: 2465-56-7, SMILES: None, dipole_moment: 1.9466\n",
    "CASRN: 2533-82-6, SMILES: C[As]=S, dipole_moment: 1.8805\n",
    "CASRN: 2551-62-4, SMILES: F[S](F)(F)(F)(F)F, dipole_moment: 0.0\n",
    "CASRN: 2565-30-2, SMILES: ClC=O, dipole_moment: 2.4735\n",
    "CASRN: 2644-70-4, SMILES: [H+].[H+].[Cl-].[Cl-].NN, dipole_moment: 3.131\n",
    "CASRN: 2680-00-4, SMILES: C(=C)[2H], dipole_moment: 0.001\n",
    "CASRN: 2696-92-6, SMILES: ClN=O, dipole_moment: 1.9\n",
    "CASRN: 2699-79-8, SMILES: F[S](F)(=O)=O, dipole_moment: 1.12\n",
    "CASRN: 2713-09-9, SMILES: FC#C, dipole_moment: 0.73\n",
    "CASRN: 2781-85-3, SMILES: C1C=C1, dipole_moment: 0.45\n",
    "CASRN: 2809-69-0, SMILES: CC#CC#CC, dipole_moment: 0.0\n",
    "CASRN: 2944-05-0, SMILES: C=S, dipole_moment: 1.98\n",
    "CASRN: 3017-23-0, SMILES: C(#N)[2H], dipole_moment: 3.2179\n",
    "CASRN: 3031-73-0, SMILES: COO, dipole_moment: 3.198\n",
    "CASRN: 3100-04-7, SMILES: CC1=CC1, dipole_moment: 0.84\n",
    "CASRN: 3129-90-6, SMILES: N=C=S, dipole_moment: 2.1076\n",
    "CASRN: 3352-57-6, SMILES: [OH-], dipole_moment: 1.66\n",
    "CASRN: 3400-09-7, SMILES: ClNCl, dipole_moment: 1.7284\n",
    "CASRN: 3618-05-1, SMILES: NN, dipole_moment: 0.0312\n",
    "HTTP error occurred: 500 Server Error: INTERNAL SERVER ERROR for url: https://cactus.nci.nih.gov/chemical/structure/3889-75-6/smiles\n",
    "CASRN: 3889-75-6, SMILES: None, dipole_moment: 0.64\n",
    "CASRN: 4109-96-0, SMILES: Cl[SiH2]Cl, dipole_moment: 1.13\n",
    "CASRN: 4170-30-3, SMILES: C\\C=C/C=O, dipole_moment: 3.72\n",
    "CASRN: 4960-86-5, SMILES: C(Cl)[2H], dipole_moment: 2.2179\n",
    "CASRN: 5009-27-8, SMILES: O=C1CC1, dipole_moment: 2.67\n",
    "CASRN: 5164-35-2, SMILES: C1C2C=CC12, dipole_moment: 0.4\n",
    "CASRN: 5188-07-8, SMILES: [Na+].C[S-], dipole_moment: 4.4426\n",
    "CASRN: 5194-50-3, SMILES: C/C=C/C=C\\C, dipole_moment: 0.309\n",
    "CASRN: 5470-11-1, SMILES: [H+].[Cl-].NO, dipole_moment: 2.4225\n",
    "CASRN: 5505-49-7, SMILES: C(C)[2H], dipole_moment: 0.026\n",
    "CASRN: 5813-48-9, SMILES: CSCl, dipole_moment: 2.8279\n",
    "CASRN: 5951-19-9, SMILES: S=C=[Se], dipole_moment: 2.8635\n",
    "CASRN: 6004-44-0, SMILES: CCOC(=O)C(=CNc1cc(Cl)ccc1OC)C(=O)OCC, dipole_moment: 1.79\n",
    "CASRN: 6142-73-0, SMILES: C=C1CC1, dipole_moment: 0.4\n",
    "CASRN: 6154-14-9, SMILES: CNCl, dipole_moment: 2.2466\n",
    "HTTP error occurred: 500 Server Error: INTERNAL SERVER ERROR for url: https://cactus.nci.nih.gov/chemical/structure/6251-26-9/smiles\n",
    "CASRN: 6251-26-9, SMILES: None, dipole_moment: 2.2824\n",
    "CASRN: 6303-21-5, SMILES: O[PH+]=O, dipole_moment: 1.8637\n",
    "CASRN: 6569-82-0, SMILES: CP=C, dipole_moment: 1.8266\n",
    "CASRN: 6725-64-0, SMILES: SCS, dipole_moment: 2.236\n",
    "CASRN: 6746-94-7, SMILES: C#CC1CC1, dipole_moment: 0.89\n",
    "CASRN: 6829-52-3, SMILES: C#P, dipole_moment: 0.39\n",
    "CASRN: 6851-93-0, SMILES: CC=S, dipole_moment: 2.1903\n",
    "CASRN: 6914-07-4, SMILES: C=N, dipole_moment: 3.05\n",
    "CASRN: 6915-15-7, SMILES: OC(CC(O)=O)C(O)=O, dipole_moment: 3.118\n",
    "HTTP error occurred: 500 Server Error: INTERNAL SERVER ERROR for url: https://cactus.nci.nih.gov/chemical/structure/7282-87-3/smiles\n",
    "CASRN: 7282-87-3, SMILES: None, dipole_moment: 0.1497\n",
    "CASRN: 7429-90-5, SMILES: [Al], dipole_moment: 0.0\n",
    "CASRN: 7439-89-6, SMILES: [Fe], dipole_moment: 0.0\n",
    "CASRN: 7439-90-9, SMILES: [Kr], dipole_moment: 0.0\n",
    "CASRN: 7439-93-2, SMILES: [Li], dipole_moment: 0.0\n",
    "CASRN: 7439-95-4, SMILES: [Mg++], dipole_moment: 0.0\n",
    "CASRN: 7440-01-9, SMILES: [Ne], dipole_moment: 0.0\n",
    "CASRN: 7440-02-0, SMILES: [Ni], dipole_moment: 0.0\n",
    "CASRN: 7440-21-3, SMILES: [Si], dipole_moment: 0.0\n",
    "CASRN: 7440-23-5, SMILES: [Na+], dipole_moment: 0.0\n",
    "CASRN: 7440-32-6, SMILES: [Ti], dipole_moment: 0.0\n",
    "CASRN: 7440-37-1, SMILES: [Ar], dipole_moment: 0.0\n",
    "CASRN: 7440-41-7, SMILES: [Be], dipole_moment: 0.0\n",
    "CASRN: 7440-42-8, SMILES: [B], dipole_moment: 0.0\n",
    "CASRN: 7440-44-0, SMILES: [C], dipole_moment: 0.0\n",
    "CASRN: 7440-47-3, SMILES: [Cr], dipole_moment: 0.0\n",
    "CASRN: 7440-56-4, SMILES: [Ge], dipole_moment: 0.0\n",
    "CASRN: 7440-59-7, SMILES: [He], dipole_moment: 0.0\n",
    "CASRN: 7440-66-6, SMILES: [Zn], dipole_moment: 0.0\n",
    "CASRN: 7440-70-2, SMILES: [Ca], dipole_moment: 0.0\n",
    "CASRN: 7446-08-4, SMILES: O=[Se]=O, dipole_moment: 2.62\n",
    "CASRN: 7446-09-5, SMILES: O=[S]=O, dipole_moment: 1.63\n",
    "CASRN: 7446-11-9, SMILES: O=[S](=O)=O, dipole_moment: 0.0\n",
    "CASRN: 7446-34-6, SMILES: S=[Se], dipole_moment: 0.668\n",
    "CASRN: 7446-70-0, SMILES: [Al+3].[Cl-].[Cl-].[Cl-], dipole_moment: 0.0\n",
    "CASRN: 7447-40-7, SMILES: [Cl-].[K+], dipole_moment: 10.24\n",
    "CASRN: 7447-41-8, SMILES: [Li+].[Cl-], dipole_moment: 7.13\n",
    "CASRN: 7550-35-8, SMILES: [Li+].[Br-], dipole_moment: 7.23\n",
    "CASRN: 7580-67-8, SMILES: [Li+].[H-], dipole_moment: 5.88\n",
    "CASRN: 7616-94-6, SMILES: F[Cl](=O)(=O)=O, dipole_moment: 0.02\n",
    "CASRN: 7631-86-9, SMILES: O=[Si]=O, dipole_moment: 0.0\n",
    "CASRN: 7637-07-2, SMILES: FB(F)F, dipole_moment: 0.0\n",
    "CASRN: 7642-09-3, SMILES: CC\\C=C/CC, dipole_moment: 0.339\n",
    "CASRN: 7647-01-0, SMILES: [H+].[Cl-], dipole_moment: 1.08\n",
    "CASRN: 7647-14-5, SMILES: [Na+].[Cl-], dipole_moment: 9.0\n",
    "CASRN: 7647-15-6, SMILES: [Na+].[Br-], dipole_moment: 9.12\n",
    "CASRN: 7647-19-0, SMILES: F[P](F)(F)(F)F, dipole_moment: 0.0\n",
    "CASRN: 7664-39-3, SMILES: [H+].[F-], dipole_moment: 1.82\n",
    "CASRN: 7664-41-7, SMILES: N, dipole_moment: 1.47\n",
    "CASRN: 7664-93-9, SMILES: O[S](O)(=O)=O, dipole_moment: 2.72\n",
    "CASRN: 7681-49-4, SMILES: [F-].[Na+], dipole_moment: 8.16\n",
    "HTTP error occurred: 500 Server Error: INTERNAL SERVER ERROR for url: https://cactus.nci.nih.gov/chemical/structure/7693-27-8/smiles\n",
    "CASRN: 7693-27-8, SMILES: None, dipole_moment: 0.0\n",
    "CASRN: 7697-37-2, SMILES: O[N+]([O-])=O, dipole_moment: 2.17\n",
    "CASRN: 7698-05-7, SMILES: [1H+].[Cl-], dipole_moment: 1.5745\n",
    "CASRN: 7704-34-9, SMILES: S, dipole_moment: 0.0\n",
    "CASRN: 7719-09-7, SMILES: Cl[S](Cl)=O, dipole_moment: 1.45\n",
    "CASRN: 7719-12-2, SMILES: ClP(Cl)Cl, dipole_moment: 0.78\n",
    "CASRN: 7722-84-1, SMILES: OO, dipole_moment: 1.77\n",
    "CASRN: 7723-14-0, SMILES: [P], dipole_moment: 0.0\n",
    "CASRN: 7726-95-6, SMILES: [Br-], dipole_moment: 0.0\n",
    "CASRN: 7727-37-9, SMILES: N#N, dipole_moment: 0.0\n",
    "CASRN: 7732-18-5, SMILES: O, dipole_moment: 1.85\n",
    "CASRN: 7758-02-3, SMILES: [K+].[Br-], dipole_moment: 10.6\n",
    "CASRN: 7758-89-6, SMILES: [Cl-].[Cu+], dipole_moment: 6.4955\n",
    "CASRN: 7782-39-0, SMILES: [2H][2H], dipole_moment: 0.0\n",
    "CASRN: 7782-41-4, SMILES: FF, dipole_moment: 0.0\n",
    "CASRN: 7782-44-7, SMILES: O=O, dipole_moment: 0.0\n",
    "CASRN: 7782-49-2, SMILES: [Se], dipole_moment: 0.0\n",
    "CASRN: 7782-50-5, SMILES: ClCl, dipole_moment: 0.0\n",
    "CASRN: 7782-65-2, SMILES: [GeH4], dipole_moment: 0.063\n",
    "CASRN: 7782-89-0, SMILES: [Li+].[NH2-], dipole_moment: 1.0182\n",
    "CASRN: 7782-92-5, SMILES: [NH2-].[Na+], dipole_moment: 0.0616\n",
    "CASRN: 7783-06-4, SMILES: S, dipole_moment: 0.97\n",
    "CASRN: 7783-07-5, SMILES: [Se], dipole_moment: 0.63\n",
    "CASRN: 7783-41-7, SMILES: FOF, dipole_moment: 0.3\n",
    "CASRN: 7783-44-0, SMILES: FOOF, dipole_moment: 1.44\n",
    "CASRN: 7783-54-2, SMILES: FN(F)F, dipole_moment: 0.23\n",
    "CASRN: 7783-55-3, SMILES: FP(F)F, dipole_moment: 1.03\n",
    "CASRN: 7783-60-0, SMILES: F[S](F)(F)F, dipole_moment: 0.63\n",
    "CASRN: 7783-61-1, SMILES: F[Si](F)(F)F, dipole_moment: 0.0\n",
    "CASRN: 7783-81-5, SMILES: [F]|[U](|[F])(|[F])(|[F])(|[F])|[F], dipole_moment: 0.0\n",
    "CASRN: 7784-18-1, SMILES: [F-].[F-].[F-].[Al+3], dipole_moment: 0.0\n",
    "CASRN: 7784-21-6, SMILES: [H-].[Al+3], dipole_moment: 0.0\n",
    "CASRN: 7784-35-2, SMILES: F[As](F)F, dipole_moment: 2.59\n",
    "CASRN: 7784-42-1, SMILES: [As], dipole_moment: 0.2\n",
    "HTTP error occurred: 500 Server Error: INTERNAL SERVER ERROR for url: https://cactus.nci.nih.gov/chemical/structure/7787-52-2/smiles\n",
    "CASRN: 7787-52-2, SMILES: None, dipole_moment: 0.0\n",
    "CASRN: 7787-70-4, SMILES: [Cu+].[Br-], dipole_moment: 5.5811\n",
    "CASRN: 7787-71-5, SMILES: F[Br](F)F, dipole_moment: 1.0\n",
    "CASRN: 7789-20-0, SMILES: O([2H])[2H], dipole_moment: 1.85\n",
    "CASRN: 7789-23-3, SMILES: [F-].[K+], dipole_moment: 8.56\n",
    "CASRN: 7789-24-4, SMILES: [Li+].[F-], dipole_moment: 6.28\n",
    "CASRN: 7789-25-5, SMILES: FN=O, dipole_moment: 1.81\n",
    "CASRN: 7789-30-2, SMILES: F[Br](F)(F)(F)F, dipole_moment: 1.51\n",
    "CASRN: 7789-33-5, SMILES: BrI, dipole_moment: 0.74\n",
    "CASRN: 7789-60-8, SMILES: BrP(Br)Br, dipole_moment: 0.61\n",
    "CASRN: 7790-89-8, SMILES: FCl, dipole_moment: 0.88\n",
    "CASRN: 7790-91-2, SMILES: F[Cl](F)F, dipole_moment: 0.6\n",
    "CASRN: 7790-92-3, SMILES: OCl, dipole_moment: 1.3\n",
    "CASRN: 7791-25-5, SMILES: Cl[S](Cl)(=O)=O, dipole_moment: 1.81\n",
    "CASRN: 7803-49-8, SMILES: NO, dipole_moment: 0.59\n",
    "CASRN: 7803-51-2, SMILES: P, dipole_moment: 0.58\n",
    "CASRN: 7803-62-5, SMILES: [Si], dipole_moment: 0.0\n",
    "CASRN: 10022-50-1, SMILES: [O-][N+](F)=O, dipole_moment: 0.5\n",
    "CASRN: 10024-97-2, SMILES: [N-]=[N+]=O, dipole_moment: 0.17\n",
    "CASRN: 10025-78-2, SMILES: Cl[Si](Cl)Cl, dipole_moment: 0.86\n",
    "CASRN: 10026-04-7, SMILES: Cl[Si](Cl)(Cl)Cl, dipole_moment: 0.0\n",
    "CASRN: 10026-13-8, SMILES: Cl[P](Cl)(Cl)(Cl)Cl, dipole_moment: 0.0\n",
    "CASRN: 10028-15-6, SMILES: O=[O]=O, dipole_moment: 0.53\n",
    "CASRN: 10028-17-8, SMILES: [3H][3H], dipole_moment: 0.0\n",
    "CASRN: 10034-85-2, SMILES: [H+].[I-], dipole_moment: 0.45\n",
    "CASRN: 10035-10-6, SMILES: [H+].[Br-], dipole_moment: 0.83\n",
    "CASRN: 10036-47-2, SMILES: FN(F)N(F)F, dipole_moment: 0.3\n",
    "CASRN: 10043-11-5, SMILES: B#N, dipole_moment: 4.5088\n",
    "CASRN: 10049-04-4, SMILES: [O-][Cl]=O, dipole_moment: 1.78\n",
    "CASRN: 10049-06-6, SMILES: [Cl-].[Cl-].[Ti++], dipole_moment: 0.7316\n",
    "CASRN: 10060-11-4, SMILES: [Cl-].[Cl-].[Ge++], dipole_moment: 1.8529\n",
    "CASRN: 10097-28-6, SMILES: [O+]#[Si-], dipole_moment: 3.1\n",
    "CASRN: 10102-43-9, SMILES: N=O, dipole_moment: 0.15\n",
    "CASRN: 10102-44-0, SMILES: [O-][N+]=O, dipole_moment: 0.32\n",
    "CASRN: 10218-87-8, SMILES: CNBr, dipole_moment: 2.1622\n",
    "CASRN: 10294-34-5, SMILES: ClB(Cl)Cl, dipole_moment: 0.0\n",
    "CASRN: 10405-27-3, SMILES: FNF, dipole_moment: 1.9\n",
    "CASRN: 10544-72-6, SMILES: [O-][N+](=O)[N+]([O-])=O, dipole_moment: 0.0\n",
    "CASRN: 10544-73-7, SMILES: [O-][N+](=O)N=O, dipole_moment: 2.12\n",
    "CASRN: 10545-99-0, SMILES: ClSCl, dipole_moment: 0.36\n",
    "CASRN: 10599-90-3, SMILES: NCl, dipole_moment: 2.2982\n",
    "CASRN: 11062-77-4, SMILES: [O][O-], dipole_moment: 0.0\n",
    "CASRN: 11113-63-6, SMILES: C.FF, dipole_moment: 4.1191\n",
    "CASRN: 12004-45-4, SMILES: [AlH2+].[AlH2+].[S--], dipole_moment: 2.179\n",
    "CASRN: 12005-95-7, SMILES: [Mn]#[As], dipole_moment: 4.7914\n",
    "CASRN: 12013-55-7, SMILES: [SiH2]=[Ca], dipole_moment: 5.2589\n",
    "CASRN: 12018-00-7, SMILES: O=[Cr], dipole_moment: 6.5612\n",
    "HTTP error occurred: 500 Server Error: INTERNAL SERVER ERROR for url: https://cactus.nci.nih.gov/chemical/structure/12018-08-5/smiles\n",
    "CASRN: 12018-08-5, SMILES: None, dipole_moment: 3.3664\n",
    "CASRN: 12022-99-0, SMILES: [SiH2]=[Fe]=[SiH2], dipole_moment: 3.4683\n",
    "CASRN: 12024-20-3, SMILES: [GaH2]O[GaH2], dipole_moment: 7.0472\n",
    "CASRN: 12025-34-2, SMILES: S=[Ge]=S, dipole_moment: 5.678\n",
    "HTTP error occurred: 500 Server Error: INTERNAL SERVER ERROR for url: https://cactus.nci.nih.gov/chemical/structure/12030-83-0/smiles\n",
    "CASRN: 12030-83-0, SMILES: None, dipole_moment: 3.45\n",
    "CASRN: 12033-56-6, SMILES: [N]=S, dipole_moment: 1.81\n",
    "CASRN: 12033-76-0, SMILES: ON=[SiH2], dipole_moment: 2.5698\n",
    "HTTP error occurred: 500 Server Error: INTERNAL SERVER ERROR for url: https://cactus.nci.nih.gov/chemical/structure/12035-57-3/smiles\n",
    "CASRN: 12035-57-3, SMILES: None, dipole_moment: 3.3756\n",
    "CASRN: 12039-13-3, SMILES: S=[Ti]=S, dipole_moment: 8.198\n",
    "HTTP error occurred: 500 Server Error: INTERNAL SERVER ERROR for url: https://cactus.nci.nih.gov/chemical/structure/12039-70-2/smiles\n",
    "CASRN: 12039-70-2, SMILES: None, dipole_moment: 3.6023\n",
    "CASRN: 12039-83-7, SMILES: [SiH2]=[Ti]=[SiH2], dipole_moment: 3.256\n",
    "HTTP error occurred: 500 Server Error: INTERNAL SERVER ERROR for url: https://cactus.nci.nih.gov/chemical/structure/12041-50-8/smiles\n",
    "CASRN: 12041-50-8, SMILES: None, dipole_moment: 3.6214\n",
    "CASRN: 12045-15-7, SMILES: B#[Mn], dipole_moment: 4.059\n",
    "CASRN: 12045-25-9, SMILES: SB=S, dipole_moment: 5.7183\n",
    "CASRN: 12045-27-1, SMILES: B#[V], dipole_moment: 5.5721\n",
    "HTTP error occurred: 500 Server Error: INTERNAL SERVER ERROR for url: https://cactus.nci.nih.gov/chemical/structure/12049-73-9/smiles\n",
    "CASRN: 12049-73-9, SMILES: None, dipole_moment: 2.0486\n",
    "CASRN: 12053-13-3, SMILES: [Cr]=[Se], dipole_moment: 10.5493\n",
    "HTTP error occurred: 500 Server Error: INTERNAL SERVER ERROR for url: https://cactus.nci.nih.gov/chemical/structure/12056-29-0/smiles\n",
    "CASRN: 12056-29-0, SMILES: None, dipole_moment: 2.67\n",
    "CASRN: 12061-70-0, SMILES: OF, dipole_moment: 0.0\n",
    "CASRN: 12063-98-8, SMILES: P#[Ga], dipole_moment: 3.5585\n",
    "CASRN: 12065-11-1, SMILES: [Se]=[Ge]=[Se], dipole_moment: 4.519\n",
    "CASRN: 12066-53-4, SMILES: P#[V], dipole_moment: 3.1738\n",
    "CASRN: 12067-45-7, SMILES: [Se]=[Ti]=[Se], dipole_moment: 2.2643\n",
    "CASRN: 12070-15-4, SMILES: CC, dipole_moment: 0.0\n",
    "CASRN: 12075-35-3, SMILES: [CH2]=[C]=[CH2], dipole_moment: 0.0\n",
    "CASRN: 12124-99-1, SMILES: [NH4+].[SH-], dipole_moment: 3.8925\n",
    "CASRN: 12125-02-9, SMILES: [NH4+].[Cl-], dipole_moment: 3.427\n",
    "HTTP error occurred: 500 Server Error: INTERNAL SERVER ERROR for url: https://cactus.nci.nih.gov/chemical/structure/12135-07-8/smiles\n",
    "CASRN: 12135-07-8, SMILES: None, dipole_moment: 1.5899\n",
    "CASRN: 12136-60-6, SMILES: [Li+].[Li+].[Se--], dipole_moment: 7.766\n",
    "CASRN: 12137-20-1, SMILES: O=[Ti], dipole_moment: 0.5539\n",
    "CASRN: 12142-77-7, SMILES: [Li+].[Li+].[O--], dipole_moment: 6.84\n",
    "CASRN: 12185-09-0, SMILES: P#P, dipole_moment: 0.0\n",
    "CASRN: 12185-10-3, SMILES: P12P3P1P23, dipole_moment: 0.0\n",
    "HTTP error occurred: 500 Server Error: INTERNAL SERVER ERROR for url: https://cactus.nci.nih.gov/chemical/structure/12190-75-9/smiles\n",
    "CASRN: 12190-75-9, SMILES: None, dipole_moment: 0.5903\n",
    "HTTP error occurred: 500 Server Error: INTERNAL SERVER ERROR for url: https://cactus.nci.nih.gov/chemical/structure/12200-64-5/smiles\n",
    "CASRN: 12200-64-5, SMILES: None, dipole_moment: 5.3868\n",
    "HTTP error occurred: 500 Server Error: INTERNAL SERVER ERROR for url: https://cactus.nci.nih.gov/chemical/structure/12201-89-7/smiles\n",
    "CASRN: 12201-89-7, SMILES: None, dipole_moment: 0.0\n",
    "CASRN: 12211-52-8, SMILES: [NH4+].[C-]#N, dipole_moment: 6.4553\n",
    "CASRN: 12232-25-6, SMILES: [Be]=[Se], dipole_moment: 6.6389\n",
    "CASRN: 12251-90-0, SMILES: [AlH2]S, dipole_moment: 1.6242\n",
    "HTTP error occurred: 500 Server Error: INTERNAL SERVER ERROR for url: https://cactus.nci.nih.gov/chemical/structure/12265-14-4/smiles\n",
    "CASRN: 12265-14-4, SMILES: None, dipole_moment: 2.3624\n",
    "HTTP error occurred: 500 Server Error: INTERNAL SERVER ERROR for url: https://cactus.nci.nih.gov/chemical/structure/12333-49-2/smiles\n",
    "CASRN: 12333-49-2, SMILES: None, dipole_moment: 0.46\n",
    "CASRN: 12357-66-3, SMILES: N#[NH+], dipole_moment: 3.1411\n",
    "CASRN: 12385-13-6, SMILES: [H][H], dipole_moment: 0.0\n",
    "HTTP error occurred: 500 Server Error: INTERNAL SERVER ERROR for url: https://cactus.nci.nih.gov/chemical/structure/12434-84-3/smiles\n",
    "CASRN: 12434-84-3, SMILES: None, dipole_moment: 5.344\n",
    "HTTP error occurred: 500 Server Error: INTERNAL SERVER ERROR for url: https://cactus.nci.nih.gov/chemical/structure/12504-41-5/smiles\n",
    "CASRN: 12504-41-5, SMILES: None, dipole_moment: 1.73\n",
    "CASRN: 12589-02-5, SMILES: B[SiH3], dipole_moment: 0.719\n",
    "CASRN: 12596-80-4, SMILES: [O]O[O-], dipole_moment: 1.0748\n",
    "CASRN: 12597-03-4, SMILES: S=[S]=S, dipole_moment: 0.3422\n",
    "HTTP error occurred: 500 Server Error: INTERNAL SERVER ERROR for url: https://cactus.nci.nih.gov/chemical/structure/12597-05-6/smiles\n",
    "CASRN: 12597-05-6, SMILES: None, dipole_moment: 1.2554\n",
    "CASRN: 12597-35-2, SMILES: [SiH2]=[SiH2], dipole_moment: 0.0\n",
    "CASRN: 12601-93-3, SMILES: P=C=P, dipole_moment: 1.9119\n",
    "CASRN: 12602-39-0, SMILES: PC#C, dipole_moment: 0.805\n",
    "CASRN: 12628-09-0, SMILES: B=C=[SiH2], dipole_moment: 2.9052\n",
    "CASRN: 13269-52-8, SMILES: CC\\C=C\\CC, dipole_moment: 0.0\n",
    "CASRN: 13283-31-3, SMILES: B, dipole_moment: 0.0\n",
    "CASRN: 13444-87-6, SMILES: BrN=O, dipole_moment: 0.4091\n",
    "CASRN: 13444-90-1, SMILES: [Cl-]|[NH+]([O-])=O, dipole_moment: 0.53\n",
    "CASRN: 13445-50-6, SMILES: PP, dipole_moment: 1.7845\n",
    "CASRN: 13462-88-9, SMILES: [Ni++].[Br-].[Br-], dipole_moment: 10.4556\n",
    "CASRN: 13463-67-7, SMILES: O=[Ti]=O, dipole_moment: 7.3723\n",
    "CASRN: 13465-07-1, SMILES: S, dipole_moment: 1.5878\n",
    "CASRN: 13465-78-6, SMILES: [SiH2]Cl, dipole_moment: 1.31\n",
    "CASRN: 13478-20-1, SMILES: F[P](F)(F)=O, dipole_moment: 1.76\n",
    "CASRN: 13478-41-6, SMILES: [F-].[Cu+], dipole_moment: 5.77\n",
    "HTTP error occurred: 500 Server Error: INTERNAL SERVER ERROR for url: https://cactus.nci.nih.gov/chemical/structure/13517-00-5/smiles\n",
    "CASRN: 13517-00-5, SMILES: None, dipole_moment: 3.372\n",
    "CASRN: 13517-11-8, SMILES: OBr, dipole_moment: 1.38\n",
    "CASRN: 13536-59-9, SMILES: [1H+].[Br-], dipole_moment: 1.2028\n",
    "CASRN: 13536-94-2, SMILES: S([2H])[2H], dipole_moment: 1.4264\n",
    "CASRN: 13537-30-9, SMILES: [F]|[GeH3], dipole_moment: 2.1983\n",
    "HTTP error occurred: 500 Server Error: INTERNAL SERVER ERROR for url: https://cactus.nci.nih.gov/chemical/structure/13537-33-2/smiles\n",
    "CASRN: 13537-33-2, SMILES: None, dipole_moment: 1.3\n",
    "CASRN: 13569-43-2, SMILES: [GeH3]|[Br], dipole_moment: 2.3785\n",
    "CASRN: 13587-49-0, SMILES: N[2H], dipole_moment: 1.6909\n",
    "CASRN: 13587-50-3, SMILES: P, dipole_moment: 1.2139\n",
    "CASRN: 13595-81-8, SMILES: [Al+].[Cl-], dipole_moment: 2.3239\n",
    "HTTP error occurred: 500 Server Error: INTERNAL SERVER ERROR for url: https://cactus.nci.nih.gov/chemical/structure/13595-82-9/smiles\n",
    "CASRN: 13595-82-9, SMILES: None, dipole_moment: 1.53\n",
    "CASRN: 13597-70-1, SMILES: PPP, dipole_moment: 1.2525\n",
    "HTTP error occurred: 500 Server Error: INTERNAL SERVER ERROR for url: https://cactus.nci.nih.gov/chemical/structure/13598-78-2/smiles\n",
    "CASRN: 13598-78-2, SMILES: None, dipole_moment: 1.5811\n",
    "CASRN: 13637-65-5, SMILES: [Cl]|[GeH3], dipole_moment: 2.2686\n",
    "CASRN: 13701-67-2, SMILES: ClB(Cl)B(Cl)Cl, dipole_moment: 0.0\n",
    "CASRN: 13709-35-8, SMILES: FSSF, dipole_moment: 1.45\n",
    "CASRN: 13709-36-9, SMILES: F[Xe]F, dipole_moment: 0.0\n",
    "CASRN: 13709-61-0, SMILES: F[Xe](F)(F)F, dipole_moment: 0.0\n",
    "CASRN: 13709-83-6, SMILES: FBF, dipole_moment: 1.5083\n",
    "CASRN: 13759-10-9, SMILES: S=[Si]=S, dipole_moment: 0.9794\n",
    "CASRN: 13762-18-0, SMILES: S[2H], dipole_moment: 1.4481\n",
    "CASRN: 13765-45-2, SMILES: [GeH3], dipole_moment: 0.1695\n",
    "HTTP error occurred: 500 Server Error: INTERNAL SERVER ERROR for url: https://cactus.nci.nih.gov/chemical/structure/13766-26-2/smiles\n",
    "CASRN: 13766-26-2, SMILES: None, dipole_moment: 1.27\n",
    "CASRN: 13766-28-4, SMILES: O=BB=O, dipole_moment: 0.0\n",
    "HTTP error occurred: 500 Server Error: INTERNAL SERVER ERROR for url: https://cactus.nci.nih.gov/chemical/structure/13767-16-3/smiles\n",
    "CASRN: 13767-16-3, SMILES: None, dipole_moment: 1.8277\n",
    "CASRN: 13768-07-5, SMILES: O[As]=O, dipole_moment: 2.6838\n",
    "CASRN: 13768-60-0, SMILES: BF, dipole_moment: 0.5\n",
    "CASRN: 13768-94-0, SMILES: Br[SiH2]Br, dipole_moment: 2.0042\n",
    "CASRN: 13769-36-3, SMILES: [GeH2](|[Br])|[Br], dipole_moment: 2.2488\n",
    "CASRN: 13773-81-4, SMILES: F[Kr]F, dipole_moment: 2.1951\n",
    "CASRN: 13774-92-0, SMILES: N, dipole_moment: 1.7756\n",
    "CASRN: 13775-80-9, SMILES: [H+].[Br-].NN, dipole_moment: 2.7701\n",
    "CASRN: 13776-62-0, SMILES: FN=NF, dipole_moment: 0.0\n",
    "CASRN: 13780-23-9, SMILES: [S], dipole_moment: 0.76\n",
    "CASRN: 13780-28-4, SMILES: N([2H])[2H], dipole_moment: 1.8856\n",
    "CASRN: 13780-29-5, SMILES: P([2H])[2H], dipole_moment: 1.2189\n",
    "CASRN: 13812-43-6, SMILES: FN=NF, dipole_moment: 0.16\n",
    "CASRN: 13814-20-5, SMILES: [F-].[F-].[Ti++], dipole_moment: 9.4166\n",
    "CASRN: 13814-25-0, SMILES: FSF, dipole_moment: 1.05\n",
    "CASRN: 13817-04-4, SMILES: N=[S]=O, dipole_moment: 1.4794\n",
    "HTTP error occurred: 500 Server Error: INTERNAL SERVER ERROR for url: https://cactus.nci.nih.gov/chemical/structure/13817-06-6/smiles\n",
    "CASRN: 13817-06-6, SMILES: None, dipole_moment: 2.9949\n",
    "CASRN: 13824-36-7, SMILES: F[SiH2]F, dipole_moment: 2.1993\n",
    "CASRN: 13827-32-2, SMILES: O=S, dipole_moment: 1.55\n",
    "CASRN: 13840-88-5, SMILES: [OH2+][B][O-], dipole_moment: 0.0\n",
    "HTTP error occurred: 500 Server Error: INTERNAL SERVER ERROR for url: https://cactus.nci.nih.gov/chemical/structure/13845-23-3/smiles\n",
    "CASRN: 13845-23-3, SMILES: None, dipole_moment: 0.7066\n",
    "CASRN: 13863-41-7, SMILES: ClBr, dipole_moment: 0.52\n",
    "CASRN: 13863-59-7, SMILES: FBr, dipole_moment: 1.42\n",
    "CASRN: 13898-47-0, SMILES: [Na+].[O-][Cl]=O, dipole_moment: 4.8764\n",
    "CASRN: 13940-21-1, SMILES: [SH], dipole_moment: 0.76\n",
    "CASRN: 13940-63-1, SMILES: [F]|[GeH2]|[F], dipole_moment: 2.61\n",
    "CASRN: 13952-84-6, SMILES: CCC(C)N, dipole_moment: 1.28\n",
    "CASRN: 13965-73-6, SMILES: FB(F)B(F)F, dipole_moment: 0.0\n",
    "HTTP error occurred: 500 Server Error: INTERNAL SERVER ERROR for url: https://cactus.nci.nih.gov/chemical/structure/13965-74-7/smiles\n",
    "CASRN: 13965-74-7, SMILES: None, dipole_moment: 0.7819\n",
    "CASRN: 13966-66-0, SMILES: [F-].[Si].[H+], dipole_moment: 1.23\n",
    "HTTP error occurred: 500 Server Error: INTERNAL SERVER ERROR for url: https://cactus.nci.nih.gov/chemical/structure/13966-78-4/smiles\n",
    "CASRN: 13966-78-4, SMILES: None, dipole_moment: 2.45\n",
    "HTTP error occurred: 500 Server Error: INTERNAL SERVER ERROR for url: https://cactus.nci.nih.gov/chemical/structure/13983-20-5/smiles\n",
    "CASRN: 13983-20-5, SMILES: None, dipole_moment: 0.0\n",
    "CASRN: 14017-34-6, SMILES: F[Se]F, dipole_moment: 2.3721\n",
    "CASRN: 14034-79-8, SMILES: OF, dipole_moment: 2.23\n",
    "CASRN: 14044-97-4, SMILES: [SiH3]S, dipole_moment: 1.6122\n",
    "CASRN: 14067-04-0, SMILES: [Ti], dipole_moment: 0.0\n",
    "CASRN: 14127-61-8, SMILES: [Ca++], dipole_moment: 0.0\n",
    "CASRN: 14312-20-0, SMILES: BrSBr, dipole_moment: 0.2627\n",
    "CASRN: 14314-42-2, SMILES: O, dipole_moment: 2.1164\n",
    "CASRN: 14332-28-6, SMILES: N=O, dipole_moment: 1.67\n",
    "CASRN: 14452-59-6, SMILES: [Li][Li], dipole_moment: 0.0\n",
    "HTTP error occurred: 500 Server Error: INTERNAL SERVER ERROR for url: https://cactus.nci.nih.gov/chemical/structure/14452-60-9/smiles\n",
    "CASRN: 14452-60-9, SMILES: None, dipole_moment: 0.0\n",
    "CASRN: 14452-66-5, SMILES: O=[P], dipole_moment: 1.88\n",
    "CASRN: 14457-70-6, SMILES: Cl[Se]Cl, dipole_moment: 1.5206\n",
    "CASRN: 14457-85-3, SMILES: B=S, dipole_moment: 1.3\n",
    "HTTP error occurred: 500 Server Error: INTERNAL SERVER ERROR for url: https://cactus.nci.nih.gov/chemical/structure/14500-81-3/smiles\n",
    "CASRN: 14500-81-3, SMILES: None, dipole_moment: 2.4853\n",
    "HTTP error occurred: 500 Server Error: INTERNAL SERVER ERROR for url: https://cactus.nci.nih.gov/chemical/structure/14500-84-6/smiles\n",
    "CASRN: 14500-84-6, SMILES: None, dipole_moment: 1.5428\n",
    "CASRN: 14519-03-0, SMILES: BrNBr, dipole_moment: 1.4877\n",
    "CASRN: 14519-10-9, SMILES: NBr, dipole_moment: 2.1085\n",
    "CASRN: 14525-25-8, SMILES: Cl[As]=O, dipole_moment: 5.5152\n",
    "CASRN: 14545-72-3, SMILES: [O-][N+](=O)OCl, dipole_moment: 0.77\n",
    "HTTP error occurred: 500 Server Error: INTERNAL SERVER ERROR for url: https://cactus.nci.nih.gov/chemical/structure/14616-31-0/smiles\n",
    "CASRN: 14616-31-0, SMILES: None, dipole_moment: 2.2595\n",
    "CASRN: 14701-22-5, SMILES: [Ni++], dipole_moment: 0.0\n",
    "CASRN: 14720-35-5, SMILES: BN, dipole_moment: 2.5557\n",
    "CASRN: 14762-94-8, SMILES: [F], dipole_moment: 0.0\n",
    "CASRN: 14808-60-7, SMILES: O=[Si]=O, dipole_moment: 1.5189\n",
    "CASRN: 14885-60-0, SMILES: [3H][H], dipole_moment: 0.0\n",
    "CASRN: 14915-07-2, SMILES: [O-][O-], dipole_moment: 0.0\n",
    "CASRN: 14939-17-4, SMILES: [GeH3]O[GeH3], dipole_moment: 1.6282\n",
    "CASRN: 14939-45-8, SMILES: [SiH3][Se][SiH3], dipole_moment: 1.5206\n",
    "CASRN: 14940-63-7, SMILES: O[2H], dipole_moment: 1.85\n",
    "CASRN: 14940-65-9, SMILES: O([3H])[3H], dipole_moment: 2.1792\n",
    "CASRN: 14984-74-8, SMILES: FPF, dipole_moment: 2.2873\n",
    "CASRN: 14986-65-3, SMILES: [F]|[GeH2]|[F], dipole_moment: 2.6549\n",
    "CASRN: 14989-30-1, SMILES: [O]Cl, dipole_moment: 1.24\n",
    "CASRN: 15056-34-5, SMILES: NN=N, dipole_moment: 1.4085\n",
    "CASRN: 15230-48-5, SMILES: [Cl]|[GeH2]|[Cl], dipole_moment: 2.3569\n",
    "CASRN: 15435-77-5, SMILES: [SiH2]=[SiH2], dipole_moment: 0.3577\n",
    "CASRN: 15438-31-0, SMILES: [Fe++], dipole_moment: 0.0\n",
    "HTTP error occurred: 500 Server Error: INTERNAL SERVER ERROR for url: https://cactus.nci.nih.gov/chemical/structure/15454-33-8/smiles\n",
    "CASRN: 15454-33-8, SMILES: None, dipole_moment: 0.6548\n",
    "CASRN: 15455-99-9, SMILES: [SiH3][AsH2], dipole_moment: 1.0277\n",
    "HTTP error occurred: 500 Server Error: INTERNAL SERVER ERROR for url: https://cactus.nci.nih.gov/chemical/structure/15606-71-0/smiles\n",
    "CASRN: 15606-71-0, SMILES: None, dipole_moment: 4.26\n",
    "CASRN: 15626-43-4, SMILES: NN, dipole_moment: 0.0\n",
    "HTTP error occurred: 500 Server Error: INTERNAL SERVER ERROR for url: https://cactus.nci.nih.gov/chemical/structure/15697-17-3/smiles\n",
    "CASRN: 15697-17-3, SMILES: None, dipole_moment: 9.078\n",
    "CASRN: 15861-05-9, SMILES: NF, dipole_moment: 2.4507\n",
    "HTTP error occurred: 500 Server Error: INTERNAL SERVER ERROR for url: https://cactus.nci.nih.gov/chemical/structure/15905-98-3/smiles\n",
    "CASRN: 15905-98-3, SMILES: None, dipole_moment: 5.2528\n",
    "CASRN: 15969-58-1, SMILES: [Ti++], dipole_moment: 0.0\n",
    "CASRN: 16043-45-1, SMILES: [Ti+4], dipole_moment: 0.0\n",
    "CASRN: 16065-83-1, SMILES: [Cr+3], dipole_moment: 0.0\n",
    "CASRN: 16136-84-8, SMILES: C\\C=C/Cl, dipole_moment: 1.67\n",
    "CASRN: 16136-85-9, SMILES: C/C=C/Cl, dipole_moment: 1.97\n",
    "CASRN: 16355-69-4, SMILES: N(=O)[2H], dipole_moment: 2.197\n",
    "CASRN: 16544-95-9, SMILES: [SiH3]S[SiH3], dipole_moment: 1.7852\n",
    "CASRN: 16603-84-2, SMILES: [AlH++].[Cl-].[Cl-], dipole_moment: 2.1049\n",
    "CASRN: 16643-15-5, SMILES: CS[SiH3], dipole_moment: 1.8641\n",
    "CASRN: 16734-12-6, SMILES: [S-][S-], dipole_moment: 0.0\n",
    "CASRN: 16812-54-7, SMILES: S.[Ni], dipole_moment: 8.5058\n",
    "CASRN: 16833-27-5, SMILES: [O--], dipole_moment: 0.0\n",
    "HTTP error occurred: 500 Server Error: INTERNAL SERVER ERROR for url: https://cactus.nci.nih.gov/chemical/structure/16860-99-4/smiles\n",
    "CASRN: 16860-99-4, SMILES: None, dipole_moment: 1.03\n",
    "CASRN: 16873-17-9, SMILES: [2H][H], dipole_moment: 0.0\n",
    "HTTP error occurred: 500 Server Error: INTERNAL SERVER ERROR for url: https://cactus.nci.nih.gov/chemical/structure/16890-80-5/smiles\n",
    "CASRN: 16890-80-5, SMILES: None, dipole_moment: 2.4064\n",
    "CASRN: 17242-52-3, SMILES: [NH2-].[K+], dipole_moment: 1.5778\n",
    "CASRN: 17256-78-9, SMILES: [H+].[F-].NO, dipole_moment: 5.1162\n",
    "CASRN: 17739-47-8, SMILES: N#P, dipole_moment: 2.75\n",
    "CASRN: 17778-80-2, SMILES: O, dipole_moment: 0.0\n",
    "CASRN: 17778-88-0, SMILES: N, dipole_moment: 0.0\n",
    "CASRN: 18282-77-4, SMILES: C=C=S, dipole_moment: 2.2255\n",
    "CASRN: 18496-25-8, SMILES: [S--], dipole_moment: 0.0\n",
    "CASRN: 18540-29-9, SMILES: [Cr+6], dipole_moment: 0.0\n",
    "CASRN: 18820-63-8, SMILES: F[S]#N, dipole_moment: 0.7509\n",
    "CASRN: 18852-54-5, SMILES: [GeH3]S[GeH3], dipole_moment: 1.6696\n",
    "CASRN: 19121-56-3, SMILES: B=P, dipole_moment: 1.8912\n",
    "CASRN: 19287-45-7, SMILES: BB, dipole_moment: 0.0\n",
    "CASRN: 19650-79-4, SMILES: [OH-].[Cu++], dipole_moment: 1.5017\n",
    "CASRN: 20074-52-6, SMILES: [Fe+3], dipole_moment: 0.0\n",
    "CASRN: 20548-54-3, SMILES: S=[Ca], dipole_moment: 12.9483\n",
    "CASRN: 20619-16-3, SMILES: O=[GeH2], dipole_moment: 3.28\n",
    "CASRN: 20729-41-3, SMILES: CC=N, dipole_moment: 1.9\n",
    "CASRN: 20859-73-8, SMILES: [Al+3].[P-3], dipole_moment: 4.2674\n",
    "CASRN: 20901-21-7, SMILES: O=[S]=S, dipole_moment: 1.47\n",
    "CASRN: 22400-26-6, SMILES: [N]=C=O, dipole_moment: 0.64\n",
    "CASRN: 22537-15-1, SMILES: [Cl], dipole_moment: 0.0\n",
    "CASRN: 22537-20-8, SMILES: [Be++], dipole_moment: 0.0\n",
    "CASRN: 22537-22-0, SMILES: [Mg++], dipole_moment: 0.0\n",
    "CASRN: 22541-48-6, SMILES: [Se--], dipole_moment: 0.0\n",
    "CASRN: 22541-75-9, SMILES: [Ti+4], dipole_moment: 0.0\n",
    "CASRN: 22541-79-3, SMILES: [Cr++], dipole_moment: 0.0\n",
    "HTTP error occurred: 500 Server Error: INTERNAL SERVER ERROR for url: https://cactus.nci.nih.gov/chemical/structure/22755-01-7/smiles\n",
    "CASRN: 22755-01-7, SMILES: None, dipole_moment: 4.5999\n",
    "CASRN: 22831-39-6, SMILES: [Mg]=[Si]=[Mg], dipole_moment: 1.5712\n",
    "CASRN: 22831-42-1, SMILES: [Al]#[As], dipole_moment: 1.1543\n",
    "HTTP error occurred: 500 Server Error: INTERNAL SERVER ERROR for url: https://cactus.nci.nih.gov/chemical/structure/23058-19-7/smiles\n",
    "CASRN: 23058-19-7, SMILES: None, dipole_moment: 0.0\n",
    "CASRN: 23330-87-2, SMILES: [AlH2][SeH], dipole_moment: 7.1131\n",
    "CASRN: 23361-55-9, SMILES: ClB=O, dipole_moment: 2.746\n",
    "CASRN: 23361-56-0, SMILES: FB=O, dipole_moment: 1.852\n",
    "CASRN: 23550-45-0, SMILES: S=S, dipole_moment: 0.0\n",
    "CASRN: 23713-49-7, SMILES: [Zn++], dipole_moment: 0.0\n",
    "HTTP error occurred: 500 Server Error: INTERNAL SERVER ERROR for url: https://cactus.nci.nih.gov/chemical/structure/24167-76-8/smiles\n",
    "CASRN: 24167-76-8, SMILES: None, dipole_moment: 1.5977\n",
    "HTTP error occurred: 500 Server Error: INTERNAL SERVER ERROR for url: https://cactus.nci.nih.gov/chemical/structure/24228-44-2/smiles\n",
    "CASRN: 24228-44-2, SMILES: None, dipole_moment: 3.2689\n",
    "CASRN: 24286-05-3, SMILES: C(=O)[2H], dipole_moment: 2.7614\n",
    "CASRN: 24304-00-5, SMILES: N#[Al], dipole_moment: 2.939\n",
    "CASRN: 24567-53-1, SMILES: PCl, dipole_moment: 2.3915\n",
    "CASRN: 24623-77-6, SMILES: O[Al]=O, dipole_moment: 5.0947\n",
    "CASRN: 24646-85-3, SMILES: N#[V], dipole_moment: 8.4895\n",
    "CASRN: 24981-14-4, SMILES: CCF, dipole_moment: 1.2018\n",
    "HTTP error occurred: 500 Server Error: INTERNAL SERVER ERROR for url: https://cactus.nci.nih.gov/chemical/structure/25277-93-4/smiles\n",
    "CASRN: 25277-93-4, SMILES: None, dipole_moment: 1.9582\n",
    "CASRN: 25400-21-9, SMILES: O[AsH2], dipole_moment: 2.9318\n",
    "CASRN: 25617-97-4, SMILES: N#[Ga], dipole_moment: 1.6499\n",
    "CASRN: 25681-79-2, SMILES: [Na][Na], dipole_moment: 0.0\n",
    "HTTP error occurred: 500 Server Error: INTERNAL SERVER ERROR for url: https://cactus.nci.nih.gov/chemical/structure/25756-83-6/smiles\n",
    "CASRN: 25756-83-6, SMILES: None, dipole_moment: 1.3996\n",
    "HTTP error occurred: 500 Server Error: INTERNAL SERVER ERROR for url: https://cactus.nci.nih.gov/chemical/structure/25756-87-0/smiles\n",
    "CASRN: 25756-87-0, SMILES: None, dipole_moment: 0.6532\n",
    "CASRN: 26404-66-0, SMILES: OO[N+]([O-])=O, dipole_moment: 1.99\n",
    "CASRN: 26981-93-1, SMILES: CN=N, dipole_moment: 0.3509\n",
    "CASRN: 27016-73-5, SMILES: [Co]#[As], dipole_moment: 6.2613\n",
    "CASRN: 29210-66-0, SMILES: [SiH3]C#N, dipole_moment: 3.3394\n",
    "HTTP error occurred: 500 Server Error: INTERNAL SERVER ERROR for url: https://cactus.nci.nih.gov/chemical/structure/29696-97-7/smiles\n",
    "CASRN: 29696-97-7, SMILES: None, dipole_moment: 2.1645\n",
    "HTTP error occurred: 500 Server Error: INTERNAL SERVER ERROR for url: https://cactus.nci.nih.gov/chemical/structure/29904-79-8/smiles\n",
    "CASRN: 29904-79-8, SMILES: None, dipole_moment: 0.0\n",
    "CASRN: 30830-20-7, SMILES: C1CC2=C1CC2, dipole_moment: 0.0\n",
    "HTTP error occurred: 500 Server Error: INTERNAL SERVER ERROR for url: https://cactus.nci.nih.gov/chemical/structure/31139-16-9/smiles\n",
    "CASRN: 31139-16-9, SMILES: None, dipole_moment: 0.4714\n",
    "CASRN: 31219-53-1, SMILES: O=[AsH3], dipole_moment: 5.1605\n",
    "HTTP error occurred: 500 Server Error: INTERNAL SERVER ERROR for url: https://cactus.nci.nih.gov/chemical/structure/31479-14-8/smiles\n",
    "CASRN: 31479-14-8, SMILES: None, dipole_moment: 0.2833\n",
    "CASRN: 32038-79-2, SMILES: OC#C, dipole_moment: 2.2219\n",
    "CASRN: 32752-94-6, SMILES: [Al]#[Al], dipole_moment: 0.0\n",
    "CASRN: 34627-31-1, SMILES: CC#P, dipole_moment: 1.7659\n",
    "CASRN: 35576-91-1, SMILES: NN=O, dipole_moment: 3.2031\n",
    "CASRN: 36336-08-0, SMILES: COF, dipole_moment: 2.3083\n",
    "HTTP error occurred: 500 Server Error: INTERNAL SERVER ERROR for url: https://cactus.nci.nih.gov/chemical/structure/36429-11-5/smiles\n",
    "CASRN: 36429-11-5, SMILES: None, dipole_moment: 1.5987\n",
    "CASRN: 36835-58-2, SMILES: [SiH3][SiH3], dipole_moment: 0.2963\n",
    "CASRN: 37297-57-7, SMILES: [AlH2]C#C, dipole_moment: 2.3455\n",
    "HTTP error occurred: 500 Server Error: INTERNAL SERVER ERROR for url: https://cactus.nci.nih.gov/chemical/structure/38063-40-0/smiles\n",
    "CASRN: 38063-40-0, SMILES: None, dipole_moment: 0.3386\n",
    "CASRN: 38490-24-3, SMILES: BrB=O, dipole_moment: 5.6476\n",
    "HTTP error occurred: 500 Server Error: INTERNAL SERVER ERROR for url: https://cactus.nci.nih.gov/chemical/structure/39432-25-2/smiles\n",
    "CASRN: 39432-25-2, SMILES: None, dipole_moment: 0.1437\n",
    "CASRN: 39594-91-7, SMILES: SSCl, dipole_moment: 2.0027\n",
    "CASRN: 40100-16-1, SMILES: C=[S]=O, dipole_moment: 1.4798\n",
    "HTTP error occurred: 500 Server Error: INTERNAL SERVER ERROR for url: https://cactus.nci.nih.gov/chemical/structure/41591-55-3/smiles\n",
    "CASRN: 41591-55-3, SMILES: None, dipole_moment: 3.2125\n",
    "CASRN: 41916-72-7, SMILES: P=P, dipole_moment: 2.01\n",
    "HTTP error occurred: 500 Server Error: INTERNAL SERVER ERROR for url: https://cactus.nci.nih.gov/chemical/structure/43435-60-5/smiles\n",
    "CASRN: 43435-60-5, SMILES: None, dipole_moment: 5.0414\n",
    "HTTP error occurred: 500 Server Error: INTERNAL SERVER ERROR for url: https://cactus.nci.nih.gov/chemical/structure/50927-81-6/smiles\n",
    "CASRN: 50927-81-6, SMILES: None, dipole_moment: 1.4999\n",
    "CASRN: 52323-02-1, SMILES: ClC#P, dipole_moment: 0.3027\n",
    "CASRN: 52509-85-0, SMILES: Br[S]#N, dipole_moment: 1.0012\n",
    "HTTP error occurred: 500 Server Error: INTERNAL SERVER ERROR for url: https://cactus.nci.nih.gov/chemical/structure/53750-02-0/smiles\n",
    "CASRN: 53750-02-0, SMILES: None, dipole_moment: 1.2851\n",
    "HTTP error occurred: 500 Server Error: INTERNAL SERVER ERROR for url: https://cactus.nci.nih.gov/chemical/structure/53844-93-2/smiles\n",
    "CASRN: 53844-93-2, SMILES: None, dipole_moment: 1.8309\n",
    "HTTP error occurred: 500 Server Error: INTERNAL SERVER ERROR for url: https://cactus.nci.nih.gov/chemical/structure/54098-92-9/smiles\n",
    "CASRN: 54098-92-9, SMILES: None, dipole_moment: 2.0457\n",
    "CASRN: 55753-38-3, SMILES: ClB=S, dipole_moment: 6.9494\n",
    "CASRN: 56400-02-3, SMILES: [N-]=[N+]=S, dipole_moment: 1.4749\n",
    "CASRN: 56730-08-6, SMILES: [Na+].[O-]P, dipole_moment: 4.9264\n",
    "CASRN: 58436-39-8, SMILES: PC=C, dipole_moment: 2.0578\n",
    "HTTP error occurred: 500 Server Error: INTERNAL SERVER ERROR for url: https://cactus.nci.nih.gov/chemical/structure/60635-32-7/smiles\n",
    "CASRN: 60635-32-7, SMILES: None, dipole_moment: 2.0942\n",
    "CASRN: 61134-37-0, SMILES: C=C=[Se], dipole_moment: 4.5091\n",
    "CASRN: 61183-51-5, SMILES: ClP=C, dipole_moment: 2.6679\n",
    "CASRN: 61183-53-7, SMILES: C=P, dipole_moment: 0.87\n",
    "HTTP error occurred: 500 Server Error: INTERNAL SERVER ERROR for url: https://cactus.nci.nih.gov/chemical/structure/62064-82-8/smiles\n",
    "CASRN: 62064-82-8, SMILES: None, dipole_moment: 2.3731\n",
    "CASRN: 65756-42-5, SMILES: FC#P, dipole_moment: 0.5678\n",
    "CASRN: 66904-99-2, SMILES: BrB=S, dipole_moment: 7.4783\n",
    "CASRN: 67281-48-5, SMILES: CC=[Se], dipole_moment: 3.1617\n",
    "HTTP error occurred: 500 Server Error: INTERNAL SERVER ERROR for url: https://cactus.nci.nih.gov/chemical/structure/95118-37-9/smiles\n",
    "CASRN: 95118-37-9, SMILES: None, dipole_moment: 3.2456\n",
    "CASRN: 95250-85-4, SMILES: C=[Fe], dipole_moment: 4.7633\n",
    "HTTP error occurred: 500 Server Error: INTERNAL SERVER ERROR for url: https://cactus.nci.nih.gov/chemical/structure/105473-14-1/smiles\n",
    "CASRN: 105473-14-1, SMILES: None, dipole_moment: 7.4789\n",
    "CASRN: 107257-40-9, SMILES: CC=P, dipole_moment: 2.225\n",
    "CASRN: 110601-75-7, SMILES: B#P, dipole_moment: 2.3795\n",
    "HTTP error occurred: 500 Server Error: INTERNAL SERVER ERROR for url: https://cactus.nci.nih.gov/chemical/structure/112296-53-4/smiles\n",
    "CASRN: 112296-53-4, SMILES: None, dipole_moment: 3.9481\n",
    "HTTP error occurred: 500 Server Error: INTERNAL SERVER ERROR for url: https://cactus.nci.nih.gov/chemical/structure/115410-77-0/smiles\n",
    "CASRN: 115410-77-0, SMILES: None, dipole_moment: 6.8123\n"
   ]
  },
  {
   "cell_type": "code",
   "execution_count": 26,
   "metadata": {},
   "outputs": [
    {
     "name": "stdout",
     "output_type": "stream",
     "text": [
      "['FC=C' 1.43 2.1977589982539567 0.4025008850021998]\n",
      "['FCF' 0.46 2.491954616830719 0.4698371961748457]\n",
      "['CC(F)F' 2.27 2.735899447754348 0.4852071986337911]\n",
      "['FC(F)=C' 1.38 2.453324550589267 0.4197965981766817]\n",
      "['FC(Cl)Cl' 1.29 1.7610554652832138 0.33100275087290054]\n",
      "['FC(F)Cl' 1.4 2.0394298066677305 0.3801986598506341]\n",
      "['FC(F)F' 1.65 2.1581023303804243 0.4034215583950098]\n",
      "['FC(F)(Br)Br' 0.66 1.649779323336218 0.29562794500879086]\n",
      "['FC(F)(F)Br' 0.64 1.5892754283742065 0.28506923652253263]\n",
      "['CC(F)(F)Cl' 2.14 2.588555352542354 0.43383160761775774]\n",
      "['FC(Cl)(Cl)Cl' 0.45 0.9418331314482787 0.17152749768481845]\n",
      "['FC(F)(Cl)Cl' 0.51 1.1628116494011507 0.21070326643122667]\n",
      "['FC(F)(F)Cl' 0.5 1.1005005064368376 0.20218335592289927]\n",
      "['FC(F)(F)F' 0.0 0.028413918849957698 0.009162748357346925]\n",
      "['OC(=O)C(F)(F)F' 2.28 1.3236217197828657 0.25803911031864224]\n",
      "['FC(F)(Cl)C(F)(F)Cl' 0.56 0.1665542808642292 0.04445604469324228]\n",
      "['FC(F)(F)C(F)(F)Cl' 0.52 1.1672431483703298 0.21540593586168305]\n",
      "['FC(F)(F)C(F)(F)F' 0.0 0.06056927762468636 0.01830828748865335]\n",
      "['FC(F)(F)C(F)(F)C(F)(F)F' 0.0 0.1304582435696659 0.04732048909761638]\n",
      "['FC1(F)C(F)(F)C(F)(F)C1(F)F' 0.0 0.040249523982893116\n",
      " 0.011059600931218794]\n",
      "['FC(F)=C(F)F' 0.0 0.04982539161793992 0.013492671962470157]\n",
      "['FC(F)(F)C(F)(F)C(F)(F)C(F)(F)C(F)(F)C(F)(F)C(F)(F)C(F)(F)F' 0.0\n",
      " 0.4538712150707015 0.16619498654024595]\n",
      "['FC(F)(F)C(F)(F)C(F)(F)C(F)(F)C(F)(F)C(F)(F)C(F)(F)C(F)(F)C(F)(F)C(F)(F)F'\n",
      " 0.0 0.2008612565242885 0.08011701307040207]\n",
      "['FC(F)(F)C(F)(F)C(F)(F)C(F)(F)C(F)(F)C(F)(F)C(F)(F)F' 0.0\n",
      " 0.21906757782417635 0.08401828427940011]\n",
      "['CCF' 1.96 2.2737068690525146 0.42602342832630474]\n",
      "['FC(F)=O' 0.95 0.461899160190712 0.08200073867588516]\n",
      "['NCC(F)(F)F' 1.33 2.222173076588417 0.3408077660848498]\n",
      "['FC(F)C(F)(F)F' 1.541 2.097717803476222 0.3780114872096577]\n",
      "['FC(F)(F)C(F)(F)C(F)(F)C(F)(F)C(F)(F)C(F)(F)F' 0.0 0.12097108325694142\n",
      " 0.06872091225393596]\n",
      "['FC1(F)C(F)(F)C(F)(F)C(F)(F)C(F)(F)C1(F)F' 0.0 0.37787376430105823\n",
      " 0.10363688137098899]\n",
      "['FC=C(F)F' 1.4 2.178253381052753 0.3975495445370879]\n",
      "['FC(F)C(F)F' 0.0 3.456000345719472 0.6560357302947596]\n",
      "['Fc1cccc(F)c1' 1.58 2.34777398464221 0.4082433214907002]\n",
      "['FCBr' 2.1681 2.0789369662885306 0.39371180499725034]\n",
      "['Fc1c(F)c(F)c(F)c(F)c1F' 0.0 0.044040324775220345 0.010373578400698098]\n",
      "['CC(F)(F)F' 2.32 2.861194303204906 0.4774095866277613]\n",
      "['Fc1ccccc1' 1.6 2.3739756057752417 0.41571668401823236]\n",
      "['CC(F)=O' 2.96 2.9908294177271935 0.49806787083324916]\n",
      "['CF' 1.85 2.182549895980005 0.4179679779161909]\n",
      "['FCCl' 1.82 2.147062781600139 0.4039324747281567]\n",
      "['FCCF' 2.671 0.28614454015629104 0.05499279820909775]\n",
      "['FC(F)(F)C(F)(F)C(F)(F)C(F)(F)C(F)(F)F' 0.0 0.10519945712112623\n",
      " 0.04278331406355185]\n",
      "['[Fe++].[S-][S-]' 0.0 0.0 0.0]\n",
      "['FC=O' 2.02 2.374677571605215 0.4419879950570774]\n",
      "['FC#N' 2.17 0.21650246330036968 0.03153440528706076]\n",
      "['FC(F)Br' 1.5 2.1221648228054097 0.3954616218135595]\n",
      "['F\\\\C=C/F' 2.42 3.605795828944288 0.6776568274375543]\n",
      "['F\\\\C=C\\\\F' 0.55 0.02634257169061857 0.007584643179132754]\n",
      "['FC(F)(F)I' 1.05 1.803507818759663 0.3147659661681144]\n",
      "['F[S](F)(=O)=O' 1.12 0.7050542574824227 0.12875985809156035]\n",
      "['FC#C' 0.73 2.188699934622432 0.379774136105313]\n",
      "['[Fe]' 0.0 0.0 0.0]\n",
      "['FB(F)F' 0.0 0.0 0.1616324792275836]\n",
      "['[H+].[F-]' 1.82 0.0 0.0]\n",
      "['[F-].[Na+]' 8.16 0.0 0.0]\n",
      "['FF' 0.0 0.0 0.0]\n",
      "['FOF' 0.3 0.062017104295939145 0.015642543393459947]\n",
      "['FOOF' 1.44 0.08182622561721303 0.017835859212421003]\n",
      "['FN(F)F' 0.23 0.3097377129750545 0.0884335914309254]\n",
      "['FP(F)F' 1.03 0.8734005254316273 0.2589405380248757]\n",
      "['F[S](F)(F)F' 0.63 1.1092614950625497 0.34503878973592594]\n",
      "['F[Si](F)(F)F' 0.0 0.0 0.013990587672499727]\n",
      "['[F-].[F-].[F-].[Al+3]' 0.0 0.0 0.0]\n",
      "['[F-].[K+]' 8.56 0.0 0.0]\n",
      "['[Li+].[F-]' 6.28 0.0 0.0]\n",
      "['FN=O' 1.81 0.5499025026453327 0.11848441272701729]\n",
      "['FCl' 0.88 0.8616326169537788 0.19607599668775513]\n",
      "['[O-][N+](F)=O' 0.5 0.5263586032400474 0.4967923785063447]\n",
      "['FN(F)N(F)F' 0.3 0.4202197684568842 0.10921745892649445]\n",
      "['FNF' 1.9 1.888504205288742 0.331168034542014]\n",
      "['C.FF' 4.1191 0.006398275265120762 0.0018634817477288458]\n",
      "['OF' 2.23 1.6181623426542668 0.29201416611808007]\n",
      "['F[P](F)(F)=O' 1.76 0.5914072660851672 0.10877500841415302]\n",
      "['[F-].[Cu+]' 5.77 0.0 0.0]\n",
      "['FSSF' 1.45 1.4694553648561128 0.33922629508539365]\n",
      "['FBF' 1.5083 0.0 0.5075678183460104]\n",
      "['BF' 0.5 0.0 0.5201285696160342]\n",
      "['FN=NF' 0.16 0.002906848769028056 0.0006464048622920128]\n",
      "['[F-].[F-].[Ti++]' 9.4166 0.0 0.0]\n",
      "['FSF' 1.05 0.937561281932953 0.24788230109728437]\n",
      "['F[SiH2]F' 2.1993 0.0 0.6812045729104578]\n",
      "['FBr' 1.42 1.2538920454365938 0.29102580695589464]\n",
      "['FB(F)B(F)F' 0.0 0.0 0.29732884054933856]\n",
      "['[F-].[Si].[H+]' 1.23 0.0 0.0]\n",
      "['[F]' 0.0 0.0 0.0]\n",
      "['FPF' 2.2873 2.6533990466026136 0.5113848421020177]\n",
      "['[Fe++]' 0.0 0.0 0.0]\n",
      "['NF' 2.4507 1.927087835658791 0.3469283029802215]\n"
     ]
    }
   ],
   "source": [
    "for index, row in df.iterrows():\n",
    "    if 'f' in row['SMILES'].lower():\n",
    "        print(row.values)"
   ]
  }
 ],
 "metadata": {
  "kernelspec": {
   "display_name": "drug-discovery-venv",
   "language": "python",
   "name": "python3"
  },
  "language_info": {
   "codemirror_mode": {
    "name": "ipython",
    "version": 3
   },
   "file_extension": ".py",
   "mimetype": "text/x-python",
   "name": "python",
   "nbconvert_exporter": "python",
   "pygments_lexer": "ipython3",
   "version": "3.11.7"
  }
 },
 "nbformat": 4,
 "nbformat_minor": 2
}
