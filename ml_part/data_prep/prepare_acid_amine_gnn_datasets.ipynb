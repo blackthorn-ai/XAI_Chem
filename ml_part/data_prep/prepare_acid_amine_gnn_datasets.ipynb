{
 "cells": [
  {
   "cell_type": "code",
   "execution_count": 1,
   "metadata": {},
   "outputs": [
    {
     "name": "stdout",
     "output_type": "stream",
     "text": [
      "True\n",
      "174\n",
      "['f_to_fg', 'chirality', 'tpsa+f', 'angle_R2X2R1', 'nFARing', 'nFAHRing', 'TASA', 'nC', 'nO', 'nHRing', 'angle_X2X1R1', 'dipole_moment', 'nF', 'PPSA5', 'angle_R1X1R2', 'RPCS', 'f_atom_fraction', 'PBF', 'nFRing', 'avg_atoms_in_cycle', 'FPSA3', 'identificator', 'nARing', 'PNSA5', 'f_freedom', 'sasa', 'nN', 'GeomShapeIndex', 'angle_X1X2R2', 'mol_num_cycles', 'naRing', 'distance_between_atoms_in_cycle_and_f_group', 'distance_between_atoms_in_f_group_centers', 'mol_weight', 'nAHRing', 'cis/trans', 'dihedral_angle', 'nFHRing', 'pKa', 'logP']\n",
      "f_atom_fraction outliers indexes: [117, 118, 130]\n",
      "PBF outliers indexes: [39, 120]\n",
      "PNSA5 outliers indexes: [36, 37]\n",
      "sasa outliers indexes: [120]\n",
      "mol_weight outliers indexes: [120]\n",
      "logP outliers indexes: [81, 82]\n",
      "Remains rows:159, amount of features: 40\n",
      "133 26\n"
     ]
    }
   ],
   "source": [
    "import os\n",
    "import sys\n",
    "sys.path.insert(0, os.path.dirname('C:\\work\\DrugDiscovery\\main_git\\XAI_Chem\\ml_part'))\n",
    "\n",
    "import pandas as pd\n",
    "\n",
    "from ml_part.random_forest.data_prep.preparation import DataPreparation\n",
    "from ml_part.random_forest.train import RFTrain\n",
    "\n",
    "CSV_PATH = r'C:\\work\\DrugDiscovery\\main_git\\XAI_Chem\\data\\updated_features\\remained_features_pKa_07.05_v5_canonical_smiles.csv'\n",
    "smiles_filepath = r'C:\\work\\DrugDiscovery\\main_git\\XAI_Chem\\data\\updated_features\\smiles_to_index_canon_smiles.pkl'\n",
    "\n",
    "dataPreparation = DataPreparation(CSV_PATH)\n",
    "\n",
    "outliers_features_to_skip = ['dipole_moment', 'distance_between_atoms_in_f_group_centers']\n",
    "X, y = dataPreparation.prepare_data_for_RF(is_pKa=True,\n",
    "                                           use_mandatory_features=True,\n",
    "                                           is_remove_outliers=True,\n",
    "                                           is_remove_nan=False,\n",
    "                                           outliers_features_to_skip=outliers_features_to_skip,\n",
    "                                           is_convert_angles_to_category=True)\n",
    "\n",
    "correlated_features = ['f_atom_fraction', 'naHRing', 'nFaRing', 'nFaHRing', 'tpsa+f']\n",
    "ring_features_to_remain = ['nFRing', 'nHRing', 'nARing', 'nFHRing']\n",
    "features_to_drop = []\n",
    "for feature_name in X.columns:\n",
    "    if feature_name in correlated_features:\n",
    "        features_to_drop.append(feature_name)\n",
    "    elif \"ring\" in feature_name.lower() and feature_name not in ring_features_to_remain:\n",
    "        features_to_drop.append(feature_name)\n",
    "    elif len(X[feature_name].unique()) == 1:\n",
    "        print(f\"feature without unique values: {feature_name}\")\n",
    "        features_to_drop.append(feature_name)\n",
    "    # elif \"angle\" in feature_name or \"distance\" in feature_name:\n",
    "    #     features_to_drop.append(feature_name)\n",
    "\n",
    "X = X.drop(features_to_drop, axis=1)\n",
    "\n",
    "rf_train = RFTrain(X=X, \n",
    "                   y=y,\n",
    "                   smiles_column_name='Smiles',\n",
    "                   smiles_filepath=smiles_filepath,\n",
    "                   is_pKa=True,\n",
    "                   k_folds=2)\n",
    "\n",
    "y_train = rf_train.y_train\n",
    "X_train = rf_train.X_train\n",
    "\n",
    "y_test = rf_train.y_test\n",
    "X_test = rf_train.X_test\n",
    "\n",
    "train_df = pd.concat([X_train, y_train], axis=1)\n",
    "test_df = pd.concat([X_test, y_test], axis=1)\n",
    "\n",
    "print(len(train_df), len(test_df))\n"
   ]
  },
  {
   "cell_type": "code",
   "execution_count": 2,
   "metadata": {},
   "outputs": [],
   "source": [
    "import pickle\n",
    "\n",
    "smiles_filepath = r'C:\\work\\DrugDiscovery\\main_git\\XAI_Chem\\data\\updated_features\\smiles_to_index_canon_smiles.pkl'\n",
    "\n",
    "with open(smiles_filepath, 'rb') as handle:\n",
    "    smiles_to_index = pickle.load(handle)\n",
    "\n",
    "def smiles_by_index(index, smiles_to_index):\n",
    "    for smiles, index_ in smiles_to_index.items():\n",
    "        if index_ == index:\n",
    "            return smiles"
   ]
  },
  {
   "cell_type": "markdown",
   "metadata": {},
   "source": [
    "test acid"
   ]
  },
  {
   "cell_type": "code",
   "execution_count": 31,
   "metadata": {},
   "outputs": [],
   "source": [
    "test_df_pKa_acid = test_df[test_df['identificator'] == 0]\n",
    "\n",
    "all_features = test_df_pKa_acid.columns.drop('pKa')\n",
    "\n",
    "test_df_acid_for_gnn = test_df_pKa_acid.drop(all_features, axis=1)\n",
    "\n",
    "Smiles = [smiles_by_index(index, smiles_to_index) for index in test_df_acid_for_gnn.index]\n",
    "test_df_acid_for_gnn['Smiles'] = Smiles"
   ]
  },
  {
   "cell_type": "code",
   "execution_count": 33,
   "metadata": {},
   "outputs": [],
   "source": [
    "test_df_acid_for_gnn.to_csv(r'C:\\work\\DrugDiscovery\\main_git\\XAI_Chem\\data\\pKa_basicity_data\\gnn_cv_canon_smiles\\test_acid.csv')"
   ]
  },
  {
   "cell_type": "markdown",
   "metadata": {},
   "source": [
    "train acid"
   ]
  },
  {
   "cell_type": "code",
   "execution_count": 9,
   "metadata": {},
   "outputs": [],
   "source": [
    "train_df_pKa_acid = train_df[train_df['identificator'] == 0]\n",
    "\n",
    "all_features = train_df_pKa_acid.columns.drop(['pKa', 'fold_id'])\n",
    "\n",
    "train_df_acid_for_gnn = train_df_pKa_acid.drop(all_features, axis=1)\n",
    "\n",
    "Smiles = [smiles_by_index(index, smiles_to_index) for index in train_df_acid_for_gnn.index]\n",
    "train_df_acid_for_gnn['Smiles'] = Smiles"
   ]
  },
  {
   "cell_type": "code",
   "execution_count": 11,
   "metadata": {},
   "outputs": [],
   "source": [
    "train_df_acid_for_gnn.to_csv(r'C:\\work\\DrugDiscovery\\main_git\\XAI_Chem\\data\\pKa_basicity_data\\gnn_cv_canon_smiles\\train_acid.csv')"
   ]
  },
  {
   "cell_type": "markdown",
   "metadata": {},
   "source": [
    "test amine"
   ]
  },
  {
   "cell_type": "code",
   "execution_count": 38,
   "metadata": {},
   "outputs": [],
   "source": [
    "test_df_pKa_amine = test_df[test_df['identificator'] != 0]\n",
    "\n",
    "all_features = test_df_pKa_amine.columns.drop('pKa')\n",
    "\n",
    "test_df_amine_for_gnn = test_df_pKa_amine.drop(all_features, axis=1)\n",
    "\n",
    "Smiles = [smiles_by_index(index, smiles_to_index) for index in test_df_amine_for_gnn.index]\n",
    "test_df_amine_for_gnn['Smiles'] = Smiles"
   ]
  },
  {
   "cell_type": "code",
   "execution_count": 41,
   "metadata": {},
   "outputs": [],
   "source": [
    "test_df_amine_for_gnn.to_csv(r'C:\\work\\DrugDiscovery\\main_git\\XAI_Chem\\data\\pKa_basicity_data\\gnn_cv_canon_smiles\\test_basic.csv')"
   ]
  },
  {
   "cell_type": "markdown",
   "metadata": {},
   "source": [
    "train amine"
   ]
  },
  {
   "cell_type": "code",
   "execution_count": 12,
   "metadata": {},
   "outputs": [],
   "source": [
    "train_df_pKa_amine = train_df[train_df['identificator'] != 0]\n",
    "\n",
    "all_features = train_df_pKa_amine.columns.drop(['pKa', 'fold_id'])\n",
    "\n",
    "train_df_amine_for_gnn = train_df_pKa_amine.drop(all_features, axis=1)\n",
    "\n",
    "Smiles = [smiles_by_index(index, smiles_to_index) for index in train_df_amine_for_gnn.index]\n",
    "train_df_amine_for_gnn['Smiles'] = Smiles"
   ]
  },
  {
   "cell_type": "code",
   "execution_count": 17,
   "metadata": {},
   "outputs": [],
   "source": [
    "train_df_amine_for_gnn.to_csv(r'C:\\work\\DrugDiscovery\\main_git\\XAI_Chem\\data\\pKa_basicity_data\\gnn_cv_canon_smiles\\train_basic.csv')"
   ]
  }
 ],
 "metadata": {
  "kernelspec": {
   "display_name": "drug-discovery-venv",
   "language": "python",
   "name": "python3"
  },
  "language_info": {
   "codemirror_mode": {
    "name": "ipython",
    "version": 3
   },
   "file_extension": ".py",
   "mimetype": "text/x-python",
   "name": "python",
   "nbconvert_exporter": "python",
   "pygments_lexer": "ipython3",
   "version": "3.11.9"
  }
 },
 "nbformat": 4,
 "nbformat_minor": 2
}
