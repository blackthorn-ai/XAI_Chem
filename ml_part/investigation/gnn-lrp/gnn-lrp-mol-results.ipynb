{
 "cells": [
  {
   "cell_type": "code",
   "execution_count": 2,
   "metadata": {},
   "outputs": [],
   "source": [
    "import json\n",
    "import pickle\n",
    "import os\n",
    "import sys\n",
    "from tqdm import tqdm\n",
    "\n",
    "sys.path.insert(0, r'C:\\work\\DrugDiscovery\\main_git\\XAI_Chem\\ml_part\\EAI_for_molecule')\n",
    "sys.path.insert(0, r'C:\\work\\DrugDiscovery\\main_git\\XAI_Chem\\ml_part')\n",
    "\n",
    "import pandas as pd\n",
    "import torch\n",
    "from utils import setup, load_model, predict\n",
    "from lrp import Lrp\n",
    "from constants import ModelType"
   ]
  },
  {
   "cell_type": "code",
   "execution_count": 3,
   "metadata": {},
   "outputs": [],
   "source": [
    "def extract_all_smiles_and_fgroups(csv_path):\n",
    "    smiles_and_fgroup_dict = {}\n",
    "    df = pd.read_csv(csv_path)\n",
    "    for value, row in df.iterrows():\n",
    "        smiles_and_fgroup_dict[str(row['smiles'])] = str(row['f_group'])\n",
    "\n",
    "    return smiles_and_fgroup_dict\n"
   ]
  },
  {
   "cell_type": "code",
   "execution_count": 4,
   "metadata": {},
   "outputs": [],
   "source": [
    "from utils import setup, load_model, predict\n",
    "from My_Pka_Model import Pka_acidic_view,Pka_basic_view\n",
    "from dgllife.utils import smiles_to_bigraph\n",
    "import torch\n",
    "\n",
    "def load_logP_model(exp_config, args):\n",
    "    logP_model = load_model(exp_config).to(args['device'])\n",
    "    # checkpoint = torch.load(r\"C:\\work\\DrugDiscovery\\main_git\\XAI_Chem\\ml_part\\weights\\logP\\model_pretrain_76_default_weights.pth\",map_location=torch.device('cpu'))#my_model/CRT76-logD/model_pretrain_76.pth\"\n",
    "    checkpoint = torch.load(r\"C:\\work\\DrugDiscovery\\main_git\\XAI_Chem\\ml_part\\weights\\logP\\logP_RTLogD_best_loss_comfy-wave-9.pth\",map_location=torch.device('cpu'))#my_model/CRT76-logD/model_pretrain_76.pth\"\n",
    "    logP_model.load_state_dict(checkpoint)\n",
    "\n",
    "    return logP_model\n",
    "\n",
    "\n",
    "def load_pKa_acidic_model(args):\n",
    "    pka1_model = Pka_acidic_view(node_feat_size = 74,\n",
    "                                 edge_feat_size = 12,\n",
    "                                 output_size = 1,\n",
    "                                 num_layers= 6,\n",
    "                                 graph_feat_size=200,\n",
    "                                 dropout=0).to(args['device'])\n",
    "    # pka1_model.load_state_dict(torch.load(r'C:\\work\\DrugDiscovery\\RT_LogP_with_pKa_model\\RTlogD\\Trained_model/site_acidic.pkl',map_location='cpu'))\n",
    "    pka1_model.load_state_dict(torch.load(r'C:\\work\\DrugDiscovery\\main_git\\XAI_Chem\\ml_part\\weights\\pKa\\site_acidic_best_loss_distinctive-butterfly-11.pkl',map_location='cpu'))\n",
    "\n",
    "    return pka1_model\n",
    "\n",
    "\n",
    "def load_pKa_basic_model(args):\n",
    "    pka2_model = Pka_basic_view(node_feat_size = 74,\n",
    "                                edge_feat_size = 12,\n",
    "                                output_size = 1,\n",
    "                                num_layers= 6,\n",
    "                                graph_feat_size=200,\n",
    "                                dropout=0).to(args['device'])\n",
    "    # pka2_model.load_state_dict(torch.load(r'C:\\work\\DrugDiscovery\\main_git\\XAI_Chem\\ml_part\\weights\\pKa\\site_basic.pkl',map_location='cpu'))\n",
    "    pka2_model.load_state_dict(torch.load(r'C:\\work\\DrugDiscovery\\main_git\\XAI_Chem\\ml_part\\weights\\pKa\\site_amine_best_loss_sweet-capybara-11.pkl',map_location='cpu'))\n",
    "    return pka2_model\n",
    "\n",
    "def convert_smiles_to_dglgraph(smiles: str, args):\n",
    "    dglgraph = smiles_to_bigraph(smiles=smiles,\n",
    "                                 node_featurizer=args['node_featurizer'],\n",
    "                                 edge_featurizer=args['edge_featurizer'])\n",
    "\n",
    "    return dglgraph"
   ]
  },
  {
   "cell_type": "code",
   "execution_count": 6,
   "metadata": {},
   "outputs": [
    {
     "name": "stdout",
     "output_type": "stream",
     "text": [
      "in node features  76\n"
     ]
    },
    {
     "name": "stderr",
     "output_type": "stream",
     "text": [
      "  5%|▌         | 1/20 [00:00<00:18,  1.03it/s]"
     ]
    },
    {
     "name": "stdout",
     "output_type": "stream",
     "text": [
      "1 FC1(F)CC(N)CCC1 tensor([[0.0818, 2.3264]], grad_fn=<AddmmBackward0>) tensor([[11.8259]]) tensor([[9.0229]])\n"
     ]
    },
    {
     "name": "stderr",
     "output_type": "stream",
     "text": [
      " 10%|█         | 2/20 [00:02<00:19,  1.08s/it]"
     ]
    },
    {
     "name": "stdout",
     "output_type": "stream",
     "text": [
      "2 NC(C1)CC21CC(F)(F)C2 tensor([[0.0225, 2.3818]], grad_fn=<AddmmBackward0>) tensor([[12.1985]]) tensor([[9.6962]])\n"
     ]
    },
    {
     "name": "stderr",
     "output_type": "stream",
     "text": [
      " 15%|█▌        | 3/20 [00:02<00:15,  1.10it/s]"
     ]
    },
    {
     "name": "stdout",
     "output_type": "stream",
     "text": [
      "3 NC1CC1 tensor([[-0.1281,  1.3644]], grad_fn=<AddmmBackward0>) tensor([[12.6958]]) tensor([[9.9059]])\n"
     ]
    },
    {
     "name": "stderr",
     "output_type": "stream",
     "text": [
      " 20%|██        | 4/20 [00:04<00:17,  1.08s/it]"
     ]
    },
    {
     "name": "stdout",
     "output_type": "stream",
     "text": [
      "4 NC1(CF)CCC1 tensor([[-0.1540,  1.6923]], grad_fn=<AddmmBackward0>) tensor([[9.8713]]) tensor([[8.7671]])\n"
     ]
    },
    {
     "name": "stderr",
     "output_type": "stream",
     "text": [
      " 25%|██▌       | 5/20 [00:04<00:14,  1.03it/s]"
     ]
    },
    {
     "name": "stdout",
     "output_type": "stream",
     "text": [
      "5 FC1(F)C(N)CCC1 tensor([[0.3782, 2.0485]], grad_fn=<AddmmBackward0>) tensor([[9.7922]]) tensor([[7.0832]])\n"
     ]
    },
    {
     "name": "stderr",
     "output_type": "stream",
     "text": [
      " 30%|███       | 6/20 [00:05<00:12,  1.08it/s]"
     ]
    },
    {
     "name": "stdout",
     "output_type": "stream",
     "text": [
      "6 NC1CCC1 tensor([[-0.2075,  1.8085]], grad_fn=<AddmmBackward0>) tensor([[12.7214]]) tensor([[10.0417]])\n"
     ]
    },
    {
     "name": "stderr",
     "output_type": "stream",
     "text": [
      " 35%|███▌      | 7/20 [00:06<00:12,  1.03it/s]"
     ]
    },
    {
     "name": "stdout",
     "output_type": "stream",
     "text": [
      "7 FC1(F)CCC(N)CCC1 tensor([[0.1405, 2.3431]], grad_fn=<AddmmBackward0>) tensor([[12.5959]]) tensor([[9.7535]])\n"
     ]
    },
    {
     "name": "stderr",
     "output_type": "stream",
     "text": [
      " 40%|████      | 8/20 [00:07<00:11,  1.01it/s]"
     ]
    },
    {
     "name": "stdout",
     "output_type": "stream",
     "text": [
      "8 FC(F)(F)C1CNCCC1 tensor([[0.2524, 2.1130]], grad_fn=<AddmmBackward0>) tensor([[10.9230]]) tensor([[9.0879]])\n"
     ]
    },
    {
     "name": "stderr",
     "output_type": "stream",
     "text": [
      " 45%|████▌     | 9/20 [00:09<00:11,  1.07s/it]"
     ]
    },
    {
     "name": "stdout",
     "output_type": "stream",
     "text": [
      "9 CCC(F)(F)CN tensor([[0.2602, 1.6243]], grad_fn=<AddmmBackward0>) tensor([[10.2178]]) tensor([[7.0395]])\n"
     ]
    },
    {
     "name": "stderr",
     "output_type": "stream",
     "text": [
      " 50%|█████     | 10/20 [00:10<00:10,  1.05s/it]"
     ]
    },
    {
     "name": "stdout",
     "output_type": "stream",
     "text": [
      "10 NCC(F)(F)F tensor([[0.4112, 1.5277]], grad_fn=<AddmmBackward0>) tensor([[9.3786]]) tensor([[6.2378]])\n"
     ]
    },
    {
     "name": "stderr",
     "output_type": "stream",
     "text": [
      " 55%|█████▌    | 11/20 [00:11<00:09,  1.02s/it]"
     ]
    },
    {
     "name": "stdout",
     "output_type": "stream",
     "text": [
      "11 NCCCC(F)([H])[H] tensor([[-0.3446,  1.4637]], grad_fn=<AddmmBackward0>) tensor([[13.9804]]) tensor([[10.0122]])\n"
     ]
    },
    {
     "name": "stderr",
     "output_type": "stream",
     "text": [
      " 60%|██████    | 12/20 [00:11<00:07,  1.01it/s]"
     ]
    },
    {
     "name": "stdout",
     "output_type": "stream",
     "text": [
      "12 NC(C1)CC21CCC2 tensor([[-0.0985,  2.3365]], grad_fn=<AddmmBackward0>) tensor([[12.2537]]) tensor([[9.8317]])\n"
     ]
    },
    {
     "name": "stderr",
     "output_type": "stream",
     "text": [
      " 65%|██████▌   | 13/20 [00:12<00:06,  1.05it/s]"
     ]
    },
    {
     "name": "stdout",
     "output_type": "stream",
     "text": [
      "13 CCCCN tensor([[-0.2416,  1.9705]], grad_fn=<AddmmBackward0>) tensor([[14.0968]]) tensor([[10.2475]])\n"
     ]
    },
    {
     "name": "stderr",
     "output_type": "stream",
     "text": [
      " 70%|███████   | 14/20 [00:14<00:06,  1.09s/it]"
     ]
    },
    {
     "name": "stdout",
     "output_type": "stream",
     "text": [
      "14 F[C@@H]1CNC[C@H]1F tensor([[-0.0223,  1.1420]], grad_fn=<AddmmBackward0>) tensor([[8.3182]]) tensor([[6.6221]])\n"
     ]
    },
    {
     "name": "stderr",
     "output_type": "stream",
     "text": [
      " 75%|███████▌  | 15/20 [00:16<00:06,  1.29s/it]"
     ]
    },
    {
     "name": "stdout",
     "output_type": "stream",
     "text": [
      "15 CC1(NC2)CC2C1 tensor([[-0.2574,  1.6876]], grad_fn=<AddmmBackward0>) tensor([[10.9855]]) tensor([[10.5885]])\n"
     ]
    },
    {
     "name": "stderr",
     "output_type": "stream",
     "text": [
      " 80%|████████  | 16/20 [00:16<00:04,  1.17s/it]"
     ]
    },
    {
     "name": "stdout",
     "output_type": "stream",
     "text": [
      "16 FC([H])(F)C1CNCCC1 tensor([[-0.0260,  1.8365]], grad_fn=<AddmmBackward0>) tensor([[11.0670]]) tensor([[9.7721]])\n"
     ]
    },
    {
     "name": "stderr",
     "output_type": "stream",
     "text": [
      " 85%|████████▌ | 17/20 [00:17<00:03,  1.09s/it]"
     ]
    },
    {
     "name": "stdout",
     "output_type": "stream",
     "text": [
      "17 FC(F)(F)C1CNCC1 tensor([[0.1069, 1.7998]], grad_fn=<AddmmBackward0>) tensor([[10.8439]]) tensor([[8.4551]])\n"
     ]
    },
    {
     "name": "stderr",
     "output_type": "stream",
     "text": [
      " 90%|█████████ | 18/20 [00:18<00:02,  1.01s/it]"
     ]
    },
    {
     "name": "stdout",
     "output_type": "stream",
     "text": [
      "18 FC1(F)CNCCC1 tensor([[0.0547, 1.2576]], grad_fn=<AddmmBackward0>) tensor([[8.2331]]) tensor([[7.3197]])\n"
     ]
    },
    {
     "name": "stderr",
     "output_type": "stream",
     "text": [
      " 95%|█████████▌| 19/20 [00:19<00:01,  1.07s/it]"
     ]
    },
    {
     "name": "stdout",
     "output_type": "stream",
     "text": [
      "19 C1(NC2)CC2C1 tensor([[-0.4511,  1.3393]], grad_fn=<AddmmBackward0>) tensor([[11.2090]]) tensor([[10.3349]])\n"
     ]
    },
    {
     "name": "stderr",
     "output_type": "stream",
     "text": [
      "100%|██████████| 20/20 [00:20<00:00,  1.03s/it]"
     ]
    },
    {
     "name": "stdout",
     "output_type": "stream",
     "text": [
      "20 NCC([H])(F)F tensor([[0.0607, 1.2681]], grad_fn=<AddmmBackward0>) tensor([[10.9197]]) tensor([[6.9106]])\n"
     ]
    },
    {
     "name": "stderr",
     "output_type": "stream",
     "text": [
      "\n"
     ]
    }
   ],
   "source": [
    "\n",
    "pKa_acid_csv_path = r'C:\\work\\DrugDiscovery\\main_git\\XAI_Chem\\data\\FGroupData\\test_pKa_amine_data.csv'\n",
    "output_path = r'C:\\work\\DrugDiscovery\\main_git\\XAI_Chem\\data\\output_EAI\\pKa_amine_all_val_smiles'\n",
    "\n",
    "smiles_and_fgroup_dict = extract_all_smiles_and_fgroups(pKa_acid_csv_path)\n",
    "\n",
    "if __name__ == '__main__':\n",
    "    with open(r'C:\\work\\DrugDiscovery\\main_git\\XAI_Chem\\ml_part\\configs\\args.pickle', 'rb') as file:\n",
    "        args =pickle.load(file)\n",
    "        args['task'] = ['pKa']\n",
    "    with open(r'C:\\work\\DrugDiscovery\\main_git\\XAI_Chem\\ml_part\\configs\\configure.json', 'r') as f:\n",
    "        exp_config = json.load(f)\n",
    "    args['device'] = torch.device('cpu')\n",
    "    args = setup(args)\n",
    "\n",
    "    logP_model = load_logP_model(exp_config, args)\n",
    "    amine_model = load_pKa_basic_model(args)\n",
    "    acid_model = load_pKa_acidic_model(args)\n",
    "\n",
    "    logP_model.eval()\n",
    "    amine_model.eval()\n",
    "    acid_model.eval()\n",
    "\n",
    "    index = 0\n",
    "    for smiles, fgroup in tqdm(smiles_and_fgroup_dict.items()):\n",
    "\n",
    "        bg = convert_smiles_to_dglgraph(smiles, args)\n",
    "        logP_pred, pKa_acid_pred, pKa_amine_pred = predict(args, logP_model, bg, default_weights=False)\n",
    "        \n",
    "        lrp_class = Lrp(logP_model=logP_model, \n",
    "                        amine_pKa_model=amine_model,\n",
    "                        acid_pKa_model=acid_model,\n",
    "                        smiles=smiles, \n",
    "                        functional_group=fgroup, \n",
    "                        exp_config=exp_config, \n",
    "                        args=args,\n",
    "                        model_type=ModelType.pKa_amine)\n",
    "\n",
    "        svg_filename = f'{index}_{smiles}.svg'\n",
    "        output_svg_path = os.path.join(output_path, svg_filename)\n",
    "        lrp_class.save_molecule_with_relevances(output_svg_path)\n",
    "        index += 1\n",
    "        print(index, smiles, logP_pred, pKa_acid_pred, pKa_amine_pred)"
   ]
  },
  {
   "cell_type": "code",
   "execution_count": 5,
   "metadata": {},
   "outputs": [
    {
     "name": "stdout",
     "output_type": "stream",
     "text": [
      "in node features  76\n"
     ]
    },
    {
     "name": "stderr",
     "output_type": "stream",
     "text": [
      " 12%|█▎        | 1/8 [00:00<00:05,  1.17it/s]"
     ]
    },
    {
     "name": "stdout",
     "output_type": "stream",
     "text": [
      "1 CCC(F)(F)CC(O)=O tensor([[0.2405, 2.2281]], grad_fn=<AddmmBackward0>) tensor([[3.8902]]) tensor([[-inf]])\n"
     ]
    },
    {
     "name": "stderr",
     "output_type": "stream",
     "text": [
      " 25%|██▌       | 2/8 [00:01<00:05,  1.02it/s]"
     ]
    },
    {
     "name": "stdout",
     "output_type": "stream",
     "text": [
      "2 OC(C1C2(CC2)C1(F)F)=O tensor([[0.2727, 2.1228]], grad_fn=<AddmmBackward0>) tensor([[3.2884]]) tensor([[-inf]])\n"
     ]
    },
    {
     "name": "stderr",
     "output_type": "stream",
     "text": [
      " 38%|███▊      | 3/8 [00:02<00:04,  1.09it/s]"
     ]
    },
    {
     "name": "stdout",
     "output_type": "stream",
     "text": [
      "3 FC1(F)CC(C(O)=O)C1 tensor([[0.3105, 1.8606]], grad_fn=<AddmmBackward0>) tensor([[3.8467]]) tensor([[-inf]])\n"
     ]
    },
    {
     "name": "stderr",
     "output_type": "stream",
     "text": [
      " 50%|█████     | 4/8 [00:03<00:03,  1.00it/s]"
     ]
    },
    {
     "name": "stdout",
     "output_type": "stream",
     "text": [
      "4 O=C(O)C(C1)CC21CC(F)C2 tensor([[0.4419, 2.5349]], grad_fn=<AddmmBackward0>) tensor([[4.3296]]) tensor([[-inf]])\n"
     ]
    },
    {
     "name": "stderr",
     "output_type": "stream",
     "text": [
      " 62%|██████▎   | 5/8 [00:05<00:03,  1.11s/it]"
     ]
    },
    {
     "name": "stdout",
     "output_type": "stream",
     "text": [
      "5 O=C(O)C(C1)CC21CC(F)(F)C2 tensor([[0.4349, 2.7145]], grad_fn=<AddmmBackward0>) tensor([[4.3138]]) tensor([[-inf]])\n"
     ]
    },
    {
     "name": "stderr",
     "output_type": "stream",
     "text": [
      " 75%|███████▌  | 6/8 [00:06<00:02,  1.10s/it]"
     ]
    },
    {
     "name": "stdout",
     "output_type": "stream",
     "text": [
      "6 FC1(F)CC(C(O)=O)CCC1 tensor([[0.5114, 2.4474]], grad_fn=<AddmmBackward0>) tensor([[4.1053]]) tensor([[-inf]])\n"
     ]
    },
    {
     "name": "stderr",
     "output_type": "stream",
     "text": [
      " 88%|████████▊ | 7/8 [00:07<00:01,  1.18s/it]"
     ]
    },
    {
     "name": "stdout",
     "output_type": "stream",
     "text": [
      "7 OC(C12OCC(C(F)(F)F)(C2)C1)=O tensor([[0.3609, 2.3385]], grad_fn=<AddmmBackward0>) tensor([[2.9560]]) tensor([[-inf]])\n"
     ]
    },
    {
     "name": "stderr",
     "output_type": "stream",
     "text": [
      "100%|██████████| 8/8 [00:08<00:00,  1.06s/it]"
     ]
    },
    {
     "name": "stdout",
     "output_type": "stream",
     "text": [
      "8 OC(C1C2(CC2)C1)=O tensor([[0.3702, 2.0910]], grad_fn=<AddmmBackward0>) tensor([[4.1207]]) tensor([[-inf]])\n"
     ]
    },
    {
     "name": "stderr",
     "output_type": "stream",
     "text": [
      "\n"
     ]
    }
   ],
   "source": [
    "\n",
    "pKa_acid_csv_path = r'C:\\work\\DrugDiscovery\\main_git\\XAI_Chem\\data\\FGroupData\\test_pKa_acid_data.csv'\n",
    "output_path = r'C:\\work\\DrugDiscovery\\main_git\\XAI_Chem\\data\\output_EAI\\pKa_acid_all_val_smiles'\n",
    "\n",
    "smiles_and_fgroup_dict = extract_all_smiles_and_fgroups(pKa_acid_csv_path)\n",
    "\n",
    "if __name__ == '__main__':\n",
    "    with open(r'C:\\work\\DrugDiscovery\\main_git\\XAI_Chem\\ml_part\\configs\\args.pickle', 'rb') as file:\n",
    "        args =pickle.load(file)\n",
    "        args['task'] = ['pKa']\n",
    "    with open(r'C:\\work\\DrugDiscovery\\main_git\\XAI_Chem\\ml_part\\configs\\configure.json', 'r') as f:\n",
    "        exp_config = json.load(f)\n",
    "    args['device'] = torch.device('cpu')\n",
    "    args = setup(args)\n",
    "\n",
    "    logP_model = load_logP_model(exp_config, args)\n",
    "    amine_model = load_pKa_basic_model(args)\n",
    "    acid_model = load_pKa_acidic_model(args)\n",
    "\n",
    "    logP_model.eval()\n",
    "    amine_model.eval()\n",
    "    acid_model.eval()\n",
    "\n",
    "    index = 0\n",
    "    for smiles, fgroup in tqdm(smiles_and_fgroup_dict.items()):\n",
    "\n",
    "        bg = convert_smiles_to_dglgraph(smiles, args)\n",
    "        logP_pred, pKa_acid_pred, pKa_amine_pred = predict(args, logP_model, bg, default_weights=False)\n",
    "        \n",
    "        lrp_class = Lrp(logP_model=logP_model, \n",
    "                        amine_pKa_model=amine_model,\n",
    "                        acid_pKa_model=acid_model,\n",
    "                        smiles=smiles, \n",
    "                        functional_group=fgroup, \n",
    "                        exp_config=exp_config, \n",
    "                        args=args,\n",
    "                        model_type=ModelType.pKa_acid)\n",
    "\n",
    "        svg_filename = f'{index}_{smiles}.svg'\n",
    "        output_svg_path = os.path.join(output_path, svg_filename)\n",
    "        lrp_class.save_molecule_with_relevances(output_svg_path)\n",
    "        index += 1\n",
    "        print(index, smiles, logP_pred, pKa_acid_pred, pKa_amine_pred)"
   ]
  },
  {
   "cell_type": "code",
   "execution_count": 9,
   "metadata": {},
   "outputs": [
    {
     "name": "stdout",
     "output_type": "stream",
     "text": [
      "in node features  76\n"
     ]
    },
    {
     "name": "stderr",
     "output_type": "stream",
     "text": [
      "  4%|▎         | 1/27 [00:00<00:24,  1.06it/s]"
     ]
    },
    {
     "name": "stdout",
     "output_type": "stream",
     "text": [
      "1 NC1CCC1 tensor([[-0.2075,  1.8085]], grad_fn=<AddmmBackward0>) tensor([[12.7214]]) tensor([[10.0417]])\n"
     ]
    },
    {
     "name": "stderr",
     "output_type": "stream",
     "text": [
      "  7%|▋         | 2/27 [00:02<00:27,  1.09s/it]"
     ]
    },
    {
     "name": "stdout",
     "output_type": "stream",
     "text": [
      "2 FC1(F)CC1C(O)=O tensor([[0.2480, 1.8182]], grad_fn=<AddmmBackward0>) tensor([[3.3733]]) tensor([[-inf]])\n"
     ]
    },
    {
     "name": "stderr",
     "output_type": "stream",
     "text": [
      " 11%|█         | 3/27 [00:04<00:34,  1.45s/it]"
     ]
    },
    {
     "name": "stdout",
     "output_type": "stream",
     "text": [
      "3 O=C(O)C(C1)CC21CC(F)(F)C2 tensor([[0.4349, 2.7145]], grad_fn=<AddmmBackward0>) tensor([[4.3138]]) tensor([[-inf]])\n"
     ]
    },
    {
     "name": "stderr",
     "output_type": "stream",
     "text": [
      " 15%|█▍        | 4/27 [00:05<00:32,  1.41s/it]"
     ]
    },
    {
     "name": "stdout",
     "output_type": "stream",
     "text": [
      "4 FC1CCNCC1 tensor([[-0.3070,  1.5087]], grad_fn=<AddmmBackward0>) tensor([[10.8236]]) tensor([[9.8173]])\n"
     ]
    },
    {
     "name": "stderr",
     "output_type": "stream",
     "text": [
      " 19%|█▊        | 5/27 [00:06<00:32,  1.48s/it]"
     ]
    },
    {
     "name": "stdout",
     "output_type": "stream",
     "text": [
      "5 FC1(F)CCC(C(O)=O)CC1 tensor([[0.4511, 2.4648]], grad_fn=<AddmmBackward0>) tensor([[4.4357]]) tensor([[-inf]])\n"
     ]
    },
    {
     "name": "stderr",
     "output_type": "stream",
     "text": [
      " 22%|██▏       | 6/27 [00:08<00:29,  1.38s/it]"
     ]
    },
    {
     "name": "stdout",
     "output_type": "stream",
     "text": [
      "6 N[C@@H]1CC[C@H]1C(F)([H])F tensor([[0.0095, 2.0457]], grad_fn=<AddmmBackward0>) tensor([[12.2461]]) tensor([[8.9057]])\n"
     ]
    },
    {
     "name": "stderr",
     "output_type": "stream",
     "text": [
      " 26%|██▌       | 7/27 [00:09<00:30,  1.52s/it]"
     ]
    },
    {
     "name": "stdout",
     "output_type": "stream",
     "text": [
      "7 O=C(O)C(C1)CC21CCC2 tensor([[0.6765, 2.6320]], grad_fn=<AddmmBackward0>) tensor([[4.3319]]) tensor([[-inf]])\n"
     ]
    },
    {
     "name": "stderr",
     "output_type": "stream",
     "text": [
      " 30%|██▉       | 8/27 [00:11<00:28,  1.52s/it]"
     ]
    },
    {
     "name": "stdout",
     "output_type": "stream",
     "text": [
      "8 C1(CCC2)CC2CNC1 tensor([[0.0826, 2.2358]], grad_fn=<AddmmBackward0>) tensor([[11.2043]]) tensor([[10.8717]])\n"
     ]
    },
    {
     "name": "stderr",
     "output_type": "stream",
     "text": [
      " 33%|███▎      | 9/27 [00:12<00:25,  1.42s/it]"
     ]
    },
    {
     "name": "stdout",
     "output_type": "stream",
     "text": [
      "9 FC1(F)CCNCC1 tensor([[-0.1397,  1.6048]], grad_fn=<AddmmBackward0>) tensor([[9.8569]]) tensor([[8.4571]])\n"
     ]
    },
    {
     "name": "stderr",
     "output_type": "stream",
     "text": [
      " 37%|███▋      | 10/27 [00:13<00:23,  1.38s/it]"
     ]
    },
    {
     "name": "stdout",
     "output_type": "stream",
     "text": [
      "10 NC1C2(CC2)C1(F)F tensor([[0.4458, 2.0226]], grad_fn=<AddmmBackward0>) tensor([[7.8826]]) tensor([[6.6751]])\n"
     ]
    },
    {
     "name": "stderr",
     "output_type": "stream",
     "text": [
      " 41%|████      | 11/27 [00:15<00:22,  1.39s/it]"
     ]
    },
    {
     "name": "stdout",
     "output_type": "stream",
     "text": [
      "11 [H]C(F)(F)C1CCNCC1 tensor([[-0.1387,  1.5610]], grad_fn=<AddmmBackward0>) tensor([[11.1271]]) tensor([[9.7911]])\n"
     ]
    },
    {
     "name": "stderr",
     "output_type": "stream",
     "text": [
      " 44%|████▍     | 12/27 [00:16<00:20,  1.38s/it]"
     ]
    },
    {
     "name": "stdout",
     "output_type": "stream",
     "text": [
      "12 C[C@@H]1C[C@@H]1C(O)=O tensor([[0.3234, 2.0620]], grad_fn=<AddmmBackward0>) tensor([[4.5412]]) tensor([[-inf]])\n"
     ]
    },
    {
     "name": "stderr",
     "output_type": "stream",
     "text": [
      " 48%|████▊     | 13/27 [00:17<00:18,  1.33s/it]"
     ]
    },
    {
     "name": "stdout",
     "output_type": "stream",
     "text": [
      "13 NCCC(F)(F)F tensor([[-0.0053,  1.8955]], grad_fn=<AddmmBackward0>) tensor([[12.8676]]) tensor([[8.1730]])\n"
     ]
    },
    {
     "name": "stderr",
     "output_type": "stream",
     "text": [
      " 52%|█████▏    | 14/27 [00:19<00:19,  1.50s/it]"
     ]
    },
    {
     "name": "stdout",
     "output_type": "stream",
     "text": [
      "14 OC(C12OCC(C(F)([H])F)(C2)C1)=O tensor([[0.2094, 1.9511]], grad_fn=<AddmmBackward0>) tensor([[2.9636]]) tensor([[-inf]])\n"
     ]
    },
    {
     "name": "stderr",
     "output_type": "stream",
     "text": [
      " 56%|█████▌    | 15/27 [00:21<00:17,  1.44s/it]"
     ]
    },
    {
     "name": "stdout",
     "output_type": "stream",
     "text": [
      "15 FC1(F)CCC1N tensor([[0.3307, 1.6586]], grad_fn=<AddmmBackward0>) tensor([[9.5814]]) tensor([[7.0706]])\n"
     ]
    },
    {
     "name": "stderr",
     "output_type": "stream",
     "text": [
      " 59%|█████▉    | 16/27 [00:22<00:15,  1.40s/it]"
     ]
    },
    {
     "name": "stdout",
     "output_type": "stream",
     "text": [
      "16 FC([H])([H])C1CNCC1 tensor([[-0.5135,  1.3035]], grad_fn=<AddmmBackward0>) tensor([[11.0235]]) tensor([[10.1372]])\n"
     ]
    },
    {
     "name": "stderr",
     "output_type": "stream",
     "text": [
      " 63%|██████▎   | 17/27 [00:23<00:13,  1.30s/it]"
     ]
    },
    {
     "name": "stdout",
     "output_type": "stream",
     "text": [
      "17 FC1(F)CNC1 tensor([[0.0863, 1.0779]], grad_fn=<AddmmBackward0>) tensor([[6.5211]]) tensor([[6.8516]])\n"
     ]
    },
    {
     "name": "stderr",
     "output_type": "stream",
     "text": [
      " 67%|██████▋   | 18/27 [00:24<00:11,  1.26s/it]"
     ]
    },
    {
     "name": "stdout",
     "output_type": "stream",
     "text": [
      "18 FC1(F)CC(N)CC1 tensor([[-0.0118,  1.9131]], grad_fn=<AddmmBackward0>) tensor([[11.6701]]) tensor([[8.9177]])\n"
     ]
    },
    {
     "name": "stderr",
     "output_type": "stream",
     "text": [
      " 70%|███████   | 19/27 [00:26<00:10,  1.29s/it]"
     ]
    },
    {
     "name": "stdout",
     "output_type": "stream",
     "text": [
      "19 N[C@@H]1CC[C@H]1C([H])([H])F tensor([[-0.2798,  1.7271]], grad_fn=<AddmmBackward0>) tensor([[12.3567]]) tensor([[9.6313]])\n"
     ]
    },
    {
     "name": "stderr",
     "output_type": "stream",
     "text": [
      " 74%|███████▍  | 20/27 [00:27<00:09,  1.32s/it]"
     ]
    },
    {
     "name": "stdout",
     "output_type": "stream",
     "text": [
      "20 NC(C1)CC21CC(F)C2 tensor([[-0.0670,  2.1906]], grad_fn=<AddmmBackward0>) tensor([[12.2480]]) tensor([[9.7931]])\n"
     ]
    },
    {
     "name": "stderr",
     "output_type": "stream",
     "text": [
      " 78%|███████▊  | 21/27 [00:28<00:07,  1.31s/it]"
     ]
    },
    {
     "name": "stdout",
     "output_type": "stream",
     "text": [
      "21 FC1(F)CCC1C(O)=O tensor([[0.3248, 2.1067]], grad_fn=<AddmmBackward0>) tensor([[3.6613]]) tensor([[-inf]])\n"
     ]
    },
    {
     "name": "stderr",
     "output_type": "stream",
     "text": [
      " 81%|████████▏ | 22/27 [00:30<00:06,  1.33s/it]"
     ]
    },
    {
     "name": "stdout",
     "output_type": "stream",
     "text": [
      "22 N[C@@H]1C[C@H]2C(F)(F)[C@H]2C1 tensor([[0.0106, 2.2098]], grad_fn=<AddmmBackward0>) tensor([[12.4873]]) tensor([[9.1088]])\n"
     ]
    },
    {
     "name": "stderr",
     "output_type": "stream",
     "text": [
      " 85%|████████▌ | 23/27 [00:30<00:04,  1.12s/it]"
     ]
    },
    {
     "name": "stdout",
     "output_type": "stream",
     "text": [
      "23 NCC([H])(F)[H] tensor([[-0.3054,  1.0721]], grad_fn=<AddmmBackward0>) tensor([[11.7590]]) tensor([[8.1910]])\n"
     ]
    },
    {
     "name": "stderr",
     "output_type": "stream",
     "text": [
      " 89%|████████▉ | 24/27 [00:31<00:03,  1.14s/it]"
     ]
    },
    {
     "name": "stdout",
     "output_type": "stream",
     "text": [
      "24 NC1(C(F)F)CCC1 tensor([[0.1623, 2.1068]], grad_fn=<AddmmBackward0>) tensor([[8.7454]]) tensor([[6.8590]])\n"
     ]
    },
    {
     "name": "stderr",
     "output_type": "stream",
     "text": [
      " 93%|█████████▎| 25/27 [00:33<00:02,  1.19s/it]"
     ]
    },
    {
     "name": "stdout",
     "output_type": "stream",
     "text": [
      "25 C[C@@H]1C[C@H]1C(O)=O tensor([[0.3234, 2.0620]], grad_fn=<AddmmBackward0>) tensor([[4.5412]]) tensor([[-inf]])\n"
     ]
    },
    {
     "name": "stderr",
     "output_type": "stream",
     "text": [
      " 96%|█████████▋| 26/27 [00:34<00:01,  1.32s/it]"
     ]
    },
    {
     "name": "stdout",
     "output_type": "stream",
     "text": [
      "26 FC1(F)CC(C(O)=O)CCC1 tensor([[0.5114, 2.4474]], grad_fn=<AddmmBackward0>) tensor([[4.1053]]) tensor([[-inf]])\n"
     ]
    },
    {
     "name": "stderr",
     "output_type": "stream",
     "text": [
      "100%|██████████| 27/27 [00:36<00:00,  1.34s/it]"
     ]
    },
    {
     "name": "stdout",
     "output_type": "stream",
     "text": [
      "27 CC(F)(F)CCC(O)=O tensor([[0.2840, 1.9114]], grad_fn=<AddmmBackward0>) tensor([[4.1469]]) tensor([[-inf]])\n"
     ]
    },
    {
     "name": "stderr",
     "output_type": "stream",
     "text": [
      "\n"
     ]
    }
   ],
   "source": [
    "\n",
    "pKa_acid_csv_path = r'C:\\work\\DrugDiscovery\\main_git\\XAI_Chem\\data\\FGroupData\\test_logP_data.csv'\n",
    "output_path = r'C:\\work\\DrugDiscovery\\main_git\\XAI_Chem\\data\\output_EAI\\logP_all_val_smiles'\n",
    "\n",
    "smiles_and_fgroup_dict = extract_all_smiles_and_fgroups(pKa_acid_csv_path)\n",
    "\n",
    "if __name__ == '__main__':\n",
    "    with open(r'C:\\work\\DrugDiscovery\\main_git\\XAI_Chem\\ml_part\\configs\\args.pickle', 'rb') as file:\n",
    "        args =pickle.load(file)\n",
    "        args['task'] = ['pKa']\n",
    "    with open(r'C:\\work\\DrugDiscovery\\main_git\\XAI_Chem\\ml_part\\configs\\configure.json', 'r') as f:\n",
    "        exp_config = json.load(f)\n",
    "    args['device'] = torch.device('cpu')\n",
    "    args = setup(args)\n",
    "\n",
    "    logP_model = load_logP_model(exp_config, args)\n",
    "    amine_model = load_pKa_basic_model(args)\n",
    "    acid_model = load_pKa_acidic_model(args)\n",
    "\n",
    "    logP_model.eval()\n",
    "    amine_model.eval()\n",
    "    acid_model.eval()\n",
    "\n",
    "    index = 0\n",
    "    for smiles, fgroup in tqdm(smiles_and_fgroup_dict.items()):\n",
    "\n",
    "        bg = convert_smiles_to_dglgraph(smiles, args)\n",
    "        logP_pred, pKa_acid_pred, pKa_amine_pred = predict(args, logP_model, bg, default_weights=False)\n",
    "        \n",
    "        lrp_class = Lrp(logP_model=logP_model, \n",
    "                        amine_pKa_model=amine_model,\n",
    "                        acid_pKa_model=acid_model,\n",
    "                        smiles=smiles, \n",
    "                        functional_group=fgroup, \n",
    "                        exp_config=exp_config, \n",
    "                        args=args,\n",
    "                        model_type=ModelType.logP)\n",
    "\n",
    "        svg_filename = f'{index}_{smiles}.svg'\n",
    "        output_svg_path = os.path.join(output_path, svg_filename)\n",
    "        lrp_class.save_molecule_with_relevances(output_svg_path)\n",
    "        index += 1\n",
    "        print(index, smiles, logP_pred, pKa_acid_pred, pKa_amine_pred)"
   ]
  },
  {
   "cell_type": "markdown",
   "metadata": {},
   "source": [
    "FOR normalization"
   ]
  },
  {
   "cell_type": "code",
   "execution_count": 6,
   "metadata": {},
   "outputs": [
    {
     "name": "stdout",
     "output_type": "stream",
     "text": [
      "in node features  76\n"
     ]
    },
    {
     "name": "stderr",
     "output_type": "stream",
     "text": [
      "  4%|▎         | 1/27 [00:01<00:32,  1.24s/it]"
     ]
    },
    {
     "name": "stdout",
     "output_type": "stream",
     "text": [
      "{0: 0.1979735642671585, 1: 0.06554101407527924, 2: 0.06554100662469864, 3: -0.005515102297067642, 4: 0.10672817379236221}\n"
     ]
    },
    {
     "name": "stderr",
     "output_type": "stream",
     "text": [
      "  7%|▋         | 2/27 [00:02<00:31,  1.27s/it]"
     ]
    },
    {
     "name": "stdout",
     "output_type": "stream",
     "text": [
      "{0: 0.2264520227909088, 1: 0.14152777194976807, 2: 0.029188591986894608, 3: -0.19476503133773804, 4: 0.13924385607242584, 5: 0.0758892074227333, 6: 0.14195217192173004, 7: 0.2264520227909088}\n"
     ]
    },
    {
     "name": "stderr",
     "output_type": "stream",
     "text": [
      " 11%|█         | 3/27 [00:04<00:40,  1.68s/it]"
     ]
    },
    {
     "name": "stdout",
     "output_type": "stream",
     "text": [
      "{0: 0.17424029111862183, 1: 0.11888287216424942, 2: 0.15333086252212524, 3: 0.16210615634918213, 4: -0.0023309607058763504, 5: -0.0023309607058763504, 6: -0.11572597920894623, 7: 0.17682358622550964, 8: 0.16210615634918213, 9: 0.1673326939344406, 10: -0.023109186440706253, 11: -0.11572597175836563}\n"
     ]
    },
    {
     "name": "stderr",
     "output_type": "stream",
     "text": [
      " 15%|█▍        | 4/27 [00:06<00:38,  1.67s/it]"
     ]
    },
    {
     "name": "stdout",
     "output_type": "stream",
     "text": [
      "{0: 0.01600712537765503, 1: 0.13514798879623413, 2: 0.07888704538345337, 3: -0.10525308549404144, 4: 0.07888705283403397, 5: 0.13514798879623413, 6: 0.2770732045173645}\n"
     ]
    },
    {
     "name": "stderr",
     "output_type": "stream",
     "text": [
      " 19%|█▊        | 5/27 [00:08<00:38,  1.74s/it]"
     ]
    },
    {
     "name": "stdout",
     "output_type": "stream",
     "text": [
      "{0: 0.17580711841583252, 1: -0.07969480007886887, 2: -0.07969479262828827, 3: 0.1793699562549591, 4: 0.04212062060832977, 5: 0.04212062060832977, 6: 0.171259805560112, 7: 0.042551882565021515, 8: 0.17580711841583252, 9: -0.057617489248514175, 10: 0.13685357570648193}\n"
     ]
    },
    {
     "name": "stderr",
     "output_type": "stream",
     "text": [
      " 22%|██▏       | 6/27 [00:09<00:33,  1.59s/it]"
     ]
    },
    {
     "name": "stdout",
     "output_type": "stream",
     "text": [
      "{0: 0.37777090072631836, 1: 0.16176211833953857, 2: 0.03950326889753342, 3: 0.11200055480003357, 4: 0.16176213324069977, 5: 0.16232618689537048, 6: 0.1869598776102066, 7: 0.06786997616291046}\n"
     ]
    },
    {
     "name": "stderr",
     "output_type": "stream",
     "text": [
      " 26%|██▌       | 7/27 [00:11<00:33,  1.67s/it]"
     ]
    },
    {
     "name": "stdout",
     "output_type": "stream",
     "text": [
      "{0: 0.18693096935749054, 1: 0.039841651916503906, 2: 0.19001801311969757, 3: 0.28223854303359985, 4: -0.013712923973798752, 5: 0.10684847086668015, 6: 0.039841651916503906, 7: 0.015297604724764824, 8: 0.2188880443572998, 9: -0.013712923973798752}\n"
     ]
    },
    {
     "name": "stderr",
     "output_type": "stream",
     "text": [
      " 30%|██▉       | 8/27 [00:12<00:31,  1.64s/it]"
     ]
    },
    {
     "name": "stdout",
     "output_type": "stream",
     "text": [
      "{0: 0.19322192668914795, 1: 0.04507145658135414, 2: 0.1620311588048935, 3: 0.18621841073036194, 4: 0.1620311588048935, 5: 0.08937263488769531, 6: -0.01423792727291584, 7: 0.08937263488769531, 8: 0.04507144168019295}\n"
     ]
    },
    {
     "name": "stderr",
     "output_type": "stream",
     "text": [
      " 33%|███▎      | 9/27 [00:14<00:27,  1.53s/it]"
     ]
    },
    {
     "name": "stdout",
     "output_type": "stream",
     "text": [
      "{0: 0.18185648322105408, 1: -0.02201121672987938, 2: 0.04494081437587738, 3: 0.09988882392644882, 4: 0.18185648322105408, 5: 0.09988883882761002, 6: -0.022011205554008484, 7: 0.28933417797088623}\n"
     ]
    },
    {
     "name": "stderr",
     "output_type": "stream",
     "text": [
      " 37%|███▋      | 10/27 [00:15<00:25,  1.50s/it]"
     ]
    },
    {
     "name": "stdout",
     "output_type": "stream",
     "text": [
      "{0: 0.4742782413959503, 1: 0.07294520735740662, 2: 0.2890700101852417, 3: -0.02001020684838295, 4: -0.0200102049857378, 5: 0.2890700101852417, 6: -0.12689168751239777, 7: -0.13171447813510895}\n"
     ]
    },
    {
     "name": "stderr",
     "output_type": "stream",
     "text": [
      " 41%|████      | 11/27 [00:17<00:23,  1.48s/it]"
     ]
    },
    {
     "name": "stdout",
     "output_type": "stream",
     "text": [
      "{0: 0.09437669813632965, 1: 0.04908476769924164, 2: 0.12062744051218033, 3: 0.055488716810941696, 4: 0.0554887056350708, 5: 0.12062743306159973, 6: 0.25581079721450806, 7: -0.01208576001226902, 8: 0.09437669813632965}\n"
     ]
    },
    {
     "name": "stderr",
     "output_type": "stream",
     "text": [
      " 44%|████▍     | 12/27 [00:18<00:23,  1.56s/it]"
     ]
    },
    {
     "name": "stdout",
     "output_type": "stream",
     "text": [
      "{0: 0.04504605382680893, 1: 0.09800705313682556, 2: 0.08443775773048401, 3: 0.10892130434513092, 4: 0.14384274184703827, 5: 0.06793485581874847, 6: -0.010737404227256775}\n"
     ]
    },
    {
     "name": "stderr",
     "output_type": "stream",
     "text": [
      " 48%|████▊     | 13/27 [00:20<00:21,  1.56s/it]"
     ]
    },
    {
     "name": "stdout",
     "output_type": "stream",
     "text": [
      "{0: 0.3124861717224121, 1: 0.19722168147563934, 2: 0.19722168147563934, 3: 0.19722168147563934, 4: 0.06829022616147995, 5: 0.06376316398382187, 6: 0.19788560271263123}\n"
     ]
    },
    {
     "name": "stderr",
     "output_type": "stream",
     "text": [
      " 52%|█████▏    | 14/27 [00:22<00:22,  1.76s/it]"
     ]
    },
    {
     "name": "stdout",
     "output_type": "stream",
     "text": [
      "{0: 0.15474563837051392, 1: 0.12824316322803497, 2: 0.011356599628925323, 3: 0.12824316322803497, 4: 0.0672917515039444, 5: 0.0979723334312439, 6: 0.011356612667441368, 7: 0.14266109466552734, 8: -0.2195301055908203, 9: 0.10395157337188721, 10: 0.1413607895374298, 11: 0.1708124428987503}\n"
     ]
    },
    {
     "name": "stderr",
     "output_type": "stream",
     "text": [
      " 56%|█████▌    | 15/27 [00:24<00:20,  1.73s/it]"
     ]
    },
    {
     "name": "stdout",
     "output_type": "stream",
     "text": [
      "{0: 0.08680298924446106, 1: 0.21929848194122314, 2: 0.26331040263175964, 3: 0.1895088255405426, 4: -0.15745577216148376, 5: -0.1967075765132904, 6: 0.26331040263175964}\n"
     ]
    },
    {
     "name": "stderr",
     "output_type": "stream",
     "text": [
      " 59%|█████▉    | 16/27 [00:25<00:18,  1.70s/it]"
     ]
    },
    {
     "name": "stdout",
     "output_type": "stream",
     "text": [
      "{0: 0.034178368747234344, 1: 0.10474009811878204, 2: 0.06463415175676346, 3: 0.24306237697601318, 4: 0.07355238497257233, 5: 0.14371585845947266, 6: 0.062346018850803375}\n"
     ]
    },
    {
     "name": "stderr",
     "output_type": "stream",
     "text": [
      " 63%|██████▎   | 17/27 [00:27<00:15,  1.59s/it]"
     ]
    },
    {
     "name": "stdout",
     "output_type": "stream",
     "text": [
      "{0: 0.3105250895023346, 1: 0.016138501465320587, 2: -0.07130584865808487, 3: 0.3105250895023346, 4: 0.12255460768938065, 5: 0.016138501465320587}\n"
     ]
    },
    {
     "name": "stderr",
     "output_type": "stream",
     "text": [
      " 67%|██████▋   | 18/27 [00:28<00:13,  1.49s/it]"
     ]
    },
    {
     "name": "stdout",
     "output_type": "stream",
     "text": [
      "{0: 0.04546121880412102, 1: -0.09872832149267197, 2: 0.12573999166488647, 3: 0.3936251103878021, 4: 0.17105400562286377, 5: 0.12573999166488647, 6: 0.11277681589126587, 7: -0.03182649612426758}\n"
     ]
    },
    {
     "name": "stderr",
     "output_type": "stream",
     "text": [
      " 70%|███████   | 19/27 [00:30<00:12,  1.53s/it]"
     ]
    },
    {
     "name": "stdout",
     "output_type": "stream",
     "text": [
      "{0: 0.2783766984939575, 1: -0.08911251276731491, 2: -0.096894271671772, 3: -0.05300344154238701, 4: 0.0893135592341423, 5: 0.10226893424987793, 6: 0.1247163638472557}\n"
     ]
    },
    {
     "name": "stderr",
     "output_type": "stream",
     "text": [
      " 74%|███████▍  | 20/27 [00:31<00:11,  1.63s/it]"
     ]
    },
    {
     "name": "stdout",
     "output_type": "stream",
     "text": [
      "{0: 0.24512329697608948, 1: 0.11206890642642975, 2: 0.07918675988912582, 3: 0.07918675988912582, 4: 0.0016695894300937653, 5: 0.14342349767684937, 6: 0.2898130416870117, 7: 0.07173117250204086, 8: 0.0016695912927389145}\n"
     ]
    },
    {
     "name": "stderr",
     "output_type": "stream",
     "text": [
      " 78%|███████▊  | 21/27 [00:33<00:09,  1.66s/it]"
     ]
    },
    {
     "name": "stdout",
     "output_type": "stream",
     "text": [
      "{0: 0.20369938015937805, 1: 0.15663614869117737, 2: -0.040345627814531326, 3: -0.16835255920886993, 4: 0.11361316591501236, 5: 0.1176086813211441, 6: 0.12439602613449097, 7: 0.09570356458425522, 8: 0.20369938015937805}\n"
     ]
    },
    {
     "name": "stderr",
     "output_type": "stream",
     "text": [
      " 81%|████████▏ | 22/27 [00:35<00:08,  1.66s/it]"
     ]
    },
    {
     "name": "stdout",
     "output_type": "stream",
     "text": [
      "{0: 0.10709027945995331, 1: 0.16483910381793976, 2: 0.13685891032218933, 3: 0.16483910381793976, 4: 0.1710255742073059, 5: 0.06607289612293243, 6: 0.1710255742073059, 7: 0.13685891032218933, 8: 0.13401861488819122}\n"
     ]
    },
    {
     "name": "stderr",
     "output_type": "stream",
     "text": [
      " 85%|████████▌ | 23/27 [00:36<00:05,  1.48s/it]"
     ]
    },
    {
     "name": "stdout",
     "output_type": "stream",
     "text": [
      "{0: 0.3457436263561249, 1: -0.005065475590527058, 2: 0.05110825598239899, 3: -0.07239104807376862}\n"
     ]
    },
    {
     "name": "stderr",
     "output_type": "stream",
     "text": [
      " 89%|████████▉ | 24/27 [00:37<00:04,  1.46s/it]"
     ]
    },
    {
     "name": "stdout",
     "output_type": "stream",
     "text": [
      "{0: 0.21368107199668884, 1: -0.04180243983864784, 2: 0.23607400059700012, 3: -0.05382121726870537, 4: 0.06013873964548111, 5: 0.20886929333209991, 6: 0.20886927843093872, 7: -0.04180244728922844}\n"
     ]
    },
    {
     "name": "stderr",
     "output_type": "stream",
     "text": [
      " 93%|█████████▎| 25/27 [00:40<00:03,  1.72s/it]"
     ]
    },
    {
     "name": "stdout",
     "output_type": "stream",
     "text": [
      "{0: 0.04504605382680893, 1: 0.09800705313682556, 2: 0.08443775773048401, 3: 0.10892130434513092, 4: 0.14384274184703827, 5: 0.06793485581874847, 6: -0.010737404227256775}\n"
     ]
    },
    {
     "name": "stderr",
     "output_type": "stream",
     "text": [
      " 96%|█████████▋| 26/27 [00:42<00:01,  1.78s/it]"
     ]
    },
    {
     "name": "stdout",
     "output_type": "stream",
     "text": [
      "{0: 0.18873661756515503, 1: -0.08342565596103668, 2: -0.05145120993256569, 3: 0.14282602071762085, 4: 0.21491745114326477, 5: 0.02814723551273346, 6: 0.06753905117511749, 7: 0.18873661756515503, 8: 0.12110663205385208, 9: -0.03026546910405159, 10: 0.15943527221679688}\n"
     ]
    },
    {
     "name": "stderr",
     "output_type": "stream",
     "text": [
      "100%|██████████| 27/27 [00:43<00:00,  1.61s/it]"
     ]
    },
    {
     "name": "stdout",
     "output_type": "stream",
     "text": [
      "{0: 0.13569460809230804, 1: 0.1467602550983429, 2: 0.15088029205799103, 3: -0.04475916177034378, 4: 0.1506797969341278, 5: 0.049493901431560516, 6: 0.18846048414707184, 7: 0.15088030695915222, 8: 0.14780446887016296}\n"
     ]
    },
    {
     "name": "stderr",
     "output_type": "stream",
     "text": [
      "\n"
     ]
    }
   ],
   "source": [
    "\n",
    "pKa_acid_csv_path = r'C:\\work\\DrugDiscovery\\main_git\\XAI_Chem\\data\\FGroupData\\test_pKa_acid_data.csv'\n",
    "\n",
    "smiles_and_fgroup_dict = extract_all_smiles_and_fgroups(pKa_acid_csv_path)\n",
    "\n",
    "if __name__ == '__main__':\n",
    "    with open(r'C:\\work\\DrugDiscovery\\main_git\\XAI_Chem\\ml_part\\configs\\args.pickle', 'rb') as file:\n",
    "        args =pickle.load(file)\n",
    "        args['task'] = ['pKa']\n",
    "    with open(r'C:\\work\\DrugDiscovery\\main_git\\XAI_Chem\\ml_part\\configs\\configure.json', 'r') as f:\n",
    "        exp_config = json.load(f)\n",
    "    args['device'] = torch.device('cpu')\n",
    "    args = setup(args)\n",
    "\n",
    "    logP_model = load_logP_model(exp_config, args)\n",
    "    amine_model = load_pKa_basic_model(args)\n",
    "    acid_model = load_pKa_acidic_model(args)\n",
    "\n",
    "    logP_model.eval()\n",
    "    amine_model.eval()\n",
    "    acid_model.eval()\n",
    "\n",
    "    negative_min_global, negative_max_global = 0, pow(-10, 5)\n",
    "    positive_min_global, positive_max_global = pow(10, 5), 0\n",
    "    for smiles, fgroup in tqdm(smiles_and_fgroup_dict.items()):\n",
    "\n",
    "        negative_min, negative_max = 0, pow(-10, 5)\n",
    "        positive_min, positive_max = pow(10, 5), 0\n",
    "\n",
    "        bg = convert_smiles_to_dglgraph(smiles, args)\n",
    "        logP_pred, pKa_acid_pred, pKa_amine_pred = predict(args, logP_model, bg, default_weights=False)\n",
    "        \n",
    "        lrp_class = Lrp(logP_model=logP_model, \n",
    "                        amine_pKa_model=amine_model,\n",
    "                        acid_pKa_model=acid_model,\n",
    "                        smiles=smiles, \n",
    "                        functional_group=fgroup, \n",
    "                        exp_config=exp_config, \n",
    "                        args=args,\n",
    "                        model_type=ModelType.logP)\n",
    "\n",
    "        node_relevances = lrp_class.node_relevances\n",
    "        edge_relevances = lrp_class.edge_relevances\n",
    "\n",
    "        node_positive_values = [(value) for value in node_relevances.values() if value >= 0]\n",
    "        edge_positive_values = [(value) for value in edge_relevances.values() if value >= 0]\n",
    "\n",
    "        node_negative_values = [(value) for value in node_relevances.values() if value < 0]\n",
    "        edge_negative_values = [(value) for value in edge_relevances.values() if value < 0]\n",
    "\n",
    "        negative_min = min(min(node_negative_values), min(edge_negative_values))\n",
    "        negative_max = max(max(node_negative_values), max(edge_negative_values))\n",
    "\n",
    "        positive_min = min(min(node_positive_values), min(edge_positive_values))\n",
    "        positive_max = max(max(node_positive_values), max(edge_positive_values))\n",
    "        \n",
    "        negative_min_global = min(negative_min_global, negative_min)\n",
    "        negative_max_global = min(negative_max_global, negative_max)\n",
    "\n",
    "        positive_min_global = min(positive_min_global, positive_min)\n",
    "        positive_max_global = max(positive_max_global, positive_max)\n",
    "\n"
   ]
  }
 ],
 "metadata": {
  "kernelspec": {
   "display_name": "drug-discovery-venv",
   "language": "python",
   "name": "python3"
  },
  "language_info": {
   "codemirror_mode": {
    "name": "ipython",
    "version": 3
   },
   "file_extension": ".py",
   "mimetype": "text/x-python",
   "name": "python",
   "nbconvert_exporter": "python",
   "pygments_lexer": "ipython3",
   "version": "3.11.7"
  }
 },
 "nbformat": 4,
 "nbformat_minor": 2
}
