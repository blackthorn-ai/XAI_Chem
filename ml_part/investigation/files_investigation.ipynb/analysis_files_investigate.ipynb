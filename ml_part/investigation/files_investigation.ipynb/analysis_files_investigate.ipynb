{
 "cells": [
  {
   "cell_type": "code",
   "execution_count": 1,
   "metadata": {},
   "outputs": [],
   "source": [
    "import pandas as pd\n",
    "\n",
    "test_pKa_path = r'C:\\work\\DrugDiscovery\\main_git\\XAI_Chem\\data\\updated_features\\csv_for_rulefit\\test_pKa_v4_features_2.2.csv'\n",
    "train_pKa_path = r'C:\\work\\DrugDiscovery\\main_git\\XAI_Chem\\data\\updated_features\\csv_for_rulefit\\train_pKa_v4_features_2.2.csv'\n",
    "\n",
    "test_logP_path = r'C:\\work\\DrugDiscovery\\main_git\\XAI_Chem\\data\\updated_features\\csv_for_rulefit\\test_logP_v4_features_2.2.csv'\n",
    "train_logP_path = r'C:\\work\\DrugDiscovery\\main_git\\XAI_Chem\\data\\updated_features\\csv_for_rulefit\\train_logP_v4_features_2.2.csv'\n"
   ]
  },
  {
   "cell_type": "code",
   "execution_count": 2,
   "metadata": {},
   "outputs": [],
   "source": [
    "df_test_logP = pd.read_csv(test_logP_path, index_col=0)\n",
    "df_train_logP = pd.read_csv(train_logP_path, index_col=0)\n",
    "\n",
    "df_test_pKa = pd.read_csv(test_pKa_path, index_col=0)\n",
    "df_train_pKa = pd.read_csv(train_pKa_path, index_col=0)"
   ]
  },
  {
   "cell_type": "code",
   "execution_count": 3,
   "metadata": {},
   "outputs": [
    {
     "name": "stdout",
     "output_type": "stream",
     "text": [
      "RPCS\n",
      "PBF\n",
      "mol_weight\n",
      "dipole_moment\n",
      "PPSA5\n",
      "avg_atoms_in_cycle\n",
      "cis/trans\n",
      "dihedral_angle\n",
      "FPSA3\n",
      "distance_between_atoms_in_cycle_and_f_group\n",
      "angle_X1X2R2\n",
      "angle_R1X1R2\n",
      "chirality\n",
      "sasa\n",
      "PNSA5\n",
      "GeomShapeIndex\n",
      "TASA\n",
      "angle_R2X2R1\n",
      "mol_num_cycles\n",
      "f_freedom\n",
      "identificator\n",
      "distance_between_atoms_in_f_group_centers\n",
      "angle_X2X1R1\n",
      "f_to_fg\n",
      "fold_id\n",
      "pKa\n"
     ]
    }
   ],
   "source": [
    "completed_description = ['nF', 'nC', 'nO', 'nN', \n",
    "                         'nFRing', 'nHRing', 'nARing', 'nFHRing']\n",
    "\n",
    "feature_names = df_train_pKa.columns\n",
    "for feature_name in feature_names:\n",
    "    if feature_name not in completed_description:\n",
    "        print(feature_name)\n",
    "        completed_description.append(feature_name)"
   ]
  },
  {
   "cell_type": "code",
   "execution_count": 4,
   "metadata": {},
   "outputs": [
    {
     "data": {
      "text/plain": [
       "['nF',\n",
       " 'nC',\n",
       " 'nO',\n",
       " 'nN',\n",
       " 'nFRing',\n",
       " 'nHRing',\n",
       " 'nARing',\n",
       " 'nFHRing',\n",
       " 'RPCS',\n",
       " 'PBF',\n",
       " 'mol_weight',\n",
       " 'dipole_moment',\n",
       " 'PPSA5',\n",
       " 'avg_atoms_in_cycle',\n",
       " 'cis/trans',\n",
       " 'dihedral_angle',\n",
       " 'FPSA3',\n",
       " 'distance_between_atoms_in_cycle_and_f_group',\n",
       " 'angle_X1X2R2',\n",
       " 'angle_R1X1R2',\n",
       " 'chirality',\n",
       " 'sasa',\n",
       " 'PNSA5',\n",
       " 'GeomShapeIndex',\n",
       " 'TASA',\n",
       " 'angle_R2X2R1',\n",
       " 'mol_num_cycles',\n",
       " 'f_freedom',\n",
       " 'identificator',\n",
       " 'distance_between_atoms_in_f_group_centers',\n",
       " 'angle_X2X1R1',\n",
       " 'f_to_fg',\n",
       " 'fold_id',\n",
       " 'pKa']"
      ]
     },
     "execution_count": 4,
     "metadata": {},
     "output_type": "execute_result"
    }
   ],
   "source": [
    "completed_description"
   ]
  },
  {
   "cell_type": "code",
   "execution_count": 5,
   "metadata": {},
   "outputs": [
    {
     "name": "stdout",
     "output_type": "stream",
     "text": [
      "mol_volume\n",
      "WPSA5\n",
      "logP\n"
     ]
    }
   ],
   "source": [
    "feature_names = df_train_logP.columns\n",
    "for feature_name in feature_names:\n",
    "    if feature_name not in completed_description:\n",
    "        print(feature_name)"
   ]
  }
 ],
 "metadata": {
  "kernelspec": {
   "display_name": "drug-discovery-venv",
   "language": "python",
   "name": "python3"
  },
  "language_info": {
   "codemirror_mode": {
    "name": "ipython",
    "version": 3
   },
   "file_extension": ".py",
   "mimetype": "text/x-python",
   "name": "python",
   "nbconvert_exporter": "python",
   "pygments_lexer": "ipython3",
   "version": "3.11.7"
  }
 },
 "nbformat": 4,
 "nbformat_minor": 2
}
