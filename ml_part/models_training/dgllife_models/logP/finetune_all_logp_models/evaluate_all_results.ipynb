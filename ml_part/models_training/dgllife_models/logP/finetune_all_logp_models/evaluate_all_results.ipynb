{
 "cells": [
  {
   "cell_type": "code",
   "execution_count": 2,
   "metadata": {},
   "outputs": [],
   "source": [
    "import os\n",
    "import pandas as pd\n",
    "\n",
    "csv_files_path = r'C:\\work\\DrugDiscovery\\main_git\\XAI_Chem\\data\\logP_lipophilicity_data\\hyperopt_results'\n",
    "\n",
    "csv_files = os.listdir(csv_files_path)"
   ]
  },
  {
   "cell_type": "code",
   "execution_count": 7,
   "metadata": {},
   "outputs": [
    {
     "name": "stdout",
     "output_type": "stream",
     "text": [
      "AttentiveFP_attentivefp_Lipophilicity_cv_result_05_04.csv 0.8075000000000001 {'lr': 0.0029101672237425774, 'train_type': 'predictor_and_readout', 'weight_decay': 0.00018636023749210836}\n",
      "AttentiveFP_canonical_Lipophilicity_cv_result_05_04.csv 0.7815 {'lr': 0.002832830401590982, 'train_type': 'predictor_and_readout', 'weight_decay': 0.001210196427880566}\n",
      "GAT_attentivefp_Lipophilicity_cv_result_05_04.csv 0.8075000000000001 {'lr': 0.0029101672237425774, 'train_type': 'predictor_and_readout', 'weight_decay': 0.00018636023749210836}\n",
      "GCN_attentivefp_Lipophilicity_cv_result_05_04.csv 0.8075000000000001 {'lr': 0.0029101672237425774, 'train_type': 'predictor_and_readout', 'weight_decay': 0.00018636023749210836}\n",
      "GCN_canonical_Lipophilicity_cv_result_05_04.csv 0.81 {'lr': 0.003555341652761401, 'train_type': 'only_predictor', 'weight_decay': 0.0003841453864617634}\n",
      "Weave_attentivefp_Lipophilicity_cv_result_05_04.csv 0.7815 {'lr': 0.002832830401590982, 'train_type': 'predictor_and_readout', 'weight_decay': 0.001210196427880566}\n",
      "Weave_canonical_Lipophilicity_cv_result_05_04.csv 0.8075000000000001 {'lr': 0.0029101672237425774, 'train_type': 'predictor_and_readout', 'weight_decay': 0.00018636023749210836}\n"
     ]
    }
   ],
   "source": [
    "for csv_file in csv_files:\n",
    "    csv_file_path = os.path.join(csv_files_path, csv_file)\n",
    "    \n",
    "    df = pd.read_csv(csv_file_path)\n",
    "\n",
    "    best_r_2 = 0\n",
    "    params = None\n",
    "    for index, row in df.iterrows():\n",
    "        cv_r_2 = (row['cv_0_r^2'] + row['cv_1_r^2']) / 2.\n",
    "        if cv_r_2 > best_r_2:\n",
    "            best_r_2 = cv_r_2\n",
    "            params = row['params']\n",
    "    \n",
    "    print(csv_file, best_r_2, params)"
   ]
  }
 ],
 "metadata": {
  "kernelspec": {
   "display_name": "drug-discovery-venv",
   "language": "python",
   "name": "python3"
  },
  "language_info": {
   "codemirror_mode": {
    "name": "ipython",
    "version": 3
   },
   "file_extension": ".py",
   "mimetype": "text/x-python",
   "name": "python",
   "nbconvert_exporter": "python",
   "pygments_lexer": "ipython3",
   "version": "3.11.9"
  }
 },
 "nbformat": 4,
 "nbformat_minor": 2
}
