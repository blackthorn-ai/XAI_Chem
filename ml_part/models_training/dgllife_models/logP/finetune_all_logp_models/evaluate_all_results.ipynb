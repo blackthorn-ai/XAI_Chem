{
 "cells": [
  {
   "cell_type": "code",
   "execution_count": 1,
   "metadata": {},
   "outputs": [],
   "source": [
    "import os\n",
    "import pandas as pd\n",
    "\n",
    "csv_files_path = r'C:\\work\\DrugDiscovery\\main_git\\XAI_Chem\\data\\logP_lipophilicity_data\\hyperopt_results'\n",
    "\n",
    "csv_files = os.listdir(csv_files_path)"
   ]
  },
  {
   "cell_type": "code",
   "execution_count": 6,
   "metadata": {},
   "outputs": [
    {
     "name": "stdout",
     "output_type": "stream",
     "text": [
      "========== AttentiveFP_attentivefp_Lipophilicity_cv_result_05_04.csv ==========\n",
      "r^2: 0.8075000000000001, mse: 0.0615, mae: 0.1885\n",
      "\n",
      "========== AttentiveFP_canonical_Lipophilicity_cv_result_05_04.csv ==========\n",
      "r^2: 0.7815, mse: 0.06999999999999999, mae: 0.20400000000000001\n",
      "\n",
      "========== GAT_attentivefp_Lipophilicity_cv_result_05_04.csv ==========\n",
      "r^2: 0.8075000000000001, mse: 0.0615, mae: 0.1885\n",
      "\n",
      "========== GAT_canonical_Lipophilicity_cv_result_05_04.csv ==========\n",
      "r^2: 0.802, mse: 0.063, mae: 0.1915\n",
      "\n",
      "========== GCN_attentivefp_Lipophilicity_cv_result_05_04.csv ==========\n",
      "r^2: 0.8075000000000001, mse: 0.0615, mae: 0.1885\n",
      "\n",
      "========== GCN_canonical_Lipophilicity_cv_result_05_04.csv ==========\n",
      "r^2: 0.81, mse: 0.061, mae: 0.1905\n",
      "\n",
      "========== Weave_attentivefp_Lipophilicity_cv_result_05_04.csv ==========\n",
      "r^2: 0.7815, mse: 0.06999999999999999, mae: 0.20400000000000001\n",
      "\n",
      "========== Weave_canonical_Lipophilicity_cv_result_05_04.csv ==========\n",
      "r^2: 0.8075000000000001, mse: 0.0615, mae: 0.1885\n",
      "\n"
     ]
    }
   ],
   "source": [
    "for csv_file in csv_files:\n",
    "    csv_file_path = os.path.join(csv_files_path, csv_file)\n",
    "    \n",
    "    df = pd.read_csv(csv_file_path)\n",
    "\n",
    "    best_r_2, best_mse, best_mae = 0, 0, 0\n",
    "    params = None\n",
    "    best_row = None\n",
    "    for index, row in df.iterrows():\n",
    "        cv_r_2 = (row['cv_0_r^2'] + row['cv_1_r^2']) / 2.\n",
    "        cv_mse = (row['cv_0_mse'] + row['cv_1_mse']) / 2.\n",
    "        cv_mae = (row['cv_0_mae'] + row['cv_1_mae']) / 2.\n",
    "        if cv_r_2 > best_r_2:\n",
    "            best_r_2 = cv_r_2\n",
    "            params = row['params']\n",
    "            best_mse = cv_mse\n",
    "            best_mae = cv_mae\n",
    "    print(\"=\" * 10, csv_file, \"=\" * 10)\n",
    "    print(f\"r^2: {best_r_2}, mse: {best_mse}, mae: {best_mae}\\n\")"
   ]
  },
  {
   "cell_type": "code",
   "execution_count": null,
   "metadata": {},
   "outputs": [],
   "source": [
    "models_parameters = {\n",
    "    \"AttentiveFP_attentivefp_Lipophilicity\": {'lr': 0.0029101672237425774, 'train_type': 'predictor_and_readout', 'weight_decay': 0.00018636023749210836},\n",
    "    \"AttentiveFP_canonical_Lipophilicity\": {'lr': 0.002832830401590982, 'train_type': 'predictor_and_readout', 'weight_decay': 0.001210196427880566},\n",
    "    \"GAT_attentivefp_Lipophilicity\": {'lr': 0.0029101672237425774, 'train_type': 'predictor_and_readout', 'weight_decay': 0.00018636023749210836},\n",
    "    \"GAT_canonical_Lipophilicity\": {'lr': 0.00023860871587956466, 'train_type': 'predictor_and_readout', 'weight_decay': 9.193595481915895e-05},\n",
    "    \"GCN_attentivefp_Lipophilicity\": {'lr': 0.0029101672237425774, 'train_type': 'predictor_and_readout', 'weight_decay': 0.00018636023749210836},\n",
    "    \"GCN_canonical_Lipophilicity\": {'lr': 0.003555341652761401, 'train_type': 'only_predictor', 'weight_decay': 0.0003841453864617634},\n",
    "    \"Weave_attentivefp_Lipophilicity\": {'lr': 0.002832830401590982, 'train_type': 'predictor_and_readout', 'weight_decay': 0.001210196427880566},\n",
    "    \"Weave_canonical_Lipophilicity\": {'lr': 0.0029101672237425774, 'train_type': 'predictor_and_readout', 'weight_decay': 0.00018636023749210836},\n",
    "}"
   ]
  },
  {
   "cell_type": "markdown",
   "metadata": {},
   "source": [
    "17.04.24"
   ]
  },
  {
   "cell_type": "code",
   "execution_count": 4,
   "metadata": {},
   "outputs": [],
   "source": [
    "import os\n",
    "import pandas as pd\n",
    "\n",
    "csv_files_path = r'C:\\work\\DrugDiscovery\\main_git\\XAI_Chem\\data\\logP_lipophilicity_data\\hyperopt_results_17.04'\n",
    "\n",
    "csv_files = os.listdir(csv_files_path)\n",
    "csv_files.remove('best_results_for_each_model.csv')"
   ]
  },
  {
   "cell_type": "code",
   "execution_count": 11,
   "metadata": {},
   "outputs": [
    {
     "name": "stdout",
     "output_type": "stream",
     "text": [
      "========== AttentiveFP_attentivefp_Lipophilicity_cv_result_05_04.csv ==========\n",
      "OOS cv r^2: 0.8009999999999999, mse: 0.063, mae: 0.188\n",
      "Train cv r^2: 0.9475, mse: 0.017, mae: 0.0895\n",
      "Best params: {'lr': 0.0013671489030665355, 'train_type': 'predictor_and_readout', 'weight_decay': 0.009515066352372502}\n",
      "\n",
      "========== AttentiveFP_canonical_Lipophilicity_cv_result_05_04.csv ==========\n",
      "OOS cv r^2: 0.7669999999999999, mse: 0.075, mae: 0.213\n",
      "Train cv r^2: 0.8425, mse: 0.049, mae: 0.163\n",
      "Best params: {'lr': 0.0007047738037192289, 'train_type': 'all_layers', 'weight_decay': 0.00030752497804857913}\n",
      "\n",
      "========== GAT_attentivefp_Lipophilicity_cv_result_05_04.csv ==========\n",
      "OOS cv r^2: 0.8009999999999999, mse: 0.063, mae: 0.188\n",
      "Train cv r^2: 0.9475, mse: 0.017, mae: 0.0895\n",
      "Best params: {'lr': 0.0013671489030665355, 'train_type': 'predictor_and_readout', 'weight_decay': 0.009515066352372502}\n",
      "\n",
      "========== GAT_canonical_Lipophilicity_cv_result_05_04.csv ==========\n",
      "OOS cv r^2: 0.8294999999999999, mse: 0.054, mae: 0.1765\n",
      "Train cv r^2: 0.9, mse: 0.0315, mae: 0.1295\n",
      "Best params: {'lr': 0.0003250108199169239, 'train_type': 'only_predictor', 'weight_decay': 0.0013987003137648523}\n",
      "\n",
      "========== GCN_attentivefp_Lipophilicity_cv_result_05_04.csv ==========\n",
      "OOS cv r^2: 0.8009999999999999, mse: 0.063, mae: 0.188\n",
      "Train cv r^2: 0.9475, mse: 0.017, mae: 0.0895\n",
      "Best params: {'lr': 0.0013671489030665355, 'train_type': 'predictor_and_readout', 'weight_decay': 0.009515066352372502}\n",
      "\n",
      "========== GCN_canonical_Lipophilicity_cv_result_05_04.csv ==========\n",
      "OOS cv r^2: 0.8009999999999999, mse: 0.063, mae: 0.188\n",
      "Train cv r^2: 0.9475, mse: 0.017, mae: 0.0895\n",
      "Best params: {'lr': 0.0013671489030665355, 'train_type': 'predictor_and_readout', 'weight_decay': 0.009515066352372502}\n",
      "\n",
      "========== Weave_attentivefp_Lipophilicity_cv_result_05_04.csv ==========\n",
      "OOS cv r^2: 0.7669999999999999, mse: 0.075, mae: 0.213\n",
      "Train cv r^2: 0.8425, mse: 0.049, mae: 0.163\n",
      "Best params: {'lr': 0.0007047738037192289, 'train_type': 'all_layers', 'weight_decay': 0.00030752497804857913}\n",
      "\n",
      "========== Weave_canonical_Lipophilicity_cv_result_05_04.csv ==========\n",
      "OOS cv r^2: 0.8009999999999999, mse: 0.063, mae: 0.188\n",
      "Train cv r^2: 0.9475, mse: 0.017, mae: 0.0895\n",
      "Best params: {'lr': 0.0013671489030665355, 'train_type': 'predictor_and_readout', 'weight_decay': 0.009515066352372502}\n",
      "\n"
     ]
    }
   ],
   "source": [
    "for csv_file in csv_files:\n",
    "    csv_file_path = os.path.join(csv_files_path, csv_file)\n",
    "    \n",
    "    df = pd.read_csv(csv_file_path)\n",
    "\n",
    "    best_r_2, best_mse, best_mae = 0, 0, 0\n",
    "    best_r_2_train, best_mse_train, best_mae_train = 0, 0, 0\n",
    "    params = None\n",
    "    best_row = None\n",
    "    for index, row in df.iterrows():\n",
    "        cv_r_2 = (row['cv_0_r^2'] + row['cv_1_r^2']) / 2.\n",
    "        cv_mse = (row['cv_0_mse'] + row['cv_1_mse']) / 2.\n",
    "        cv_mae = (row['cv_0_mae'] + row['cv_1_mae']) / 2.\n",
    "\n",
    "        cv_r_2_train = (row['cv_0_train_r^2'] + row['cv_1_train_r^2']) / 2.\n",
    "        cv_mse_train = (row['cv_0_train_mse'] + row['cv_1_train_mse']) / 2.\n",
    "        cv_mae_train = (row['cv_0_train_mae'] + row['cv_1_train_mae']) / 2.\n",
    "        if cv_r_2 > best_r_2:\n",
    "            best_r_2 = cv_r_2\n",
    "            params = row['params']\n",
    "            best_mse = cv_mse\n",
    "            best_mae = cv_mae\n",
    "\n",
    "            best_r_2_train = cv_r_2_train\n",
    "            best_mse_train = cv_mse_train\n",
    "            best_mae_train = cv_mae_train\n",
    "\n",
    "    print(\"=\" * 10, csv_file, \"=\" * 10)\n",
    "    print(f\"OOS cv r^2: {best_r_2}, mse: {best_mse}, mae: {best_mae}\")\n",
    "    print(f\"Train cv r^2: {best_r_2_train}, mse: {best_mse_train}, mae: {best_mae_train}\")\n",
    "    print(f\"Best params: {params}\\n\")"
   ]
  },
  {
   "cell_type": "code",
   "execution_count": null,
   "metadata": {},
   "outputs": [],
   "source": [
    "models_parameters = {\n",
    "    \"AttentiveFP_attentivefp_Lipophilicity\": {'lr': 0.0029101672237425774, 'train_type': 'predictor_and_readout', 'weight_decay': 0.00018636023749210836},\n",
    "    \"AttentiveFP_canonical_Lipophilicity\": {'lr': 0.002832830401590982, 'train_type': 'predictor_and_readout', 'weight_decay': 0.001210196427880566},\n",
    "    \"GAT_attentivefp_Lipophilicity\": {'lr': 0.0029101672237425774, 'train_type': 'predictor_and_readout', 'weight_decay': 0.00018636023749210836},\n",
    "    \"GAT_canonical_Lipophilicity\": {'lr': 0.00023860871587956466, 'train_type': 'predictor_and_readout', 'weight_decay': 9.193595481915895e-05},\n",
    "    \"GCN_attentivefp_Lipophilicity\": {'lr': 0.0029101672237425774, 'train_type': 'predictor_and_readout', 'weight_decay': 0.00018636023749210836},\n",
    "    \"GCN_canonical_Lipophilicity\": {'lr': 0.003555341652761401, 'train_type': 'only_predictor', 'weight_decay': 0.0003841453864617634},\n",
    "    \"Weave_attentivefp_Lipophilicity\": {'lr': 0.002832830401590982, 'train_type': 'predictor_and_readout', 'weight_decay': 0.001210196427880566},\n",
    "    \"Weave_canonical_Lipophilicity\": {'lr': 0.0029101672237425774, 'train_type': 'predictor_and_readout', 'weight_decay': 0.00018636023749210836},\n",
    "}"
   ]
  },
  {
   "cell_type": "code",
   "execution_count": 14,
   "metadata": {},
   "outputs": [],
   "source": [
    "import os\n",
    "import pandas as pd\n",
    "\n",
    "csv_file = r'C:\\work\\DrugDiscovery\\main_git\\XAI_Chem\\data\\logP_lipophilicity_data\\hyperopt_results_17.04\\cv_train_oos_metrics.csv'\n",
    "\n",
    "df = pd.read_csv(csv_file, index_col=0)"
   ]
  },
  {
   "cell_type": "code",
   "execution_count": 18,
   "metadata": {},
   "outputs": [
    {
     "name": "stdout",
     "output_type": "stream",
     "text": [
      "AttentiveFP_attentivefp_Lipophilicity\n",
      "Train cv r^2: 0.819, mae: 0.184, mse: 0.056\n",
      "OOS cv r^2: 0.7515000000000001, mae: 0.2155, mse: 0.07899999999999999\n",
      "------------------------------\n",
      "AttentiveFP_canonical_Lipophilicity\n",
      "Train cv r^2: 0.8795, mae: 0.14500000000000002, mse: 0.037500000000000006\n",
      "OOS cv r^2: 0.7705, mae: 0.207, mse: 0.07450000000000001\n",
      "------------------------------\n",
      "GAT_attentivefp_Lipophilicity\n",
      "Train cv r^2: 0.792, mae: 0.1905, mse: 0.0635\n",
      "OOS cv r^2: 0.772, mae: 0.201, mse: 0.0735\n",
      "------------------------------\n",
      "GAT_canonical_Lipophilicity\n",
      "Train cv r^2: 0.854, mae: 0.1645, mse: 0.0465\n",
      "OOS cv r^2: 0.8, mae: 0.1985, mse: 0.064\n",
      "------------------------------\n",
      "GCN_attentivefp_Lipophilicity\n",
      "Train cv r^2: 0.9415, mae: 0.098, mse: 0.0195\n",
      "OOS cv r^2: 0.791, mae: 0.1985, mse: 0.0665\n",
      "------------------------------\n",
      "GCN_canonical_Lipophilicity\n",
      "Train cv r^2: 0.9155, mae: 0.112, mse: 0.026\n",
      "OOS cv r^2: 0.796, mae: 0.1965, mse: 0.0655\n",
      "------------------------------\n"
     ]
    }
   ],
   "source": [
    "for index, row in df.iterrows():\n",
    "    print(row['model_name'])\n",
    "\n",
    "    train_r_2 = (row['cv_train_0_r^2'] + row['cv_train_1_r^2']) / 2\n",
    "    train_mae = (row['cv_train_0_mae'] + row['cv_train_1_mae']) / 2\n",
    "    train_mse = (row['cv_train_0_mse'] + row['cv_train_1_mse']) / 2\n",
    "\n",
    "    oos_r_2 = (row['cv_0_r^2'] + row['cv_1_r^2']) / 2\n",
    "    oos_mae = (row['cv_0_mae'] + row['cv_1_mae']) / 2\n",
    "    oos_mse = (row['cv_0_mse'] + row['cv_1_mse']) / 2\n",
    "\n",
    "    print(f\"Train cv r^2: {train_r_2}, mae: {train_mae}, mse: {train_mse}\")\n",
    "    print(f\"OOS cv r^2: {oos_r_2}, mae: {oos_mae}, mse: {oos_mse}\")\n",
    "    print(\"-\"*30)"
   ]
  }
 ],
 "metadata": {
  "kernelspec": {
   "display_name": "drug-discovery-venv",
   "language": "python",
   "name": "python3"
  },
  "language_info": {
   "codemirror_mode": {
    "name": "ipython",
    "version": 3
   },
   "file_extension": ".py",
   "mimetype": "text/x-python",
   "name": "python",
   "nbconvert_exporter": "python",
   "pygments_lexer": "ipython3",
   "version": "3.11.9"
  }
 },
 "nbformat": 4,
 "nbformat_minor": 2
}
