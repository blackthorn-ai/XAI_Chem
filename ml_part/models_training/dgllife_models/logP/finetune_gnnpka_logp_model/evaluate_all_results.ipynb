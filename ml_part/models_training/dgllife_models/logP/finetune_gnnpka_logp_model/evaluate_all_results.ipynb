{
 "cells": [
  {
   "cell_type": "code",
   "execution_count": 1,
   "metadata": {},
   "outputs": [],
   "source": [
    "import os\n",
    "import pandas as pd\n",
    "\n",
    "csv_files_path = r'C:\\work\\DrugDiscovery\\main_git\\XAI_Chem\\data\\logP_lipophilicity_data\\hyperopt_results'\n",
    "\n",
    "csv_files = os.listdir(csv_files_path)"
   ]
  },
  {
   "cell_type": "code",
   "execution_count": 6,
   "metadata": {},
   "outputs": [
    {
     "name": "stdout",
     "output_type": "stream",
     "text": [
      "========== AttentiveFP_attentivefp_Lipophilicity_cv_result_05_04.csv ==========\n",
      "r^2: 0.8075000000000001, mse: 0.0615, mae: 0.1885\n",
      "\n",
      "========== AttentiveFP_canonical_Lipophilicity_cv_result_05_04.csv ==========\n",
      "r^2: 0.7815, mse: 0.06999999999999999, mae: 0.20400000000000001\n",
      "\n",
      "========== GAT_attentivefp_Lipophilicity_cv_result_05_04.csv ==========\n",
      "r^2: 0.8075000000000001, mse: 0.0615, mae: 0.1885\n",
      "\n",
      "========== GAT_canonical_Lipophilicity_cv_result_05_04.csv ==========\n",
      "r^2: 0.802, mse: 0.063, mae: 0.1915\n",
      "\n",
      "========== GCN_attentivefp_Lipophilicity_cv_result_05_04.csv ==========\n",
      "r^2: 0.8075000000000001, mse: 0.0615, mae: 0.1885\n",
      "\n",
      "========== GCN_canonical_Lipophilicity_cv_result_05_04.csv ==========\n",
      "r^2: 0.81, mse: 0.061, mae: 0.1905\n",
      "\n",
      "========== Weave_attentivefp_Lipophilicity_cv_result_05_04.csv ==========\n",
      "r^2: 0.7815, mse: 0.06999999999999999, mae: 0.20400000000000001\n",
      "\n",
      "========== Weave_canonical_Lipophilicity_cv_result_05_04.csv ==========\n",
      "r^2: 0.8075000000000001, mse: 0.0615, mae: 0.1885\n",
      "\n"
     ]
    }
   ],
   "source": [
    "for csv_file in csv_files:\n",
    "    csv_file_path = os.path.join(csv_files_path, csv_file)\n",
    "    \n",
    "    df = pd.read_csv(csv_file_path)\n",
    "\n",
    "    best_r_2, best_mse, best_mae = 0, 0, 0\n",
    "    params = None\n",
    "    best_row = None\n",
    "    for index, row in df.iterrows():\n",
    "        cv_r_2 = (row['cv_0_r^2'] + row['cv_1_r^2']) / 2.\n",
    "        cv_mse = (row['cv_0_mse'] + row['cv_1_mse']) / 2.\n",
    "        cv_mae = (row['cv_0_mae'] + row['cv_1_mae']) / 2.\n",
    "        if cv_r_2 > best_r_2:\n",
    "            best_r_2 = cv_r_2\n",
    "            params = row['params']\n",
    "            best_mse = cv_mse\n",
    "            best_mae = cv_mae\n",
    "    print(\"=\" * 10, csv_file, \"=\" * 10)\n",
    "    print(f\"r^2: {best_r_2}, mse: {best_mse}, mae: {best_mae}\\n\")"
   ]
  },
  {
   "cell_type": "code",
   "execution_count": null,
   "metadata": {},
   "outputs": [],
   "source": [
    "models_parameters = {\n",
    "    \"AttentiveFP_attentivefp_Lipophilicity\": {'lr': 0.0029101672237425774, 'train_type': 'predictor_and_readout', 'weight_decay': 0.00018636023749210836},\n",
    "    \"AttentiveFP_canonical_Lipophilicity\": {'lr': 0.002832830401590982, 'train_type': 'predictor_and_readout', 'weight_decay': 0.001210196427880566},\n",
    "    \"GAT_attentivefp_Lipophilicity\": {'lr': 0.0029101672237425774, 'train_type': 'predictor_and_readout', 'weight_decay': 0.00018636023749210836},\n",
    "    \"GAT_canonical_Lipophilicity\": {'lr': 0.00023860871587956466, 'train_type': 'predictor_and_readout', 'weight_decay': 9.193595481915895e-05},\n",
    "    \"GCN_attentivefp_Lipophilicity\": {'lr': 0.0029101672237425774, 'train_type': 'predictor_and_readout', 'weight_decay': 0.00018636023749210836},\n",
    "    \"GCN_canonical_Lipophilicity\": {'lr': 0.003555341652761401, 'train_type': 'only_predictor', 'weight_decay': 0.0003841453864617634},\n",
    "    \"Weave_attentivefp_Lipophilicity\": {'lr': 0.002832830401590982, 'train_type': 'predictor_and_readout', 'weight_decay': 0.001210196427880566},\n",
    "    \"Weave_canonical_Lipophilicity\": {'lr': 0.0029101672237425774, 'train_type': 'predictor_and_readout', 'weight_decay': 0.00018636023749210836},\n",
    "}"
   ]
  }
 ],
 "metadata": {
  "kernelspec": {
   "display_name": "drug-discovery-venv",
   "language": "python",
   "name": "python3"
  },
  "language_info": {
   "codemirror_mode": {
    "name": "ipython",
    "version": 3
   },
   "file_extension": ".py",
   "mimetype": "text/x-python",
   "name": "python",
   "nbconvert_exporter": "python",
   "pygments_lexer": "ipython3",
   "version": "3.11.9"
  }
 },
 "nbformat": 4,
 "nbformat_minor": 2
}
